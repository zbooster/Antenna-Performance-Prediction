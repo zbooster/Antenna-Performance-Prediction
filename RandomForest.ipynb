{
 "cells": [
  {
   "cell_type": "markdown",
   "metadata": {},
   "source": [
    "# 한글설정"
   ]
  },
  {
   "cell_type": "code",
   "execution_count": 7,
   "metadata": {},
   "outputs": [],
   "source": [
    "!apt-get install fonts-nanum* > /dev/null 2>&1\n",
    "!fc-cache -fv > /dev/null 2>&1"
   ]
  },
  {
   "cell_type": "code",
   "execution_count": 8,
   "metadata": {},
   "outputs": [],
   "source": [
    "import os\n",
    "import matplotlib as mpl\n",
    "\n",
    "file_dir = os.path.split(mpl.__file__)[0]\n",
    "font_dir = os.path.join(file_dir, 'mpl-data/fonts/ttf')\n",
    "!cp /usr/share/fonts/truetype/nanum/Nanum* {font_dir}\n",
    "!rm -rf ~/.cache/matplotlib/*"
   ]
  },
  {
   "cell_type": "markdown",
   "metadata": {},
   "source": [
    "> Runtime Restart"
   ]
  },
  {
   "cell_type": "code",
   "execution_count": 1,
   "metadata": {},
   "outputs": [],
   "source": [
    "import matplotlib.pyplot as plt\n",
    "import matplotlib as mpl\n",
    "mpl.rcParams['axes.unicode_minus'] = False\n",
    "plt.rc('font', family='NanumGothicCoding')"
   ]
  },
  {
   "cell_type": "markdown",
   "metadata": {},
   "source": [
    "# 데이터 가져오기"
   ]
  },
  {
   "cell_type": "code",
   "execution_count": 4,
   "metadata": {},
   "outputs": [
    {
     "name": "stderr",
     "output_type": "stream",
     "text": [
      "Downloading...\n",
      "From: https://drive.google.com/uc?id=10Hpa4YM0KX_Ig0W9w7DbTdq62nF2UThA\n",
      "To: /content/open.zip\n",
      "100% 10.0M/10.0M [00:01<00:00, 8.83MB/s]\n"
     ]
    }
   ],
   "source": [
    "import os\n",
    "import gdown\n",
    "\n",
    "id = \"10Hpa4YM0KX_Ig0W9w7DbTdq62nF2UThA\"\n",
    "output = \"./open.zip\"\n",
    "\n",
    "if not os.path.isdir('./datasets'):\n",
    "  gdown.download(id=id, output=output)\n",
    "  gdown.extractall(path=output, to='./datasets')"
   ]
  },
  {
   "cell_type": "markdown",
   "metadata": {},
   "source": [
    "# 데이터프레임 만들기"
   ]
  },
  {
   "cell_type": "code",
   "execution_count": 22,
   "metadata": {},
   "outputs": [],
   "source": [
    "import os\n",
    "import glob\n",
    "import pandas as pd\n",
    "from collections import defaultdict\n",
    "\n",
    "raw_data = defaultdict(pd.DataFrame)\n",
    "\n",
    "for fname in glob.glob('./**/*.csv', recursive=True):\n",
    "    df_name = os.path.splitext(os.path.basename(fname))[0]\n",
    "    raw_data[df_name] = pd.read_csv(fname)"
   ]
  },
  {
   "cell_type": "markdown",
   "metadata": {},
   "source": [
    "* 정상(Normal)과 불량(Error) 데이터 분리"
   ]
  },
  {
   "cell_type": "code",
   "execution_count": 23,
   "metadata": {},
   "outputs": [],
   "source": [
    "train = raw_data['train'].copy()\n",
    "train['Status'] = 'Normal'\n",
    "for idx, val in raw_data['y_feature_spec_info'].iterrows():\n",
    "    train.loc[(train[val['Feature']] < val['최소']) | (train[val['Feature']] > val['최대']), ['Status']] = 'Error'"
   ]
  },
  {
   "cell_type": "code",
   "execution_count": 24,
   "metadata": {},
   "outputs": [
    {
     "data": {
      "image/png": "[encoded data removed]",
      "text/plain": [
       "<Figure size 432x288 with 1 Axes>"
      ]
     },
     "metadata": {
      "needs_background": "light"
     },
     "output_type": "display_data"
    }
   ],
   "source": [
    "import seaborn as sns\n",
    "\n",
    "sns.countplot(x='Status', data=train)\n",
    "plt.title('불량 판정')\n",
    "plt.show()"
   ]
  },
  {
   "cell_type": "markdown",
   "metadata": {},
   "source": [
    "# 평가함수"
   ]
  },
  {
   "cell_type": "code",
   "execution_count": 59,
   "metadata": {},
   "outputs": [],
   "source": [
    "import numpy as np\n",
    "from sklearn import metrics\n",
    "\n",
    "# 데이콘에서 제공한 평가함수\n",
    "def lg_nrmse(gt, preds):\n",
    "    # 각 Y Feature별 NRMSE 총합\n",
    "    # Y_01 ~ Y_08 까지 20% 가중치 부여\n",
    "    # gt = gt.to_numpy()\n",
    "    all_nrmse = []\n",
    "    for idx in range(0,14): # ignore 'ID'\n",
    "        rmse = metrics.mean_squared_error(gt[:,idx], preds[:,idx], squared=False)\n",
    "        nrmse = rmse/np.mean(np.abs(gt[:,idx]))\n",
    "        all_nrmse.append(nrmse)\n",
    "    score = 1.2 * np.sum(all_nrmse[:8]) + 1.0 * np.sum(all_nrmse[8:14])\n",
    "    return score"
   ]
  },
  {
   "cell_type": "code",
   "execution_count": 56,
   "metadata": {},
   "outputs": [],
   "source": [
    "from sklearn.preprocessing import QuantileTransformer\n",
    "\n",
    "def apply_scaler(input, except_colnums=[]):\n",
    "  data = input.copy()\n",
    "\n",
    "  columns = list(data.filter(regex='X').columns)\n",
    "  for cname in except_colnums:\n",
    "    columns.remove(cname)\n",
    "\n",
    "  qt = QuantileTransformer(output_distribution=\"normal\")\n",
    "  for cname in columns:\n",
    "    data[cname] = qt.fit_transform(data[cname].values.reshape(-1, 1))\n",
    "\n",
    "  output = data.copy()\n",
    "  return output"
   ]
  },
  {
   "cell_type": "code",
   "execution_count": 27,
   "metadata": {},
   "outputs": [],
   "source": [
    "def get_outlier(df=None, column=None, weight=1.5, status='Error'):\n",
    "    fraud = df[df['Status'] == status][column]\n",
    "    quantile_25 = np.percentile(fraud.values, 25)\n",
    "    quantile_75 = np.percentile(fraud.values, 75)\n",
    "\n",
    "    iqr = quantile_75 - quantile_25\n",
    "    iqr_weight = iqr * weight\n",
    "    lowest_val = quantile_25 - iqr_weight\n",
    "    highest_val = quantile_75 + iqr_weight\n",
    "\n",
    "    outlier_index = fraud[(fraud < lowest_val) | (fraud > highest_val)].index\n",
    "\n",
    "    return outlier_index\n",
    "\n",
    "def remove_outlier(df, columns, status, weight, max_limit=40000):\n",
    "    outlier_list = []\n",
    "\n",
    "    for colname in columns: \n",
    "        outlier = get_outlier(df, colname, weight=weight, status=status)\n",
    "        if len(outlier) > max_limit:\n",
    "            continue\n",
    "        outlier_list.extend(outlier)\n",
    "\n",
    "    result = df.drop(outlier_list, axis=0).copy()\n",
    "\n",
    "    return result"
   ]
  },
  {
   "cell_type": "markdown",
   "metadata": {},
   "source": [
    "# 학습하기"
   ]
  },
  {
   "cell_type": "code",
   "execution_count": 82,
   "metadata": {},
   "outputs": [],
   "source": [
    "from sklearn.preprocessing import MinMaxScaler\n",
    "from sklearn.preprocessing import MaxAbsScaler\n",
    "from sklearn.preprocessing import StandardScaler\n",
    "from sklearn.preprocessing import RobustScaler\n",
    "from sklearn.preprocessing import Normalizer\n",
    "from sklearn.preprocessing import QuantileTransformer\n",
    "from sklearn.preprocessing import PowerTransformer\n",
    "\n",
    "scaler_list = [\n",
    "    ('Unscaled', None),\n",
    "    ('Standard', StandardScaler()),\n",
    "    ('Min-Max', MinMaxScaler()),\n",
    "    ('Min-Abs', MaxAbsScaler()),\n",
    "    ('Robust', RobustScaler(quantile_range=(25, 75))),\n",
    "    ('uniform pdf', QuantileTransformer(output_distribution=\"uniform\")),\n",
    "    ('gaussian pdf', QuantileTransformer(output_distribution=\"normal\")),\n",
    "    ('L2 normalizing', Normalizer())\n",
    "]"
   ]
  },
  {
   "cell_type": "code",
   "execution_count": 83,
   "metadata": {},
   "outputs": [],
   "source": [
    "import time\n",
    "from sklearn.model_selection import train_test_split\n",
    "from sklearn.pipeline import make_pipeline\n",
    "from sklearn.ensemble import RandomForestRegressor\n",
    "from sklearn.preprocessing import StandardScaler\n",
    "from sklearn.model_selection import KFold\n",
    "\n",
    "\n",
    "\n",
    "def run_train(scaler=None):\n",
    "\n",
    "  kf = KFold(shuffle=True, random_state=13)\n",
    "  loss = []\n",
    "  \n",
    "  # 데이터 나누기\n",
    "  X, y = train.filter(regex='X').values, train.filter(regex='Y').values\n",
    "  for train_index, test_index in kf.split(X):\n",
    "    since = time.time()\n",
    "    X_train, X_test = X[train_index], X[test_index]\n",
    "    y_train, y_test = y[train_index], y[test_index]\n",
    "\n",
    "    # 파이프라인 작성\n",
    "    pipe = make_pipeline( \n",
    "      scaler[1], \n",
    "      RandomForestRegressor(criterion=\"squared_error\", random_state=13, n_jobs=-1, n_estimators=200)\n",
    "    )\n",
    "\n",
    "    # 학습하기\n",
    "    pipe.fit(X_train, y_train)\n",
    "\n",
    "    # 검증하기\n",
    "    y_pred = pipe.predict(X_test)\n",
    "\n",
    "    # 평가 및 기록\n",
    "    elapsed = time.time() - since\n",
    "    result = lg_nrmse(y_test, y_pred)\n",
    "    print(\"Loss: {:.4f}, Elapsed Time: {:.2f}\".format(result, elapsed))\n",
    "    loss.append(result)\n",
    "  print(\"{}, Best: {:.4f}, Avg:{:.4f}\".format(scaler[0], min(loss), np.mean(loss)))\n",
    "\n",
    "  return pipe[1], result"
   ]
  },
  {
   "cell_type": "code",
   "execution_count": 86,
   "metadata": {},
   "outputs": [],
   "source": [
    "best_loss = 15\n",
    "\n",
    "for scaler in scaler_list:\n",
    "    model, result = run_train(scaler=scaler)\n",
    "    if result < best_loss:\n",
    "        best_loss = result\n",
    "        best_model = model\n",
    "        \n"
   ]
  },
  {
   "cell_type": "markdown",
   "metadata": {},
   "source": [
    "# 결과파일 작성"
   ]
  },
  {
   "cell_type": "code",
   "execution_count": null,
   "metadata": {},
   "outputs": [
    {
     "name": "stdout",
     "output_type": "stream",
     "text": [
      "Done.\n",
      "Done.\n",
      "Done.\n"
     ]
    }
   ],
   "source": [
    "def make_summit(model):\n",
    "  test = raw_data['test'].drop(columns=['ID']).copy()\n",
    "\n",
    "  test = apply_scaler(test)\n",
    "\n",
    "  preds = model.predict(test)\n",
    "  print('Done.')\n",
    "\n",
    "  submit = raw_data['sample_submission'].copy()\n",
    "  for idx, col in enumerate(submit.columns):\n",
    "    if col=='ID':\n",
    "        continue\n",
    "    submit[col] = preds[:,idx-1]\n",
    "  print('Done.')\n",
    "\n",
    "  submit.to_csv('/content/submit.csv', index=False)\n",
    "  print('Done.')\n",
    "\n",
    "make_summit(best_model)"
   ]
  }
 ],
 "metadata": {
  "kernelspec": {
   "display_name": "Python 3 (ipykernel)",
   "language": "python",
   "name": "python3"
  },
  "language_info": {
   "codemirror_mode": {
    "name": "ipython",
    "version": 3
   },
   "file_extension": ".py",
   "mimetype": "text/x-python",
   "name": "python",
   "nbconvert_exporter": "python",
   "pygments_lexer": "ipython3",
   "version": "3.9.12"
  },
  "orig_nbformat": 4
 },
 "nbformat": 4,
 "nbformat_minor": 2
}
