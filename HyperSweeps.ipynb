{
 "cells": [
  {
   "cell_type": "markdown",
   "metadata": {},
   "source": [
    "# 한글설정"
   ]
  },
  {
   "cell_type": "code",
   "execution_count": 1,
   "metadata": {},
   "outputs": [],
   "source": [
    "!apt-get install fonts-nanum* > /dev/null 2>&1\n",
    "!fc-cache -fv > /dev/null 2>&1"
   ]
  },
  {
   "cell_type": "code",
   "execution_count": 2,
   "metadata": {},
   "outputs": [],
   "source": [
    "import os\n",
    "import matplotlib as mpl\n",
    "\n",
    "file_dir = os.path.split(mpl.__file__)[0]\n",
    "font_dir = os.path.join(file_dir, 'mpl-data/fonts/ttf')\n",
    "!cp /usr/share/fonts/truetype/nanum/Nanum* {font_dir}\n",
    "!rm -rf ~/.cache/matplotlib/*"
   ]
  },
  {
   "cell_type": "markdown",
   "metadata": {},
   "source": [
    "> Runtime Restart"
   ]
  },
  {
   "cell_type": "code",
   "execution_count": 1,
   "metadata": {},
   "outputs": [],
   "source": [
    "import matplotlib.pyplot as plt\n",
    "import matplotlib as mpl\n",
    "mpl.rcParams['axes.unicode_minus'] = False\n",
    "plt.rc('font', family='NanumGothicCoding')"
   ]
  },
  {
   "cell_type": "markdown",
   "metadata": {},
   "source": [
    "# 데이터 가져오기"
   ]
  },
  {
   "cell_type": "code",
   "execution_count": 2,
   "metadata": {},
   "outputs": [],
   "source": [
    "import os\n",
    "import gdown\n",
    "\n",
    "id = \"10Hpa4YM0KX_Ig0W9w7DbTdq62nF2UThA\"\n",
    "output = \"./open.zip\"\n",
    "\n",
    "if not os.path.isdir('./datasets'):\n",
    "  gdown.download(id=id, output=output)\n",
    "  gdown.extractall(path=output, to='./datasets')"
   ]
  },
  {
   "cell_type": "markdown",
   "metadata": {},
   "source": [
    "# 데이터프레임 만들기"
   ]
  },
  {
   "cell_type": "code",
   "execution_count": 3,
   "metadata": {},
   "outputs": [],
   "source": [
    "import os\n",
    "import glob\n",
    "import pandas as pd\n",
    "from collections import defaultdict\n",
    "\n",
    "raw_data = defaultdict(pd.DataFrame)\n",
    "\n",
    "for fname in glob.glob('./**/*.csv', recursive=True):\n",
    "    df_name = os.path.splitext(os.path.basename(fname))[0]\n",
    "    raw_data[df_name] = pd.read_csv(fname)"
   ]
  },
  {
   "cell_type": "markdown",
   "metadata": {},
   "source": [
    "# Weights & Biases 설정"
   ]
  },
  {
   "cell_type": "code",
   "execution_count": 4,
   "metadata": {},
   "outputs": [
    {
     "name": "stderr",
     "output_type": "stream",
     "text": [
      "Failed to detect the name of this notebook, you can set it manually with the WANDB_NOTEBOOK_NAME environment variable to enable code saving.\n",
      "\u001b[34m\u001b[1mwandb\u001b[0m: Currently logged in as: \u001b[33mzbooster\u001b[0m. Use \u001b[1m`wandb login --relogin`\u001b[0m to force relogin\n"
     ]
    },
    {
     "data": {
      "text/plain": [
       "True"
      ]
     },
     "execution_count": 4,
     "metadata": {},
     "output_type": "execute_result"
    }
   ],
   "source": [
    "import wandb\n",
    "\n",
    "wandb.login()"
   ]
  },
  {
   "cell_type": "code",
   "execution_count": 5,
   "metadata": {},
   "outputs": [],
   "source": [
    "sweep_config = {\n",
    "    'method': 'bayes'\n",
    "}\n",
    "\n",
    "metric = {\n",
    "    'name': 'LG_NRMSE_MEAN',\n",
    "    'goal': 'minimize'\n",
    "}\n",
    "\n",
    "sweep_config['metric'] = metric\n",
    "\n",
    "parameters_dict = {\n",
    "    'n_estimators': {\n",
    "        'values': [ 200, 300, 400 ]\n",
    "    },\n",
    "    'max_depth': {\n",
    "        'values': [ 60, 80, 100, 120, 160]\n",
    "    },\n",
    "    'min_samples_split': {\n",
    "        'values': [ 2, 4, 6 ]\n",
    "    },\n",
    "    'min_samples_leaf': {\n",
    "        'values': [ 1, 2, 4 ]\n",
    "    },\n",
    "}\n",
    "\n",
    "sweep_config['parameters'] = parameters_dict"
   ]
  },
  {
   "cell_type": "code",
   "execution_count": 6,
   "metadata": {},
   "outputs": [
    {
     "name": "stdout",
     "output_type": "stream",
     "text": [
      "Create sweep with ID: 7snow94n\n",
      "Sweep URL: https://wandb.ai/zbooster/Antenna_Hyper-1/sweeps/7snow94n\n"
     ]
    }
   ],
   "source": [
    "sweep_id = wandb.sweep(sweep_config, project=\"Antenna_Hyper-1\")"
   ]
  },
  {
   "cell_type": "markdown",
   "metadata": {},
   "source": [
    "# Feature Engineering"
   ]
  },
  {
   "cell_type": "markdown",
   "metadata": {},
   "source": [
    "## Feature 정리\n",
    "* 결과에 영향을 주는 컬럼 29개만 선택"
   ]
  },
  {
   "cell_type": "code",
   "execution_count": 7,
   "metadata": {},
   "outputs": [],
   "source": [
    "columns = [ 'X_01', 'X_03', 'X_05', 'X_06', 'X_07', 'X_08', 'X_09', 'X_10'\n",
    "          , 'X_11', 'X_14', 'X_15', 'X_16', 'X_17', 'X_18', 'X_19', 'X_20'\n",
    "          , 'X_22', 'X_26', 'X_28', 'X_29'\n",
    "          , 'X_31', 'X_32', 'X_33', 'X_38'\n",
    "          , 'X_42', 'X_44', 'X_45', 'X_46', 'X_49']"
   ]
  },
  {
   "cell_type": "markdown",
   "metadata": {},
   "source": [
    "# 평가함수"
   ]
  },
  {
   "cell_type": "code",
   "execution_count": 8,
   "metadata": {},
   "outputs": [],
   "source": [
    "import numpy as np\n",
    "from sklearn import metrics\n",
    "\n",
    "# 데이콘에서 제공한 평가함수\n",
    "def lg_nrmse(gt, preds):\n",
    "    # 각 Y Feature별 NRMSE 총합\n",
    "    # Y_01 ~ Y_08 까지 20% 가중치 부여\n",
    "    # gt = gt.to_numpy()\n",
    "    all_nrmse = []\n",
    "    for idx in range(0,14): # ignore 'ID'\n",
    "        rmse = metrics.mean_squared_error(gt[:,idx], preds[:,idx], squared=False)\n",
    "        nrmse = rmse/np.mean(np.abs(gt[:,idx]))\n",
    "        all_nrmse.append(nrmse)\n",
    "    score = 1.2 * np.sum(all_nrmse[:8]) + 1.0 * np.sum(all_nrmse[8:14])\n",
    "    return score, all_nrmse"
   ]
  },
  {
   "cell_type": "markdown",
   "metadata": {},
   "source": [
    "# 학습하기"
   ]
  },
  {
   "cell_type": "code",
   "execution_count": 9,
   "metadata": {},
   "outputs": [],
   "source": [
    "from sklearn.preprocessing import MinMaxScaler\n",
    "from sklearn.preprocessing import MaxAbsScaler\n",
    "from sklearn.preprocessing import StandardScaler\n",
    "from sklearn.preprocessing import RobustScaler\n",
    "from sklearn.preprocessing import Normalizer\n",
    "from sklearn.preprocessing import QuantileTransformer\n",
    "from sklearn.preprocessing import PowerTransformer\n",
    "\n",
    "scaler_list = [\n",
    "    ('Unscaled', None),\n",
    "    ('Standard', StandardScaler()),\n",
    "    ('Min-Max', MinMaxScaler()),\n",
    "    ('Min-Abs', MaxAbsScaler()),\n",
    "    ('Robust', RobustScaler(quantile_range=(25, 75))),\n",
    "    ('uniform pdf', QuantileTransformer(output_distribution=\"uniform\")),\n",
    "    ('gaussian pdf', QuantileTransformer(output_distribution=\"normal\")),\n",
    "    ('L2 normalizing', Normalizer())\n",
    "]"
   ]
  },
  {
   "cell_type": "code",
   "execution_count": 10,
   "metadata": {},
   "outputs": [],
   "source": [
    "import time\n",
    "from sklearn.model_selection import train_test_split\n",
    "from sklearn.pipeline import make_pipeline\n",
    "from sklearn.ensemble import RandomForestRegressor\n",
    "from sklearn.model_selection import KFold\n",
    "from collections import defaultdict\n",
    "\n",
    "train = raw_data['train'].copy()\n",
    "\n",
    "def run_train(config=None):\n",
    "  with wandb.init(config=config):\n",
    "\n",
    "    config = wandb.config\n",
    "\n",
    "    kf = KFold(shuffle=True, random_state=13)\n",
    "    result = defaultdict(list)\n",
    "\n",
    "    # 데이터 나누기\n",
    "    X = train[columns].values\n",
    "    y = train.filter(regex='Y').values\n",
    "    for idx, (train_index, test_index) in enumerate(kf.split(X)):\n",
    "\n",
    "      X_train, X_test = X[train_index], X[test_index]\n",
    "      y_train, y_test = y[train_index], y[test_index]\n",
    "\n",
    "      # 파이프라인 작성\n",
    "      pipe = make_pipeline( \n",
    "        RandomForestRegressor(criterion=\"squared_error\", random_state=13, n_jobs=-1\n",
    "                            , n_estimators=config.n_estimators\n",
    "                            , max_depth=config.max_depth\n",
    "                            , min_samples_leaf=config.min_samples_leaf\n",
    "                            , min_samples_split=config.min_samples_split)\n",
    "      )\n",
    "\n",
    "      # 학습하기\n",
    "      pipe.fit(X_train, y_train)\n",
    "\n",
    "      # 검증하기\n",
    "      y_pred = pipe.predict(X_test)\n",
    "\n",
    "      # 평가 및 기록\n",
    "      score, all_nrmse = lg_nrmse(y_test, y_pred)\n",
    "      result['LG_NRMSE'].append(score)\n",
    "      for i, v in enumerate(all_nrmse):\n",
    "        result['Y_%02d_NRMSE' % (i+1)].append(v)\n",
    "    \n",
    "    log_dict = defaultdict(float)\n",
    "    log_dict['LG_NRMSE_MEAN'] = np.mean(result['LG_NRMSE'])\n",
    "    log_dict['LG_NRMSE_BEST'] = min(result['LG_NRMSE'])\n",
    "    for i in range(14):\n",
    "      log_dict['Y_%02d_NRMSE' % (i+1)] = np.mean(result['Y_%02d_NRMSE' % (i+1)])\n",
    "    wandb.log(log_dict)"
   ]
  },
  {
   "cell_type": "code",
   "execution_count": 11,
   "metadata": {},
   "outputs": [
    {
     "name": "stderr",
     "output_type": "stream",
     "text": [
      "\u001b[34m\u001b[1mwandb\u001b[0m: Agent Starting Run: 0efxfrzk with config:\n",
      "\u001b[34m\u001b[1mwandb\u001b[0m: \tmax_depth: 120\n",
      "\u001b[34m\u001b[1mwandb\u001b[0m: \tmin_samples_leaf: 1\n",
      "\u001b[34m\u001b[1mwandb\u001b[0m: \tmin_samples_split: 2\n",
      "\u001b[34m\u001b[1mwandb\u001b[0m: \tn_estimators: 300\n",
      "Failed to detect the name of this notebook, you can set it manually with the WANDB_NOTEBOOK_NAME environment variable to enable code saving.\n"
     ]
    },
    {
     "data": {
      "text/html": [
       "Tracking run with wandb version 0.13.1"
      ],
      "text/plain": [
       "<IPython.core.display.HTML object>"
      ]
     },
     "metadata": {},
     "output_type": "display_data"
    },
    {
     "data": {
      "text/html": [
       "Run data is saved locally in <code>/content/Antenna-Performance-Prediction/wandb/run-20220816_101525-0efxfrzk</code>"
      ],
      "text/plain": [
       "<IPython.core.display.HTML object>"
      ]
     },
     "metadata": {},
     "output_type": "display_data"
    },
    {
     "data": {
      "text/html": [
       "Syncing run <strong><a href=\"https://wandb.ai/zbooster/Antenna_Hyper-1/runs/0efxfrzk\" target=\"_blank\">hardy-sweep-1</a></strong> to <a href=\"https://wandb.ai/zbooster/Antenna_Hyper-1\" target=\"_blank\">Weights & Biases</a> (<a href=\"https://wandb.me/run\" target=\"_blank\">docs</a>)<br/>Sweep page:  <a href=\"https://wandb.ai/zbooster/Antenna_Hyper-1/sweeps/7snow94n\" target=\"_blank\">https://wandb.ai/zbooster/Antenna_Hyper-1/sweeps/7snow94n</a>"
      ],
      "text/plain": [
       "<IPython.core.display.HTML object>"
      ]
     },
     "metadata": {},
     "output_type": "display_data"
    },
    {
     "data": {
      "text/html": [
       "Waiting for W&B process to finish... <strong style=\"color:green\">(success).</strong>"
      ],
      "text/plain": [
       "<IPython.core.display.HTML object>"
      ]
     },
     "metadata": {},
     "output_type": "display_data"
    },
    {
     "data": {
      "application/vnd.jupyter.widget-view+json": {
       "model_id": "328f5696236f4154ab8601282d432c83",
       "version_major": 2,
       "version_minor": 0
      },
      "text/plain": [
       "VBox(children=(Label(value='0.001 MB of 0.001 MB uploaded (0.000 MB deduped)\\r'), FloatProgress(value=1.0, max…"
      ]
     },
     "metadata": {},
     "output_type": "display_data"
    },
    {
     "data": {
      "text/html": [
       "<style>\n",
       "    table.wandb td:nth-child(1) { padding: 0 10px; text-align: left ; width: auto;} td:nth-child(2) {text-align: left ; width: 100%}\n",
       "    .wandb-row { display: flex; flex-direction: row; flex-wrap: wrap; justify-content: flex-start; width: 100% }\n",
       "    .wandb-col { display: flex; flex-direction: column; flex-basis: 100%; flex: 1; padding: 10px; }\n",
       "    </style>\n",
       "<div class=\"wandb-row\"><div class=\"wandb-col\"><h3>Run history:</h3><br/><table class=\"wandb\"><tr><td>LG_NRMSE_BEST</td><td>▁</td></tr><tr><td>LG_NRMSE_MEAN</td><td>▁</td></tr><tr><td>Y_01_NRMSE</td><td>▁</td></tr><tr><td>Y_02_NRMSE</td><td>▁</td></tr><tr><td>Y_03_NRMSE</td><td>▁</td></tr><tr><td>Y_04_NRMSE</td><td>▁</td></tr><tr><td>Y_05_NRMSE</td><td>▁</td></tr><tr><td>Y_06_NRMSE</td><td>▁</td></tr><tr><td>Y_07_NRMSE</td><td>▁</td></tr><tr><td>Y_08_NRMSE</td><td>▁</td></tr><tr><td>Y_09_NRMSE</td><td>▁</td></tr><tr><td>Y_10_NRMSE</td><td>▁</td></tr><tr><td>Y_11_NRMSE</td><td>▁</td></tr><tr><td>Y_12_NRMSE</td><td>▁</td></tr><tr><td>Y_13_NRMSE</td><td>▁</td></tr><tr><td>Y_14_NRMSE</td><td>▁</td></tr></table><br/></div><div class=\"wandb-col\"><h3>Run summary:</h3><br/><table class=\"wandb\"><tr><td>LG_NRMSE_BEST</td><td>1.9316</td></tr><tr><td>LG_NRMSE_MEAN</td><td>1.94754</td></tr><tr><td>Y_01_NRMSE</td><td>0.25589</td></tr><tr><td>Y_02_NRMSE</td><td>0.35598</td></tr><tr><td>Y_03_NRMSE</td><td>0.34872</td></tr><tr><td>Y_04_NRMSE</td><td>0.18874</td></tr><tr><td>Y_05_NRMSE</td><td>0.07917</td></tr><tr><td>Y_06_NRMSE</td><td>0.10358</td></tr><tr><td>Y_07_NRMSE</td><td>0.12879</td></tr><tr><td>Y_08_NRMSE</td><td>0.02379</td></tr><tr><td>Y_09_NRMSE</td><td>0.0236</td></tr><tr><td>Y_10_NRMSE</td><td>0.03802</td></tr><tr><td>Y_11_NRMSE</td><td>0.03316</td></tr><tr><td>Y_12_NRMSE</td><td>0.02374</td></tr><tr><td>Y_13_NRMSE</td><td>0.02369</td></tr><tr><td>Y_14_NRMSE</td><td>0.02373</td></tr></table><br/></div></div>"
      ],
      "text/plain": [
       "<IPython.core.display.HTML object>"
      ]
     },
     "metadata": {},
     "output_type": "display_data"
    },
    {
     "data": {
      "text/html": [
       "Synced <strong style=\"color:#cdcd00\">hardy-sweep-1</strong>: <a href=\"https://wandb.ai/zbooster/Antenna_Hyper-1/runs/0efxfrzk\" target=\"_blank\">https://wandb.ai/zbooster/Antenna_Hyper-1/runs/0efxfrzk</a><br/>Synced 5 W&B file(s), 0 media file(s), 0 artifact file(s) and 0 other file(s)"
      ],
      "text/plain": [
       "<IPython.core.display.HTML object>"
      ]
     },
     "metadata": {},
     "output_type": "display_data"
    },
    {
     "data": {
      "text/html": [
       "Find logs at: <code>./wandb/run-20220816_101525-0efxfrzk/logs</code>"
      ],
      "text/plain": [
       "<IPython.core.display.HTML object>"
      ]
     },
     "metadata": {},
     "output_type": "display_data"
    },
    {
     "name": "stderr",
     "output_type": "stream",
     "text": [
      "\u001b[34m\u001b[1mwandb\u001b[0m: Agent Starting Run: d93mohdw with config:\n",
      "\u001b[34m\u001b[1mwandb\u001b[0m: \tmax_depth: 100\n",
      "\u001b[34m\u001b[1mwandb\u001b[0m: \tmin_samples_leaf: 2\n",
      "\u001b[34m\u001b[1mwandb\u001b[0m: \tmin_samples_split: 4\n",
      "\u001b[34m\u001b[1mwandb\u001b[0m: \tn_estimators: 200\n",
      "Failed to detect the name of this notebook, you can set it manually with the WANDB_NOTEBOOK_NAME environment variable to enable code saving.\n"
     ]
    },
    {
     "data": {
      "text/html": [
       "Tracking run with wandb version 0.13.1"
      ],
      "text/plain": [
       "<IPython.core.display.HTML object>"
      ]
     },
     "metadata": {},
     "output_type": "display_data"
    },
    {
     "data": {
      "text/html": [
       "Run data is saved locally in <code>/content/Antenna-Performance-Prediction/wandb/run-20220816_101958-d93mohdw</code>"
      ],
      "text/plain": [
       "<IPython.core.display.HTML object>"
      ]
     },
     "metadata": {},
     "output_type": "display_data"
    },
    {
     "data": {
      "text/html": [
       "Syncing run <strong><a href=\"https://wandb.ai/zbooster/Antenna_Hyper-1/runs/d93mohdw\" target=\"_blank\">misunderstood-sweep-2</a></strong> to <a href=\"https://wandb.ai/zbooster/Antenna_Hyper-1\" target=\"_blank\">Weights & Biases</a> (<a href=\"https://wandb.me/run\" target=\"_blank\">docs</a>)<br/>Sweep page:  <a href=\"https://wandb.ai/zbooster/Antenna_Hyper-1/sweeps/7snow94n\" target=\"_blank\">https://wandb.ai/zbooster/Antenna_Hyper-1/sweeps/7snow94n</a>"
      ],
      "text/plain": [
       "<IPython.core.display.HTML object>"
      ]
     },
     "metadata": {},
     "output_type": "display_data"
    },
    {
     "data": {
      "text/html": [
       "Waiting for W&B process to finish... <strong style=\"color:green\">(success).</strong>"
      ],
      "text/plain": [
       "<IPython.core.display.HTML object>"
      ]
     },
     "metadata": {},
     "output_type": "display_data"
    },
    {
     "data": {
      "application/vnd.jupyter.widget-view+json": {
       "model_id": "bab3f35bb85d47adb1bcb349c5932b95",
       "version_major": 2,
       "version_minor": 0
      },
      "text/plain": [
       "VBox(children=(Label(value='0.001 MB of 0.001 MB uploaded (0.000 MB deduped)\\r'), FloatProgress(value=1.0, max…"
      ]
     },
     "metadata": {},
     "output_type": "display_data"
    },
    {
     "data": {
      "text/html": [
       "<style>\n",
       "    table.wandb td:nth-child(1) { padding: 0 10px; text-align: left ; width: auto;} td:nth-child(2) {text-align: left ; width: 100%}\n",
       "    .wandb-row { display: flex; flex-direction: row; flex-wrap: wrap; justify-content: flex-start; width: 100% }\n",
       "    .wandb-col { display: flex; flex-direction: column; flex-basis: 100%; flex: 1; padding: 10px; }\n",
       "    </style>\n",
       "<div class=\"wandb-row\"><div class=\"wandb-col\"><h3>Run history:</h3><br/><table class=\"wandb\"><tr><td>LG_NRMSE_BEST</td><td>▁</td></tr><tr><td>LG_NRMSE_MEAN</td><td>▁</td></tr><tr><td>Y_01_NRMSE</td><td>▁</td></tr><tr><td>Y_02_NRMSE</td><td>▁</td></tr><tr><td>Y_03_NRMSE</td><td>▁</td></tr><tr><td>Y_04_NRMSE</td><td>▁</td></tr><tr><td>Y_05_NRMSE</td><td>▁</td></tr><tr><td>Y_06_NRMSE</td><td>▁</td></tr><tr><td>Y_07_NRMSE</td><td>▁</td></tr><tr><td>Y_08_NRMSE</td><td>▁</td></tr><tr><td>Y_09_NRMSE</td><td>▁</td></tr><tr><td>Y_10_NRMSE</td><td>▁</td></tr><tr><td>Y_11_NRMSE</td><td>▁</td></tr><tr><td>Y_12_NRMSE</td><td>▁</td></tr><tr><td>Y_13_NRMSE</td><td>▁</td></tr><tr><td>Y_14_NRMSE</td><td>▁</td></tr></table><br/></div><div class=\"wandb-col\"><h3>Run summary:</h3><br/><table class=\"wandb\"><tr><td>LG_NRMSE_BEST</td><td>1.93202</td></tr><tr><td>LG_NRMSE_MEAN</td><td>1.94803</td></tr><tr><td>Y_01_NRMSE</td><td>0.25605</td></tr><tr><td>Y_02_NRMSE</td><td>0.35631</td></tr><tr><td>Y_03_NRMSE</td><td>0.34913</td></tr><tr><td>Y_04_NRMSE</td><td>0.18879</td></tr><tr><td>Y_05_NRMSE</td><td>0.07912</td></tr><tr><td>Y_06_NRMSE</td><td>0.10322</td></tr><tr><td>Y_07_NRMSE</td><td>0.12882</td></tr><tr><td>Y_08_NRMSE</td><td>0.02377</td></tr><tr><td>Y_09_NRMSE</td><td>0.02358</td></tr><tr><td>Y_10_NRMSE</td><td>0.03797</td></tr><tr><td>Y_11_NRMSE</td><td>0.03313</td></tr><tr><td>Y_12_NRMSE</td><td>0.02372</td></tr><tr><td>Y_13_NRMSE</td><td>0.02367</td></tr><tr><td>Y_14_NRMSE</td><td>0.02371</td></tr></table><br/></div></div>"
      ],
      "text/plain": [
       "<IPython.core.display.HTML object>"
      ]
     },
     "metadata": {},
     "output_type": "display_data"
    },
    {
     "data": {
      "text/html": [
       "Synced <strong style=\"color:#cdcd00\">misunderstood-sweep-2</strong>: <a href=\"https://wandb.ai/zbooster/Antenna_Hyper-1/runs/d93mohdw\" target=\"_blank\">https://wandb.ai/zbooster/Antenna_Hyper-1/runs/d93mohdw</a><br/>Synced 5 W&B file(s), 0 media file(s), 0 artifact file(s) and 0 other file(s)"
      ],
      "text/plain": [
       "<IPython.core.display.HTML object>"
      ]
     },
     "metadata": {},
     "output_type": "display_data"
    },
    {
     "data": {
      "text/html": [
       "Find logs at: <code>./wandb/run-20220816_101958-d93mohdw/logs</code>"
      ],
      "text/plain": [
       "<IPython.core.display.HTML object>"
      ]
     },
     "metadata": {},
     "output_type": "display_data"
    },
    {
     "name": "stderr",
     "output_type": "stream",
     "text": [
      "\u001b[34m\u001b[1mwandb\u001b[0m: Agent Starting Run: 8e12fy3q with config:\n",
      "\u001b[34m\u001b[1mwandb\u001b[0m: \tmax_depth: 120\n",
      "\u001b[34m\u001b[1mwandb\u001b[0m: \tmin_samples_leaf: 1\n",
      "\u001b[34m\u001b[1mwandb\u001b[0m: \tmin_samples_split: 2\n",
      "\u001b[34m\u001b[1mwandb\u001b[0m: \tn_estimators: 400\n",
      "Failed to detect the name of this notebook, you can set it manually with the WANDB_NOTEBOOK_NAME environment variable to enable code saving.\n"
     ]
    },
    {
     "data": {
      "text/html": [
       "Tracking run with wandb version 0.13.1"
      ],
      "text/plain": [
       "<IPython.core.display.HTML object>"
      ]
     },
     "metadata": {},
     "output_type": "display_data"
    },
    {
     "data": {
      "text/html": [
       "Run data is saved locally in <code>/content/Antenna-Performance-Prediction/wandb/run-20220816_102240-8e12fy3q</code>"
      ],
      "text/plain": [
       "<IPython.core.display.HTML object>"
      ]
     },
     "metadata": {},
     "output_type": "display_data"
    },
    {
     "data": {
      "text/html": [
       "Syncing run <strong><a href=\"https://wandb.ai/zbooster/Antenna_Hyper-1/runs/8e12fy3q\" target=\"_blank\">astral-sweep-3</a></strong> to <a href=\"https://wandb.ai/zbooster/Antenna_Hyper-1\" target=\"_blank\">Weights & Biases</a> (<a href=\"https://wandb.me/run\" target=\"_blank\">docs</a>)<br/>Sweep page:  <a href=\"https://wandb.ai/zbooster/Antenna_Hyper-1/sweeps/7snow94n\" target=\"_blank\">https://wandb.ai/zbooster/Antenna_Hyper-1/sweeps/7snow94n</a>"
      ],
      "text/plain": [
       "<IPython.core.display.HTML object>"
      ]
     },
     "metadata": {},
     "output_type": "display_data"
    },
    {
     "data": {
      "text/html": [
       "Waiting for W&B process to finish... <strong style=\"color:green\">(success).</strong>"
      ],
      "text/plain": [
       "<IPython.core.display.HTML object>"
      ]
     },
     "metadata": {},
     "output_type": "display_data"
    },
    {
     "data": {
      "application/vnd.jupyter.widget-view+json": {
       "model_id": "6e71dc34a7b54374a9d298c07d4362b8",
       "version_major": 2,
       "version_minor": 0
      },
      "text/plain": [
       "VBox(children=(Label(value='0.001 MB of 0.001 MB uploaded (0.000 MB deduped)\\r'), FloatProgress(value=1.0, max…"
      ]
     },
     "metadata": {},
     "output_type": "display_data"
    },
    {
     "data": {
      "text/html": [
       "<style>\n",
       "    table.wandb td:nth-child(1) { padding: 0 10px; text-align: left ; width: auto;} td:nth-child(2) {text-align: left ; width: 100%}\n",
       "    .wandb-row { display: flex; flex-direction: row; flex-wrap: wrap; justify-content: flex-start; width: 100% }\n",
       "    .wandb-col { display: flex; flex-direction: column; flex-basis: 100%; flex: 1; padding: 10px; }\n",
       "    </style>\n",
       "<div class=\"wandb-row\"><div class=\"wandb-col\"><h3>Run history:</h3><br/><table class=\"wandb\"><tr><td>LG_NRMSE_BEST</td><td>▁</td></tr><tr><td>LG_NRMSE_MEAN</td><td>▁</td></tr><tr><td>Y_01_NRMSE</td><td>▁</td></tr><tr><td>Y_02_NRMSE</td><td>▁</td></tr><tr><td>Y_03_NRMSE</td><td>▁</td></tr><tr><td>Y_04_NRMSE</td><td>▁</td></tr><tr><td>Y_05_NRMSE</td><td>▁</td></tr><tr><td>Y_06_NRMSE</td><td>▁</td></tr><tr><td>Y_07_NRMSE</td><td>▁</td></tr><tr><td>Y_08_NRMSE</td><td>▁</td></tr><tr><td>Y_09_NRMSE</td><td>▁</td></tr><tr><td>Y_10_NRMSE</td><td>▁</td></tr><tr><td>Y_11_NRMSE</td><td>▁</td></tr><tr><td>Y_12_NRMSE</td><td>▁</td></tr><tr><td>Y_13_NRMSE</td><td>▁</td></tr><tr><td>Y_14_NRMSE</td><td>▁</td></tr></table><br/></div><div class=\"wandb-col\"><h3>Run summary:</h3><br/><table class=\"wandb\"><tr><td>LG_NRMSE_BEST</td><td>1.9313</td></tr><tr><td>LG_NRMSE_MEAN</td><td>1.94673</td></tr><tr><td>Y_01_NRMSE</td><td>0.25578</td></tr><tr><td>Y_02_NRMSE</td><td>0.35588</td></tr><tr><td>Y_03_NRMSE</td><td>0.34858</td></tr><tr><td>Y_04_NRMSE</td><td>0.18868</td></tr><tr><td>Y_05_NRMSE</td><td>0.07915</td></tr><tr><td>Y_06_NRMSE</td><td>0.10345</td></tr><tr><td>Y_07_NRMSE</td><td>0.12875</td></tr><tr><td>Y_08_NRMSE</td><td>0.02378</td></tr><tr><td>Y_09_NRMSE</td><td>0.02359</td></tr><tr><td>Y_10_NRMSE</td><td>0.038</td></tr><tr><td>Y_11_NRMSE</td><td>0.03315</td></tr><tr><td>Y_12_NRMSE</td><td>0.02373</td></tr><tr><td>Y_13_NRMSE</td><td>0.02368</td></tr><tr><td>Y_14_NRMSE</td><td>0.02372</td></tr></table><br/></div></div>"
      ],
      "text/plain": [
       "<IPython.core.display.HTML object>"
      ]
     },
     "metadata": {},
     "output_type": "display_data"
    },
    {
     "data": {
      "text/html": [
       "Synced <strong style=\"color:#cdcd00\">astral-sweep-3</strong>: <a href=\"https://wandb.ai/zbooster/Antenna_Hyper-1/runs/8e12fy3q\" target=\"_blank\">https://wandb.ai/zbooster/Antenna_Hyper-1/runs/8e12fy3q</a><br/>Synced 5 W&B file(s), 0 media file(s), 0 artifact file(s) and 0 other file(s)"
      ],
      "text/plain": [
       "<IPython.core.display.HTML object>"
      ]
     },
     "metadata": {},
     "output_type": "display_data"
    },
    {
     "data": {
      "text/html": [
       "Find logs at: <code>./wandb/run-20220816_102240-8e12fy3q/logs</code>"
      ],
      "text/plain": [
       "<IPython.core.display.HTML object>"
      ]
     },
     "metadata": {},
     "output_type": "display_data"
    },
    {
     "name": "stderr",
     "output_type": "stream",
     "text": [
      "\u001b[34m\u001b[1mwandb\u001b[0m: Agent Starting Run: pht7z8p3 with config:\n",
      "\u001b[34m\u001b[1mwandb\u001b[0m: \tmax_depth: 80\n",
      "\u001b[34m\u001b[1mwandb\u001b[0m: \tmin_samples_leaf: 2\n",
      "\u001b[34m\u001b[1mwandb\u001b[0m: \tmin_samples_split: 2\n",
      "\u001b[34m\u001b[1mwandb\u001b[0m: \tn_estimators: 300\n",
      "Failed to detect the name of this notebook, you can set it manually with the WANDB_NOTEBOOK_NAME environment variable to enable code saving.\n"
     ]
    },
    {
     "data": {
      "text/html": [
       "Tracking run with wandb version 0.13.1"
      ],
      "text/plain": [
       "<IPython.core.display.HTML object>"
      ]
     },
     "metadata": {},
     "output_type": "display_data"
    },
    {
     "data": {
      "text/html": [
       "Run data is saved locally in <code>/content/Antenna-Performance-Prediction/wandb/run-20220816_102831-pht7z8p3</code>"
      ],
      "text/plain": [
       "<IPython.core.display.HTML object>"
      ]
     },
     "metadata": {},
     "output_type": "display_data"
    },
    {
     "data": {
      "text/html": [
       "Syncing run <strong><a href=\"https://wandb.ai/zbooster/Antenna_Hyper-1/runs/pht7z8p3\" target=\"_blank\">devout-sweep-4</a></strong> to <a href=\"https://wandb.ai/zbooster/Antenna_Hyper-1\" target=\"_blank\">Weights & Biases</a> (<a href=\"https://wandb.me/run\" target=\"_blank\">docs</a>)<br/>Sweep page:  <a href=\"https://wandb.ai/zbooster/Antenna_Hyper-1/sweeps/7snow94n\" target=\"_blank\">https://wandb.ai/zbooster/Antenna_Hyper-1/sweeps/7snow94n</a>"
      ],
      "text/plain": [
       "<IPython.core.display.HTML object>"
      ]
     },
     "metadata": {},
     "output_type": "display_data"
    },
    {
     "data": {
      "text/html": [
       "Waiting for W&B process to finish... <strong style=\"color:green\">(success).</strong>"
      ],
      "text/plain": [
       "<IPython.core.display.HTML object>"
      ]
     },
     "metadata": {},
     "output_type": "display_data"
    },
    {
     "data": {
      "application/vnd.jupyter.widget-view+json": {
       "model_id": "26a1255117c546c69fbf3ae82ef4a8c7",
       "version_major": 2,
       "version_minor": 0
      },
      "text/plain": [
       "VBox(children=(Label(value='0.001 MB of 0.001 MB uploaded (0.000 MB deduped)\\r'), FloatProgress(value=1.0, max…"
      ]
     },
     "metadata": {},
     "output_type": "display_data"
    },
    {
     "data": {
      "text/html": [
       "<style>\n",
       "    table.wandb td:nth-child(1) { padding: 0 10px; text-align: left ; width: auto;} td:nth-child(2) {text-align: left ; width: 100%}\n",
       "    .wandb-row { display: flex; flex-direction: row; flex-wrap: wrap; justify-content: flex-start; width: 100% }\n",
       "    .wandb-col { display: flex; flex-direction: column; flex-basis: 100%; flex: 1; padding: 10px; }\n",
       "    </style>\n",
       "<div class=\"wandb-row\"><div class=\"wandb-col\"><h3>Run history:</h3><br/><table class=\"wandb\"><tr><td>LG_NRMSE_BEST</td><td>▁</td></tr><tr><td>LG_NRMSE_MEAN</td><td>▁</td></tr><tr><td>Y_01_NRMSE</td><td>▁</td></tr><tr><td>Y_02_NRMSE</td><td>▁</td></tr><tr><td>Y_03_NRMSE</td><td>▁</td></tr><tr><td>Y_04_NRMSE</td><td>▁</td></tr><tr><td>Y_05_NRMSE</td><td>▁</td></tr><tr><td>Y_06_NRMSE</td><td>▁</td></tr><tr><td>Y_07_NRMSE</td><td>▁</td></tr><tr><td>Y_08_NRMSE</td><td>▁</td></tr><tr><td>Y_09_NRMSE</td><td>▁</td></tr><tr><td>Y_10_NRMSE</td><td>▁</td></tr><tr><td>Y_11_NRMSE</td><td>▁</td></tr><tr><td>Y_12_NRMSE</td><td>▁</td></tr><tr><td>Y_13_NRMSE</td><td>▁</td></tr><tr><td>Y_14_NRMSE</td><td>▁</td></tr></table><br/></div><div class=\"wandb-col\"><h3>Run summary:</h3><br/><table class=\"wandb\"><tr><td>LG_NRMSE_BEST</td><td>1.93068</td></tr><tr><td>LG_NRMSE_MEAN</td><td>1.94697</td></tr><tr><td>Y_01_NRMSE</td><td>0.25596</td></tr><tr><td>Y_02_NRMSE</td><td>0.35613</td></tr><tr><td>Y_03_NRMSE</td><td>0.34897</td></tr><tr><td>Y_04_NRMSE</td><td>0.18867</td></tr><tr><td>Y_05_NRMSE</td><td>0.07908</td></tr><tr><td>Y_06_NRMSE</td><td>0.1031</td></tr><tr><td>Y_07_NRMSE</td><td>0.12873</td></tr><tr><td>Y_08_NRMSE</td><td>0.02375</td></tr><tr><td>Y_09_NRMSE</td><td>0.02357</td></tr><tr><td>Y_10_NRMSE</td><td>0.03795</td></tr><tr><td>Y_11_NRMSE</td><td>0.03311</td></tr><tr><td>Y_12_NRMSE</td><td>0.02371</td></tr><tr><td>Y_13_NRMSE</td><td>0.02365</td></tr><tr><td>Y_14_NRMSE</td><td>0.0237</td></tr></table><br/></div></div>"
      ],
      "text/plain": [
       "<IPython.core.display.HTML object>"
      ]
     },
     "metadata": {},
     "output_type": "display_data"
    },
    {
     "data": {
      "text/html": [
       "Synced <strong style=\"color:#cdcd00\">devout-sweep-4</strong>: <a href=\"https://wandb.ai/zbooster/Antenna_Hyper-1/runs/pht7z8p3\" target=\"_blank\">https://wandb.ai/zbooster/Antenna_Hyper-1/runs/pht7z8p3</a><br/>Synced 5 W&B file(s), 0 media file(s), 0 artifact file(s) and 0 other file(s)"
      ],
      "text/plain": [
       "<IPython.core.display.HTML object>"
      ]
     },
     "metadata": {},
     "output_type": "display_data"
    },
    {
     "data": {
      "text/html": [
       "Find logs at: <code>./wandb/run-20220816_102831-pht7z8p3/logs</code>"
      ],
      "text/plain": [
       "<IPython.core.display.HTML object>"
      ]
     },
     "metadata": {},
     "output_type": "display_data"
    },
    {
     "name": "stderr",
     "output_type": "stream",
     "text": [
      "\u001b[34m\u001b[1mwandb\u001b[0m: Agent Starting Run: x04h8imp with config:\n",
      "\u001b[34m\u001b[1mwandb\u001b[0m: \tmax_depth: 80\n",
      "\u001b[34m\u001b[1mwandb\u001b[0m: \tmin_samples_leaf: 2\n",
      "\u001b[34m\u001b[1mwandb\u001b[0m: \tmin_samples_split: 2\n",
      "\u001b[34m\u001b[1mwandb\u001b[0m: \tn_estimators: 400\n",
      "Failed to detect the name of this notebook, you can set it manually with the WANDB_NOTEBOOK_NAME environment variable to enable code saving.\n"
     ]
    },
    {
     "data": {
      "text/html": [
       "Tracking run with wandb version 0.13.1"
      ],
      "text/plain": [
       "<IPython.core.display.HTML object>"
      ]
     },
     "metadata": {},
     "output_type": "display_data"
    },
    {
     "data": {
      "text/html": [
       "Run data is saved locally in <code>/content/Antenna-Performance-Prediction/wandb/run-20220816_103237-x04h8imp</code>"
      ],
      "text/plain": [
       "<IPython.core.display.HTML object>"
      ]
     },
     "metadata": {},
     "output_type": "display_data"
    },
    {
     "data": {
      "text/html": [
       "Syncing run <strong><a href=\"https://wandb.ai/zbooster/Antenna_Hyper-1/runs/x04h8imp\" target=\"_blank\">eager-sweep-5</a></strong> to <a href=\"https://wandb.ai/zbooster/Antenna_Hyper-1\" target=\"_blank\">Weights & Biases</a> (<a href=\"https://wandb.me/run\" target=\"_blank\">docs</a>)<br/>Sweep page:  <a href=\"https://wandb.ai/zbooster/Antenna_Hyper-1/sweeps/7snow94n\" target=\"_blank\">https://wandb.ai/zbooster/Antenna_Hyper-1/sweeps/7snow94n</a>"
      ],
      "text/plain": [
       "<IPython.core.display.HTML object>"
      ]
     },
     "metadata": {},
     "output_type": "display_data"
    },
    {
     "data": {
      "text/html": [
       "Waiting for W&B process to finish... <strong style=\"color:green\">(success).</strong>"
      ],
      "text/plain": [
       "<IPython.core.display.HTML object>"
      ]
     },
     "metadata": {},
     "output_type": "display_data"
    },
    {
     "data": {
      "application/vnd.jupyter.widget-view+json": {
       "model_id": "95cb733f88d94b36b5d0e8ca5da57c33",
       "version_major": 2,
       "version_minor": 0
      },
      "text/plain": [
       "VBox(children=(Label(value='0.001 MB of 0.001 MB uploaded (0.000 MB deduped)\\r'), FloatProgress(value=1.0, max…"
      ]
     },
     "metadata": {},
     "output_type": "display_data"
    },
    {
     "data": {
      "text/html": [
       "<style>\n",
       "    table.wandb td:nth-child(1) { padding: 0 10px; text-align: left ; width: auto;} td:nth-child(2) {text-align: left ; width: 100%}\n",
       "    .wandb-row { display: flex; flex-direction: row; flex-wrap: wrap; justify-content: flex-start; width: 100% }\n",
       "    .wandb-col { display: flex; flex-direction: column; flex-basis: 100%; flex: 1; padding: 10px; }\n",
       "    </style>\n",
       "<div class=\"wandb-row\"><div class=\"wandb-col\"><h3>Run history:</h3><br/><table class=\"wandb\"><tr><td>LG_NRMSE_BEST</td><td>▁</td></tr><tr><td>LG_NRMSE_MEAN</td><td>▁</td></tr><tr><td>Y_01_NRMSE</td><td>▁</td></tr><tr><td>Y_02_NRMSE</td><td>▁</td></tr><tr><td>Y_03_NRMSE</td><td>▁</td></tr><tr><td>Y_04_NRMSE</td><td>▁</td></tr><tr><td>Y_05_NRMSE</td><td>▁</td></tr><tr><td>Y_06_NRMSE</td><td>▁</td></tr><tr><td>Y_07_NRMSE</td><td>▁</td></tr><tr><td>Y_08_NRMSE</td><td>▁</td></tr><tr><td>Y_09_NRMSE</td><td>▁</td></tr><tr><td>Y_10_NRMSE</td><td>▁</td></tr><tr><td>Y_11_NRMSE</td><td>▁</td></tr><tr><td>Y_12_NRMSE</td><td>▁</td></tr><tr><td>Y_13_NRMSE</td><td>▁</td></tr><tr><td>Y_14_NRMSE</td><td>▁</td></tr></table><br/></div><div class=\"wandb-col\"><h3>Run summary:</h3><br/><table class=\"wandb\"><tr><td>LG_NRMSE_BEST</td><td>1.93033</td></tr><tr><td>LG_NRMSE_MEAN</td><td>1.9465</td></tr><tr><td>Y_01_NRMSE</td><td>0.25593</td></tr><tr><td>Y_02_NRMSE</td><td>0.3561</td></tr><tr><td>Y_03_NRMSE</td><td>0.34893</td></tr><tr><td>Y_04_NRMSE</td><td>0.1886</td></tr><tr><td>Y_05_NRMSE</td><td>0.07905</td></tr><tr><td>Y_06_NRMSE</td><td>0.10301</td></tr><tr><td>Y_07_NRMSE</td><td>0.12869</td></tr><tr><td>Y_08_NRMSE</td><td>0.02375</td></tr><tr><td>Y_09_NRMSE</td><td>0.02357</td></tr><tr><td>Y_10_NRMSE</td><td>0.03794</td></tr><tr><td>Y_11_NRMSE</td><td>0.03311</td></tr><tr><td>Y_12_NRMSE</td><td>0.0237</td></tr><tr><td>Y_13_NRMSE</td><td>0.02365</td></tr><tr><td>Y_14_NRMSE</td><td>0.02369</td></tr></table><br/></div></div>"
      ],
      "text/plain": [
       "<IPython.core.display.HTML object>"
      ]
     },
     "metadata": {},
     "output_type": "display_data"
    },
    {
     "data": {
      "text/html": [
       "Synced <strong style=\"color:#cdcd00\">eager-sweep-5</strong>: <a href=\"https://wandb.ai/zbooster/Antenna_Hyper-1/runs/x04h8imp\" target=\"_blank\">https://wandb.ai/zbooster/Antenna_Hyper-1/runs/x04h8imp</a><br/>Synced 5 W&B file(s), 0 media file(s), 0 artifact file(s) and 0 other file(s)"
      ],
      "text/plain": [
       "<IPython.core.display.HTML object>"
      ]
     },
     "metadata": {},
     "output_type": "display_data"
    },
    {
     "data": {
      "text/html": [
       "Find logs at: <code>./wandb/run-20220816_103237-x04h8imp/logs</code>"
      ],
      "text/plain": [
       "<IPython.core.display.HTML object>"
      ]
     },
     "metadata": {},
     "output_type": "display_data"
    },
    {
     "name": "stderr",
     "output_type": "stream",
     "text": [
      "\u001b[34m\u001b[1mwandb\u001b[0m: Agent Starting Run: bqvblfkt with config:\n",
      "\u001b[34m\u001b[1mwandb\u001b[0m: \tmax_depth: 100\n",
      "\u001b[34m\u001b[1mwandb\u001b[0m: \tmin_samples_leaf: 4\n",
      "\u001b[34m\u001b[1mwandb\u001b[0m: \tmin_samples_split: 2\n",
      "\u001b[34m\u001b[1mwandb\u001b[0m: \tn_estimators: 400\n",
      "Failed to detect the name of this notebook, you can set it manually with the WANDB_NOTEBOOK_NAME environment variable to enable code saving.\n"
     ]
    },
    {
     "data": {
      "text/html": [
       "Tracking run with wandb version 0.13.1"
      ],
      "text/plain": [
       "<IPython.core.display.HTML object>"
      ]
     },
     "metadata": {},
     "output_type": "display_data"
    },
    {
     "data": {
      "text/html": [
       "Run data is saved locally in <code>/content/Antenna-Performance-Prediction/wandb/run-20220816_103740-bqvblfkt</code>"
      ],
      "text/plain": [
       "<IPython.core.display.HTML object>"
      ]
     },
     "metadata": {},
     "output_type": "display_data"
    },
    {
     "data": {
      "text/html": [
       "Syncing run <strong><a href=\"https://wandb.ai/zbooster/Antenna_Hyper-1/runs/bqvblfkt\" target=\"_blank\">classic-sweep-6</a></strong> to <a href=\"https://wandb.ai/zbooster/Antenna_Hyper-1\" target=\"_blank\">Weights & Biases</a> (<a href=\"https://wandb.me/run\" target=\"_blank\">docs</a>)<br/>Sweep page:  <a href=\"https://wandb.ai/zbooster/Antenna_Hyper-1/sweeps/7snow94n\" target=\"_blank\">https://wandb.ai/zbooster/Antenna_Hyper-1/sweeps/7snow94n</a>"
      ],
      "text/plain": [
       "<IPython.core.display.HTML object>"
      ]
     },
     "metadata": {},
     "output_type": "display_data"
    },
    {
     "data": {
      "text/html": [
       "Waiting for W&B process to finish... <strong style=\"color:green\">(success).</strong>"
      ],
      "text/plain": [
       "<IPython.core.display.HTML object>"
      ]
     },
     "metadata": {},
     "output_type": "display_data"
    },
    {
     "data": {
      "application/vnd.jupyter.widget-view+json": {
       "model_id": "b6538fd1feab4f1caf4e6610773678af",
       "version_major": 2,
       "version_minor": 0
      },
      "text/plain": [
       "VBox(children=(Label(value='0.001 MB of 0.001 MB uploaded (0.000 MB deduped)\\r'), FloatProgress(value=1.0, max…"
      ]
     },
     "metadata": {},
     "output_type": "display_data"
    },
    {
     "data": {
      "text/html": [
       "<style>\n",
       "    table.wandb td:nth-child(1) { padding: 0 10px; text-align: left ; width: auto;} td:nth-child(2) {text-align: left ; width: 100%}\n",
       "    .wandb-row { display: flex; flex-direction: row; flex-wrap: wrap; justify-content: flex-start; width: 100% }\n",
       "    .wandb-col { display: flex; flex-direction: column; flex-basis: 100%; flex: 1; padding: 10px; }\n",
       "    </style>\n",
       "<div class=\"wandb-row\"><div class=\"wandb-col\"><h3>Run history:</h3><br/><table class=\"wandb\"><tr><td>LG_NRMSE_BEST</td><td>▁</td></tr><tr><td>LG_NRMSE_MEAN</td><td>▁</td></tr><tr><td>Y_01_NRMSE</td><td>▁</td></tr><tr><td>Y_02_NRMSE</td><td>▁</td></tr><tr><td>Y_03_NRMSE</td><td>▁</td></tr><tr><td>Y_04_NRMSE</td><td>▁</td></tr><tr><td>Y_05_NRMSE</td><td>▁</td></tr><tr><td>Y_06_NRMSE</td><td>▁</td></tr><tr><td>Y_07_NRMSE</td><td>▁</td></tr><tr><td>Y_08_NRMSE</td><td>▁</td></tr><tr><td>Y_09_NRMSE</td><td>▁</td></tr><tr><td>Y_10_NRMSE</td><td>▁</td></tr><tr><td>Y_11_NRMSE</td><td>▁</td></tr><tr><td>Y_12_NRMSE</td><td>▁</td></tr><tr><td>Y_13_NRMSE</td><td>▁</td></tr><tr><td>Y_14_NRMSE</td><td>▁</td></tr></table><br/></div><div class=\"wandb-col\"><h3>Run summary:</h3><br/><table class=\"wandb\"><tr><td>LG_NRMSE_BEST</td><td>1.93119</td></tr><tr><td>LG_NRMSE_MEAN</td><td>1.94705</td></tr><tr><td>Y_01_NRMSE</td><td>0.25608</td></tr><tr><td>Y_02_NRMSE</td><td>0.35633</td></tr><tr><td>Y_03_NRMSE</td><td>0.34917</td></tr><tr><td>Y_04_NRMSE</td><td>0.18859</td></tr><tr><td>Y_05_NRMSE</td><td>0.079</td></tr><tr><td>Y_06_NRMSE</td><td>0.10278</td></tr><tr><td>Y_07_NRMSE</td><td>0.12872</td></tr><tr><td>Y_08_NRMSE</td><td>0.02376</td></tr><tr><td>Y_09_NRMSE</td><td>0.02358</td></tr><tr><td>Y_10_NRMSE</td><td>0.03794</td></tr><tr><td>Y_11_NRMSE</td><td>0.03312</td></tr><tr><td>Y_12_NRMSE</td><td>0.02372</td></tr><tr><td>Y_13_NRMSE</td><td>0.02367</td></tr><tr><td>Y_14_NRMSE</td><td>0.02371</td></tr></table><br/></div></div>"
      ],
      "text/plain": [
       "<IPython.core.display.HTML object>"
      ]
     },
     "metadata": {},
     "output_type": "display_data"
    },
    {
     "data": {
      "text/html": [
       "Synced <strong style=\"color:#cdcd00\">classic-sweep-6</strong>: <a href=\"https://wandb.ai/zbooster/Antenna_Hyper-1/runs/bqvblfkt\" target=\"_blank\">https://wandb.ai/zbooster/Antenna_Hyper-1/runs/bqvblfkt</a><br/>Synced 5 W&B file(s), 0 media file(s), 0 artifact file(s) and 0 other file(s)"
      ],
      "text/plain": [
       "<IPython.core.display.HTML object>"
      ]
     },
     "metadata": {},
     "output_type": "display_data"
    },
    {
     "data": {
      "text/html": [
       "Find logs at: <code>./wandb/run-20220816_103740-bqvblfkt/logs</code>"
      ],
      "text/plain": [
       "<IPython.core.display.HTML object>"
      ]
     },
     "metadata": {},
     "output_type": "display_data"
    },
    {
     "name": "stderr",
     "output_type": "stream",
     "text": [
      "\u001b[34m\u001b[1mwandb\u001b[0m: Sweep Agent: Waiting for job.\n",
      "\u001b[34m\u001b[1mwandb\u001b[0m: Job received.\n",
      "\u001b[34m\u001b[1mwandb\u001b[0m: Agent Starting Run: oc5ua0aq with config:\n",
      "\u001b[34m\u001b[1mwandb\u001b[0m: \tmax_depth: 80\n",
      "\u001b[34m\u001b[1mwandb\u001b[0m: \tmin_samples_leaf: 2\n",
      "\u001b[34m\u001b[1mwandb\u001b[0m: \tmin_samples_split: 2\n",
      "\u001b[34m\u001b[1mwandb\u001b[0m: \tn_estimators: 400\n",
      "Failed to detect the name of this notebook, you can set it manually with the WANDB_NOTEBOOK_NAME environment variable to enable code saving.\n"
     ]
    },
    {
     "data": {
      "text/html": [
       "Tracking run with wandb version 0.13.1"
      ],
      "text/plain": [
       "<IPython.core.display.HTML object>"
      ]
     },
     "metadata": {},
     "output_type": "display_data"
    },
    {
     "data": {
      "text/html": [
       "Run data is saved locally in <code>/content/Antenna-Performance-Prediction/wandb/run-20220816_104214-oc5ua0aq</code>"
      ],
      "text/plain": [
       "<IPython.core.display.HTML object>"
      ]
     },
     "metadata": {},
     "output_type": "display_data"
    },
    {
     "data": {
      "text/html": [
       "Syncing run <strong><a href=\"https://wandb.ai/zbooster/Antenna_Hyper-1/runs/oc5ua0aq\" target=\"_blank\">silver-sweep-7</a></strong> to <a href=\"https://wandb.ai/zbooster/Antenna_Hyper-1\" target=\"_blank\">Weights & Biases</a> (<a href=\"https://wandb.me/run\" target=\"_blank\">docs</a>)<br/>Sweep page:  <a href=\"https://wandb.ai/zbooster/Antenna_Hyper-1/sweeps/7snow94n\" target=\"_blank\">https://wandb.ai/zbooster/Antenna_Hyper-1/sweeps/7snow94n</a>"
      ],
      "text/plain": [
       "<IPython.core.display.HTML object>"
      ]
     },
     "metadata": {},
     "output_type": "display_data"
    },
    {
     "data": {
      "text/html": [
       "Waiting for W&B process to finish... <strong style=\"color:green\">(success).</strong>"
      ],
      "text/plain": [
       "<IPython.core.display.HTML object>"
      ]
     },
     "metadata": {},
     "output_type": "display_data"
    },
    {
     "data": {
      "application/vnd.jupyter.widget-view+json": {
       "model_id": "b1305d5fcac74efebcb690469452dd67",
       "version_major": 2,
       "version_minor": 0
      },
      "text/plain": [
       "VBox(children=(Label(value='0.001 MB of 0.001 MB uploaded (0.000 MB deduped)\\r'), FloatProgress(value=1.0, max…"
      ]
     },
     "metadata": {},
     "output_type": "display_data"
    },
    {
     "data": {
      "text/html": [
       "<style>\n",
       "    table.wandb td:nth-child(1) { padding: 0 10px; text-align: left ; width: auto;} td:nth-child(2) {text-align: left ; width: 100%}\n",
       "    .wandb-row { display: flex; flex-direction: row; flex-wrap: wrap; justify-content: flex-start; width: 100% }\n",
       "    .wandb-col { display: flex; flex-direction: column; flex-basis: 100%; flex: 1; padding: 10px; }\n",
       "    </style>\n",
       "<div class=\"wandb-row\"><div class=\"wandb-col\"><h3>Run history:</h3><br/><table class=\"wandb\"><tr><td>LG_NRMSE_BEST</td><td>▁</td></tr><tr><td>LG_NRMSE_MEAN</td><td>▁</td></tr><tr><td>Y_01_NRMSE</td><td>▁</td></tr><tr><td>Y_02_NRMSE</td><td>▁</td></tr><tr><td>Y_03_NRMSE</td><td>▁</td></tr><tr><td>Y_04_NRMSE</td><td>▁</td></tr><tr><td>Y_05_NRMSE</td><td>▁</td></tr><tr><td>Y_06_NRMSE</td><td>▁</td></tr><tr><td>Y_07_NRMSE</td><td>▁</td></tr><tr><td>Y_08_NRMSE</td><td>▁</td></tr><tr><td>Y_09_NRMSE</td><td>▁</td></tr><tr><td>Y_10_NRMSE</td><td>▁</td></tr><tr><td>Y_11_NRMSE</td><td>▁</td></tr><tr><td>Y_12_NRMSE</td><td>▁</td></tr><tr><td>Y_13_NRMSE</td><td>▁</td></tr><tr><td>Y_14_NRMSE</td><td>▁</td></tr></table><br/></div><div class=\"wandb-col\"><h3>Run summary:</h3><br/><table class=\"wandb\"><tr><td>LG_NRMSE_BEST</td><td>1.93033</td></tr><tr><td>LG_NRMSE_MEAN</td><td>1.9465</td></tr><tr><td>Y_01_NRMSE</td><td>0.25593</td></tr><tr><td>Y_02_NRMSE</td><td>0.3561</td></tr><tr><td>Y_03_NRMSE</td><td>0.34893</td></tr><tr><td>Y_04_NRMSE</td><td>0.1886</td></tr><tr><td>Y_05_NRMSE</td><td>0.07905</td></tr><tr><td>Y_06_NRMSE</td><td>0.10301</td></tr><tr><td>Y_07_NRMSE</td><td>0.12869</td></tr><tr><td>Y_08_NRMSE</td><td>0.02375</td></tr><tr><td>Y_09_NRMSE</td><td>0.02357</td></tr><tr><td>Y_10_NRMSE</td><td>0.03794</td></tr><tr><td>Y_11_NRMSE</td><td>0.03311</td></tr><tr><td>Y_12_NRMSE</td><td>0.0237</td></tr><tr><td>Y_13_NRMSE</td><td>0.02365</td></tr><tr><td>Y_14_NRMSE</td><td>0.02369</td></tr></table><br/></div></div>"
      ],
      "text/plain": [
       "<IPython.core.display.HTML object>"
      ]
     },
     "metadata": {},
     "output_type": "display_data"
    },
    {
     "data": {
      "text/html": [
       "Synced <strong style=\"color:#cdcd00\">silver-sweep-7</strong>: <a href=\"https://wandb.ai/zbooster/Antenna_Hyper-1/runs/oc5ua0aq\" target=\"_blank\">https://wandb.ai/zbooster/Antenna_Hyper-1/runs/oc5ua0aq</a><br/>Synced 5 W&B file(s), 0 media file(s), 0 artifact file(s) and 0 other file(s)"
      ],
      "text/plain": [
       "<IPython.core.display.HTML object>"
      ]
     },
     "metadata": {},
     "output_type": "display_data"
    },
    {
     "data": {
      "text/html": [
       "Find logs at: <code>./wandb/run-20220816_104214-oc5ua0aq/logs</code>"
      ],
      "text/plain": [
       "<IPython.core.display.HTML object>"
      ]
     },
     "metadata": {},
     "output_type": "display_data"
    },
    {
     "name": "stderr",
     "output_type": "stream",
     "text": [
      "\u001b[34m\u001b[1mwandb\u001b[0m: Agent Starting Run: v3lrpmrx with config:\n",
      "\u001b[34m\u001b[1mwandb\u001b[0m: \tmax_depth: 80\n",
      "\u001b[34m\u001b[1mwandb\u001b[0m: \tmin_samples_leaf: 2\n",
      "\u001b[34m\u001b[1mwandb\u001b[0m: \tmin_samples_split: 2\n",
      "\u001b[34m\u001b[1mwandb\u001b[0m: \tn_estimators: 400\n",
      "Failed to detect the name of this notebook, you can set it manually with the WANDB_NOTEBOOK_NAME environment variable to enable code saving.\n"
     ]
    },
    {
     "data": {
      "text/html": [
       "Tracking run with wandb version 0.13.1"
      ],
      "text/plain": [
       "<IPython.core.display.HTML object>"
      ]
     },
     "metadata": {},
     "output_type": "display_data"
    },
    {
     "data": {
      "text/html": [
       "Run data is saved locally in <code>/content/Antenna-Performance-Prediction/wandb/run-20220816_104719-v3lrpmrx</code>"
      ],
      "text/plain": [
       "<IPython.core.display.HTML object>"
      ]
     },
     "metadata": {},
     "output_type": "display_data"
    },
    {
     "data": {
      "text/html": [
       "Syncing run <strong><a href=\"https://wandb.ai/zbooster/Antenna_Hyper-1/runs/v3lrpmrx\" target=\"_blank\">twilight-sweep-8</a></strong> to <a href=\"https://wandb.ai/zbooster/Antenna_Hyper-1\" target=\"_blank\">Weights & Biases</a> (<a href=\"https://wandb.me/run\" target=\"_blank\">docs</a>)<br/>Sweep page:  <a href=\"https://wandb.ai/zbooster/Antenna_Hyper-1/sweeps/7snow94n\" target=\"_blank\">https://wandb.ai/zbooster/Antenna_Hyper-1/sweeps/7snow94n</a>"
      ],
      "text/plain": [
       "<IPython.core.display.HTML object>"
      ]
     },
     "metadata": {},
     "output_type": "display_data"
    },
    {
     "data": {
      "text/html": [
       "Waiting for W&B process to finish... <strong style=\"color:green\">(success).</strong>"
      ],
      "text/plain": [
       "<IPython.core.display.HTML object>"
      ]
     },
     "metadata": {},
     "output_type": "display_data"
    },
    {
     "data": {
      "application/vnd.jupyter.widget-view+json": {
       "model_id": "f90c105391bc4c35b07550ef7f5911e6",
       "version_major": 2,
       "version_minor": 0
      },
      "text/plain": [
       "VBox(children=(Label(value='0.001 MB of 0.001 MB uploaded (0.000 MB deduped)\\r'), FloatProgress(value=1.0, max…"
      ]
     },
     "metadata": {},
     "output_type": "display_data"
    },
    {
     "data": {
      "text/html": [
       "<style>\n",
       "    table.wandb td:nth-child(1) { padding: 0 10px; text-align: left ; width: auto;} td:nth-child(2) {text-align: left ; width: 100%}\n",
       "    .wandb-row { display: flex; flex-direction: row; flex-wrap: wrap; justify-content: flex-start; width: 100% }\n",
       "    .wandb-col { display: flex; flex-direction: column; flex-basis: 100%; flex: 1; padding: 10px; }\n",
       "    </style>\n",
       "<div class=\"wandb-row\"><div class=\"wandb-col\"><h3>Run history:</h3><br/><table class=\"wandb\"><tr><td>LG_NRMSE_BEST</td><td>▁</td></tr><tr><td>LG_NRMSE_MEAN</td><td>▁</td></tr><tr><td>Y_01_NRMSE</td><td>▁</td></tr><tr><td>Y_02_NRMSE</td><td>▁</td></tr><tr><td>Y_03_NRMSE</td><td>▁</td></tr><tr><td>Y_04_NRMSE</td><td>▁</td></tr><tr><td>Y_05_NRMSE</td><td>▁</td></tr><tr><td>Y_06_NRMSE</td><td>▁</td></tr><tr><td>Y_07_NRMSE</td><td>▁</td></tr><tr><td>Y_08_NRMSE</td><td>▁</td></tr><tr><td>Y_09_NRMSE</td><td>▁</td></tr><tr><td>Y_10_NRMSE</td><td>▁</td></tr><tr><td>Y_11_NRMSE</td><td>▁</td></tr><tr><td>Y_12_NRMSE</td><td>▁</td></tr><tr><td>Y_13_NRMSE</td><td>▁</td></tr><tr><td>Y_14_NRMSE</td><td>▁</td></tr></table><br/></div><div class=\"wandb-col\"><h3>Run summary:</h3><br/><table class=\"wandb\"><tr><td>LG_NRMSE_BEST</td><td>1.93033</td></tr><tr><td>LG_NRMSE_MEAN</td><td>1.9465</td></tr><tr><td>Y_01_NRMSE</td><td>0.25593</td></tr><tr><td>Y_02_NRMSE</td><td>0.3561</td></tr><tr><td>Y_03_NRMSE</td><td>0.34893</td></tr><tr><td>Y_04_NRMSE</td><td>0.1886</td></tr><tr><td>Y_05_NRMSE</td><td>0.07905</td></tr><tr><td>Y_06_NRMSE</td><td>0.10301</td></tr><tr><td>Y_07_NRMSE</td><td>0.12869</td></tr><tr><td>Y_08_NRMSE</td><td>0.02375</td></tr><tr><td>Y_09_NRMSE</td><td>0.02357</td></tr><tr><td>Y_10_NRMSE</td><td>0.03794</td></tr><tr><td>Y_11_NRMSE</td><td>0.03311</td></tr><tr><td>Y_12_NRMSE</td><td>0.0237</td></tr><tr><td>Y_13_NRMSE</td><td>0.02365</td></tr><tr><td>Y_14_NRMSE</td><td>0.02369</td></tr></table><br/></div></div>"
      ],
      "text/plain": [
       "<IPython.core.display.HTML object>"
      ]
     },
     "metadata": {},
     "output_type": "display_data"
    },
    {
     "data": {
      "text/html": [
       "Synced <strong style=\"color:#cdcd00\">twilight-sweep-8</strong>: <a href=\"https://wandb.ai/zbooster/Antenna_Hyper-1/runs/v3lrpmrx\" target=\"_blank\">https://wandb.ai/zbooster/Antenna_Hyper-1/runs/v3lrpmrx</a><br/>Synced 5 W&B file(s), 0 media file(s), 0 artifact file(s) and 0 other file(s)"
      ],
      "text/plain": [
       "<IPython.core.display.HTML object>"
      ]
     },
     "metadata": {},
     "output_type": "display_data"
    },
    {
     "data": {
      "text/html": [
       "Find logs at: <code>./wandb/run-20220816_104719-v3lrpmrx/logs</code>"
      ],
      "text/plain": [
       "<IPython.core.display.HTML object>"
      ]
     },
     "metadata": {},
     "output_type": "display_data"
    },
    {
     "name": "stderr",
     "output_type": "stream",
     "text": [
      "\u001b[34m\u001b[1mwandb\u001b[0m: Sweep Agent: Waiting for job.\n",
      "\u001b[34m\u001b[1mwandb\u001b[0m: Job received.\n",
      "\u001b[34m\u001b[1mwandb\u001b[0m: Agent Starting Run: w5rjgwy3 with config:\n",
      "\u001b[34m\u001b[1mwandb\u001b[0m: \tmax_depth: 60\n",
      "\u001b[34m\u001b[1mwandb\u001b[0m: \tmin_samples_leaf: 4\n",
      "\u001b[34m\u001b[1mwandb\u001b[0m: \tmin_samples_split: 2\n",
      "\u001b[34m\u001b[1mwandb\u001b[0m: \tn_estimators: 400\n",
      "Failed to detect the name of this notebook, you can set it manually with the WANDB_NOTEBOOK_NAME environment variable to enable code saving.\n"
     ]
    },
    {
     "data": {
      "text/html": [
       "Tracking run with wandb version 0.13.1"
      ],
      "text/plain": [
       "<IPython.core.display.HTML object>"
      ]
     },
     "metadata": {},
     "output_type": "display_data"
    },
    {
     "data": {
      "text/html": [
       "Run data is saved locally in <code>/content/Antenna-Performance-Prediction/wandb/run-20220816_105233-w5rjgwy3</code>"
      ],
      "text/plain": [
       "<IPython.core.display.HTML object>"
      ]
     },
     "metadata": {},
     "output_type": "display_data"
    },
    {
     "data": {
      "text/html": [
       "Syncing run <strong><a href=\"https://wandb.ai/zbooster/Antenna_Hyper-1/runs/w5rjgwy3\" target=\"_blank\">honest-sweep-9</a></strong> to <a href=\"https://wandb.ai/zbooster/Antenna_Hyper-1\" target=\"_blank\">Weights & Biases</a> (<a href=\"https://wandb.me/run\" target=\"_blank\">docs</a>)<br/>Sweep page:  <a href=\"https://wandb.ai/zbooster/Antenna_Hyper-1/sweeps/7snow94n\" target=\"_blank\">https://wandb.ai/zbooster/Antenna_Hyper-1/sweeps/7snow94n</a>"
      ],
      "text/plain": [
       "<IPython.core.display.HTML object>"
      ]
     },
     "metadata": {},
     "output_type": "display_data"
    },
    {
     "data": {
      "text/html": [
       "Waiting for W&B process to finish... <strong style=\"color:green\">(success).</strong>"
      ],
      "text/plain": [
       "<IPython.core.display.HTML object>"
      ]
     },
     "metadata": {},
     "output_type": "display_data"
    },
    {
     "data": {
      "application/vnd.jupyter.widget-view+json": {
       "model_id": "1eb7e8d0631f44459e790081e5b5e1e6",
       "version_major": 2,
       "version_minor": 0
      },
      "text/plain": [
       "VBox(children=(Label(value='0.001 MB of 0.001 MB uploaded (0.000 MB deduped)\\r'), FloatProgress(value=1.0, max…"
      ]
     },
     "metadata": {},
     "output_type": "display_data"
    },
    {
     "data": {
      "text/html": [
       "<style>\n",
       "    table.wandb td:nth-child(1) { padding: 0 10px; text-align: left ; width: auto;} td:nth-child(2) {text-align: left ; width: 100%}\n",
       "    .wandb-row { display: flex; flex-direction: row; flex-wrap: wrap; justify-content: flex-start; width: 100% }\n",
       "    .wandb-col { display: flex; flex-direction: column; flex-basis: 100%; flex: 1; padding: 10px; }\n",
       "    </style>\n",
       "<div class=\"wandb-row\"><div class=\"wandb-col\"><h3>Run history:</h3><br/><table class=\"wandb\"><tr><td>LG_NRMSE_BEST</td><td>▁</td></tr><tr><td>LG_NRMSE_MEAN</td><td>▁</td></tr><tr><td>Y_01_NRMSE</td><td>▁</td></tr><tr><td>Y_02_NRMSE</td><td>▁</td></tr><tr><td>Y_03_NRMSE</td><td>▁</td></tr><tr><td>Y_04_NRMSE</td><td>▁</td></tr><tr><td>Y_05_NRMSE</td><td>▁</td></tr><tr><td>Y_06_NRMSE</td><td>▁</td></tr><tr><td>Y_07_NRMSE</td><td>▁</td></tr><tr><td>Y_08_NRMSE</td><td>▁</td></tr><tr><td>Y_09_NRMSE</td><td>▁</td></tr><tr><td>Y_10_NRMSE</td><td>▁</td></tr><tr><td>Y_11_NRMSE</td><td>▁</td></tr><tr><td>Y_12_NRMSE</td><td>▁</td></tr><tr><td>Y_13_NRMSE</td><td>▁</td></tr><tr><td>Y_14_NRMSE</td><td>▁</td></tr></table><br/></div><div class=\"wandb-col\"><h3>Run summary:</h3><br/><table class=\"wandb\"><tr><td>LG_NRMSE_BEST</td><td>1.93119</td></tr><tr><td>LG_NRMSE_MEAN</td><td>1.94705</td></tr><tr><td>Y_01_NRMSE</td><td>0.25608</td></tr><tr><td>Y_02_NRMSE</td><td>0.35633</td></tr><tr><td>Y_03_NRMSE</td><td>0.34917</td></tr><tr><td>Y_04_NRMSE</td><td>0.18859</td></tr><tr><td>Y_05_NRMSE</td><td>0.079</td></tr><tr><td>Y_06_NRMSE</td><td>0.10278</td></tr><tr><td>Y_07_NRMSE</td><td>0.12872</td></tr><tr><td>Y_08_NRMSE</td><td>0.02376</td></tr><tr><td>Y_09_NRMSE</td><td>0.02358</td></tr><tr><td>Y_10_NRMSE</td><td>0.03794</td></tr><tr><td>Y_11_NRMSE</td><td>0.03312</td></tr><tr><td>Y_12_NRMSE</td><td>0.02372</td></tr><tr><td>Y_13_NRMSE</td><td>0.02367</td></tr><tr><td>Y_14_NRMSE</td><td>0.02371</td></tr></table><br/></div></div>"
      ],
      "text/plain": [
       "<IPython.core.display.HTML object>"
      ]
     },
     "metadata": {},
     "output_type": "display_data"
    },
    {
     "data": {
      "text/html": [
       "Synced <strong style=\"color:#cdcd00\">honest-sweep-9</strong>: <a href=\"https://wandb.ai/zbooster/Antenna_Hyper-1/runs/w5rjgwy3\" target=\"_blank\">https://wandb.ai/zbooster/Antenna_Hyper-1/runs/w5rjgwy3</a><br/>Synced 5 W&B file(s), 0 media file(s), 0 artifact file(s) and 0 other file(s)"
      ],
      "text/plain": [
       "<IPython.core.display.HTML object>"
      ]
     },
     "metadata": {},
     "output_type": "display_data"
    },
    {
     "data": {
      "text/html": [
       "Find logs at: <code>./wandb/run-20220816_105233-w5rjgwy3/logs</code>"
      ],
      "text/plain": [
       "<IPython.core.display.HTML object>"
      ]
     },
     "metadata": {},
     "output_type": "display_data"
    },
    {
     "name": "stderr",
     "output_type": "stream",
     "text": [
      "\u001b[34m\u001b[1mwandb\u001b[0m: Sweep Agent: Waiting for job.\n",
      "\u001b[34m\u001b[1mwandb\u001b[0m: Job received.\n",
      "\u001b[34m\u001b[1mwandb\u001b[0m: Agent Starting Run: 5sqyaxfe with config:\n",
      "\u001b[34m\u001b[1mwandb\u001b[0m: \tmax_depth: 80\n",
      "\u001b[34m\u001b[1mwandb\u001b[0m: \tmin_samples_leaf: 2\n",
      "\u001b[34m\u001b[1mwandb\u001b[0m: \tmin_samples_split: 2\n",
      "\u001b[34m\u001b[1mwandb\u001b[0m: \tn_estimators: 400\n",
      "Failed to detect the name of this notebook, you can set it manually with the WANDB_NOTEBOOK_NAME environment variable to enable code saving.\n"
     ]
    },
    {
     "data": {
      "text/html": [
       "Tracking run with wandb version 0.13.1"
      ],
      "text/plain": [
       "<IPython.core.display.HTML object>"
      ]
     },
     "metadata": {},
     "output_type": "display_data"
    },
    {
     "data": {
      "text/html": [
       "Run data is saved locally in <code>/content/Antenna-Performance-Prediction/wandb/run-20220816_105706-5sqyaxfe</code>"
      ],
      "text/plain": [
       "<IPython.core.display.HTML object>"
      ]
     },
     "metadata": {},
     "output_type": "display_data"
    },
    {
     "data": {
      "text/html": [
       "Syncing run <strong><a href=\"https://wandb.ai/zbooster/Antenna_Hyper-1/runs/5sqyaxfe\" target=\"_blank\">vibrant-sweep-10</a></strong> to <a href=\"https://wandb.ai/zbooster/Antenna_Hyper-1\" target=\"_blank\">Weights & Biases</a> (<a href=\"https://wandb.me/run\" target=\"_blank\">docs</a>)<br/>Sweep page:  <a href=\"https://wandb.ai/zbooster/Antenna_Hyper-1/sweeps/7snow94n\" target=\"_blank\">https://wandb.ai/zbooster/Antenna_Hyper-1/sweeps/7snow94n</a>"
      ],
      "text/plain": [
       "<IPython.core.display.HTML object>"
      ]
     },
     "metadata": {},
     "output_type": "display_data"
    },
    {
     "data": {
      "text/html": [
       "Waiting for W&B process to finish... <strong style=\"color:green\">(success).</strong>"
      ],
      "text/plain": [
       "<IPython.core.display.HTML object>"
      ]
     },
     "metadata": {},
     "output_type": "display_data"
    },
    {
     "data": {
      "application/vnd.jupyter.widget-view+json": {
       "model_id": "43eba98bc47a472994a252a1a75c0551",
       "version_major": 2,
       "version_minor": 0
      },
      "text/plain": [
       "VBox(children=(Label(value='0.001 MB of 0.001 MB uploaded (0.000 MB deduped)\\r'), FloatProgress(value=1.0, max…"
      ]
     },
     "metadata": {},
     "output_type": "display_data"
    },
    {
     "data": {
      "text/html": [
       "<style>\n",
       "    table.wandb td:nth-child(1) { padding: 0 10px; text-align: left ; width: auto;} td:nth-child(2) {text-align: left ; width: 100%}\n",
       "    .wandb-row { display: flex; flex-direction: row; flex-wrap: wrap; justify-content: flex-start; width: 100% }\n",
       "    .wandb-col { display: flex; flex-direction: column; flex-basis: 100%; flex: 1; padding: 10px; }\n",
       "    </style>\n",
       "<div class=\"wandb-row\"><div class=\"wandb-col\"><h3>Run history:</h3><br/><table class=\"wandb\"><tr><td>LG_NRMSE_BEST</td><td>▁</td></tr><tr><td>LG_NRMSE_MEAN</td><td>▁</td></tr><tr><td>Y_01_NRMSE</td><td>▁</td></tr><tr><td>Y_02_NRMSE</td><td>▁</td></tr><tr><td>Y_03_NRMSE</td><td>▁</td></tr><tr><td>Y_04_NRMSE</td><td>▁</td></tr><tr><td>Y_05_NRMSE</td><td>▁</td></tr><tr><td>Y_06_NRMSE</td><td>▁</td></tr><tr><td>Y_07_NRMSE</td><td>▁</td></tr><tr><td>Y_08_NRMSE</td><td>▁</td></tr><tr><td>Y_09_NRMSE</td><td>▁</td></tr><tr><td>Y_10_NRMSE</td><td>▁</td></tr><tr><td>Y_11_NRMSE</td><td>▁</td></tr><tr><td>Y_12_NRMSE</td><td>▁</td></tr><tr><td>Y_13_NRMSE</td><td>▁</td></tr><tr><td>Y_14_NRMSE</td><td>▁</td></tr></table><br/></div><div class=\"wandb-col\"><h3>Run summary:</h3><br/><table class=\"wandb\"><tr><td>LG_NRMSE_BEST</td><td>1.93033</td></tr><tr><td>LG_NRMSE_MEAN</td><td>1.9465</td></tr><tr><td>Y_01_NRMSE</td><td>0.25593</td></tr><tr><td>Y_02_NRMSE</td><td>0.3561</td></tr><tr><td>Y_03_NRMSE</td><td>0.34893</td></tr><tr><td>Y_04_NRMSE</td><td>0.1886</td></tr><tr><td>Y_05_NRMSE</td><td>0.07905</td></tr><tr><td>Y_06_NRMSE</td><td>0.10301</td></tr><tr><td>Y_07_NRMSE</td><td>0.12869</td></tr><tr><td>Y_08_NRMSE</td><td>0.02375</td></tr><tr><td>Y_09_NRMSE</td><td>0.02357</td></tr><tr><td>Y_10_NRMSE</td><td>0.03794</td></tr><tr><td>Y_11_NRMSE</td><td>0.03311</td></tr><tr><td>Y_12_NRMSE</td><td>0.0237</td></tr><tr><td>Y_13_NRMSE</td><td>0.02365</td></tr><tr><td>Y_14_NRMSE</td><td>0.02369</td></tr></table><br/></div></div>"
      ],
      "text/plain": [
       "<IPython.core.display.HTML object>"
      ]
     },
     "metadata": {},
     "output_type": "display_data"
    },
    {
     "data": {
      "text/html": [
       "Synced <strong style=\"color:#cdcd00\">vibrant-sweep-10</strong>: <a href=\"https://wandb.ai/zbooster/Antenna_Hyper-1/runs/5sqyaxfe\" target=\"_blank\">https://wandb.ai/zbooster/Antenna_Hyper-1/runs/5sqyaxfe</a><br/>Synced 5 W&B file(s), 0 media file(s), 0 artifact file(s) and 0 other file(s)"
      ],
      "text/plain": [
       "<IPython.core.display.HTML object>"
      ]
     },
     "metadata": {},
     "output_type": "display_data"
    },
    {
     "data": {
      "text/html": [
       "Find logs at: <code>./wandb/run-20220816_105706-5sqyaxfe/logs</code>"
      ],
      "text/plain": [
       "<IPython.core.display.HTML object>"
      ]
     },
     "metadata": {},
     "output_type": "display_data"
    },
    {
     "name": "stderr",
     "output_type": "stream",
     "text": [
      "\u001b[34m\u001b[1mwandb\u001b[0m: Agent Starting Run: r165samd with config:\n",
      "\u001b[34m\u001b[1mwandb\u001b[0m: \tmax_depth: 80\n",
      "\u001b[34m\u001b[1mwandb\u001b[0m: \tmin_samples_leaf: 2\n",
      "\u001b[34m\u001b[1mwandb\u001b[0m: \tmin_samples_split: 2\n",
      "\u001b[34m\u001b[1mwandb\u001b[0m: \tn_estimators: 400\n",
      "Failed to detect the name of this notebook, you can set it manually with the WANDB_NOTEBOOK_NAME environment variable to enable code saving.\n"
     ]
    },
    {
     "data": {
      "text/html": [
       "Tracking run with wandb version 0.13.1"
      ],
      "text/plain": [
       "<IPython.core.display.HTML object>"
      ]
     },
     "metadata": {},
     "output_type": "display_data"
    },
    {
     "data": {
      "text/html": [
       "Run data is saved locally in <code>/content/Antenna-Performance-Prediction/wandb/run-20220816_110210-r165samd</code>"
      ],
      "text/plain": [
       "<IPython.core.display.HTML object>"
      ]
     },
     "metadata": {},
     "output_type": "display_data"
    },
    {
     "data": {
      "text/html": [
       "Syncing run <strong><a href=\"https://wandb.ai/zbooster/Antenna_Hyper-1/runs/r165samd\" target=\"_blank\">tough-sweep-11</a></strong> to <a href=\"https://wandb.ai/zbooster/Antenna_Hyper-1\" target=\"_blank\">Weights & Biases</a> (<a href=\"https://wandb.me/run\" target=\"_blank\">docs</a>)<br/>Sweep page:  <a href=\"https://wandb.ai/zbooster/Antenna_Hyper-1/sweeps/7snow94n\" target=\"_blank\">https://wandb.ai/zbooster/Antenna_Hyper-1/sweeps/7snow94n</a>"
      ],
      "text/plain": [
       "<IPython.core.display.HTML object>"
      ]
     },
     "metadata": {},
     "output_type": "display_data"
    },
    {
     "data": {
      "text/html": [
       "Waiting for W&B process to finish... <strong style=\"color:green\">(success).</strong>"
      ],
      "text/plain": [
       "<IPython.core.display.HTML object>"
      ]
     },
     "metadata": {},
     "output_type": "display_data"
    },
    {
     "data": {
      "application/vnd.jupyter.widget-view+json": {
       "model_id": "fc164e94971f4c3e9e23aacb34afba3c",
       "version_major": 2,
       "version_minor": 0
      },
      "text/plain": [
       "VBox(children=(Label(value='0.001 MB of 0.001 MB uploaded (0.000 MB deduped)\\r'), FloatProgress(value=1.0, max…"
      ]
     },
     "metadata": {},
     "output_type": "display_data"
    },
    {
     "data": {
      "text/html": [
       "<style>\n",
       "    table.wandb td:nth-child(1) { padding: 0 10px; text-align: left ; width: auto;} td:nth-child(2) {text-align: left ; width: 100%}\n",
       "    .wandb-row { display: flex; flex-direction: row; flex-wrap: wrap; justify-content: flex-start; width: 100% }\n",
       "    .wandb-col { display: flex; flex-direction: column; flex-basis: 100%; flex: 1; padding: 10px; }\n",
       "    </style>\n",
       "<div class=\"wandb-row\"><div class=\"wandb-col\"><h3>Run history:</h3><br/><table class=\"wandb\"><tr><td>LG_NRMSE_BEST</td><td>▁</td></tr><tr><td>LG_NRMSE_MEAN</td><td>▁</td></tr><tr><td>Y_01_NRMSE</td><td>▁</td></tr><tr><td>Y_02_NRMSE</td><td>▁</td></tr><tr><td>Y_03_NRMSE</td><td>▁</td></tr><tr><td>Y_04_NRMSE</td><td>▁</td></tr><tr><td>Y_05_NRMSE</td><td>▁</td></tr><tr><td>Y_06_NRMSE</td><td>▁</td></tr><tr><td>Y_07_NRMSE</td><td>▁</td></tr><tr><td>Y_08_NRMSE</td><td>▁</td></tr><tr><td>Y_09_NRMSE</td><td>▁</td></tr><tr><td>Y_10_NRMSE</td><td>▁</td></tr><tr><td>Y_11_NRMSE</td><td>▁</td></tr><tr><td>Y_12_NRMSE</td><td>▁</td></tr><tr><td>Y_13_NRMSE</td><td>▁</td></tr><tr><td>Y_14_NRMSE</td><td>▁</td></tr></table><br/></div><div class=\"wandb-col\"><h3>Run summary:</h3><br/><table class=\"wandb\"><tr><td>LG_NRMSE_BEST</td><td>1.93033</td></tr><tr><td>LG_NRMSE_MEAN</td><td>1.9465</td></tr><tr><td>Y_01_NRMSE</td><td>0.25593</td></tr><tr><td>Y_02_NRMSE</td><td>0.3561</td></tr><tr><td>Y_03_NRMSE</td><td>0.34893</td></tr><tr><td>Y_04_NRMSE</td><td>0.1886</td></tr><tr><td>Y_05_NRMSE</td><td>0.07905</td></tr><tr><td>Y_06_NRMSE</td><td>0.10301</td></tr><tr><td>Y_07_NRMSE</td><td>0.12869</td></tr><tr><td>Y_08_NRMSE</td><td>0.02375</td></tr><tr><td>Y_09_NRMSE</td><td>0.02357</td></tr><tr><td>Y_10_NRMSE</td><td>0.03794</td></tr><tr><td>Y_11_NRMSE</td><td>0.03311</td></tr><tr><td>Y_12_NRMSE</td><td>0.0237</td></tr><tr><td>Y_13_NRMSE</td><td>0.02365</td></tr><tr><td>Y_14_NRMSE</td><td>0.02369</td></tr></table><br/></div></div>"
      ],
      "text/plain": [
       "<IPython.core.display.HTML object>"
      ]
     },
     "metadata": {},
     "output_type": "display_data"
    },
    {
     "data": {
      "text/html": [
       "Synced <strong style=\"color:#cdcd00\">tough-sweep-11</strong>: <a href=\"https://wandb.ai/zbooster/Antenna_Hyper-1/runs/r165samd\" target=\"_blank\">https://wandb.ai/zbooster/Antenna_Hyper-1/runs/r165samd</a><br/>Synced 5 W&B file(s), 0 media file(s), 0 artifact file(s) and 0 other file(s)"
      ],
      "text/plain": [
       "<IPython.core.display.HTML object>"
      ]
     },
     "metadata": {},
     "output_type": "display_data"
    },
    {
     "data": {
      "text/html": [
       "Find logs at: <code>./wandb/run-20220816_110210-r165samd/logs</code>"
      ],
      "text/plain": [
       "<IPython.core.display.HTML object>"
      ]
     },
     "metadata": {},
     "output_type": "display_data"
    },
    {
     "name": "stderr",
     "output_type": "stream",
     "text": [
      "\u001b[34m\u001b[1mwandb\u001b[0m: Sweep Agent: Waiting for job.\n",
      "\u001b[34m\u001b[1mwandb\u001b[0m: Job received.\n",
      "\u001b[34m\u001b[1mwandb\u001b[0m: Agent Starting Run: yvo2ls3p with config:\n",
      "\u001b[34m\u001b[1mwandb\u001b[0m: \tmax_depth: 80\n",
      "\u001b[34m\u001b[1mwandb\u001b[0m: \tmin_samples_leaf: 2\n",
      "\u001b[34m\u001b[1mwandb\u001b[0m: \tmin_samples_split: 2\n",
      "\u001b[34m\u001b[1mwandb\u001b[0m: \tn_estimators: 400\n",
      "Failed to detect the name of this notebook, you can set it manually with the WANDB_NOTEBOOK_NAME environment variable to enable code saving.\n"
     ]
    },
    {
     "data": {
      "text/html": [
       "Tracking run with wandb version 0.13.1"
      ],
      "text/plain": [
       "<IPython.core.display.HTML object>"
      ]
     },
     "metadata": {},
     "output_type": "display_data"
    },
    {
     "data": {
      "text/html": [
       "Run data is saved locally in <code>/content/Antenna-Performance-Prediction/wandb/run-20220816_110724-yvo2ls3p</code>"
      ],
      "text/plain": [
       "<IPython.core.display.HTML object>"
      ]
     },
     "metadata": {},
     "output_type": "display_data"
    },
    {
     "data": {
      "text/html": [
       "Syncing run <strong><a href=\"https://wandb.ai/zbooster/Antenna_Hyper-1/runs/yvo2ls3p\" target=\"_blank\">fanciful-sweep-12</a></strong> to <a href=\"https://wandb.ai/zbooster/Antenna_Hyper-1\" target=\"_blank\">Weights & Biases</a> (<a href=\"https://wandb.me/run\" target=\"_blank\">docs</a>)<br/>Sweep page:  <a href=\"https://wandb.ai/zbooster/Antenna_Hyper-1/sweeps/7snow94n\" target=\"_blank\">https://wandb.ai/zbooster/Antenna_Hyper-1/sweeps/7snow94n</a>"
      ],
      "text/plain": [
       "<IPython.core.display.HTML object>"
      ]
     },
     "metadata": {},
     "output_type": "display_data"
    },
    {
     "data": {
      "text/html": [
       "Waiting for W&B process to finish... <strong style=\"color:green\">(success).</strong>"
      ],
      "text/plain": [
       "<IPython.core.display.HTML object>"
      ]
     },
     "metadata": {},
     "output_type": "display_data"
    },
    {
     "data": {
      "application/vnd.jupyter.widget-view+json": {
       "model_id": "502a08850cb0455c9359949c63fd9766",
       "version_major": 2,
       "version_minor": 0
      },
      "text/plain": [
       "VBox(children=(Label(value='0.001 MB of 0.001 MB uploaded (0.000 MB deduped)\\r'), FloatProgress(value=1.0, max…"
      ]
     },
     "metadata": {},
     "output_type": "display_data"
    },
    {
     "data": {
      "text/html": [
       "<style>\n",
       "    table.wandb td:nth-child(1) { padding: 0 10px; text-align: left ; width: auto;} td:nth-child(2) {text-align: left ; width: 100%}\n",
       "    .wandb-row { display: flex; flex-direction: row; flex-wrap: wrap; justify-content: flex-start; width: 100% }\n",
       "    .wandb-col { display: flex; flex-direction: column; flex-basis: 100%; flex: 1; padding: 10px; }\n",
       "    </style>\n",
       "<div class=\"wandb-row\"><div class=\"wandb-col\"><h3>Run history:</h3><br/><table class=\"wandb\"><tr><td>LG_NRMSE_BEST</td><td>▁</td></tr><tr><td>LG_NRMSE_MEAN</td><td>▁</td></tr><tr><td>Y_01_NRMSE</td><td>▁</td></tr><tr><td>Y_02_NRMSE</td><td>▁</td></tr><tr><td>Y_03_NRMSE</td><td>▁</td></tr><tr><td>Y_04_NRMSE</td><td>▁</td></tr><tr><td>Y_05_NRMSE</td><td>▁</td></tr><tr><td>Y_06_NRMSE</td><td>▁</td></tr><tr><td>Y_07_NRMSE</td><td>▁</td></tr><tr><td>Y_08_NRMSE</td><td>▁</td></tr><tr><td>Y_09_NRMSE</td><td>▁</td></tr><tr><td>Y_10_NRMSE</td><td>▁</td></tr><tr><td>Y_11_NRMSE</td><td>▁</td></tr><tr><td>Y_12_NRMSE</td><td>▁</td></tr><tr><td>Y_13_NRMSE</td><td>▁</td></tr><tr><td>Y_14_NRMSE</td><td>▁</td></tr></table><br/></div><div class=\"wandb-col\"><h3>Run summary:</h3><br/><table class=\"wandb\"><tr><td>LG_NRMSE_BEST</td><td>1.93033</td></tr><tr><td>LG_NRMSE_MEAN</td><td>1.9465</td></tr><tr><td>Y_01_NRMSE</td><td>0.25593</td></tr><tr><td>Y_02_NRMSE</td><td>0.3561</td></tr><tr><td>Y_03_NRMSE</td><td>0.34893</td></tr><tr><td>Y_04_NRMSE</td><td>0.1886</td></tr><tr><td>Y_05_NRMSE</td><td>0.07905</td></tr><tr><td>Y_06_NRMSE</td><td>0.10301</td></tr><tr><td>Y_07_NRMSE</td><td>0.12869</td></tr><tr><td>Y_08_NRMSE</td><td>0.02375</td></tr><tr><td>Y_09_NRMSE</td><td>0.02357</td></tr><tr><td>Y_10_NRMSE</td><td>0.03794</td></tr><tr><td>Y_11_NRMSE</td><td>0.03311</td></tr><tr><td>Y_12_NRMSE</td><td>0.0237</td></tr><tr><td>Y_13_NRMSE</td><td>0.02365</td></tr><tr><td>Y_14_NRMSE</td><td>0.02369</td></tr></table><br/></div></div>"
      ],
      "text/plain": [
       "<IPython.core.display.HTML object>"
      ]
     },
     "metadata": {},
     "output_type": "display_data"
    },
    {
     "data": {
      "text/html": [
       "Synced <strong style=\"color:#cdcd00\">fanciful-sweep-12</strong>: <a href=\"https://wandb.ai/zbooster/Antenna_Hyper-1/runs/yvo2ls3p\" target=\"_blank\">https://wandb.ai/zbooster/Antenna_Hyper-1/runs/yvo2ls3p</a><br/>Synced 5 W&B file(s), 0 media file(s), 0 artifact file(s) and 0 other file(s)"
      ],
      "text/plain": [
       "<IPython.core.display.HTML object>"
      ]
     },
     "metadata": {},
     "output_type": "display_data"
    },
    {
     "data": {
      "text/html": [
       "Find logs at: <code>./wandb/run-20220816_110724-yvo2ls3p/logs</code>"
      ],
      "text/plain": [
       "<IPython.core.display.HTML object>"
      ]
     },
     "metadata": {},
     "output_type": "display_data"
    },
    {
     "name": "stderr",
     "output_type": "stream",
     "text": [
      "\u001b[34m\u001b[1mwandb\u001b[0m: Agent Starting Run: 4m4bguoz with config:\n",
      "\u001b[34m\u001b[1mwandb\u001b[0m: \tmax_depth: 80\n",
      "\u001b[34m\u001b[1mwandb\u001b[0m: \tmin_samples_leaf: 2\n",
      "\u001b[34m\u001b[1mwandb\u001b[0m: \tmin_samples_split: 2\n",
      "\u001b[34m\u001b[1mwandb\u001b[0m: \tn_estimators: 400\n",
      "Failed to detect the name of this notebook, you can set it manually with the WANDB_NOTEBOOK_NAME environment variable to enable code saving.\n"
     ]
    },
    {
     "data": {
      "text/html": [
       "Tracking run with wandb version 0.13.1"
      ],
      "text/plain": [
       "<IPython.core.display.HTML object>"
      ]
     },
     "metadata": {},
     "output_type": "display_data"
    },
    {
     "data": {
      "text/html": [
       "Run data is saved locally in <code>/content/Antenna-Performance-Prediction/wandb/run-20220816_111233-4m4bguoz</code>"
      ],
      "text/plain": [
       "<IPython.core.display.HTML object>"
      ]
     },
     "metadata": {},
     "output_type": "display_data"
    },
    {
     "data": {
      "text/html": [
       "Syncing run <strong><a href=\"https://wandb.ai/zbooster/Antenna_Hyper-1/runs/4m4bguoz\" target=\"_blank\">northern-sweep-13</a></strong> to <a href=\"https://wandb.ai/zbooster/Antenna_Hyper-1\" target=\"_blank\">Weights & Biases</a> (<a href=\"https://wandb.me/run\" target=\"_blank\">docs</a>)<br/>Sweep page:  <a href=\"https://wandb.ai/zbooster/Antenna_Hyper-1/sweeps/7snow94n\" target=\"_blank\">https://wandb.ai/zbooster/Antenna_Hyper-1/sweeps/7snow94n</a>"
      ],
      "text/plain": [
       "<IPython.core.display.HTML object>"
      ]
     },
     "metadata": {},
     "output_type": "display_data"
    },
    {
     "name": "stderr",
     "output_type": "stream",
     "text": [
      "\u001b[34m\u001b[1mwandb\u001b[0m: Ctrl + C detected. Stopping sweep.\n"
     ]
    }
   ],
   "source": [
    "wandb.agent(sweep_id, run_train)"
   ]
  },
  {
   "cell_type": "markdown",
   "metadata": {},
   "source": [
    "# 결과파일 작성"
   ]
  },
  {
   "cell_type": "code",
   "execution_count": 21,
   "metadata": {},
   "outputs": [
    {
     "name": "stdout",
     "output_type": "stream",
     "text": [
      "Done.\n"
     ]
    }
   ],
   "source": [
    "\n",
    "# 데이터 나누기\n",
    "X_train = train.filter(items=columns)\n",
    "y_train = train.filter(regex='Y')\n",
    "\n",
    "# 파이프라인 작성\n",
    "pipe = make_pipeline( \n",
    "  RandomForestRegressor(criterion=\"squared_error\"\n",
    "                      , random_state=13, n_jobs=-1\n",
    "                      , n_estimators=400\n",
    "                      , max_depth=80\n",
    "                      , min_samples_leaf=2\n",
    "                      , min_samples_split=2)\n",
    ")\n",
    "\n",
    "# 학습하기\n",
    "pipe.fit(X_train, y_train)\n",
    "\n",
    "# 테스트 데이터 넣어 결과 예측하기\n",
    "test = raw_data['test'].copy()\n",
    "X_test = test.filter(items=columns)\n",
    "y_pred = pipe.predict(X_test)\n",
    "print('Done.')"
   ]
  },
  {
   "cell_type": "code",
   "execution_count": 23,
   "metadata": {},
   "outputs": [
    {
     "data": {
      "text/plain": [
       "39608"
      ]
     },
     "execution_count": 23,
     "metadata": {},
     "output_type": "execute_result"
    }
   ],
   "source": [
    "len(y_pred)"
   ]
  },
  {
   "cell_type": "code",
   "execution_count": 22,
   "metadata": {},
   "outputs": [
    {
     "data": {
      "text/plain": [
       "39608"
      ]
     },
     "execution_count": 22,
     "metadata": {},
     "output_type": "execute_result"
    }
   ],
   "source": [
    "\n",
    "# 결과파일 제작\n",
    "submit = raw_data['sample_submission'].copy()\n",
    "\n",
    "len(submit)"
   ]
  },
  {
   "cell_type": "code",
   "execution_count": 24,
   "metadata": {},
   "outputs": [
    {
     "name": "stdout",
     "output_type": "stream",
     "text": [
      "Done.\n",
      "Done.\n"
     ]
    }
   ],
   "source": [
    "\n",
    "for idx, col in enumerate(submit.columns):\n",
    "  if col=='ID':\n",
    "      continue\n",
    "  submit[col] = y_pred[:,idx-1]\n",
    "print('Done.')\n",
    "# Google Drive에 업로드\n",
    "submit.to_csv('./datasets/submit.csv', index=False)\n",
    "print('Done.')"
   ]
  }
 ],
 "metadata": {
  "kernelspec": {
   "display_name": "Python 3.9.12 ('base')",
   "language": "python",
   "name": "python3"
  },
  "language_info": {
   "codemirror_mode": {
    "name": "ipython",
    "version": 3
   },
   "file_extension": ".py",
   "mimetype": "text/x-python",
   "name": "python",
   "nbconvert_exporter": "python",
   "pygments_lexer": "ipython3",
   "version": "3.9.12"
  },
  "orig_nbformat": 4,
  "vscode": {
   "interpreter": {
    "hash": "d4d1e4263499bec80672ea0156c357c1ee493ec2b1c70f0acce89fc37c4a6abe"
   }
  }
 },
 "nbformat": 4,
 "nbformat_minor": 2
}
