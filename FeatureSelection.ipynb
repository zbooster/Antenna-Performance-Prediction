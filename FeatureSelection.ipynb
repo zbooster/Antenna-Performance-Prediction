{
 "cells": [
  {
   "cell_type": "markdown",
   "metadata": {},
   "source": [
    "# 한글설정"
   ]
  },
  {
   "cell_type": "code",
   "execution_count": 1,
   "metadata": {},
   "outputs": [],
   "source": [
    "import matplotlib.pyplot as plt\n",
    "import matplotlib as mpl\n",
    "mpl.rcParams['axes.unicode_minus'] = False\n",
    "plt.rc('font', family='NanumGothicCoding')"
   ]
  },
  {
   "cell_type": "markdown",
   "metadata": {},
   "source": [
    "# 데이터 가져오기"
   ]
  },
  {
   "cell_type": "code",
   "execution_count": 2,
   "metadata": {},
   "outputs": [],
   "source": [
    "import os\n",
    "import gdown\n",
    "\n",
    "id = \"10Hpa4YM0KX_Ig0W9w7DbTdq62nF2UThA\"\n",
    "output = \"./open.zip\"\n",
    "\n",
    "if not os.path.isdir('./datasets'):\n",
    "  gdown.download(id=id, output=output)\n",
    "  gdown.extractall(path=output, to='./datasets')"
   ]
  },
  {
   "cell_type": "markdown",
   "metadata": {},
   "source": [
    "# 데이터프레임 만들기"
   ]
  },
  {
   "cell_type": "code",
   "execution_count": 3,
   "metadata": {},
   "outputs": [],
   "source": [
    "import os\n",
    "import glob\n",
    "import pandas as pd\n",
    "from collections import defaultdict\n",
    "\n",
    "raw_data = defaultdict(pd.DataFrame)\n",
    "\n",
    "for fname in glob.glob('./**/*.csv', recursive=True):\n",
    "    df_name = os.path.splitext(os.path.basename(fname))[0]\n",
    "    raw_data[df_name] = pd.read_csv(fname)"
   ]
  },
  {
   "cell_type": "markdown",
   "metadata": {},
   "source": [
    "* 정상(Normal)과 불량(Error) 데이터 분리"
   ]
  },
  {
   "cell_type": "code",
   "execution_count": 4,
   "metadata": {},
   "outputs": [],
   "source": [
    "train = raw_data['train'].copy()\n",
    "train['Status'] = 'Normal'\n",
    "for idx, val in raw_data['y_feature_spec_info'].iterrows():\n",
    "    train.loc[(train[val['Feature']] < val['최소']) | (train[val['Feature']] > val['최대']), ['Status']] = 'Error'"
   ]
  },
  {
   "cell_type": "code",
   "execution_count": 5,
   "metadata": {},
   "outputs": [
    {
     "data": {
      "image/png": "[encoded data removed]",
      "text/plain": [
       "<Figure size 432x288 with 1 Axes>"
      ]
     },
     "metadata": {
      "needs_background": "light"
     },
     "output_type": "display_data"
    }
   ],
   "source": [
    "import seaborn as sns\n",
    "\n",
    "sns.countplot(x='Status', data=train)\n",
    "plt.title('불량 판정')\n",
    "plt.show()"
   ]
  },
  {
   "cell_type": "markdown",
   "metadata": {},
   "source": [
    "# 평가함수"
   ]
  },
  {
   "cell_type": "code",
   "execution_count": 59,
   "metadata": {},
   "outputs": [],
   "source": [
    "import numpy as np\n",
    "from sklearn import metrics\n",
    "\n",
    "# 데이콘에서 제공한 평가함수\n",
    "def lg_nrmse(gt, preds):\n",
    "    # 각 Y Feature별 NRMSE 총합\n",
    "    # Y_01 ~ Y_08 까지 20% 가중치 부여\n",
    "    # gt = gt.to_numpy()\n",
    "    all_nrmse = []\n",
    "    for idx in range(0,14): # ignore 'ID'\n",
    "        rmse = metrics.mean_squared_error(gt[:,idx], preds[:,idx], squared=False)\n",
    "        nrmse = rmse/np.mean(np.abs(gt[:,idx]))\n",
    "        all_nrmse.append(nrmse)\n",
    "    score = 1.2 * np.sum(all_nrmse[:8]) + 1.0 * np.sum(all_nrmse[8:14])\n",
    "    return score"
   ]
  },
  {
   "cell_type": "markdown",
   "metadata": {},
   "source": [
    "* 평가함수에서 가중치를 제외"
   ]
  },
  {
   "cell_type": "code",
   "execution_count": 7,
   "metadata": {},
   "outputs": [],
   "source": [
    "def except_nrmse(gt, preds):\n",
    "    # 각 Y Feature별 NRMSE 총합\n",
    "    all_nrmse = []\n",
    "    for idx in range(len(gt)): # ignore 'ID'\n",
    "        rmse = metrics.mean_squared_error(gt[:,idx], preds[:,idx], squared=False)\n",
    "        nrmse = rmse/np.mean(np.abs(gt[:,idx]))\n",
    "        all_nrmse.append(nrmse)\n",
    "    score = np.sum(all_nrmse)\n",
    "    return score"
   ]
  },
  {
   "cell_type": "markdown",
   "metadata": {},
   "source": [
    "# "
   ]
  },
  {
   "cell_type": "markdown",
   "metadata": {},
   "source": [
    "## 가중치 1.2를 가진 Y값에 대한 Feature Selection"
   ]
  },
  {
   "cell_type": "code",
   "execution_count": 66,
   "metadata": {},
   "outputs": [],
   "source": [
    "import numpy as np\n",
    "from sklearn.model_selection import train_test_split\n",
    "from sklearn.feature_selection import mutual_info_regression\n",
    "\n",
    "\n",
    "X = train.filter(regex='X').drop(columns=['X_04', 'X_23', 'X_47', 'X_48'])\n",
    "result = np.zeros(len(X))\n",
    "\n",
    "for i in range(14):\n",
    "\n",
    "    y = train.filter(items=[f'Y_{i+1:02d}']).values.ravel() #[ f'Y_{i+1:02d}' for i in range(8) ]\n",
    "    mi = mutual_info_regression(X, y, discrete_features='auto'\n",
    "                                    , n_neighbors=3, copy=True, random_state=13)\n",
    "\n",
    "    mi = (1.2 if i < 8 else 1) * mi\n",
    "    if i == 0:\n",
    "        result = mi\n",
    "    else:\n",
    "        result += mi"
   ]
  },
  {
   "cell_type": "code",
   "execution_count": 91,
   "metadata": {},
   "outputs": [
    {
     "data": {
      "text/html": [
       "<div>\n",
       "<style scoped>\n",
       "    .dataframe tbody tr th:only-of-type {\n",
       "        vertical-align: middle;\n",
       "    }\n",
       "\n",
       "    .dataframe tbody tr th {\n",
       "        vertical-align: top;\n",
       "    }\n",
       "\n",
       "    .dataframe thead th {\n",
       "        text-align: right;\n",
       "    }\n",
       "</style>\n",
       "<table border=\"1\" class=\"dataframe\">\n",
       "  <thead>\n",
       "    <tr style=\"text-align: right;\">\n",
       "      <th></th>\n",
       "      <th>0</th>\n",
       "    </tr>\n",
       "  </thead>\n",
       "  <tbody>\n",
       "    <tr>\n",
       "      <th>X_01</th>\n",
       "      <td>0.040506</td>\n",
       "    </tr>\n",
       "    <tr>\n",
       "      <th>X_02</th>\n",
       "      <td>0.014407</td>\n",
       "    </tr>\n",
       "    <tr>\n",
       "      <th>X_03</th>\n",
       "      <td>0.142101</td>\n",
       "    </tr>\n",
       "    <tr>\n",
       "      <th>X_05</th>\n",
       "      <td>0.086015</td>\n",
       "    </tr>\n",
       "    <tr>\n",
       "      <th>X_06</th>\n",
       "      <td>0.036350</td>\n",
       "    </tr>\n",
       "  </tbody>\n",
       "</table>\n",
       "</div>"
      ],
      "text/plain": [
       "             0\n",
       "X_01  0.040506\n",
       "X_02  0.014407\n",
       "X_03  0.142101\n",
       "X_05  0.086015\n",
       "X_06  0.036350"
      ]
     },
     "execution_count": 91,
     "metadata": {},
     "output_type": "execute_result"
    }
   ],
   "source": [
    "result_df = pd.DataFrame(index=X.columns, data=result)\n",
    "result_df.head()"
   ]
  },
  {
   "cell_type": "code",
   "execution_count": 80,
   "metadata": {},
   "outputs": [
    {
     "data": {
      "image/png": "[encoded data removed]",
      "text/plain": [
       "<Figure size 648x864 with 1 Axes>"
      ]
     },
     "metadata": {
      "needs_background": "light"
     },
     "output_type": "display_data"
    }
   ],
   "source": [
    "import seaborn as sns\n",
    "\n",
    "fig, ax = plt.subplots(figsize=(9,12))\n",
    "sns.barplot(y=X.columns, x=result, ax=ax)\n",
    "plt.show()"
   ]
  },
  {
   "cell_type": "markdown",
   "metadata": {},
   "source": [
    "## SelectFromModel"
   ]
  },
  {
   "cell_type": "code",
   "execution_count": 96,
   "metadata": {},
   "outputs": [],
   "source": [
    "from sklearn.feature_selection import SelectFromModel\n",
    "from sklearn.ensemble import RandomForestRegressor\n",
    "\n",
    "X = train.filter(regex='X').drop(columns=['X_04', 'X_23', 'X_47', 'X_48'])\n",
    "# y = train.filter(regex='Y')\n",
    "y = train.filter(items=[ f'Y_{i+1:02d}' for i in range(8) ])\n",
    "\n",
    "selector = SelectFromModel(estimator=RandomForestRegressor(n_estimators=200), max_features=10).fit(X, y)\n"
   ]
  },
  {
   "cell_type": "code",
   "execution_count": 93,
   "metadata": {},
   "outputs": [
    {
     "data": {
      "text/plain": [
       "0.019230769230769235"
      ]
     },
     "execution_count": 93,
     "metadata": {},
     "output_type": "execute_result"
    }
   ],
   "source": [
    "selector.threshold_"
   ]
  },
  {
   "cell_type": "code",
   "execution_count": 97,
   "metadata": {},
   "outputs": [
    {
     "data": {
      "text/plain": [
       "Index(['X_03', 'X_05', 'X_07', 'X_08', 'X_09', 'X_49', 'X_51', 'X_52', 'X_53',\n",
       "       'X_56'],\n",
       "      dtype='object')"
      ]
     },
     "execution_count": 97,
     "metadata": {},
     "output_type": "execute_result"
    }
   ],
   "source": [
    "selected_columns = X.columns\n",
    "selected_columns[selector.get_support()]"
   ]
  },
  {
   "cell_type": "code",
   "execution_count": 101,
   "metadata": {},
   "outputs": [
    {
     "data": {
      "text/plain": [
       "Index(['X_03', 'X_05', 'X_07', 'X_08', 'X_09', 'X_19', 'X_20', 'X_21', 'X_22',\n",
       "       'X_34', 'X_37', 'X_49', 'X_50', 'X_51', 'X_52', 'X_53', 'X_54', 'X_55',\n",
       "       'X_56'],\n",
       "      dtype='object')"
      ]
     },
     "execution_count": 101,
     "metadata": {},
     "output_type": "execute_result"
    }
   ],
   "source": [
    "y = train.filter(items=[ f'Y_{i+1:02d}' for i in range(8) ])\n",
    "\n",
    "selector = SelectFromModel(estimator=RandomForestRegressor(n_estimators=400, n_jobs=-1), max_features=40).fit(X, y)\n",
    "\n",
    "selected_columns = X.columns\n",
    "selected_columns[selector.get_support()]"
   ]
  },
  {
   "cell_type": "code",
   "execution_count": 102,
   "metadata": {},
   "outputs": [
    {
     "data": {
      "text/plain": [
       "Index(['X_03', 'X_05', 'X_07', 'X_08', 'X_09', 'X_19', 'X_20', 'X_21', 'X_22',\n",
       "       'X_35', 'X_49', 'X_50', 'X_51', 'X_52', 'X_53', 'X_54', 'X_55', 'X_56'],\n",
       "      dtype='object')"
      ]
     },
     "execution_count": 102,
     "metadata": {},
     "output_type": "execute_result"
    }
   ],
   "source": [
    "y = train.filter(items=[ f'Y_{i+1:02d}' for i in range(8, 14) ])\n",
    "\n",
    "selector = SelectFromModel(estimator=RandomForestRegressor(n_estimators=400, n_jobs=-1), max_features=40).fit(X, y)\n",
    "\n",
    "selected_columns = X.columns\n",
    "selected_columns[selector.get_support()]"
   ]
  },
  {
   "cell_type": "code",
   "execution_count": 103,
   "metadata": {},
   "outputs": [
    {
     "ename": "AttributeError",
     "evalue": "'SelectFromModel' object has no attribute 'feature_importances_'",
     "output_type": "error",
     "traceback": [
      "\u001b[0;31m---------------------------------------------------------------------------\u001b[0m",
      "\u001b[0;31mAttributeError\u001b[0m                            Traceback (most recent call last)",
      "\u001b[1;32m/content/Antenna-Performance-Prediction/FeatureSelection.ipynb Cell 25\u001b[0m in \u001b[0;36m<cell line: 1>\u001b[0;34m()\u001b[0m\n\u001b[0;32m----> <a href='vscode-notebook-cell://attached-container%2B7b22636f6e7461696e65724e616d65223a222f616e74656e6e61222c2273657474696e6773223a7b22686f7374223a227373683a2f2f3139322e3136382e302e37227d7d/content/Antenna-Performance-Prediction/FeatureSelection.ipynb#X64sdnNjb2RlLXJlbW90ZQ%3D%3D?line=0'>1</a>\u001b[0m selector\u001b[39m.\u001b[39;49mfeature_importances_\n",
      "\u001b[0;31mAttributeError\u001b[0m: 'SelectFromModel' object has no attribute 'feature_importances_'"
     ]
    }
   ],
   "source": [
    "selector. feature_importances_ "
   ]
  },
  {
   "cell_type": "code",
   "execution_count": 95,
   "metadata": {},
   "outputs": [
    {
     "data": {
      "text/plain": [
       "array([[ 67.47    , 101.892   ,  29.45    , ..., 147.837968, 134.313475,\n",
       "        125.028256],\n",
       "       [ 65.17    , 101.944   ,  28.73    , ..., 149.924692, 123.630583,\n",
       "        124.877308],\n",
       "       [ 64.07    , 103.153   ,  28.81    , ..., 146.814592, 128.93907 ,\n",
       "        122.238232],\n",
       "       ...,\n",
       "       [ 64.67    , 103.144   ,  29.96    , ..., 134.419328, 129.115431,\n",
       "        119.166699],\n",
       "       [ 63.67    , 102.025   ,  30.3     , ..., 141.288011, 130.141676,\n",
       "        124.525929],\n",
       "       [ 65.67    , 102.004   ,  30.16    , ..., 142.019357, 123.752157,\n",
       "        136.714504]])"
      ]
     },
     "execution_count": 95,
     "metadata": {},
     "output_type": "execute_result"
    }
   ],
   "source": [
    "selector.transform(X)"
   ]
  },
  {
   "cell_type": "code",
   "execution_count": null,
   "metadata": {},
   "outputs": [],
   "source": [
    "\n",
    "\n",
    "# X_train, y_train, X_test, y_test = train_test_split(X, y, test_size=0.2, random_state=13)\n",
    "\n",
    "# selector = SelectKBest(score_func=mutual_info_regression)\n",
    "\n",
    "# X_trian_sel = selector.fit(X_train, y_train)\n",
    "# X_test_set = selector.transform(X_test)\n",
    "\n",
    "# # select 된 feature 확인\n",
    "# all_col = X_train.columns\n",
    "# all_col[selector.get_support()]\n",
    "# # get_support() : select feature=True, Unselect feature=False로 반환\n",
    "\n",
    "# # selected feature 들의 영향력(score)을 확인\n",
    "# df_score = pd.DataFrame(selector.scores_,\n",
    "# \t\t\t\t\t\tselector.feature_names_in_)\n",
    "# df_score                        \n"
   ]
  },
  {
   "cell_type": "code",
   "execution_count": 27,
   "metadata": {},
   "outputs": [],
   "source": [
    "def get_outlier(df=None, column=None, weight=1.5, status='Error'):\n",
    "    fraud = df[df['Status'] == status][column]\n",
    "    quantile_25 = np.percentile(fraud.values, 25)\n",
    "    quantile_75 = np.percentile(fraud.values, 75)\n",
    "\n",
    "    iqr = quantile_75 - quantile_25\n",
    "    iqr_weight = iqr * weight\n",
    "    lowest_val = quantile_25 - iqr_weight\n",
    "    highest_val = quantile_75 + iqr_weight\n",
    "\n",
    "    outlier_index = fraud[(fraud < lowest_val) | (fraud > highest_val)].index\n",
    "\n",
    "    return outlier_index\n",
    "\n",
    "def remove_outlier(df, columns, status, weight, max_limit=40000):\n",
    "    outlier_list = []\n",
    "\n",
    "    for colname in columns: \n",
    "        outlier = get_outlier(df, colname, weight=weight, status=status)\n",
    "        if len(outlier) > max_limit:\n",
    "            continue\n",
    "        outlier_list.extend(outlier)\n",
    "\n",
    "    result = df.drop(outlier_list, axis=0).copy()\n",
    "\n",
    "    return result"
   ]
  },
  {
   "cell_type": "markdown",
   "metadata": {},
   "source": [
    "# 학습하기"
   ]
  },
  {
   "cell_type": "code",
   "execution_count": 82,
   "metadata": {},
   "outputs": [],
   "source": [
    "from sklearn.preprocessing import MinMaxScaler\n",
    "from sklearn.preprocessing import MaxAbsScaler\n",
    "from sklearn.preprocessing import StandardScaler\n",
    "from sklearn.preprocessing import RobustScaler\n",
    "from sklearn.preprocessing import Normalizer\n",
    "from sklearn.preprocessing import QuantileTransformer\n",
    "from sklearn.preprocessing import PowerTransformer\n",
    "\n",
    "scaler_list = [\n",
    "    ('Unscaled', None),\n",
    "    ('Standard', StandardScaler()),\n",
    "    ('Min-Max', MinMaxScaler()),\n",
    "    ('Min-Abs', MaxAbsScaler()),\n",
    "    ('Robust', RobustScaler(quantile_range=(25, 75))),\n",
    "    ('uniform pdf', QuantileTransformer(output_distribution=\"uniform\")),\n",
    "    ('gaussian pdf', QuantileTransformer(output_distribution=\"normal\")),\n",
    "    ('L2 normalizing', Normalizer())\n",
    "]"
   ]
  },
  {
   "cell_type": "code",
   "execution_count": 83,
   "metadata": {},
   "outputs": [],
   "source": [
    "import time\n",
    "from sklearn.model_selection import train_test_split\n",
    "from sklearn.pipeline import make_pipeline\n",
    "from sklearn.ensemble import RandomForestRegressor\n",
    "from sklearn.model_selection import KFold\n",
    "\n",
    "def run_train(scaler=None):\n",
    "\n",
    "  kf = KFold(shuffle=True, random_state=13)\n",
    "  loss = []\n",
    "  \n",
    "  # 데이터 나누기\n",
    "  X, y = train.filter(regex='X').values, train.filter(regex='Y').values\n",
    "  for train_index, test_index in kf.split(X):\n",
    "    since = time.time()\n",
    "    X_train, X_test = X[train_index], X[test_index]\n",
    "    y_train, y_test = y[train_index], y[test_index]\n",
    "\n",
    "    # 파이프라인 작성\n",
    "    pipe = make_pipeline( \n",
    "      scaler[1], \n",
    "      RandomForestRegressor(criterion=\"squared_error\", random_state=13, n_jobs=-1, n_estimators=200)\n",
    "    )\n",
    "\n",
    "    # 학습하기\n",
    "    pipe.fit(X_train, y_train)\n",
    "\n",
    "    # 검증하기\n",
    "    y_pred = pipe.predict(X_test)\n",
    "\n",
    "    # 평가 및 기록\n",
    "    elapsed = time.time() - since\n",
    "    result = lg_nrmse(y_test, y_pred)\n",
    "    print(\"Loss: {:.4f}, Elapsed Time: {:.2f}\".format(result, elapsed))\n",
    "    loss.append(result)\n",
    "  print(\"{}, Best: {:.4f}, Avg:{:.4f}\".format(scaler[0], min(loss), np.mean(loss)))\n",
    "\n",
    "  return pipe[1], result"
   ]
  },
  {
   "cell_type": "code",
   "execution_count": 86,
   "metadata": {},
   "outputs": [],
   "source": [
    "best_loss = 15\n",
    "\n",
    "for scaler in scaler_list:\n",
    "    model, result = run_train(scaler=scaler)\n",
    "    if result < best_loss:\n",
    "        best_loss = result\n",
    "        best_model = model\n",
    "        \n"
   ]
  },
  {
   "cell_type": "markdown",
   "metadata": {},
   "source": [
    "# 결과파일 작성"
   ]
  },
  {
   "cell_type": "code",
   "execution_count": null,
   "metadata": {},
   "outputs": [
    {
     "name": "stdout",
     "output_type": "stream",
     "text": [
      "Done.\n",
      "Done.\n",
      "Done.\n"
     ]
    }
   ],
   "source": [
    "def make_summit(model):\n",
    "  test = raw_data['test'].drop(columns=['ID']).copy()\n",
    "\n",
    "  test = apply_scaler(test)\n",
    "\n",
    "  preds = model.predict(test)\n",
    "  print('Done.')\n",
    "\n",
    "  submit = raw_data['sample_submission'].copy()\n",
    "  for idx, col in enumerate(submit.columns):\n",
    "    if col=='ID':\n",
    "        continue\n",
    "    submit[col] = preds[:,idx-1]\n",
    "  print('Done.')\n",
    "\n",
    "  submit.to_csv('/content/submit.csv', index=False)\n",
    "  print('Done.')\n",
    "\n",
    "make_summit(best_model)"
   ]
  }
 ],
 "metadata": {
  "kernelspec": {
   "display_name": "Python 3.9.12 ('base')",
   "language": "python",
   "name": "python3"
  },
  "language_info": {
   "codemirror_mode": {
    "name": "ipython",
    "version": 3
   },
   "file_extension": ".py",
   "mimetype": "text/x-python",
   "name": "python",
   "nbconvert_exporter": "python",
   "pygments_lexer": "ipython3",
   "version": "3.9.12"
  },
  "orig_nbformat": 4,
  "vscode": {
   "interpreter": {
    "hash": "d4d1e4263499bec80672ea0156c357c1ee493ec2b1c70f0acce89fc37c4a6abe"
   }
  }
 },
 "nbformat": 4,
 "nbformat_minor": 2
}
