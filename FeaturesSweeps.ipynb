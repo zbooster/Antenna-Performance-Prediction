{
 "cells": [
  {
   "cell_type": "markdown",
   "metadata": {},
   "source": [
    "# 한글설정"
   ]
  },
  {
   "cell_type": "code",
   "execution_count": 1,
   "metadata": {},
   "outputs": [],
   "source": [
    "!apt-get install fonts-nanum* > /dev/null 2>&1\n",
    "!fc-cache -fv > /dev/null 2>&1"
   ]
  },
  {
   "cell_type": "code",
   "execution_count": 2,
   "metadata": {},
   "outputs": [],
   "source": [
    "import os\n",
    "import matplotlib as mpl\n",
    "\n",
    "file_dir = os.path.split(mpl.__file__)[0]\n",
    "font_dir = os.path.join(file_dir, 'mpl-data/fonts/ttf')\n",
    "!cp /usr/share/fonts/truetype/nanum/Nanum* {font_dir}\n",
    "!rm -rf ~/.cache/matplotlib/*"
   ]
  },
  {
   "cell_type": "markdown",
   "metadata": {},
   "source": [
    "> Runtime Restart"
   ]
  },
  {
   "cell_type": "code",
   "execution_count": 1,
   "metadata": {},
   "outputs": [],
   "source": [
    "import matplotlib.pyplot as plt\n",
    "import matplotlib as mpl\n",
    "mpl.rcParams['axes.unicode_minus'] = False\n",
    "plt.rc('font', family='NanumGothicCoding')"
   ]
  },
  {
   "cell_type": "markdown",
   "metadata": {},
   "source": [
    "# 데이터 가져오기"
   ]
  },
  {
   "cell_type": "code",
   "execution_count": 2,
   "metadata": {},
   "outputs": [],
   "source": [
    "import os\n",
    "import gdown\n",
    "\n",
    "id = \"10Hpa4YM0KX_Ig0W9w7DbTdq62nF2UThA\"\n",
    "output = \"./open.zip\"\n",
    "\n",
    "if not os.path.isdir('./datasets'):\n",
    "  gdown.download(id=id, output=output)\n",
    "  gdown.extractall(path=output, to='./datasets')"
   ]
  },
  {
   "cell_type": "markdown",
   "metadata": {},
   "source": [
    "# 데이터프레임 만들기"
   ]
  },
  {
   "cell_type": "code",
   "execution_count": 1,
   "metadata": {},
   "outputs": [],
   "source": [
    "import os\n",
    "import glob\n",
    "import pandas as pd\n",
    "from collections import defaultdict\n",
    "\n",
    "raw_data = defaultdict(pd.DataFrame)\n",
    "\n",
    "for fname in glob.glob('./**/*.csv', recursive=True):\n",
    "    df_name = os.path.splitext(os.path.basename(fname))[0]\n",
    "    raw_data[df_name] = pd.read_csv(fname)"
   ]
  },
  {
   "cell_type": "markdown",
   "metadata": {},
   "source": [
    "# Weights & Biases 설정"
   ]
  },
  {
   "cell_type": "code",
   "execution_count": 9,
   "metadata": {},
   "outputs": [
    {
     "name": "stdout",
     "output_type": "stream",
     "text": [
      "Requirement already satisfied: pathlib in /opt/conda/lib/python3.9/site-packages (1.0.1)\n",
      "Requirement already satisfied: ruamel-yaml in /opt/conda/lib/python3.9/site-packages (0.17.21)\n",
      "Requirement already satisfied: ruamel.yaml.clib>=0.2.6 in /opt/conda/lib/python3.9/site-packages (from ruamel-yaml) (0.2.6)\n",
      "\u001b[33mWARNING: Running pip as the 'root' user can result in broken permissions and conflicting behaviour with the system package manager. It is recommended to use a virtual environment instead: https://pip.pypa.io/warnings/venv\u001b[0m\n"
     ]
    }
   ],
   "source": [
    "!pip install pathlib ruamel-yaml"
   ]
  },
  {
   "cell_type": "code",
   "execution_count": 10,
   "metadata": {},
   "outputs": [
    {
     "name": "stdout",
     "output_type": "stream",
     "text": [
      "\u001b[33mWARNING: Running pip as the 'root' user can result in broken permissions and conflicting behaviour with the system package manager. It is recommended to use a virtual environment instead: https://pip.pypa.io/warnings/venv\u001b[0m\n"
     ]
    }
   ],
   "source": [
    "!pip install wandb -Uq"
   ]
  },
  {
   "cell_type": "code",
   "execution_count": 118,
   "metadata": {},
   "outputs": [
    {
     "data": {
      "text/plain": [
       "32"
      ]
     },
     "execution_count": 118,
     "metadata": {},
     "output_type": "execute_result"
    }
   ],
   "source": [
    "result_ex1 = pd.read_csv('./datasets/Feature_Except_1.csv')\n",
    "base_nrmse = result_ex1[result_ex1['remove_column'] == 'All']['LG_NRMSE_MEAN'].values[0]\n",
    "ex_mean = result_ex1[result_ex1['LG_NRMSE_MEAN'] < base_nrmse]['remove_column'].values.tolist()\n",
    "required_column = train.filter(regex='X').drop(columns=ex_mean).columns.to_list()"
   ]
  },
  {
   "cell_type": "code",
   "execution_count": 131,
   "metadata": {},
   "outputs": [
    {
     "data": {
      "text/html": [
       "<div>\n",
       "<style scoped>\n",
       "    .dataframe tbody tr th:only-of-type {\n",
       "        vertical-align: middle;\n",
       "    }\n",
       "\n",
       "    .dataframe tbody tr th {\n",
       "        vertical-align: top;\n",
       "    }\n",
       "\n",
       "    .dataframe thead th {\n",
       "        text-align: right;\n",
       "    }\n",
       "</style>\n",
       "<table border=\"1\" class=\"dataframe\">\n",
       "  <thead>\n",
       "    <tr style=\"text-align: right;\">\n",
       "      <th></th>\n",
       "      <th>Name</th>\n",
       "      <th>State</th>\n",
       "      <th>Notes</th>\n",
       "      <th>User</th>\n",
       "      <th>Tags</th>\n",
       "      <th>Created</th>\n",
       "      <th>Runtime</th>\n",
       "      <th>Sweep</th>\n",
       "      <th>add_column</th>\n",
       "      <th>LG_NRMSE_BEST</th>\n",
       "      <th>...</th>\n",
       "      <th>Y_05_NRMSE</th>\n",
       "      <th>Y_06_NRMSE</th>\n",
       "      <th>Y_07_NRMSE</th>\n",
       "      <th>Y_08_NRMSE</th>\n",
       "      <th>Y_09_NRMSE</th>\n",
       "      <th>Y_10_NRMSE</th>\n",
       "      <th>Y_11_NRMSE</th>\n",
       "      <th>Y_12_NRMSE</th>\n",
       "      <th>Y_13_NRMSE</th>\n",
       "      <th>Y_14_NRMSE</th>\n",
       "    </tr>\n",
       "  </thead>\n",
       "  <tbody>\n",
       "    <tr>\n",
       "      <th>0</th>\n",
       "      <td>quiet-sweep-12</td>\n",
       "      <td>finished</td>\n",
       "      <td>-</td>\n",
       "      <td>zbooster</td>\n",
       "      <td>NaN</td>\n",
       "      <td>2022-08-16T03:15:13.000Z</td>\n",
       "      <td>114</td>\n",
       "      <td>1537riwk</td>\n",
       "      <td>X_14</td>\n",
       "      <td>1.934971</td>\n",
       "      <td>...</td>\n",
       "      <td>0.079127</td>\n",
       "      <td>0.103242</td>\n",
       "      <td>0.128978</td>\n",
       "      <td>0.023879</td>\n",
       "      <td>0.023693</td>\n",
       "      <td>0.038067</td>\n",
       "      <td>0.033196</td>\n",
       "      <td>0.023831</td>\n",
       "      <td>0.023782</td>\n",
       "      <td>0.023816</td>\n",
       "    </tr>\n",
       "    <tr>\n",
       "      <th>1</th>\n",
       "      <td>major-sweep-30</td>\n",
       "      <td>finished</td>\n",
       "      <td>-</td>\n",
       "      <td>zbooster</td>\n",
       "      <td>NaN</td>\n",
       "      <td>2022-08-16T03:51:09.000Z</td>\n",
       "      <td>125</td>\n",
       "      <td>1537riwk</td>\n",
       "      <td>X_30</td>\n",
       "      <td>1.935857</td>\n",
       "      <td>...</td>\n",
       "      <td>0.079175</td>\n",
       "      <td>0.103402</td>\n",
       "      <td>0.129010</td>\n",
       "      <td>0.023799</td>\n",
       "      <td>0.023608</td>\n",
       "      <td>0.038084</td>\n",
       "      <td>0.033159</td>\n",
       "      <td>0.023748</td>\n",
       "      <td>0.023702</td>\n",
       "      <td>0.023742</td>\n",
       "    </tr>\n",
       "    <tr>\n",
       "      <th>2</th>\n",
       "      <td>vital-sweep-27</td>\n",
       "      <td>finished</td>\n",
       "      <td>-</td>\n",
       "      <td>zbooster</td>\n",
       "      <td>NaN</td>\n",
       "      <td>2022-08-16T03:44:58.000Z</td>\n",
       "      <td>120</td>\n",
       "      <td>1537riwk</td>\n",
       "      <td>X_32</td>\n",
       "      <td>1.936377</td>\n",
       "      <td>...</td>\n",
       "      <td>0.079217</td>\n",
       "      <td>0.103455</td>\n",
       "      <td>0.129039</td>\n",
       "      <td>0.023796</td>\n",
       "      <td>0.023610</td>\n",
       "      <td>0.038084</td>\n",
       "      <td>0.033169</td>\n",
       "      <td>0.023748</td>\n",
       "      <td>0.023699</td>\n",
       "      <td>0.023739</td>\n",
       "    </tr>\n",
       "    <tr>\n",
       "      <th>3</th>\n",
       "      <td>legendary-sweep-26</td>\n",
       "      <td>finished</td>\n",
       "      <td>-</td>\n",
       "      <td>zbooster</td>\n",
       "      <td>NaN</td>\n",
       "      <td>2022-08-16T03:43:02.000Z</td>\n",
       "      <td>114</td>\n",
       "      <td>1537riwk</td>\n",
       "      <td>X_15</td>\n",
       "      <td>1.935445</td>\n",
       "      <td>...</td>\n",
       "      <td>0.079173</td>\n",
       "      <td>0.103198</td>\n",
       "      <td>0.129052</td>\n",
       "      <td>0.023893</td>\n",
       "      <td>0.023704</td>\n",
       "      <td>0.038096</td>\n",
       "      <td>0.033207</td>\n",
       "      <td>0.023842</td>\n",
       "      <td>0.023794</td>\n",
       "      <td>0.023831</td>\n",
       "    </tr>\n",
       "    <tr>\n",
       "      <th>4</th>\n",
       "      <td>smooth-sweep-15</td>\n",
       "      <td>finished</td>\n",
       "      <td>-</td>\n",
       "      <td>zbooster</td>\n",
       "      <td>NaN</td>\n",
       "      <td>2022-08-16T03:21:25.000Z</td>\n",
       "      <td>114</td>\n",
       "      <td>1537riwk</td>\n",
       "      <td>X_18</td>\n",
       "      <td>1.936237</td>\n",
       "      <td>...</td>\n",
       "      <td>0.079157</td>\n",
       "      <td>0.103532</td>\n",
       "      <td>0.129067</td>\n",
       "      <td>0.023890</td>\n",
       "      <td>0.023702</td>\n",
       "      <td>0.038095</td>\n",
       "      <td>0.033201</td>\n",
       "      <td>0.023841</td>\n",
       "      <td>0.023791</td>\n",
       "      <td>0.023826</td>\n",
       "    </tr>\n",
       "  </tbody>\n",
       "</table>\n",
       "<p>5 rows × 25 columns</p>\n",
       "</div>"
      ],
      "text/plain": [
       "                 Name     State Notes      User  Tags  \\\n",
       "0      quiet-sweep-12  finished     -  zbooster   NaN   \n",
       "1      major-sweep-30  finished     -  zbooster   NaN   \n",
       "2      vital-sweep-27  finished     -  zbooster   NaN   \n",
       "3  legendary-sweep-26  finished     -  zbooster   NaN   \n",
       "4     smooth-sweep-15  finished     -  zbooster   NaN   \n",
       "\n",
       "                    Created  Runtime     Sweep add_column  LG_NRMSE_BEST  ...  \\\n",
       "0  2022-08-16T03:15:13.000Z      114  1537riwk       X_14       1.934971  ...   \n",
       "1  2022-08-16T03:51:09.000Z      125  1537riwk       X_30       1.935857  ...   \n",
       "2  2022-08-16T03:44:58.000Z      120  1537riwk       X_32       1.936377  ...   \n",
       "3  2022-08-16T03:43:02.000Z      114  1537riwk       X_15       1.935445  ...   \n",
       "4  2022-08-16T03:21:25.000Z      114  1537riwk       X_18       1.936237  ...   \n",
       "\n",
       "   Y_05_NRMSE  Y_06_NRMSE  Y_07_NRMSE  Y_08_NRMSE  Y_09_NRMSE  Y_10_NRMSE  \\\n",
       "0    0.079127    0.103242    0.128978    0.023879    0.023693    0.038067   \n",
       "1    0.079175    0.103402    0.129010    0.023799    0.023608    0.038084   \n",
       "2    0.079217    0.103455    0.129039    0.023796    0.023610    0.038084   \n",
       "3    0.079173    0.103198    0.129052    0.023893    0.023704    0.038096   \n",
       "4    0.079157    0.103532    0.129067    0.023890    0.023702    0.038095   \n",
       "\n",
       "   Y_11_NRMSE  Y_12_NRMSE  Y_13_NRMSE  Y_14_NRMSE  \n",
       "0    0.033196    0.023831    0.023782    0.023816  \n",
       "1    0.033159    0.023748    0.023702    0.023742  \n",
       "2    0.033169    0.023748    0.023699    0.023739  \n",
       "3    0.033207    0.023842    0.023794    0.023831  \n",
       "4    0.033201    0.023841    0.023791    0.023826  \n",
       "\n",
       "[5 rows x 25 columns]"
      ]
     },
     "execution_count": 131,
     "metadata": {},
     "output_type": "execute_result"
    }
   ],
   "source": [
    "result_ex2 = pd.read_csv('./datasets/Feature_Except_2.csv')\n",
    "result_ex2.head()\n"
   ]
  },
  {
   "cell_type": "code",
   "execution_count": 222,
   "metadata": {},
   "outputs": [
    {
     "data": {
      "text/plain": [
       "['X_03',\n",
       " 'X_04',\n",
       " 'X_05',\n",
       " 'X_06',\n",
       " 'X_07',\n",
       " 'X_08',\n",
       " 'X_09',\n",
       " 'X_10',\n",
       " 'X_11',\n",
       " 'X_16',\n",
       " 'X_17',\n",
       " 'X_19',\n",
       " 'X_20',\n",
       " 'X_22',\n",
       " 'X_26',\n",
       " 'X_28',\n",
       " 'X_29',\n",
       " 'X_31',\n",
       " 'X_33',\n",
       " 'X_38',\n",
       " 'X_42',\n",
       " 'X_44',\n",
       " 'X_45',\n",
       " 'X_49']"
      ]
     },
     "execution_count": 222,
     "metadata": {},
     "output_type": "execute_result"
    }
   ],
   "source": [
    "required_column"
   ]
  },
  {
   "cell_type": "code",
   "execution_count": 218,
   "metadata": {},
   "outputs": [],
   "source": [
    "\n",
    "base_nrmse = result_ex2[result_ex2['Sweep'] == '3vy4v14g']['LG_NRMSE_MEAN'].values[0]\n",
    "all_add = result_ex2[result_ex2['LG_NRMSE_MEAN'] < base_nrmse]['add_column'].values.tolist()\n",
    "\n"
   ]
  },
  {
   "cell_type": "code",
   "execution_count": 219,
   "metadata": {},
   "outputs": [],
   "source": [
    "for cname in ['X_13', 'X_47', 'X_23', 'X_48', 'X_30', 'X_41', 'X_43']:\n",
    "     all_add.remove(cname)"
   ]
  },
  {
   "cell_type": "code",
   "execution_count": 220,
   "metadata": {},
   "outputs": [
    {
     "data": {
      "text/plain": [
       "['X_14', 'X_32', 'X_15', 'X_18', 'X_46', 'X_01']"
      ]
     },
     "execution_count": 220,
     "metadata": {},
     "output_type": "execute_result"
    }
   ],
   "source": [
    "all_add"
   ]
  },
  {
   "cell_type": "code",
   "execution_count": 227,
   "metadata": {},
   "outputs": [
    {
     "data": {
      "text/plain": [
       "30"
      ]
     },
     "execution_count": 227,
     "metadata": {},
     "output_type": "execute_result"
    }
   ],
   "source": [
    "required_column.extend(all_add)\n",
    "len(set(required_column))"
   ]
  },
  {
   "cell_type": "code",
   "execution_count": 209,
   "metadata": {},
   "outputs": [
    {
     "data": {
      "text/plain": [
       "(6, [['X_14', 'X_32', 'X_15', 'X_18', 'X_46']])"
      ]
     },
     "execution_count": 209,
     "metadata": {},
     "output_type": "execute_result"
    }
   ],
   "source": [
    "from itertools import combinations\n",
    "\n",
    "# len(list(combinations(all_add, len(all_add)-1)))\n",
    "ex1 = []\n",
    "for val in combinations(all_add, len(all_add)-1):\n",
    "    ex1.append(list(val))\n",
    "\n",
    "len(ex1), ex1[:1]\n"
   ]
  },
  {
   "cell_type": "code",
   "execution_count": 210,
   "metadata": {},
   "outputs": [
    {
     "data": {
      "text/plain": [
       "True"
      ]
     },
     "execution_count": 210,
     "metadata": {},
     "output_type": "execute_result"
    }
   ],
   "source": [
    "import wandb\n",
    "\n",
    "wandb.login()"
   ]
  },
  {
   "cell_type": "code",
   "execution_count": 211,
   "metadata": {},
   "outputs": [],
   "source": [
    "sweep_config = {\n",
    "    'method': 'grid'\n",
    "}\n",
    "\n",
    "metric = {\n",
    "    'name': 'LG_NRMSE'\n",
    "}\n",
    "\n",
    "sweep_config['metric'] = metric\n",
    "\n",
    "parameters_dict = {\n",
    "    'add_column': {\n",
    "        # 'values': ex_mean\n",
    "        'values': ex1\n",
    "    },\n",
    "}\n",
    "\n",
    "sweep_config['parameters'] = parameters_dict"
   ]
  },
  {
   "cell_type": "code",
   "execution_count": 212,
   "metadata": {},
   "outputs": [
    {
     "name": "stdout",
     "output_type": "stream",
     "text": [
      "Create sweep with ID: czzdzef0\n",
      "Sweep URL: https://wandb.ai/zbooster/Antenna_Feature_Remove-1/sweeps/czzdzef0\n"
     ]
    }
   ],
   "source": [
    "sweep_id = wandb.sweep(sweep_config, project=\"Antenna_Feature_Remove-1\")"
   ]
  },
  {
   "cell_type": "markdown",
   "metadata": {},
   "source": [
    "# 평가함수"
   ]
  },
  {
   "cell_type": "code",
   "execution_count": 213,
   "metadata": {},
   "outputs": [],
   "source": [
    "import numpy as np\n",
    "from sklearn import metrics\n",
    "\n",
    "# 데이콘에서 제공한 평가함수\n",
    "def lg_nrmse(gt, preds):\n",
    "    # 각 Y Feature별 NRMSE 총합\n",
    "    # Y_01 ~ Y_08 까지 20% 가중치 부여\n",
    "    # gt = gt.to_numpy()\n",
    "    all_nrmse = []\n",
    "    for idx in range(0,14): # ignore 'ID'\n",
    "        rmse = metrics.mean_squared_error(gt[:,idx], preds[:,idx], squared=False)\n",
    "        nrmse = rmse/np.mean(np.abs(gt[:,idx]))\n",
    "        all_nrmse.append(nrmse)\n",
    "    score = 1.2 * np.sum(all_nrmse[:8]) + 1.0 * np.sum(all_nrmse[8:14])\n",
    "    return score, all_nrmse"
   ]
  },
  {
   "cell_type": "markdown",
   "metadata": {},
   "source": [
    "# 학습하기"
   ]
  },
  {
   "cell_type": "code",
   "execution_count": 214,
   "metadata": {},
   "outputs": [],
   "source": [
    "from sklearn.preprocessing import MinMaxScaler\n",
    "from sklearn.preprocessing import MaxAbsScaler\n",
    "from sklearn.preprocessing import StandardScaler\n",
    "from sklearn.preprocessing import RobustScaler\n",
    "from sklearn.preprocessing import Normalizer\n",
    "from sklearn.preprocessing import QuantileTransformer\n",
    "from sklearn.preprocessing import PowerTransformer\n",
    "\n",
    "scaler_list = [\n",
    "    ('Unscaled', None),\n",
    "    ('Standard', StandardScaler()),\n",
    "    ('Min-Max', MinMaxScaler()),\n",
    "    ('Min-Abs', MaxAbsScaler()),\n",
    "    ('Robust', RobustScaler(quantile_range=(25, 75))),\n",
    "    ('uniform pdf', QuantileTransformer(output_distribution=\"uniform\")),\n",
    "    ('gaussian pdf', QuantileTransformer(output_distribution=\"normal\")),\n",
    "    ('L2 normalizing', Normalizer())\n",
    "]"
   ]
  },
  {
   "cell_type": "code",
   "execution_count": 215,
   "metadata": {},
   "outputs": [],
   "source": [
    "import time\n",
    "from sklearn.model_selection import train_test_split\n",
    "from sklearn.pipeline import make_pipeline\n",
    "from sklearn.ensemble import RandomForestRegressor\n",
    "from sklearn.model_selection import KFold\n",
    "from collections import defaultdict\n",
    "\n",
    "train = raw_data['train'].copy()\n",
    "\n",
    "def run_train(config=None):\n",
    "  with wandb.init(config=config):\n",
    "\n",
    "    config = wandb.config\n",
    "\n",
    "    kf = KFold(shuffle=True, random_state=13)\n",
    "    result = defaultdict(list)\n",
    "\n",
    "    # 데이터 나누기\n",
    "    tmpC = required_column.copy()\n",
    "    tmpC.extend(config.add_column)\n",
    "    X = train.filter(items=tmpC).values\n",
    "    # X = train.filter(regex='X').drop(columns=config.remove_column, errors='ignore').values\n",
    "    # X = train.filter(regex='X').values\n",
    "    y = train.filter(regex='Y').values\n",
    "    for idx, (train_index, test_index) in enumerate(kf.split(X)):\n",
    "\n",
    "      X_train, X_test = X[train_index], X[test_index]\n",
    "      y_train, y_test = y[train_index], y[test_index]\n",
    "\n",
    "      # 파이프라인 작성\n",
    "      pipe = make_pipeline( \n",
    "        RandomForestRegressor(criterion=\"squared_error\", random_state=13, n_jobs=-1\n",
    "                            , n_estimators=200\n",
    "                            , max_depth=50\n",
    "                            , min_samples_leaf=4\n",
    "                            , min_samples_split=10)\n",
    "      )\n",
    "\n",
    "      # 학습하기\n",
    "      pipe.fit(X_train, y_train)\n",
    "\n",
    "      # 검증하기\n",
    "      y_pred = pipe.predict(X_test)\n",
    "\n",
    "      # 평가 및 기록\n",
    "      score, all_nrmse = lg_nrmse(y_test, y_pred)\n",
    "      result['LG_NRMSE'].append(score)\n",
    "      for i, v in enumerate(all_nrmse):\n",
    "        result['Y_%02d_NRMSE' % (i+1)].append(v)\n",
    "    \n",
    "    log_dict = defaultdict(float)\n",
    "    log_dict['LG_NRMSE_MEAN'] = np.mean(result['LG_NRMSE'])\n",
    "    log_dict['LG_NRMSE_BEST'] = min(result['LG_NRMSE'])\n",
    "    for i in range(14):\n",
    "      log_dict['Y_%02d_NRMSE' % (i+1)] = np.mean(result['Y_%02d_NRMSE' % (i+1)])\n",
    "    wandb.log(log_dict)"
   ]
  },
  {
   "cell_type": "code",
   "execution_count": 216,
   "metadata": {},
   "outputs": [
    {
     "name": "stderr",
     "output_type": "stream",
     "text": [
      "\u001b[34m\u001b[1mwandb\u001b[0m: Agent Starting Run: gj2cdhee with config:\n",
      "\u001b[34m\u001b[1mwandb\u001b[0m: \tadd_column: ['X_14', 'X_32', 'X_15', 'X_18', 'X_46']\n",
      "Failed to detect the name of this notebook, you can set it manually with the WANDB_NOTEBOOK_NAME environment variable to enable code saving.\n"
     ]
    },
    {
     "data": {
      "text/html": [
       "Tracking run with wandb version 0.13.1"
      ],
      "text/plain": [
       "<IPython.core.display.HTML object>"
      ]
     },
     "metadata": {},
     "output_type": "display_data"
    },
    {
     "data": {
      "text/html": [
       "Run data is saved locally in <code>/content/Antenna-Performance-Prediction/wandb/run-20220816_061636-gj2cdhee</code>"
      ],
      "text/plain": [
       "<IPython.core.display.HTML object>"
      ]
     },
     "metadata": {},
     "output_type": "display_data"
    },
    {
     "data": {
      "text/html": [
       "Syncing run <strong><a href=\"https://wandb.ai/zbooster/Antenna_Feature_Remove-1/runs/gj2cdhee\" target=\"_blank\">silver-sweep-1</a></strong> to <a href=\"https://wandb.ai/zbooster/Antenna_Feature_Remove-1\" target=\"_blank\">Weights & Biases</a> (<a href=\"https://wandb.me/run\" target=\"_blank\">docs</a>)<br/>Sweep page:  <a href=\"https://wandb.ai/zbooster/Antenna_Feature_Remove-1/sweeps/czzdzef0\" target=\"_blank\">https://wandb.ai/zbooster/Antenna_Feature_Remove-1/sweeps/czzdzef0</a>"
      ],
      "text/plain": [
       "<IPython.core.display.HTML object>"
      ]
     },
     "metadata": {},
     "output_type": "display_data"
    },
    {
     "data": {
      "text/html": [
       "Waiting for W&B process to finish... <strong style=\"color:green\">(success).</strong>"
      ],
      "text/plain": [
       "<IPython.core.display.HTML object>"
      ]
     },
     "metadata": {},
     "output_type": "display_data"
    },
    {
     "data": {
      "application/vnd.jupyter.widget-view+json": {
       "model_id": "5dfc03c2bfcf4b64a7d7311ceb4bc292",
       "version_major": 2,
       "version_minor": 0
      },
      "text/plain": [
       "VBox(children=(Label(value='0.001 MB of 0.001 MB uploaded (0.000 MB deduped)\\r'), FloatProgress(value=1.0, max…"
      ]
     },
     "metadata": {},
     "output_type": "display_data"
    },
    {
     "data": {
      "text/html": [
       "<style>\n",
       "    table.wandb td:nth-child(1) { padding: 0 10px; text-align: left ; width: auto;} td:nth-child(2) {text-align: left ; width: 100%}\n",
       "    .wandb-row { display: flex; flex-direction: row; flex-wrap: wrap; justify-content: flex-start; width: 100% }\n",
       "    .wandb-col { display: flex; flex-direction: column; flex-basis: 100%; flex: 1; padding: 10px; }\n",
       "    </style>\n",
       "<div class=\"wandb-row\"><div class=\"wandb-col\"><h3>Run history:</h3><br/><table class=\"wandb\"><tr><td>LG_NRMSE_BEST</td><td>▁</td></tr><tr><td>LG_NRMSE_MEAN</td><td>▁</td></tr><tr><td>Y_01_NRMSE</td><td>▁</td></tr><tr><td>Y_02_NRMSE</td><td>▁</td></tr><tr><td>Y_03_NRMSE</td><td>▁</td></tr><tr><td>Y_04_NRMSE</td><td>▁</td></tr><tr><td>Y_05_NRMSE</td><td>▁</td></tr><tr><td>Y_06_NRMSE</td><td>▁</td></tr><tr><td>Y_07_NRMSE</td><td>▁</td></tr><tr><td>Y_08_NRMSE</td><td>▁</td></tr><tr><td>Y_09_NRMSE</td><td>▁</td></tr><tr><td>Y_10_NRMSE</td><td>▁</td></tr><tr><td>Y_11_NRMSE</td><td>▁</td></tr><tr><td>Y_12_NRMSE</td><td>▁</td></tr><tr><td>Y_13_NRMSE</td><td>▁</td></tr><tr><td>Y_14_NRMSE</td><td>▁</td></tr></table><br/></div><div class=\"wandb-col\"><h3>Run summary:</h3><br/><table class=\"wandb\"><tr><td>LG_NRMSE_BEST</td><td>1.93276</td></tr><tr><td>LG_NRMSE_MEAN</td><td>1.94889</td></tr><tr><td>Y_01_NRMSE</td><td>0.2562</td></tr><tr><td>Y_02_NRMSE</td><td>0.35656</td></tr><tr><td>Y_03_NRMSE</td><td>0.34936</td></tr><tr><td>Y_04_NRMSE</td><td>0.18884</td></tr><tr><td>Y_05_NRMSE</td><td>0.07907</td></tr><tr><td>Y_06_NRMSE</td><td>0.10313</td></tr><tr><td>Y_07_NRMSE</td><td>0.12888</td></tr><tr><td>Y_08_NRMSE</td><td>0.02379</td></tr><tr><td>Y_09_NRMSE</td><td>0.0236</td></tr><tr><td>Y_10_NRMSE</td><td>0.038</td></tr><tr><td>Y_11_NRMSE</td><td>0.03315</td></tr><tr><td>Y_12_NRMSE</td><td>0.02374</td></tr><tr><td>Y_13_NRMSE</td><td>0.02369</td></tr><tr><td>Y_14_NRMSE</td><td>0.02373</td></tr></table><br/></div></div>"
      ],
      "text/plain": [
       "<IPython.core.display.HTML object>"
      ]
     },
     "metadata": {},
     "output_type": "display_data"
    },
    {
     "data": {
      "text/html": [
       "Synced <strong style=\"color:#cdcd00\">silver-sweep-1</strong>: <a href=\"https://wandb.ai/zbooster/Antenna_Feature_Remove-1/runs/gj2cdhee\" target=\"_blank\">https://wandb.ai/zbooster/Antenna_Feature_Remove-1/runs/gj2cdhee</a><br/>Synced 5 W&B file(s), 0 media file(s), 0 artifact file(s) and 0 other file(s)"
      ],
      "text/plain": [
       "<IPython.core.display.HTML object>"
      ]
     },
     "metadata": {},
     "output_type": "display_data"
    },
    {
     "data": {
      "text/html": [
       "Find logs at: <code>./wandb/run-20220816_061636-gj2cdhee/logs</code>"
      ],
      "text/plain": [
       "<IPython.core.display.HTML object>"
      ]
     },
     "metadata": {},
     "output_type": "display_data"
    },
    {
     "name": "stderr",
     "output_type": "stream",
     "text": [
      "\u001b[34m\u001b[1mwandb\u001b[0m: Agent Starting Run: wcy68uvn with config:\n",
      "\u001b[34m\u001b[1mwandb\u001b[0m: \tadd_column: ['X_14', 'X_32', 'X_15', 'X_18', 'X_01']\n",
      "Failed to detect the name of this notebook, you can set it manually with the WANDB_NOTEBOOK_NAME environment variable to enable code saving.\n"
     ]
    },
    {
     "data": {
      "text/html": [
       "Tracking run with wandb version 0.13.1"
      ],
      "text/plain": [
       "<IPython.core.display.HTML object>"
      ]
     },
     "metadata": {},
     "output_type": "display_data"
    },
    {
     "data": {
      "text/html": [
       "Run data is saved locally in <code>/content/Antenna-Performance-Prediction/wandb/run-20220816_061852-wcy68uvn</code>"
      ],
      "text/plain": [
       "<IPython.core.display.HTML object>"
      ]
     },
     "metadata": {},
     "output_type": "display_data"
    },
    {
     "data": {
      "text/html": [
       "Syncing run <strong><a href=\"https://wandb.ai/zbooster/Antenna_Feature_Remove-1/runs/wcy68uvn\" target=\"_blank\">spring-sweep-2</a></strong> to <a href=\"https://wandb.ai/zbooster/Antenna_Feature_Remove-1\" target=\"_blank\">Weights & Biases</a> (<a href=\"https://wandb.me/run\" target=\"_blank\">docs</a>)<br/>Sweep page:  <a href=\"https://wandb.ai/zbooster/Antenna_Feature_Remove-1/sweeps/czzdzef0\" target=\"_blank\">https://wandb.ai/zbooster/Antenna_Feature_Remove-1/sweeps/czzdzef0</a>"
      ],
      "text/plain": [
       "<IPython.core.display.HTML object>"
      ]
     },
     "metadata": {},
     "output_type": "display_data"
    },
    {
     "data": {
      "text/html": [
       "Waiting for W&B process to finish... <strong style=\"color:green\">(success).</strong>"
      ],
      "text/plain": [
       "<IPython.core.display.HTML object>"
      ]
     },
     "metadata": {},
     "output_type": "display_data"
    },
    {
     "data": {
      "application/vnd.jupyter.widget-view+json": {
       "model_id": "8550e36c1c654eda9596be96ee919a93",
       "version_major": 2,
       "version_minor": 0
      },
      "text/plain": [
       "VBox(children=(Label(value='0.001 MB of 0.001 MB uploaded (0.000 MB deduped)\\r'), FloatProgress(value=1.0, max…"
      ]
     },
     "metadata": {},
     "output_type": "display_data"
    },
    {
     "data": {
      "text/html": [
       "<style>\n",
       "    table.wandb td:nth-child(1) { padding: 0 10px; text-align: left ; width: auto;} td:nth-child(2) {text-align: left ; width: 100%}\n",
       "    .wandb-row { display: flex; flex-direction: row; flex-wrap: wrap; justify-content: flex-start; width: 100% }\n",
       "    .wandb-col { display: flex; flex-direction: column; flex-basis: 100%; flex: 1; padding: 10px; }\n",
       "    </style>\n",
       "<div class=\"wandb-row\"><div class=\"wandb-col\"><h3>Run history:</h3><br/><table class=\"wandb\"><tr><td>LG_NRMSE_BEST</td><td>▁</td></tr><tr><td>LG_NRMSE_MEAN</td><td>▁</td></tr><tr><td>Y_01_NRMSE</td><td>▁</td></tr><tr><td>Y_02_NRMSE</td><td>▁</td></tr><tr><td>Y_03_NRMSE</td><td>▁</td></tr><tr><td>Y_04_NRMSE</td><td>▁</td></tr><tr><td>Y_05_NRMSE</td><td>▁</td></tr><tr><td>Y_06_NRMSE</td><td>▁</td></tr><tr><td>Y_07_NRMSE</td><td>▁</td></tr><tr><td>Y_08_NRMSE</td><td>▁</td></tr><tr><td>Y_09_NRMSE</td><td>▁</td></tr><tr><td>Y_10_NRMSE</td><td>▁</td></tr><tr><td>Y_11_NRMSE</td><td>▁</td></tr><tr><td>Y_12_NRMSE</td><td>▁</td></tr><tr><td>Y_13_NRMSE</td><td>▁</td></tr><tr><td>Y_14_NRMSE</td><td>▁</td></tr></table><br/></div><div class=\"wandb-col\"><h3>Run summary:</h3><br/><table class=\"wandb\"><tr><td>LG_NRMSE_BEST</td><td>1.934</td></tr><tr><td>LG_NRMSE_MEAN</td><td>1.94866</td></tr><tr><td>Y_01_NRMSE</td><td>0.25618</td></tr><tr><td>Y_02_NRMSE</td><td>0.35648</td></tr><tr><td>Y_03_NRMSE</td><td>0.34932</td></tr><tr><td>Y_04_NRMSE</td><td>0.18878</td></tr><tr><td>Y_05_NRMSE</td><td>0.07904</td></tr><tr><td>Y_06_NRMSE</td><td>0.10315</td></tr><tr><td>Y_07_NRMSE</td><td>0.12884</td></tr><tr><td>Y_08_NRMSE</td><td>0.02379</td></tr><tr><td>Y_09_NRMSE</td><td>0.02361</td></tr><tr><td>Y_10_NRMSE</td><td>0.03801</td></tr><tr><td>Y_11_NRMSE</td><td>0.03315</td></tr><tr><td>Y_12_NRMSE</td><td>0.02375</td></tr><tr><td>Y_13_NRMSE</td><td>0.0237</td></tr><tr><td>Y_14_NRMSE</td><td>0.02374</td></tr></table><br/></div></div>"
      ],
      "text/plain": [
       "<IPython.core.display.HTML object>"
      ]
     },
     "metadata": {},
     "output_type": "display_data"
    },
    {
     "data": {
      "text/html": [
       "Synced <strong style=\"color:#cdcd00\">spring-sweep-2</strong>: <a href=\"https://wandb.ai/zbooster/Antenna_Feature_Remove-1/runs/wcy68uvn\" target=\"_blank\">https://wandb.ai/zbooster/Antenna_Feature_Remove-1/runs/wcy68uvn</a><br/>Synced 5 W&B file(s), 0 media file(s), 0 artifact file(s) and 0 other file(s)"
      ],
      "text/plain": [
       "<IPython.core.display.HTML object>"
      ]
     },
     "metadata": {},
     "output_type": "display_data"
    },
    {
     "data": {
      "text/html": [
       "Find logs at: <code>./wandb/run-20220816_061852-wcy68uvn/logs</code>"
      ],
      "text/plain": [
       "<IPython.core.display.HTML object>"
      ]
     },
     "metadata": {},
     "output_type": "display_data"
    },
    {
     "name": "stderr",
     "output_type": "stream",
     "text": [
      "\u001b[34m\u001b[1mwandb\u001b[0m: Sweep Agent: Waiting for job.\n",
      "\u001b[34m\u001b[1mwandb\u001b[0m: Job received.\n",
      "\u001b[34m\u001b[1mwandb\u001b[0m: Agent Starting Run: 54k06vov with config:\n",
      "\u001b[34m\u001b[1mwandb\u001b[0m: \tadd_column: ['X_14', 'X_32', 'X_15', 'X_46', 'X_01']\n",
      "Failed to detect the name of this notebook, you can set it manually with the WANDB_NOTEBOOK_NAME environment variable to enable code saving.\n"
     ]
    },
    {
     "data": {
      "text/html": [
       "Tracking run with wandb version 0.13.1"
      ],
      "text/plain": [
       "<IPython.core.display.HTML object>"
      ]
     },
     "metadata": {},
     "output_type": "display_data"
    },
    {
     "data": {
      "text/html": [
       "Run data is saved locally in <code>/content/Antenna-Performance-Prediction/wandb/run-20220816_062117-54k06vov</code>"
      ],
      "text/plain": [
       "<IPython.core.display.HTML object>"
      ]
     },
     "metadata": {},
     "output_type": "display_data"
    },
    {
     "data": {
      "text/html": [
       "Syncing run <strong><a href=\"https://wandb.ai/zbooster/Antenna_Feature_Remove-1/runs/54k06vov\" target=\"_blank\">sandy-sweep-3</a></strong> to <a href=\"https://wandb.ai/zbooster/Antenna_Feature_Remove-1\" target=\"_blank\">Weights & Biases</a> (<a href=\"https://wandb.me/run\" target=\"_blank\">docs</a>)<br/>Sweep page:  <a href=\"https://wandb.ai/zbooster/Antenna_Feature_Remove-1/sweeps/czzdzef0\" target=\"_blank\">https://wandb.ai/zbooster/Antenna_Feature_Remove-1/sweeps/czzdzef0</a>"
      ],
      "text/plain": [
       "<IPython.core.display.HTML object>"
      ]
     },
     "metadata": {},
     "output_type": "display_data"
    },
    {
     "data": {
      "text/html": [
       "Waiting for W&B process to finish... <strong style=\"color:green\">(success).</strong>"
      ],
      "text/plain": [
       "<IPython.core.display.HTML object>"
      ]
     },
     "metadata": {},
     "output_type": "display_data"
    },
    {
     "data": {
      "application/vnd.jupyter.widget-view+json": {
       "model_id": "c057d5fff01d4d6eb736260ba0fd839a",
       "version_major": 2,
       "version_minor": 0
      },
      "text/plain": [
       "VBox(children=(Label(value='0.001 MB of 0.001 MB uploaded (0.000 MB deduped)\\r'), FloatProgress(value=1.0, max…"
      ]
     },
     "metadata": {},
     "output_type": "display_data"
    },
    {
     "data": {
      "text/html": [
       "<style>\n",
       "    table.wandb td:nth-child(1) { padding: 0 10px; text-align: left ; width: auto;} td:nth-child(2) {text-align: left ; width: 100%}\n",
       "    .wandb-row { display: flex; flex-direction: row; flex-wrap: wrap; justify-content: flex-start; width: 100% }\n",
       "    .wandb-col { display: flex; flex-direction: column; flex-basis: 100%; flex: 1; padding: 10px; }\n",
       "    </style>\n",
       "<div class=\"wandb-row\"><div class=\"wandb-col\"><h3>Run history:</h3><br/><table class=\"wandb\"><tr><td>LG_NRMSE_BEST</td><td>▁</td></tr><tr><td>LG_NRMSE_MEAN</td><td>▁</td></tr><tr><td>Y_01_NRMSE</td><td>▁</td></tr><tr><td>Y_02_NRMSE</td><td>▁</td></tr><tr><td>Y_03_NRMSE</td><td>▁</td></tr><tr><td>Y_04_NRMSE</td><td>▁</td></tr><tr><td>Y_05_NRMSE</td><td>▁</td></tr><tr><td>Y_06_NRMSE</td><td>▁</td></tr><tr><td>Y_07_NRMSE</td><td>▁</td></tr><tr><td>Y_08_NRMSE</td><td>▁</td></tr><tr><td>Y_09_NRMSE</td><td>▁</td></tr><tr><td>Y_10_NRMSE</td><td>▁</td></tr><tr><td>Y_11_NRMSE</td><td>▁</td></tr><tr><td>Y_12_NRMSE</td><td>▁</td></tr><tr><td>Y_13_NRMSE</td><td>▁</td></tr><tr><td>Y_14_NRMSE</td><td>▁</td></tr></table><br/></div><div class=\"wandb-col\"><h3>Run summary:</h3><br/><table class=\"wandb\"><tr><td>LG_NRMSE_BEST</td><td>1.9336</td></tr><tr><td>LG_NRMSE_MEAN</td><td>1.94868</td></tr><tr><td>Y_01_NRMSE</td><td>0.25621</td></tr><tr><td>Y_02_NRMSE</td><td>0.35656</td></tr><tr><td>Y_03_NRMSE</td><td>0.34936</td></tr><tr><td>Y_04_NRMSE</td><td>0.18876</td></tr><tr><td>Y_05_NRMSE</td><td>0.07907</td></tr><tr><td>Y_06_NRMSE</td><td>0.10305</td></tr><tr><td>Y_07_NRMSE</td><td>0.12886</td></tr><tr><td>Y_08_NRMSE</td><td>0.02379</td></tr><tr><td>Y_09_NRMSE</td><td>0.0236</td></tr><tr><td>Y_10_NRMSE</td><td>0.038</td></tr><tr><td>Y_11_NRMSE</td><td>0.03314</td></tr><tr><td>Y_12_NRMSE</td><td>0.02374</td></tr><tr><td>Y_13_NRMSE</td><td>0.02369</td></tr><tr><td>Y_14_NRMSE</td><td>0.02373</td></tr></table><br/></div></div>"
      ],
      "text/plain": [
       "<IPython.core.display.HTML object>"
      ]
     },
     "metadata": {},
     "output_type": "display_data"
    },
    {
     "data": {
      "text/html": [
       "Synced <strong style=\"color:#cdcd00\">sandy-sweep-3</strong>: <a href=\"https://wandb.ai/zbooster/Antenna_Feature_Remove-1/runs/54k06vov\" target=\"_blank\">https://wandb.ai/zbooster/Antenna_Feature_Remove-1/runs/54k06vov</a><br/>Synced 5 W&B file(s), 0 media file(s), 0 artifact file(s) and 0 other file(s)"
      ],
      "text/plain": [
       "<IPython.core.display.HTML object>"
      ]
     },
     "metadata": {},
     "output_type": "display_data"
    },
    {
     "data": {
      "text/html": [
       "Find logs at: <code>./wandb/run-20220816_062117-54k06vov/logs</code>"
      ],
      "text/plain": [
       "<IPython.core.display.HTML object>"
      ]
     },
     "metadata": {},
     "output_type": "display_data"
    },
    {
     "name": "stderr",
     "output_type": "stream",
     "text": [
      "\u001b[34m\u001b[1mwandb\u001b[0m: Agent Starting Run: 4lcijpvq with config:\n",
      "\u001b[34m\u001b[1mwandb\u001b[0m: \tadd_column: ['X_14', 'X_32', 'X_18', 'X_46', 'X_01']\n",
      "Failed to detect the name of this notebook, you can set it manually with the WANDB_NOTEBOOK_NAME environment variable to enable code saving.\n"
     ]
    },
    {
     "data": {
      "text/html": [
       "Tracking run with wandb version 0.13.1"
      ],
      "text/plain": [
       "<IPython.core.display.HTML object>"
      ]
     },
     "metadata": {},
     "output_type": "display_data"
    },
    {
     "data": {
      "text/html": [
       "Run data is saved locally in <code>/content/Antenna-Performance-Prediction/wandb/run-20220816_062334-4lcijpvq</code>"
      ],
      "text/plain": [
       "<IPython.core.display.HTML object>"
      ]
     },
     "metadata": {},
     "output_type": "display_data"
    },
    {
     "data": {
      "text/html": [
       "Syncing run <strong><a href=\"https://wandb.ai/zbooster/Antenna_Feature_Remove-1/runs/4lcijpvq\" target=\"_blank\">zany-sweep-4</a></strong> to <a href=\"https://wandb.ai/zbooster/Antenna_Feature_Remove-1\" target=\"_blank\">Weights & Biases</a> (<a href=\"https://wandb.me/run\" target=\"_blank\">docs</a>)<br/>Sweep page:  <a href=\"https://wandb.ai/zbooster/Antenna_Feature_Remove-1/sweeps/czzdzef0\" target=\"_blank\">https://wandb.ai/zbooster/Antenna_Feature_Remove-1/sweeps/czzdzef0</a>"
      ],
      "text/plain": [
       "<IPython.core.display.HTML object>"
      ]
     },
     "metadata": {},
     "output_type": "display_data"
    },
    {
     "data": {
      "text/html": [
       "Waiting for W&B process to finish... <strong style=\"color:green\">(success).</strong>"
      ],
      "text/plain": [
       "<IPython.core.display.HTML object>"
      ]
     },
     "metadata": {},
     "output_type": "display_data"
    },
    {
     "data": {
      "application/vnd.jupyter.widget-view+json": {
       "model_id": "8978a15ed3b04663a6281cfe5b9304e5",
       "version_major": 2,
       "version_minor": 0
      },
      "text/plain": [
       "VBox(children=(Label(value='0.001 MB of 0.001 MB uploaded (0.000 MB deduped)\\r'), FloatProgress(value=1.0, max…"
      ]
     },
     "metadata": {},
     "output_type": "display_data"
    },
    {
     "data": {
      "text/html": [
       "<style>\n",
       "    table.wandb td:nth-child(1) { padding: 0 10px; text-align: left ; width: auto;} td:nth-child(2) {text-align: left ; width: 100%}\n",
       "    .wandb-row { display: flex; flex-direction: row; flex-wrap: wrap; justify-content: flex-start; width: 100% }\n",
       "    .wandb-col { display: flex; flex-direction: column; flex-basis: 100%; flex: 1; padding: 10px; }\n",
       "    </style>\n",
       "<div class=\"wandb-row\"><div class=\"wandb-col\"><h3>Run history:</h3><br/><table class=\"wandb\"><tr><td>LG_NRMSE_BEST</td><td>▁</td></tr><tr><td>LG_NRMSE_MEAN</td><td>▁</td></tr><tr><td>Y_01_NRMSE</td><td>▁</td></tr><tr><td>Y_02_NRMSE</td><td>▁</td></tr><tr><td>Y_03_NRMSE</td><td>▁</td></tr><tr><td>Y_04_NRMSE</td><td>▁</td></tr><tr><td>Y_05_NRMSE</td><td>▁</td></tr><tr><td>Y_06_NRMSE</td><td>▁</td></tr><tr><td>Y_07_NRMSE</td><td>▁</td></tr><tr><td>Y_08_NRMSE</td><td>▁</td></tr><tr><td>Y_09_NRMSE</td><td>▁</td></tr><tr><td>Y_10_NRMSE</td><td>▁</td></tr><tr><td>Y_11_NRMSE</td><td>▁</td></tr><tr><td>Y_12_NRMSE</td><td>▁</td></tr><tr><td>Y_13_NRMSE</td><td>▁</td></tr><tr><td>Y_14_NRMSE</td><td>▁</td></tr></table><br/></div><div class=\"wandb-col\"><h3>Run summary:</h3><br/><table class=\"wandb\"><tr><td>LG_NRMSE_BEST</td><td>1.93374</td></tr><tr><td>LG_NRMSE_MEAN</td><td>1.9492</td></tr><tr><td>Y_01_NRMSE</td><td>0.25623</td></tr><tr><td>Y_02_NRMSE</td><td>0.35659</td></tr><tr><td>Y_03_NRMSE</td><td>0.34939</td></tr><tr><td>Y_04_NRMSE</td><td>0.18878</td></tr><tr><td>Y_05_NRMSE</td><td>0.07907</td></tr><tr><td>Y_06_NRMSE</td><td>0.1033</td></tr><tr><td>Y_07_NRMSE</td><td>0.12887</td></tr><tr><td>Y_08_NRMSE</td><td>0.02379</td></tr><tr><td>Y_09_NRMSE</td><td>0.02361</td></tr><tr><td>Y_10_NRMSE</td><td>0.03802</td></tr><tr><td>Y_11_NRMSE</td><td>0.03316</td></tr><tr><td>Y_12_NRMSE</td><td>0.02375</td></tr><tr><td>Y_13_NRMSE</td><td>0.0237</td></tr><tr><td>Y_14_NRMSE</td><td>0.02373</td></tr></table><br/></div></div>"
      ],
      "text/plain": [
       "<IPython.core.display.HTML object>"
      ]
     },
     "metadata": {},
     "output_type": "display_data"
    },
    {
     "data": {
      "text/html": [
       "Synced <strong style=\"color:#cdcd00\">zany-sweep-4</strong>: <a href=\"https://wandb.ai/zbooster/Antenna_Feature_Remove-1/runs/4lcijpvq\" target=\"_blank\">https://wandb.ai/zbooster/Antenna_Feature_Remove-1/runs/4lcijpvq</a><br/>Synced 5 W&B file(s), 0 media file(s), 0 artifact file(s) and 0 other file(s)"
      ],
      "text/plain": [
       "<IPython.core.display.HTML object>"
      ]
     },
     "metadata": {},
     "output_type": "display_data"
    },
    {
     "data": {
      "text/html": [
       "Find logs at: <code>./wandb/run-20220816_062334-4lcijpvq/logs</code>"
      ],
      "text/plain": [
       "<IPython.core.display.HTML object>"
      ]
     },
     "metadata": {},
     "output_type": "display_data"
    },
    {
     "name": "stderr",
     "output_type": "stream",
     "text": [
      "\u001b[34m\u001b[1mwandb\u001b[0m: Agent Starting Run: pnma1hkc with config:\n",
      "\u001b[34m\u001b[1mwandb\u001b[0m: \tadd_column: ['X_14', 'X_15', 'X_18', 'X_46', 'X_01']\n",
      "Failed to detect the name of this notebook, you can set it manually with the WANDB_NOTEBOOK_NAME environment variable to enable code saving.\n"
     ]
    },
    {
     "data": {
      "text/html": [
       "Tracking run with wandb version 0.13.1"
      ],
      "text/plain": [
       "<IPython.core.display.HTML object>"
      ]
     },
     "metadata": {},
     "output_type": "display_data"
    },
    {
     "data": {
      "text/html": [
       "Run data is saved locally in <code>/content/Antenna-Performance-Prediction/wandb/run-20220816_062550-pnma1hkc</code>"
      ],
      "text/plain": [
       "<IPython.core.display.HTML object>"
      ]
     },
     "metadata": {},
     "output_type": "display_data"
    },
    {
     "data": {
      "text/html": [
       "Syncing run <strong><a href=\"https://wandb.ai/zbooster/Antenna_Feature_Remove-1/runs/pnma1hkc\" target=\"_blank\">sparkling-sweep-5</a></strong> to <a href=\"https://wandb.ai/zbooster/Antenna_Feature_Remove-1\" target=\"_blank\">Weights & Biases</a> (<a href=\"https://wandb.me/run\" target=\"_blank\">docs</a>)<br/>Sweep page:  <a href=\"https://wandb.ai/zbooster/Antenna_Feature_Remove-1/sweeps/czzdzef0\" target=\"_blank\">https://wandb.ai/zbooster/Antenna_Feature_Remove-1/sweeps/czzdzef0</a>"
      ],
      "text/plain": [
       "<IPython.core.display.HTML object>"
      ]
     },
     "metadata": {},
     "output_type": "display_data"
    },
    {
     "data": {
      "text/html": [
       "Waiting for W&B process to finish... <strong style=\"color:green\">(success).</strong>"
      ],
      "text/plain": [
       "<IPython.core.display.HTML object>"
      ]
     },
     "metadata": {},
     "output_type": "display_data"
    },
    {
     "data": {
      "application/vnd.jupyter.widget-view+json": {
       "model_id": "f15b4fda8756469bbc932a77488f0605",
       "version_major": 2,
       "version_minor": 0
      },
      "text/plain": [
       "VBox(children=(Label(value='0.001 MB of 0.001 MB uploaded (0.000 MB deduped)\\r'), FloatProgress(value=1.0, max…"
      ]
     },
     "metadata": {},
     "output_type": "display_data"
    },
    {
     "data": {
      "text/html": [
       "<style>\n",
       "    table.wandb td:nth-child(1) { padding: 0 10px; text-align: left ; width: auto;} td:nth-child(2) {text-align: left ; width: 100%}\n",
       "    .wandb-row { display: flex; flex-direction: row; flex-wrap: wrap; justify-content: flex-start; width: 100% }\n",
       "    .wandb-col { display: flex; flex-direction: column; flex-basis: 100%; flex: 1; padding: 10px; }\n",
       "    </style>\n",
       "<div class=\"wandb-row\"><div class=\"wandb-col\"><h3>Run history:</h3><br/><table class=\"wandb\"><tr><td>LG_NRMSE_BEST</td><td>▁</td></tr><tr><td>LG_NRMSE_MEAN</td><td>▁</td></tr><tr><td>Y_01_NRMSE</td><td>▁</td></tr><tr><td>Y_02_NRMSE</td><td>▁</td></tr><tr><td>Y_03_NRMSE</td><td>▁</td></tr><tr><td>Y_04_NRMSE</td><td>▁</td></tr><tr><td>Y_05_NRMSE</td><td>▁</td></tr><tr><td>Y_06_NRMSE</td><td>▁</td></tr><tr><td>Y_07_NRMSE</td><td>▁</td></tr><tr><td>Y_08_NRMSE</td><td>▁</td></tr><tr><td>Y_09_NRMSE</td><td>▁</td></tr><tr><td>Y_10_NRMSE</td><td>▁</td></tr><tr><td>Y_11_NRMSE</td><td>▁</td></tr><tr><td>Y_12_NRMSE</td><td>▁</td></tr><tr><td>Y_13_NRMSE</td><td>▁</td></tr><tr><td>Y_14_NRMSE</td><td>▁</td></tr></table><br/></div><div class=\"wandb-col\"><h3>Run summary:</h3><br/><table class=\"wandb\"><tr><td>LG_NRMSE_BEST</td><td>1.93448</td></tr><tr><td>LG_NRMSE_MEAN</td><td>1.95008</td></tr><tr><td>Y_01_NRMSE</td><td>0.25628</td></tr><tr><td>Y_02_NRMSE</td><td>0.35677</td></tr><tr><td>Y_03_NRMSE</td><td>0.34957</td></tr><tr><td>Y_04_NRMSE</td><td>0.18886</td></tr><tr><td>Y_05_NRMSE</td><td>0.07907</td></tr><tr><td>Y_06_NRMSE</td><td>0.10311</td></tr><tr><td>Y_07_NRMSE</td><td>0.12889</td></tr><tr><td>Y_08_NRMSE</td><td>0.02388</td></tr><tr><td>Y_09_NRMSE</td><td>0.02369</td></tr><tr><td>Y_10_NRMSE</td><td>0.03805</td></tr><tr><td>Y_11_NRMSE</td><td>0.03319</td></tr><tr><td>Y_12_NRMSE</td><td>0.02383</td></tr><tr><td>Y_13_NRMSE</td><td>0.02378</td></tr><tr><td>Y_14_NRMSE</td><td>0.02382</td></tr></table><br/></div></div>"
      ],
      "text/plain": [
       "<IPython.core.display.HTML object>"
      ]
     },
     "metadata": {},
     "output_type": "display_data"
    },
    {
     "data": {
      "text/html": [
       "Synced <strong style=\"color:#cdcd00\">sparkling-sweep-5</strong>: <a href=\"https://wandb.ai/zbooster/Antenna_Feature_Remove-1/runs/pnma1hkc\" target=\"_blank\">https://wandb.ai/zbooster/Antenna_Feature_Remove-1/runs/pnma1hkc</a><br/>Synced 5 W&B file(s), 0 media file(s), 0 artifact file(s) and 0 other file(s)"
      ],
      "text/plain": [
       "<IPython.core.display.HTML object>"
      ]
     },
     "metadata": {},
     "output_type": "display_data"
    },
    {
     "data": {
      "text/html": [
       "Find logs at: <code>./wandb/run-20220816_062550-pnma1hkc/logs</code>"
      ],
      "text/plain": [
       "<IPython.core.display.HTML object>"
      ]
     },
     "metadata": {},
     "output_type": "display_data"
    },
    {
     "name": "stderr",
     "output_type": "stream",
     "text": [
      "\u001b[34m\u001b[1mwandb\u001b[0m: Agent Starting Run: qbkcoix3 with config:\n",
      "\u001b[34m\u001b[1mwandb\u001b[0m: \tadd_column: ['X_32', 'X_15', 'X_18', 'X_46', 'X_01']\n",
      "Failed to detect the name of this notebook, you can set it manually with the WANDB_NOTEBOOK_NAME environment variable to enable code saving.\n"
     ]
    },
    {
     "data": {
      "text/html": [
       "Tracking run with wandb version 0.13.1"
      ],
      "text/plain": [
       "<IPython.core.display.HTML object>"
      ]
     },
     "metadata": {},
     "output_type": "display_data"
    },
    {
     "data": {
      "text/html": [
       "Run data is saved locally in <code>/content/Antenna-Performance-Prediction/wandb/run-20220816_062801-qbkcoix3</code>"
      ],
      "text/plain": [
       "<IPython.core.display.HTML object>"
      ]
     },
     "metadata": {},
     "output_type": "display_data"
    },
    {
     "data": {
      "text/html": [
       "Syncing run <strong><a href=\"https://wandb.ai/zbooster/Antenna_Feature_Remove-1/runs/qbkcoix3\" target=\"_blank\">ethereal-sweep-6</a></strong> to <a href=\"https://wandb.ai/zbooster/Antenna_Feature_Remove-1\" target=\"_blank\">Weights & Biases</a> (<a href=\"https://wandb.me/run\" target=\"_blank\">docs</a>)<br/>Sweep page:  <a href=\"https://wandb.ai/zbooster/Antenna_Feature_Remove-1/sweeps/czzdzef0\" target=\"_blank\">https://wandb.ai/zbooster/Antenna_Feature_Remove-1/sweeps/czzdzef0</a>"
      ],
      "text/plain": [
       "<IPython.core.display.HTML object>"
      ]
     },
     "metadata": {},
     "output_type": "display_data"
    },
    {
     "data": {
      "text/html": [
       "Waiting for W&B process to finish... <strong style=\"color:green\">(success).</strong>"
      ],
      "text/plain": [
       "<IPython.core.display.HTML object>"
      ]
     },
     "metadata": {},
     "output_type": "display_data"
    },
    {
     "data": {
      "application/vnd.jupyter.widget-view+json": {
       "model_id": "4e937b7e622949188d5b358cd880084f",
       "version_major": 2,
       "version_minor": 0
      },
      "text/plain": [
       "VBox(children=(Label(value='0.001 MB of 0.001 MB uploaded (0.000 MB deduped)\\r'), FloatProgress(value=1.0, max…"
      ]
     },
     "metadata": {},
     "output_type": "display_data"
    },
    {
     "data": {
      "text/html": [
       "<style>\n",
       "    table.wandb td:nth-child(1) { padding: 0 10px; text-align: left ; width: auto;} td:nth-child(2) {text-align: left ; width: 100%}\n",
       "    .wandb-row { display: flex; flex-direction: row; flex-wrap: wrap; justify-content: flex-start; width: 100% }\n",
       "    .wandb-col { display: flex; flex-direction: column; flex-basis: 100%; flex: 1; padding: 10px; }\n",
       "    </style>\n",
       "<div class=\"wandb-row\"><div class=\"wandb-col\"><h3>Run history:</h3><br/><table class=\"wandb\"><tr><td>LG_NRMSE_BEST</td><td>▁</td></tr><tr><td>LG_NRMSE_MEAN</td><td>▁</td></tr><tr><td>Y_01_NRMSE</td><td>▁</td></tr><tr><td>Y_02_NRMSE</td><td>▁</td></tr><tr><td>Y_03_NRMSE</td><td>▁</td></tr><tr><td>Y_04_NRMSE</td><td>▁</td></tr><tr><td>Y_05_NRMSE</td><td>▁</td></tr><tr><td>Y_06_NRMSE</td><td>▁</td></tr><tr><td>Y_07_NRMSE</td><td>▁</td></tr><tr><td>Y_08_NRMSE</td><td>▁</td></tr><tr><td>Y_09_NRMSE</td><td>▁</td></tr><tr><td>Y_10_NRMSE</td><td>▁</td></tr><tr><td>Y_11_NRMSE</td><td>▁</td></tr><tr><td>Y_12_NRMSE</td><td>▁</td></tr><tr><td>Y_13_NRMSE</td><td>▁</td></tr><tr><td>Y_14_NRMSE</td><td>▁</td></tr></table><br/></div><div class=\"wandb-col\"><h3>Run summary:</h3><br/><table class=\"wandb\"><tr><td>LG_NRMSE_BEST</td><td>1.93412</td></tr><tr><td>LG_NRMSE_MEAN</td><td>1.94882</td></tr><tr><td>Y_01_NRMSE</td><td>0.25617</td></tr><tr><td>Y_02_NRMSE</td><td>0.35655</td></tr><tr><td>Y_03_NRMSE</td><td>0.3493</td></tr><tr><td>Y_04_NRMSE</td><td>0.18887</td></tr><tr><td>Y_05_NRMSE</td><td>0.07911</td></tr><tr><td>Y_06_NRMSE</td><td>0.10303</td></tr><tr><td>Y_07_NRMSE</td><td>0.1289</td></tr><tr><td>Y_08_NRMSE</td><td>0.02379</td></tr><tr><td>Y_09_NRMSE</td><td>0.02361</td></tr><tr><td>Y_10_NRMSE</td><td>0.03801</td></tr><tr><td>Y_11_NRMSE</td><td>0.03316</td></tr><tr><td>Y_12_NRMSE</td><td>0.02375</td></tr><tr><td>Y_13_NRMSE</td><td>0.0237</td></tr><tr><td>Y_14_NRMSE</td><td>0.02374</td></tr></table><br/></div></div>"
      ],
      "text/plain": [
       "<IPython.core.display.HTML object>"
      ]
     },
     "metadata": {},
     "output_type": "display_data"
    },
    {
     "data": {
      "text/html": [
       "Synced <strong style=\"color:#cdcd00\">ethereal-sweep-6</strong>: <a href=\"https://wandb.ai/zbooster/Antenna_Feature_Remove-1/runs/qbkcoix3\" target=\"_blank\">https://wandb.ai/zbooster/Antenna_Feature_Remove-1/runs/qbkcoix3</a><br/>Synced 5 W&B file(s), 0 media file(s), 0 artifact file(s) and 0 other file(s)"
      ],
      "text/plain": [
       "<IPython.core.display.HTML object>"
      ]
     },
     "metadata": {},
     "output_type": "display_data"
    },
    {
     "data": {
      "text/html": [
       "Find logs at: <code>./wandb/run-20220816_062801-qbkcoix3/logs</code>"
      ],
      "text/plain": [
       "<IPython.core.display.HTML object>"
      ]
     },
     "metadata": {},
     "output_type": "display_data"
    },
    {
     "name": "stderr",
     "output_type": "stream",
     "text": [
      "\u001b[34m\u001b[1mwandb\u001b[0m: Sweep Agent: Waiting for job.\n",
      "\u001b[34m\u001b[1mwandb\u001b[0m: Sweep Agent: Exiting.\n"
     ]
    }
   ],
   "source": [
    "wandb.agent(sweep_id, run_train)"
   ]
  }
 ],
 "metadata": {
  "kernelspec": {
   "display_name": "Python 3.9.12 ('base')",
   "language": "python",
   "name": "python3"
  },
  "language_info": {
   "codemirror_mode": {
    "name": "ipython",
    "version": 3
   },
   "file_extension": ".py",
   "mimetype": "text/x-python",
   "name": "python",
   "nbconvert_exporter": "python",
   "pygments_lexer": "ipython3",
   "version": "3.9.12"
  },
  "orig_nbformat": 4,
  "vscode": {
   "interpreter": {
    "hash": "d4d1e4263499bec80672ea0156c357c1ee493ec2b1c70f0acce89fc37c4a6abe"
   }
  }
 },
 "nbformat": 4,
 "nbformat_minor": 2
}
