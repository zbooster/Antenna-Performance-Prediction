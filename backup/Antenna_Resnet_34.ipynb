{
  "nbformat": 4,
  "nbformat_minor": 0,
  "metadata": {
    "colab": {
      "name": "Antenna_Resnet-34.ipynb",
      "provenance": [],
      "collapsed_sections": [],
      "machine_shape": "hm",
      "mount_file_id": "1kZj76my_7ItCb-uJ5plkpjZulo8NwKMk",
      "authorship_tag": "ABX9TyP9EvvKsEVZg0DOxwREzsl9",
      "include_colab_link": true
    },
    "kernelspec": {
      "name": "python3",
      "display_name": "Python 3"
    },
    "language_info": {
      "name": "python"
    },
    "gpuClass": "standard",
    "widgets": {
      "application/vnd.jupyter.widget-state+json": {
        "1165e9d618474e78bf5e2d4a042c5364": {
          "model_module": "@jupyter-widgets/controls",
          "model_name": "VBoxModel",
          "model_module_version": "1.5.0",
          "state": {
            "_dom_classes": [],
            "_model_module": "@jupyter-widgets/controls",
            "_model_module_version": "1.5.0",
            "_model_name": "VBoxModel",
            "_view_count": null,
            "_view_module": "@jupyter-widgets/controls",
            "_view_module_version": "1.5.0",
            "_view_name": "VBoxView",
            "box_style": "",
            "children": [
              "IPY_MODEL_7bc1491c64f8423b91b526a1cd62950c",
              "IPY_MODEL_b707b7474ebb4477be31d0dcb5f4cd39"
            ],
            "layout": "IPY_MODEL_a861e5865e434833aff1fd21942fafe4"
          }
        },
        "7bc1491c64f8423b91b526a1cd62950c": {
          "model_module": "@jupyter-widgets/controls",
          "model_name": "LabelModel",
          "model_module_version": "1.5.0",
          "state": {
            "_dom_classes": [],
            "_model_module": "@jupyter-widgets/controls",
            "_model_module_version": "1.5.0",
            "_model_name": "LabelModel",
            "_view_count": null,
            "_view_module": "@jupyter-widgets/controls",
            "_view_module_version": "1.5.0",
            "_view_name": "LabelView",
            "description": "",
            "description_tooltip": null,
            "layout": "IPY_MODEL_61093eb3dd4447438ed93b26b7c6bc8f",
            "placeholder": "​",
            "style": "IPY_MODEL_13194f91b97e4561b3a2e0e64dc0be3f",
            "value": "0.011 MB of 0.011 MB uploaded (0.000 MB deduped)\r"
          }
        },
        "b707b7474ebb4477be31d0dcb5f4cd39": {
          "model_module": "@jupyter-widgets/controls",
          "model_name": "FloatProgressModel",
          "model_module_version": "1.5.0",
          "state": {
            "_dom_classes": [],
            "_model_module": "@jupyter-widgets/controls",
            "_model_module_version": "1.5.0",
            "_model_name": "FloatProgressModel",
            "_view_count": null,
            "_view_module": "@jupyter-widgets/controls",
            "_view_module_version": "1.5.0",
            "_view_name": "ProgressView",
            "bar_style": "",
            "description": "",
            "description_tooltip": null,
            "layout": "IPY_MODEL_b738ac26ee4e407a9bbd6cac4f435194",
            "max": 1,
            "min": 0,
            "orientation": "horizontal",
            "style": "IPY_MODEL_6376a62b044848b0857bc1ea8cfe9920",
            "value": 1
          }
        },
        "a861e5865e434833aff1fd21942fafe4": {
          "model_module": "@jupyter-widgets/base",
          "model_name": "LayoutModel",
          "model_module_version": "1.2.0",
          "state": {
            "_model_module": "@jupyter-widgets/base",
            "_model_module_version": "1.2.0",
            "_model_name": "LayoutModel",
            "_view_count": null,
            "_view_module": "@jupyter-widgets/base",
            "_view_module_version": "1.2.0",
            "_view_name": "LayoutView",
            "align_content": null,
            "align_items": null,
            "align_self": null,
            "border": null,
            "bottom": null,
            "display": null,
            "flex": null,
            "flex_flow": null,
            "grid_area": null,
            "grid_auto_columns": null,
            "grid_auto_flow": null,
            "grid_auto_rows": null,
            "grid_column": null,
            "grid_gap": null,
            "grid_row": null,
            "grid_template_areas": null,
            "grid_template_columns": null,
            "grid_template_rows": null,
            "height": null,
            "justify_content": null,
            "justify_items": null,
            "left": null,
            "margin": null,
            "max_height": null,
            "max_width": null,
            "min_height": null,
            "min_width": null,
            "object_fit": null,
            "object_position": null,
            "order": null,
            "overflow": null,
            "overflow_x": null,
            "overflow_y": null,
            "padding": null,
            "right": null,
            "top": null,
            "visibility": null,
            "width": null
          }
        },
        "61093eb3dd4447438ed93b26b7c6bc8f": {
          "model_module": "@jupyter-widgets/base",
          "model_name": "LayoutModel",
          "model_module_version": "1.2.0",
          "state": {
            "_model_module": "@jupyter-widgets/base",
            "_model_module_version": "1.2.0",
            "_model_name": "LayoutModel",
            "_view_count": null,
            "_view_module": "@jupyter-widgets/base",
            "_view_module_version": "1.2.0",
            "_view_name": "LayoutView",
            "align_content": null,
            "align_items": null,
            "align_self": null,
            "border": null,
            "bottom": null,
            "display": null,
            "flex": null,
            "flex_flow": null,
            "grid_area": null,
            "grid_auto_columns": null,
            "grid_auto_flow": null,
            "grid_auto_rows": null,
            "grid_column": null,
            "grid_gap": null,
            "grid_row": null,
            "grid_template_areas": null,
            "grid_template_columns": null,
            "grid_template_rows": null,
            "height": null,
            "justify_content": null,
            "justify_items": null,
            "left": null,
            "margin": null,
            "max_height": null,
            "max_width": null,
            "min_height": null,
            "min_width": null,
            "object_fit": null,
            "object_position": null,
            "order": null,
            "overflow": null,
            "overflow_x": null,
            "overflow_y": null,
            "padding": null,
            "right": null,
            "top": null,
            "visibility": null,
            "width": null
          }
        },
        "13194f91b97e4561b3a2e0e64dc0be3f": {
          "model_module": "@jupyter-widgets/controls",
          "model_name": "DescriptionStyleModel",
          "model_module_version": "1.5.0",
          "state": {
            "_model_module": "@jupyter-widgets/controls",
            "_model_module_version": "1.5.0",
            "_model_name": "DescriptionStyleModel",
            "_view_count": null,
            "_view_module": "@jupyter-widgets/base",
            "_view_module_version": "1.2.0",
            "_view_name": "StyleView",
            "description_width": ""
          }
        },
        "b738ac26ee4e407a9bbd6cac4f435194": {
          "model_module": "@jupyter-widgets/base",
          "model_name": "LayoutModel",
          "model_module_version": "1.2.0",
          "state": {
            "_model_module": "@jupyter-widgets/base",
            "_model_module_version": "1.2.0",
            "_model_name": "LayoutModel",
            "_view_count": null,
            "_view_module": "@jupyter-widgets/base",
            "_view_module_version": "1.2.0",
            "_view_name": "LayoutView",
            "align_content": null,
            "align_items": null,
            "align_self": null,
            "border": null,
            "bottom": null,
            "display": null,
            "flex": null,
            "flex_flow": null,
            "grid_area": null,
            "grid_auto_columns": null,
            "grid_auto_flow": null,
            "grid_auto_rows": null,
            "grid_column": null,
            "grid_gap": null,
            "grid_row": null,
            "grid_template_areas": null,
            "grid_template_columns": null,
            "grid_template_rows": null,
            "height": null,
            "justify_content": null,
            "justify_items": null,
            "left": null,
            "margin": null,
            "max_height": null,
            "max_width": null,
            "min_height": null,
            "min_width": null,
            "object_fit": null,
            "object_position": null,
            "order": null,
            "overflow": null,
            "overflow_x": null,
            "overflow_y": null,
            "padding": null,
            "right": null,
            "top": null,
            "visibility": null,
            "width": null
          }
        },
        "6376a62b044848b0857bc1ea8cfe9920": {
          "model_module": "@jupyter-widgets/controls",
          "model_name": "ProgressStyleModel",
          "model_module_version": "1.5.0",
          "state": {
            "_model_module": "@jupyter-widgets/controls",
            "_model_module_version": "1.5.0",
            "_model_name": "ProgressStyleModel",
            "_view_count": null,
            "_view_module": "@jupyter-widgets/base",
            "_view_module_version": "1.2.0",
            "_view_name": "StyleView",
            "bar_color": null,
            "description_width": ""
          }
        },
        "7940e7d8ebe74d6481455d18f50dc807": {
          "model_module": "@jupyter-widgets/controls",
          "model_name": "VBoxModel",
          "model_module_version": "1.5.0",
          "state": {
            "_dom_classes": [],
            "_model_module": "@jupyter-widgets/controls",
            "_model_module_version": "1.5.0",
            "_model_name": "VBoxModel",
            "_view_count": null,
            "_view_module": "@jupyter-widgets/controls",
            "_view_module_version": "1.5.0",
            "_view_name": "VBoxView",
            "box_style": "",
            "children": [
              "IPY_MODEL_5b3242dc66d24207a30a04262de7a78a",
              "IPY_MODEL_9d0d1aafb85f4b37a3ba0e2f6191b8d8"
            ],
            "layout": "IPY_MODEL_3c48df7fecfb421f960cc76a470742d2"
          }
        },
        "5b3242dc66d24207a30a04262de7a78a": {
          "model_module": "@jupyter-widgets/controls",
          "model_name": "LabelModel",
          "model_module_version": "1.5.0",
          "state": {
            "_dom_classes": [],
            "_model_module": "@jupyter-widgets/controls",
            "_model_module_version": "1.5.0",
            "_model_name": "LabelModel",
            "_view_count": null,
            "_view_module": "@jupyter-widgets/controls",
            "_view_module_version": "1.5.0",
            "_view_name": "LabelView",
            "description": "",
            "description_tooltip": null,
            "layout": "IPY_MODEL_82476534f1e74675b4ce1b91f60cd481",
            "placeholder": "​",
            "style": "IPY_MODEL_c0e50cfa85aa483faca62a71eca38831",
            "value": "0.011 MB of 0.011 MB uploaded (0.000 MB deduped)\r"
          }
        },
        "9d0d1aafb85f4b37a3ba0e2f6191b8d8": {
          "model_module": "@jupyter-widgets/controls",
          "model_name": "FloatProgressModel",
          "model_module_version": "1.5.0",
          "state": {
            "_dom_classes": [],
            "_model_module": "@jupyter-widgets/controls",
            "_model_module_version": "1.5.0",
            "_model_name": "FloatProgressModel",
            "_view_count": null,
            "_view_module": "@jupyter-widgets/controls",
            "_view_module_version": "1.5.0",
            "_view_name": "ProgressView",
            "bar_style": "",
            "description": "",
            "description_tooltip": null,
            "layout": "IPY_MODEL_f7d847995de64fe7b50a196e6c308a94",
            "max": 1,
            "min": 0,
            "orientation": "horizontal",
            "style": "IPY_MODEL_6c144bd6bd3b43d99656704935185cb6",
            "value": 1
          }
        },
        "3c48df7fecfb421f960cc76a470742d2": {
          "model_module": "@jupyter-widgets/base",
          "model_name": "LayoutModel",
          "model_module_version": "1.2.0",
          "state": {
            "_model_module": "@jupyter-widgets/base",
            "_model_module_version": "1.2.0",
            "_model_name": "LayoutModel",
            "_view_count": null,
            "_view_module": "@jupyter-widgets/base",
            "_view_module_version": "1.2.0",
            "_view_name": "LayoutView",
            "align_content": null,
            "align_items": null,
            "align_self": null,
            "border": null,
            "bottom": null,
            "display": null,
            "flex": null,
            "flex_flow": null,
            "grid_area": null,
            "grid_auto_columns": null,
            "grid_auto_flow": null,
            "grid_auto_rows": null,
            "grid_column": null,
            "grid_gap": null,
            "grid_row": null,
            "grid_template_areas": null,
            "grid_template_columns": null,
            "grid_template_rows": null,
            "height": null,
            "justify_content": null,
            "justify_items": null,
            "left": null,
            "margin": null,
            "max_height": null,
            "max_width": null,
            "min_height": null,
            "min_width": null,
            "object_fit": null,
            "object_position": null,
            "order": null,
            "overflow": null,
            "overflow_x": null,
            "overflow_y": null,
            "padding": null,
            "right": null,
            "top": null,
            "visibility": null,
            "width": null
          }
        },
        "82476534f1e74675b4ce1b91f60cd481": {
          "model_module": "@jupyter-widgets/base",
          "model_name": "LayoutModel",
          "model_module_version": "1.2.0",
          "state": {
            "_model_module": "@jupyter-widgets/base",
            "_model_module_version": "1.2.0",
            "_model_name": "LayoutModel",
            "_view_count": null,
            "_view_module": "@jupyter-widgets/base",
            "_view_module_version": "1.2.0",
            "_view_name": "LayoutView",
            "align_content": null,
            "align_items": null,
            "align_self": null,
            "border": null,
            "bottom": null,
            "display": null,
            "flex": null,
            "flex_flow": null,
            "grid_area": null,
            "grid_auto_columns": null,
            "grid_auto_flow": null,
            "grid_auto_rows": null,
            "grid_column": null,
            "grid_gap": null,
            "grid_row": null,
            "grid_template_areas": null,
            "grid_template_columns": null,
            "grid_template_rows": null,
            "height": null,
            "justify_content": null,
            "justify_items": null,
            "left": null,
            "margin": null,
            "max_height": null,
            "max_width": null,
            "min_height": null,
            "min_width": null,
            "object_fit": null,
            "object_position": null,
            "order": null,
            "overflow": null,
            "overflow_x": null,
            "overflow_y": null,
            "padding": null,
            "right": null,
            "top": null,
            "visibility": null,
            "width": null
          }
        },
        "c0e50cfa85aa483faca62a71eca38831": {
          "model_module": "@jupyter-widgets/controls",
          "model_name": "DescriptionStyleModel",
          "model_module_version": "1.5.0",
          "state": {
            "_model_module": "@jupyter-widgets/controls",
            "_model_module_version": "1.5.0",
            "_model_name": "DescriptionStyleModel",
            "_view_count": null,
            "_view_module": "@jupyter-widgets/base",
            "_view_module_version": "1.2.0",
            "_view_name": "StyleView",
            "description_width": ""
          }
        },
        "f7d847995de64fe7b50a196e6c308a94": {
          "model_module": "@jupyter-widgets/base",
          "model_name": "LayoutModel",
          "model_module_version": "1.2.0",
          "state": {
            "_model_module": "@jupyter-widgets/base",
            "_model_module_version": "1.2.0",
            "_model_name": "LayoutModel",
            "_view_count": null,
            "_view_module": "@jupyter-widgets/base",
            "_view_module_version": "1.2.0",
            "_view_name": "LayoutView",
            "align_content": null,
            "align_items": null,
            "align_self": null,
            "border": null,
            "bottom": null,
            "display": null,
            "flex": null,
            "flex_flow": null,
            "grid_area": null,
            "grid_auto_columns": null,
            "grid_auto_flow": null,
            "grid_auto_rows": null,
            "grid_column": null,
            "grid_gap": null,
            "grid_row": null,
            "grid_template_areas": null,
            "grid_template_columns": null,
            "grid_template_rows": null,
            "height": null,
            "justify_content": null,
            "justify_items": null,
            "left": null,
            "margin": null,
            "max_height": null,
            "max_width": null,
            "min_height": null,
            "min_width": null,
            "object_fit": null,
            "object_position": null,
            "order": null,
            "overflow": null,
            "overflow_x": null,
            "overflow_y": null,
            "padding": null,
            "right": null,
            "top": null,
            "visibility": null,
            "width": null
          }
        },
        "6c144bd6bd3b43d99656704935185cb6": {
          "model_module": "@jupyter-widgets/controls",
          "model_name": "ProgressStyleModel",
          "model_module_version": "1.5.0",
          "state": {
            "_model_module": "@jupyter-widgets/controls",
            "_model_module_version": "1.5.0",
            "_model_name": "ProgressStyleModel",
            "_view_count": null,
            "_view_module": "@jupyter-widgets/base",
            "_view_module_version": "1.2.0",
            "_view_name": "StyleView",
            "bar_color": null,
            "description_width": ""
          }
        },
        "7939ab9c1a164be0adf5b806ad42f2b5": {
          "model_module": "@jupyter-widgets/controls",
          "model_name": "VBoxModel",
          "model_module_version": "1.5.0",
          "state": {
            "_dom_classes": [],
            "_model_module": "@jupyter-widgets/controls",
            "_model_module_version": "1.5.0",
            "_model_name": "VBoxModel",
            "_view_count": null,
            "_view_module": "@jupyter-widgets/controls",
            "_view_module_version": "1.5.0",
            "_view_name": "VBoxView",
            "box_style": "",
            "children": [
              "IPY_MODEL_409984b9439f4ca697517b182dde66ed",
              "IPY_MODEL_050bf886346a475f8064cc0ed5850f0a"
            ],
            "layout": "IPY_MODEL_e98fa51bcaf5496285e258696085153c"
          }
        },
        "409984b9439f4ca697517b182dde66ed": {
          "model_module": "@jupyter-widgets/controls",
          "model_name": "LabelModel",
          "model_module_version": "1.5.0",
          "state": {
            "_dom_classes": [],
            "_model_module": "@jupyter-widgets/controls",
            "_model_module_version": "1.5.0",
            "_model_name": "LabelModel",
            "_view_count": null,
            "_view_module": "@jupyter-widgets/controls",
            "_view_module_version": "1.5.0",
            "_view_name": "LabelView",
            "description": "",
            "description_tooltip": null,
            "layout": "IPY_MODEL_4771ecd2269540d3ae13fc1addfb6998",
            "placeholder": "​",
            "style": "IPY_MODEL_e73b0ba7bfb44510b255343111d27456",
            "value": "0.011 MB of 0.011 MB uploaded (0.000 MB deduped)\r"
          }
        },
        "050bf886346a475f8064cc0ed5850f0a": {
          "model_module": "@jupyter-widgets/controls",
          "model_name": "FloatProgressModel",
          "model_module_version": "1.5.0",
          "state": {
            "_dom_classes": [],
            "_model_module": "@jupyter-widgets/controls",
            "_model_module_version": "1.5.0",
            "_model_name": "FloatProgressModel",
            "_view_count": null,
            "_view_module": "@jupyter-widgets/controls",
            "_view_module_version": "1.5.0",
            "_view_name": "ProgressView",
            "bar_style": "",
            "description": "",
            "description_tooltip": null,
            "layout": "IPY_MODEL_8ab2eefe22534618bf7fc873d7cd5716",
            "max": 1,
            "min": 0,
            "orientation": "horizontal",
            "style": "IPY_MODEL_e123a7fd5327445fa92d11e3b568189f",
            "value": 1
          }
        },
        "e98fa51bcaf5496285e258696085153c": {
          "model_module": "@jupyter-widgets/base",
          "model_name": "LayoutModel",
          "model_module_version": "1.2.0",
          "state": {
            "_model_module": "@jupyter-widgets/base",
            "_model_module_version": "1.2.0",
            "_model_name": "LayoutModel",
            "_view_count": null,
            "_view_module": "@jupyter-widgets/base",
            "_view_module_version": "1.2.0",
            "_view_name": "LayoutView",
            "align_content": null,
            "align_items": null,
            "align_self": null,
            "border": null,
            "bottom": null,
            "display": null,
            "flex": null,
            "flex_flow": null,
            "grid_area": null,
            "grid_auto_columns": null,
            "grid_auto_flow": null,
            "grid_auto_rows": null,
            "grid_column": null,
            "grid_gap": null,
            "grid_row": null,
            "grid_template_areas": null,
            "grid_template_columns": null,
            "grid_template_rows": null,
            "height": null,
            "justify_content": null,
            "justify_items": null,
            "left": null,
            "margin": null,
            "max_height": null,
            "max_width": null,
            "min_height": null,
            "min_width": null,
            "object_fit": null,
            "object_position": null,
            "order": null,
            "overflow": null,
            "overflow_x": null,
            "overflow_y": null,
            "padding": null,
            "right": null,
            "top": null,
            "visibility": null,
            "width": null
          }
        },
        "4771ecd2269540d3ae13fc1addfb6998": {
          "model_module": "@jupyter-widgets/base",
          "model_name": "LayoutModel",
          "model_module_version": "1.2.0",
          "state": {
            "_model_module": "@jupyter-widgets/base",
            "_model_module_version": "1.2.0",
            "_model_name": "LayoutModel",
            "_view_count": null,
            "_view_module": "@jupyter-widgets/base",
            "_view_module_version": "1.2.0",
            "_view_name": "LayoutView",
            "align_content": null,
            "align_items": null,
            "align_self": null,
            "border": null,
            "bottom": null,
            "display": null,
            "flex": null,
            "flex_flow": null,
            "grid_area": null,
            "grid_auto_columns": null,
            "grid_auto_flow": null,
            "grid_auto_rows": null,
            "grid_column": null,
            "grid_gap": null,
            "grid_row": null,
            "grid_template_areas": null,
            "grid_template_columns": null,
            "grid_template_rows": null,
            "height": null,
            "justify_content": null,
            "justify_items": null,
            "left": null,
            "margin": null,
            "max_height": null,
            "max_width": null,
            "min_height": null,
            "min_width": null,
            "object_fit": null,
            "object_position": null,
            "order": null,
            "overflow": null,
            "overflow_x": null,
            "overflow_y": null,
            "padding": null,
            "right": null,
            "top": null,
            "visibility": null,
            "width": null
          }
        },
        "e73b0ba7bfb44510b255343111d27456": {
          "model_module": "@jupyter-widgets/controls",
          "model_name": "DescriptionStyleModel",
          "model_module_version": "1.5.0",
          "state": {
            "_model_module": "@jupyter-widgets/controls",
            "_model_module_version": "1.5.0",
            "_model_name": "DescriptionStyleModel",
            "_view_count": null,
            "_view_module": "@jupyter-widgets/base",
            "_view_module_version": "1.2.0",
            "_view_name": "StyleView",
            "description_width": ""
          }
        },
        "8ab2eefe22534618bf7fc873d7cd5716": {
          "model_module": "@jupyter-widgets/base",
          "model_name": "LayoutModel",
          "model_module_version": "1.2.0",
          "state": {
            "_model_module": "@jupyter-widgets/base",
            "_model_module_version": "1.2.0",
            "_model_name": "LayoutModel",
            "_view_count": null,
            "_view_module": "@jupyter-widgets/base",
            "_view_module_version": "1.2.0",
            "_view_name": "LayoutView",
            "align_content": null,
            "align_items": null,
            "align_self": null,
            "border": null,
            "bottom": null,
            "display": null,
            "flex": null,
            "flex_flow": null,
            "grid_area": null,
            "grid_auto_columns": null,
            "grid_auto_flow": null,
            "grid_auto_rows": null,
            "grid_column": null,
            "grid_gap": null,
            "grid_row": null,
            "grid_template_areas": null,
            "grid_template_columns": null,
            "grid_template_rows": null,
            "height": null,
            "justify_content": null,
            "justify_items": null,
            "left": null,
            "margin": null,
            "max_height": null,
            "max_width": null,
            "min_height": null,
            "min_width": null,
            "object_fit": null,
            "object_position": null,
            "order": null,
            "overflow": null,
            "overflow_x": null,
            "overflow_y": null,
            "padding": null,
            "right": null,
            "top": null,
            "visibility": null,
            "width": null
          }
        },
        "e123a7fd5327445fa92d11e3b568189f": {
          "model_module": "@jupyter-widgets/controls",
          "model_name": "ProgressStyleModel",
          "model_module_version": "1.5.0",
          "state": {
            "_model_module": "@jupyter-widgets/controls",
            "_model_module_version": "1.5.0",
            "_model_name": "ProgressStyleModel",
            "_view_count": null,
            "_view_module": "@jupyter-widgets/base",
            "_view_module_version": "1.2.0",
            "_view_name": "StyleView",
            "bar_color": null,
            "description_width": ""
          }
        },
        "6f08c673c9fe4ae8bf81a96f92c19537": {
          "model_module": "@jupyter-widgets/controls",
          "model_name": "VBoxModel",
          "model_module_version": "1.5.0",
          "state": {
            "_dom_classes": [],
            "_model_module": "@jupyter-widgets/controls",
            "_model_module_version": "1.5.0",
            "_model_name": "VBoxModel",
            "_view_count": null,
            "_view_module": "@jupyter-widgets/controls",
            "_view_module_version": "1.5.0",
            "_view_name": "VBoxView",
            "box_style": "",
            "children": [
              "IPY_MODEL_090ae025af5245b99b6bea2623f3f6aa",
              "IPY_MODEL_8aca7e375edb41c9b4f567836f7c2547"
            ],
            "layout": "IPY_MODEL_f0369de6798544f98c7996ec2b020b50"
          }
        },
        "090ae025af5245b99b6bea2623f3f6aa": {
          "model_module": "@jupyter-widgets/controls",
          "model_name": "LabelModel",
          "model_module_version": "1.5.0",
          "state": {
            "_dom_classes": [],
            "_model_module": "@jupyter-widgets/controls",
            "_model_module_version": "1.5.0",
            "_model_name": "LabelModel",
            "_view_count": null,
            "_view_module": "@jupyter-widgets/controls",
            "_view_module_version": "1.5.0",
            "_view_name": "LabelView",
            "description": "",
            "description_tooltip": null,
            "layout": "IPY_MODEL_aed8c188841d4ad9becbf17ec495bf84",
            "placeholder": "​",
            "style": "IPY_MODEL_3655c630f07d4cd887332d0ddbe9b956",
            "value": "0.011 MB of 0.011 MB uploaded (0.000 MB deduped)\r"
          }
        },
        "8aca7e375edb41c9b4f567836f7c2547": {
          "model_module": "@jupyter-widgets/controls",
          "model_name": "FloatProgressModel",
          "model_module_version": "1.5.0",
          "state": {
            "_dom_classes": [],
            "_model_module": "@jupyter-widgets/controls",
            "_model_module_version": "1.5.0",
            "_model_name": "FloatProgressModel",
            "_view_count": null,
            "_view_module": "@jupyter-widgets/controls",
            "_view_module_version": "1.5.0",
            "_view_name": "ProgressView",
            "bar_style": "",
            "description": "",
            "description_tooltip": null,
            "layout": "IPY_MODEL_d2e7d5e84a0e44818b9648150cf2c3bf",
            "max": 1,
            "min": 0,
            "orientation": "horizontal",
            "style": "IPY_MODEL_0ad91eb4e80b4b9bb53a334299a27864",
            "value": 1
          }
        },
        "f0369de6798544f98c7996ec2b020b50": {
          "model_module": "@jupyter-widgets/base",
          "model_name": "LayoutModel",
          "model_module_version": "1.2.0",
          "state": {
            "_model_module": "@jupyter-widgets/base",
            "_model_module_version": "1.2.0",
            "_model_name": "LayoutModel",
            "_view_count": null,
            "_view_module": "@jupyter-widgets/base",
            "_view_module_version": "1.2.0",
            "_view_name": "LayoutView",
            "align_content": null,
            "align_items": null,
            "align_self": null,
            "border": null,
            "bottom": null,
            "display": null,
            "flex": null,
            "flex_flow": null,
            "grid_area": null,
            "grid_auto_columns": null,
            "grid_auto_flow": null,
            "grid_auto_rows": null,
            "grid_column": null,
            "grid_gap": null,
            "grid_row": null,
            "grid_template_areas": null,
            "grid_template_columns": null,
            "grid_template_rows": null,
            "height": null,
            "justify_content": null,
            "justify_items": null,
            "left": null,
            "margin": null,
            "max_height": null,
            "max_width": null,
            "min_height": null,
            "min_width": null,
            "object_fit": null,
            "object_position": null,
            "order": null,
            "overflow": null,
            "overflow_x": null,
            "overflow_y": null,
            "padding": null,
            "right": null,
            "top": null,
            "visibility": null,
            "width": null
          }
        },
        "aed8c188841d4ad9becbf17ec495bf84": {
          "model_module": "@jupyter-widgets/base",
          "model_name": "LayoutModel",
          "model_module_version": "1.2.0",
          "state": {
            "_model_module": "@jupyter-widgets/base",
            "_model_module_version": "1.2.0",
            "_model_name": "LayoutModel",
            "_view_count": null,
            "_view_module": "@jupyter-widgets/base",
            "_view_module_version": "1.2.0",
            "_view_name": "LayoutView",
            "align_content": null,
            "align_items": null,
            "align_self": null,
            "border": null,
            "bottom": null,
            "display": null,
            "flex": null,
            "flex_flow": null,
            "grid_area": null,
            "grid_auto_columns": null,
            "grid_auto_flow": null,
            "grid_auto_rows": null,
            "grid_column": null,
            "grid_gap": null,
            "grid_row": null,
            "grid_template_areas": null,
            "grid_template_columns": null,
            "grid_template_rows": null,
            "height": null,
            "justify_content": null,
            "justify_items": null,
            "left": null,
            "margin": null,
            "max_height": null,
            "max_width": null,
            "min_height": null,
            "min_width": null,
            "object_fit": null,
            "object_position": null,
            "order": null,
            "overflow": null,
            "overflow_x": null,
            "overflow_y": null,
            "padding": null,
            "right": null,
            "top": null,
            "visibility": null,
            "width": null
          }
        },
        "3655c630f07d4cd887332d0ddbe9b956": {
          "model_module": "@jupyter-widgets/controls",
          "model_name": "DescriptionStyleModel",
          "model_module_version": "1.5.0",
          "state": {
            "_model_module": "@jupyter-widgets/controls",
            "_model_module_version": "1.5.0",
            "_model_name": "DescriptionStyleModel",
            "_view_count": null,
            "_view_module": "@jupyter-widgets/base",
            "_view_module_version": "1.2.0",
            "_view_name": "StyleView",
            "description_width": ""
          }
        },
        "d2e7d5e84a0e44818b9648150cf2c3bf": {
          "model_module": "@jupyter-widgets/base",
          "model_name": "LayoutModel",
          "model_module_version": "1.2.0",
          "state": {
            "_model_module": "@jupyter-widgets/base",
            "_model_module_version": "1.2.0",
            "_model_name": "LayoutModel",
            "_view_count": null,
            "_view_module": "@jupyter-widgets/base",
            "_view_module_version": "1.2.0",
            "_view_name": "LayoutView",
            "align_content": null,
            "align_items": null,
            "align_self": null,
            "border": null,
            "bottom": null,
            "display": null,
            "flex": null,
            "flex_flow": null,
            "grid_area": null,
            "grid_auto_columns": null,
            "grid_auto_flow": null,
            "grid_auto_rows": null,
            "grid_column": null,
            "grid_gap": null,
            "grid_row": null,
            "grid_template_areas": null,
            "grid_template_columns": null,
            "grid_template_rows": null,
            "height": null,
            "justify_content": null,
            "justify_items": null,
            "left": null,
            "margin": null,
            "max_height": null,
            "max_width": null,
            "min_height": null,
            "min_width": null,
            "object_fit": null,
            "object_position": null,
            "order": null,
            "overflow": null,
            "overflow_x": null,
            "overflow_y": null,
            "padding": null,
            "right": null,
            "top": null,
            "visibility": null,
            "width": null
          }
        },
        "0ad91eb4e80b4b9bb53a334299a27864": {
          "model_module": "@jupyter-widgets/controls",
          "model_name": "ProgressStyleModel",
          "model_module_version": "1.5.0",
          "state": {
            "_model_module": "@jupyter-widgets/controls",
            "_model_module_version": "1.5.0",
            "_model_name": "ProgressStyleModel",
            "_view_count": null,
            "_view_module": "@jupyter-widgets/base",
            "_view_module_version": "1.2.0",
            "_view_name": "StyleView",
            "bar_color": null,
            "description_width": ""
          }
        },
        "3f6154a9286343dbb88b7167e7194d5f": {
          "model_module": "@jupyter-widgets/controls",
          "model_name": "VBoxModel",
          "model_module_version": "1.5.0",
          "state": {
            "_dom_classes": [],
            "_model_module": "@jupyter-widgets/controls",
            "_model_module_version": "1.5.0",
            "_model_name": "VBoxModel",
            "_view_count": null,
            "_view_module": "@jupyter-widgets/controls",
            "_view_module_version": "1.5.0",
            "_view_name": "VBoxView",
            "box_style": "",
            "children": [
              "IPY_MODEL_f4aae712b70a46adb7b5ba648190d0f3",
              "IPY_MODEL_d45c277ab85a429dbfd8c2e3a0721e0e"
            ],
            "layout": "IPY_MODEL_5ef6a3f1ef6447c1886ba7bf63b3daab"
          }
        },
        "f4aae712b70a46adb7b5ba648190d0f3": {
          "model_module": "@jupyter-widgets/controls",
          "model_name": "LabelModel",
          "model_module_version": "1.5.0",
          "state": {
            "_dom_classes": [],
            "_model_module": "@jupyter-widgets/controls",
            "_model_module_version": "1.5.0",
            "_model_name": "LabelModel",
            "_view_count": null,
            "_view_module": "@jupyter-widgets/controls",
            "_view_module_version": "1.5.0",
            "_view_name": "LabelView",
            "description": "",
            "description_tooltip": null,
            "layout": "IPY_MODEL_457148213c2840549dc3497bc965f1cb",
            "placeholder": "​",
            "style": "IPY_MODEL_641a83420d21418dbcc90c77b9e5cc0e",
            "value": "0.011 MB of 0.011 MB uploaded (0.000 MB deduped)\r"
          }
        },
        "d45c277ab85a429dbfd8c2e3a0721e0e": {
          "model_module": "@jupyter-widgets/controls",
          "model_name": "FloatProgressModel",
          "model_module_version": "1.5.0",
          "state": {
            "_dom_classes": [],
            "_model_module": "@jupyter-widgets/controls",
            "_model_module_version": "1.5.0",
            "_model_name": "FloatProgressModel",
            "_view_count": null,
            "_view_module": "@jupyter-widgets/controls",
            "_view_module_version": "1.5.0",
            "_view_name": "ProgressView",
            "bar_style": "",
            "description": "",
            "description_tooltip": null,
            "layout": "IPY_MODEL_3705aa536f314f2a857466e8467c21cf",
            "max": 1,
            "min": 0,
            "orientation": "horizontal",
            "style": "IPY_MODEL_91db1a559c1a43368382f51e7cd1b227",
            "value": 1
          }
        },
        "5ef6a3f1ef6447c1886ba7bf63b3daab": {
          "model_module": "@jupyter-widgets/base",
          "model_name": "LayoutModel",
          "model_module_version": "1.2.0",
          "state": {
            "_model_module": "@jupyter-widgets/base",
            "_model_module_version": "1.2.0",
            "_model_name": "LayoutModel",
            "_view_count": null,
            "_view_module": "@jupyter-widgets/base",
            "_view_module_version": "1.2.0",
            "_view_name": "LayoutView",
            "align_content": null,
            "align_items": null,
            "align_self": null,
            "border": null,
            "bottom": null,
            "display": null,
            "flex": null,
            "flex_flow": null,
            "grid_area": null,
            "grid_auto_columns": null,
            "grid_auto_flow": null,
            "grid_auto_rows": null,
            "grid_column": null,
            "grid_gap": null,
            "grid_row": null,
            "grid_template_areas": null,
            "grid_template_columns": null,
            "grid_template_rows": null,
            "height": null,
            "justify_content": null,
            "justify_items": null,
            "left": null,
            "margin": null,
            "max_height": null,
            "max_width": null,
            "min_height": null,
            "min_width": null,
            "object_fit": null,
            "object_position": null,
            "order": null,
            "overflow": null,
            "overflow_x": null,
            "overflow_y": null,
            "padding": null,
            "right": null,
            "top": null,
            "visibility": null,
            "width": null
          }
        },
        "457148213c2840549dc3497bc965f1cb": {
          "model_module": "@jupyter-widgets/base",
          "model_name": "LayoutModel",
          "model_module_version": "1.2.0",
          "state": {
            "_model_module": "@jupyter-widgets/base",
            "_model_module_version": "1.2.0",
            "_model_name": "LayoutModel",
            "_view_count": null,
            "_view_module": "@jupyter-widgets/base",
            "_view_module_version": "1.2.0",
            "_view_name": "LayoutView",
            "align_content": null,
            "align_items": null,
            "align_self": null,
            "border": null,
            "bottom": null,
            "display": null,
            "flex": null,
            "flex_flow": null,
            "grid_area": null,
            "grid_auto_columns": null,
            "grid_auto_flow": null,
            "grid_auto_rows": null,
            "grid_column": null,
            "grid_gap": null,
            "grid_row": null,
            "grid_template_areas": null,
            "grid_template_columns": null,
            "grid_template_rows": null,
            "height": null,
            "justify_content": null,
            "justify_items": null,
            "left": null,
            "margin": null,
            "max_height": null,
            "max_width": null,
            "min_height": null,
            "min_width": null,
            "object_fit": null,
            "object_position": null,
            "order": null,
            "overflow": null,
            "overflow_x": null,
            "overflow_y": null,
            "padding": null,
            "right": null,
            "top": null,
            "visibility": null,
            "width": null
          }
        },
        "641a83420d21418dbcc90c77b9e5cc0e": {
          "model_module": "@jupyter-widgets/controls",
          "model_name": "DescriptionStyleModel",
          "model_module_version": "1.5.0",
          "state": {
            "_model_module": "@jupyter-widgets/controls",
            "_model_module_version": "1.5.0",
            "_model_name": "DescriptionStyleModel",
            "_view_count": null,
            "_view_module": "@jupyter-widgets/base",
            "_view_module_version": "1.2.0",
            "_view_name": "StyleView",
            "description_width": ""
          }
        },
        "3705aa536f314f2a857466e8467c21cf": {
          "model_module": "@jupyter-widgets/base",
          "model_name": "LayoutModel",
          "model_module_version": "1.2.0",
          "state": {
            "_model_module": "@jupyter-widgets/base",
            "_model_module_version": "1.2.0",
            "_model_name": "LayoutModel",
            "_view_count": null,
            "_view_module": "@jupyter-widgets/base",
            "_view_module_version": "1.2.0",
            "_view_name": "LayoutView",
            "align_content": null,
            "align_items": null,
            "align_self": null,
            "border": null,
            "bottom": null,
            "display": null,
            "flex": null,
            "flex_flow": null,
            "grid_area": null,
            "grid_auto_columns": null,
            "grid_auto_flow": null,
            "grid_auto_rows": null,
            "grid_column": null,
            "grid_gap": null,
            "grid_row": null,
            "grid_template_areas": null,
            "grid_template_columns": null,
            "grid_template_rows": null,
            "height": null,
            "justify_content": null,
            "justify_items": null,
            "left": null,
            "margin": null,
            "max_height": null,
            "max_width": null,
            "min_height": null,
            "min_width": null,
            "object_fit": null,
            "object_position": null,
            "order": null,
            "overflow": null,
            "overflow_x": null,
            "overflow_y": null,
            "padding": null,
            "right": null,
            "top": null,
            "visibility": null,
            "width": null
          }
        },
        "91db1a559c1a43368382f51e7cd1b227": {
          "model_module": "@jupyter-widgets/controls",
          "model_name": "ProgressStyleModel",
          "model_module_version": "1.5.0",
          "state": {
            "_model_module": "@jupyter-widgets/controls",
            "_model_module_version": "1.5.0",
            "_model_name": "ProgressStyleModel",
            "_view_count": null,
            "_view_module": "@jupyter-widgets/base",
            "_view_module_version": "1.2.0",
            "_view_name": "StyleView",
            "bar_color": null,
            "description_width": ""
          }
        },
        "0567d0413af04e1480b91b9ab48a019b": {
          "model_module": "@jupyter-widgets/controls",
          "model_name": "VBoxModel",
          "model_module_version": "1.5.0",
          "state": {
            "_dom_classes": [],
            "_model_module": "@jupyter-widgets/controls",
            "_model_module_version": "1.5.0",
            "_model_name": "VBoxModel",
            "_view_count": null,
            "_view_module": "@jupyter-widgets/controls",
            "_view_module_version": "1.5.0",
            "_view_name": "VBoxView",
            "box_style": "",
            "children": [
              "IPY_MODEL_39b7cb8bc4b54fa1b1248675b2891590",
              "IPY_MODEL_f3d1e825e68248d2a27aa4a4c2555b3f"
            ],
            "layout": "IPY_MODEL_9b93f8d1d6524d059b699b6bb8878100"
          }
        },
        "39b7cb8bc4b54fa1b1248675b2891590": {
          "model_module": "@jupyter-widgets/controls",
          "model_name": "LabelModel",
          "model_module_version": "1.5.0",
          "state": {
            "_dom_classes": [],
            "_model_module": "@jupyter-widgets/controls",
            "_model_module_version": "1.5.0",
            "_model_name": "LabelModel",
            "_view_count": null,
            "_view_module": "@jupyter-widgets/controls",
            "_view_module_version": "1.5.0",
            "_view_name": "LabelView",
            "description": "",
            "description_tooltip": null,
            "layout": "IPY_MODEL_eb6dfb0553ef47bcb368395869418159",
            "placeholder": "​",
            "style": "IPY_MODEL_4ab867eee6ff4f5296c73273ae3deb19",
            "value": "0.011 MB of 0.011 MB uploaded (0.000 MB deduped)\r"
          }
        },
        "f3d1e825e68248d2a27aa4a4c2555b3f": {
          "model_module": "@jupyter-widgets/controls",
          "model_name": "FloatProgressModel",
          "model_module_version": "1.5.0",
          "state": {
            "_dom_classes": [],
            "_model_module": "@jupyter-widgets/controls",
            "_model_module_version": "1.5.0",
            "_model_name": "FloatProgressModel",
            "_view_count": null,
            "_view_module": "@jupyter-widgets/controls",
            "_view_module_version": "1.5.0",
            "_view_name": "ProgressView",
            "bar_style": "",
            "description": "",
            "description_tooltip": null,
            "layout": "IPY_MODEL_8600f686cdcb477d8a1d063eda03a4d5",
            "max": 1,
            "min": 0,
            "orientation": "horizontal",
            "style": "IPY_MODEL_cc864965069441038e7889209e6ffcab",
            "value": 1
          }
        },
        "9b93f8d1d6524d059b699b6bb8878100": {
          "model_module": "@jupyter-widgets/base",
          "model_name": "LayoutModel",
          "model_module_version": "1.2.0",
          "state": {
            "_model_module": "@jupyter-widgets/base",
            "_model_module_version": "1.2.0",
            "_model_name": "LayoutModel",
            "_view_count": null,
            "_view_module": "@jupyter-widgets/base",
            "_view_module_version": "1.2.0",
            "_view_name": "LayoutView",
            "align_content": null,
            "align_items": null,
            "align_self": null,
            "border": null,
            "bottom": null,
            "display": null,
            "flex": null,
            "flex_flow": null,
            "grid_area": null,
            "grid_auto_columns": null,
            "grid_auto_flow": null,
            "grid_auto_rows": null,
            "grid_column": null,
            "grid_gap": null,
            "grid_row": null,
            "grid_template_areas": null,
            "grid_template_columns": null,
            "grid_template_rows": null,
            "height": null,
            "justify_content": null,
            "justify_items": null,
            "left": null,
            "margin": null,
            "max_height": null,
            "max_width": null,
            "min_height": null,
            "min_width": null,
            "object_fit": null,
            "object_position": null,
            "order": null,
            "overflow": null,
            "overflow_x": null,
            "overflow_y": null,
            "padding": null,
            "right": null,
            "top": null,
            "visibility": null,
            "width": null
          }
        },
        "eb6dfb0553ef47bcb368395869418159": {
          "model_module": "@jupyter-widgets/base",
          "model_name": "LayoutModel",
          "model_module_version": "1.2.0",
          "state": {
            "_model_module": "@jupyter-widgets/base",
            "_model_module_version": "1.2.0",
            "_model_name": "LayoutModel",
            "_view_count": null,
            "_view_module": "@jupyter-widgets/base",
            "_view_module_version": "1.2.0",
            "_view_name": "LayoutView",
            "align_content": null,
            "align_items": null,
            "align_self": null,
            "border": null,
            "bottom": null,
            "display": null,
            "flex": null,
            "flex_flow": null,
            "grid_area": null,
            "grid_auto_columns": null,
            "grid_auto_flow": null,
            "grid_auto_rows": null,
            "grid_column": null,
            "grid_gap": null,
            "grid_row": null,
            "grid_template_areas": null,
            "grid_template_columns": null,
            "grid_template_rows": null,
            "height": null,
            "justify_content": null,
            "justify_items": null,
            "left": null,
            "margin": null,
            "max_height": null,
            "max_width": null,
            "min_height": null,
            "min_width": null,
            "object_fit": null,
            "object_position": null,
            "order": null,
            "overflow": null,
            "overflow_x": null,
            "overflow_y": null,
            "padding": null,
            "right": null,
            "top": null,
            "visibility": null,
            "width": null
          }
        },
        "4ab867eee6ff4f5296c73273ae3deb19": {
          "model_module": "@jupyter-widgets/controls",
          "model_name": "DescriptionStyleModel",
          "model_module_version": "1.5.0",
          "state": {
            "_model_module": "@jupyter-widgets/controls",
            "_model_module_version": "1.5.0",
            "_model_name": "DescriptionStyleModel",
            "_view_count": null,
            "_view_module": "@jupyter-widgets/base",
            "_view_module_version": "1.2.0",
            "_view_name": "StyleView",
            "description_width": ""
          }
        },
        "8600f686cdcb477d8a1d063eda03a4d5": {
          "model_module": "@jupyter-widgets/base",
          "model_name": "LayoutModel",
          "model_module_version": "1.2.0",
          "state": {
            "_model_module": "@jupyter-widgets/base",
            "_model_module_version": "1.2.0",
            "_model_name": "LayoutModel",
            "_view_count": null,
            "_view_module": "@jupyter-widgets/base",
            "_view_module_version": "1.2.0",
            "_view_name": "LayoutView",
            "align_content": null,
            "align_items": null,
            "align_self": null,
            "border": null,
            "bottom": null,
            "display": null,
            "flex": null,
            "flex_flow": null,
            "grid_area": null,
            "grid_auto_columns": null,
            "grid_auto_flow": null,
            "grid_auto_rows": null,
            "grid_column": null,
            "grid_gap": null,
            "grid_row": null,
            "grid_template_areas": null,
            "grid_template_columns": null,
            "grid_template_rows": null,
            "height": null,
            "justify_content": null,
            "justify_items": null,
            "left": null,
            "margin": null,
            "max_height": null,
            "max_width": null,
            "min_height": null,
            "min_width": null,
            "object_fit": null,
            "object_position": null,
            "order": null,
            "overflow": null,
            "overflow_x": null,
            "overflow_y": null,
            "padding": null,
            "right": null,
            "top": null,
            "visibility": null,
            "width": null
          }
        },
        "cc864965069441038e7889209e6ffcab": {
          "model_module": "@jupyter-widgets/controls",
          "model_name": "ProgressStyleModel",
          "model_module_version": "1.5.0",
          "state": {
            "_model_module": "@jupyter-widgets/controls",
            "_model_module_version": "1.5.0",
            "_model_name": "ProgressStyleModel",
            "_view_count": null,
            "_view_module": "@jupyter-widgets/base",
            "_view_module_version": "1.2.0",
            "_view_name": "StyleView",
            "bar_color": null,
            "description_width": ""
          }
        }
      }
    },
    "accelerator": "GPU"
  },
  "cells": [
    {
      "cell_type": "markdown",
      "metadata": {
        "id": "view-in-github",
        "colab_type": "text"
      },
      "source": [
        "<a href=\"https://colab.research.google.com/github/zbooster/Antenna-Performance-Prediction/blob/main/Antenna_Resnet_34.ipynb\" target=\"_parent\"><img src=\"https://colab.research.google.com/assets/colab-badge.svg\" alt=\"Open In Colab\"/></a>"
      ]
    },
    {
      "cell_type": "markdown",
      "source": [
        "# 0. Colab 기본 준비단계\n",
        "- Outlier를 제거하기 위해 사용할 statsmodels을 업그레이드 한다. (Runtime restart 필요)"
      ],
      "metadata": {
        "id": "5BEn5abM1OsF"
      }
    },
    {
      "cell_type": "code",
      "source": [
        "!pip install statsmodels --upgrade"
      ],
      "metadata": {
        "colab": {
          "base_uri": "https://localhost:8080/"
        },
        "id": "Uv5wCZVD1UF4",
        "outputId": "bae01680-9229-4490-ede8-5730c613db56"
      },
      "execution_count": null,
      "outputs": [
        {
          "output_type": "stream",
          "name": "stdout",
          "text": [
            "Looking in indexes: https://pypi.org/simple, https://us-python.pkg.dev/colab-wheels/public/simple/\n",
            "Requirement already satisfied: statsmodels in /usr/local/lib/python3.7/dist-packages (0.12.2)\n",
            "Collecting statsmodels\n",
            "  Downloading statsmodels-0.13.2-cp37-cp37m-manylinux_2_17_x86_64.manylinux2014_x86_64.whl (9.8 MB)\n",
            "\u001b[K     |████████████████████████████████| 9.8 MB 4.1 MB/s \n",
            "\u001b[?25hRequirement already satisfied: scipy>=1.3 in /usr/local/lib/python3.7/dist-packages (from statsmodels) (1.7.3)\n",
            "Requirement already satisfied: numpy>=1.17 in /usr/local/lib/python3.7/dist-packages (from statsmodels) (1.21.6)\n",
            "Requirement already satisfied: pandas>=0.25 in /usr/local/lib/python3.7/dist-packages (from statsmodels) (1.3.5)\n",
            "Requirement already satisfied: packaging>=21.3 in /usr/local/lib/python3.7/dist-packages (from statsmodels) (21.3)\n",
            "Requirement already satisfied: patsy>=0.5.2 in /usr/local/lib/python3.7/dist-packages (from statsmodels) (0.5.2)\n",
            "Requirement already satisfied: pyparsing!=3.0.5,>=2.0.2 in /usr/local/lib/python3.7/dist-packages (from packaging>=21.3->statsmodels) (3.0.9)\n",
            "Requirement already satisfied: pytz>=2017.3 in /usr/local/lib/python3.7/dist-packages (from pandas>=0.25->statsmodels) (2022.2.1)\n",
            "Requirement already satisfied: python-dateutil>=2.7.3 in /usr/local/lib/python3.7/dist-packages (from pandas>=0.25->statsmodels) (2.8.2)\n",
            "Requirement already satisfied: six in /usr/local/lib/python3.7/dist-packages (from patsy>=0.5.2->statsmodels) (1.15.0)\n",
            "Installing collected packages: statsmodels\n",
            "  Attempting uninstall: statsmodels\n",
            "    Found existing installation: statsmodels 0.12.2\n",
            "    Uninstalling statsmodels-0.12.2:\n",
            "      Successfully uninstalled statsmodels-0.12.2\n",
            "Successfully installed statsmodels-0.13.2\n"
          ]
        }
      ]
    },
    {
      "cell_type": "markdown",
      "source": [
        "# 1.데이터 준비하기"
      ],
      "metadata": {
        "id": "7tf5Yhx1dzme"
      }
    },
    {
      "cell_type": "code",
      "source": [
        "import os\n",
        "import gdown\n",
        "import glob\n",
        "import pandas as pd\n",
        "from collections import defaultdict\n",
        "\n",
        "id = \"10Hpa4YM0KX_Ig0W9w7DbTdq62nF2UThA\"\n",
        "output = \"./open.zip\"\n",
        "\n",
        "if not os.path.isdir('./datasets'):\n",
        "  gdown.download(id=id, output=output)\n",
        "  gdown.extractall(path=output, to='./datasets')\n",
        "\n",
        "raw_data = defaultdict(pd.DataFrame)\n",
        "\n",
        "for fname in glob.glob('/content/datasets/**/*.csv', recursive=True):\n",
        "    df_name = os.path.splitext(os.path.basename(fname))[0]\n",
        "    raw_data[df_name] = pd.read_csv(fname)"
      ],
      "metadata": {
        "id": "JMemGRG3kyfW"
      },
      "execution_count": null,
      "outputs": []
    },
    {
      "cell_type": "markdown",
      "source": [
        "# 2.Weights & Biases 설정\n",
        "하이퍼파라미터 튜닝을 위해 Weights & Biases에 로그인하여 데이터를 쌓고 Sweeps를 활용."
      ],
      "metadata": {
        "id": "aEsEzXlApXNc"
      }
    },
    {
      "cell_type": "markdown",
      "source": [
        "#### Package install"
      ],
      "metadata": {
        "id": "ICmbc1QpgMWn"
      }
    },
    {
      "cell_type": "code",
      "source": [
        "!pip install wandb -Uq"
      ],
      "metadata": {
        "id": "CeEie50Zf6us"
      },
      "execution_count": null,
      "outputs": []
    },
    {
      "cell_type": "markdown",
      "source": [
        "#### Login"
      ],
      "metadata": {
        "id": "mxd-v2YPgDXX"
      }
    },
    {
      "cell_type": "code",
      "source": [
        "import wandb\n",
        "\n",
        "wandb.login()"
      ],
      "metadata": {
        "colab": {
          "base_uri": "https://localhost:8080/"
        },
        "id": "ZJ7mnKdEga3c",
        "outputId": "b3d5a587-4b2a-40aa-9cd5-9990df5b1b84"
      },
      "execution_count": null,
      "outputs": [
        {
          "output_type": "execute_result",
          "data": {
            "text/plain": [
              "True"
            ]
          },
          "metadata": {},
          "execution_count": 269
        }
      ]
    },
    {
      "cell_type": "markdown",
      "source": [
        "#### Sweep config"
      ],
      "metadata": {
        "id": "cASFAVX8m8fB"
      }
    },
    {
      "cell_type": "markdown",
      "source": [
        "method: 모든 파라미터를 다 테스트하기 위해 grid를 선택했다."
      ],
      "metadata": {
        "id": "22kRN4dEnwLs"
      }
    },
    {
      "cell_type": "code",
      "source": [
        "sweep_config = {\n",
        "    'method': 'grid'\n",
        "}"
      ],
      "metadata": {
        "id": "mQO5UrNem14X"
      },
      "execution_count": null,
      "outputs": []
    },
    {
      "cell_type": "markdown",
      "source": [
        "metric: 검증(Validation) 데이터셋의 정확도(Accuracy)를 최대(maximize)로 올리는 것으로 선택했다."
      ],
      "metadata": {
        "id": "hHPa1e9efcDU"
      }
    },
    {
      "cell_type": "code",
      "source": [
        "metric = {\n",
        "    'name': 'V-Score',\n",
        "    }\n",
        "\n",
        "sweep_config['metric'] = metric"
      ],
      "metadata": {
        "id": "_97RcDDHnAFV"
      },
      "execution_count": null,
      "outputs": []
    },
    {
      "cell_type": "markdown",
      "source": [
        "parameters_dict: 파라미터 변화에 따른 정확도를 살펴보기 위해 최대한 많이 설정했다."
      ],
      "metadata": {
        "id": "ekDkfcuYgS1N"
      }
    },
    {
      "cell_type": "code",
      "source": [
        "parameters_dict = {\n",
        "    'fold': {\n",
        "        'values': [0, 1, 2, 3, 4, 5] },\n",
        "    'batch_size': {\n",
        "        'values': [ 512 ] },\n",
        "    'learning_rate': {\n",
        "        'values': [0.001]},\n",
        "    'step_size': {\n",
        "        'values': [ 7 ] },\n",
        "    }\n",
        "\n",
        "sweep_config['parameters'] = parameters_dict"
      ],
      "metadata": {
        "id": "rM5AThmLn8LA"
      },
      "execution_count": null,
      "outputs": []
    },
    {
      "cell_type": "code",
      "source": [
        "import pprint\n",
        "\n",
        "pprint.pprint(sweep_config)"
      ],
      "metadata": {
        "colab": {
          "base_uri": "https://localhost:8080/"
        },
        "id": "J6IQd9SHoSMo",
        "outputId": "28266818-39bd-45aa-9e2e-f6b1bc6768b4"
      },
      "execution_count": null,
      "outputs": [
        {
          "output_type": "stream",
          "name": "stdout",
          "text": [
            "{'method': 'grid',\n",
            " 'metric': {'name': 'V-Score'},\n",
            " 'parameters': {'batch_size': {'values': [512]},\n",
            "                'fold': {'values': [0, 1, 2, 3, 4, 5]},\n",
            "                'learning_rate': {'values': [0.001]},\n",
            "                'step_size': {'values': [7]}}}\n"
          ]
        }
      ]
    },
    {
      "cell_type": "markdown",
      "source": [
        "#### Initialize the Sweep"
      ],
      "metadata": {
        "id": "5u3ITHDDofFK"
      }
    },
    {
      "cell_type": "code",
      "source": [
        "sweep_id = wandb.sweep(sweep_config, project=\"Antenna-Resnet34-1\")"
      ],
      "metadata": {
        "colab": {
          "base_uri": "https://localhost:8080/"
        },
        "id": "0QCzQK9oogqq",
        "outputId": "fdc08643-83b9-452d-ebe6-c3b488065683"
      },
      "execution_count": null,
      "outputs": [
        {
          "output_type": "stream",
          "name": "stdout",
          "text": [
            "Create sweep with ID: dtjela50\n",
            "Sweep URL: https://wandb.ai/zbooster/Antenna-Resnet34-1/sweeps/dtjela50\n"
          ]
        }
      ]
    },
    {
      "cell_type": "markdown",
      "source": [
        "# 3.데이터셋(Dataset) 준비하기\n"
      ],
      "metadata": {
        "id": "zXefrXWOh9oO"
      }
    },
    {
      "cell_type": "markdown",
      "source": [
        "## 3.1.데이터 전처리\n"
      ],
      "metadata": {
        "id": "igtMw68WmU9S"
      }
    },
    {
      "cell_type": "code",
      "source": [
        "import numpy as np\n",
        "\n",
        "def split_patten(data):\n",
        "  start_idx, data_size = 0, len(data)\n",
        "  result = []\n",
        "  for i in range(data_size):\n",
        "    if i < 10 or i > data_size - 10:\n",
        "      pass\n",
        "    elif (data['X_30'][i-5:i] < 1.425).all() and (data['X_30'][i:i+5] > 1.425).all():\n",
        "      result.append(i-start_idx)\n",
        "      start_idx = i\n",
        "    elif (data['X_26'][i:i+5] == 2.03).all() and (data['X_27'][i:i+5] == 2.07).all() \\\n",
        "        and len(result) >= 5 and (i - start_idx > 1000):\n",
        "      result.append(i-start_idx)\n",
        "      start_idx = i\n",
        "  else:\n",
        "    result.append(data_size-start_idx)\n",
        "  return result\n",
        "\n",
        "def time_data(data):\n",
        "  T_dict = {'T_SIN':[], 'T_COS':[]}\n",
        "\n",
        "  for size in split_patten(data):\n",
        "    T_dict['T_SIN'].extend([ np.sin(2 * np.pi * i/size) for i in range(size) ])\n",
        "    T_dict['T_COS'].extend([ np.cos(2 * np.pi * i/size) for i in range(size) ])\n",
        "\n",
        "  return pd.DataFrame(T_dict).copy()\n",
        "    \n",
        "def preprocessing_raw(data_type):\n",
        "  # CSV 데이터 불러오기\n",
        "  data = raw_data[data_type].copy()\n",
        "\n",
        "  # 불필요한 컬럼 제거\n",
        "  data = data.drop(columns=['ID', 'X_04', 'X_23', 'X_47', 'X_48']).copy()\n",
        "  data = data.drop(columns=['X_50', 'X_51', 'X_52', 'X_53', 'X_54', 'X_55', 'X_56']).copy()\n",
        "\n",
        "  # 주기성을 대표할 수 있는 Feature 추가\n",
        "  Ts = time_data(data)\n",
        "  data = data.join(Ts).copy()\n",
        "\n",
        "  # 주기에 따라 데이터 분할\n",
        "  result = []\n",
        "  start_idx = data[data['T_SIN']==0].index.to_list()\n",
        "  for i in range(len(start_idx)-1):\n",
        "    result.append(data.iloc[start_idx[i]:start_idx[i+1]])\n",
        "  else:\n",
        "    result.append(data.iloc[start_idx[i+1]:])\n",
        "  return result.copy()"
      ],
      "metadata": {
        "id": "U_Hunw3z5AiD"
      },
      "execution_count": null,
      "outputs": []
    },
    {
      "cell_type": "code",
      "source": [
        "data_raw_list = preprocessing_raw('train')\n",
        "len(pd.concat(data_raw_list))"
      ],
      "metadata": {
        "colab": {
          "base_uri": "https://localhost:8080/"
        },
        "id": "5pmPyxJO5GlW",
        "outputId": "a91322ac-9cb5-4f28-99fb-58b1c9e62454"
      },
      "execution_count": null,
      "outputs": [
        {
          "output_type": "execute_result",
          "data": {
            "text/plain": [
              "39607"
            ]
          },
          "metadata": {},
          "execution_count": 276
        }
      ]
    },
    {
      "cell_type": "code",
      "source": [
        "def select_fold(data_list, n=5):\n",
        "  train = []\n",
        "  vaild = []\n",
        "  for i in range(6):\n",
        "    if i != n:\n",
        "      train.append(data_list[i])\n",
        "      train.append(data_list[i+6])\n",
        "    else:\n",
        "      vaild.append(data_list[i])\n",
        "      vaild.append(data_list[i+6])\n",
        "  train = pd.concat(train).copy()\n",
        "  vaild = pd.concat(vaild).copy()\n",
        "  return train, vaild\n",
        "\n",
        "train, vaild = select_fold(data_raw_list, 3)"
      ],
      "metadata": {
        "id": "uP0ykhmBAVaO"
      },
      "execution_count": null,
      "outputs": []
    },
    {
      "cell_type": "code",
      "source": [
        "outlier_weight = []\n",
        "outlier_weight.append({\n",
        "    'Y_01' : 2.1, 'Y_02' : 3.1, 'Y_03' : 2.1, 'Y_04' : 4.0, 'Y_05' : 4.0, \n",
        "    'Y_06' : 2.7, 'Y_07' : 3.9, 'Y_08' : 4.0, 'Y_09' : 4.0, 'Y_10' : 3.6,\n",
        "    'Y_11' : 4.0, 'Y_12' : 4.0, 'Y_13' : 4.0, 'Y_14' : 4.0\n",
        "})\n",
        "outlier_weight.append({\n",
        "    'Y_01' : 2.7, 'Y_02' : 2.5, 'Y_03' : 2.2, 'Y_04' : 4.0, 'Y_05' : 4.0, \n",
        "    'Y_06' : 4.0, 'Y_07' : 3.3, 'Y_08' : 4.0, 'Y_09' : 4.0, 'Y_10' : 4.0,\n",
        "    'Y_11' : 4.0, 'Y_12' : 4.0, 'Y_13' : 4.0, 'Y_14' : 4.0\n",
        "})"
      ],
      "metadata": {
        "id": "bYCgP9sI4yD0"
      },
      "execution_count": null,
      "outputs": []
    },
    {
      "cell_type": "code",
      "source": [
        "from statsmodels.tsa.holtwinters import ExponentialSmoothing\n",
        "\n",
        "def outlier_index(data, sigma=3):\n",
        "  data = data.abs().copy()\n",
        "  min_index = data.index[0]\n",
        "  SF = data.values.std() * sigma\n",
        "\n",
        "  model = ExponentialSmoothing(data, \n",
        "                               trend='additive', \n",
        "                               seasonal_periods=len(data)//6,\n",
        "                               initialization_method=None)\n",
        "  model = model.fit()\n",
        "\n",
        "  prediction = model.predict(\n",
        "      start=data.index[0], end=data.index[-1]\n",
        "  )\n",
        "\n",
        "  result = []\n",
        "  for idx, (actual, predicted) in enumerate(zip(data.values, prediction)):\n",
        "    if predicted - SF < actual < predicted + SF:\n",
        "      pass\n",
        "    else:\n",
        "      result.append(min_index + idx)\n",
        "\n",
        "  return result"
      ],
      "metadata": {
        "id": "fNZ9_RArpOmO"
      },
      "execution_count": null,
      "outputs": []
    },
    {
      "cell_type": "code",
      "source": [
        "from sklearn.pipeline import Pipeline\n",
        "from sklearn.preprocessing import MinMaxScaler, FunctionTransformer\n",
        "from sklearn.compose import ColumnTransformer\n",
        "\n",
        "def split_xy(data, is_train=False, cname=None, weight=None):\n",
        "  selected_columns = ['X_07', 'X_08', 'X_09', 'X_49', 'T_COS', 'T_SIN', \n",
        "                      'X_03', 'X_05', 'X_13', 'X_19', 'X_20', 'X_21', \n",
        "                      'X_22', 'X_29', 'X_36', 'X_43']\n",
        "  if is_train:\n",
        "    data = data.reset_index(drop=True).copy()\n",
        "    # for c, w in zip(cname, weight):\n",
        "    data = data.drop(\n",
        "        index=outlier_index(data=data[cname], sigma=weight)\n",
        "        ).copy()\n",
        "\n",
        "  X = data.filter(items=selected_columns).copy()\n",
        "  # y = data.filter(regex='Y').copy()\n",
        "  y = data.filter(items=['Y_02', 'Y_03']).copy()\n",
        "\n",
        "  lst_cols = [ c for c in ['X_07', 'X_08', 'X_09', 'X_49'] if c in selected_columns ]\n",
        "  std_cols = sorted(list(set(X.columns) - set(lst_cols)))\n",
        "\n",
        "  log_transformer = Pipeline(steps=[\n",
        "      (\"log1p\", FunctionTransformer(np.log1p))\n",
        "  ])\n",
        "\n",
        "  splitrans = ColumnTransformer(transformers=[\n",
        "      (\"lst\", log_transformer, lst_cols),\n",
        "      (\"none\", 'passthrough', std_cols)\n",
        "  ])\n",
        "\n",
        "  preprocessing = Pipeline(steps=[    \n",
        "      (\"split\", splitrans),\n",
        "      ('minmax', MinMaxScaler())\n",
        "  ])\n",
        "\n",
        "  X = preprocessing.fit_transform(X)\n",
        "  X = pd.DataFrame(data=X, columns=lst_cols+std_cols).copy()\n",
        "  X = X.reset_index(drop=True).copy()\n",
        "  return X, y\n",
        "\n",
        "X_train, y_train = split_xy(train)\n",
        "X_vaild, y_vaild = split_xy(vaild)"
      ],
      "metadata": {
        "id": "iUN-yfl4B8kc"
      },
      "execution_count": null,
      "outputs": []
    },
    {
      "cell_type": "code",
      "source": [
        "import torch\n",
        "from torch.utils.data import Dataset\n",
        "\n",
        "class AssemblyDataset(Dataset): \n",
        "    def __init__(self, x, y):\n",
        "        self.x_data = x\n",
        "        self.y_data = y\n",
        "\n",
        "    def __len__(self): \n",
        "        return len(self.x_data)\n",
        "\n",
        "    def __getitem__(self, idx): \n",
        "        x = torch.FloatTensor(self.x_data[idx,:])\n",
        "        y = torch.FloatTensor(self.y_data[idx,:])\n",
        "        return x, y"
      ],
      "metadata": {
        "id": "36WHZixa-SS3"
      },
      "execution_count": null,
      "outputs": []
    },
    {
      "cell_type": "markdown",
      "source": [
        "## 3.2.데이터로더(DataLoader)\n",
        "Resnet에 Input으로 넣기 위해서는 X의 shape를 바꾸어야 함."
      ],
      "metadata": {
        "id": "PQ-T416QnV7T"
      }
    },
    {
      "cell_type": "code",
      "source": [
        "def modify_shape(x_data):\n",
        "  n = np.pad(x_data.values, (0,32), 'constant', constant_values=0)[:len(x_data)]\n",
        "  n = n.reshape(len(n), -1, 4, 4)\n",
        "  return n.copy()"
      ],
      "metadata": {
        "id": "MXTTO78g4zRh"
      },
      "execution_count": null,
      "outputs": []
    },
    {
      "cell_type": "code",
      "source": [
        "from torch.utils.data import DataLoader\n",
        "train_dataset = AssemblyDataset(modify_shape(X_train), y_train.values)\n",
        "vaild_dataset = AssemblyDataset(modify_shape(X_vaild), y_vaild.values)"
      ],
      "metadata": {
        "id": "SMdfpW6yD3Tw"
      },
      "execution_count": null,
      "outputs": []
    },
    {
      "cell_type": "markdown",
      "source": [
        "# 4.모델\n",
        "* Resnet50 전이학습을 사용할 예정이므로 torchvision에서 Resnet50과 Weights를 가져와서 적용한다.\n",
        "* device는 GPU를 사용한다."
      ],
      "metadata": {
        "id": "OgKZNghLovn3"
      }
    },
    {
      "cell_type": "code",
      "source": [
        "from torchvision.models import resnet34\n",
        "import torch.nn as nn\n",
        "\n",
        "device = torch.device(\"cuda\" if torch.cuda.is_available() else \"cpu\")\n",
        "\n",
        "def build_network(output_size):\n",
        "    network = resnet34()\n",
        "    num_ftrs = network.fc.in_features\n",
        "    network.fc = nn.Linear(num_ftrs, output_size)\n",
        "    return network.to(device)"
      ],
      "metadata": {
        "id": "Pdy6kf0d2LDN"
      },
      "execution_count": null,
      "outputs": []
    },
    {
      "cell_type": "markdown",
      "source": [
        "# 5.옵티마이저와 스케쥴러\n",
        "* 옵티마이저는 Adam을 사용한다.\n",
        "* 기존 Resnet50의 Weight를 얼마나 재 사용할지 정한다."
      ],
      "metadata": {
        "id": "Om2u5R63pNsO"
      }
    },
    {
      "cell_type": "code",
      "source": [
        "import torch.optim as optim\n",
        "\n",
        "def build_optimizer(network, learning_rate):\n",
        "    optimizer = optim.AdamW(network.parameters(), lr=learning_rate)\n",
        "    return optimizer"
      ],
      "metadata": {
        "id": "qkVW3Qcv28_t"
      },
      "execution_count": null,
      "outputs": []
    },
    {
      "cell_type": "markdown",
      "source": [
        "* 스케쥴러는 StepLR을 step_size와 gamma를 변경해가며 테스트할 수 있도록 작성했다.\n"
      ],
      "metadata": {
        "id": "bnaxPZsRpoep"
      }
    },
    {
      "cell_type": "code",
      "source": [
        "from torch.optim import lr_scheduler\n",
        "\n",
        "def build_scheduler(optimizer, step_size, gamma):\n",
        "    exp_lr_scheduler = lr_scheduler.StepLR(optimizer, step_size=step_size, gamma=gamma)\n",
        "    return exp_lr_scheduler"
      ],
      "metadata": {
        "id": "Ki3HeJRn4XIY"
      },
      "execution_count": null,
      "outputs": []
    },
    {
      "cell_type": "markdown",
      "source": [
        "# 6.학습/검증 단계(Epoch)"
      ],
      "metadata": {
        "id": "YDzcapEop_gO"
      }
    },
    {
      "cell_type": "code",
      "source": [
        "class NRMSE(nn.Module):\n",
        "  def __init__(self):\n",
        "    super(NRMSE, self).__init__()\n",
        "    self.mse = nn.MSELoss().to(device)\n",
        "\n",
        "  def forward(self, gt, preds):\n",
        "    # all_nrmse = torch.zeros(14)\n",
        "    # for idx in range(14):\n",
        "    #   rmse = torch.sqrt(self.mse(preds[:,idx], gt[:,idx]))\n",
        "    #   nrmse = rmse / torch.mean(torch.abs(gt[:,idx]))\n",
        "    #   all_nrmse[idx] = nrmse\n",
        "    # score = 1.2 * torch.sum(all_nrmse[:8]) + 1.0 * torch.sum(all_nrmse[8:14])\n",
        "    all_nrmse = torch.zeros(2)\n",
        "    for idx in range(2):\n",
        "      rmse = torch.sqrt(self.mse(preds[:,idx], gt[:,idx]))\n",
        "      nrmse = rmse / torch.mean(torch.abs(gt[:,idx]))\n",
        "      all_nrmse[idx] = nrmse\n",
        "    score = 1.2 * torch.sum(all_nrmse)\n",
        "    return score"
      ],
      "metadata": {
        "id": "REKaGPDLhPbb"
      },
      "execution_count": null,
      "outputs": []
    },
    {
      "cell_type": "code",
      "source": [
        "critetion = NRMSE().to(device)"
      ],
      "metadata": {
        "id": "a_GUT0QTrOCk"
      },
      "execution_count": null,
      "outputs": []
    },
    {
      "cell_type": "markdown",
      "source": [
        "## 6.1.학습(Train) 단계"
      ],
      "metadata": {
        "id": "-9OFNdFCrTgE"
      }
    },
    {
      "cell_type": "code",
      "source": [
        "def train_epoch(network, loader, optimizer, scheduler):\n",
        "    network.train()\n",
        "    running_loss = 0.0\n",
        "\n",
        "    for idx, (data, target) in enumerate(loader):\n",
        "        data, target = data.to(device), target.to(device)\n",
        "        optimizer.zero_grad()\n",
        "\n",
        "        with torch.set_grad_enabled(True):\n",
        "          # ➡ Forward pass\n",
        "          outputs = network(data)\n",
        "          loss = critetion(target, outputs)\n",
        "\n",
        "          # ⬅ Backward pass + weight update\n",
        "          loss.backward()\n",
        "          optimizer.step()\n",
        "\n",
        "        running_loss += loss\n",
        "\n",
        "    scheduler.step()\n",
        "    \n",
        "    epoch_loss = running_loss / len(loader)\n",
        "\n",
        "    return epoch_loss"
      ],
      "metadata": {
        "id": "Pzw61uAd30QZ"
      },
      "execution_count": null,
      "outputs": []
    },
    {
      "cell_type": "markdown",
      "source": [
        "## 6.2.검증(Validation) 단계"
      ],
      "metadata": {
        "id": "QuSNlH6MrhjN"
      }
    },
    {
      "cell_type": "code",
      "source": [
        "def validation_epoch(network, loader, optimizer):\n",
        "    network.eval()\n",
        "    \n",
        "    running_loss = 0.0\n",
        "\n",
        "    for _, (data, target) in enumerate(loader):\n",
        "        data, target = data.to(device), target.to(device)\n",
        "        optimizer.zero_grad()\n",
        "\n",
        "        # ➡ Forward pass\n",
        "        outputs = network(data)\n",
        "        loss = critetion(target, outputs)\n",
        "\n",
        "        running_loss += loss\n",
        "\n",
        "    epoch_loss = running_loss  / len(loader)\n",
        "\n",
        "    return epoch_loss"
      ],
      "metadata": {
        "id": "UQbvtY4B8GEE"
      },
      "execution_count": null,
      "outputs": []
    },
    {
      "cell_type": "markdown",
      "source": [
        "# 7.수행"
      ],
      "metadata": {
        "id": "W1q43NMNrwhd"
      }
    },
    {
      "cell_type": "code",
      "source": [
        "import time\n",
        "\n",
        "def run_train(config=None):\n",
        "    # Initialize a new wandb run\n",
        "    with wandb.init(config=config):\n",
        "        # If called by wandb.agent, as below,\n",
        "        # this config will be set by Sweep Controller\n",
        "        config = wandb.config\n",
        "\n",
        "        epochs = 30\n",
        "        network = build_network(2)\n",
        "        # network = build_network(14)\n",
        "        optimizer = build_optimizer(network, config.learning_rate)\n",
        "        scheduler = build_scheduler(optimizer, config.step_size, 0.1)\n",
        "\n",
        "        train, vaild = select_fold(data_raw_list, config.fold)\n",
        "        X_train, y_train = split_xy(train)\n",
        "        X_vaild, y_vaild = split_xy(vaild)\n",
        "        train_dataset = AssemblyDataset(modify_shape(X_train), y_train.values)\n",
        "        vaild_dataset = AssemblyDataset(modify_shape(X_vaild), y_vaild.values)\n",
        "        tr_dataloader = DataLoader(train_dataset, batch_size=config.batch_size, shuffle=True)\n",
        "        va_dataloader = DataLoader(train_dataset, batch_size=len(vaild_dataset), shuffle=False)\n",
        "        for epoch in range(epochs):\n",
        "            since = time.time()\n",
        "            \n",
        "            train_score = train_epoch(network, tr_dataloader, optimizer, scheduler)\n",
        "            print(\"Epoch: %4d, Train score: %.4f\" % (epoch+1, train_score), end='')\n",
        "            vaild_score = validation_epoch(network, va_dataloader, optimizer)\n",
        "            print(\", Validation score: %.4f\" % (vaild_score), end='')\n",
        "            time_elapsed = time.time() - since\n",
        "            print(\", Time Elapsed(s): %.2f\" % (time_elapsed))\n",
        "            wandb.log({'Epoch': epoch+1, 'T-Score': train_score, 'V-Score': vaild_score})"
      ],
      "metadata": {
        "id": "M19U0pCLv9jD"
      },
      "execution_count": null,
      "outputs": []
    },
    {
      "cell_type": "code",
      "source": [
        "wandb.agent(sweep_id, run_train)"
      ],
      "metadata": {
        "colab": {
          "base_uri": "https://localhost:8080/",
          "height": 1000,
          "referenced_widgets": [
            "1165e9d618474e78bf5e2d4a042c5364",
            "7bc1491c64f8423b91b526a1cd62950c",
            "b707b7474ebb4477be31d0dcb5f4cd39",
            "a861e5865e434833aff1fd21942fafe4",
            "61093eb3dd4447438ed93b26b7c6bc8f",
            "13194f91b97e4561b3a2e0e64dc0be3f",
            "b738ac26ee4e407a9bbd6cac4f435194",
            "6376a62b044848b0857bc1ea8cfe9920",
            "7940e7d8ebe74d6481455d18f50dc807",
            "5b3242dc66d24207a30a04262de7a78a",
            "9d0d1aafb85f4b37a3ba0e2f6191b8d8",
            "3c48df7fecfb421f960cc76a470742d2",
            "82476534f1e74675b4ce1b91f60cd481",
            "c0e50cfa85aa483faca62a71eca38831",
            "f7d847995de64fe7b50a196e6c308a94",
            "6c144bd6bd3b43d99656704935185cb6",
            "7939ab9c1a164be0adf5b806ad42f2b5",
            "409984b9439f4ca697517b182dde66ed",
            "050bf886346a475f8064cc0ed5850f0a",
            "e98fa51bcaf5496285e258696085153c",
            "4771ecd2269540d3ae13fc1addfb6998",
            "e73b0ba7bfb44510b255343111d27456",
            "8ab2eefe22534618bf7fc873d7cd5716",
            "e123a7fd5327445fa92d11e3b568189f",
            "6f08c673c9fe4ae8bf81a96f92c19537",
            "090ae025af5245b99b6bea2623f3f6aa",
            "8aca7e375edb41c9b4f567836f7c2547",
            "f0369de6798544f98c7996ec2b020b50",
            "aed8c188841d4ad9becbf17ec495bf84",
            "3655c630f07d4cd887332d0ddbe9b956",
            "d2e7d5e84a0e44818b9648150cf2c3bf",
            "0ad91eb4e80b4b9bb53a334299a27864",
            "3f6154a9286343dbb88b7167e7194d5f",
            "f4aae712b70a46adb7b5ba648190d0f3",
            "d45c277ab85a429dbfd8c2e3a0721e0e",
            "5ef6a3f1ef6447c1886ba7bf63b3daab",
            "457148213c2840549dc3497bc965f1cb",
            "641a83420d21418dbcc90c77b9e5cc0e",
            "3705aa536f314f2a857466e8467c21cf",
            "91db1a559c1a43368382f51e7cd1b227",
            "0567d0413af04e1480b91b9ab48a019b",
            "39b7cb8bc4b54fa1b1248675b2891590",
            "f3d1e825e68248d2a27aa4a4c2555b3f",
            "9b93f8d1d6524d059b699b6bb8878100",
            "eb6dfb0553ef47bcb368395869418159",
            "4ab867eee6ff4f5296c73273ae3deb19",
            "8600f686cdcb477d8a1d063eda03a4d5",
            "cc864965069441038e7889209e6ffcab"
          ]
        },
        "id": "MnzlcjAB3Ago",
        "outputId": "cf1e766e-4ade-4765-bdca-3970b472605a"
      },
      "execution_count": null,
      "outputs": [
        {
          "output_type": "stream",
          "name": "stderr",
          "text": [
            "\u001b[34m\u001b[1mwandb\u001b[0m: Agent Starting Run: 7w8witwf with config:\n",
            "\u001b[34m\u001b[1mwandb\u001b[0m: \tbatch_size: 512\n",
            "\u001b[34m\u001b[1mwandb\u001b[0m: \tfold: 0\n",
            "\u001b[34m\u001b[1mwandb\u001b[0m: \tlearning_rate: 0.001\n",
            "\u001b[34m\u001b[1mwandb\u001b[0m: \tstep_size: 7\n"
          ]
        },
        {
          "output_type": "display_data",
          "data": {
            "text/plain": [
              "<IPython.core.display.HTML object>"
            ],
            "text/html": [
              "Tracking run with wandb version 0.13.2"
            ]
          },
          "metadata": {}
        },
        {
          "output_type": "display_data",
          "data": {
            "text/plain": [
              "<IPython.core.display.HTML object>"
            ],
            "text/html": [
              "Run data is saved locally in <code>/content/wandb/run-20220826_062326-7w8witwf</code>"
            ]
          },
          "metadata": {}
        },
        {
          "output_type": "display_data",
          "data": {
            "text/plain": [
              "<IPython.core.display.HTML object>"
            ],
            "text/html": [
              "Syncing run <strong><a href=\"https://wandb.ai/zbooster/Antenna-Resnet34-1/runs/7w8witwf\" target=\"_blank\">laced-sweep-1</a></strong> to <a href=\"https://wandb.ai/zbooster/Antenna-Resnet34-1\" target=\"_blank\">Weights & Biases</a> (<a href=\"https://wandb.me/run\" target=\"_blank\">docs</a>)<br/>Sweep page:  <a href=\"https://wandb.ai/zbooster/Antenna-Resnet34-1/sweeps/dtjela50\" target=\"_blank\">https://wandb.ai/zbooster/Antenna-Resnet34-1/sweeps/dtjela50</a>"
            ]
          },
          "metadata": {}
        },
        {
          "output_type": "stream",
          "name": "stdout",
          "text": [
            "Epoch:    1, Train score: 1.1950, Validation score: 0.9992, Time Elapsed(s): 8.35\n",
            "Epoch:    2, Train score: 0.9020, Validation score: 0.8955, Time Elapsed(s): 8.28\n",
            "Epoch:    3, Train score: 0.8786, Validation score: 0.8927, Time Elapsed(s): 8.37\n",
            "Epoch:    4, Train score: 0.8646, Validation score: 0.8668, Time Elapsed(s): 8.36\n",
            "Epoch:    5, Train score: 0.8590, Validation score: 0.8611, Time Elapsed(s): 8.26\n",
            "Epoch:    6, Train score: 0.8680, Validation score: 0.8725, Time Elapsed(s): 8.42\n",
            "Epoch:    7, Train score: 0.8537, Validation score: 0.8615, Time Elapsed(s): 8.23\n",
            "Epoch:    8, Train score: 0.8345, Validation score: 0.8454, Time Elapsed(s): 8.42\n",
            "Epoch:    9, Train score: 0.8267, Validation score: 0.8388, Time Elapsed(s): 8.36\n",
            "Epoch:   10, Train score: 0.8233, Validation score: 0.8331, Time Elapsed(s): 8.24\n",
            "Epoch:   11, Train score: 0.8196, Validation score: 0.8289, Time Elapsed(s): 8.39\n",
            "Epoch:   12, Train score: 0.8152, Validation score: 0.8245, Time Elapsed(s): 8.26\n",
            "Epoch:   13, Train score: 0.8122, Validation score: 0.8139, Time Elapsed(s): 8.37\n",
            "Epoch:   14, Train score: 0.8050, Validation score: 0.8080, Time Elapsed(s): 8.27\n",
            "Epoch:   15, Train score: 0.7933, Validation score: 0.8020, Time Elapsed(s): 8.36\n",
            "Epoch:   16, Train score: 0.7895, Validation score: 0.7984, Time Elapsed(s): 8.36\n",
            "Epoch:   17, Train score: 0.7880, Validation score: 0.7960, Time Elapsed(s): 8.25\n",
            "Epoch:   18, Train score: 0.7863, Validation score: 0.7943, Time Elapsed(s): 8.33\n",
            "Epoch:   19, Train score: 0.7851, Validation score: 0.7916, Time Elapsed(s): 8.24\n",
            "Epoch:   20, Train score: 0.7819, Validation score: 0.7890, Time Elapsed(s): 8.35\n",
            "Epoch:   21, Train score: 0.7812, Validation score: 0.7870, Time Elapsed(s): 8.35\n",
            "Epoch:   22, Train score: 0.7780, Validation score: 0.7869, Time Elapsed(s): 8.34\n",
            "Epoch:   23, Train score: 0.7772, Validation score: 0.7864, Time Elapsed(s): 8.36\n",
            "Epoch:   24, Train score: 0.7773, Validation score: 0.7856, Time Elapsed(s): 8.28\n",
            "Epoch:   25, Train score: 0.7779, Validation score: 0.7856, Time Elapsed(s): 8.34\n",
            "Epoch:   26, Train score: 0.7770, Validation score: 0.7850, Time Elapsed(s): 8.24\n",
            "Epoch:   27, Train score: 0.7767, Validation score: 0.7847, Time Elapsed(s): 8.32\n",
            "Epoch:   28, Train score: 0.7763, Validation score: 0.7846, Time Elapsed(s): 8.32\n",
            "Epoch:   29, Train score: 0.7773, Validation score: 0.7846, Time Elapsed(s): 8.23\n",
            "Epoch:   30, Train score: 0.7763, Validation score: 0.7842, Time Elapsed(s): 8.32\n"
          ]
        },
        {
          "output_type": "display_data",
          "data": {
            "text/plain": [
              "<IPython.core.display.HTML object>"
            ],
            "text/html": [
              "Waiting for W&B process to finish... <strong style=\"color:green\">(success).</strong>"
            ]
          },
          "metadata": {}
        },
        {
          "output_type": "display_data",
          "data": {
            "text/plain": [
              "VBox(children=(Label(value='0.001 MB of 0.001 MB uploaded (0.000 MB deduped)\\r'), FloatProgress(value=1.0, max…"
            ],
            "application/vnd.jupyter.widget-view+json": {
              "version_major": 2,
              "version_minor": 0,
              "model_id": "1165e9d618474e78bf5e2d4a042c5364"
            }
          },
          "metadata": {}
        },
        {
          "output_type": "display_data",
          "data": {
            "text/plain": [
              "<IPython.core.display.HTML object>"
            ],
            "text/html": [
              "<style>\n",
              "    table.wandb td:nth-child(1) { padding: 0 10px; text-align: left ; width: auto;} td:nth-child(2) {text-align: left ; width: 100%}\n",
              "    .wandb-row { display: flex; flex-direction: row; flex-wrap: wrap; justify-content: flex-start; width: 100% }\n",
              "    .wandb-col { display: flex; flex-direction: column; flex-basis: 100%; flex: 1; padding: 10px; }\n",
              "    </style>\n",
              "<div class=\"wandb-row\"><div class=\"wandb-col\"><h3>Run history:</h3><br/><table class=\"wandb\"><tr><td>Epoch</td><td>▁▁▁▂▂▂▂▃▃▃▃▄▄▄▄▅▅▅▅▆▆▆▆▇▇▇▇███</td></tr><tr><td>T-Score</td><td>█▃▃▂▂▃▂▂▂▂▂▂▂▁▁▁▁▁▁▁▁▁▁▁▁▁▁▁▁▁</td></tr><tr><td>V-Score</td><td>█▅▅▄▄▄▄▃▃▃▂▂▂▂▂▁▁▁▁▁▁▁▁▁▁▁▁▁▁▁</td></tr></table><br/></div><div class=\"wandb-col\"><h3>Run summary:</h3><br/><table class=\"wandb\"><tr><td>Epoch</td><td>30</td></tr><tr><td>T-Score</td><td>0.77632</td></tr><tr><td>V-Score</td><td>0.78423</td></tr></table><br/></div></div>"
            ]
          },
          "metadata": {}
        },
        {
          "output_type": "display_data",
          "data": {
            "text/plain": [
              "<IPython.core.display.HTML object>"
            ],
            "text/html": [
              "Synced <strong style=\"color:#cdcd00\">laced-sweep-1</strong>: <a href=\"https://wandb.ai/zbooster/Antenna-Resnet34-1/runs/7w8witwf\" target=\"_blank\">https://wandb.ai/zbooster/Antenna-Resnet34-1/runs/7w8witwf</a><br/>Synced 5 W&B file(s), 0 media file(s), 0 artifact file(s) and 0 other file(s)"
            ]
          },
          "metadata": {}
        },
        {
          "output_type": "display_data",
          "data": {
            "text/plain": [
              "<IPython.core.display.HTML object>"
            ],
            "text/html": [
              "Find logs at: <code>./wandb/run-20220826_062326-7w8witwf/logs</code>"
            ]
          },
          "metadata": {}
        },
        {
          "output_type": "stream",
          "name": "stderr",
          "text": [
            "\u001b[34m\u001b[1mwandb\u001b[0m: Agent Starting Run: btct7mno with config:\n",
            "\u001b[34m\u001b[1mwandb\u001b[0m: \tbatch_size: 512\n",
            "\u001b[34m\u001b[1mwandb\u001b[0m: \tfold: 1\n",
            "\u001b[34m\u001b[1mwandb\u001b[0m: \tlearning_rate: 0.001\n",
            "\u001b[34m\u001b[1mwandb\u001b[0m: \tstep_size: 7\n"
          ]
        },
        {
          "output_type": "display_data",
          "data": {
            "text/plain": [
              "<IPython.core.display.HTML object>"
            ],
            "text/html": [
              "Tracking run with wandb version 0.13.2"
            ]
          },
          "metadata": {}
        },
        {
          "output_type": "display_data",
          "data": {
            "text/plain": [
              "<IPython.core.display.HTML object>"
            ],
            "text/html": [
              "Run data is saved locally in <code>/content/wandb/run-20220826_062748-btct7mno</code>"
            ]
          },
          "metadata": {}
        },
        {
          "output_type": "display_data",
          "data": {
            "text/plain": [
              "<IPython.core.display.HTML object>"
            ],
            "text/html": [
              "Syncing run <strong><a href=\"https://wandb.ai/zbooster/Antenna-Resnet34-1/runs/btct7mno\" target=\"_blank\">hopeful-sweep-2</a></strong> to <a href=\"https://wandb.ai/zbooster/Antenna-Resnet34-1\" target=\"_blank\">Weights & Biases</a> (<a href=\"https://wandb.me/run\" target=\"_blank\">docs</a>)<br/>Sweep page:  <a href=\"https://wandb.ai/zbooster/Antenna-Resnet34-1/sweeps/dtjela50\" target=\"_blank\">https://wandb.ai/zbooster/Antenna-Resnet34-1/sweeps/dtjela50</a>"
            ]
          },
          "metadata": {}
        },
        {
          "output_type": "stream",
          "name": "stdout",
          "text": [
            "Epoch:    1, Train score: 1.2125, Validation score: 1.1324, Time Elapsed(s): 8.22\n",
            "Epoch:    2, Train score: 0.9176, Validation score: 0.9190, Time Elapsed(s): 8.31\n",
            "Epoch:    3, Train score: 0.8952, Validation score: 0.8836, Time Elapsed(s): 8.30\n",
            "Epoch:    4, Train score: 0.8847, Validation score: 0.8968, Time Elapsed(s): 8.19\n",
            "Epoch:    5, Train score: 0.8681, Validation score: 0.8677, Time Elapsed(s): 8.31\n",
            "Epoch:    6, Train score: 0.8647, Validation score: 0.8636, Time Elapsed(s): 8.20\n",
            "Epoch:    7, Train score: 0.8611, Validation score: 0.8577, Time Elapsed(s): 8.33\n",
            "Epoch:    8, Train score: 0.8406, Validation score: 0.8450, Time Elapsed(s): 8.24\n",
            "Epoch:    9, Train score: 0.8367, Validation score: 0.8410, Time Elapsed(s): 8.34\n",
            "Epoch:   10, Train score: 0.8337, Validation score: 0.8367, Time Elapsed(s): 8.25\n",
            "Epoch:   11, Train score: 0.8304, Validation score: 0.8332, Time Elapsed(s): 8.35\n",
            "Epoch:   12, Train score: 0.8270, Validation score: 0.8295, Time Elapsed(s): 8.34\n",
            "Epoch:   13, Train score: 0.8241, Validation score: 0.8258, Time Elapsed(s): 8.19\n",
            "Epoch:   14, Train score: 0.8213, Validation score: 0.8206, Time Elapsed(s): 8.32\n",
            "Epoch:   15, Train score: 0.8122, Validation score: 0.8150, Time Elapsed(s): 8.20\n",
            "Epoch:   16, Train score: 0.8108, Validation score: 0.8128, Time Elapsed(s): 8.40\n",
            "Epoch:   17, Train score: 0.8098, Validation score: 0.8122, Time Elapsed(s): 8.21\n",
            "Epoch:   18, Train score: 0.8071, Validation score: 0.8101, Time Elapsed(s): 8.31\n",
            "Epoch:   19, Train score: 0.8062, Validation score: 0.8087, Time Elapsed(s): 8.21\n",
            "Epoch:   20, Train score: 0.8049, Validation score: 0.8079, Time Elapsed(s): 8.31\n",
            "Epoch:   21, Train score: 0.8044, Validation score: 0.8059, Time Elapsed(s): 8.30\n",
            "Epoch:   22, Train score: 0.8024, Validation score: 0.8056, Time Elapsed(s): 8.19\n",
            "Epoch:   23, Train score: 0.8010, Validation score: 0.8053, Time Elapsed(s): 8.27\n",
            "Epoch:   24, Train score: 0.8017, Validation score: 0.8050, Time Elapsed(s): 8.22\n",
            "Epoch:   25, Train score: 0.8027, Validation score: 0.8049, Time Elapsed(s): 8.30\n",
            "Epoch:   26, Train score: 0.8012, Validation score: 0.8050, Time Elapsed(s): 8.30\n",
            "Epoch:   27, Train score: 0.8011, Validation score: 0.8045, Time Elapsed(s): 8.20\n",
            "Epoch:   28, Train score: 0.8016, Validation score: 0.8040, Time Elapsed(s): 8.31\n",
            "Epoch:   29, Train score: 0.8027, Validation score: 0.8037, Time Elapsed(s): 8.22\n",
            "Epoch:   30, Train score: 0.7994, Validation score: 0.8039, Time Elapsed(s): 8.30\n"
          ]
        },
        {
          "output_type": "display_data",
          "data": {
            "text/plain": [
              "<IPython.core.display.HTML object>"
            ],
            "text/html": [
              "Waiting for W&B process to finish... <strong style=\"color:green\">(success).</strong>"
            ]
          },
          "metadata": {}
        },
        {
          "output_type": "display_data",
          "data": {
            "text/plain": [
              "VBox(children=(Label(value='0.001 MB of 0.001 MB uploaded (0.000 MB deduped)\\r'), FloatProgress(value=1.0, max…"
            ],
            "application/vnd.jupyter.widget-view+json": {
              "version_major": 2,
              "version_minor": 0,
              "model_id": "7940e7d8ebe74d6481455d18f50dc807"
            }
          },
          "metadata": {}
        },
        {
          "output_type": "display_data",
          "data": {
            "text/plain": [
              "<IPython.core.display.HTML object>"
            ],
            "text/html": [
              "<style>\n",
              "    table.wandb td:nth-child(1) { padding: 0 10px; text-align: left ; width: auto;} td:nth-child(2) {text-align: left ; width: 100%}\n",
              "    .wandb-row { display: flex; flex-direction: row; flex-wrap: wrap; justify-content: flex-start; width: 100% }\n",
              "    .wandb-col { display: flex; flex-direction: column; flex-basis: 100%; flex: 1; padding: 10px; }\n",
              "    </style>\n",
              "<div class=\"wandb-row\"><div class=\"wandb-col\"><h3>Run history:</h3><br/><table class=\"wandb\"><tr><td>Epoch</td><td>▁▁▁▂▂▂▂▃▃▃▃▄▄▄▄▅▅▅▅▆▆▆▆▇▇▇▇███</td></tr><tr><td>T-Score</td><td>█▃▃▂▂▂▂▂▂▂▂▁▁▁▁▁▁▁▁▁▁▁▁▁▁▁▁▁▁▁</td></tr><tr><td>V-Score</td><td>█▃▃▃▂▂▂▂▂▂▂▂▁▁▁▁▁▁▁▁▁▁▁▁▁▁▁▁▁▁</td></tr></table><br/></div><div class=\"wandb-col\"><h3>Run summary:</h3><br/><table class=\"wandb\"><tr><td>Epoch</td><td>30</td></tr><tr><td>T-Score</td><td>0.79944</td></tr><tr><td>V-Score</td><td>0.80391</td></tr></table><br/></div></div>"
            ]
          },
          "metadata": {}
        },
        {
          "output_type": "display_data",
          "data": {
            "text/plain": [
              "<IPython.core.display.HTML object>"
            ],
            "text/html": [
              "Synced <strong style=\"color:#cdcd00\">hopeful-sweep-2</strong>: <a href=\"https://wandb.ai/zbooster/Antenna-Resnet34-1/runs/btct7mno\" target=\"_blank\">https://wandb.ai/zbooster/Antenna-Resnet34-1/runs/btct7mno</a><br/>Synced 5 W&B file(s), 0 media file(s), 0 artifact file(s) and 0 other file(s)"
            ]
          },
          "metadata": {}
        },
        {
          "output_type": "display_data",
          "data": {
            "text/plain": [
              "<IPython.core.display.HTML object>"
            ],
            "text/html": [
              "Find logs at: <code>./wandb/run-20220826_062748-btct7mno/logs</code>"
            ]
          },
          "metadata": {}
        },
        {
          "output_type": "stream",
          "name": "stderr",
          "text": [
            "\u001b[34m\u001b[1mwandb\u001b[0m: Agent Starting Run: l57f8dgo with config:\n",
            "\u001b[34m\u001b[1mwandb\u001b[0m: \tbatch_size: 512\n",
            "\u001b[34m\u001b[1mwandb\u001b[0m: \tfold: 2\n",
            "\u001b[34m\u001b[1mwandb\u001b[0m: \tlearning_rate: 0.001\n",
            "\u001b[34m\u001b[1mwandb\u001b[0m: \tstep_size: 7\n"
          ]
        },
        {
          "output_type": "display_data",
          "data": {
            "text/plain": [
              "<IPython.core.display.HTML object>"
            ],
            "text/html": [
              "Tracking run with wandb version 0.13.2"
            ]
          },
          "metadata": {}
        },
        {
          "output_type": "display_data",
          "data": {
            "text/plain": [
              "<IPython.core.display.HTML object>"
            ],
            "text/html": [
              "Run data is saved locally in <code>/content/wandb/run-20220826_063208-l57f8dgo</code>"
            ]
          },
          "metadata": {}
        },
        {
          "output_type": "display_data",
          "data": {
            "text/plain": [
              "<IPython.core.display.HTML object>"
            ],
            "text/html": [
              "Syncing run <strong><a href=\"https://wandb.ai/zbooster/Antenna-Resnet34-1/runs/l57f8dgo\" target=\"_blank\">usual-sweep-3</a></strong> to <a href=\"https://wandb.ai/zbooster/Antenna-Resnet34-1\" target=\"_blank\">Weights & Biases</a> (<a href=\"https://wandb.me/run\" target=\"_blank\">docs</a>)<br/>Sweep page:  <a href=\"https://wandb.ai/zbooster/Antenna-Resnet34-1/sweeps/dtjela50\" target=\"_blank\">https://wandb.ai/zbooster/Antenna-Resnet34-1/sweeps/dtjela50</a>"
            ]
          },
          "metadata": {}
        },
        {
          "output_type": "stream",
          "name": "stdout",
          "text": [
            "Epoch:    1, Train score: 1.1869, Validation score: 0.9654, Time Elapsed(s): 8.30\n",
            "Epoch:    2, Train score: 0.8967, Validation score: 0.9205, Time Elapsed(s): 8.14\n",
            "Epoch:    3, Train score: 0.8863, Validation score: 0.8635, Time Elapsed(s): 8.26\n",
            "Epoch:    4, Train score: 0.8683, Validation score: 0.8674, Time Elapsed(s): 8.15\n",
            "Epoch:    5, Train score: 0.8739, Validation score: 0.8487, Time Elapsed(s): 8.23\n",
            "Epoch:    6, Train score: 0.8572, Validation score: 0.8474, Time Elapsed(s): 8.15\n",
            "Epoch:    7, Train score: 0.8575, Validation score: 0.8445, Time Elapsed(s): 8.28\n",
            "Epoch:    8, Train score: 0.8448, Validation score: 0.8343, Time Elapsed(s): 8.27\n",
            "Epoch:    9, Train score: 0.8353, Validation score: 0.8299, Time Elapsed(s): 8.15\n",
            "Epoch:   10, Train score: 0.8326, Validation score: 0.8278, Time Elapsed(s): 8.26\n",
            "Epoch:   11, Train score: 0.8293, Validation score: 0.8245, Time Elapsed(s): 8.24\n",
            "Epoch:   12, Train score: 0.8293, Validation score: 0.8207, Time Elapsed(s): 8.26\n",
            "Epoch:   13, Train score: 0.8248, Validation score: 0.8182, Time Elapsed(s): 8.14\n",
            "Epoch:   14, Train score: 0.8228, Validation score: 0.8125, Time Elapsed(s): 8.25\n",
            "Epoch:   15, Train score: 0.8155, Validation score: 0.8094, Time Elapsed(s): 8.26\n",
            "Epoch:   16, Train score: 0.8138, Validation score: 0.8081, Time Elapsed(s): 8.27\n",
            "Epoch:   17, Train score: 0.8120, Validation score: 0.8069, Time Elapsed(s): 8.19\n",
            "Epoch:   18, Train score: 0.8122, Validation score: 0.8062, Time Elapsed(s): 8.30\n",
            "Epoch:   19, Train score: 0.8114, Validation score: 0.8046, Time Elapsed(s): 8.18\n",
            "Epoch:   20, Train score: 0.8103, Validation score: 0.8034, Time Elapsed(s): 8.28\n",
            "Epoch:   21, Train score: 0.8089, Validation score: 0.8020, Time Elapsed(s): 8.19\n",
            "Epoch:   22, Train score: 0.8078, Validation score: 0.8024, Time Elapsed(s): 8.26\n",
            "Epoch:   23, Train score: 0.8055, Validation score: 0.8018, Time Elapsed(s): 8.16\n",
            "Epoch:   24, Train score: 0.8074, Validation score: 0.8019, Time Elapsed(s): 8.25\n",
            "Epoch:   25, Train score: 0.8066, Validation score: 0.8016, Time Elapsed(s): 8.27\n",
            "Epoch:   26, Train score: 0.8077, Validation score: 0.8015, Time Elapsed(s): 8.18\n",
            "Epoch:   27, Train score: 0.8071, Validation score: 0.8017, Time Elapsed(s): 8.27\n",
            "Epoch:   28, Train score: 0.8061, Validation score: 0.8015, Time Elapsed(s): 8.16\n",
            "Epoch:   29, Train score: 0.8075, Validation score: 0.8016, Time Elapsed(s): 8.26\n",
            "Epoch:   30, Train score: 0.8074, Validation score: 0.8011, Time Elapsed(s): 8.26\n"
          ]
        },
        {
          "output_type": "display_data",
          "data": {
            "text/plain": [
              "<IPython.core.display.HTML object>"
            ],
            "text/html": [
              "Waiting for W&B process to finish... <strong style=\"color:green\">(success).</strong>"
            ]
          },
          "metadata": {}
        },
        {
          "output_type": "display_data",
          "data": {
            "text/plain": [
              "VBox(children=(Label(value='0.001 MB of 0.001 MB uploaded (0.000 MB deduped)\\r'), FloatProgress(value=1.0, max…"
            ],
            "application/vnd.jupyter.widget-view+json": {
              "version_major": 2,
              "version_minor": 0,
              "model_id": "7939ab9c1a164be0adf5b806ad42f2b5"
            }
          },
          "metadata": {}
        },
        {
          "output_type": "display_data",
          "data": {
            "text/plain": [
              "<IPython.core.display.HTML object>"
            ],
            "text/html": [
              "<style>\n",
              "    table.wandb td:nth-child(1) { padding: 0 10px; text-align: left ; width: auto;} td:nth-child(2) {text-align: left ; width: 100%}\n",
              "    .wandb-row { display: flex; flex-direction: row; flex-wrap: wrap; justify-content: flex-start; width: 100% }\n",
              "    .wandb-col { display: flex; flex-direction: column; flex-basis: 100%; flex: 1; padding: 10px; }\n",
              "    </style>\n",
              "<div class=\"wandb-row\"><div class=\"wandb-col\"><h3>Run history:</h3><br/><table class=\"wandb\"><tr><td>Epoch</td><td>▁▁▁▂▂▂▂▃▃▃▃▄▄▄▄▅▅▅▅▆▆▆▆▇▇▇▇███</td></tr><tr><td>T-Score</td><td>█▃▂▂▂▂▂▂▂▁▁▁▁▁▁▁▁▁▁▁▁▁▁▁▁▁▁▁▁▁</td></tr><tr><td>V-Score</td><td>█▆▄▄▃▃▃▂▂▂▂▂▂▁▁▁▁▁▁▁▁▁▁▁▁▁▁▁▁▁</td></tr></table><br/></div><div class=\"wandb-col\"><h3>Run summary:</h3><br/><table class=\"wandb\"><tr><td>Epoch</td><td>30</td></tr><tr><td>T-Score</td><td>0.80744</td></tr><tr><td>V-Score</td><td>0.80109</td></tr></table><br/></div></div>"
            ]
          },
          "metadata": {}
        },
        {
          "output_type": "display_data",
          "data": {
            "text/plain": [
              "<IPython.core.display.HTML object>"
            ],
            "text/html": [
              "Synced <strong style=\"color:#cdcd00\">usual-sweep-3</strong>: <a href=\"https://wandb.ai/zbooster/Antenna-Resnet34-1/runs/l57f8dgo\" target=\"_blank\">https://wandb.ai/zbooster/Antenna-Resnet34-1/runs/l57f8dgo</a><br/>Synced 5 W&B file(s), 0 media file(s), 0 artifact file(s) and 0 other file(s)"
            ]
          },
          "metadata": {}
        },
        {
          "output_type": "display_data",
          "data": {
            "text/plain": [
              "<IPython.core.display.HTML object>"
            ],
            "text/html": [
              "Find logs at: <code>./wandb/run-20220826_063208-l57f8dgo/logs</code>"
            ]
          },
          "metadata": {}
        },
        {
          "output_type": "stream",
          "name": "stderr",
          "text": [
            "\u001b[34m\u001b[1mwandb\u001b[0m: Sweep Agent: Waiting for job.\n",
            "\u001b[34m\u001b[1mwandb\u001b[0m: Job received.\n",
            "\u001b[34m\u001b[1mwandb\u001b[0m: Agent Starting Run: e4e66zt8 with config:\n",
            "\u001b[34m\u001b[1mwandb\u001b[0m: \tbatch_size: 512\n",
            "\u001b[34m\u001b[1mwandb\u001b[0m: \tfold: 3\n",
            "\u001b[34m\u001b[1mwandb\u001b[0m: \tlearning_rate: 0.001\n",
            "\u001b[34m\u001b[1mwandb\u001b[0m: \tstep_size: 7\n"
          ]
        },
        {
          "output_type": "display_data",
          "data": {
            "text/plain": [
              "<IPython.core.display.HTML object>"
            ],
            "text/html": [
              "Tracking run with wandb version 0.13.2"
            ]
          },
          "metadata": {}
        },
        {
          "output_type": "display_data",
          "data": {
            "text/plain": [
              "<IPython.core.display.HTML object>"
            ],
            "text/html": [
              "Run data is saved locally in <code>/content/wandb/run-20220826_063635-e4e66zt8</code>"
            ]
          },
          "metadata": {}
        },
        {
          "output_type": "display_data",
          "data": {
            "text/plain": [
              "<IPython.core.display.HTML object>"
            ],
            "text/html": [
              "Syncing run <strong><a href=\"https://wandb.ai/zbooster/Antenna-Resnet34-1/runs/e4e66zt8\" target=\"_blank\">dainty-sweep-4</a></strong> to <a href=\"https://wandb.ai/zbooster/Antenna-Resnet34-1\" target=\"_blank\">Weights & Biases</a> (<a href=\"https://wandb.me/run\" target=\"_blank\">docs</a>)<br/>Sweep page:  <a href=\"https://wandb.ai/zbooster/Antenna-Resnet34-1/sweeps/dtjela50\" target=\"_blank\">https://wandb.ai/zbooster/Antenna-Resnet34-1/sweeps/dtjela50</a>"
            ]
          },
          "metadata": {}
        },
        {
          "output_type": "stream",
          "name": "stdout",
          "text": [
            "Epoch:    1, Train score: 1.1790, Validation score: 0.9158, Time Elapsed(s): 8.27\n",
            "Epoch:    2, Train score: 0.8847, Validation score: 0.8819, Time Elapsed(s): 8.35\n",
            "Epoch:    3, Train score: 0.8724, Validation score: 0.8773, Time Elapsed(s): 8.27\n",
            "Epoch:    4, Train score: 0.8618, Validation score: 0.8757, Time Elapsed(s): 8.40\n",
            "Epoch:    5, Train score: 0.8593, Validation score: 0.9018, Time Elapsed(s): 8.47\n",
            "Epoch:    6, Train score: 0.8570, Validation score: 0.8608, Time Elapsed(s): 8.27\n",
            "Epoch:    7, Train score: 0.8555, Validation score: 0.8634, Time Elapsed(s): 8.35\n",
            "Epoch:    8, Train score: 0.8352, Validation score: 0.8484, Time Elapsed(s): 8.27\n",
            "Epoch:    9, Train score: 0.8299, Validation score: 0.8418, Time Elapsed(s): 8.40\n",
            "Epoch:   10, Train score: 0.8259, Validation score: 0.8376, Time Elapsed(s): 8.39\n",
            "Epoch:   11, Train score: 0.8218, Validation score: 0.8325, Time Elapsed(s): 8.31\n",
            "Epoch:   12, Train score: 0.8179, Validation score: 0.8240, Time Elapsed(s): 8.38\n",
            "Epoch:   13, Train score: 0.8140, Validation score: 0.8168, Time Elapsed(s): 8.28\n",
            "Epoch:   14, Train score: 0.8087, Validation score: 0.8102, Time Elapsed(s): 8.39\n",
            "Epoch:   15, Train score: 0.7947, Validation score: 0.8021, Time Elapsed(s): 8.27\n",
            "Epoch:   16, Train score: 0.7908, Validation score: 0.7982, Time Elapsed(s): 8.38\n",
            "Epoch:   17, Train score: 0.7908, Validation score: 0.7958, Time Elapsed(s): 8.37\n",
            "Epoch:   18, Train score: 0.7872, Validation score: 0.7928, Time Elapsed(s): 8.29\n",
            "Epoch:   19, Train score: 0.7864, Validation score: 0.7908, Time Elapsed(s): 8.38\n",
            "Epoch:   20, Train score: 0.7843, Validation score: 0.7873, Time Elapsed(s): 8.25\n",
            "Epoch:   21, Train score: 0.7820, Validation score: 0.7848, Time Elapsed(s): 8.35\n",
            "Epoch:   22, Train score: 0.7793, Validation score: 0.7833, Time Elapsed(s): 8.24\n",
            "Epoch:   23, Train score: 0.7763, Validation score: 0.7827, Time Elapsed(s): 8.38\n",
            "Epoch:   24, Train score: 0.7783, Validation score: 0.7827, Time Elapsed(s): 8.39\n",
            "Epoch:   25, Train score: 0.7768, Validation score: 0.7830, Time Elapsed(s): 8.24\n",
            "Epoch:   26, Train score: 0.7763, Validation score: 0.7819, Time Elapsed(s): 8.38\n",
            "Epoch:   27, Train score: 0.7773, Validation score: 0.7817, Time Elapsed(s): 8.26\n",
            "Epoch:   28, Train score: 0.7759, Validation score: 0.7813, Time Elapsed(s): 8.35\n",
            "Epoch:   29, Train score: 0.7764, Validation score: 0.7811, Time Elapsed(s): 8.35\n",
            "Epoch:   30, Train score: 0.7757, Validation score: 0.7817, Time Elapsed(s): 8.38\n"
          ]
        },
        {
          "output_type": "display_data",
          "data": {
            "text/plain": [
              "<IPython.core.display.HTML object>"
            ],
            "text/html": [
              "Waiting for W&B process to finish... <strong style=\"color:green\">(success).</strong>"
            ]
          },
          "metadata": {}
        },
        {
          "output_type": "display_data",
          "data": {
            "text/plain": [
              "VBox(children=(Label(value='0.001 MB of 0.001 MB uploaded (0.000 MB deduped)\\r'), FloatProgress(value=1.0, max…"
            ],
            "application/vnd.jupyter.widget-view+json": {
              "version_major": 2,
              "version_minor": 0,
              "model_id": "6f08c673c9fe4ae8bf81a96f92c19537"
            }
          },
          "metadata": {}
        },
        {
          "output_type": "display_data",
          "data": {
            "text/plain": [
              "<IPython.core.display.HTML object>"
            ],
            "text/html": [
              "<style>\n",
              "    table.wandb td:nth-child(1) { padding: 0 10px; text-align: left ; width: auto;} td:nth-child(2) {text-align: left ; width: 100%}\n",
              "    .wandb-row { display: flex; flex-direction: row; flex-wrap: wrap; justify-content: flex-start; width: 100% }\n",
              "    .wandb-col { display: flex; flex-direction: column; flex-basis: 100%; flex: 1; padding: 10px; }\n",
              "    </style>\n",
              "<div class=\"wandb-row\"><div class=\"wandb-col\"><h3>Run history:</h3><br/><table class=\"wandb\"><tr><td>Epoch</td><td>▁▁▁▂▂▂▂▃▃▃▃▄▄▄▄▅▅▅▅▆▆▆▆▇▇▇▇███</td></tr><tr><td>T-Score</td><td>█▃▃▂▂▂▂▂▂▂▂▂▂▂▁▁▁▁▁▁▁▁▁▁▁▁▁▁▁▁</td></tr><tr><td>V-Score</td><td>█▆▆▆▇▅▅▄▄▄▄▃▃▃▂▂▂▂▂▁▁▁▁▁▁▁▁▁▁▁</td></tr></table><br/></div><div class=\"wandb-col\"><h3>Run summary:</h3><br/><table class=\"wandb\"><tr><td>Epoch</td><td>30</td></tr><tr><td>T-Score</td><td>0.77566</td></tr><tr><td>V-Score</td><td>0.78167</td></tr></table><br/></div></div>"
            ]
          },
          "metadata": {}
        },
        {
          "output_type": "display_data",
          "data": {
            "text/plain": [
              "<IPython.core.display.HTML object>"
            ],
            "text/html": [
              "Synced <strong style=\"color:#cdcd00\">dainty-sweep-4</strong>: <a href=\"https://wandb.ai/zbooster/Antenna-Resnet34-1/runs/e4e66zt8\" target=\"_blank\">https://wandb.ai/zbooster/Antenna-Resnet34-1/runs/e4e66zt8</a><br/>Synced 5 W&B file(s), 0 media file(s), 0 artifact file(s) and 0 other file(s)"
            ]
          },
          "metadata": {}
        },
        {
          "output_type": "display_data",
          "data": {
            "text/plain": [
              "<IPython.core.display.HTML object>"
            ],
            "text/html": [
              "Find logs at: <code>./wandb/run-20220826_063635-e4e66zt8/logs</code>"
            ]
          },
          "metadata": {}
        },
        {
          "output_type": "stream",
          "name": "stderr",
          "text": [
            "\u001b[34m\u001b[1mwandb\u001b[0m: Agent Starting Run: bvo76nhr with config:\n",
            "\u001b[34m\u001b[1mwandb\u001b[0m: \tbatch_size: 512\n",
            "\u001b[34m\u001b[1mwandb\u001b[0m: \tfold: 4\n",
            "\u001b[34m\u001b[1mwandb\u001b[0m: \tlearning_rate: 0.001\n",
            "\u001b[34m\u001b[1mwandb\u001b[0m: \tstep_size: 7\n"
          ]
        },
        {
          "output_type": "display_data",
          "data": {
            "text/plain": [
              "<IPython.core.display.HTML object>"
            ],
            "text/html": [
              "Tracking run with wandb version 0.13.2"
            ]
          },
          "metadata": {}
        },
        {
          "output_type": "display_data",
          "data": {
            "text/plain": [
              "<IPython.core.display.HTML object>"
            ],
            "text/html": [
              "Run data is saved locally in <code>/content/wandb/run-20220826_064058-bvo76nhr</code>"
            ]
          },
          "metadata": {}
        },
        {
          "output_type": "display_data",
          "data": {
            "text/plain": [
              "<IPython.core.display.HTML object>"
            ],
            "text/html": [
              "Syncing run <strong><a href=\"https://wandb.ai/zbooster/Antenna-Resnet34-1/runs/bvo76nhr\" target=\"_blank\">sleek-sweep-5</a></strong> to <a href=\"https://wandb.ai/zbooster/Antenna-Resnet34-1\" target=\"_blank\">Weights & Biases</a> (<a href=\"https://wandb.me/run\" target=\"_blank\">docs</a>)<br/>Sweep page:  <a href=\"https://wandb.ai/zbooster/Antenna-Resnet34-1/sweeps/dtjela50\" target=\"_blank\">https://wandb.ai/zbooster/Antenna-Resnet34-1/sweeps/dtjela50</a>"
            ]
          },
          "metadata": {}
        },
        {
          "output_type": "stream",
          "name": "stdout",
          "text": [
            "Epoch:    1, Train score: 1.2057, Validation score: 0.9247, Time Elapsed(s): 8.43\n",
            "Epoch:    2, Train score: 0.9075, Validation score: 0.8905, Time Elapsed(s): 8.29\n",
            "Epoch:    3, Train score: 0.8741, Validation score: 0.8637, Time Elapsed(s): 8.39\n",
            "Epoch:    4, Train score: 0.8643, Validation score: 0.8487, Time Elapsed(s): 8.38\n",
            "Epoch:    5, Train score: 0.8617, Validation score: 0.8465, Time Elapsed(s): 8.28\n",
            "Epoch:    6, Train score: 0.8662, Validation score: 0.8713, Time Elapsed(s): 8.38\n",
            "Epoch:    7, Train score: 0.8600, Validation score: 0.8461, Time Elapsed(s): 8.28\n",
            "Epoch:    8, Train score: 0.8381, Validation score: 0.8270, Time Elapsed(s): 8.38\n",
            "Epoch:    9, Train score: 0.8281, Validation score: 0.8188, Time Elapsed(s): 8.29\n",
            "Epoch:   10, Train score: 0.8226, Validation score: 0.8118, Time Elapsed(s): 8.38\n",
            "Epoch:   11, Train score: 0.8193, Validation score: 0.8073, Time Elapsed(s): 8.38\n",
            "Epoch:   12, Train score: 0.8146, Validation score: 0.7978, Time Elapsed(s): 8.29\n",
            "Epoch:   13, Train score: 0.8093, Validation score: 0.7903, Time Elapsed(s): 8.38\n",
            "Epoch:   14, Train score: 0.8035, Validation score: 0.7820, Time Elapsed(s): 8.28\n",
            "Epoch:   15, Train score: 0.7887, Validation score: 0.7734, Time Elapsed(s): 8.39\n",
            "Epoch:   16, Train score: 0.7837, Validation score: 0.7684, Time Elapsed(s): 8.40\n",
            "Epoch:   17, Train score: 0.7828, Validation score: 0.7652, Time Elapsed(s): 8.28\n",
            "Epoch:   18, Train score: 0.7802, Validation score: 0.7618, Time Elapsed(s): 8.41\n",
            "Epoch:   19, Train score: 0.7763, Validation score: 0.7590, Time Elapsed(s): 8.28\n",
            "Epoch:   20, Train score: 0.7734, Validation score: 0.7556, Time Elapsed(s): 8.38\n",
            "Epoch:   21, Train score: 0.7726, Validation score: 0.7524, Time Elapsed(s): 8.41\n",
            "Epoch:   22, Train score: 0.7680, Validation score: 0.7519, Time Elapsed(s): 8.27\n",
            "Epoch:   23, Train score: 0.7679, Validation score: 0.7521, Time Elapsed(s): 8.39\n",
            "Epoch:   24, Train score: 0.7681, Validation score: 0.7510, Time Elapsed(s): 8.50\n",
            "Epoch:   25, Train score: 0.7654, Validation score: 0.7507, Time Elapsed(s): 8.40\n",
            "Epoch:   26, Train score: 0.7670, Validation score: 0.7498, Time Elapsed(s): 8.38\n",
            "Epoch:   27, Train score: 0.7671, Validation score: 0.7503, Time Elapsed(s): 8.26\n",
            "Epoch:   28, Train score: 0.7660, Validation score: 0.7498, Time Elapsed(s): 8.37\n",
            "Epoch:   29, Train score: 0.7644, Validation score: 0.7505, Time Elapsed(s): 8.26\n",
            "Epoch:   30, Train score: 0.7643, Validation score: 0.7498, Time Elapsed(s): 8.37\n"
          ]
        },
        {
          "output_type": "display_data",
          "data": {
            "text/plain": [
              "<IPython.core.display.HTML object>"
            ],
            "text/html": [
              "Waiting for W&B process to finish... <strong style=\"color:green\">(success).</strong>"
            ]
          },
          "metadata": {}
        },
        {
          "output_type": "display_data",
          "data": {
            "text/plain": [
              "VBox(children=(Label(value='0.001 MB of 0.001 MB uploaded (0.000 MB deduped)\\r'), FloatProgress(value=1.0, max…"
            ],
            "application/vnd.jupyter.widget-view+json": {
              "version_major": 2,
              "version_minor": 0,
              "model_id": "3f6154a9286343dbb88b7167e7194d5f"
            }
          },
          "metadata": {}
        },
        {
          "output_type": "display_data",
          "data": {
            "text/plain": [
              "<IPython.core.display.HTML object>"
            ],
            "text/html": [
              "<style>\n",
              "    table.wandb td:nth-child(1) { padding: 0 10px; text-align: left ; width: auto;} td:nth-child(2) {text-align: left ; width: 100%}\n",
              "    .wandb-row { display: flex; flex-direction: row; flex-wrap: wrap; justify-content: flex-start; width: 100% }\n",
              "    .wandb-col { display: flex; flex-direction: column; flex-basis: 100%; flex: 1; padding: 10px; }\n",
              "    </style>\n",
              "<div class=\"wandb-row\"><div class=\"wandb-col\"><h3>Run history:</h3><br/><table class=\"wandb\"><tr><td>Epoch</td><td>▁▁▁▂▂▂▂▃▃▃▃▄▄▄▄▅▅▅▅▆▆▆▆▇▇▇▇███</td></tr><tr><td>T-Score</td><td>█▃▃▃▃▃▃▂▂▂▂▂▂▂▁▁▁▁▁▁▁▁▁▁▁▁▁▁▁▁</td></tr><tr><td>V-Score</td><td>█▇▆▅▅▆▅▄▄▃▃▃▃▂▂▂▂▁▁▁▁▁▁▁▁▁▁▁▁▁</td></tr></table><br/></div><div class=\"wandb-col\"><h3>Run summary:</h3><br/><table class=\"wandb\"><tr><td>Epoch</td><td>30</td></tr><tr><td>T-Score</td><td>0.76434</td></tr><tr><td>V-Score</td><td>0.74978</td></tr></table><br/></div></div>"
            ]
          },
          "metadata": {}
        },
        {
          "output_type": "display_data",
          "data": {
            "text/plain": [
              "<IPython.core.display.HTML object>"
            ],
            "text/html": [
              "Synced <strong style=\"color:#cdcd00\">sleek-sweep-5</strong>: <a href=\"https://wandb.ai/zbooster/Antenna-Resnet34-1/runs/bvo76nhr\" target=\"_blank\">https://wandb.ai/zbooster/Antenna-Resnet34-1/runs/bvo76nhr</a><br/>Synced 5 W&B file(s), 0 media file(s), 0 artifact file(s) and 0 other file(s)"
            ]
          },
          "metadata": {}
        },
        {
          "output_type": "display_data",
          "data": {
            "text/plain": [
              "<IPython.core.display.HTML object>"
            ],
            "text/html": [
              "Find logs at: <code>./wandb/run-20220826_064058-bvo76nhr/logs</code>"
            ]
          },
          "metadata": {}
        },
        {
          "output_type": "stream",
          "name": "stderr",
          "text": [
            "\u001b[34m\u001b[1mwandb\u001b[0m: Agent Starting Run: dr8j35q5 with config:\n",
            "\u001b[34m\u001b[1mwandb\u001b[0m: \tbatch_size: 512\n",
            "\u001b[34m\u001b[1mwandb\u001b[0m: \tfold: 5\n",
            "\u001b[34m\u001b[1mwandb\u001b[0m: \tlearning_rate: 0.001\n",
            "\u001b[34m\u001b[1mwandb\u001b[0m: \tstep_size: 7\n"
          ]
        },
        {
          "output_type": "display_data",
          "data": {
            "text/plain": [
              "<IPython.core.display.HTML object>"
            ],
            "text/html": [
              "Tracking run with wandb version 0.13.2"
            ]
          },
          "metadata": {}
        },
        {
          "output_type": "display_data",
          "data": {
            "text/plain": [
              "<IPython.core.display.HTML object>"
            ],
            "text/html": [
              "Run data is saved locally in <code>/content/wandb/run-20220826_064523-dr8j35q5</code>"
            ]
          },
          "metadata": {}
        },
        {
          "output_type": "display_data",
          "data": {
            "text/plain": [
              "<IPython.core.display.HTML object>"
            ],
            "text/html": [
              "Syncing run <strong><a href=\"https://wandb.ai/zbooster/Antenna-Resnet34-1/runs/dr8j35q5\" target=\"_blank\">good-sweep-6</a></strong> to <a href=\"https://wandb.ai/zbooster/Antenna-Resnet34-1\" target=\"_blank\">Weights & Biases</a> (<a href=\"https://wandb.me/run\" target=\"_blank\">docs</a>)<br/>Sweep page:  <a href=\"https://wandb.ai/zbooster/Antenna-Resnet34-1/sweeps/dtjela50\" target=\"_blank\">https://wandb.ai/zbooster/Antenna-Resnet34-1/sweeps/dtjela50</a>"
            ]
          },
          "metadata": {}
        },
        {
          "output_type": "stream",
          "name": "stdout",
          "text": [
            "Epoch:    1, Train score: 1.2155, Validation score: 0.9646, Time Elapsed(s): 8.44\n",
            "Epoch:    2, Train score: 0.9069, Validation score: 0.8914, Time Elapsed(s): 8.51\n",
            "Epoch:    3, Train score: 0.8813, Validation score: 0.8728, Time Elapsed(s): 8.53\n",
            "Epoch:    4, Train score: 0.8745, Validation score: 0.8694, Time Elapsed(s): 8.44\n",
            "Epoch:    5, Train score: 0.8652, Validation score: 0.8854, Time Elapsed(s): 8.51\n",
            "Epoch:    6, Train score: 0.8610, Validation score: 0.8431, Time Elapsed(s): 8.41\n",
            "Epoch:    7, Train score: 0.8532, Validation score: 0.9033, Time Elapsed(s): 8.54\n",
            "Epoch:    8, Train score: 0.8410, Validation score: 0.8284, Time Elapsed(s): 8.43\n",
            "Epoch:    9, Train score: 0.8295, Validation score: 0.8216, Time Elapsed(s): 8.54\n",
            "Epoch:   10, Train score: 0.8290, Validation score: 0.8167, Time Elapsed(s): 8.41\n",
            "Epoch:   11, Train score: 0.8226, Validation score: 0.8108, Time Elapsed(s): 8.52\n",
            "Epoch:   12, Train score: 0.8185, Validation score: 0.8045, Time Elapsed(s): 8.54\n",
            "Epoch:   13, Train score: 0.8134, Validation score: 0.7971, Time Elapsed(s): 8.42\n",
            "Epoch:   14, Train score: 0.8074, Validation score: 0.7927, Time Elapsed(s): 8.54\n",
            "Epoch:   15, Train score: 0.7976, Validation score: 0.7840, Time Elapsed(s): 8.43\n",
            "Epoch:   16, Train score: 0.7918, Validation score: 0.7798, Time Elapsed(s): 8.53\n",
            "Epoch:   17, Train score: 0.7899, Validation score: 0.7774, Time Elapsed(s): 8.50\n",
            "Epoch:   18, Train score: 0.7893, Validation score: 0.7743, Time Elapsed(s): 8.51\n",
            "Epoch:   19, Train score: 0.7847, Validation score: 0.7715, Time Elapsed(s): 8.54\n",
            "Epoch:   20, Train score: 0.7852, Validation score: 0.7694, Time Elapsed(s): 8.43\n",
            "Epoch:   21, Train score: 0.7841, Validation score: 0.7672, Time Elapsed(s): 8.52\n",
            "Epoch:   22, Train score: 0.7808, Validation score: 0.7659, Time Elapsed(s): 8.41\n",
            "Epoch:   23, Train score: 0.7797, Validation score: 0.7653, Time Elapsed(s): 8.52\n",
            "Epoch:   24, Train score: 0.7793, Validation score: 0.7653, Time Elapsed(s): 8.41\n",
            "Epoch:   25, Train score: 0.7791, Validation score: 0.7651, Time Elapsed(s): 8.50\n",
            "Epoch:   26, Train score: 0.7792, Validation score: 0.7649, Time Elapsed(s): 8.44\n",
            "Epoch:   27, Train score: 0.7783, Validation score: 0.7638, Time Elapsed(s): 8.54\n",
            "Epoch:   28, Train score: 0.7777, Validation score: 0.7646, Time Elapsed(s): 8.42\n",
            "Epoch:   29, Train score: 0.7784, Validation score: 0.7636, Time Elapsed(s): 8.51\n",
            "Epoch:   30, Train score: 0.7762, Validation score: 0.7639, Time Elapsed(s): 8.40\n"
          ]
        },
        {
          "output_type": "display_data",
          "data": {
            "text/plain": [
              "<IPython.core.display.HTML object>"
            ],
            "text/html": [
              "Waiting for W&B process to finish... <strong style=\"color:green\">(success).</strong>"
            ]
          },
          "metadata": {}
        },
        {
          "output_type": "display_data",
          "data": {
            "text/plain": [
              "VBox(children=(Label(value='0.001 MB of 0.001 MB uploaded (0.000 MB deduped)\\r'), FloatProgress(value=1.0, max…"
            ],
            "application/vnd.jupyter.widget-view+json": {
              "version_major": 2,
              "version_minor": 0,
              "model_id": "0567d0413af04e1480b91b9ab48a019b"
            }
          },
          "metadata": {}
        },
        {
          "output_type": "display_data",
          "data": {
            "text/plain": [
              "<IPython.core.display.HTML object>"
            ],
            "text/html": [
              "<style>\n",
              "    table.wandb td:nth-child(1) { padding: 0 10px; text-align: left ; width: auto;} td:nth-child(2) {text-align: left ; width: 100%}\n",
              "    .wandb-row { display: flex; flex-direction: row; flex-wrap: wrap; justify-content: flex-start; width: 100% }\n",
              "    .wandb-col { display: flex; flex-direction: column; flex-basis: 100%; flex: 1; padding: 10px; }\n",
              "    </style>\n",
              "<div class=\"wandb-row\"><div class=\"wandb-col\"><h3>Run history:</h3><br/><table class=\"wandb\"><tr><td>Epoch</td><td>▁▁▁▂▂▂▂▃▃▃▃▄▄▄▄▅▅▅▅▆▆▆▆▇▇▇▇███</td></tr><tr><td>T-Score</td><td>█▃▃▃▂▂▂▂▂▂▂▂▂▁▁▁▁▁▁▁▁▁▁▁▁▁▁▁▁▁</td></tr><tr><td>V-Score</td><td>█▅▅▅▅▄▆▃▃▃▃▂▂▂▂▂▁▁▁▁▁▁▁▁▁▁▁▁▁▁</td></tr></table><br/></div><div class=\"wandb-col\"><h3>Run summary:</h3><br/><table class=\"wandb\"><tr><td>Epoch</td><td>30</td></tr><tr><td>T-Score</td><td>0.77622</td></tr><tr><td>V-Score</td><td>0.76395</td></tr></table><br/></div></div>"
            ]
          },
          "metadata": {}
        },
        {
          "output_type": "display_data",
          "data": {
            "text/plain": [
              "<IPython.core.display.HTML object>"
            ],
            "text/html": [
              "Synced <strong style=\"color:#cdcd00\">good-sweep-6</strong>: <a href=\"https://wandb.ai/zbooster/Antenna-Resnet34-1/runs/dr8j35q5\" target=\"_blank\">https://wandb.ai/zbooster/Antenna-Resnet34-1/runs/dr8j35q5</a><br/>Synced 5 W&B file(s), 0 media file(s), 0 artifact file(s) and 0 other file(s)"
            ]
          },
          "metadata": {}
        },
        {
          "output_type": "display_data",
          "data": {
            "text/plain": [
              "<IPython.core.display.HTML object>"
            ],
            "text/html": [
              "Find logs at: <code>./wandb/run-20220826_064523-dr8j35q5/logs</code>"
            ]
          },
          "metadata": {}
        },
        {
          "output_type": "stream",
          "name": "stderr",
          "text": [
            "\u001b[34m\u001b[1mwandb\u001b[0m: Sweep Agent: Waiting for job.\n",
            "\u001b[34m\u001b[1mwandb\u001b[0m: Sweep Agent: Exiting.\n"
          ]
        }
      ]
    },
    {
      "cell_type": "code",
      "source": [
        "raise AssertionError"
      ],
      "metadata": {
        "colab": {
          "base_uri": "https://localhost:8080/",
          "height": 187
        },
        "id": "YjAeu-8jwaMP",
        "outputId": "940afec7-f1e2-4a69-c132-ccc2bf21cad9"
      },
      "execution_count": null,
      "outputs": [
        {
          "output_type": "error",
          "ename": "AssertionError",
          "evalue": "ignored",
          "traceback": [
            "\u001b[0;31m---------------------------------------------------------------------------\u001b[0m",
            "\u001b[0;31mAssertionError\u001b[0m                            Traceback (most recent call last)",
            "\u001b[0;32m<ipython-input-293-d1143e13d0dc>\u001b[0m in \u001b[0;36m<module>\u001b[0;34m\u001b[0m\n\u001b[0;32m----> 1\u001b[0;31m \u001b[0;32mraise\u001b[0m \u001b[0mAssertionError\u001b[0m\u001b[0;34m\u001b[0m\u001b[0;34m\u001b[0m\u001b[0m\n\u001b[0m",
            "\u001b[0;31mAssertionError\u001b[0m: "
          ]
        }
      ]
    },
    {
      "cell_type": "code",
      "source": [
        "epochs = 30\n",
        "network = build_network(14)\n",
        "optimizer = build_optimizer(network, 0.001)\n",
        "scheduler = build_scheduler(optimizer, 7, 0.1)\n",
        "\n",
        "train = pd.concat(data_raw_list)\n",
        "X_train, y_train = split_xy(train, is_train=True, cname='Y_03', weight=2.2)\n",
        "train_dataset = AssemblyDataset(modify_shape(X_train), y_train.values)\n",
        "tr_dataloader = DataLoader(train_dataset, batch_size=512, shuffle=True)\n",
        "for epoch in range(epochs):\n",
        "    since = time.time()\n",
        "    \n",
        "    train_score = train_epoch(network, tr_dataloader, optimizer, scheduler)\n",
        "    print(\"Epoch: %4d, Train score: %.4f\" % (epoch+1, train_score), end='')\n",
        "    time_elapsed = time.time() - since\n",
        "    print(\", Time Elapsed(s): %.2f\" % (time_elapsed))\n",
        "    # wandb.log({'Epoch': epoch+1, 'T-Score': train_score, 'V-Score': vaild_score})"
      ],
      "metadata": {
        "id": "8__UJuxli_hF"
      },
      "execution_count": null,
      "outputs": []
    },
    {
      "cell_type": "code",
      "source": [
        "test_raw_list = preprocessing_raw('test')\n",
        "test = pd.concat(test_raw_list)\n",
        "len(test)"
      ],
      "metadata": {
        "id": "WCgAgcdQqlCg"
      },
      "execution_count": null,
      "outputs": []
    },
    {
      "cell_type": "code",
      "source": [
        "X_test, _ = split_xy(test)\n",
        "print(len(X_test))\n",
        "X_test.head()"
      ],
      "metadata": {
        "id": "Ty2SkbL6cZAs"
      },
      "execution_count": null,
      "outputs": []
    },
    {
      "cell_type": "code",
      "source": [
        "X_test.tail()"
      ],
      "metadata": {
        "id": "w8q6_C3jrKSo"
      },
      "execution_count": null,
      "outputs": []
    },
    {
      "cell_type": "code",
      "source": [
        "X_test.info()"
      ],
      "metadata": {
        "id": "J8eqSYcfrMr8"
      },
      "execution_count": null,
      "outputs": []
    },
    {
      "cell_type": "code",
      "source": [
        "nx = modify_shape(X_test)\n",
        "nx = torch.FloatTensor(nx)\n",
        "nx.shape"
      ],
      "metadata": {
        "id": "n11_VfY95Kid"
      },
      "execution_count": null,
      "outputs": []
    },
    {
      "cell_type": "code",
      "source": [
        "nx = nx.to(device)\n",
        "summit = network(nx)"
      ],
      "metadata": {
        "id": "Mh8ljdcwsumc"
      },
      "execution_count": null,
      "outputs": []
    },
    {
      "cell_type": "code",
      "source": [
        "preds = summit.cpu().detach().numpy()\n",
        "\n",
        "submit = raw_data['sample_submission'].copy()\n",
        "for idx, col in enumerate(submit.columns):\n",
        "  if col=='ID':\n",
        "      continue\n",
        "  submit[col] = preds[:,idx-1]\n",
        "print('Done.')\n",
        "\n",
        "submit.to_csv('/content/submit.csv', index=False)\n",
        "print('Done.')"
      ],
      "metadata": {
        "id": "oG_fvr1atmFy"
      },
      "execution_count": null,
      "outputs": []
    },
    {
      "cell_type": "code",
      "source": [
        "!cp './submit.csv' '/content/drive/MyDrive/DeepLearning_Datas'"
      ],
      "metadata": {
        "id": "X1u6DqdXl0EM"
      },
      "execution_count": null,
      "outputs": []
    },
    {
      "cell_type": "code",
      "source": [
        "pd.read_csv('./submit.csv')"
      ],
      "metadata": {
        "id": "EENQswjXmkte"
      },
      "execution_count": null,
      "outputs": []
    },
    {
      "cell_type": "code",
      "source": [
        "tmp = pd.DataFrame(preds, columns=y_train.columns)\n",
        "tmp"
      ],
      "metadata": {
        "id": "gzR1TGdztsVw"
      },
      "execution_count": null,
      "outputs": []
    },
    {
      "cell_type": "markdown",
      "source": [
        "* Sweeps 에이전트가 파라미터 값을 바꿔가면서 반복 수행함. 결과는 저장"
      ],
      "metadata": {
        "id": "FXNXwI1F4bIT"
      }
    },
    {
      "cell_type": "code",
      "source": [
        "tmp.info()"
      ],
      "metadata": {
        "id": "spBv_TOAmZ4V"
      },
      "execution_count": null,
      "outputs": []
    }
  ]
}