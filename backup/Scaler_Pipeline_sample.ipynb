{
  "cells": [
    {
      "cell_type": "markdown",
      "metadata": {
        "id": "YSrQaBaZaHuU"
      },
      "source": [
        "# 한글설정"
      ]
    },
    {
      "cell_type": "code",
      "execution_count": 1,
      "metadata": {
        "id": "dm4N2VEoaHuW"
      },
      "outputs": [],
      "source": [
        "!apt-get install fonts-nanum* > /dev/null 2>&1\n",
        "!fc-cache -fv > /dev/null 2>&1"
      ]
    },
    {
      "cell_type": "code",
      "execution_count": 2,
      "metadata": {
        "id": "qEsk1f0maHua"
      },
      "outputs": [],
      "source": [
        "import os\n",
        "import matplotlib as mpl\n",
        "\n",
        "file_dir = os.path.split(mpl.__file__)[0]\n",
        "font_dir = os.path.join(file_dir, 'mpl-data/fonts/ttf')\n",
        "!cp /usr/share/fonts/truetype/nanum/Nanum* {font_dir}\n",
        "!rm -rf ~/.cache/matplotlib/*"
      ]
    },
    {
      "cell_type": "markdown",
      "metadata": {
        "id": "29VYaq03aHub"
      },
      "source": [
        "> Runtime Restart"
      ]
    },
    {
      "cell_type": "code",
      "execution_count": 1,
      "metadata": {
        "id": "nu93HZ66aHub"
      },
      "outputs": [],
      "source": [
        "import matplotlib.pyplot as plt\n",
        "import matplotlib as mpl\n",
        "mpl.rcParams['axes.unicode_minus'] = False\n",
        "plt.rc('font', family='NanumGothicCoding')"
      ]
    },
    {
      "cell_type": "markdown",
      "metadata": {
        "id": "FO3oKyAkaHuc"
      },
      "source": [
        "# 데이터 가져오기"
      ]
    },
    {
      "cell_type": "code",
      "execution_count": 2,
      "metadata": {
        "id": "G6qe0z0aaHud",
        "colab": {
          "base_uri": "https://localhost:8080/"
        },
        "outputId": "582765c2-fc86-4a14-fd59-3d73a4dafc10"
      },
      "outputs": [
        {
          "output_type": "stream",
          "name": "stderr",
          "text": [
            "Downloading...\n",
            "From: https://drive.google.com/uc?id=10Hpa4YM0KX_Ig0W9w7DbTdq62nF2UThA\n",
            "To: /content/open.zip\n",
            "100%|██████████| 10.0M/10.0M [00:00<00:00, 41.5MB/s]\n"
          ]
        }
      ],
      "source": [
        "import os\n",
        "import gdown\n",
        "\n",
        "id = \"10Hpa4YM0KX_Ig0W9w7DbTdq62nF2UThA\"\n",
        "output = \"./open.zip\"\n",
        "\n",
        "if not os.path.isdir('./datasets'):\n",
        "  gdown.download(id=id, output=output)\n",
        "  gdown.extractall(path=output, to='./datasets')"
      ]
    },
    {
      "cell_type": "markdown",
      "metadata": {
        "id": "VHzdCbiraHue"
      },
      "source": [
        "# 데이터프레임 만들기"
      ]
    },
    {
      "cell_type": "code",
      "execution_count": 3,
      "metadata": {
        "id": "CPa_EHB-aHue"
      },
      "outputs": [],
      "source": [
        "import os\n",
        "import glob\n",
        "import pandas as pd\n",
        "from collections import defaultdict\n",
        "\n",
        "raw_data = defaultdict(pd.DataFrame)\n",
        "\n",
        "for fname in glob.glob('./**/*.csv', recursive=True):\n",
        "    df_name = os.path.splitext(os.path.basename(fname))[0]\n",
        "    raw_data[df_name] = pd.read_csv(fname)"
      ]
    },
    {
      "cell_type": "markdown",
      "metadata": {
        "id": "hVEzBuuKaHuq"
      },
      "source": [
        "# Scaler 적용"
      ]
    },
    {
      "cell_type": "code",
      "source": [
        "from sklearn import preprocessing\n",
        "from sklearn.pipeline import Pipeline\n",
        "from sklearn.preprocessing import StandardScaler\n",
        "\n",
        "train = raw_data['train'].copy()\n",
        "\n",
        "X = train.filter(regex='X')\n",
        "y = train.filter(regex='Y')\n",
        "\n",
        "preprocessor = Pipeline(steps=[\n",
        "    ('scaler_function', StandardScaler())  \n",
        "])\n",
        "\n",
        "Xt = preprocessor.fit_transform(X)"
      ],
      "metadata": {
        "id": "TPy7ZRNNfwJb"
      },
      "execution_count": 5,
      "outputs": []
    },
    {
      "cell_type": "code",
      "source": [
        "Xt = pd.DataFrame(data=Xt, index=X.index, columns=X.columns)\n",
        "Xt.head()"
      ],
      "metadata": {
        "colab": {
          "base_uri": "https://localhost:8080/",
          "height": 235
        },
        "id": "tvBrFLDxgkAT",
        "outputId": "dbb0291c-4779-4b00-8cd5-7f9135804423"
      },
      "execution_count": 6,
      "outputs": [
        {
          "output_type": "execute_result",
          "data": {
            "text/plain": [
              "       X_01      X_02      X_03  X_04      X_05      X_06      X_07      X_08  \\\n",
              "0  0.802711 -0.446638 -0.263313   0.0 -0.811901  1.940794  0.005793 -0.463110   \n",
              "1  0.418668  2.238952 -0.709820   0.0 -0.717070  1.038055 -0.092325 -0.468328   \n",
              "2  1.570422 -0.446638 -0.923366   0.0  1.487741  1.038055 -0.081423 -0.266241   \n",
              "3  1.186378 -0.446638 -0.243900   0.0 -0.667831  2.843089 -0.066433 -0.223409   \n",
              "4  0.418668 -0.446638 -1.020433   0.0 -0.649595  0.135760  0.037136 -0.277084   \n",
              "\n",
              "       X_09      X_10  ...  X_47  X_48      X_49      X_50      X_51  \\\n",
              "0  0.304381 -0.028394  ...   0.0   0.0 -0.812049  1.046624  0.657507   \n",
              "1  0.123064 -0.028394  ...   0.0   0.0 -0.728478  0.494532  0.762086   \n",
              "2  0.701331 -0.028394  ...   0.0   0.0 -0.667308  0.339004 -0.067753   \n",
              "3  0.448985 -0.028394  ...   0.0   0.0 -0.194527  0.561658  0.300292   \n",
              "4  0.240695 -0.028394  ...   0.0   0.0 -0.655367  1.995805  0.869969   \n",
              "\n",
              "       X_52      X_53      X_54      X_55      X_56  \n",
              "0  1.429793  1.106418 -0.443270 -0.177546 -0.626883  \n",
              "1  1.752329 -0.763482 -0.022226  0.829965 -0.654610  \n",
              "2  1.271613  0.165699 -0.184383  0.383237 -1.139362  \n",
              "3  0.175052  0.747128  0.498552  1.486583  1.181833  \n",
              "4 -0.577155  1.184620 -0.435474  0.220755 -0.949337  \n",
              "\n",
              "[5 rows x 56 columns]"
            ],
            "text/html": [
              "\n",
              "  <div id=\"df-016935d3-eae5-496e-a072-48e4aa7f8f1b\">\n",
              "    <div class=\"colab-df-container\">\n",
              "      <div>\n",
              "<style scoped>\n",
              "    .dataframe tbody tr th:only-of-type {\n",
              "        vertical-align: middle;\n",
              "    }\n",
              "\n",
              "    .dataframe tbody tr th {\n",
              "        vertical-align: top;\n",
              "    }\n",
              "\n",
              "    .dataframe thead th {\n",
              "        text-align: right;\n",
              "    }\n",
              "</style>\n",
              "<table border=\"1\" class=\"dataframe\">\n",
              "  <thead>\n",
              "    <tr style=\"text-align: right;\">\n",
              "      <th></th>\n",
              "      <th>X_01</th>\n",
              "      <th>X_02</th>\n",
              "      <th>X_03</th>\n",
              "      <th>X_04</th>\n",
              "      <th>X_05</th>\n",
              "      <th>X_06</th>\n",
              "      <th>X_07</th>\n",
              "      <th>X_08</th>\n",
              "      <th>X_09</th>\n",
              "      <th>X_10</th>\n",
              "      <th>...</th>\n",
              "      <th>X_47</th>\n",
              "      <th>X_48</th>\n",
              "      <th>X_49</th>\n",
              "      <th>X_50</th>\n",
              "      <th>X_51</th>\n",
              "      <th>X_52</th>\n",
              "      <th>X_53</th>\n",
              "      <th>X_54</th>\n",
              "      <th>X_55</th>\n",
              "      <th>X_56</th>\n",
              "    </tr>\n",
              "  </thead>\n",
              "  <tbody>\n",
              "    <tr>\n",
              "      <th>0</th>\n",
              "      <td>0.802711</td>\n",
              "      <td>-0.446638</td>\n",
              "      <td>-0.263313</td>\n",
              "      <td>0.0</td>\n",
              "      <td>-0.811901</td>\n",
              "      <td>1.940794</td>\n",
              "      <td>0.005793</td>\n",
              "      <td>-0.463110</td>\n",
              "      <td>0.304381</td>\n",
              "      <td>-0.028394</td>\n",
              "      <td>...</td>\n",
              "      <td>0.0</td>\n",
              "      <td>0.0</td>\n",
              "      <td>-0.812049</td>\n",
              "      <td>1.046624</td>\n",
              "      <td>0.657507</td>\n",
              "      <td>1.429793</td>\n",
              "      <td>1.106418</td>\n",
              "      <td>-0.443270</td>\n",
              "      <td>-0.177546</td>\n",
              "      <td>-0.626883</td>\n",
              "    </tr>\n",
              "    <tr>\n",
              "      <th>1</th>\n",
              "      <td>0.418668</td>\n",
              "      <td>2.238952</td>\n",
              "      <td>-0.709820</td>\n",
              "      <td>0.0</td>\n",
              "      <td>-0.717070</td>\n",
              "      <td>1.038055</td>\n",
              "      <td>-0.092325</td>\n",
              "      <td>-0.468328</td>\n",
              "      <td>0.123064</td>\n",
              "      <td>-0.028394</td>\n",
              "      <td>...</td>\n",
              "      <td>0.0</td>\n",
              "      <td>0.0</td>\n",
              "      <td>-0.728478</td>\n",
              "      <td>0.494532</td>\n",
              "      <td>0.762086</td>\n",
              "      <td>1.752329</td>\n",
              "      <td>-0.763482</td>\n",
              "      <td>-0.022226</td>\n",
              "      <td>0.829965</td>\n",
              "      <td>-0.654610</td>\n",
              "    </tr>\n",
              "    <tr>\n",
              "      <th>2</th>\n",
              "      <td>1.570422</td>\n",
              "      <td>-0.446638</td>\n",
              "      <td>-0.923366</td>\n",
              "      <td>0.0</td>\n",
              "      <td>1.487741</td>\n",
              "      <td>1.038055</td>\n",
              "      <td>-0.081423</td>\n",
              "      <td>-0.266241</td>\n",
              "      <td>0.701331</td>\n",
              "      <td>-0.028394</td>\n",
              "      <td>...</td>\n",
              "      <td>0.0</td>\n",
              "      <td>0.0</td>\n",
              "      <td>-0.667308</td>\n",
              "      <td>0.339004</td>\n",
              "      <td>-0.067753</td>\n",
              "      <td>1.271613</td>\n",
              "      <td>0.165699</td>\n",
              "      <td>-0.184383</td>\n",
              "      <td>0.383237</td>\n",
              "      <td>-1.139362</td>\n",
              "    </tr>\n",
              "    <tr>\n",
              "      <th>3</th>\n",
              "      <td>1.186378</td>\n",
              "      <td>-0.446638</td>\n",
              "      <td>-0.243900</td>\n",
              "      <td>0.0</td>\n",
              "      <td>-0.667831</td>\n",
              "      <td>2.843089</td>\n",
              "      <td>-0.066433</td>\n",
              "      <td>-0.223409</td>\n",
              "      <td>0.448985</td>\n",
              "      <td>-0.028394</td>\n",
              "      <td>...</td>\n",
              "      <td>0.0</td>\n",
              "      <td>0.0</td>\n",
              "      <td>-0.194527</td>\n",
              "      <td>0.561658</td>\n",
              "      <td>0.300292</td>\n",
              "      <td>0.175052</td>\n",
              "      <td>0.747128</td>\n",
              "      <td>0.498552</td>\n",
              "      <td>1.486583</td>\n",
              "      <td>1.181833</td>\n",
              "    </tr>\n",
              "    <tr>\n",
              "      <th>4</th>\n",
              "      <td>0.418668</td>\n",
              "      <td>-0.446638</td>\n",
              "      <td>-1.020433</td>\n",
              "      <td>0.0</td>\n",
              "      <td>-0.649595</td>\n",
              "      <td>0.135760</td>\n",
              "      <td>0.037136</td>\n",
              "      <td>-0.277084</td>\n",
              "      <td>0.240695</td>\n",
              "      <td>-0.028394</td>\n",
              "      <td>...</td>\n",
              "      <td>0.0</td>\n",
              "      <td>0.0</td>\n",
              "      <td>-0.655367</td>\n",
              "      <td>1.995805</td>\n",
              "      <td>0.869969</td>\n",
              "      <td>-0.577155</td>\n",
              "      <td>1.184620</td>\n",
              "      <td>-0.435474</td>\n",
              "      <td>0.220755</td>\n",
              "      <td>-0.949337</td>\n",
              "    </tr>\n",
              "  </tbody>\n",
              "</table>\n",
              "<p>5 rows × 56 columns</p>\n",
              "</div>\n",
              "      <button class=\"colab-df-convert\" onclick=\"convertToInteractive('df-016935d3-eae5-496e-a072-48e4aa7f8f1b')\"\n",
              "              title=\"Convert this dataframe to an interactive table.\"\n",
              "              style=\"display:none;\">\n",
              "        \n",
              "  <svg xmlns=\"http://www.w3.org/2000/svg\" height=\"24px\"viewBox=\"0 0 24 24\"\n",
              "       width=\"24px\">\n",
              "    <path d=\"M0 0h24v24H0V0z\" fill=\"none\"/>\n",
              "    <path d=\"M18.56 5.44l.94 2.06.94-2.06 2.06-.94-2.06-.94-.94-2.06-.94 2.06-2.06.94zm-11 1L8.5 8.5l.94-2.06 2.06-.94-2.06-.94L8.5 2.5l-.94 2.06-2.06.94zm10 10l.94 2.06.94-2.06 2.06-.94-2.06-.94-.94-2.06-.94 2.06-2.06.94z\"/><path d=\"M17.41 7.96l-1.37-1.37c-.4-.4-.92-.59-1.43-.59-.52 0-1.04.2-1.43.59L10.3 9.45l-7.72 7.72c-.78.78-.78 2.05 0 2.83L4 21.41c.39.39.9.59 1.41.59.51 0 1.02-.2 1.41-.59l7.78-7.78 2.81-2.81c.8-.78.8-2.07 0-2.86zM5.41 20L4 18.59l7.72-7.72 1.47 1.35L5.41 20z\"/>\n",
              "  </svg>\n",
              "      </button>\n",
              "      \n",
              "  <style>\n",
              "    .colab-df-container {\n",
              "      display:flex;\n",
              "      flex-wrap:wrap;\n",
              "      gap: 12px;\n",
              "    }\n",
              "\n",
              "    .colab-df-convert {\n",
              "      background-color: #E8F0FE;\n",
              "      border: none;\n",
              "      border-radius: 50%;\n",
              "      cursor: pointer;\n",
              "      display: none;\n",
              "      fill: #1967D2;\n",
              "      height: 32px;\n",
              "      padding: 0 0 0 0;\n",
              "      width: 32px;\n",
              "    }\n",
              "\n",
              "    .colab-df-convert:hover {\n",
              "      background-color: #E2EBFA;\n",
              "      box-shadow: 0px 1px 2px rgba(60, 64, 67, 0.3), 0px 1px 3px 1px rgba(60, 64, 67, 0.15);\n",
              "      fill: #174EA6;\n",
              "    }\n",
              "\n",
              "    [theme=dark] .colab-df-convert {\n",
              "      background-color: #3B4455;\n",
              "      fill: #D2E3FC;\n",
              "    }\n",
              "\n",
              "    [theme=dark] .colab-df-convert:hover {\n",
              "      background-color: #434B5C;\n",
              "      box-shadow: 0px 1px 3px 1px rgba(0, 0, 0, 0.15);\n",
              "      filter: drop-shadow(0px 1px 2px rgba(0, 0, 0, 0.3));\n",
              "      fill: #FFFFFF;\n",
              "    }\n",
              "  </style>\n",
              "\n",
              "      <script>\n",
              "        const buttonEl =\n",
              "          document.querySelector('#df-016935d3-eae5-496e-a072-48e4aa7f8f1b button.colab-df-convert');\n",
              "        buttonEl.style.display =\n",
              "          google.colab.kernel.accessAllowed ? 'block' : 'none';\n",
              "\n",
              "        async function convertToInteractive(key) {\n",
              "          const element = document.querySelector('#df-016935d3-eae5-496e-a072-48e4aa7f8f1b');\n",
              "          const dataTable =\n",
              "            await google.colab.kernel.invokeFunction('convertToInteractive',\n",
              "                                                     [key], {});\n",
              "          if (!dataTable) return;\n",
              "\n",
              "          const docLinkHtml = 'Like what you see? Visit the ' +\n",
              "            '<a target=\"_blank\" href=https://colab.research.google.com/notebooks/data_table.ipynb>data table notebook</a>'\n",
              "            + ' to learn more about interactive tables.';\n",
              "          element.innerHTML = '';\n",
              "          dataTable['output_type'] = 'display_data';\n",
              "          await google.colab.output.renderOutput(dataTable, element);\n",
              "          const docLink = document.createElement('div');\n",
              "          docLink.innerHTML = docLinkHtml;\n",
              "          element.appendChild(docLink);\n",
              "        }\n",
              "      </script>\n",
              "    </div>\n",
              "  </div>\n",
              "  "
            ]
          },
          "metadata": {},
          "execution_count": 6
        }
      ]
    }
  ],
  "metadata": {
    "kernelspec": {
      "display_name": "Python 3.9.12 ('base')",
      "language": "python",
      "name": "python3"
    },
    "language_info": {
      "codemirror_mode": {
        "name": "ipython",
        "version": 3
      },
      "file_extension": ".py",
      "mimetype": "text/x-python",
      "name": "python",
      "nbconvert_exporter": "python",
      "pygments_lexer": "ipython3",
      "version": "3.9.12"
    },
    "orig_nbformat": 4,
    "vscode": {
      "interpreter": {
        "hash": "d4d1e4263499bec80672ea0156c357c1ee493ec2b1c70f0acce89fc37c4a6abe"
      }
    },
    "colab": {
      "name": "Copy of ColumnScaler.ipynb",
      "provenance": [],
      "machine_shape": "hm"
    },
    "gpuClass": "standard"
  },
  "nbformat": 4,
  "nbformat_minor": 0
}