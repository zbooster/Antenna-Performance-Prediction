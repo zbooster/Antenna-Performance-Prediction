{
 "cells": [
  {
   "cell_type": "markdown",
   "metadata": {},
   "source": [
    "# Feature Selection 2\n",
    "- 기존 파일이 너무 커져서 새로 생성 및 정리함"
   ]
  },
  {
   "cell_type": "markdown",
   "metadata": {},
   "source": [
    "## 기본설정\n",
    "### 한글설정"
   ]
  },
  {
   "cell_type": "code",
   "execution_count": 1,
   "metadata": {},
   "outputs": [],
   "source": [
    "import matplotlib.pyplot as plt\n",
    "import matplotlib as mpl\n",
    "mpl.rcParams['axes.unicode_minus'] = False\n",
    "plt.rc('font', family='NanumGothicCoding')"
   ]
  },
  {
   "cell_type": "markdown",
   "metadata": {},
   "source": [
    "### 데이터 가져오기"
   ]
  },
  {
   "cell_type": "code",
   "execution_count": 2,
   "metadata": {},
   "outputs": [],
   "source": [
    "import os\n",
    "import gdown\n",
    "\n",
    "id = \"10Hpa4YM0KX_Ig0W9w7DbTdq62nF2UThA\"\n",
    "output = \"./open.zip\"\n",
    "\n",
    "if not os.path.isdir('./datasets'):\n",
    "  gdown.download(id=id, output=output)\n",
    "  gdown.extractall(path=output, to='./datasets')"
   ]
  },
  {
   "cell_type": "markdown",
   "metadata": {},
   "source": [
    "### 데이터프레임 만들기"
   ]
  },
  {
   "cell_type": "code",
   "execution_count": 3,
   "metadata": {},
   "outputs": [],
   "source": [
    "import os\n",
    "import glob\n",
    "import pandas as pd\n",
    "from collections import defaultdict\n",
    "\n",
    "raw_data = defaultdict(pd.DataFrame)\n",
    "\n",
    "for fname in glob.glob('./**/*.csv', recursive=True):\n",
    "    df_name = os.path.splitext(os.path.basename(fname))[0]\n",
    "    raw_data[df_name] = pd.read_csv(fname)"
   ]
  },
  {
   "cell_type": "markdown",
   "metadata": {},
   "source": [
    "## 패키지 불러오기"
   ]
  },
  {
   "cell_type": "code",
   "execution_count": 4,
   "metadata": {},
   "outputs": [],
   "source": [
    "import seaborn as sns\n",
    "\n",
    "from sklearn.pipeline import Pipeline\n",
    "from sklearn.ensemble import RandomForestRegressor\n",
    "from sklearn.feature_selection import SelectFromModel\n",
    "from sklearn.model_selection import KFold\n",
    "from sklearn.model_selection import GridSearchCV\n",
    "from sklearn.metrics import make_scorer\n",
    "from sklearn.preprocessing import FunctionTransformer\n",
    "from sklearn.preprocessing import StandardScaler\n",
    "from sklearn.preprocessing import MinMaxScaler\n",
    "from sklearn.compose import ColumnTransformer"
   ]
  },
  {
   "cell_type": "code",
   "execution_count": 5,
   "metadata": {},
   "outputs": [],
   "source": [
    "kfold = KFold(n_splits=5, shuffle=True, random_state=13)"
   ]
  },
  {
   "cell_type": "markdown",
   "metadata": {},
   "source": [
    "## 함수 선언"
   ]
  },
  {
   "cell_type": "code",
   "execution_count": 6,
   "metadata": {},
   "outputs": [],
   "source": [
    "import numpy as np\n",
    "from sklearn import metrics\n",
    "from sklearn.ensemble import IsolationForest\n",
    "\n",
    "# 데이콘에서 제공한 평가함수\n",
    "def lg_nrmse(gt, preds):\n",
    "    # 각 Y Feature별 NRMSE 총합\n",
    "    # Y_01 ~ Y_08 까지 20% 가중치 부여\n",
    "    all_nrmse = []\n",
    "    for idx in range(0,14): # ignore 'ID'\n",
    "        rmse = metrics.mean_squared_error(gt[:,idx], preds[:,idx], squared=False)\n",
    "        nrmse = rmse/np.mean(np.abs(gt[:,idx]))\n",
    "        all_nrmse.append(nrmse)\n",
    "    score = 1.2 * np.sum(all_nrmse[:8]) + 1.0 * np.sum(all_nrmse[8:14])\n",
    "    return score\n",
    "\n",
    "\n",
    "# 컬럼 인덱스 함수\n",
    "def column_index(X, column):\n",
    "    for i, v in enumerate(X.columns):\n",
    "        if v == column:\n",
    "            return i\n",
    "\n",
    "def minmax_outlier_index(cname, weight):\n",
    "    data = raw_data['train'][[cname]].copy()\n",
    "    mms = MinMaxScaler()\n",
    "    data[cname+'_mms'] = mms.fit_transform(data[cname].values.reshape(-1, 1))\n",
    "    return data[data[cname+'_mms'] > weight].index\n",
    "\n",
    "def value_outlier_index(cname, min_value, max_value):\n",
    "    data = raw_data['train'][[cname]].copy()\n",
    "    return data[(data[cname] < min_value) | (data[cname] > max_value)][cname].index\n",
    "\n",
    "def isolation_outlier_index(cname, contamination):\n",
    "    data = raw_data['train'][[cname]].copy()\n",
    "    algorithm = IsolationForest(n_estimators=100, random_state=13\n",
    "                                , contamination=contamination)\n",
    "    outlier = algorithm.fit_predict(data[cname].values.reshape(-1, 1))\n",
    "    outlier_index = [ i for i, v in enumerate(outlier) if v == -1]\n",
    "    return outlier_index"
   ]
  },
  {
   "cell_type": "markdown",
   "metadata": {},
   "source": [
    "## Feature X_31"
   ]
  },
  {
   "cell_type": "code",
   "execution_count": 7,
   "metadata": {},
   "outputs": [
    {
     "data": {
      "image/png": "[encoded data removed]",
      "text/plain": [
       "<Figure size 1008x720 with 4 Axes>"
      ]
     },
     "metadata": {
      "needs_background": "light"
     },
     "output_type": "display_data"
    }
   ],
   "source": [
    "def display_x31_plot(cname):\n",
    "    data = raw_data['train'][[cname]].copy()\n",
    "    \n",
    "    fig, ax = plt.subplots(2, 2, figsize=(14, 10))\n",
    "    # 원본 히스토그램\n",
    "    sns.histplot(x=cname, data=data, ax=ax[0][0])\n",
    "    sns.boxplot(x=cname, data=data, ax=ax[0][1])\n",
    "\n",
    "    # 이상치 삭제 후 StandardScaler적용\n",
    "    data[cname+'_std'] = data[(data[cname] > 1) & (data[cname] < 2)][cname]\n",
    "    ss = StandardScaler()\n",
    "    data[cname+'_std'] = ss.fit_transform(data[cname+'_std'].values.reshape(-1, 1))\n",
    "    sns.histplot(x=cname+'_std', data=data, ax=ax[1][0])\n",
    "    sns.boxplot(x=cname+'_std', data=data, ax=ax[1][1])\n",
    "\n",
    "    plt.show()\n",
    "\n",
    "display_x31_plot('X_31')"
   ]
  },
  {
   "cell_type": "code",
   "execution_count": 25,
   "metadata": {},
   "outputs": [
    {
     "data": {
      "text/plain": [
       "38468"
      ]
     },
     "execution_count": 25,
     "metadata": {},
     "output_type": "execute_result"
    }
   ],
   "source": [
    "train = raw_data['train'].drop(columns=['X_04', 'X_23', 'X_47', 'X_48', 'X_02', 'X_10', 'X_11', 'X_46']).copy()\n",
    "\n",
    "outlier_index = []\n",
    "outlier_index.extend(minmax_outlier_index(cname='X_38', weight=0.2))\n",
    "outlier_index.extend(minmax_outlier_index(cname='X_39', weight=0.8))\n",
    "outlier_index.extend(value_outlier_index(cname='X_31', min_value=1, max_value=2))\n",
    "outlier_index.extend(isolation_outlier_index(cname='X_07', contamination=0.013))\n",
    "outlier_index.extend(isolation_outlier_index(cname='X_14', contamination=0.001))\n",
    "outlier_index.extend(isolation_outlier_index(cname='X_22', contamination=0.001))\n",
    "outlier_index.extend(isolation_outlier_index(cname='X_24', contamination=0.003))\n",
    "outlier_index.extend(isolation_outlier_index(cname='X_25', contamination=0.002))\n",
    "outlier_index.extend(isolation_outlier_index(cname='X_26', contamination=0.003))\n",
    "outlier_index.extend(isolation_outlier_index(cname='X_50', contamination=0.002))\n",
    "outlier_index.extend(isolation_outlier_index(cname='X_51', contamination=0.002))\n",
    "outlier_index.extend(isolation_outlier_index(cname='X_52', contamination=0.002))\n",
    "outlier_index.extend(isolation_outlier_index(cname='X_53', contamination=0.002))\n",
    "outlier_index.extend(isolation_outlier_index(cname='X_54', contamination=0.002))\n",
    "outlier_index.extend(isolation_outlier_index(cname='X_55', contamination=0.002))\n",
    "outlier_index.extend(isolation_outlier_index(cname='X_56', contamination=0.002))\n",
    "train = train.drop(outlier_index, axis=0).copy()\n",
    "\n",
    "len(train)"
   ]
  },
  {
   "cell_type": "code",
   "execution_count": 26,
   "metadata": {},
   "outputs": [
    {
     "data": {
      "text/plain": [
       "(48, 44, 2, 2)"
      ]
     },
     "execution_count": 26,
     "metadata": {},
     "output_type": "execute_result"
    }
   ],
   "source": [
    "X = train.filter(regex='X')\n",
    "y = train.filter(regex='Y')\n",
    "\n",
    "lst_cols = []\n",
    "lst_cols.append(column_index(X, 'X_08'))\n",
    "lst_cols.append(column_index(X, 'X_49'))\n",
    "\n",
    "mlt_cols = []\n",
    "mlt_cols.append(column_index(X, 'X_38'))\n",
    "mlt_cols.append(column_index(X, 'X_39'))\n",
    "\n",
    "std_cols = set(X.columns) - set(['X_08', 'X_49']) - set(['X_38', 'X_39'])\n",
    "std_cols = [column_index(X, v) for v in sorted(std_cols)]\n",
    "len(X.columns), len(std_cols), len(lst_cols), len(mlt_cols)"
   ]
  },
  {
   "cell_type": "code",
   "execution_count": 27,
   "metadata": {},
   "outputs": [
    {
     "name": "stdout",
     "output_type": "stream",
     "text": [
      "Fitting 5 folds for each of 1 candidates, totalling 5 fits\n",
      "[CV 1/5] END feature_selection__max_features=20;, score=-1.942 total time= 2.3min\n",
      "[CV 2/5] END feature_selection__max_features=20;, score=-1.961 total time= 2.3min\n",
      "[CV 3/5] END feature_selection__max_features=20;, score=-1.997 total time= 2.3min\n",
      "[CV 4/5] END feature_selection__max_features=20;, score=-1.956 total time= 2.3min\n",
      "[CV 5/5] END feature_selection__max_features=20;, score=-1.962 total time= 2.3min\n"
     ]
    },
    {
     "data": {
      "text/plain": [
       "GridSearchCV(cv=KFold(n_splits=5, random_state=13, shuffle=True),\n",
       "             estimator=Pipeline(steps=[('preprocessing',\n",
       "                                        ColumnTransformer(transformers=[('lst',\n",
       "                                                                         Pipeline(steps=[('log1p',\n",
       "                                                                                          FunctionTransformer(func=<ufunc 'log1p'>)),\n",
       "                                                                                         ('std',\n",
       "                                                                                          StandardScaler())]),\n",
       "                                                                         [5,\n",
       "                                                                          40]),\n",
       "                                                                        ('mlt',\n",
       "                                                                         Pipeline(steps=[('minmax',\n",
       "                                                                                          MinMaxScaler()),\n",
       "                                                                                         ('log1p',\n",
       "                                                                                          FunctionTransformer(func=<ufunc 'log1p'>)),\n",
       "                                                                                         ('s...\n",
       "                                                                          16,\n",
       "                                                                          17,\n",
       "                                                                          18,\n",
       "                                                                          19,\n",
       "                                                                          20,\n",
       "                                                                          21,\n",
       "                                                                          22,\n",
       "                                                                          23,\n",
       "                                                                          24,\n",
       "                                                                          25,\n",
       "                                                                          26,\n",
       "                                                                          27,\n",
       "                                                                          28,\n",
       "                                                                          29,\n",
       "                                                                          30, ...])])),\n",
       "                                       ('feature_selection',\n",
       "                                        SelectFromModel(estimator=RandomForestRegressor(n_estimators=250,\n",
       "                                                                                        n_jobs=-1))),\n",
       "                                       ('regression',\n",
       "                                        RandomForestRegressor(max_depth=30,\n",
       "                                                              n_estimators=250,\n",
       "                                                              n_jobs=-1))]),\n",
       "             param_grid=[{'feature_selection__max_features': [20]}],\n",
       "             scoring=make_scorer(lg_nrmse, greater_is_better=False), verbose=3)"
      ]
     },
     "execution_count": 27,
     "metadata": {},
     "output_type": "execute_result"
    }
   ],
   "source": [
    "# log1p -> StandardScaler 파이프라인\n",
    "log_std_transformer = Pipeline(\n",
    "        steps=[\n",
    "            (\"log1p\", FunctionTransformer(np.log1p))\n",
    "          , (\"std\", StandardScaler())]\n",
    "    )\n",
    "\n",
    "# MinMax -> log1p -> StandardScaler 파이프라인\n",
    "min_log_transformer = Pipeline(\n",
    "        steps=[(\"minmax\", MinMaxScaler())\n",
    "        , (\"log1p\", FunctionTransformer(np.log1p))\n",
    "        , (\"std\", StandardScaler())]\n",
    "    )\n",
    "    \n",
    "preprocessor = ColumnTransformer(\n",
    "      transformers=[\n",
    "          (\"lst\", log_std_transformer, lst_cols),\n",
    "          (\"mlt\", min_log_transformer, mlt_cols),\n",
    "          (\"std\", StandardScaler(), std_cols)\n",
    "      ]\n",
    "    )\n",
    "\n",
    "pipe = Pipeline([\n",
    "    ('preprocessing', preprocessor),\n",
    "    ('feature_selection', SelectFromModel(estimator=RandomForestRegressor(n_estimators=250, n_jobs=-1))),\n",
    "    ('regression', RandomForestRegressor(n_estimators=250, max_depth=30, n_jobs=-1))\n",
    "])\n",
    "\n",
    "hyper_params = [{\n",
    "    'feature_selection__max_features': [20]\n",
    "    }]\n",
    "\n",
    "model_cv = GridSearchCV(pipe, hyper_params, cv=kfold, scoring=make_scorer(lg_nrmse, greater_is_better=False)\n",
    "                        , verbose=3)\n",
    "model_cv.fit(X.values, y.values)                        "
   ]
  },
  {
   "cell_type": "code",
   "execution_count": 28,
   "metadata": {},
   "outputs": [
    {
     "data": {
      "text/plain": [
       "-1.9636707613833633"
      ]
     },
     "execution_count": 28,
     "metadata": {},
     "output_type": "execute_result"
    }
   ],
   "source": [
    "model_cv.best_score_"
   ]
  },
  {
   "cell_type": "code",
   "execution_count": 29,
   "metadata": {},
   "outputs": [
    {
     "name": "stdout",
     "output_type": "stream",
     "text": [
      "base_score changed: 0.000988042637803943\n"
     ]
    }
   ],
   "source": [
    "if model_cv.best_score_ > base_score:\n",
    "    print('base_score changed: {}'.format(model_cv.best_score_ - base_score))\n",
    "    base_score = model_cv.best_score_"
   ]
  },
  {
   "cell_type": "code",
   "execution_count": 30,
   "metadata": {},
   "outputs": [
    {
     "data": {
      "text/plain": [
       "(18,\n",
       " Index(['X_01', 'X_03', 'X_08', 'X_09', 'X_13', 'X_14', 'X_22', 'X_24', 'X_25',\n",
       "        'X_26', 'X_40', 'X_50', 'X_51', 'X_52', 'X_53', 'X_54', 'X_55', 'X_56'],\n",
       "       dtype='object'))"
      ]
     },
     "execution_count": 30,
     "metadata": {},
     "output_type": "execute_result"
    }
   ],
   "source": [
    "selector = model_cv.best_estimator_['feature_selection']\n",
    "\n",
    "selected_columns = X.columns\n",
    "selected_columns = selected_columns[selector.get_support()]\n",
    "len(selected_columns), selected_columns"
   ]
  },
  {
   "cell_type": "code",
   "execution_count": 31,
   "metadata": {},
   "outputs": [
    {
     "data": {
      "image/png": "[encoded data removed]",
      "text/plain": [
       "<Figure size 864x432 with 1 Axes>"
      ]
     },
     "metadata": {
      "needs_background": "light"
     },
     "output_type": "display_data"
    }
   ],
   "source": [
    "model = model_cv.best_estimator_['regression']\n",
    "\n",
    "importances = model.feature_importances_\n",
    "std = np.std([tree.feature_importances_ for tree in model.estimators_], axis=0)\n",
    "\n",
    "forest_importances = pd.Series(importances, index=selected_columns)\n",
    "\n",
    "fig, ax = plt.subplots(figsize=(12,6))\n",
    "forest_importances.plot.bar(yerr=std, ax=ax)\n",
    "ax.set_title(\"Feature importances using MDI\")\n",
    "ax.set_ylabel(\"Mean decrease in impurity\")\n",
    "fig.tight_layout()\n"
   ]
  }
 ],
 "metadata": {
  "kernelspec": {
   "display_name": "Python 3.9.12 ('base')",
   "language": "python",
   "name": "python3"
  },
  "language_info": {
   "codemirror_mode": {
    "name": "ipython",
    "version": 3
   },
   "file_extension": ".py",
   "mimetype": "text/x-python",
   "name": "python",
   "nbconvert_exporter": "python",
   "pygments_lexer": "ipython3",
   "version": "3.9.12"
  },
  "orig_nbformat": 4,
  "vscode": {
   "interpreter": {
    "hash": "d4d1e4263499bec80672ea0156c357c1ee493ec2b1c70f0acce89fc37c4a6abe"
   }
  }
 },
 "nbformat": 4,
 "nbformat_minor": 2
}
