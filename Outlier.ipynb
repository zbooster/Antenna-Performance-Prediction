{
 "cells": [
  {
   "cell_type": "markdown",
   "metadata": {},
   "source": [
    "# 한글설정"
   ]
  },
  {
   "cell_type": "code",
   "execution_count": 13,
   "metadata": {},
   "outputs": [],
   "source": [
    "import matplotlib.pyplot as plt\n",
    "import matplotlib as mpl\n",
    "mpl.rcParams['axes.unicode_minus'] = False\n",
    "plt.rc('font', family='NanumGothicCoding')"
   ]
  },
  {
   "cell_type": "markdown",
   "metadata": {},
   "source": [
    "# 데이터 가져오기"
   ]
  },
  {
   "cell_type": "code",
   "execution_count": 14,
   "metadata": {},
   "outputs": [],
   "source": [
    "import os\n",
    "import gdown\n",
    "\n",
    "id = \"10Hpa4YM0KX_Ig0W9w7DbTdq62nF2UThA\"\n",
    "output = \"./open.zip\"\n",
    "\n",
    "if not os.path.isdir('./datasets'):\n",
    "  gdown.download(id=id, output=output)\n",
    "  gdown.extractall(path=output, to='./datasets')"
   ]
  },
  {
   "cell_type": "markdown",
   "metadata": {},
   "source": [
    "# 데이터프레임 만들기"
   ]
  },
  {
   "cell_type": "code",
   "execution_count": 15,
   "metadata": {},
   "outputs": [],
   "source": [
    "import os\n",
    "import glob\n",
    "import pandas as pd\n",
    "from collections import defaultdict\n",
    "\n",
    "raw_data = defaultdict(pd.DataFrame)\n",
    "\n",
    "for fname in glob.glob('./**/*.csv', recursive=True):\n",
    "    df_name = os.path.splitext(os.path.basename(fname))[0]\n",
    "    raw_data[df_name] = pd.read_csv(fname)"
   ]
  },
  {
   "cell_type": "markdown",
   "metadata": {},
   "source": [
    "* 정상(Normal)과 불량(Error) 데이터 분리"
   ]
  },
  {
   "cell_type": "code",
   "execution_count": 16,
   "metadata": {},
   "outputs": [],
   "source": [
    "train = raw_data['train'].copy()\n",
    "train['Status'] = 'Normal'\n",
    "for idx, val in raw_data['y_feature_spec_info'].iterrows():\n",
    "    train.loc[(train[val['Feature']] < val['최소']) | (train[val['Feature']] > val['최대']), ['Status']] = 'Error'"
   ]
  },
  {
   "cell_type": "code",
   "execution_count": 17,
   "metadata": {},
   "outputs": [
    {
     "data": {
      "image/png": "[encoded data removed]",
      "text/plain": [
       "<Figure size 432x288 with 1 Axes>"
      ]
     },
     "metadata": {
      "needs_background": "light"
     },
     "output_type": "display_data"
    }
   ],
   "source": [
    "import seaborn as sns\n",
    "\n",
    "sns.countplot(x='Status', data=train)\n",
    "plt.title('불량 판정')\n",
    "plt.show()"
   ]
  },
  {
   "cell_type": "markdown",
   "metadata": {},
   "source": [
    "* Index에 따라 불량률이 올라갈까?"
   ]
  },
  {
   "cell_type": "code",
   "execution_count": 18,
   "metadata": {},
   "outputs": [
    {
     "data": {
      "text/html": [
       "<div>\n",
       "<style scoped>\n",
       "    .dataframe tbody tr th:only-of-type {\n",
       "        vertical-align: middle;\n",
       "    }\n",
       "\n",
       "    .dataframe tbody tr th {\n",
       "        vertical-align: top;\n",
       "    }\n",
       "\n",
       "    .dataframe thead th {\n",
       "        text-align: right;\n",
       "    }\n",
       "</style>\n",
       "<table border=\"1\" class=\"dataframe\">\n",
       "  <thead>\n",
       "    <tr style=\"text-align: right;\">\n",
       "      <th></th>\n",
       "      <th>ID</th>\n",
       "      <th>Status</th>\n",
       "      <th>IDX</th>\n",
       "    </tr>\n",
       "  </thead>\n",
       "  <tbody>\n",
       "    <tr>\n",
       "      <th>0</th>\n",
       "      <td>TRAIN_00001</td>\n",
       "      <td>Error</td>\n",
       "      <td>0</td>\n",
       "    </tr>\n",
       "    <tr>\n",
       "      <th>6</th>\n",
       "      <td>TRAIN_00007</td>\n",
       "      <td>Error</td>\n",
       "      <td>0</td>\n",
       "    </tr>\n",
       "    <tr>\n",
       "      <th>9</th>\n",
       "      <td>TRAIN_00010</td>\n",
       "      <td>Error</td>\n",
       "      <td>0</td>\n",
       "    </tr>\n",
       "    <tr>\n",
       "      <th>12</th>\n",
       "      <td>TRAIN_00013</td>\n",
       "      <td>Error</td>\n",
       "      <td>0</td>\n",
       "    </tr>\n",
       "    <tr>\n",
       "      <th>14</th>\n",
       "      <td>TRAIN_00015</td>\n",
       "      <td>Error</td>\n",
       "      <td>0</td>\n",
       "    </tr>\n",
       "  </tbody>\n",
       "</table>\n",
       "</div>"
      ],
      "text/plain": [
       "             ID Status  IDX\n",
       "0   TRAIN_00001  Error    0\n",
       "6   TRAIN_00007  Error    0\n",
       "9   TRAIN_00010  Error    0\n",
       "12  TRAIN_00013  Error    0\n",
       "14  TRAIN_00015  Error    0"
      ]
     },
     "execution_count": 18,
     "metadata": {},
     "output_type": "execute_result"
    }
   ],
   "source": [
    "train_err = train[train['Status'] == 'Error'][['ID', 'Status']].copy()\n",
    "train_err['IDX'] = train_err['ID'].index // 400\n",
    "train_err.head()"
   ]
  },
  {
   "cell_type": "code",
   "execution_count": 19,
   "metadata": {},
   "outputs": [
    {
     "data": {
      "text/plain": [
       "<AxesSubplot:xlabel='IDX', ylabel='count'>"
      ]
     },
     "execution_count": 19,
     "metadata": {},
     "output_type": "execute_result"
    },
    {
     "data": {
      "image/png": "[encoded data removed]",
      "text/plain": [
       "<Figure size 432x288 with 1 Axes>"
      ]
     },
     "metadata": {
      "needs_background": "light"
     },
     "output_type": "display_data"
    }
   ],
   "source": [
    "# train_err_g = train_err.groupby(['IDX']).count().drop(columns=['Status']).copy()\n",
    "sns.countplot(x='IDX', data=train_err)"
   ]
  },
  {
   "cell_type": "markdown",
   "metadata": {},
   "source": [
    "# Outlier 찾기\n",
    "* IsolationForest를 이용하여 Outlier 찾기"
   ]
  },
  {
   "cell_type": "code",
   "execution_count": 68,
   "metadata": {},
   "outputs": [
    {
     "data": {
      "text/html": [
       "<div>\n",
       "<style scoped>\n",
       "    .dataframe tbody tr th:only-of-type {\n",
       "        vertical-align: middle;\n",
       "    }\n",
       "\n",
       "    .dataframe tbody tr th {\n",
       "        vertical-align: top;\n",
       "    }\n",
       "\n",
       "    .dataframe thead th {\n",
       "        text-align: right;\n",
       "    }\n",
       "</style>\n",
       "<table border=\"1\" class=\"dataframe\">\n",
       "  <thead>\n",
       "    <tr style=\"text-align: right;\">\n",
       "      <th></th>\n",
       "      <th>X_01</th>\n",
       "      <th>X_03</th>\n",
       "      <th>X_05</th>\n",
       "      <th>X_06</th>\n",
       "      <th>X_07</th>\n",
       "      <th>X_08</th>\n",
       "      <th>X_09</th>\n",
       "      <th>X_14</th>\n",
       "      <th>X_15</th>\n",
       "      <th>X_16</th>\n",
       "      <th>...</th>\n",
       "      <th>X_29</th>\n",
       "      <th>X_31</th>\n",
       "      <th>X_32</th>\n",
       "      <th>X_33</th>\n",
       "      <th>X_38</th>\n",
       "      <th>X_42</th>\n",
       "      <th>X_44</th>\n",
       "      <th>X_45</th>\n",
       "      <th>X_46</th>\n",
       "      <th>X_49</th>\n",
       "    </tr>\n",
       "  </thead>\n",
       "  <tbody>\n",
       "    <tr>\n",
       "      <th>0</th>\n",
       "      <td>70.544</td>\n",
       "      <td>67.47</td>\n",
       "      <td>101.892</td>\n",
       "      <td>74.983</td>\n",
       "      <td>29.45</td>\n",
       "      <td>62.38</td>\n",
       "      <td>245.71</td>\n",
       "      <td>13.34</td>\n",
       "      <td>13.37</td>\n",
       "      <td>13.40</td>\n",
       "      <td>...</td>\n",
       "      <td>2.35</td>\n",
       "      <td>1.69</td>\n",
       "      <td>1.46</td>\n",
       "      <td>1.74</td>\n",
       "      <td>-16.41</td>\n",
       "      <td>20.99</td>\n",
       "      <td>21.09</td>\n",
       "      <td>0.29</td>\n",
       "      <td>1463</td>\n",
       "      <td>9706.03</td>\n",
       "    </tr>\n",
       "    <tr>\n",
       "      <th>1</th>\n",
       "      <td>69.524</td>\n",
       "      <td>65.17</td>\n",
       "      <td>101.944</td>\n",
       "      <td>72.943</td>\n",
       "      <td>28.73</td>\n",
       "      <td>61.23</td>\n",
       "      <td>233.61</td>\n",
       "      <td>13.33</td>\n",
       "      <td>13.33</td>\n",
       "      <td>13.46</td>\n",
       "      <td>...</td>\n",
       "      <td>2.28</td>\n",
       "      <td>1.67</td>\n",
       "      <td>1.45</td>\n",
       "      <td>1.66</td>\n",
       "      <td>-16.06</td>\n",
       "      <td>21.03</td>\n",
       "      <td>21.13</td>\n",
       "      <td>0.13</td>\n",
       "      <td>1463</td>\n",
       "      <td>10423.43</td>\n",
       "    </tr>\n",
       "    <tr>\n",
       "      <th>2</th>\n",
       "      <td>72.583</td>\n",
       "      <td>64.07</td>\n",
       "      <td>103.153</td>\n",
       "      <td>72.943</td>\n",
       "      <td>28.81</td>\n",
       "      <td>105.77</td>\n",
       "      <td>272.20</td>\n",
       "      <td>13.36</td>\n",
       "      <td>13.36</td>\n",
       "      <td>13.39</td>\n",
       "      <td>...</td>\n",
       "      <td>2.26</td>\n",
       "      <td>1.69</td>\n",
       "      <td>1.46</td>\n",
       "      <td>1.68</td>\n",
       "      <td>-16.16</td>\n",
       "      <td>21.03</td>\n",
       "      <td>21.12</td>\n",
       "      <td>0.14</td>\n",
       "      <td>1468</td>\n",
       "      <td>10948.53</td>\n",
       "    </tr>\n",
       "    <tr>\n",
       "      <th>3</th>\n",
       "      <td>71.563</td>\n",
       "      <td>67.57</td>\n",
       "      <td>101.971</td>\n",
       "      <td>77.022</td>\n",
       "      <td>28.92</td>\n",
       "      <td>115.21</td>\n",
       "      <td>255.36</td>\n",
       "      <td>13.30</td>\n",
       "      <td>13.33</td>\n",
       "      <td>13.39</td>\n",
       "      <td>...</td>\n",
       "      <td>2.12</td>\n",
       "      <td>1.68</td>\n",
       "      <td>1.47</td>\n",
       "      <td>1.68</td>\n",
       "      <td>-16.05</td>\n",
       "      <td>20.98</td>\n",
       "      <td>21.09</td>\n",
       "      <td>0.22</td>\n",
       "      <td>1469</td>\n",
       "      <td>15007.03</td>\n",
       "    </tr>\n",
       "    <tr>\n",
       "      <th>4</th>\n",
       "      <td>69.524</td>\n",
       "      <td>63.57</td>\n",
       "      <td>101.981</td>\n",
       "      <td>70.904</td>\n",
       "      <td>29.68</td>\n",
       "      <td>103.38</td>\n",
       "      <td>241.46</td>\n",
       "      <td>13.35</td>\n",
       "      <td>13.34</td>\n",
       "      <td>13.41</td>\n",
       "      <td>...</td>\n",
       "      <td>2.13</td>\n",
       "      <td>1.68</td>\n",
       "      <td>1.47</td>\n",
       "      <td>1.82</td>\n",
       "      <td>-16.25</td>\n",
       "      <td>20.96</td>\n",
       "      <td>21.10</td>\n",
       "      <td>0.22</td>\n",
       "      <td>1469</td>\n",
       "      <td>11051.03</td>\n",
       "    </tr>\n",
       "  </tbody>\n",
       "</table>\n",
       "<p>5 rows × 27 columns</p>\n",
       "</div>"
      ],
      "text/plain": [
       "     X_01   X_03     X_05    X_06   X_07    X_08    X_09   X_14   X_15   X_16  \\\n",
       "0  70.544  67.47  101.892  74.983  29.45   62.38  245.71  13.34  13.37  13.40   \n",
       "1  69.524  65.17  101.944  72.943  28.73   61.23  233.61  13.33  13.33  13.46   \n",
       "2  72.583  64.07  103.153  72.943  28.81  105.77  272.20  13.36  13.36  13.39   \n",
       "3  71.563  67.57  101.971  77.022  28.92  115.21  255.36  13.30  13.33  13.39   \n",
       "4  69.524  63.57  101.981  70.904  29.68  103.38  241.46  13.35  13.34  13.41   \n",
       "\n",
       "   ...  X_29  X_31  X_32  X_33   X_38   X_42   X_44  X_45  X_46      X_49  \n",
       "0  ...  2.35  1.69  1.46  1.74 -16.41  20.99  21.09  0.29  1463   9706.03  \n",
       "1  ...  2.28  1.67  1.45  1.66 -16.06  21.03  21.13  0.13  1463  10423.43  \n",
       "2  ...  2.26  1.69  1.46  1.68 -16.16  21.03  21.12  0.14  1468  10948.53  \n",
       "3  ...  2.12  1.68  1.47  1.68 -16.05  20.98  21.09  0.22  1469  15007.03  \n",
       "4  ...  2.13  1.68  1.47  1.82 -16.25  20.96  21.10  0.22  1469  11051.03  \n",
       "\n",
       "[5 rows x 27 columns]"
      ]
     },
     "execution_count": 68,
     "metadata": {},
     "output_type": "execute_result"
    }
   ],
   "source": [
    "columns = [ 'X_01', 'X_03', 'X_05', 'X_06', 'X_07', 'X_08', 'X_09' #, 'X_10', 'X_11'\n",
    "          , 'X_14', 'X_15', 'X_16', 'X_17', 'X_18', 'X_19', 'X_20'\n",
    "          , 'X_22', 'X_26', 'X_28', 'X_29'\n",
    "          , 'X_31', 'X_32', 'X_33', 'X_38'\n",
    "          , 'X_42', 'X_44', 'X_45', 'X_46', 'X_49']\n",
    "\n",
    "train_outlier = train[columns].copy()\n",
    "train_outlier.head()"
   ]
  },
  {
   "cell_type": "code",
   "execution_count": 69,
   "metadata": {},
   "outputs": [],
   "source": [
    "from sklearn.ensemble import IsolationForest\n",
    "from collections import Counter, defaultdict\n",
    "\n",
    "# result = defaultdict(int)\n",
    "\n",
    "# contamination = 0.00001\n",
    "# for i in range(1, 10000):\n",
    "    \n",
    "#     contamination = 0.00001 * i\n",
    "#     algorithm = IsolationForest(n_estimators=100, random_state=13, contamination=contamination)\n",
    "#     outlier = algorithm.fit_predict(train_outlier.to_numpy()) \n",
    "#     cnt = Counter(outlier)\n",
    "#     if cnt[-1] not in result.values():\n",
    "#         result[i] = cnt[-1]\n",
    "#         print(\"IsolationForest[{}]: contamination={:.5f}, count={}\".format(i, contamination, cnt[-1]))\n",
    "\n",
    "#     if len(result) >= 100:\n",
    "#         break\n",
    "\n",
    "# result"
   ]
  },
  {
   "cell_type": "markdown",
   "metadata": {},
   "source": [
    "* Ourlier 100개의 contamination=0.00250"
   ]
  },
  {
   "cell_type": "code",
   "execution_count": 70,
   "metadata": {},
   "outputs": [
    {
     "data": {
      "text/plain": [
       "(39607, [0, 19, 23, 25, 46])"
      ]
     },
     "execution_count": 70,
     "metadata": {},
     "output_type": "execute_result"
    }
   ],
   "source": [
    "contamination = 0.00250\n",
    "algorithm = IsolationForest(n_estimators=100, random_state=13, contamination=contamination)\n",
    "outlier = algorithm.fit_predict(train_outlier.to_numpy()) \n",
    "\n",
    "outlier_index = [ i for i, v in enumerate(outlier) if v == -1]\n",
    "len(outlier), outlier_index[:5]"
   ]
  },
  {
   "cell_type": "code",
   "execution_count": 71,
   "metadata": {},
   "outputs": [
    {
     "data": {
      "text/plain": [
       "[0, 19]"
      ]
     },
     "execution_count": 71,
     "metadata": {},
     "output_type": "execute_result"
    }
   ],
   "source": [
    "outlier_index  = [ v for v in outlier_index if v not in [70, 280, 6213, 13585, 37911] ]\n",
    "outlier_index[:2]"
   ]
  },
  {
   "cell_type": "code",
   "execution_count": 72,
   "metadata": {},
   "outputs": [],
   "source": [
    "# outlier_list = []\n",
    "# for i in range(20):\n",
    "#     outlier_list.append(outlier_index[:(i+1)*5])\n",
    "\n",
    "# outlier_list[:2]"
   ]
  },
  {
   "cell_type": "markdown",
   "metadata": {},
   "source": [
    "# Weights & Biases 설정"
   ]
  },
  {
   "cell_type": "code",
   "execution_count": 73,
   "metadata": {},
   "outputs": [
    {
     "name": "stderr",
     "output_type": "stream",
     "text": [
      "\u001b[34m\u001b[1mwandb\u001b[0m: \u001b[33mWARNING\u001b[0m Calling wandb.login() after wandb.init() has no effect.\n"
     ]
    },
    {
     "data": {
      "text/plain": [
       "True"
      ]
     },
     "execution_count": 73,
     "metadata": {},
     "output_type": "execute_result"
    }
   ],
   "source": [
    "import wandb\n",
    "\n",
    "wandb.login()"
   ]
  },
  {
   "cell_type": "code",
   "execution_count": 74,
   "metadata": {},
   "outputs": [],
   "source": [
    "sweep_config = {\n",
    "    'method': 'grid'\n",
    "}\n",
    "\n",
    "metric = {\n",
    "    'name': 'LG_NRMSE'\n",
    "}\n",
    "\n",
    "sweep_config['metric'] = metric\n",
    "\n",
    "parameters_dict = {\n",
    "    'drop_index': {\n",
    "        'value': [ 70, 280, 6213, 13585, 37911 ]\n",
    "    },\n",
    "    'outlier': {\n",
    "        'values': outlier_index\n",
    "    },\n",
    "}\n",
    "\n",
    "sweep_config['parameters'] = parameters_dict"
   ]
  },
  {
   "cell_type": "code",
   "execution_count": 75,
   "metadata": {},
   "outputs": [
    {
     "name": "stdout",
     "output_type": "stream",
     "text": [
      "Create sweep with ID: nj4jorxe\n",
      "Sweep URL: https://wandb.ai/zbooster/Antenna_Outlier-1/sweeps/nj4jorxe\n"
     ]
    }
   ],
   "source": [
    "sweep_id = wandb.sweep(sweep_config, project=\"Antenna_Outlier-1\")"
   ]
  },
  {
   "cell_type": "markdown",
   "metadata": {},
   "source": [
    "# Feature Engineering"
   ]
  },
  {
   "cell_type": "markdown",
   "metadata": {},
   "source": [
    "## 컬럼 선택"
   ]
  },
  {
   "cell_type": "code",
   "execution_count": 76,
   "metadata": {},
   "outputs": [],
   "source": [
    "# columns = [ 'X_01', 'X_03', 'X_05', 'X_06', 'X_07', 'X_08', 'X_09', 'X_10'\n",
    "#           , 'X_11', 'X_14', 'X_15', 'X_16', 'X_17', 'X_18', 'X_19', 'X_20'\n",
    "#           , 'X_22', 'X_26', 'X_28', 'X_29'\n",
    "#           , 'X_31', 'X_32', 'X_33', 'X_38'\n",
    "#           , 'X_42', 'X_44', 'X_45', 'X_46', 'X_49']"
   ]
  },
  {
   "cell_type": "markdown",
   "metadata": {},
   "source": [
    "## Scaler"
   ]
  },
  {
   "cell_type": "code",
   "execution_count": 77,
   "metadata": {},
   "outputs": [],
   "source": [
    "import numpy as np\n",
    "from sklearn.preprocessing import MinMaxScaler\n",
    "from sklearn.preprocessing import MaxAbsScaler\n",
    "from sklearn.preprocessing import StandardScaler\n",
    "from sklearn.preprocessing import RobustScaler\n",
    "from sklearn.preprocessing import Normalizer\n",
    "from sklearn.preprocessing import QuantileTransformer\n",
    "from sklearn.preprocessing import PowerTransformer\n",
    "from sklearn.preprocessing import FunctionTransformer\n",
    "\n",
    "scaler_list = [\n",
    "    ('Unscaled', None),\n",
    "    ('Standard', StandardScaler()),\n",
    "    ('log1p', FunctionTransformer(np.log1p)),\n",
    "    ('Min-Max', MinMaxScaler()),\n",
    "    ('Min-Abs', MaxAbsScaler()),\n",
    "    ('Robust', RobustScaler(quantile_range=(25, 75))),\n",
    "    ('uniform pdf', QuantileTransformer(output_distribution=\"uniform\")),\n",
    "    ('gaussian pdf', QuantileTransformer(output_distribution=\"normal\")),\n",
    "    ('L2 normalizing', Normalizer())\n",
    "]"
   ]
  },
  {
   "cell_type": "markdown",
   "metadata": {},
   "source": [
    "# 평가함수"
   ]
  },
  {
   "cell_type": "code",
   "execution_count": 78,
   "metadata": {},
   "outputs": [],
   "source": [
    "import numpy as np\n",
    "from sklearn import metrics\n",
    "\n",
    "# 데이콘에서 제공한 평가함수\n",
    "def lg_nrmse(gt, preds):\n",
    "    # 각 Y Feature별 NRMSE 총합\n",
    "    # Y_01 ~ Y_08 까지 20% 가중치 부여\n",
    "    all_nrmse = []\n",
    "    for idx in range(0,14): # ignore 'ID'\n",
    "        rmse = metrics.mean_squared_error(gt[:,idx], preds[:,idx], squared=False)\n",
    "        nrmse = rmse/np.mean(np.abs(gt[:,idx]))\n",
    "        all_nrmse.append(nrmse)\n",
    "    score = 1.2 * np.sum(all_nrmse[:8]) + 1.0 * np.sum(all_nrmse[8:14])\n",
    "    return score, all_nrmse"
   ]
  },
  {
   "cell_type": "markdown",
   "metadata": {},
   "source": [
    "# 학습하기"
   ]
  },
  {
   "cell_type": "code",
   "execution_count": 79,
   "metadata": {},
   "outputs": [],
   "source": [
    "import time\n",
    "from sklearn.model_selection import train_test_split\n",
    "from sklearn.pipeline import make_pipeline\n",
    "from sklearn.ensemble import RandomForestRegressor\n",
    "from sklearn.model_selection import KFold\n",
    "from collections import defaultdict\n",
    "\n",
    "train = raw_data['train'].copy()\n",
    "\n",
    "def run_train(config=None):\n",
    "  with wandb.init(config=config):\n",
    "\n",
    "    config = wandb.config\n",
    "    train = raw_data['train'].copy()\n",
    "\n",
    "    # kf = KFold(shuffle=True, random_state=13)\n",
    "    result = defaultdict(list)\n",
    "\n",
    "    # Outlier 제거\n",
    "    drop_index = config.drop_index\n",
    "    drop_index.append(config.outlier)\n",
    "    train_out = train.drop(drop_index, axis=0, errors='ignore').copy()\n",
    "    # train_out = train[config.start_index:].copy()\n",
    "\n",
    "    # 데이터 나누기\n",
    "    X = train_out[columns].values\n",
    "    y = train_out.filter(regex='Y').values\n",
    "\n",
    "    X_train, X_test, y_train, y_test = train_test_split(X, y, test_size=0.2, random_state=13)\n",
    "\n",
    "    \n",
    "    # for idx, (train_index, test_index) in enumerate(kf.split(X)):\n",
    "\n",
    "    #   X_train, X_test = X[train_index], X[test_index]\n",
    "    #   y_train, y_test = y[train_index], y[test_index]\n",
    "\n",
    "    # 파이프라인 작성\n",
    "    pipe = make_pipeline( \n",
    "      RandomForestRegressor(criterion=\"squared_error\", random_state=13, n_jobs=-1\n",
    "                          , n_estimators=200 # 반복되는 테스트의 시간을 줄이기 위해 200으로 설정\n",
    "                          , max_depth=80\n",
    "                          , min_samples_leaf=2\n",
    "                          , min_samples_split=2)\n",
    "    )\n",
    "\n",
    "    # 학습하기\n",
    "    pipe.fit(X_train, y_train)\n",
    "\n",
    "    # 검증하기\n",
    "    y_pred = pipe.predict(X_test)\n",
    "\n",
    "    # 평가 및 기록\n",
    "    score, all_nrmse = lg_nrmse(y_test, y_pred)\n",
    "    result['LG_NRMSE'].append(score)\n",
    "    for i, v in enumerate(all_nrmse):\n",
    "      result['Y_%02d_NRMSE' % (i+1)].append(v)\n",
    "    \n",
    "    log_dict = defaultdict(float)\n",
    "    log_dict['LG_NRMSE_MEAN'] = np.mean(result['LG_NRMSE'])\n",
    "    log_dict['LG_NRMSE_BEST'] = min(result['LG_NRMSE'])\n",
    "    for i in range(14):\n",
    "      log_dict['Y_%02d_NRMSE' % (i+1)] = np.mean(result['Y_%02d_NRMSE' % (i+1)])\n",
    "    wandb.log(log_dict)"
   ]
  },
  {
   "cell_type": "code",
   "execution_count": 80,
   "metadata": {},
   "outputs": [
    {
     "name": "stderr",
     "output_type": "stream",
     "text": [
      "\u001b[34m\u001b[1mwandb\u001b[0m: \u001b[33mWARNING\u001b[0m Calling wandb.login() after wandb.init() has no effect.\n",
      "wandb: Waiting for W&B process to finish... (success).\n",
      "wandb:                                                                                \n",
      "wandb: Synced lemon-sweep-1: https://wandb.ai/zbooster/Antenna_Outlier-1/runs/0yfu6ww0\n",
      "wandb: Synced 6 W&B file(s), 0 media file(s), 0 artifact file(s) and 0 other file(s)\n",
      "wandb: Find logs at: ./wandb/run-20220817_061948-0yfu6ww0/logs\n",
      "\u001b[34m\u001b[1mwandb\u001b[0m: Agent Starting Run: ywurz53v with config:\n",
      "\u001b[34m\u001b[1mwandb\u001b[0m: \tdrop_index: [70, 280, 6213, 13585, 37911]\n",
      "\u001b[34m\u001b[1mwandb\u001b[0m: \toutlier: 0\n"
     ]
    },
    {
     "data": {
      "text/html": [
       "Tracking run with wandb version 0.13.1"
      ],
      "text/plain": [
       "<IPython.core.display.HTML object>"
      ]
     },
     "metadata": {},
     "output_type": "display_data"
    },
    {
     "data": {
      "text/html": [
       "Run data is saved locally in <code>/content/Antenna-Performance-Prediction/wandb/run-20220817_062022-ywurz53v</code>"
      ],
      "text/plain": [
       "<IPython.core.display.HTML object>"
      ]
     },
     "metadata": {},
     "output_type": "display_data"
    },
    {
     "data": {
      "text/html": [
       "Syncing run <strong><a href=\"https://wandb.ai/zbooster/Antenna_Outlier-1/runs/ywurz53v\" target=\"_blank\">effortless-sweep-1</a></strong> to <a href=\"https://wandb.ai/zbooster/Antenna_Outlier-1\" target=\"_blank\">Weights & Biases</a> (<a href=\"https://wandb.me/run\" target=\"_blank\">docs</a>)<br/>Sweep page:  <a href=\"https://wandb.ai/zbooster/Antenna_Outlier-1/sweeps/nj4jorxe\" target=\"_blank\">https://wandb.ai/zbooster/Antenna_Outlier-1/sweeps/nj4jorxe</a>"
      ],
      "text/plain": [
       "<IPython.core.display.HTML object>"
      ]
     },
     "metadata": {},
     "output_type": "display_data"
    },
    {
     "data": {
      "text/html": [
       "Waiting for W&B process to finish... <strong style=\"color:red\">(failed 1).</strong> Press Control-C to abort syncing."
      ],
      "text/plain": [
       "<IPython.core.display.HTML object>"
      ]
     },
     "metadata": {},
     "output_type": "display_data"
    },
    {
     "data": {
      "application/vnd.jupyter.widget-view+json": {
       "model_id": "8a2559f5e98448f8baeee16ba8d7e867",
       "version_major": 2,
       "version_minor": 0
      },
      "text/plain": [
       "VBox(children=(Label(value='0.000 MB of 0.000 MB uploaded (0.000 MB deduped)\\r'), FloatProgress(value=1.0, max…"
      ]
     },
     "metadata": {},
     "output_type": "display_data"
    },
    {
     "data": {
      "text/html": [
       "<style>\n",
       "    table.wandb td:nth-child(1) { padding: 0 10px; text-align: left ; width: auto;} td:nth-child(2) {text-align: left ; width: 100%}\n",
       "    .wandb-row { display: flex; flex-direction: row; flex-wrap: wrap; justify-content: flex-start; width: 100% }\n",
       "    .wandb-col { display: flex; flex-direction: column; flex-basis: 100%; flex: 1; padding: 10px; }\n",
       "    </style>\n",
       "<div class=\"wandb-row\"><div class=\"wandb-col\"><h3>Run history:</h3><br/><table class=\"wandb\"><tr><td>LG_NRMSE_BEST</td><td>▁</td></tr><tr><td>LG_NRMSE_MEAN</td><td>▁</td></tr><tr><td>Y_01_NRMSE</td><td>▁</td></tr><tr><td>Y_02_NRMSE</td><td>▁</td></tr><tr><td>Y_03_NRMSE</td><td>▁</td></tr><tr><td>Y_04_NRMSE</td><td>▁</td></tr><tr><td>Y_05_NRMSE</td><td>▁</td></tr><tr><td>Y_06_NRMSE</td><td>▁</td></tr><tr><td>Y_07_NRMSE</td><td>▁</td></tr><tr><td>Y_08_NRMSE</td><td>▁</td></tr><tr><td>Y_09_NRMSE</td><td>▁</td></tr><tr><td>Y_10_NRMSE</td><td>▁</td></tr><tr><td>Y_11_NRMSE</td><td>▁</td></tr><tr><td>Y_12_NRMSE</td><td>▁</td></tr><tr><td>Y_13_NRMSE</td><td>▁</td></tr><tr><td>Y_14_NRMSE</td><td>▁</td></tr></table><br/></div><div class=\"wandb-col\"><h3>Run summary:</h3><br/><table class=\"wandb\"><tr><td>LG_NRMSE_BEST</td><td>1.93799</td></tr><tr><td>LG_NRMSE_MEAN</td><td>1.93799</td></tr><tr><td>Y_01_NRMSE</td><td>0.2532</td></tr><tr><td>Y_02_NRMSE</td><td>0.35077</td></tr><tr><td>Y_03_NRMSE</td><td>0.34318</td></tr><tr><td>Y_04_NRMSE</td><td>0.18697</td></tr><tr><td>Y_05_NRMSE</td><td>0.07964</td></tr><tr><td>Y_06_NRMSE</td><td>0.10551</td></tr><tr><td>Y_07_NRMSE</td><td>0.13128</td></tr><tr><td>Y_08_NRMSE</td><td>0.02424</td></tr><tr><td>Y_09_NRMSE</td><td>0.02394</td></tr><tr><td>Y_10_NRMSE</td><td>0.03854</td></tr><tr><td>Y_11_NRMSE</td><td>0.03365</td></tr><tr><td>Y_12_NRMSE</td><td>0.02404</td></tr><tr><td>Y_13_NRMSE</td><td>0.02401</td></tr><tr><td>Y_14_NRMSE</td><td>0.02406</td></tr></table><br/></div></div>"
      ],
      "text/plain": [
       "<IPython.core.display.HTML object>"
      ]
     },
     "metadata": {},
     "output_type": "display_data"
    },
    {
     "data": {
      "text/html": [
       "Synced <strong style=\"color:#cdcd00\">effortless-sweep-1</strong>: <a href=\"https://wandb.ai/zbooster/Antenna_Outlier-1/runs/ywurz53v\" target=\"_blank\">https://wandb.ai/zbooster/Antenna_Outlier-1/runs/ywurz53v</a><br/>Synced 5 W&B file(s), 0 media file(s), 0 artifact file(s) and 0 other file(s)"
      ],
      "text/plain": [
       "<IPython.core.display.HTML object>"
      ]
     },
     "metadata": {},
     "output_type": "display_data"
    },
    {
     "data": {
      "text/html": [
       "Find logs at: <code>./wandb/run-20220817_062022-ywurz53v/logs</code>"
      ],
      "text/plain": [
       "<IPython.core.display.HTML object>"
      ]
     },
     "metadata": {},
     "output_type": "display_data"
    },
    {
     "name": "stderr",
     "output_type": "stream",
     "text": [
      "\u001b[34m\u001b[1mwandb\u001b[0m: \u001b[32m\u001b[41mERROR\u001b[0m Run ywurz53v errored: Error('You must call wandb.init() before wandb.log()')\n",
      "\u001b[34m\u001b[1mwandb\u001b[0m: Agent Starting Run: 1dtb0h49 with config:\n",
      "\u001b[34m\u001b[1mwandb\u001b[0m: \tdrop_index: [70, 280, 6213, 13585, 37911]\n",
      "\u001b[34m\u001b[1mwandb\u001b[0m: \toutlier: 19\n"
     ]
    },
    {
     "data": {
      "text/html": [
       "Tracking run with wandb version 0.13.1"
      ],
      "text/plain": [
       "<IPython.core.display.HTML object>"
      ]
     },
     "metadata": {},
     "output_type": "display_data"
    },
    {
     "data": {
      "text/html": [
       "Run data is saved locally in <code>/content/Antenna-Performance-Prediction/wandb/run-20220817_062111-1dtb0h49</code>"
      ],
      "text/plain": [
       "<IPython.core.display.HTML object>"
      ]
     },
     "metadata": {},
     "output_type": "display_data"
    },
    {
     "data": {
      "text/html": [
       "Syncing run <strong><a href=\"https://wandb.ai/zbooster/Antenna_Outlier-1/runs/1dtb0h49\" target=\"_blank\">happy-sweep-2</a></strong> to <a href=\"https://wandb.ai/zbooster/Antenna_Outlier-1\" target=\"_blank\">Weights & Biases</a> (<a href=\"https://wandb.me/run\" target=\"_blank\">docs</a>)<br/>Sweep page:  <a href=\"https://wandb.ai/zbooster/Antenna_Outlier-1/sweeps/nj4jorxe\" target=\"_blank\">https://wandb.ai/zbooster/Antenna_Outlier-1/sweeps/nj4jorxe</a>"
      ],
      "text/plain": [
       "<IPython.core.display.HTML object>"
      ]
     },
     "metadata": {},
     "output_type": "display_data"
    },
    {
     "data": {
      "text/html": [
       "Waiting for W&B process to finish... <strong style=\"color:green\">(success).</strong>"
      ],
      "text/plain": [
       "<IPython.core.display.HTML object>"
      ]
     },
     "metadata": {},
     "output_type": "display_data"
    },
    {
     "data": {
      "application/vnd.jupyter.widget-view+json": {
       "model_id": "c3d53256726248879b447379ee74e3f8",
       "version_major": 2,
       "version_minor": 0
      },
      "text/plain": [
       "VBox(children=(Label(value='0.001 MB of 0.001 MB uploaded (0.000 MB deduped)\\r'), FloatProgress(value=1.0, max…"
      ]
     },
     "metadata": {},
     "output_type": "display_data"
    },
    {
     "data": {
      "text/html": [
       "<style>\n",
       "    table.wandb td:nth-child(1) { padding: 0 10px; text-align: left ; width: auto;} td:nth-child(2) {text-align: left ; width: 100%}\n",
       "    .wandb-row { display: flex; flex-direction: row; flex-wrap: wrap; justify-content: flex-start; width: 100% }\n",
       "    .wandb-col { display: flex; flex-direction: column; flex-basis: 100%; flex: 1; padding: 10px; }\n",
       "    </style>\n",
       "<div class=\"wandb-row\"><div class=\"wandb-col\"><h3>Run history:</h3><br/><table class=\"wandb\"><tr><td>LG_NRMSE_BEST</td><td>▁</td></tr><tr><td>LG_NRMSE_MEAN</td><td>▁</td></tr><tr><td>Y_01_NRMSE</td><td>▁</td></tr><tr><td>Y_02_NRMSE</td><td>▁</td></tr><tr><td>Y_03_NRMSE</td><td>▁</td></tr><tr><td>Y_04_NRMSE</td><td>▁</td></tr><tr><td>Y_05_NRMSE</td><td>▁</td></tr><tr><td>Y_06_NRMSE</td><td>▁</td></tr><tr><td>Y_07_NRMSE</td><td>▁</td></tr><tr><td>Y_08_NRMSE</td><td>▁</td></tr><tr><td>Y_09_NRMSE</td><td>▁</td></tr><tr><td>Y_10_NRMSE</td><td>▁</td></tr><tr><td>Y_11_NRMSE</td><td>▁</td></tr><tr><td>Y_12_NRMSE</td><td>▁</td></tr><tr><td>Y_13_NRMSE</td><td>▁</td></tr><tr><td>Y_14_NRMSE</td><td>▁</td></tr></table><br/></div><div class=\"wandb-col\"><h3>Run summary:</h3><br/><table class=\"wandb\"><tr><td>LG_NRMSE_BEST</td><td>1.93786</td></tr><tr><td>LG_NRMSE_MEAN</td><td>1.93786</td></tr><tr><td>Y_01_NRMSE</td><td>0.25322</td></tr><tr><td>Y_02_NRMSE</td><td>0.35072</td></tr><tr><td>Y_03_NRMSE</td><td>0.34317</td></tr><tr><td>Y_04_NRMSE</td><td>0.18708</td></tr><tr><td>Y_05_NRMSE</td><td>0.07966</td></tr><tr><td>Y_06_NRMSE</td><td>0.10542</td></tr><tr><td>Y_07_NRMSE</td><td>0.13124</td></tr><tr><td>Y_08_NRMSE</td><td>0.02424</td></tr><tr><td>Y_09_NRMSE</td><td>0.02392</td></tr><tr><td>Y_10_NRMSE</td><td>0.03854</td></tr><tr><td>Y_11_NRMSE</td><td>0.03363</td></tr><tr><td>Y_12_NRMSE</td><td>0.02403</td></tr><tr><td>Y_13_NRMSE</td><td>0.024</td></tr><tr><td>Y_14_NRMSE</td><td>0.02405</td></tr></table><br/></div></div>"
      ],
      "text/plain": [
       "<IPython.core.display.HTML object>"
      ]
     },
     "metadata": {},
     "output_type": "display_data"
    },
    {
     "data": {
      "text/html": [
       "Synced <strong style=\"color:#cdcd00\">happy-sweep-2</strong>: <a href=\"https://wandb.ai/zbooster/Antenna_Outlier-1/runs/1dtb0h49\" target=\"_blank\">https://wandb.ai/zbooster/Antenna_Outlier-1/runs/1dtb0h49</a><br/>Synced 5 W&B file(s), 0 media file(s), 0 artifact file(s) and 0 other file(s)"
      ],
      "text/plain": [
       "<IPython.core.display.HTML object>"
      ]
     },
     "metadata": {},
     "output_type": "display_data"
    },
    {
     "data": {
      "text/html": [
       "Find logs at: <code>./wandb/run-20220817_062111-1dtb0h49/logs</code>"
      ],
      "text/plain": [
       "<IPython.core.display.HTML object>"
      ]
     },
     "metadata": {},
     "output_type": "display_data"
    },
    {
     "name": "stderr",
     "output_type": "stream",
     "text": [
      "\u001b[34m\u001b[1mwandb\u001b[0m: Agent Starting Run: vlt0tvzq with config:\n",
      "\u001b[34m\u001b[1mwandb\u001b[0m: \tdrop_index: [70, 280, 6213, 13585, 37911]\n",
      "\u001b[34m\u001b[1mwandb\u001b[0m: \toutlier: 23\n"
     ]
    },
    {
     "data": {
      "text/html": [
       "Tracking run with wandb version 0.13.1"
      ],
      "text/plain": [
       "<IPython.core.display.HTML object>"
      ]
     },
     "metadata": {},
     "output_type": "display_data"
    },
    {
     "data": {
      "text/html": [
       "Run data is saved locally in <code>/content/Antenna-Performance-Prediction/wandb/run-20220817_062159-vlt0tvzq</code>"
      ],
      "text/plain": [
       "<IPython.core.display.HTML object>"
      ]
     },
     "metadata": {},
     "output_type": "display_data"
    },
    {
     "data": {
      "text/html": [
       "Syncing run <strong><a href=\"https://wandb.ai/zbooster/Antenna_Outlier-1/runs/vlt0tvzq\" target=\"_blank\">crisp-sweep-3</a></strong> to <a href=\"https://wandb.ai/zbooster/Antenna_Outlier-1\" target=\"_blank\">Weights & Biases</a> (<a href=\"https://wandb.me/run\" target=\"_blank\">docs</a>)<br/>Sweep page:  <a href=\"https://wandb.ai/zbooster/Antenna_Outlier-1/sweeps/nj4jorxe\" target=\"_blank\">https://wandb.ai/zbooster/Antenna_Outlier-1/sweeps/nj4jorxe</a>"
      ],
      "text/plain": [
       "<IPython.core.display.HTML object>"
      ]
     },
     "metadata": {},
     "output_type": "display_data"
    },
    {
     "data": {
      "text/html": [
       "Waiting for W&B process to finish... <strong style=\"color:green\">(success).</strong>"
      ],
      "text/plain": [
       "<IPython.core.display.HTML object>"
      ]
     },
     "metadata": {},
     "output_type": "display_data"
    },
    {
     "data": {
      "application/vnd.jupyter.widget-view+json": {
       "model_id": "42b52910f8ab458fba634fd27644e802",
       "version_major": 2,
       "version_minor": 0
      },
      "text/plain": [
       "VBox(children=(Label(value='0.001 MB of 0.001 MB uploaded (0.000 MB deduped)\\r'), FloatProgress(value=1.0, max…"
      ]
     },
     "metadata": {},
     "output_type": "display_data"
    },
    {
     "data": {
      "text/html": [
       "<style>\n",
       "    table.wandb td:nth-child(1) { padding: 0 10px; text-align: left ; width: auto;} td:nth-child(2) {text-align: left ; width: 100%}\n",
       "    .wandb-row { display: flex; flex-direction: row; flex-wrap: wrap; justify-content: flex-start; width: 100% }\n",
       "    .wandb-col { display: flex; flex-direction: column; flex-basis: 100%; flex: 1; padding: 10px; }\n",
       "    </style>\n",
       "<div class=\"wandb-row\"><div class=\"wandb-col\"><h3>Run history:</h3><br/><table class=\"wandb\"><tr><td>LG_NRMSE_BEST</td><td>▁</td></tr><tr><td>LG_NRMSE_MEAN</td><td>▁</td></tr><tr><td>Y_01_NRMSE</td><td>▁</td></tr><tr><td>Y_02_NRMSE</td><td>▁</td></tr><tr><td>Y_03_NRMSE</td><td>▁</td></tr><tr><td>Y_04_NRMSE</td><td>▁</td></tr><tr><td>Y_05_NRMSE</td><td>▁</td></tr><tr><td>Y_06_NRMSE</td><td>▁</td></tr><tr><td>Y_07_NRMSE</td><td>▁</td></tr><tr><td>Y_08_NRMSE</td><td>▁</td></tr><tr><td>Y_09_NRMSE</td><td>▁</td></tr><tr><td>Y_10_NRMSE</td><td>▁</td></tr><tr><td>Y_11_NRMSE</td><td>▁</td></tr><tr><td>Y_12_NRMSE</td><td>▁</td></tr><tr><td>Y_13_NRMSE</td><td>▁</td></tr><tr><td>Y_14_NRMSE</td><td>▁</td></tr></table><br/></div><div class=\"wandb-col\"><h3>Run summary:</h3><br/><table class=\"wandb\"><tr><td>LG_NRMSE_BEST</td><td>1.93792</td></tr><tr><td>LG_NRMSE_MEAN</td><td>1.93792</td></tr><tr><td>Y_01_NRMSE</td><td>0.25321</td></tr><tr><td>Y_02_NRMSE</td><td>0.35072</td></tr><tr><td>Y_03_NRMSE</td><td>0.3432</td></tr><tr><td>Y_04_NRMSE</td><td>0.18707</td></tr><tr><td>Y_05_NRMSE</td><td>0.07966</td></tr><tr><td>Y_06_NRMSE</td><td>0.10543</td></tr><tr><td>Y_07_NRMSE</td><td>0.13124</td></tr><tr><td>Y_08_NRMSE</td><td>0.02424</td></tr><tr><td>Y_09_NRMSE</td><td>0.02392</td></tr><tr><td>Y_10_NRMSE</td><td>0.03855</td></tr><tr><td>Y_11_NRMSE</td><td>0.03363</td></tr><tr><td>Y_12_NRMSE</td><td>0.02403</td></tr><tr><td>Y_13_NRMSE</td><td>0.024</td></tr><tr><td>Y_14_NRMSE</td><td>0.02405</td></tr></table><br/></div></div>"
      ],
      "text/plain": [
       "<IPython.core.display.HTML object>"
      ]
     },
     "metadata": {},
     "output_type": "display_data"
    },
    {
     "data": {
      "text/html": [
       "Synced <strong style=\"color:#cdcd00\">crisp-sweep-3</strong>: <a href=\"https://wandb.ai/zbooster/Antenna_Outlier-1/runs/vlt0tvzq\" target=\"_blank\">https://wandb.ai/zbooster/Antenna_Outlier-1/runs/vlt0tvzq</a><br/>Synced 5 W&B file(s), 0 media file(s), 0 artifact file(s) and 0 other file(s)"
      ],
      "text/plain": [
       "<IPython.core.display.HTML object>"
      ]
     },
     "metadata": {},
     "output_type": "display_data"
    },
    {
     "data": {
      "text/html": [
       "Find logs at: <code>./wandb/run-20220817_062159-vlt0tvzq/logs</code>"
      ],
      "text/plain": [
       "<IPython.core.display.HTML object>"
      ]
     },
     "metadata": {},
     "output_type": "display_data"
    },
    {
     "name": "stderr",
     "output_type": "stream",
     "text": [
      "\u001b[34m\u001b[1mwandb\u001b[0m: Agent Starting Run: vwxtxbn9 with config:\n",
      "\u001b[34m\u001b[1mwandb\u001b[0m: \tdrop_index: [70, 280, 6213, 13585, 37911]\n",
      "\u001b[34m\u001b[1mwandb\u001b[0m: \toutlier: 25\n"
     ]
    },
    {
     "data": {
      "text/html": [
       "Tracking run with wandb version 0.13.1"
      ],
      "text/plain": [
       "<IPython.core.display.HTML object>"
      ]
     },
     "metadata": {},
     "output_type": "display_data"
    },
    {
     "data": {
      "text/html": [
       "Run data is saved locally in <code>/content/Antenna-Performance-Prediction/wandb/run-20220817_062246-vwxtxbn9</code>"
      ],
      "text/plain": [
       "<IPython.core.display.HTML object>"
      ]
     },
     "metadata": {},
     "output_type": "display_data"
    },
    {
     "data": {
      "text/html": [
       "Syncing run <strong><a href=\"https://wandb.ai/zbooster/Antenna_Outlier-1/runs/vwxtxbn9\" target=\"_blank\">upbeat-sweep-4</a></strong> to <a href=\"https://wandb.ai/zbooster/Antenna_Outlier-1\" target=\"_blank\">Weights & Biases</a> (<a href=\"https://wandb.me/run\" target=\"_blank\">docs</a>)<br/>Sweep page:  <a href=\"https://wandb.ai/zbooster/Antenna_Outlier-1/sweeps/nj4jorxe\" target=\"_blank\">https://wandb.ai/zbooster/Antenna_Outlier-1/sweeps/nj4jorxe</a>"
      ],
      "text/plain": [
       "<IPython.core.display.HTML object>"
      ]
     },
     "metadata": {},
     "output_type": "display_data"
    },
    {
     "data": {
      "text/html": [
       "Waiting for W&B process to finish... <strong style=\"color:green\">(success).</strong>"
      ],
      "text/plain": [
       "<IPython.core.display.HTML object>"
      ]
     },
     "metadata": {},
     "output_type": "display_data"
    },
    {
     "data": {
      "application/vnd.jupyter.widget-view+json": {
       "model_id": "dc9eed67080b4874979c2cc30261f942",
       "version_major": 2,
       "version_minor": 0
      },
      "text/plain": [
       "VBox(children=(Label(value='0.001 MB of 0.001 MB uploaded (0.000 MB deduped)\\r'), FloatProgress(value=1.0, max…"
      ]
     },
     "metadata": {},
     "output_type": "display_data"
    },
    {
     "data": {
      "text/html": [
       "<style>\n",
       "    table.wandb td:nth-child(1) { padding: 0 10px; text-align: left ; width: auto;} td:nth-child(2) {text-align: left ; width: 100%}\n",
       "    .wandb-row { display: flex; flex-direction: row; flex-wrap: wrap; justify-content: flex-start; width: 100% }\n",
       "    .wandb-col { display: flex; flex-direction: column; flex-basis: 100%; flex: 1; padding: 10px; }\n",
       "    </style>\n",
       "<div class=\"wandb-row\"><div class=\"wandb-col\"><h3>Run history:</h3><br/><table class=\"wandb\"><tr><td>LG_NRMSE_BEST</td><td>▁</td></tr><tr><td>LG_NRMSE_MEAN</td><td>▁</td></tr><tr><td>Y_01_NRMSE</td><td>▁</td></tr><tr><td>Y_02_NRMSE</td><td>▁</td></tr><tr><td>Y_03_NRMSE</td><td>▁</td></tr><tr><td>Y_04_NRMSE</td><td>▁</td></tr><tr><td>Y_05_NRMSE</td><td>▁</td></tr><tr><td>Y_06_NRMSE</td><td>▁</td></tr><tr><td>Y_07_NRMSE</td><td>▁</td></tr><tr><td>Y_08_NRMSE</td><td>▁</td></tr><tr><td>Y_09_NRMSE</td><td>▁</td></tr><tr><td>Y_10_NRMSE</td><td>▁</td></tr><tr><td>Y_11_NRMSE</td><td>▁</td></tr><tr><td>Y_12_NRMSE</td><td>▁</td></tr><tr><td>Y_13_NRMSE</td><td>▁</td></tr><tr><td>Y_14_NRMSE</td><td>▁</td></tr></table><br/></div><div class=\"wandb-col\"><h3>Run summary:</h3><br/><table class=\"wandb\"><tr><td>LG_NRMSE_BEST</td><td>1.93801</td></tr><tr><td>LG_NRMSE_MEAN</td><td>1.93801</td></tr><tr><td>Y_01_NRMSE</td><td>0.25321</td></tr><tr><td>Y_02_NRMSE</td><td>0.35074</td></tr><tr><td>Y_03_NRMSE</td><td>0.34322</td></tr><tr><td>Y_04_NRMSE</td><td>0.18708</td></tr><tr><td>Y_05_NRMSE</td><td>0.07967</td></tr><tr><td>Y_06_NRMSE</td><td>0.10543</td></tr><tr><td>Y_07_NRMSE</td><td>0.13125</td></tr><tr><td>Y_08_NRMSE</td><td>0.02424</td></tr><tr><td>Y_09_NRMSE</td><td>0.02393</td></tr><tr><td>Y_10_NRMSE</td><td>0.03855</td></tr><tr><td>Y_11_NRMSE</td><td>0.03364</td></tr><tr><td>Y_12_NRMSE</td><td>0.02403</td></tr><tr><td>Y_13_NRMSE</td><td>0.02401</td></tr><tr><td>Y_14_NRMSE</td><td>0.02405</td></tr></table><br/></div></div>"
      ],
      "text/plain": [
       "<IPython.core.display.HTML object>"
      ]
     },
     "metadata": {},
     "output_type": "display_data"
    },
    {
     "data": {
      "text/html": [
       "Synced <strong style=\"color:#cdcd00\">upbeat-sweep-4</strong>: <a href=\"https://wandb.ai/zbooster/Antenna_Outlier-1/runs/vwxtxbn9\" target=\"_blank\">https://wandb.ai/zbooster/Antenna_Outlier-1/runs/vwxtxbn9</a><br/>Synced 5 W&B file(s), 0 media file(s), 0 artifact file(s) and 0 other file(s)"
      ],
      "text/plain": [
       "<IPython.core.display.HTML object>"
      ]
     },
     "metadata": {},
     "output_type": "display_data"
    },
    {
     "data": {
      "text/html": [
       "Find logs at: <code>./wandb/run-20220817_062246-vwxtxbn9/logs</code>"
      ],
      "text/plain": [
       "<IPython.core.display.HTML object>"
      ]
     },
     "metadata": {},
     "output_type": "display_data"
    },
    {
     "name": "stderr",
     "output_type": "stream",
     "text": [
      "\u001b[34m\u001b[1mwandb\u001b[0m: Agent Starting Run: 0x75tfr9 with config:\n",
      "\u001b[34m\u001b[1mwandb\u001b[0m: \tdrop_index: [70, 280, 6213, 13585, 37911]\n",
      "\u001b[34m\u001b[1mwandb\u001b[0m: \toutlier: 46\n"
     ]
    },
    {
     "data": {
      "text/html": [
       "Tracking run with wandb version 0.13.1"
      ],
      "text/plain": [
       "<IPython.core.display.HTML object>"
      ]
     },
     "metadata": {},
     "output_type": "display_data"
    },
    {
     "data": {
      "text/html": [
       "Run data is saved locally in <code>/content/Antenna-Performance-Prediction/wandb/run-20220817_062334-0x75tfr9</code>"
      ],
      "text/plain": [
       "<IPython.core.display.HTML object>"
      ]
     },
     "metadata": {},
     "output_type": "display_data"
    },
    {
     "data": {
      "text/html": [
       "Syncing run <strong><a href=\"https://wandb.ai/zbooster/Antenna_Outlier-1/runs/0x75tfr9\" target=\"_blank\">warm-sweep-5</a></strong> to <a href=\"https://wandb.ai/zbooster/Antenna_Outlier-1\" target=\"_blank\">Weights & Biases</a> (<a href=\"https://wandb.me/run\" target=\"_blank\">docs</a>)<br/>Sweep page:  <a href=\"https://wandb.ai/zbooster/Antenna_Outlier-1/sweeps/nj4jorxe\" target=\"_blank\">https://wandb.ai/zbooster/Antenna_Outlier-1/sweeps/nj4jorxe</a>"
      ],
      "text/plain": [
       "<IPython.core.display.HTML object>"
      ]
     },
     "metadata": {},
     "output_type": "display_data"
    },
    {
     "data": {
      "text/html": [
       "Waiting for W&B process to finish... <strong style=\"color:green\">(success).</strong>"
      ],
      "text/plain": [
       "<IPython.core.display.HTML object>"
      ]
     },
     "metadata": {},
     "output_type": "display_data"
    },
    {
     "data": {
      "application/vnd.jupyter.widget-view+json": {
       "model_id": "8d92e055d2ca4acb87895dd34398debf",
       "version_major": 2,
       "version_minor": 0
      },
      "text/plain": [
       "VBox(children=(Label(value='0.001 MB of 0.001 MB uploaded (0.000 MB deduped)\\r'), FloatProgress(value=1.0, max…"
      ]
     },
     "metadata": {},
     "output_type": "display_data"
    },
    {
     "data": {
      "text/html": [
       "<style>\n",
       "    table.wandb td:nth-child(1) { padding: 0 10px; text-align: left ; width: auto;} td:nth-child(2) {text-align: left ; width: 100%}\n",
       "    .wandb-row { display: flex; flex-direction: row; flex-wrap: wrap; justify-content: flex-start; width: 100% }\n",
       "    .wandb-col { display: flex; flex-direction: column; flex-basis: 100%; flex: 1; padding: 10px; }\n",
       "    </style>\n",
       "<div class=\"wandb-row\"><div class=\"wandb-col\"><h3>Run history:</h3><br/><table class=\"wandb\"><tr><td>LG_NRMSE_BEST</td><td>▁</td></tr><tr><td>LG_NRMSE_MEAN</td><td>▁</td></tr><tr><td>Y_01_NRMSE</td><td>▁</td></tr><tr><td>Y_02_NRMSE</td><td>▁</td></tr><tr><td>Y_03_NRMSE</td><td>▁</td></tr><tr><td>Y_04_NRMSE</td><td>▁</td></tr><tr><td>Y_05_NRMSE</td><td>▁</td></tr><tr><td>Y_06_NRMSE</td><td>▁</td></tr><tr><td>Y_07_NRMSE</td><td>▁</td></tr><tr><td>Y_08_NRMSE</td><td>▁</td></tr><tr><td>Y_09_NRMSE</td><td>▁</td></tr><tr><td>Y_10_NRMSE</td><td>▁</td></tr><tr><td>Y_11_NRMSE</td><td>▁</td></tr><tr><td>Y_12_NRMSE</td><td>▁</td></tr><tr><td>Y_13_NRMSE</td><td>▁</td></tr><tr><td>Y_14_NRMSE</td><td>▁</td></tr></table><br/></div><div class=\"wandb-col\"><h3>Run summary:</h3><br/><table class=\"wandb\"><tr><td>LG_NRMSE_BEST</td><td>1.93765</td></tr><tr><td>LG_NRMSE_MEAN</td><td>1.93765</td></tr><tr><td>Y_01_NRMSE</td><td>0.25317</td></tr><tr><td>Y_02_NRMSE</td><td>0.35056</td></tr><tr><td>Y_03_NRMSE</td><td>0.34313</td></tr><tr><td>Y_04_NRMSE</td><td>0.18706</td></tr><tr><td>Y_05_NRMSE</td><td>0.07966</td></tr><tr><td>Y_06_NRMSE</td><td>0.10545</td></tr><tr><td>Y_07_NRMSE</td><td>0.13126</td></tr><tr><td>Y_08_NRMSE</td><td>0.02424</td></tr><tr><td>Y_09_NRMSE</td><td>0.02392</td></tr><tr><td>Y_10_NRMSE</td><td>0.03855</td></tr><tr><td>Y_11_NRMSE</td><td>0.03364</td></tr><tr><td>Y_12_NRMSE</td><td>0.02403</td></tr><tr><td>Y_13_NRMSE</td><td>0.024</td></tr><tr><td>Y_14_NRMSE</td><td>0.02405</td></tr></table><br/></div></div>"
      ],
      "text/plain": [
       "<IPython.core.display.HTML object>"
      ]
     },
     "metadata": {},
     "output_type": "display_data"
    },
    {
     "data": {
      "text/html": [
       "Synced <strong style=\"color:#cdcd00\">warm-sweep-5</strong>: <a href=\"https://wandb.ai/zbooster/Antenna_Outlier-1/runs/0x75tfr9\" target=\"_blank\">https://wandb.ai/zbooster/Antenna_Outlier-1/runs/0x75tfr9</a><br/>Synced 5 W&B file(s), 0 media file(s), 0 artifact file(s) and 0 other file(s)"
      ],
      "text/plain": [
       "<IPython.core.display.HTML object>"
      ]
     },
     "metadata": {},
     "output_type": "display_data"
    },
    {
     "data": {
      "text/html": [
       "Find logs at: <code>./wandb/run-20220817_062334-0x75tfr9/logs</code>"
      ],
      "text/plain": [
       "<IPython.core.display.HTML object>"
      ]
     },
     "metadata": {},
     "output_type": "display_data"
    },
    {
     "name": "stderr",
     "output_type": "stream",
     "text": [
      "\u001b[34m\u001b[1mwandb\u001b[0m: Agent Starting Run: aze3wxme with config:\n",
      "\u001b[34m\u001b[1mwandb\u001b[0m: \tdrop_index: [70, 280, 6213, 13585, 37911]\n",
      "\u001b[34m\u001b[1mwandb\u001b[0m: \toutlier: 62\n"
     ]
    },
    {
     "data": {
      "text/html": [
       "Tracking run with wandb version 0.13.1"
      ],
      "text/plain": [
       "<IPython.core.display.HTML object>"
      ]
     },
     "metadata": {},
     "output_type": "display_data"
    },
    {
     "data": {
      "text/html": [
       "Run data is saved locally in <code>/content/Antenna-Performance-Prediction/wandb/run-20220817_062421-aze3wxme</code>"
      ],
      "text/plain": [
       "<IPython.core.display.HTML object>"
      ]
     },
     "metadata": {},
     "output_type": "display_data"
    },
    {
     "data": {
      "text/html": [
       "Syncing run <strong><a href=\"https://wandb.ai/zbooster/Antenna_Outlier-1/runs/aze3wxme\" target=\"_blank\">drawn-sweep-6</a></strong> to <a href=\"https://wandb.ai/zbooster/Antenna_Outlier-1\" target=\"_blank\">Weights & Biases</a> (<a href=\"https://wandb.me/run\" target=\"_blank\">docs</a>)<br/>Sweep page:  <a href=\"https://wandb.ai/zbooster/Antenna_Outlier-1/sweeps/nj4jorxe\" target=\"_blank\">https://wandb.ai/zbooster/Antenna_Outlier-1/sweeps/nj4jorxe</a>"
      ],
      "text/plain": [
       "<IPython.core.display.HTML object>"
      ]
     },
     "metadata": {},
     "output_type": "display_data"
    },
    {
     "data": {
      "text/html": [
       "Waiting for W&B process to finish... <strong style=\"color:green\">(success).</strong>"
      ],
      "text/plain": [
       "<IPython.core.display.HTML object>"
      ]
     },
     "metadata": {},
     "output_type": "display_data"
    },
    {
     "data": {
      "application/vnd.jupyter.widget-view+json": {
       "model_id": "68ec325e19a143a8ac7046f40de9ee3e",
       "version_major": 2,
       "version_minor": 0
      },
      "text/plain": [
       "VBox(children=(Label(value='0.001 MB of 0.001 MB uploaded (0.000 MB deduped)\\r'), FloatProgress(value=1.0, max…"
      ]
     },
     "metadata": {},
     "output_type": "display_data"
    },
    {
     "data": {
      "text/html": [
       "<style>\n",
       "    table.wandb td:nth-child(1) { padding: 0 10px; text-align: left ; width: auto;} td:nth-child(2) {text-align: left ; width: 100%}\n",
       "    .wandb-row { display: flex; flex-direction: row; flex-wrap: wrap; justify-content: flex-start; width: 100% }\n",
       "    .wandb-col { display: flex; flex-direction: column; flex-basis: 100%; flex: 1; padding: 10px; }\n",
       "    </style>\n",
       "<div class=\"wandb-row\"><div class=\"wandb-col\"><h3>Run history:</h3><br/><table class=\"wandb\"><tr><td>LG_NRMSE_BEST</td><td>▁</td></tr><tr><td>LG_NRMSE_MEAN</td><td>▁</td></tr><tr><td>Y_01_NRMSE</td><td>▁</td></tr><tr><td>Y_02_NRMSE</td><td>▁</td></tr><tr><td>Y_03_NRMSE</td><td>▁</td></tr><tr><td>Y_04_NRMSE</td><td>▁</td></tr><tr><td>Y_05_NRMSE</td><td>▁</td></tr><tr><td>Y_06_NRMSE</td><td>▁</td></tr><tr><td>Y_07_NRMSE</td><td>▁</td></tr><tr><td>Y_08_NRMSE</td><td>▁</td></tr><tr><td>Y_09_NRMSE</td><td>▁</td></tr><tr><td>Y_10_NRMSE</td><td>▁</td></tr><tr><td>Y_11_NRMSE</td><td>▁</td></tr><tr><td>Y_12_NRMSE</td><td>▁</td></tr><tr><td>Y_13_NRMSE</td><td>▁</td></tr><tr><td>Y_14_NRMSE</td><td>▁</td></tr></table><br/></div><div class=\"wandb-col\"><h3>Run summary:</h3><br/><table class=\"wandb\"><tr><td>LG_NRMSE_BEST</td><td>1.93805</td></tr><tr><td>LG_NRMSE_MEAN</td><td>1.93805</td></tr><tr><td>Y_01_NRMSE</td><td>0.25326</td></tr><tr><td>Y_02_NRMSE</td><td>0.35072</td></tr><tr><td>Y_03_NRMSE</td><td>0.34319</td></tr><tr><td>Y_04_NRMSE</td><td>0.18705</td></tr><tr><td>Y_05_NRMSE</td><td>0.07966</td></tr><tr><td>Y_06_NRMSE</td><td>0.10547</td></tr><tr><td>Y_07_NRMSE</td><td>0.13128</td></tr><tr><td>Y_08_NRMSE</td><td>0.02424</td></tr><tr><td>Y_09_NRMSE</td><td>0.02393</td></tr><tr><td>Y_10_NRMSE</td><td>0.03855</td></tr><tr><td>Y_11_NRMSE</td><td>0.03364</td></tr><tr><td>Y_12_NRMSE</td><td>0.02403</td></tr><tr><td>Y_13_NRMSE</td><td>0.02401</td></tr><tr><td>Y_14_NRMSE</td><td>0.02406</td></tr></table><br/></div></div>"
      ],
      "text/plain": [
       "<IPython.core.display.HTML object>"
      ]
     },
     "metadata": {},
     "output_type": "display_data"
    },
    {
     "data": {
      "text/html": [
       "Synced <strong style=\"color:#cdcd00\">drawn-sweep-6</strong>: <a href=\"https://wandb.ai/zbooster/Antenna_Outlier-1/runs/aze3wxme\" target=\"_blank\">https://wandb.ai/zbooster/Antenna_Outlier-1/runs/aze3wxme</a><br/>Synced 5 W&B file(s), 0 media file(s), 0 artifact file(s) and 0 other file(s)"
      ],
      "text/plain": [
       "<IPython.core.display.HTML object>"
      ]
     },
     "metadata": {},
     "output_type": "display_data"
    },
    {
     "data": {
      "text/html": [
       "Find logs at: <code>./wandb/run-20220817_062421-aze3wxme/logs</code>"
      ],
      "text/plain": [
       "<IPython.core.display.HTML object>"
      ]
     },
     "metadata": {},
     "output_type": "display_data"
    },
    {
     "name": "stderr",
     "output_type": "stream",
     "text": [
      "\u001b[34m\u001b[1mwandb\u001b[0m: Agent Starting Run: jxs1hdzv with config:\n",
      "\u001b[34m\u001b[1mwandb\u001b[0m: \tdrop_index: [70, 280, 6213, 13585, 37911]\n",
      "\u001b[34m\u001b[1mwandb\u001b[0m: \toutlier: 74\n"
     ]
    },
    {
     "data": {
      "text/html": [
       "Tracking run with wandb version 0.13.1"
      ],
      "text/plain": [
       "<IPython.core.display.HTML object>"
      ]
     },
     "metadata": {},
     "output_type": "display_data"
    },
    {
     "data": {
      "text/html": [
       "Run data is saved locally in <code>/content/Antenna-Performance-Prediction/wandb/run-20220817_062508-jxs1hdzv</code>"
      ],
      "text/plain": [
       "<IPython.core.display.HTML object>"
      ]
     },
     "metadata": {},
     "output_type": "display_data"
    },
    {
     "data": {
      "text/html": [
       "Syncing run <strong><a href=\"https://wandb.ai/zbooster/Antenna_Outlier-1/runs/jxs1hdzv\" target=\"_blank\">avid-sweep-7</a></strong> to <a href=\"https://wandb.ai/zbooster/Antenna_Outlier-1\" target=\"_blank\">Weights & Biases</a> (<a href=\"https://wandb.me/run\" target=\"_blank\">docs</a>)<br/>Sweep page:  <a href=\"https://wandb.ai/zbooster/Antenna_Outlier-1/sweeps/nj4jorxe\" target=\"_blank\">https://wandb.ai/zbooster/Antenna_Outlier-1/sweeps/nj4jorxe</a>"
      ],
      "text/plain": [
       "<IPython.core.display.HTML object>"
      ]
     },
     "metadata": {},
     "output_type": "display_data"
    },
    {
     "data": {
      "text/html": [
       "Waiting for W&B process to finish... <strong style=\"color:green\">(success).</strong>"
      ],
      "text/plain": [
       "<IPython.core.display.HTML object>"
      ]
     },
     "metadata": {},
     "output_type": "display_data"
    },
    {
     "data": {
      "application/vnd.jupyter.widget-view+json": {
       "model_id": "7da7a37bb5144638ad1be928eee6e2b3",
       "version_major": 2,
       "version_minor": 0
      },
      "text/plain": [
       "VBox(children=(Label(value='0.001 MB of 0.001 MB uploaded (0.000 MB deduped)\\r'), FloatProgress(value=1.0, max…"
      ]
     },
     "metadata": {},
     "output_type": "display_data"
    },
    {
     "data": {
      "text/html": [
       "<style>\n",
       "    table.wandb td:nth-child(1) { padding: 0 10px; text-align: left ; width: auto;} td:nth-child(2) {text-align: left ; width: 100%}\n",
       "    .wandb-row { display: flex; flex-direction: row; flex-wrap: wrap; justify-content: flex-start; width: 100% }\n",
       "    .wandb-col { display: flex; flex-direction: column; flex-basis: 100%; flex: 1; padding: 10px; }\n",
       "    </style>\n",
       "<div class=\"wandb-row\"><div class=\"wandb-col\"><h3>Run history:</h3><br/><table class=\"wandb\"><tr><td>LG_NRMSE_BEST</td><td>▁</td></tr><tr><td>LG_NRMSE_MEAN</td><td>▁</td></tr><tr><td>Y_01_NRMSE</td><td>▁</td></tr><tr><td>Y_02_NRMSE</td><td>▁</td></tr><tr><td>Y_03_NRMSE</td><td>▁</td></tr><tr><td>Y_04_NRMSE</td><td>▁</td></tr><tr><td>Y_05_NRMSE</td><td>▁</td></tr><tr><td>Y_06_NRMSE</td><td>▁</td></tr><tr><td>Y_07_NRMSE</td><td>▁</td></tr><tr><td>Y_08_NRMSE</td><td>▁</td></tr><tr><td>Y_09_NRMSE</td><td>▁</td></tr><tr><td>Y_10_NRMSE</td><td>▁</td></tr><tr><td>Y_11_NRMSE</td><td>▁</td></tr><tr><td>Y_12_NRMSE</td><td>▁</td></tr><tr><td>Y_13_NRMSE</td><td>▁</td></tr><tr><td>Y_14_NRMSE</td><td>▁</td></tr></table><br/></div><div class=\"wandb-col\"><h3>Run summary:</h3><br/><table class=\"wandb\"><tr><td>LG_NRMSE_BEST</td><td>1.9379</td></tr><tr><td>LG_NRMSE_MEAN</td><td>1.9379</td></tr><tr><td>Y_01_NRMSE</td><td>0.25314</td></tr><tr><td>Y_02_NRMSE</td><td>0.35071</td></tr><tr><td>Y_03_NRMSE</td><td>0.34315</td></tr><tr><td>Y_04_NRMSE</td><td>0.18704</td></tr><tr><td>Y_05_NRMSE</td><td>0.07967</td></tr><tr><td>Y_06_NRMSE</td><td>0.10545</td></tr><tr><td>Y_07_NRMSE</td><td>0.13131</td></tr><tr><td>Y_08_NRMSE</td><td>0.02425</td></tr><tr><td>Y_09_NRMSE</td><td>0.02393</td></tr><tr><td>Y_10_NRMSE</td><td>0.03855</td></tr><tr><td>Y_11_NRMSE</td><td>0.03364</td></tr><tr><td>Y_12_NRMSE</td><td>0.02404</td></tr><tr><td>Y_13_NRMSE</td><td>0.02401</td></tr><tr><td>Y_14_NRMSE</td><td>0.02406</td></tr></table><br/></div></div>"
      ],
      "text/plain": [
       "<IPython.core.display.HTML object>"
      ]
     },
     "metadata": {},
     "output_type": "display_data"
    },
    {
     "data": {
      "text/html": [
       "Synced <strong style=\"color:#cdcd00\">avid-sweep-7</strong>: <a href=\"https://wandb.ai/zbooster/Antenna_Outlier-1/runs/jxs1hdzv\" target=\"_blank\">https://wandb.ai/zbooster/Antenna_Outlier-1/runs/jxs1hdzv</a><br/>Synced 5 W&B file(s), 0 media file(s), 0 artifact file(s) and 0 other file(s)"
      ],
      "text/plain": [
       "<IPython.core.display.HTML object>"
      ]
     },
     "metadata": {},
     "output_type": "display_data"
    },
    {
     "data": {
      "text/html": [
       "Find logs at: <code>./wandb/run-20220817_062508-jxs1hdzv/logs</code>"
      ],
      "text/plain": [
       "<IPython.core.display.HTML object>"
      ]
     },
     "metadata": {},
     "output_type": "display_data"
    },
    {
     "name": "stderr",
     "output_type": "stream",
     "text": [
      "\u001b[34m\u001b[1mwandb\u001b[0m: Agent Starting Run: 0054mfbl with config:\n",
      "\u001b[34m\u001b[1mwandb\u001b[0m: \tdrop_index: [70, 280, 6213, 13585, 37911]\n",
      "\u001b[34m\u001b[1mwandb\u001b[0m: \toutlier: 76\n"
     ]
    },
    {
     "data": {
      "text/html": [
       "Tracking run with wandb version 0.13.1"
      ],
      "text/plain": [
       "<IPython.core.display.HTML object>"
      ]
     },
     "metadata": {},
     "output_type": "display_data"
    },
    {
     "data": {
      "text/html": [
       "Run data is saved locally in <code>/content/Antenna-Performance-Prediction/wandb/run-20220817_062555-0054mfbl</code>"
      ],
      "text/plain": [
       "<IPython.core.display.HTML object>"
      ]
     },
     "metadata": {},
     "output_type": "display_data"
    },
    {
     "data": {
      "text/html": [
       "Syncing run <strong><a href=\"https://wandb.ai/zbooster/Antenna_Outlier-1/runs/0054mfbl\" target=\"_blank\">lively-sweep-8</a></strong> to <a href=\"https://wandb.ai/zbooster/Antenna_Outlier-1\" target=\"_blank\">Weights & Biases</a> (<a href=\"https://wandb.me/run\" target=\"_blank\">docs</a>)<br/>Sweep page:  <a href=\"https://wandb.ai/zbooster/Antenna_Outlier-1/sweeps/nj4jorxe\" target=\"_blank\">https://wandb.ai/zbooster/Antenna_Outlier-1/sweeps/nj4jorxe</a>"
      ],
      "text/plain": [
       "<IPython.core.display.HTML object>"
      ]
     },
     "metadata": {},
     "output_type": "display_data"
    },
    {
     "data": {
      "text/html": [
       "Waiting for W&B process to finish... <strong style=\"color:green\">(success).</strong>"
      ],
      "text/plain": [
       "<IPython.core.display.HTML object>"
      ]
     },
     "metadata": {},
     "output_type": "display_data"
    },
    {
     "data": {
      "application/vnd.jupyter.widget-view+json": {
       "model_id": "5c3a0031e3424adca8867cd2615c50ef",
       "version_major": 2,
       "version_minor": 0
      },
      "text/plain": [
       "VBox(children=(Label(value='0.001 MB of 0.001 MB uploaded (0.000 MB deduped)\\r'), FloatProgress(value=1.0, max…"
      ]
     },
     "metadata": {},
     "output_type": "display_data"
    },
    {
     "data": {
      "text/html": [
       "<style>\n",
       "    table.wandb td:nth-child(1) { padding: 0 10px; text-align: left ; width: auto;} td:nth-child(2) {text-align: left ; width: 100%}\n",
       "    .wandb-row { display: flex; flex-direction: row; flex-wrap: wrap; justify-content: flex-start; width: 100% }\n",
       "    .wandb-col { display: flex; flex-direction: column; flex-basis: 100%; flex: 1; padding: 10px; }\n",
       "    </style>\n",
       "<div class=\"wandb-row\"><div class=\"wandb-col\"><h3>Run history:</h3><br/><table class=\"wandb\"><tr><td>LG_NRMSE_BEST</td><td>▁</td></tr><tr><td>LG_NRMSE_MEAN</td><td>▁</td></tr><tr><td>Y_01_NRMSE</td><td>▁</td></tr><tr><td>Y_02_NRMSE</td><td>▁</td></tr><tr><td>Y_03_NRMSE</td><td>▁</td></tr><tr><td>Y_04_NRMSE</td><td>▁</td></tr><tr><td>Y_05_NRMSE</td><td>▁</td></tr><tr><td>Y_06_NRMSE</td><td>▁</td></tr><tr><td>Y_07_NRMSE</td><td>▁</td></tr><tr><td>Y_08_NRMSE</td><td>▁</td></tr><tr><td>Y_09_NRMSE</td><td>▁</td></tr><tr><td>Y_10_NRMSE</td><td>▁</td></tr><tr><td>Y_11_NRMSE</td><td>▁</td></tr><tr><td>Y_12_NRMSE</td><td>▁</td></tr><tr><td>Y_13_NRMSE</td><td>▁</td></tr><tr><td>Y_14_NRMSE</td><td>▁</td></tr></table><br/></div><div class=\"wandb-col\"><h3>Run summary:</h3><br/><table class=\"wandb\"><tr><td>LG_NRMSE_BEST</td><td>1.93789</td></tr><tr><td>LG_NRMSE_MEAN</td><td>1.93789</td></tr><tr><td>Y_01_NRMSE</td><td>0.25315</td></tr><tr><td>Y_02_NRMSE</td><td>0.35072</td></tr><tr><td>Y_03_NRMSE</td><td>0.34315</td></tr><tr><td>Y_04_NRMSE</td><td>0.18703</td></tr><tr><td>Y_05_NRMSE</td><td>0.07967</td></tr><tr><td>Y_06_NRMSE</td><td>0.10545</td></tr><tr><td>Y_07_NRMSE</td><td>0.13131</td></tr><tr><td>Y_08_NRMSE</td><td>0.02424</td></tr><tr><td>Y_09_NRMSE</td><td>0.02393</td></tr><tr><td>Y_10_NRMSE</td><td>0.03855</td></tr><tr><td>Y_11_NRMSE</td><td>0.03364</td></tr><tr><td>Y_12_NRMSE</td><td>0.02403</td></tr><tr><td>Y_13_NRMSE</td><td>0.02401</td></tr><tr><td>Y_14_NRMSE</td><td>0.02406</td></tr></table><br/></div></div>"
      ],
      "text/plain": [
       "<IPython.core.display.HTML object>"
      ]
     },
     "metadata": {},
     "output_type": "display_data"
    },
    {
     "data": {
      "text/html": [
       "Synced <strong style=\"color:#cdcd00\">lively-sweep-8</strong>: <a href=\"https://wandb.ai/zbooster/Antenna_Outlier-1/runs/0054mfbl\" target=\"_blank\">https://wandb.ai/zbooster/Antenna_Outlier-1/runs/0054mfbl</a><br/>Synced 5 W&B file(s), 0 media file(s), 0 artifact file(s) and 0 other file(s)"
      ],
      "text/plain": [
       "<IPython.core.display.HTML object>"
      ]
     },
     "metadata": {},
     "output_type": "display_data"
    },
    {
     "data": {
      "text/html": [
       "Find logs at: <code>./wandb/run-20220817_062555-0054mfbl/logs</code>"
      ],
      "text/plain": [
       "<IPython.core.display.HTML object>"
      ]
     },
     "metadata": {},
     "output_type": "display_data"
    },
    {
     "name": "stderr",
     "output_type": "stream",
     "text": [
      "\u001b[34m\u001b[1mwandb\u001b[0m: Agent Starting Run: owpa2tjx with config:\n",
      "\u001b[34m\u001b[1mwandb\u001b[0m: \tdrop_index: [70, 280, 6213, 13585, 37911]\n",
      "\u001b[34m\u001b[1mwandb\u001b[0m: \toutlier: 98\n"
     ]
    },
    {
     "data": {
      "text/html": [
       "Tracking run with wandb version 0.13.1"
      ],
      "text/plain": [
       "<IPython.core.display.HTML object>"
      ]
     },
     "metadata": {},
     "output_type": "display_data"
    },
    {
     "data": {
      "text/html": [
       "Run data is saved locally in <code>/content/Antenna-Performance-Prediction/wandb/run-20220817_062642-owpa2tjx</code>"
      ],
      "text/plain": [
       "<IPython.core.display.HTML object>"
      ]
     },
     "metadata": {},
     "output_type": "display_data"
    },
    {
     "data": {
      "text/html": [
       "Syncing run <strong><a href=\"https://wandb.ai/zbooster/Antenna_Outlier-1/runs/owpa2tjx\" target=\"_blank\">fresh-sweep-9</a></strong> to <a href=\"https://wandb.ai/zbooster/Antenna_Outlier-1\" target=\"_blank\">Weights & Biases</a> (<a href=\"https://wandb.me/run\" target=\"_blank\">docs</a>)<br/>Sweep page:  <a href=\"https://wandb.ai/zbooster/Antenna_Outlier-1/sweeps/nj4jorxe\" target=\"_blank\">https://wandb.ai/zbooster/Antenna_Outlier-1/sweeps/nj4jorxe</a>"
      ],
      "text/plain": [
       "<IPython.core.display.HTML object>"
      ]
     },
     "metadata": {},
     "output_type": "display_data"
    },
    {
     "data": {
      "text/html": [
       "Waiting for W&B process to finish... <strong style=\"color:green\">(success).</strong>"
      ],
      "text/plain": [
       "<IPython.core.display.HTML object>"
      ]
     },
     "metadata": {},
     "output_type": "display_data"
    },
    {
     "data": {
      "application/vnd.jupyter.widget-view+json": {
       "model_id": "a5ef0b071c7740d180c7c6e8b216e64e",
       "version_major": 2,
       "version_minor": 0
      },
      "text/plain": [
       "VBox(children=(Label(value='0.001 MB of 0.001 MB uploaded (0.000 MB deduped)\\r'), FloatProgress(value=1.0, max…"
      ]
     },
     "metadata": {},
     "output_type": "display_data"
    },
    {
     "data": {
      "text/html": [
       "<style>\n",
       "    table.wandb td:nth-child(1) { padding: 0 10px; text-align: left ; width: auto;} td:nth-child(2) {text-align: left ; width: 100%}\n",
       "    .wandb-row { display: flex; flex-direction: row; flex-wrap: wrap; justify-content: flex-start; width: 100% }\n",
       "    .wandb-col { display: flex; flex-direction: column; flex-basis: 100%; flex: 1; padding: 10px; }\n",
       "    </style>\n",
       "<div class=\"wandb-row\"><div class=\"wandb-col\"><h3>Run history:</h3><br/><table class=\"wandb\"><tr><td>LG_NRMSE_BEST</td><td>▁</td></tr><tr><td>LG_NRMSE_MEAN</td><td>▁</td></tr><tr><td>Y_01_NRMSE</td><td>▁</td></tr><tr><td>Y_02_NRMSE</td><td>▁</td></tr><tr><td>Y_03_NRMSE</td><td>▁</td></tr><tr><td>Y_04_NRMSE</td><td>▁</td></tr><tr><td>Y_05_NRMSE</td><td>▁</td></tr><tr><td>Y_06_NRMSE</td><td>▁</td></tr><tr><td>Y_07_NRMSE</td><td>▁</td></tr><tr><td>Y_08_NRMSE</td><td>▁</td></tr><tr><td>Y_09_NRMSE</td><td>▁</td></tr><tr><td>Y_10_NRMSE</td><td>▁</td></tr><tr><td>Y_11_NRMSE</td><td>▁</td></tr><tr><td>Y_12_NRMSE</td><td>▁</td></tr><tr><td>Y_13_NRMSE</td><td>▁</td></tr><tr><td>Y_14_NRMSE</td><td>▁</td></tr></table><br/></div><div class=\"wandb-col\"><h3>Run summary:</h3><br/><table class=\"wandb\"><tr><td>LG_NRMSE_BEST</td><td>1.93836</td></tr><tr><td>LG_NRMSE_MEAN</td><td>1.93836</td></tr><tr><td>Y_01_NRMSE</td><td>0.25318</td></tr><tr><td>Y_02_NRMSE</td><td>0.3508</td></tr><tr><td>Y_03_NRMSE</td><td>0.34322</td></tr><tr><td>Y_04_NRMSE</td><td>0.18705</td></tr><tr><td>Y_05_NRMSE</td><td>0.07967</td></tr><tr><td>Y_06_NRMSE</td><td>0.10556</td></tr><tr><td>Y_07_NRMSE</td><td>0.13131</td></tr><tr><td>Y_08_NRMSE</td><td>0.02426</td></tr><tr><td>Y_09_NRMSE</td><td>0.02395</td></tr><tr><td>Y_10_NRMSE</td><td>0.03857</td></tr><tr><td>Y_11_NRMSE</td><td>0.03365</td></tr><tr><td>Y_12_NRMSE</td><td>0.02405</td></tr><tr><td>Y_13_NRMSE</td><td>0.02402</td></tr><tr><td>Y_14_NRMSE</td><td>0.02407</td></tr></table><br/></div></div>"
      ],
      "text/plain": [
       "<IPython.core.display.HTML object>"
      ]
     },
     "metadata": {},
     "output_type": "display_data"
    },
    {
     "data": {
      "text/html": [
       "Synced <strong style=\"color:#cdcd00\">fresh-sweep-9</strong>: <a href=\"https://wandb.ai/zbooster/Antenna_Outlier-1/runs/owpa2tjx\" target=\"_blank\">https://wandb.ai/zbooster/Antenna_Outlier-1/runs/owpa2tjx</a><br/>Synced 5 W&B file(s), 0 media file(s), 0 artifact file(s) and 0 other file(s)"
      ],
      "text/plain": [
       "<IPython.core.display.HTML object>"
      ]
     },
     "metadata": {},
     "output_type": "display_data"
    },
    {
     "data": {
      "text/html": [
       "Find logs at: <code>./wandb/run-20220817_062642-owpa2tjx/logs</code>"
      ],
      "text/plain": [
       "<IPython.core.display.HTML object>"
      ]
     },
     "metadata": {},
     "output_type": "display_data"
    },
    {
     "name": "stderr",
     "output_type": "stream",
     "text": [
      "\u001b[34m\u001b[1mwandb\u001b[0m: Agent Starting Run: uln7ghzp with config:\n",
      "\u001b[34m\u001b[1mwandb\u001b[0m: \tdrop_index: [70, 280, 6213, 13585, 37911]\n",
      "\u001b[34m\u001b[1mwandb\u001b[0m: \toutlier: 215\n"
     ]
    },
    {
     "data": {
      "text/html": [
       "Tracking run with wandb version 0.13.1"
      ],
      "text/plain": [
       "<IPython.core.display.HTML object>"
      ]
     },
     "metadata": {},
     "output_type": "display_data"
    },
    {
     "data": {
      "text/html": [
       "Run data is saved locally in <code>/content/Antenna-Performance-Prediction/wandb/run-20220817_062730-uln7ghzp</code>"
      ],
      "text/plain": [
       "<IPython.core.display.HTML object>"
      ]
     },
     "metadata": {},
     "output_type": "display_data"
    },
    {
     "data": {
      "text/html": [
       "Syncing run <strong><a href=\"https://wandb.ai/zbooster/Antenna_Outlier-1/runs/uln7ghzp\" target=\"_blank\">vital-sweep-10</a></strong> to <a href=\"https://wandb.ai/zbooster/Antenna_Outlier-1\" target=\"_blank\">Weights & Biases</a> (<a href=\"https://wandb.me/run\" target=\"_blank\">docs</a>)<br/>Sweep page:  <a href=\"https://wandb.ai/zbooster/Antenna_Outlier-1/sweeps/nj4jorxe\" target=\"_blank\">https://wandb.ai/zbooster/Antenna_Outlier-1/sweeps/nj4jorxe</a>"
      ],
      "text/plain": [
       "<IPython.core.display.HTML object>"
      ]
     },
     "metadata": {},
     "output_type": "display_data"
    },
    {
     "data": {
      "text/html": [
       "Waiting for W&B process to finish... <strong style=\"color:green\">(success).</strong>"
      ],
      "text/plain": [
       "<IPython.core.display.HTML object>"
      ]
     },
     "metadata": {},
     "output_type": "display_data"
    },
    {
     "data": {
      "application/vnd.jupyter.widget-view+json": {
       "model_id": "e8ddcc139f0c4335b406f69d0e86ef25",
       "version_major": 2,
       "version_minor": 0
      },
      "text/plain": [
       "VBox(children=(Label(value='0.001 MB of 0.001 MB uploaded (0.000 MB deduped)\\r'), FloatProgress(value=1.0, max…"
      ]
     },
     "metadata": {},
     "output_type": "display_data"
    },
    {
     "data": {
      "text/html": [
       "<style>\n",
       "    table.wandb td:nth-child(1) { padding: 0 10px; text-align: left ; width: auto;} td:nth-child(2) {text-align: left ; width: 100%}\n",
       "    .wandb-row { display: flex; flex-direction: row; flex-wrap: wrap; justify-content: flex-start; width: 100% }\n",
       "    .wandb-col { display: flex; flex-direction: column; flex-basis: 100%; flex: 1; padding: 10px; }\n",
       "    </style>\n",
       "<div class=\"wandb-row\"><div class=\"wandb-col\"><h3>Run history:</h3><br/><table class=\"wandb\"><tr><td>LG_NRMSE_BEST</td><td>▁</td></tr><tr><td>LG_NRMSE_MEAN</td><td>▁</td></tr><tr><td>Y_01_NRMSE</td><td>▁</td></tr><tr><td>Y_02_NRMSE</td><td>▁</td></tr><tr><td>Y_03_NRMSE</td><td>▁</td></tr><tr><td>Y_04_NRMSE</td><td>▁</td></tr><tr><td>Y_05_NRMSE</td><td>▁</td></tr><tr><td>Y_06_NRMSE</td><td>▁</td></tr><tr><td>Y_07_NRMSE</td><td>▁</td></tr><tr><td>Y_08_NRMSE</td><td>▁</td></tr><tr><td>Y_09_NRMSE</td><td>▁</td></tr><tr><td>Y_10_NRMSE</td><td>▁</td></tr><tr><td>Y_11_NRMSE</td><td>▁</td></tr><tr><td>Y_12_NRMSE</td><td>▁</td></tr><tr><td>Y_13_NRMSE</td><td>▁</td></tr><tr><td>Y_14_NRMSE</td><td>▁</td></tr></table><br/></div><div class=\"wandb-col\"><h3>Run summary:</h3><br/><table class=\"wandb\"><tr><td>LG_NRMSE_BEST</td><td>1.93736</td></tr><tr><td>LG_NRMSE_MEAN</td><td>1.93736</td></tr><tr><td>Y_01_NRMSE</td><td>0.25282</td></tr><tr><td>Y_02_NRMSE</td><td>0.3505</td></tr><tr><td>Y_03_NRMSE</td><td>0.34277</td></tr><tr><td>Y_04_NRMSE</td><td>0.18723</td></tr><tr><td>Y_05_NRMSE</td><td>0.07972</td></tr><tr><td>Y_06_NRMSE</td><td>0.10552</td></tr><tr><td>Y_07_NRMSE</td><td>0.13138</td></tr><tr><td>Y_08_NRMSE</td><td>0.02425</td></tr><tr><td>Y_09_NRMSE</td><td>0.02394</td></tr><tr><td>Y_10_NRMSE</td><td>0.03858</td></tr><tr><td>Y_11_NRMSE</td><td>0.03367</td></tr><tr><td>Y_12_NRMSE</td><td>0.02405</td></tr><tr><td>Y_13_NRMSE</td><td>0.02402</td></tr><tr><td>Y_14_NRMSE</td><td>0.02406</td></tr></table><br/></div></div>"
      ],
      "text/plain": [
       "<IPython.core.display.HTML object>"
      ]
     },
     "metadata": {},
     "output_type": "display_data"
    },
    {
     "data": {
      "text/html": [
       "Synced <strong style=\"color:#cdcd00\">vital-sweep-10</strong>: <a href=\"https://wandb.ai/zbooster/Antenna_Outlier-1/runs/uln7ghzp\" target=\"_blank\">https://wandb.ai/zbooster/Antenna_Outlier-1/runs/uln7ghzp</a><br/>Synced 5 W&B file(s), 0 media file(s), 0 artifact file(s) and 0 other file(s)"
      ],
      "text/plain": [
       "<IPython.core.display.HTML object>"
      ]
     },
     "metadata": {},
     "output_type": "display_data"
    },
    {
     "data": {
      "text/html": [
       "Find logs at: <code>./wandb/run-20220817_062730-uln7ghzp/logs</code>"
      ],
      "text/plain": [
       "<IPython.core.display.HTML object>"
      ]
     },
     "metadata": {},
     "output_type": "display_data"
    },
    {
     "name": "stderr",
     "output_type": "stream",
     "text": [
      "\u001b[34m\u001b[1mwandb\u001b[0m: Agent Starting Run: e3cxr3st with config:\n",
      "\u001b[34m\u001b[1mwandb\u001b[0m: \tdrop_index: [70, 280, 6213, 13585, 37911]\n",
      "\u001b[34m\u001b[1mwandb\u001b[0m: \toutlier: 219\n"
     ]
    },
    {
     "data": {
      "text/html": [
       "Tracking run with wandb version 0.13.1"
      ],
      "text/plain": [
       "<IPython.core.display.HTML object>"
      ]
     },
     "metadata": {},
     "output_type": "display_data"
    },
    {
     "data": {
      "text/html": [
       "Run data is saved locally in <code>/content/Antenna-Performance-Prediction/wandb/run-20220817_062817-e3cxr3st</code>"
      ],
      "text/plain": [
       "<IPython.core.display.HTML object>"
      ]
     },
     "metadata": {},
     "output_type": "display_data"
    },
    {
     "data": {
      "text/html": [
       "Syncing run <strong><a href=\"https://wandb.ai/zbooster/Antenna_Outlier-1/runs/e3cxr3st\" target=\"_blank\">lucky-sweep-11</a></strong> to <a href=\"https://wandb.ai/zbooster/Antenna_Outlier-1\" target=\"_blank\">Weights & Biases</a> (<a href=\"https://wandb.me/run\" target=\"_blank\">docs</a>)<br/>Sweep page:  <a href=\"https://wandb.ai/zbooster/Antenna_Outlier-1/sweeps/nj4jorxe\" target=\"_blank\">https://wandb.ai/zbooster/Antenna_Outlier-1/sweeps/nj4jorxe</a>"
      ],
      "text/plain": [
       "<IPython.core.display.HTML object>"
      ]
     },
     "metadata": {},
     "output_type": "display_data"
    },
    {
     "data": {
      "text/html": [
       "Waiting for W&B process to finish... <strong style=\"color:green\">(success).</strong>"
      ],
      "text/plain": [
       "<IPython.core.display.HTML object>"
      ]
     },
     "metadata": {},
     "output_type": "display_data"
    },
    {
     "data": {
      "application/vnd.jupyter.widget-view+json": {
       "model_id": "409a112c771045018dd5e204776634cc",
       "version_major": 2,
       "version_minor": 0
      },
      "text/plain": [
       "VBox(children=(Label(value='0.001 MB of 0.001 MB uploaded (0.000 MB deduped)\\r'), FloatProgress(value=1.0, max…"
      ]
     },
     "metadata": {},
     "output_type": "display_data"
    },
    {
     "data": {
      "text/html": [
       "<style>\n",
       "    table.wandb td:nth-child(1) { padding: 0 10px; text-align: left ; width: auto;} td:nth-child(2) {text-align: left ; width: 100%}\n",
       "    .wandb-row { display: flex; flex-direction: row; flex-wrap: wrap; justify-content: flex-start; width: 100% }\n",
       "    .wandb-col { display: flex; flex-direction: column; flex-basis: 100%; flex: 1; padding: 10px; }\n",
       "    </style>\n",
       "<div class=\"wandb-row\"><div class=\"wandb-col\"><h3>Run history:</h3><br/><table class=\"wandb\"><tr><td>LG_NRMSE_BEST</td><td>▁</td></tr><tr><td>LG_NRMSE_MEAN</td><td>▁</td></tr><tr><td>Y_01_NRMSE</td><td>▁</td></tr><tr><td>Y_02_NRMSE</td><td>▁</td></tr><tr><td>Y_03_NRMSE</td><td>▁</td></tr><tr><td>Y_04_NRMSE</td><td>▁</td></tr><tr><td>Y_05_NRMSE</td><td>▁</td></tr><tr><td>Y_06_NRMSE</td><td>▁</td></tr><tr><td>Y_07_NRMSE</td><td>▁</td></tr><tr><td>Y_08_NRMSE</td><td>▁</td></tr><tr><td>Y_09_NRMSE</td><td>▁</td></tr><tr><td>Y_10_NRMSE</td><td>▁</td></tr><tr><td>Y_11_NRMSE</td><td>▁</td></tr><tr><td>Y_12_NRMSE</td><td>▁</td></tr><tr><td>Y_13_NRMSE</td><td>▁</td></tr><tr><td>Y_14_NRMSE</td><td>▁</td></tr></table><br/></div><div class=\"wandb-col\"><h3>Run summary:</h3><br/><table class=\"wandb\"><tr><td>LG_NRMSE_BEST</td><td>1.93692</td></tr><tr><td>LG_NRMSE_MEAN</td><td>1.93692</td></tr><tr><td>Y_01_NRMSE</td><td>0.2527</td></tr><tr><td>Y_02_NRMSE</td><td>0.35045</td></tr><tr><td>Y_03_NRMSE</td><td>0.34262</td></tr><tr><td>Y_04_NRMSE</td><td>0.18727</td></tr><tr><td>Y_05_NRMSE</td><td>0.07973</td></tr><tr><td>Y_06_NRMSE</td><td>0.10551</td></tr><tr><td>Y_07_NRMSE</td><td>0.13144</td></tr><tr><td>Y_08_NRMSE</td><td>0.02423</td></tr><tr><td>Y_09_NRMSE</td><td>0.02392</td></tr><tr><td>Y_10_NRMSE</td><td>0.03857</td></tr><tr><td>Y_11_NRMSE</td><td>0.03365</td></tr><tr><td>Y_12_NRMSE</td><td>0.02402</td></tr><tr><td>Y_13_NRMSE</td><td>0.024</td></tr><tr><td>Y_14_NRMSE</td><td>0.02404</td></tr></table><br/></div></div>"
      ],
      "text/plain": [
       "<IPython.core.display.HTML object>"
      ]
     },
     "metadata": {},
     "output_type": "display_data"
    },
    {
     "data": {
      "text/html": [
       "Synced <strong style=\"color:#cdcd00\">lucky-sweep-11</strong>: <a href=\"https://wandb.ai/zbooster/Antenna_Outlier-1/runs/e3cxr3st\" target=\"_blank\">https://wandb.ai/zbooster/Antenna_Outlier-1/runs/e3cxr3st</a><br/>Synced 5 W&B file(s), 0 media file(s), 0 artifact file(s) and 0 other file(s)"
      ],
      "text/plain": [
       "<IPython.core.display.HTML object>"
      ]
     },
     "metadata": {},
     "output_type": "display_data"
    },
    {
     "data": {
      "text/html": [
       "Find logs at: <code>./wandb/run-20220817_062817-e3cxr3st/logs</code>"
      ],
      "text/plain": [
       "<IPython.core.display.HTML object>"
      ]
     },
     "metadata": {},
     "output_type": "display_data"
    },
    {
     "name": "stderr",
     "output_type": "stream",
     "text": [
      "\u001b[34m\u001b[1mwandb\u001b[0m: Agent Starting Run: 2c25d36v with config:\n",
      "\u001b[34m\u001b[1mwandb\u001b[0m: \tdrop_index: [70, 280, 6213, 13585, 37911]\n",
      "\u001b[34m\u001b[1mwandb\u001b[0m: \toutlier: 278\n"
     ]
    },
    {
     "data": {
      "text/html": [
       "Tracking run with wandb version 0.13.1"
      ],
      "text/plain": [
       "<IPython.core.display.HTML object>"
      ]
     },
     "metadata": {},
     "output_type": "display_data"
    },
    {
     "data": {
      "text/html": [
       "Run data is saved locally in <code>/content/Antenna-Performance-Prediction/wandb/run-20220817_062904-2c25d36v</code>"
      ],
      "text/plain": [
       "<IPython.core.display.HTML object>"
      ]
     },
     "metadata": {},
     "output_type": "display_data"
    },
    {
     "data": {
      "text/html": [
       "Syncing run <strong><a href=\"https://wandb.ai/zbooster/Antenna_Outlier-1/runs/2c25d36v\" target=\"_blank\">astral-sweep-12</a></strong> to <a href=\"https://wandb.ai/zbooster/Antenna_Outlier-1\" target=\"_blank\">Weights & Biases</a> (<a href=\"https://wandb.me/run\" target=\"_blank\">docs</a>)<br/>Sweep page:  <a href=\"https://wandb.ai/zbooster/Antenna_Outlier-1/sweeps/nj4jorxe\" target=\"_blank\">https://wandb.ai/zbooster/Antenna_Outlier-1/sweeps/nj4jorxe</a>"
      ],
      "text/plain": [
       "<IPython.core.display.HTML object>"
      ]
     },
     "metadata": {},
     "output_type": "display_data"
    },
    {
     "data": {
      "text/html": [
       "Waiting for W&B process to finish... <strong style=\"color:green\">(success).</strong>"
      ],
      "text/plain": [
       "<IPython.core.display.HTML object>"
      ]
     },
     "metadata": {},
     "output_type": "display_data"
    },
    {
     "data": {
      "application/vnd.jupyter.widget-view+json": {
       "model_id": "10c819a1418d462a9a7fa70f864e9cef",
       "version_major": 2,
       "version_minor": 0
      },
      "text/plain": [
       "VBox(children=(Label(value='0.001 MB of 0.001 MB uploaded (0.000 MB deduped)\\r'), FloatProgress(value=1.0, max…"
      ]
     },
     "metadata": {},
     "output_type": "display_data"
    },
    {
     "data": {
      "text/html": [
       "<style>\n",
       "    table.wandb td:nth-child(1) { padding: 0 10px; text-align: left ; width: auto;} td:nth-child(2) {text-align: left ; width: 100%}\n",
       "    .wandb-row { display: flex; flex-direction: row; flex-wrap: wrap; justify-content: flex-start; width: 100% }\n",
       "    .wandb-col { display: flex; flex-direction: column; flex-basis: 100%; flex: 1; padding: 10px; }\n",
       "    </style>\n",
       "<div class=\"wandb-row\"><div class=\"wandb-col\"><h3>Run history:</h3><br/><table class=\"wandb\"><tr><td>LG_NRMSE_BEST</td><td>▁</td></tr><tr><td>LG_NRMSE_MEAN</td><td>▁</td></tr><tr><td>Y_01_NRMSE</td><td>▁</td></tr><tr><td>Y_02_NRMSE</td><td>▁</td></tr><tr><td>Y_03_NRMSE</td><td>▁</td></tr><tr><td>Y_04_NRMSE</td><td>▁</td></tr><tr><td>Y_05_NRMSE</td><td>▁</td></tr><tr><td>Y_06_NRMSE</td><td>▁</td></tr><tr><td>Y_07_NRMSE</td><td>▁</td></tr><tr><td>Y_08_NRMSE</td><td>▁</td></tr><tr><td>Y_09_NRMSE</td><td>▁</td></tr><tr><td>Y_10_NRMSE</td><td>▁</td></tr><tr><td>Y_11_NRMSE</td><td>▁</td></tr><tr><td>Y_12_NRMSE</td><td>▁</td></tr><tr><td>Y_13_NRMSE</td><td>▁</td></tr><tr><td>Y_14_NRMSE</td><td>▁</td></tr></table><br/></div><div class=\"wandb-col\"><h3>Run summary:</h3><br/><table class=\"wandb\"><tr><td>LG_NRMSE_BEST</td><td>1.93755</td></tr><tr><td>LG_NRMSE_MEAN</td><td>1.93755</td></tr><tr><td>Y_01_NRMSE</td><td>0.25289</td></tr><tr><td>Y_02_NRMSE</td><td>0.35037</td></tr><tr><td>Y_03_NRMSE</td><td>0.34299</td></tr><tr><td>Y_04_NRMSE</td><td>0.18713</td></tr><tr><td>Y_05_NRMSE</td><td>0.07967</td></tr><tr><td>Y_06_NRMSE</td><td>0.10572</td></tr><tr><td>Y_07_NRMSE</td><td>0.13154</td></tr><tr><td>Y_08_NRMSE</td><td>0.02422</td></tr><tr><td>Y_09_NRMSE</td><td>0.02391</td></tr><tr><td>Y_10_NRMSE</td><td>0.03855</td></tr><tr><td>Y_11_NRMSE</td><td>0.03362</td></tr><tr><td>Y_12_NRMSE</td><td>0.02402</td></tr><tr><td>Y_13_NRMSE</td><td>0.02399</td></tr><tr><td>Y_14_NRMSE</td><td>0.02403</td></tr></table><br/></div></div>"
      ],
      "text/plain": [
       "<IPython.core.display.HTML object>"
      ]
     },
     "metadata": {},
     "output_type": "display_data"
    },
    {
     "data": {
      "text/html": [
       "Synced <strong style=\"color:#cdcd00\">astral-sweep-12</strong>: <a href=\"https://wandb.ai/zbooster/Antenna_Outlier-1/runs/2c25d36v\" target=\"_blank\">https://wandb.ai/zbooster/Antenna_Outlier-1/runs/2c25d36v</a><br/>Synced 5 W&B file(s), 0 media file(s), 0 artifact file(s) and 0 other file(s)"
      ],
      "text/plain": [
       "<IPython.core.display.HTML object>"
      ]
     },
     "metadata": {},
     "output_type": "display_data"
    },
    {
     "data": {
      "text/html": [
       "Find logs at: <code>./wandb/run-20220817_062904-2c25d36v/logs</code>"
      ],
      "text/plain": [
       "<IPython.core.display.HTML object>"
      ]
     },
     "metadata": {},
     "output_type": "display_data"
    },
    {
     "name": "stderr",
     "output_type": "stream",
     "text": [
      "\u001b[34m\u001b[1mwandb\u001b[0m: Agent Starting Run: t0okl8ek with config:\n",
      "\u001b[34m\u001b[1mwandb\u001b[0m: \tdrop_index: [70, 280, 6213, 13585, 37911]\n",
      "\u001b[34m\u001b[1mwandb\u001b[0m: \toutlier: 865\n"
     ]
    },
    {
     "data": {
      "text/html": [
       "Tracking run with wandb version 0.13.1"
      ],
      "text/plain": [
       "<IPython.core.display.HTML object>"
      ]
     },
     "metadata": {},
     "output_type": "display_data"
    },
    {
     "data": {
      "text/html": [
       "Run data is saved locally in <code>/content/Antenna-Performance-Prediction/wandb/run-20220817_062952-t0okl8ek</code>"
      ],
      "text/plain": [
       "<IPython.core.display.HTML object>"
      ]
     },
     "metadata": {},
     "output_type": "display_data"
    },
    {
     "data": {
      "text/html": [
       "Syncing run <strong><a href=\"https://wandb.ai/zbooster/Antenna_Outlier-1/runs/t0okl8ek\" target=\"_blank\">misunderstood-sweep-13</a></strong> to <a href=\"https://wandb.ai/zbooster/Antenna_Outlier-1\" target=\"_blank\">Weights & Biases</a> (<a href=\"https://wandb.me/run\" target=\"_blank\">docs</a>)<br/>Sweep page:  <a href=\"https://wandb.ai/zbooster/Antenna_Outlier-1/sweeps/nj4jorxe\" target=\"_blank\">https://wandb.ai/zbooster/Antenna_Outlier-1/sweeps/nj4jorxe</a>"
      ],
      "text/plain": [
       "<IPython.core.display.HTML object>"
      ]
     },
     "metadata": {},
     "output_type": "display_data"
    },
    {
     "data": {
      "text/html": [
       "Waiting for W&B process to finish... <strong style=\"color:green\">(success).</strong>"
      ],
      "text/plain": [
       "<IPython.core.display.HTML object>"
      ]
     },
     "metadata": {},
     "output_type": "display_data"
    },
    {
     "data": {
      "application/vnd.jupyter.widget-view+json": {
       "model_id": "10b223aab0a74bd6bc46103094d9b017",
       "version_major": 2,
       "version_minor": 0
      },
      "text/plain": [
       "VBox(children=(Label(value='0.001 MB of 0.001 MB uploaded (0.000 MB deduped)\\r'), FloatProgress(value=1.0, max…"
      ]
     },
     "metadata": {},
     "output_type": "display_data"
    },
    {
     "data": {
      "text/html": [
       "<style>\n",
       "    table.wandb td:nth-child(1) { padding: 0 10px; text-align: left ; width: auto;} td:nth-child(2) {text-align: left ; width: 100%}\n",
       "    .wandb-row { display: flex; flex-direction: row; flex-wrap: wrap; justify-content: flex-start; width: 100% }\n",
       "    .wandb-col { display: flex; flex-direction: column; flex-basis: 100%; flex: 1; padding: 10px; }\n",
       "    </style>\n",
       "<div class=\"wandb-row\"><div class=\"wandb-col\"><h3>Run history:</h3><br/><table class=\"wandb\"><tr><td>LG_NRMSE_BEST</td><td>▁</td></tr><tr><td>LG_NRMSE_MEAN</td><td>▁</td></tr><tr><td>Y_01_NRMSE</td><td>▁</td></tr><tr><td>Y_02_NRMSE</td><td>▁</td></tr><tr><td>Y_03_NRMSE</td><td>▁</td></tr><tr><td>Y_04_NRMSE</td><td>▁</td></tr><tr><td>Y_05_NRMSE</td><td>▁</td></tr><tr><td>Y_06_NRMSE</td><td>▁</td></tr><tr><td>Y_07_NRMSE</td><td>▁</td></tr><tr><td>Y_08_NRMSE</td><td>▁</td></tr><tr><td>Y_09_NRMSE</td><td>▁</td></tr><tr><td>Y_10_NRMSE</td><td>▁</td></tr><tr><td>Y_11_NRMSE</td><td>▁</td></tr><tr><td>Y_12_NRMSE</td><td>▁</td></tr><tr><td>Y_13_NRMSE</td><td>▁</td></tr><tr><td>Y_14_NRMSE</td><td>▁</td></tr></table><br/></div><div class=\"wandb-col\"><h3>Run summary:</h3><br/><table class=\"wandb\"><tr><td>LG_NRMSE_BEST</td><td>1.93527</td></tr><tr><td>LG_NRMSE_MEAN</td><td>1.93527</td></tr><tr><td>Y_01_NRMSE</td><td>0.25261</td></tr><tr><td>Y_02_NRMSE</td><td>0.3503</td></tr><tr><td>Y_03_NRMSE</td><td>0.34323</td></tr><tr><td>Y_04_NRMSE</td><td>0.1865</td></tr><tr><td>Y_05_NRMSE</td><td>0.07963</td></tr><tr><td>Y_06_NRMSE</td><td>0.10545</td></tr><tr><td>Y_07_NRMSE</td><td>0.1313</td></tr><tr><td>Y_08_NRMSE</td><td>0.02413</td></tr><tr><td>Y_09_NRMSE</td><td>0.02383</td></tr><tr><td>Y_10_NRMSE</td><td>0.03841</td></tr><tr><td>Y_11_NRMSE</td><td>0.03349</td></tr><tr><td>Y_12_NRMSE</td><td>0.02393</td></tr><tr><td>Y_13_NRMSE</td><td>0.02388</td></tr><tr><td>Y_14_NRMSE</td><td>0.02396</td></tr></table><br/></div></div>"
      ],
      "text/plain": [
       "<IPython.core.display.HTML object>"
      ]
     },
     "metadata": {},
     "output_type": "display_data"
    },
    {
     "data": {
      "text/html": [
       "Synced <strong style=\"color:#cdcd00\">misunderstood-sweep-13</strong>: <a href=\"https://wandb.ai/zbooster/Antenna_Outlier-1/runs/t0okl8ek\" target=\"_blank\">https://wandb.ai/zbooster/Antenna_Outlier-1/runs/t0okl8ek</a><br/>Synced 5 W&B file(s), 0 media file(s), 0 artifact file(s) and 0 other file(s)"
      ],
      "text/plain": [
       "<IPython.core.display.HTML object>"
      ]
     },
     "metadata": {},
     "output_type": "display_data"
    },
    {
     "data": {
      "text/html": [
       "Find logs at: <code>./wandb/run-20220817_062952-t0okl8ek/logs</code>"
      ],
      "text/plain": [
       "<IPython.core.display.HTML object>"
      ]
     },
     "metadata": {},
     "output_type": "display_data"
    },
    {
     "name": "stderr",
     "output_type": "stream",
     "text": [
      "\u001b[34m\u001b[1mwandb\u001b[0m: Agent Starting Run: rdtj9d3m with config:\n",
      "\u001b[34m\u001b[1mwandb\u001b[0m: \tdrop_index: [70, 280, 6213, 13585, 37911]\n",
      "\u001b[34m\u001b[1mwandb\u001b[0m: \toutlier: 1135\n"
     ]
    },
    {
     "data": {
      "text/html": [
       "Tracking run with wandb version 0.13.1"
      ],
      "text/plain": [
       "<IPython.core.display.HTML object>"
      ]
     },
     "metadata": {},
     "output_type": "display_data"
    },
    {
     "data": {
      "text/html": [
       "Run data is saved locally in <code>/content/Antenna-Performance-Prediction/wandb/run-20220817_063039-rdtj9d3m</code>"
      ],
      "text/plain": [
       "<IPython.core.display.HTML object>"
      ]
     },
     "metadata": {},
     "output_type": "display_data"
    },
    {
     "data": {
      "text/html": [
       "Syncing run <strong><a href=\"https://wandb.ai/zbooster/Antenna_Outlier-1/runs/rdtj9d3m\" target=\"_blank\">dark-sweep-14</a></strong> to <a href=\"https://wandb.ai/zbooster/Antenna_Outlier-1\" target=\"_blank\">Weights & Biases</a> (<a href=\"https://wandb.me/run\" target=\"_blank\">docs</a>)<br/>Sweep page:  <a href=\"https://wandb.ai/zbooster/Antenna_Outlier-1/sweeps/nj4jorxe\" target=\"_blank\">https://wandb.ai/zbooster/Antenna_Outlier-1/sweeps/nj4jorxe</a>"
      ],
      "text/plain": [
       "<IPython.core.display.HTML object>"
      ]
     },
     "metadata": {},
     "output_type": "display_data"
    },
    {
     "data": {
      "text/html": [
       "Waiting for W&B process to finish... <strong style=\"color:green\">(success).</strong>"
      ],
      "text/plain": [
       "<IPython.core.display.HTML object>"
      ]
     },
     "metadata": {},
     "output_type": "display_data"
    },
    {
     "data": {
      "application/vnd.jupyter.widget-view+json": {
       "model_id": "a3890536fc2a4083a1a8fe598c56f0bb",
       "version_major": 2,
       "version_minor": 0
      },
      "text/plain": [
       "VBox(children=(Label(value='0.001 MB of 0.001 MB uploaded (0.000 MB deduped)\\r'), FloatProgress(value=1.0, max…"
      ]
     },
     "metadata": {},
     "output_type": "display_data"
    },
    {
     "data": {
      "text/html": [
       "<style>\n",
       "    table.wandb td:nth-child(1) { padding: 0 10px; text-align: left ; width: auto;} td:nth-child(2) {text-align: left ; width: 100%}\n",
       "    .wandb-row { display: flex; flex-direction: row; flex-wrap: wrap; justify-content: flex-start; width: 100% }\n",
       "    .wandb-col { display: flex; flex-direction: column; flex-basis: 100%; flex: 1; padding: 10px; }\n",
       "    </style>\n",
       "<div class=\"wandb-row\"><div class=\"wandb-col\"><h3>Run history:</h3><br/><table class=\"wandb\"><tr><td>LG_NRMSE_BEST</td><td>▁</td></tr><tr><td>LG_NRMSE_MEAN</td><td>▁</td></tr><tr><td>Y_01_NRMSE</td><td>▁</td></tr><tr><td>Y_02_NRMSE</td><td>▁</td></tr><tr><td>Y_03_NRMSE</td><td>▁</td></tr><tr><td>Y_04_NRMSE</td><td>▁</td></tr><tr><td>Y_05_NRMSE</td><td>▁</td></tr><tr><td>Y_06_NRMSE</td><td>▁</td></tr><tr><td>Y_07_NRMSE</td><td>▁</td></tr><tr><td>Y_08_NRMSE</td><td>▁</td></tr><tr><td>Y_09_NRMSE</td><td>▁</td></tr><tr><td>Y_10_NRMSE</td><td>▁</td></tr><tr><td>Y_11_NRMSE</td><td>▁</td></tr><tr><td>Y_12_NRMSE</td><td>▁</td></tr><tr><td>Y_13_NRMSE</td><td>▁</td></tr><tr><td>Y_14_NRMSE</td><td>▁</td></tr></table><br/></div><div class=\"wandb-col\"><h3>Run summary:</h3><br/><table class=\"wandb\"><tr><td>LG_NRMSE_BEST</td><td>1.93389</td></tr><tr><td>LG_NRMSE_MEAN</td><td>1.93389</td></tr><tr><td>Y_01_NRMSE</td><td>0.25238</td></tr><tr><td>Y_02_NRMSE</td><td>0.35041</td></tr><tr><td>Y_03_NRMSE</td><td>0.34338</td></tr><tr><td>Y_04_NRMSE</td><td>0.18627</td></tr><tr><td>Y_05_NRMSE</td><td>0.07945</td></tr><tr><td>Y_06_NRMSE</td><td>0.10459</td></tr><tr><td>Y_07_NRMSE</td><td>0.13159</td></tr><tr><td>Y_08_NRMSE</td><td>0.0241</td></tr><tr><td>Y_09_NRMSE</td><td>0.02383</td></tr><tr><td>Y_10_NRMSE</td><td>0.03833</td></tr><tr><td>Y_11_NRMSE</td><td>0.03343</td></tr><tr><td>Y_12_NRMSE</td><td>0.0239</td></tr><tr><td>Y_13_NRMSE</td><td>0.02386</td></tr><tr><td>Y_14_NRMSE</td><td>0.02392</td></tr></table><br/></div></div>"
      ],
      "text/plain": [
       "<IPython.core.display.HTML object>"
      ]
     },
     "metadata": {},
     "output_type": "display_data"
    },
    {
     "data": {
      "text/html": [
       "Synced <strong style=\"color:#cdcd00\">dark-sweep-14</strong>: <a href=\"https://wandb.ai/zbooster/Antenna_Outlier-1/runs/rdtj9d3m\" target=\"_blank\">https://wandb.ai/zbooster/Antenna_Outlier-1/runs/rdtj9d3m</a><br/>Synced 5 W&B file(s), 0 media file(s), 0 artifact file(s) and 0 other file(s)"
      ],
      "text/plain": [
       "<IPython.core.display.HTML object>"
      ]
     },
     "metadata": {},
     "output_type": "display_data"
    },
    {
     "data": {
      "text/html": [
       "Find logs at: <code>./wandb/run-20220817_063039-rdtj9d3m/logs</code>"
      ],
      "text/plain": [
       "<IPython.core.display.HTML object>"
      ]
     },
     "metadata": {},
     "output_type": "display_data"
    },
    {
     "name": "stderr",
     "output_type": "stream",
     "text": [
      "\u001b[34m\u001b[1mwandb\u001b[0m: Agent Starting Run: eub4m3cr with config:\n",
      "\u001b[34m\u001b[1mwandb\u001b[0m: \tdrop_index: [70, 280, 6213, 13585, 37911]\n",
      "\u001b[34m\u001b[1mwandb\u001b[0m: \toutlier: 1142\n"
     ]
    },
    {
     "data": {
      "text/html": [
       "Tracking run with wandb version 0.13.1"
      ],
      "text/plain": [
       "<IPython.core.display.HTML object>"
      ]
     },
     "metadata": {},
     "output_type": "display_data"
    },
    {
     "data": {
      "text/html": [
       "Run data is saved locally in <code>/content/Antenna-Performance-Prediction/wandb/run-20220817_063127-eub4m3cr</code>"
      ],
      "text/plain": [
       "<IPython.core.display.HTML object>"
      ]
     },
     "metadata": {},
     "output_type": "display_data"
    },
    {
     "data": {
      "text/html": [
       "Syncing run <strong><a href=\"https://wandb.ai/zbooster/Antenna_Outlier-1/runs/eub4m3cr\" target=\"_blank\">happy-sweep-15</a></strong> to <a href=\"https://wandb.ai/zbooster/Antenna_Outlier-1\" target=\"_blank\">Weights & Biases</a> (<a href=\"https://wandb.me/run\" target=\"_blank\">docs</a>)<br/>Sweep page:  <a href=\"https://wandb.ai/zbooster/Antenna_Outlier-1/sweeps/nj4jorxe\" target=\"_blank\">https://wandb.ai/zbooster/Antenna_Outlier-1/sweeps/nj4jorxe</a>"
      ],
      "text/plain": [
       "<IPython.core.display.HTML object>"
      ]
     },
     "metadata": {},
     "output_type": "display_data"
    },
    {
     "data": {
      "text/html": [
       "Waiting for W&B process to finish... <strong style=\"color:green\">(success).</strong>"
      ],
      "text/plain": [
       "<IPython.core.display.HTML object>"
      ]
     },
     "metadata": {},
     "output_type": "display_data"
    },
    {
     "data": {
      "application/vnd.jupyter.widget-view+json": {
       "model_id": "7b393ddaf77a4430adc30d359b127b6a",
       "version_major": 2,
       "version_minor": 0
      },
      "text/plain": [
       "VBox(children=(Label(value='0.001 MB of 0.001 MB uploaded (0.000 MB deduped)\\r'), FloatProgress(value=1.0, max…"
      ]
     },
     "metadata": {},
     "output_type": "display_data"
    },
    {
     "data": {
      "text/html": [
       "<style>\n",
       "    table.wandb td:nth-child(1) { padding: 0 10px; text-align: left ; width: auto;} td:nth-child(2) {text-align: left ; width: 100%}\n",
       "    .wandb-row { display: flex; flex-direction: row; flex-wrap: wrap; justify-content: flex-start; width: 100% }\n",
       "    .wandb-col { display: flex; flex-direction: column; flex-basis: 100%; flex: 1; padding: 10px; }\n",
       "    </style>\n",
       "<div class=\"wandb-row\"><div class=\"wandb-col\"><h3>Run history:</h3><br/><table class=\"wandb\"><tr><td>LG_NRMSE_BEST</td><td>▁</td></tr><tr><td>LG_NRMSE_MEAN</td><td>▁</td></tr><tr><td>Y_01_NRMSE</td><td>▁</td></tr><tr><td>Y_02_NRMSE</td><td>▁</td></tr><tr><td>Y_03_NRMSE</td><td>▁</td></tr><tr><td>Y_04_NRMSE</td><td>▁</td></tr><tr><td>Y_05_NRMSE</td><td>▁</td></tr><tr><td>Y_06_NRMSE</td><td>▁</td></tr><tr><td>Y_07_NRMSE</td><td>▁</td></tr><tr><td>Y_08_NRMSE</td><td>▁</td></tr><tr><td>Y_09_NRMSE</td><td>▁</td></tr><tr><td>Y_10_NRMSE</td><td>▁</td></tr><tr><td>Y_11_NRMSE</td><td>▁</td></tr><tr><td>Y_12_NRMSE</td><td>▁</td></tr><tr><td>Y_13_NRMSE</td><td>▁</td></tr><tr><td>Y_14_NRMSE</td><td>▁</td></tr></table><br/></div><div class=\"wandb-col\"><h3>Run summary:</h3><br/><table class=\"wandb\"><tr><td>LG_NRMSE_BEST</td><td>1.93385</td></tr><tr><td>LG_NRMSE_MEAN</td><td>1.93385</td></tr><tr><td>Y_01_NRMSE</td><td>0.25239</td></tr><tr><td>Y_02_NRMSE</td><td>0.35024</td></tr><tr><td>Y_03_NRMSE</td><td>0.34344</td></tr><tr><td>Y_04_NRMSE</td><td>0.18645</td></tr><tr><td>Y_05_NRMSE</td><td>0.07948</td></tr><tr><td>Y_06_NRMSE</td><td>0.10442</td></tr><tr><td>Y_07_NRMSE</td><td>0.13154</td></tr><tr><td>Y_08_NRMSE</td><td>0.02412</td></tr><tr><td>Y_09_NRMSE</td><td>0.02385</td></tr><tr><td>Y_10_NRMSE</td><td>0.03834</td></tr><tr><td>Y_11_NRMSE</td><td>0.03344</td></tr><tr><td>Y_12_NRMSE</td><td>0.02392</td></tr><tr><td>Y_13_NRMSE</td><td>0.02388</td></tr><tr><td>Y_14_NRMSE</td><td>0.02394</td></tr></table><br/></div></div>"
      ],
      "text/plain": [
       "<IPython.core.display.HTML object>"
      ]
     },
     "metadata": {},
     "output_type": "display_data"
    },
    {
     "data": {
      "text/html": [
       "Synced <strong style=\"color:#cdcd00\">happy-sweep-15</strong>: <a href=\"https://wandb.ai/zbooster/Antenna_Outlier-1/runs/eub4m3cr\" target=\"_blank\">https://wandb.ai/zbooster/Antenna_Outlier-1/runs/eub4m3cr</a><br/>Synced 5 W&B file(s), 0 media file(s), 0 artifact file(s) and 0 other file(s)"
      ],
      "text/plain": [
       "<IPython.core.display.HTML object>"
      ]
     },
     "metadata": {},
     "output_type": "display_data"
    },
    {
     "data": {
      "text/html": [
       "Find logs at: <code>./wandb/run-20220817_063127-eub4m3cr/logs</code>"
      ],
      "text/plain": [
       "<IPython.core.display.HTML object>"
      ]
     },
     "metadata": {},
     "output_type": "display_data"
    },
    {
     "name": "stderr",
     "output_type": "stream",
     "text": [
      "\u001b[34m\u001b[1mwandb\u001b[0m: Agent Starting Run: 4phzzlp5 with config:\n",
      "\u001b[34m\u001b[1mwandb\u001b[0m: \tdrop_index: [70, 280, 6213, 13585, 37911]\n",
      "\u001b[34m\u001b[1mwandb\u001b[0m: \toutlier: 1143\n"
     ]
    },
    {
     "data": {
      "text/html": [
       "Tracking run with wandb version 0.13.1"
      ],
      "text/plain": [
       "<IPython.core.display.HTML object>"
      ]
     },
     "metadata": {},
     "output_type": "display_data"
    },
    {
     "data": {
      "text/html": [
       "Run data is saved locally in <code>/content/Antenna-Performance-Prediction/wandb/run-20220817_063214-4phzzlp5</code>"
      ],
      "text/plain": [
       "<IPython.core.display.HTML object>"
      ]
     },
     "metadata": {},
     "output_type": "display_data"
    },
    {
     "data": {
      "text/html": [
       "Syncing run <strong><a href=\"https://wandb.ai/zbooster/Antenna_Outlier-1/runs/4phzzlp5\" target=\"_blank\">colorful-sweep-16</a></strong> to <a href=\"https://wandb.ai/zbooster/Antenna_Outlier-1\" target=\"_blank\">Weights & Biases</a> (<a href=\"https://wandb.me/run\" target=\"_blank\">docs</a>)<br/>Sweep page:  <a href=\"https://wandb.ai/zbooster/Antenna_Outlier-1/sweeps/nj4jorxe\" target=\"_blank\">https://wandb.ai/zbooster/Antenna_Outlier-1/sweeps/nj4jorxe</a>"
      ],
      "text/plain": [
       "<IPython.core.display.HTML object>"
      ]
     },
     "metadata": {},
     "output_type": "display_data"
    },
    {
     "data": {
      "text/html": [
       "Waiting for W&B process to finish... <strong style=\"color:green\">(success).</strong>"
      ],
      "text/plain": [
       "<IPython.core.display.HTML object>"
      ]
     },
     "metadata": {},
     "output_type": "display_data"
    },
    {
     "data": {
      "application/vnd.jupyter.widget-view+json": {
       "model_id": "49c0cf7a44f0465a9f5644e03ba563c8",
       "version_major": 2,
       "version_minor": 0
      },
      "text/plain": [
       "VBox(children=(Label(value='0.001 MB of 0.001 MB uploaded (0.000 MB deduped)\\r'), FloatProgress(value=1.0, max…"
      ]
     },
     "metadata": {},
     "output_type": "display_data"
    },
    {
     "data": {
      "text/html": [
       "<style>\n",
       "    table.wandb td:nth-child(1) { padding: 0 10px; text-align: left ; width: auto;} td:nth-child(2) {text-align: left ; width: 100%}\n",
       "    .wandb-row { display: flex; flex-direction: row; flex-wrap: wrap; justify-content: flex-start; width: 100% }\n",
       "    .wandb-col { display: flex; flex-direction: column; flex-basis: 100%; flex: 1; padding: 10px; }\n",
       "    </style>\n",
       "<div class=\"wandb-row\"><div class=\"wandb-col\"><h3>Run history:</h3><br/><table class=\"wandb\"><tr><td>LG_NRMSE_BEST</td><td>▁</td></tr><tr><td>LG_NRMSE_MEAN</td><td>▁</td></tr><tr><td>Y_01_NRMSE</td><td>▁</td></tr><tr><td>Y_02_NRMSE</td><td>▁</td></tr><tr><td>Y_03_NRMSE</td><td>▁</td></tr><tr><td>Y_04_NRMSE</td><td>▁</td></tr><tr><td>Y_05_NRMSE</td><td>▁</td></tr><tr><td>Y_06_NRMSE</td><td>▁</td></tr><tr><td>Y_07_NRMSE</td><td>▁</td></tr><tr><td>Y_08_NRMSE</td><td>▁</td></tr><tr><td>Y_09_NRMSE</td><td>▁</td></tr><tr><td>Y_10_NRMSE</td><td>▁</td></tr><tr><td>Y_11_NRMSE</td><td>▁</td></tr><tr><td>Y_12_NRMSE</td><td>▁</td></tr><tr><td>Y_13_NRMSE</td><td>▁</td></tr><tr><td>Y_14_NRMSE</td><td>▁</td></tr></table><br/></div><div class=\"wandb-col\"><h3>Run summary:</h3><br/><table class=\"wandb\"><tr><td>LG_NRMSE_BEST</td><td>1.93396</td></tr><tr><td>LG_NRMSE_MEAN</td><td>1.93396</td></tr><tr><td>Y_01_NRMSE</td><td>0.2524</td></tr><tr><td>Y_02_NRMSE</td><td>0.35039</td></tr><tr><td>Y_03_NRMSE</td><td>0.34349</td></tr><tr><td>Y_04_NRMSE</td><td>0.18634</td></tr><tr><td>Y_05_NRMSE</td><td>0.07944</td></tr><tr><td>Y_06_NRMSE</td><td>0.10447</td></tr><tr><td>Y_07_NRMSE</td><td>0.13154</td></tr><tr><td>Y_08_NRMSE</td><td>0.02411</td></tr><tr><td>Y_09_NRMSE</td><td>0.02385</td></tr><tr><td>Y_10_NRMSE</td><td>0.03833</td></tr><tr><td>Y_11_NRMSE</td><td>0.03344</td></tr><tr><td>Y_12_NRMSE</td><td>0.02392</td></tr><tr><td>Y_13_NRMSE</td><td>0.02388</td></tr><tr><td>Y_14_NRMSE</td><td>0.02394</td></tr></table><br/></div></div>"
      ],
      "text/plain": [
       "<IPython.core.display.HTML object>"
      ]
     },
     "metadata": {},
     "output_type": "display_data"
    },
    {
     "data": {
      "text/html": [
       "Synced <strong style=\"color:#cdcd00\">colorful-sweep-16</strong>: <a href=\"https://wandb.ai/zbooster/Antenna_Outlier-1/runs/4phzzlp5\" target=\"_blank\">https://wandb.ai/zbooster/Antenna_Outlier-1/runs/4phzzlp5</a><br/>Synced 5 W&B file(s), 0 media file(s), 0 artifact file(s) and 0 other file(s)"
      ],
      "text/plain": [
       "<IPython.core.display.HTML object>"
      ]
     },
     "metadata": {},
     "output_type": "display_data"
    },
    {
     "data": {
      "text/html": [
       "Find logs at: <code>./wandb/run-20220817_063214-4phzzlp5/logs</code>"
      ],
      "text/plain": [
       "<IPython.core.display.HTML object>"
      ]
     },
     "metadata": {},
     "output_type": "display_data"
    },
    {
     "name": "stderr",
     "output_type": "stream",
     "text": [
      "\u001b[34m\u001b[1mwandb\u001b[0m: Agent Starting Run: lrkcjgyu with config:\n",
      "\u001b[34m\u001b[1mwandb\u001b[0m: \tdrop_index: [70, 280, 6213, 13585, 37911]\n",
      "\u001b[34m\u001b[1mwandb\u001b[0m: \toutlier: 1147\n"
     ]
    },
    {
     "data": {
      "text/html": [
       "Tracking run with wandb version 0.13.1"
      ],
      "text/plain": [
       "<IPython.core.display.HTML object>"
      ]
     },
     "metadata": {},
     "output_type": "display_data"
    },
    {
     "data": {
      "text/html": [
       "Run data is saved locally in <code>/content/Antenna-Performance-Prediction/wandb/run-20220817_063301-lrkcjgyu</code>"
      ],
      "text/plain": [
       "<IPython.core.display.HTML object>"
      ]
     },
     "metadata": {},
     "output_type": "display_data"
    },
    {
     "data": {
      "text/html": [
       "Syncing run <strong><a href=\"https://wandb.ai/zbooster/Antenna_Outlier-1/runs/lrkcjgyu\" target=\"_blank\">glowing-sweep-17</a></strong> to <a href=\"https://wandb.ai/zbooster/Antenna_Outlier-1\" target=\"_blank\">Weights & Biases</a> (<a href=\"https://wandb.me/run\" target=\"_blank\">docs</a>)<br/>Sweep page:  <a href=\"https://wandb.ai/zbooster/Antenna_Outlier-1/sweeps/nj4jorxe\" target=\"_blank\">https://wandb.ai/zbooster/Antenna_Outlier-1/sweeps/nj4jorxe</a>"
      ],
      "text/plain": [
       "<IPython.core.display.HTML object>"
      ]
     },
     "metadata": {},
     "output_type": "display_data"
    },
    {
     "data": {
      "text/html": [
       "Waiting for W&B process to finish... <strong style=\"color:green\">(success).</strong>"
      ],
      "text/plain": [
       "<IPython.core.display.HTML object>"
      ]
     },
     "metadata": {},
     "output_type": "display_data"
    },
    {
     "data": {
      "application/vnd.jupyter.widget-view+json": {
       "model_id": "96e6bf5076c844f2a9f8fe1ce6384170",
       "version_major": 2,
       "version_minor": 0
      },
      "text/plain": [
       "VBox(children=(Label(value='0.001 MB of 0.001 MB uploaded (0.000 MB deduped)\\r'), FloatProgress(value=1.0, max…"
      ]
     },
     "metadata": {},
     "output_type": "display_data"
    },
    {
     "data": {
      "text/html": [
       "<style>\n",
       "    table.wandb td:nth-child(1) { padding: 0 10px; text-align: left ; width: auto;} td:nth-child(2) {text-align: left ; width: 100%}\n",
       "    .wandb-row { display: flex; flex-direction: row; flex-wrap: wrap; justify-content: flex-start; width: 100% }\n",
       "    .wandb-col { display: flex; flex-direction: column; flex-basis: 100%; flex: 1; padding: 10px; }\n",
       "    </style>\n",
       "<div class=\"wandb-row\"><div class=\"wandb-col\"><h3>Run history:</h3><br/><table class=\"wandb\"><tr><td>LG_NRMSE_BEST</td><td>▁</td></tr><tr><td>LG_NRMSE_MEAN</td><td>▁</td></tr><tr><td>Y_01_NRMSE</td><td>▁</td></tr><tr><td>Y_02_NRMSE</td><td>▁</td></tr><tr><td>Y_03_NRMSE</td><td>▁</td></tr><tr><td>Y_04_NRMSE</td><td>▁</td></tr><tr><td>Y_05_NRMSE</td><td>▁</td></tr><tr><td>Y_06_NRMSE</td><td>▁</td></tr><tr><td>Y_07_NRMSE</td><td>▁</td></tr><tr><td>Y_08_NRMSE</td><td>▁</td></tr><tr><td>Y_09_NRMSE</td><td>▁</td></tr><tr><td>Y_10_NRMSE</td><td>▁</td></tr><tr><td>Y_11_NRMSE</td><td>▁</td></tr><tr><td>Y_12_NRMSE</td><td>▁</td></tr><tr><td>Y_13_NRMSE</td><td>▁</td></tr><tr><td>Y_14_NRMSE</td><td>▁</td></tr></table><br/></div><div class=\"wandb-col\"><h3>Run summary:</h3><br/><table class=\"wandb\"><tr><td>LG_NRMSE_BEST</td><td>1.93321</td></tr><tr><td>LG_NRMSE_MEAN</td><td>1.93321</td></tr><tr><td>Y_01_NRMSE</td><td>0.25228</td></tr><tr><td>Y_02_NRMSE</td><td>0.35035</td></tr><tr><td>Y_03_NRMSE</td><td>0.34343</td></tr><tr><td>Y_04_NRMSE</td><td>0.18644</td></tr><tr><td>Y_05_NRMSE</td><td>0.07948</td></tr><tr><td>Y_06_NRMSE</td><td>0.10398</td></tr><tr><td>Y_07_NRMSE</td><td>0.13145</td></tr><tr><td>Y_08_NRMSE</td><td>0.02413</td></tr><tr><td>Y_09_NRMSE</td><td>0.02386</td></tr><tr><td>Y_10_NRMSE</td><td>0.0383</td></tr><tr><td>Y_11_NRMSE</td><td>0.03345</td></tr><tr><td>Y_12_NRMSE</td><td>0.02393</td></tr><tr><td>Y_13_NRMSE</td><td>0.02389</td></tr><tr><td>Y_14_NRMSE</td><td>0.02395</td></tr></table><br/></div></div>"
      ],
      "text/plain": [
       "<IPython.core.display.HTML object>"
      ]
     },
     "metadata": {},
     "output_type": "display_data"
    },
    {
     "data": {
      "text/html": [
       "Synced <strong style=\"color:#cdcd00\">glowing-sweep-17</strong>: <a href=\"https://wandb.ai/zbooster/Antenna_Outlier-1/runs/lrkcjgyu\" target=\"_blank\">https://wandb.ai/zbooster/Antenna_Outlier-1/runs/lrkcjgyu</a><br/>Synced 5 W&B file(s), 0 media file(s), 0 artifact file(s) and 0 other file(s)"
      ],
      "text/plain": [
       "<IPython.core.display.HTML object>"
      ]
     },
     "metadata": {},
     "output_type": "display_data"
    },
    {
     "data": {
      "text/html": [
       "Find logs at: <code>./wandb/run-20220817_063301-lrkcjgyu/logs</code>"
      ],
      "text/plain": [
       "<IPython.core.display.HTML object>"
      ]
     },
     "metadata": {},
     "output_type": "display_data"
    },
    {
     "name": "stderr",
     "output_type": "stream",
     "text": [
      "\u001b[34m\u001b[1mwandb\u001b[0m: Agent Starting Run: jwqcqfuc with config:\n",
      "\u001b[34m\u001b[1mwandb\u001b[0m: \tdrop_index: [70, 280, 6213, 13585, 37911]\n",
      "\u001b[34m\u001b[1mwandb\u001b[0m: \toutlier: 1240\n"
     ]
    },
    {
     "data": {
      "text/html": [
       "Tracking run with wandb version 0.13.1"
      ],
      "text/plain": [
       "<IPython.core.display.HTML object>"
      ]
     },
     "metadata": {},
     "output_type": "display_data"
    },
    {
     "data": {
      "text/html": [
       "Run data is saved locally in <code>/content/Antenna-Performance-Prediction/wandb/run-20220817_063349-jwqcqfuc</code>"
      ],
      "text/plain": [
       "<IPython.core.display.HTML object>"
      ]
     },
     "metadata": {},
     "output_type": "display_data"
    },
    {
     "data": {
      "text/html": [
       "Syncing run <strong><a href=\"https://wandb.ai/zbooster/Antenna_Outlier-1/runs/jwqcqfuc\" target=\"_blank\">volcanic-sweep-18</a></strong> to <a href=\"https://wandb.ai/zbooster/Antenna_Outlier-1\" target=\"_blank\">Weights & Biases</a> (<a href=\"https://wandb.me/run\" target=\"_blank\">docs</a>)<br/>Sweep page:  <a href=\"https://wandb.ai/zbooster/Antenna_Outlier-1/sweeps/nj4jorxe\" target=\"_blank\">https://wandb.ai/zbooster/Antenna_Outlier-1/sweeps/nj4jorxe</a>"
      ],
      "text/plain": [
       "<IPython.core.display.HTML object>"
      ]
     },
     "metadata": {},
     "output_type": "display_data"
    },
    {
     "data": {
      "text/html": [
       "Waiting for W&B process to finish... <strong style=\"color:green\">(success).</strong>"
      ],
      "text/plain": [
       "<IPython.core.display.HTML object>"
      ]
     },
     "metadata": {},
     "output_type": "display_data"
    },
    {
     "data": {
      "application/vnd.jupyter.widget-view+json": {
       "model_id": "8a2fc07f55a1403795abecb8fadf68ee",
       "version_major": 2,
       "version_minor": 0
      },
      "text/plain": [
       "VBox(children=(Label(value='0.001 MB of 0.001 MB uploaded (0.000 MB deduped)\\r'), FloatProgress(value=1.0, max…"
      ]
     },
     "metadata": {},
     "output_type": "display_data"
    },
    {
     "data": {
      "text/html": [
       "<style>\n",
       "    table.wandb td:nth-child(1) { padding: 0 10px; text-align: left ; width: auto;} td:nth-child(2) {text-align: left ; width: 100%}\n",
       "    .wandb-row { display: flex; flex-direction: row; flex-wrap: wrap; justify-content: flex-start; width: 100% }\n",
       "    .wandb-col { display: flex; flex-direction: column; flex-basis: 100%; flex: 1; padding: 10px; }\n",
       "    </style>\n",
       "<div class=\"wandb-row\"><div class=\"wandb-col\"><h3>Run history:</h3><br/><table class=\"wandb\"><tr><td>LG_NRMSE_BEST</td><td>▁</td></tr><tr><td>LG_NRMSE_MEAN</td><td>▁</td></tr><tr><td>Y_01_NRMSE</td><td>▁</td></tr><tr><td>Y_02_NRMSE</td><td>▁</td></tr><tr><td>Y_03_NRMSE</td><td>▁</td></tr><tr><td>Y_04_NRMSE</td><td>▁</td></tr><tr><td>Y_05_NRMSE</td><td>▁</td></tr><tr><td>Y_06_NRMSE</td><td>▁</td></tr><tr><td>Y_07_NRMSE</td><td>▁</td></tr><tr><td>Y_08_NRMSE</td><td>▁</td></tr><tr><td>Y_09_NRMSE</td><td>▁</td></tr><tr><td>Y_10_NRMSE</td><td>▁</td></tr><tr><td>Y_11_NRMSE</td><td>▁</td></tr><tr><td>Y_12_NRMSE</td><td>▁</td></tr><tr><td>Y_13_NRMSE</td><td>▁</td></tr><tr><td>Y_14_NRMSE</td><td>▁</td></tr></table><br/></div><div class=\"wandb-col\"><h3>Run summary:</h3><br/><table class=\"wandb\"><tr><td>LG_NRMSE_BEST</td><td>1.93455</td></tr><tr><td>LG_NRMSE_MEAN</td><td>1.93455</td></tr><tr><td>Y_01_NRMSE</td><td>0.25252</td></tr><tr><td>Y_02_NRMSE</td><td>0.35048</td></tr><tr><td>Y_03_NRMSE</td><td>0.34335</td></tr><tr><td>Y_04_NRMSE</td><td>0.18667</td></tr><tr><td>Y_05_NRMSE</td><td>0.07953</td></tr><tr><td>Y_06_NRMSE</td><td>0.10408</td></tr><tr><td>Y_07_NRMSE</td><td>0.13156</td></tr><tr><td>Y_08_NRMSE</td><td>0.02418</td></tr><tr><td>Y_09_NRMSE</td><td>0.02391</td></tr><tr><td>Y_10_NRMSE</td><td>0.03838</td></tr><tr><td>Y_11_NRMSE</td><td>0.03351</td></tr><tr><td>Y_12_NRMSE</td><td>0.02398</td></tr><tr><td>Y_13_NRMSE</td><td>0.02394</td></tr><tr><td>Y_14_NRMSE</td><td>0.024</td></tr></table><br/></div></div>"
      ],
      "text/plain": [
       "<IPython.core.display.HTML object>"
      ]
     },
     "metadata": {},
     "output_type": "display_data"
    },
    {
     "data": {
      "text/html": [
       "Synced <strong style=\"color:#cdcd00\">volcanic-sweep-18</strong>: <a href=\"https://wandb.ai/zbooster/Antenna_Outlier-1/runs/jwqcqfuc\" target=\"_blank\">https://wandb.ai/zbooster/Antenna_Outlier-1/runs/jwqcqfuc</a><br/>Synced 5 W&B file(s), 0 media file(s), 0 artifact file(s) and 0 other file(s)"
      ],
      "text/plain": [
       "<IPython.core.display.HTML object>"
      ]
     },
     "metadata": {},
     "output_type": "display_data"
    },
    {
     "data": {
      "text/html": [
       "Find logs at: <code>./wandb/run-20220817_063349-jwqcqfuc/logs</code>"
      ],
      "text/plain": [
       "<IPython.core.display.HTML object>"
      ]
     },
     "metadata": {},
     "output_type": "display_data"
    },
    {
     "name": "stderr",
     "output_type": "stream",
     "text": [
      "\u001b[34m\u001b[1mwandb\u001b[0m: Agent Starting Run: 82dkiqzk with config:\n",
      "\u001b[34m\u001b[1mwandb\u001b[0m: \tdrop_index: [70, 280, 6213, 13585, 37911]\n",
      "\u001b[34m\u001b[1mwandb\u001b[0m: \toutlier: 1334\n"
     ]
    },
    {
     "data": {
      "text/html": [
       "Tracking run with wandb version 0.13.1"
      ],
      "text/plain": [
       "<IPython.core.display.HTML object>"
      ]
     },
     "metadata": {},
     "output_type": "display_data"
    },
    {
     "data": {
      "text/html": [
       "Run data is saved locally in <code>/content/Antenna-Performance-Prediction/wandb/run-20220817_063436-82dkiqzk</code>"
      ],
      "text/plain": [
       "<IPython.core.display.HTML object>"
      ]
     },
     "metadata": {},
     "output_type": "display_data"
    },
    {
     "data": {
      "text/html": [
       "Syncing run <strong><a href=\"https://wandb.ai/zbooster/Antenna_Outlier-1/runs/82dkiqzk\" target=\"_blank\">misty-sweep-19</a></strong> to <a href=\"https://wandb.ai/zbooster/Antenna_Outlier-1\" target=\"_blank\">Weights & Biases</a> (<a href=\"https://wandb.me/run\" target=\"_blank\">docs</a>)<br/>Sweep page:  <a href=\"https://wandb.ai/zbooster/Antenna_Outlier-1/sweeps/nj4jorxe\" target=\"_blank\">https://wandb.ai/zbooster/Antenna_Outlier-1/sweeps/nj4jorxe</a>"
      ],
      "text/plain": [
       "<IPython.core.display.HTML object>"
      ]
     },
     "metadata": {},
     "output_type": "display_data"
    },
    {
     "data": {
      "text/html": [
       "Waiting for W&B process to finish... <strong style=\"color:green\">(success).</strong>"
      ],
      "text/plain": [
       "<IPython.core.display.HTML object>"
      ]
     },
     "metadata": {},
     "output_type": "display_data"
    },
    {
     "data": {
      "application/vnd.jupyter.widget-view+json": {
       "model_id": "773d46c7bfc44d7c80fc36e952cdb707",
       "version_major": 2,
       "version_minor": 0
      },
      "text/plain": [
       "VBox(children=(Label(value='0.001 MB of 0.001 MB uploaded (0.000 MB deduped)\\r'), FloatProgress(value=1.0, max…"
      ]
     },
     "metadata": {},
     "output_type": "display_data"
    },
    {
     "data": {
      "text/html": [
       "<style>\n",
       "    table.wandb td:nth-child(1) { padding: 0 10px; text-align: left ; width: auto;} td:nth-child(2) {text-align: left ; width: 100%}\n",
       "    .wandb-row { display: flex; flex-direction: row; flex-wrap: wrap; justify-content: flex-start; width: 100% }\n",
       "    .wandb-col { display: flex; flex-direction: column; flex-basis: 100%; flex: 1; padding: 10px; }\n",
       "    </style>\n",
       "<div class=\"wandb-row\"><div class=\"wandb-col\"><h3>Run history:</h3><br/><table class=\"wandb\"><tr><td>LG_NRMSE_BEST</td><td>▁</td></tr><tr><td>LG_NRMSE_MEAN</td><td>▁</td></tr><tr><td>Y_01_NRMSE</td><td>▁</td></tr><tr><td>Y_02_NRMSE</td><td>▁</td></tr><tr><td>Y_03_NRMSE</td><td>▁</td></tr><tr><td>Y_04_NRMSE</td><td>▁</td></tr><tr><td>Y_05_NRMSE</td><td>▁</td></tr><tr><td>Y_06_NRMSE</td><td>▁</td></tr><tr><td>Y_07_NRMSE</td><td>▁</td></tr><tr><td>Y_08_NRMSE</td><td>▁</td></tr><tr><td>Y_09_NRMSE</td><td>▁</td></tr><tr><td>Y_10_NRMSE</td><td>▁</td></tr><tr><td>Y_11_NRMSE</td><td>▁</td></tr><tr><td>Y_12_NRMSE</td><td>▁</td></tr><tr><td>Y_13_NRMSE</td><td>▁</td></tr><tr><td>Y_14_NRMSE</td><td>▁</td></tr></table><br/></div><div class=\"wandb-col\"><h3>Run summary:</h3><br/><table class=\"wandb\"><tr><td>LG_NRMSE_BEST</td><td>1.93415</td></tr><tr><td>LG_NRMSE_MEAN</td><td>1.93415</td></tr><tr><td>Y_01_NRMSE</td><td>0.25251</td></tr><tr><td>Y_02_NRMSE</td><td>0.3504</td></tr><tr><td>Y_03_NRMSE</td><td>0.34322</td></tr><tr><td>Y_04_NRMSE</td><td>0.18637</td></tr><tr><td>Y_05_NRMSE</td><td>0.07953</td></tr><tr><td>Y_06_NRMSE</td><td>0.10443</td></tr><tr><td>Y_07_NRMSE</td><td>0.13145</td></tr><tr><td>Y_08_NRMSE</td><td>0.02417</td></tr><tr><td>Y_09_NRMSE</td><td>0.02389</td></tr><tr><td>Y_10_NRMSE</td><td>0.03838</td></tr><tr><td>Y_11_NRMSE</td><td>0.03349</td></tr><tr><td>Y_12_NRMSE</td><td>0.02398</td></tr><tr><td>Y_13_NRMSE</td><td>0.02393</td></tr><tr><td>Y_14_NRMSE</td><td>0.02399</td></tr></table><br/></div></div>"
      ],
      "text/plain": [
       "<IPython.core.display.HTML object>"
      ]
     },
     "metadata": {},
     "output_type": "display_data"
    },
    {
     "data": {
      "text/html": [
       "Synced <strong style=\"color:#cdcd00\">misty-sweep-19</strong>: <a href=\"https://wandb.ai/zbooster/Antenna_Outlier-1/runs/82dkiqzk\" target=\"_blank\">https://wandb.ai/zbooster/Antenna_Outlier-1/runs/82dkiqzk</a><br/>Synced 5 W&B file(s), 0 media file(s), 0 artifact file(s) and 0 other file(s)"
      ],
      "text/plain": [
       "<IPython.core.display.HTML object>"
      ]
     },
     "metadata": {},
     "output_type": "display_data"
    },
    {
     "data": {
      "text/html": [
       "Find logs at: <code>./wandb/run-20220817_063436-82dkiqzk/logs</code>"
      ],
      "text/plain": [
       "<IPython.core.display.HTML object>"
      ]
     },
     "metadata": {},
     "output_type": "display_data"
    },
    {
     "name": "stderr",
     "output_type": "stream",
     "text": [
      "\u001b[34m\u001b[1mwandb\u001b[0m: Agent Starting Run: 8fn9aso4 with config:\n",
      "\u001b[34m\u001b[1mwandb\u001b[0m: \tdrop_index: [70, 280, 6213, 13585, 37911]\n",
      "\u001b[34m\u001b[1mwandb\u001b[0m: \toutlier: 1442\n"
     ]
    },
    {
     "data": {
      "text/html": [
       "Tracking run with wandb version 0.13.1"
      ],
      "text/plain": [
       "<IPython.core.display.HTML object>"
      ]
     },
     "metadata": {},
     "output_type": "display_data"
    },
    {
     "data": {
      "text/html": [
       "Run data is saved locally in <code>/content/Antenna-Performance-Prediction/wandb/run-20220817_063529-8fn9aso4</code>"
      ],
      "text/plain": [
       "<IPython.core.display.HTML object>"
      ]
     },
     "metadata": {},
     "output_type": "display_data"
    },
    {
     "data": {
      "text/html": [
       "Syncing run <strong><a href=\"https://wandb.ai/zbooster/Antenna_Outlier-1/runs/8fn9aso4\" target=\"_blank\">clean-sweep-20</a></strong> to <a href=\"https://wandb.ai/zbooster/Antenna_Outlier-1\" target=\"_blank\">Weights & Biases</a> (<a href=\"https://wandb.me/run\" target=\"_blank\">docs</a>)<br/>Sweep page:  <a href=\"https://wandb.ai/zbooster/Antenna_Outlier-1/sweeps/nj4jorxe\" target=\"_blank\">https://wandb.ai/zbooster/Antenna_Outlier-1/sweeps/nj4jorxe</a>"
      ],
      "text/plain": [
       "<IPython.core.display.HTML object>"
      ]
     },
     "metadata": {},
     "output_type": "display_data"
    },
    {
     "data": {
      "text/html": [
       "Waiting for W&B process to finish... <strong style=\"color:green\">(success).</strong>"
      ],
      "text/plain": [
       "<IPython.core.display.HTML object>"
      ]
     },
     "metadata": {},
     "output_type": "display_data"
    },
    {
     "data": {
      "application/vnd.jupyter.widget-view+json": {
       "model_id": "c280860bfbd248a3b8d75ffb32a72dae",
       "version_major": 2,
       "version_minor": 0
      },
      "text/plain": [
       "VBox(children=(Label(value='0.001 MB of 0.001 MB uploaded (0.000 MB deduped)\\r'), FloatProgress(value=1.0, max…"
      ]
     },
     "metadata": {},
     "output_type": "display_data"
    },
    {
     "data": {
      "text/html": [
       "<style>\n",
       "    table.wandb td:nth-child(1) { padding: 0 10px; text-align: left ; width: auto;} td:nth-child(2) {text-align: left ; width: 100%}\n",
       "    .wandb-row { display: flex; flex-direction: row; flex-wrap: wrap; justify-content: flex-start; width: 100% }\n",
       "    .wandb-col { display: flex; flex-direction: column; flex-basis: 100%; flex: 1; padding: 10px; }\n",
       "    </style>\n",
       "<div class=\"wandb-row\"><div class=\"wandb-col\"><h3>Run history:</h3><br/><table class=\"wandb\"><tr><td>LG_NRMSE_BEST</td><td>▁</td></tr><tr><td>LG_NRMSE_MEAN</td><td>▁</td></tr><tr><td>Y_01_NRMSE</td><td>▁</td></tr><tr><td>Y_02_NRMSE</td><td>▁</td></tr><tr><td>Y_03_NRMSE</td><td>▁</td></tr><tr><td>Y_04_NRMSE</td><td>▁</td></tr><tr><td>Y_05_NRMSE</td><td>▁</td></tr><tr><td>Y_06_NRMSE</td><td>▁</td></tr><tr><td>Y_07_NRMSE</td><td>▁</td></tr><tr><td>Y_08_NRMSE</td><td>▁</td></tr><tr><td>Y_09_NRMSE</td><td>▁</td></tr><tr><td>Y_10_NRMSE</td><td>▁</td></tr><tr><td>Y_11_NRMSE</td><td>▁</td></tr><tr><td>Y_12_NRMSE</td><td>▁</td></tr><tr><td>Y_13_NRMSE</td><td>▁</td></tr><tr><td>Y_14_NRMSE</td><td>▁</td></tr></table><br/></div><div class=\"wandb-col\"><h3>Run summary:</h3><br/><table class=\"wandb\"><tr><td>LG_NRMSE_BEST</td><td>1.93417</td></tr><tr><td>LG_NRMSE_MEAN</td><td>1.93417</td></tr><tr><td>Y_01_NRMSE</td><td>0.25242</td></tr><tr><td>Y_02_NRMSE</td><td>0.35073</td></tr><tr><td>Y_03_NRMSE</td><td>0.34354</td></tr><tr><td>Y_04_NRMSE</td><td>0.18638</td></tr><tr><td>Y_05_NRMSE</td><td>0.07952</td></tr><tr><td>Y_06_NRMSE</td><td>0.10392</td></tr><tr><td>Y_07_NRMSE</td><td>0.13146</td></tr><tr><td>Y_08_NRMSE</td><td>0.02416</td></tr><tr><td>Y_09_NRMSE</td><td>0.0239</td></tr><tr><td>Y_10_NRMSE</td><td>0.03835</td></tr><tr><td>Y_11_NRMSE</td><td>0.03349</td></tr><tr><td>Y_12_NRMSE</td><td>0.02396</td></tr><tr><td>Y_13_NRMSE</td><td>0.02393</td></tr><tr><td>Y_14_NRMSE</td><td>0.02398</td></tr></table><br/></div></div>"
      ],
      "text/plain": [
       "<IPython.core.display.HTML object>"
      ]
     },
     "metadata": {},
     "output_type": "display_data"
    },
    {
     "data": {
      "text/html": [
       "Synced <strong style=\"color:#cdcd00\">clean-sweep-20</strong>: <a href=\"https://wandb.ai/zbooster/Antenna_Outlier-1/runs/8fn9aso4\" target=\"_blank\">https://wandb.ai/zbooster/Antenna_Outlier-1/runs/8fn9aso4</a><br/>Synced 5 W&B file(s), 0 media file(s), 0 artifact file(s) and 0 other file(s)"
      ],
      "text/plain": [
       "<IPython.core.display.HTML object>"
      ]
     },
     "metadata": {},
     "output_type": "display_data"
    },
    {
     "data": {
      "text/html": [
       "Find logs at: <code>./wandb/run-20220817_063529-8fn9aso4/logs</code>"
      ],
      "text/plain": [
       "<IPython.core.display.HTML object>"
      ]
     },
     "metadata": {},
     "output_type": "display_data"
    },
    {
     "name": "stderr",
     "output_type": "stream",
     "text": [
      "\u001b[34m\u001b[1mwandb\u001b[0m: Sweep Agent: Waiting for job.\n",
      "\u001b[34m\u001b[1mwandb\u001b[0m: Job received.\n",
      "\u001b[34m\u001b[1mwandb\u001b[0m: Agent Starting Run: fww4rzvf with config:\n",
      "\u001b[34m\u001b[1mwandb\u001b[0m: \tdrop_index: [70, 280, 6213, 13585, 37911]\n",
      "\u001b[34m\u001b[1mwandb\u001b[0m: \toutlier: 1561\n"
     ]
    },
    {
     "data": {
      "text/html": [
       "Tracking run with wandb version 0.13.1"
      ],
      "text/plain": [
       "<IPython.core.display.HTML object>"
      ]
     },
     "metadata": {},
     "output_type": "display_data"
    },
    {
     "data": {
      "text/html": [
       "Run data is saved locally in <code>/content/Antenna-Performance-Prediction/wandb/run-20220817_063627-fww4rzvf</code>"
      ],
      "text/plain": [
       "<IPython.core.display.HTML object>"
      ]
     },
     "metadata": {},
     "output_type": "display_data"
    },
    {
     "data": {
      "text/html": [
       "Syncing run <strong><a href=\"https://wandb.ai/zbooster/Antenna_Outlier-1/runs/fww4rzvf\" target=\"_blank\">stilted-sweep-21</a></strong> to <a href=\"https://wandb.ai/zbooster/Antenna_Outlier-1\" target=\"_blank\">Weights & Biases</a> (<a href=\"https://wandb.me/run\" target=\"_blank\">docs</a>)<br/>Sweep page:  <a href=\"https://wandb.ai/zbooster/Antenna_Outlier-1/sweeps/nj4jorxe\" target=\"_blank\">https://wandb.ai/zbooster/Antenna_Outlier-1/sweeps/nj4jorxe</a>"
      ],
      "text/plain": [
       "<IPython.core.display.HTML object>"
      ]
     },
     "metadata": {},
     "output_type": "display_data"
    },
    {
     "data": {
      "text/html": [
       "Waiting for W&B process to finish... <strong style=\"color:green\">(success).</strong>"
      ],
      "text/plain": [
       "<IPython.core.display.HTML object>"
      ]
     },
     "metadata": {},
     "output_type": "display_data"
    },
    {
     "data": {
      "application/vnd.jupyter.widget-view+json": {
       "model_id": "882353ec726545bb85cfa0b05e976d80",
       "version_major": 2,
       "version_minor": 0
      },
      "text/plain": [
       "VBox(children=(Label(value='0.001 MB of 0.001 MB uploaded (0.000 MB deduped)\\r'), FloatProgress(value=1.0, max…"
      ]
     },
     "metadata": {},
     "output_type": "display_data"
    },
    {
     "data": {
      "text/html": [
       "<style>\n",
       "    table.wandb td:nth-child(1) { padding: 0 10px; text-align: left ; width: auto;} td:nth-child(2) {text-align: left ; width: 100%}\n",
       "    .wandb-row { display: flex; flex-direction: row; flex-wrap: wrap; justify-content: flex-start; width: 100% }\n",
       "    .wandb-col { display: flex; flex-direction: column; flex-basis: 100%; flex: 1; padding: 10px; }\n",
       "    </style>\n",
       "<div class=\"wandb-row\"><div class=\"wandb-col\"><h3>Run history:</h3><br/><table class=\"wandb\"><tr><td>LG_NRMSE_BEST</td><td>▁</td></tr><tr><td>LG_NRMSE_MEAN</td><td>▁</td></tr><tr><td>Y_01_NRMSE</td><td>▁</td></tr><tr><td>Y_02_NRMSE</td><td>▁</td></tr><tr><td>Y_03_NRMSE</td><td>▁</td></tr><tr><td>Y_04_NRMSE</td><td>▁</td></tr><tr><td>Y_05_NRMSE</td><td>▁</td></tr><tr><td>Y_06_NRMSE</td><td>▁</td></tr><tr><td>Y_07_NRMSE</td><td>▁</td></tr><tr><td>Y_08_NRMSE</td><td>▁</td></tr><tr><td>Y_09_NRMSE</td><td>▁</td></tr><tr><td>Y_10_NRMSE</td><td>▁</td></tr><tr><td>Y_11_NRMSE</td><td>▁</td></tr><tr><td>Y_12_NRMSE</td><td>▁</td></tr><tr><td>Y_13_NRMSE</td><td>▁</td></tr><tr><td>Y_14_NRMSE</td><td>▁</td></tr></table><br/></div><div class=\"wandb-col\"><h3>Run summary:</h3><br/><table class=\"wandb\"><tr><td>LG_NRMSE_BEST</td><td>1.93371</td></tr><tr><td>LG_NRMSE_MEAN</td><td>1.93371</td></tr><tr><td>Y_01_NRMSE</td><td>0.2523</td></tr><tr><td>Y_02_NRMSE</td><td>0.35037</td></tr><tr><td>Y_03_NRMSE</td><td>0.3434</td></tr><tr><td>Y_04_NRMSE</td><td>0.18651</td></tr><tr><td>Y_05_NRMSE</td><td>0.07942</td></tr><tr><td>Y_06_NRMSE</td><td>0.10387</td></tr><tr><td>Y_07_NRMSE</td><td>0.13164</td></tr><tr><td>Y_08_NRMSE</td><td>0.02417</td></tr><tr><td>Y_09_NRMSE</td><td>0.02392</td></tr><tr><td>Y_10_NRMSE</td><td>0.03836</td></tr><tr><td>Y_11_NRMSE</td><td>0.03351</td></tr><tr><td>Y_12_NRMSE</td><td>0.02398</td></tr><tr><td>Y_13_NRMSE</td><td>0.02395</td></tr><tr><td>Y_14_NRMSE</td><td>0.02399</td></tr></table><br/></div></div>"
      ],
      "text/plain": [
       "<IPython.core.display.HTML object>"
      ]
     },
     "metadata": {},
     "output_type": "display_data"
    },
    {
     "data": {
      "text/html": [
       "Synced <strong style=\"color:#cdcd00\">stilted-sweep-21</strong>: <a href=\"https://wandb.ai/zbooster/Antenna_Outlier-1/runs/fww4rzvf\" target=\"_blank\">https://wandb.ai/zbooster/Antenna_Outlier-1/runs/fww4rzvf</a><br/>Synced 5 W&B file(s), 0 media file(s), 0 artifact file(s) and 0 other file(s)"
      ],
      "text/plain": [
       "<IPython.core.display.HTML object>"
      ]
     },
     "metadata": {},
     "output_type": "display_data"
    },
    {
     "data": {
      "text/html": [
       "Find logs at: <code>./wandb/run-20220817_063627-fww4rzvf/logs</code>"
      ],
      "text/plain": [
       "<IPython.core.display.HTML object>"
      ]
     },
     "metadata": {},
     "output_type": "display_data"
    },
    {
     "name": "stderr",
     "output_type": "stream",
     "text": [
      "\u001b[34m\u001b[1mwandb\u001b[0m: Agent Starting Run: jwblxnf3 with config:\n",
      "\u001b[34m\u001b[1mwandb\u001b[0m: \tdrop_index: [70, 280, 6213, 13585, 37911]\n",
      "\u001b[34m\u001b[1mwandb\u001b[0m: \toutlier: 2281\n"
     ]
    },
    {
     "data": {
      "text/html": [
       "Tracking run with wandb version 0.13.1"
      ],
      "text/plain": [
       "<IPython.core.display.HTML object>"
      ]
     },
     "metadata": {},
     "output_type": "display_data"
    },
    {
     "data": {
      "text/html": [
       "Run data is saved locally in <code>/content/Antenna-Performance-Prediction/wandb/run-20220817_063714-jwblxnf3</code>"
      ],
      "text/plain": [
       "<IPython.core.display.HTML object>"
      ]
     },
     "metadata": {},
     "output_type": "display_data"
    },
    {
     "data": {
      "text/html": [
       "Syncing run <strong><a href=\"https://wandb.ai/zbooster/Antenna_Outlier-1/runs/jwblxnf3\" target=\"_blank\">copper-sweep-22</a></strong> to <a href=\"https://wandb.ai/zbooster/Antenna_Outlier-1\" target=\"_blank\">Weights & Biases</a> (<a href=\"https://wandb.me/run\" target=\"_blank\">docs</a>)<br/>Sweep page:  <a href=\"https://wandb.ai/zbooster/Antenna_Outlier-1/sweeps/nj4jorxe\" target=\"_blank\">https://wandb.ai/zbooster/Antenna_Outlier-1/sweeps/nj4jorxe</a>"
      ],
      "text/plain": [
       "<IPython.core.display.HTML object>"
      ]
     },
     "metadata": {},
     "output_type": "display_data"
    },
    {
     "data": {
      "text/html": [
       "Waiting for W&B process to finish... <strong style=\"color:green\">(success).</strong>"
      ],
      "text/plain": [
       "<IPython.core.display.HTML object>"
      ]
     },
     "metadata": {},
     "output_type": "display_data"
    },
    {
     "data": {
      "application/vnd.jupyter.widget-view+json": {
       "model_id": "0417f937a71c4928a68e4fd692484b42",
       "version_major": 2,
       "version_minor": 0
      },
      "text/plain": [
       "VBox(children=(Label(value='0.001 MB of 0.001 MB uploaded (0.000 MB deduped)\\r'), FloatProgress(value=1.0, max…"
      ]
     },
     "metadata": {},
     "output_type": "display_data"
    },
    {
     "data": {
      "text/html": [
       "<style>\n",
       "    table.wandb td:nth-child(1) { padding: 0 10px; text-align: left ; width: auto;} td:nth-child(2) {text-align: left ; width: 100%}\n",
       "    .wandb-row { display: flex; flex-direction: row; flex-wrap: wrap; justify-content: flex-start; width: 100% }\n",
       "    .wandb-col { display: flex; flex-direction: column; flex-basis: 100%; flex: 1; padding: 10px; }\n",
       "    </style>\n",
       "<div class=\"wandb-row\"><div class=\"wandb-col\"><h3>Run history:</h3><br/><table class=\"wandb\"><tr><td>LG_NRMSE_BEST</td><td>▁</td></tr><tr><td>LG_NRMSE_MEAN</td><td>▁</td></tr><tr><td>Y_01_NRMSE</td><td>▁</td></tr><tr><td>Y_02_NRMSE</td><td>▁</td></tr><tr><td>Y_03_NRMSE</td><td>▁</td></tr><tr><td>Y_04_NRMSE</td><td>▁</td></tr><tr><td>Y_05_NRMSE</td><td>▁</td></tr><tr><td>Y_06_NRMSE</td><td>▁</td></tr><tr><td>Y_07_NRMSE</td><td>▁</td></tr><tr><td>Y_08_NRMSE</td><td>▁</td></tr><tr><td>Y_09_NRMSE</td><td>▁</td></tr><tr><td>Y_10_NRMSE</td><td>▁</td></tr><tr><td>Y_11_NRMSE</td><td>▁</td></tr><tr><td>Y_12_NRMSE</td><td>▁</td></tr><tr><td>Y_13_NRMSE</td><td>▁</td></tr><tr><td>Y_14_NRMSE</td><td>▁</td></tr></table><br/></div><div class=\"wandb-col\"><h3>Run summary:</h3><br/><table class=\"wandb\"><tr><td>LG_NRMSE_BEST</td><td>1.94032</td></tr><tr><td>LG_NRMSE_MEAN</td><td>1.94032</td></tr><tr><td>Y_01_NRMSE</td><td>0.25278</td></tr><tr><td>Y_02_NRMSE</td><td>0.35124</td></tr><tr><td>Y_03_NRMSE</td><td>0.3441</td></tr><tr><td>Y_04_NRMSE</td><td>0.18629</td></tr><tr><td>Y_05_NRMSE</td><td>0.07921</td></tr><tr><td>Y_06_NRMSE</td><td>0.10788</td></tr><tr><td>Y_07_NRMSE</td><td>0.13151</td></tr><tr><td>Y_08_NRMSE</td><td>0.02413</td></tr><tr><td>Y_09_NRMSE</td><td>0.02387</td></tr><tr><td>Y_10_NRMSE</td><td>0.03863</td></tr><tr><td>Y_11_NRMSE</td><td>0.03347</td></tr><tr><td>Y_12_NRMSE</td><td>0.02392</td></tr><tr><td>Y_13_NRMSE</td><td>0.02391</td></tr><tr><td>Y_14_NRMSE</td><td>0.02394</td></tr></table><br/></div></div>"
      ],
      "text/plain": [
       "<IPython.core.display.HTML object>"
      ]
     },
     "metadata": {},
     "output_type": "display_data"
    },
    {
     "data": {
      "text/html": [
       "Synced <strong style=\"color:#cdcd00\">copper-sweep-22</strong>: <a href=\"https://wandb.ai/zbooster/Antenna_Outlier-1/runs/jwblxnf3\" target=\"_blank\">https://wandb.ai/zbooster/Antenna_Outlier-1/runs/jwblxnf3</a><br/>Synced 5 W&B file(s), 0 media file(s), 0 artifact file(s) and 0 other file(s)"
      ],
      "text/plain": [
       "<IPython.core.display.HTML object>"
      ]
     },
     "metadata": {},
     "output_type": "display_data"
    },
    {
     "data": {
      "text/html": [
       "Find logs at: <code>./wandb/run-20220817_063714-jwblxnf3/logs</code>"
      ],
      "text/plain": [
       "<IPython.core.display.HTML object>"
      ]
     },
     "metadata": {},
     "output_type": "display_data"
    },
    {
     "name": "stderr",
     "output_type": "stream",
     "text": [
      "\u001b[34m\u001b[1mwandb\u001b[0m: Agent Starting Run: zvlbltwq with config:\n",
      "\u001b[34m\u001b[1mwandb\u001b[0m: \tdrop_index: [70, 280, 6213, 13585, 37911]\n",
      "\u001b[34m\u001b[1mwandb\u001b[0m: \toutlier: 2327\n"
     ]
    },
    {
     "data": {
      "text/html": [
       "Tracking run with wandb version 0.13.1"
      ],
      "text/plain": [
       "<IPython.core.display.HTML object>"
      ]
     },
     "metadata": {},
     "output_type": "display_data"
    },
    {
     "data": {
      "text/html": [
       "Run data is saved locally in <code>/content/Antenna-Performance-Prediction/wandb/run-20220817_063801-zvlbltwq</code>"
      ],
      "text/plain": [
       "<IPython.core.display.HTML object>"
      ]
     },
     "metadata": {},
     "output_type": "display_data"
    },
    {
     "data": {
      "text/html": [
       "Syncing run <strong><a href=\"https://wandb.ai/zbooster/Antenna_Outlier-1/runs/zvlbltwq\" target=\"_blank\">glad-sweep-23</a></strong> to <a href=\"https://wandb.ai/zbooster/Antenna_Outlier-1\" target=\"_blank\">Weights & Biases</a> (<a href=\"https://wandb.me/run\" target=\"_blank\">docs</a>)<br/>Sweep page:  <a href=\"https://wandb.ai/zbooster/Antenna_Outlier-1/sweeps/nj4jorxe\" target=\"_blank\">https://wandb.ai/zbooster/Antenna_Outlier-1/sweeps/nj4jorxe</a>"
      ],
      "text/plain": [
       "<IPython.core.display.HTML object>"
      ]
     },
     "metadata": {},
     "output_type": "display_data"
    },
    {
     "data": {
      "text/html": [
       "Waiting for W&B process to finish... <strong style=\"color:green\">(success).</strong>"
      ],
      "text/plain": [
       "<IPython.core.display.HTML object>"
      ]
     },
     "metadata": {},
     "output_type": "display_data"
    },
    {
     "data": {
      "application/vnd.jupyter.widget-view+json": {
       "model_id": "42da95c49cb94d68a028e6e9a2f358b0",
       "version_major": 2,
       "version_minor": 0
      },
      "text/plain": [
       "VBox(children=(Label(value='0.001 MB of 0.001 MB uploaded (0.000 MB deduped)\\r'), FloatProgress(value=1.0, max…"
      ]
     },
     "metadata": {},
     "output_type": "display_data"
    },
    {
     "data": {
      "text/html": [
       "<style>\n",
       "    table.wandb td:nth-child(1) { padding: 0 10px; text-align: left ; width: auto;} td:nth-child(2) {text-align: left ; width: 100%}\n",
       "    .wandb-row { display: flex; flex-direction: row; flex-wrap: wrap; justify-content: flex-start; width: 100% }\n",
       "    .wandb-col { display: flex; flex-direction: column; flex-basis: 100%; flex: 1; padding: 10px; }\n",
       "    </style>\n",
       "<div class=\"wandb-row\"><div class=\"wandb-col\"><h3>Run history:</h3><br/><table class=\"wandb\"><tr><td>LG_NRMSE_BEST</td><td>▁</td></tr><tr><td>LG_NRMSE_MEAN</td><td>▁</td></tr><tr><td>Y_01_NRMSE</td><td>▁</td></tr><tr><td>Y_02_NRMSE</td><td>▁</td></tr><tr><td>Y_03_NRMSE</td><td>▁</td></tr><tr><td>Y_04_NRMSE</td><td>▁</td></tr><tr><td>Y_05_NRMSE</td><td>▁</td></tr><tr><td>Y_06_NRMSE</td><td>▁</td></tr><tr><td>Y_07_NRMSE</td><td>▁</td></tr><tr><td>Y_08_NRMSE</td><td>▁</td></tr><tr><td>Y_09_NRMSE</td><td>▁</td></tr><tr><td>Y_10_NRMSE</td><td>▁</td></tr><tr><td>Y_11_NRMSE</td><td>▁</td></tr><tr><td>Y_12_NRMSE</td><td>▁</td></tr><tr><td>Y_13_NRMSE</td><td>▁</td></tr><tr><td>Y_14_NRMSE</td><td>▁</td></tr></table><br/></div><div class=\"wandb-col\"><h3>Run summary:</h3><br/><table class=\"wandb\"><tr><td>LG_NRMSE_BEST</td><td>1.94024</td></tr><tr><td>LG_NRMSE_MEAN</td><td>1.94024</td></tr><tr><td>Y_01_NRMSE</td><td>0.25267</td></tr><tr><td>Y_02_NRMSE</td><td>0.35111</td></tr><tr><td>Y_03_NRMSE</td><td>0.34401</td></tr><tr><td>Y_04_NRMSE</td><td>0.18633</td></tr><tr><td>Y_05_NRMSE</td><td>0.07922</td></tr><tr><td>Y_06_NRMSE</td><td>0.10801</td></tr><tr><td>Y_07_NRMSE</td><td>0.13154</td></tr><tr><td>Y_08_NRMSE</td><td>0.02413</td></tr><tr><td>Y_09_NRMSE</td><td>0.02388</td></tr><tr><td>Y_10_NRMSE</td><td>0.03865</td></tr><tr><td>Y_11_NRMSE</td><td>0.03348</td></tr><tr><td>Y_12_NRMSE</td><td>0.02393</td></tr><tr><td>Y_13_NRMSE</td><td>0.02391</td></tr><tr><td>Y_14_NRMSE</td><td>0.02395</td></tr></table><br/></div></div>"
      ],
      "text/plain": [
       "<IPython.core.display.HTML object>"
      ]
     },
     "metadata": {},
     "output_type": "display_data"
    },
    {
     "data": {
      "text/html": [
       "Synced <strong style=\"color:#cdcd00\">glad-sweep-23</strong>: <a href=\"https://wandb.ai/zbooster/Antenna_Outlier-1/runs/zvlbltwq\" target=\"_blank\">https://wandb.ai/zbooster/Antenna_Outlier-1/runs/zvlbltwq</a><br/>Synced 5 W&B file(s), 0 media file(s), 0 artifact file(s) and 0 other file(s)"
      ],
      "text/plain": [
       "<IPython.core.display.HTML object>"
      ]
     },
     "metadata": {},
     "output_type": "display_data"
    },
    {
     "data": {
      "text/html": [
       "Find logs at: <code>./wandb/run-20220817_063801-zvlbltwq/logs</code>"
      ],
      "text/plain": [
       "<IPython.core.display.HTML object>"
      ]
     },
     "metadata": {},
     "output_type": "display_data"
    },
    {
     "name": "stderr",
     "output_type": "stream",
     "text": [
      "\u001b[34m\u001b[1mwandb\u001b[0m: Agent Starting Run: z7om2hpb with config:\n",
      "\u001b[34m\u001b[1mwandb\u001b[0m: \tdrop_index: [70, 280, 6213, 13585, 37911]\n",
      "\u001b[34m\u001b[1mwandb\u001b[0m: \toutlier: 2329\n"
     ]
    },
    {
     "data": {
      "text/html": [
       "Tracking run with wandb version 0.13.1"
      ],
      "text/plain": [
       "<IPython.core.display.HTML object>"
      ]
     },
     "metadata": {},
     "output_type": "display_data"
    },
    {
     "data": {
      "text/html": [
       "Run data is saved locally in <code>/content/Antenna-Performance-Prediction/wandb/run-20220817_063848-z7om2hpb</code>"
      ],
      "text/plain": [
       "<IPython.core.display.HTML object>"
      ]
     },
     "metadata": {},
     "output_type": "display_data"
    },
    {
     "data": {
      "text/html": [
       "Syncing run <strong><a href=\"https://wandb.ai/zbooster/Antenna_Outlier-1/runs/z7om2hpb\" target=\"_blank\">silver-sweep-24</a></strong> to <a href=\"https://wandb.ai/zbooster/Antenna_Outlier-1\" target=\"_blank\">Weights & Biases</a> (<a href=\"https://wandb.me/run\" target=\"_blank\">docs</a>)<br/>Sweep page:  <a href=\"https://wandb.ai/zbooster/Antenna_Outlier-1/sweeps/nj4jorxe\" target=\"_blank\">https://wandb.ai/zbooster/Antenna_Outlier-1/sweeps/nj4jorxe</a>"
      ],
      "text/plain": [
       "<IPython.core.display.HTML object>"
      ]
     },
     "metadata": {},
     "output_type": "display_data"
    },
    {
     "data": {
      "text/html": [
       "Waiting for W&B process to finish... <strong style=\"color:green\">(success).</strong>"
      ],
      "text/plain": [
       "<IPython.core.display.HTML object>"
      ]
     },
     "metadata": {},
     "output_type": "display_data"
    },
    {
     "data": {
      "application/vnd.jupyter.widget-view+json": {
       "model_id": "39a9820d90334bfeb5b10dbc461b0774",
       "version_major": 2,
       "version_minor": 0
      },
      "text/plain": [
       "VBox(children=(Label(value='0.001 MB of 0.001 MB uploaded (0.000 MB deduped)\\r'), FloatProgress(value=1.0, max…"
      ]
     },
     "metadata": {},
     "output_type": "display_data"
    },
    {
     "data": {
      "text/html": [
       "<style>\n",
       "    table.wandb td:nth-child(1) { padding: 0 10px; text-align: left ; width: auto;} td:nth-child(2) {text-align: left ; width: 100%}\n",
       "    .wandb-row { display: flex; flex-direction: row; flex-wrap: wrap; justify-content: flex-start; width: 100% }\n",
       "    .wandb-col { display: flex; flex-direction: column; flex-basis: 100%; flex: 1; padding: 10px; }\n",
       "    </style>\n",
       "<div class=\"wandb-row\"><div class=\"wandb-col\"><h3>Run history:</h3><br/><table class=\"wandb\"><tr><td>LG_NRMSE_BEST</td><td>▁</td></tr><tr><td>LG_NRMSE_MEAN</td><td>▁</td></tr><tr><td>Y_01_NRMSE</td><td>▁</td></tr><tr><td>Y_02_NRMSE</td><td>▁</td></tr><tr><td>Y_03_NRMSE</td><td>▁</td></tr><tr><td>Y_04_NRMSE</td><td>▁</td></tr><tr><td>Y_05_NRMSE</td><td>▁</td></tr><tr><td>Y_06_NRMSE</td><td>▁</td></tr><tr><td>Y_07_NRMSE</td><td>▁</td></tr><tr><td>Y_08_NRMSE</td><td>▁</td></tr><tr><td>Y_09_NRMSE</td><td>▁</td></tr><tr><td>Y_10_NRMSE</td><td>▁</td></tr><tr><td>Y_11_NRMSE</td><td>▁</td></tr><tr><td>Y_12_NRMSE</td><td>▁</td></tr><tr><td>Y_13_NRMSE</td><td>▁</td></tr><tr><td>Y_14_NRMSE</td><td>▁</td></tr></table><br/></div><div class=\"wandb-col\"><h3>Run summary:</h3><br/><table class=\"wandb\"><tr><td>LG_NRMSE_BEST</td><td>1.94011</td></tr><tr><td>LG_NRMSE_MEAN</td><td>1.94011</td></tr><tr><td>Y_01_NRMSE</td><td>0.25269</td></tr><tr><td>Y_02_NRMSE</td><td>0.35112</td></tr><tr><td>Y_03_NRMSE</td><td>0.344</td></tr><tr><td>Y_04_NRMSE</td><td>0.18631</td></tr><tr><td>Y_05_NRMSE</td><td>0.07922</td></tr><tr><td>Y_06_NRMSE</td><td>0.10799</td></tr><tr><td>Y_07_NRMSE</td><td>0.13152</td></tr><tr><td>Y_08_NRMSE</td><td>0.02413</td></tr><tr><td>Y_09_NRMSE</td><td>0.02387</td></tr><tr><td>Y_10_NRMSE</td><td>0.03864</td></tr><tr><td>Y_11_NRMSE</td><td>0.03347</td></tr><tr><td>Y_12_NRMSE</td><td>0.02393</td></tr><tr><td>Y_13_NRMSE</td><td>0.0239</td></tr><tr><td>Y_14_NRMSE</td><td>0.02394</td></tr></table><br/></div></div>"
      ],
      "text/plain": [
       "<IPython.core.display.HTML object>"
      ]
     },
     "metadata": {},
     "output_type": "display_data"
    },
    {
     "data": {
      "text/html": [
       "Synced <strong style=\"color:#cdcd00\">silver-sweep-24</strong>: <a href=\"https://wandb.ai/zbooster/Antenna_Outlier-1/runs/z7om2hpb\" target=\"_blank\">https://wandb.ai/zbooster/Antenna_Outlier-1/runs/z7om2hpb</a><br/>Synced 5 W&B file(s), 0 media file(s), 0 artifact file(s) and 0 other file(s)"
      ],
      "text/plain": [
       "<IPython.core.display.HTML object>"
      ]
     },
     "metadata": {},
     "output_type": "display_data"
    },
    {
     "data": {
      "text/html": [
       "Find logs at: <code>./wandb/run-20220817_063848-z7om2hpb/logs</code>"
      ],
      "text/plain": [
       "<IPython.core.display.HTML object>"
      ]
     },
     "metadata": {},
     "output_type": "display_data"
    },
    {
     "name": "stderr",
     "output_type": "stream",
     "text": [
      "\u001b[34m\u001b[1mwandb\u001b[0m: Agent Starting Run: od1bl223 with config:\n",
      "\u001b[34m\u001b[1mwandb\u001b[0m: \tdrop_index: [70, 280, 6213, 13585, 37911]\n",
      "\u001b[34m\u001b[1mwandb\u001b[0m: \toutlier: 2338\n"
     ]
    },
    {
     "data": {
      "text/html": [
       "Tracking run with wandb version 0.13.1"
      ],
      "text/plain": [
       "<IPython.core.display.HTML object>"
      ]
     },
     "metadata": {},
     "output_type": "display_data"
    },
    {
     "data": {
      "text/html": [
       "Run data is saved locally in <code>/content/Antenna-Performance-Prediction/wandb/run-20220817_063936-od1bl223</code>"
      ],
      "text/plain": [
       "<IPython.core.display.HTML object>"
      ]
     },
     "metadata": {},
     "output_type": "display_data"
    },
    {
     "data": {
      "text/html": [
       "Syncing run <strong><a href=\"https://wandb.ai/zbooster/Antenna_Outlier-1/runs/od1bl223\" target=\"_blank\">revived-sweep-25</a></strong> to <a href=\"https://wandb.ai/zbooster/Antenna_Outlier-1\" target=\"_blank\">Weights & Biases</a> (<a href=\"https://wandb.me/run\" target=\"_blank\">docs</a>)<br/>Sweep page:  <a href=\"https://wandb.ai/zbooster/Antenna_Outlier-1/sweeps/nj4jorxe\" target=\"_blank\">https://wandb.ai/zbooster/Antenna_Outlier-1/sweeps/nj4jorxe</a>"
      ],
      "text/plain": [
       "<IPython.core.display.HTML object>"
      ]
     },
     "metadata": {},
     "output_type": "display_data"
    },
    {
     "data": {
      "text/html": [
       "Waiting for W&B process to finish... <strong style=\"color:green\">(success).</strong>"
      ],
      "text/plain": [
       "<IPython.core.display.HTML object>"
      ]
     },
     "metadata": {},
     "output_type": "display_data"
    },
    {
     "data": {
      "application/vnd.jupyter.widget-view+json": {
       "model_id": "f705ff783da44729a8ebb2b2f9780f5f",
       "version_major": 2,
       "version_minor": 0
      },
      "text/plain": [
       "VBox(children=(Label(value='0.001 MB of 0.001 MB uploaded (0.000 MB deduped)\\r'), FloatProgress(value=1.0, max…"
      ]
     },
     "metadata": {},
     "output_type": "display_data"
    },
    {
     "data": {
      "text/html": [
       "<style>\n",
       "    table.wandb td:nth-child(1) { padding: 0 10px; text-align: left ; width: auto;} td:nth-child(2) {text-align: left ; width: 100%}\n",
       "    .wandb-row { display: flex; flex-direction: row; flex-wrap: wrap; justify-content: flex-start; width: 100% }\n",
       "    .wandb-col { display: flex; flex-direction: column; flex-basis: 100%; flex: 1; padding: 10px; }\n",
       "    </style>\n",
       "<div class=\"wandb-row\"><div class=\"wandb-col\"><h3>Run history:</h3><br/><table class=\"wandb\"><tr><td>LG_NRMSE_BEST</td><td>▁</td></tr><tr><td>LG_NRMSE_MEAN</td><td>▁</td></tr><tr><td>Y_01_NRMSE</td><td>▁</td></tr><tr><td>Y_02_NRMSE</td><td>▁</td></tr><tr><td>Y_03_NRMSE</td><td>▁</td></tr><tr><td>Y_04_NRMSE</td><td>▁</td></tr><tr><td>Y_05_NRMSE</td><td>▁</td></tr><tr><td>Y_06_NRMSE</td><td>▁</td></tr><tr><td>Y_07_NRMSE</td><td>▁</td></tr><tr><td>Y_08_NRMSE</td><td>▁</td></tr><tr><td>Y_09_NRMSE</td><td>▁</td></tr><tr><td>Y_10_NRMSE</td><td>▁</td></tr><tr><td>Y_11_NRMSE</td><td>▁</td></tr><tr><td>Y_12_NRMSE</td><td>▁</td></tr><tr><td>Y_13_NRMSE</td><td>▁</td></tr><tr><td>Y_14_NRMSE</td><td>▁</td></tr></table><br/></div><div class=\"wandb-col\"><h3>Run summary:</h3><br/><table class=\"wandb\"><tr><td>LG_NRMSE_BEST</td><td>1.94082</td></tr><tr><td>LG_NRMSE_MEAN</td><td>1.94082</td></tr><tr><td>Y_01_NRMSE</td><td>0.25273</td></tr><tr><td>Y_02_NRMSE</td><td>0.35129</td></tr><tr><td>Y_03_NRMSE</td><td>0.34408</td></tr><tr><td>Y_04_NRMSE</td><td>0.18631</td></tr><tr><td>Y_05_NRMSE</td><td>0.07924</td></tr><tr><td>Y_06_NRMSE</td><td>0.10818</td></tr><tr><td>Y_07_NRMSE</td><td>0.13159</td></tr><tr><td>Y_08_NRMSE</td><td>0.02413</td></tr><tr><td>Y_09_NRMSE</td><td>0.02387</td></tr><tr><td>Y_10_NRMSE</td><td>0.03865</td></tr><tr><td>Y_11_NRMSE</td><td>0.03347</td></tr><tr><td>Y_12_NRMSE</td><td>0.02393</td></tr><tr><td>Y_13_NRMSE</td><td>0.02391</td></tr><tr><td>Y_14_NRMSE</td><td>0.02394</td></tr></table><br/></div></div>"
      ],
      "text/plain": [
       "<IPython.core.display.HTML object>"
      ]
     },
     "metadata": {},
     "output_type": "display_data"
    },
    {
     "data": {
      "text/html": [
       "Synced <strong style=\"color:#cdcd00\">revived-sweep-25</strong>: <a href=\"https://wandb.ai/zbooster/Antenna_Outlier-1/runs/od1bl223\" target=\"_blank\">https://wandb.ai/zbooster/Antenna_Outlier-1/runs/od1bl223</a><br/>Synced 5 W&B file(s), 0 media file(s), 0 artifact file(s) and 0 other file(s)"
      ],
      "text/plain": [
       "<IPython.core.display.HTML object>"
      ]
     },
     "metadata": {},
     "output_type": "display_data"
    },
    {
     "data": {
      "text/html": [
       "Find logs at: <code>./wandb/run-20220817_063936-od1bl223/logs</code>"
      ],
      "text/plain": [
       "<IPython.core.display.HTML object>"
      ]
     },
     "metadata": {},
     "output_type": "display_data"
    },
    {
     "name": "stderr",
     "output_type": "stream",
     "text": [
      "\u001b[34m\u001b[1mwandb\u001b[0m: Agent Starting Run: w3ra332c with config:\n",
      "\u001b[34m\u001b[1mwandb\u001b[0m: \tdrop_index: [70, 280, 6213, 13585, 37911]\n",
      "\u001b[34m\u001b[1mwandb\u001b[0m: \toutlier: 2346\n"
     ]
    },
    {
     "data": {
      "text/html": [
       "Tracking run with wandb version 0.13.1"
      ],
      "text/plain": [
       "<IPython.core.display.HTML object>"
      ]
     },
     "metadata": {},
     "output_type": "display_data"
    },
    {
     "data": {
      "text/html": [
       "Run data is saved locally in <code>/content/Antenna-Performance-Prediction/wandb/run-20220817_064023-w3ra332c</code>"
      ],
      "text/plain": [
       "<IPython.core.display.HTML object>"
      ]
     },
     "metadata": {},
     "output_type": "display_data"
    },
    {
     "data": {
      "text/html": [
       "Syncing run <strong><a href=\"https://wandb.ai/zbooster/Antenna_Outlier-1/runs/w3ra332c\" target=\"_blank\">splendid-sweep-26</a></strong> to <a href=\"https://wandb.ai/zbooster/Antenna_Outlier-1\" target=\"_blank\">Weights & Biases</a> (<a href=\"https://wandb.me/run\" target=\"_blank\">docs</a>)<br/>Sweep page:  <a href=\"https://wandb.ai/zbooster/Antenna_Outlier-1/sweeps/nj4jorxe\" target=\"_blank\">https://wandb.ai/zbooster/Antenna_Outlier-1/sweeps/nj4jorxe</a>"
      ],
      "text/plain": [
       "<IPython.core.display.HTML object>"
      ]
     },
     "metadata": {},
     "output_type": "display_data"
    },
    {
     "data": {
      "text/html": [
       "Waiting for W&B process to finish... <strong style=\"color:green\">(success).</strong>"
      ],
      "text/plain": [
       "<IPython.core.display.HTML object>"
      ]
     },
     "metadata": {},
     "output_type": "display_data"
    },
    {
     "data": {
      "application/vnd.jupyter.widget-view+json": {
       "model_id": "29cb4e9ed66c4a2d8e0544a795121209",
       "version_major": 2,
       "version_minor": 0
      },
      "text/plain": [
       "VBox(children=(Label(value='0.001 MB of 0.001 MB uploaded (0.000 MB deduped)\\r'), FloatProgress(value=1.0, max…"
      ]
     },
     "metadata": {},
     "output_type": "display_data"
    },
    {
     "data": {
      "text/html": [
       "<style>\n",
       "    table.wandb td:nth-child(1) { padding: 0 10px; text-align: left ; width: auto;} td:nth-child(2) {text-align: left ; width: 100%}\n",
       "    .wandb-row { display: flex; flex-direction: row; flex-wrap: wrap; justify-content: flex-start; width: 100% }\n",
       "    .wandb-col { display: flex; flex-direction: column; flex-basis: 100%; flex: 1; padding: 10px; }\n",
       "    </style>\n",
       "<div class=\"wandb-row\"><div class=\"wandb-col\"><h3>Run history:</h3><br/><table class=\"wandb\"><tr><td>LG_NRMSE_BEST</td><td>▁</td></tr><tr><td>LG_NRMSE_MEAN</td><td>▁</td></tr><tr><td>Y_01_NRMSE</td><td>▁</td></tr><tr><td>Y_02_NRMSE</td><td>▁</td></tr><tr><td>Y_03_NRMSE</td><td>▁</td></tr><tr><td>Y_04_NRMSE</td><td>▁</td></tr><tr><td>Y_05_NRMSE</td><td>▁</td></tr><tr><td>Y_06_NRMSE</td><td>▁</td></tr><tr><td>Y_07_NRMSE</td><td>▁</td></tr><tr><td>Y_08_NRMSE</td><td>▁</td></tr><tr><td>Y_09_NRMSE</td><td>▁</td></tr><tr><td>Y_10_NRMSE</td><td>▁</td></tr><tr><td>Y_11_NRMSE</td><td>▁</td></tr><tr><td>Y_12_NRMSE</td><td>▁</td></tr><tr><td>Y_13_NRMSE</td><td>▁</td></tr><tr><td>Y_14_NRMSE</td><td>▁</td></tr></table><br/></div><div class=\"wandb-col\"><h3>Run summary:</h3><br/><table class=\"wandb\"><tr><td>LG_NRMSE_BEST</td><td>1.94081</td></tr><tr><td>LG_NRMSE_MEAN</td><td>1.94081</td></tr><tr><td>Y_01_NRMSE</td><td>0.25274</td></tr><tr><td>Y_02_NRMSE</td><td>0.35134</td></tr><tr><td>Y_03_NRMSE</td><td>0.34407</td></tr><tr><td>Y_04_NRMSE</td><td>0.18629</td></tr><tr><td>Y_05_NRMSE</td><td>0.07923</td></tr><tr><td>Y_06_NRMSE</td><td>0.10817</td></tr><tr><td>Y_07_NRMSE</td><td>0.13159</td></tr><tr><td>Y_08_NRMSE</td><td>0.02413</td></tr><tr><td>Y_09_NRMSE</td><td>0.02387</td></tr><tr><td>Y_10_NRMSE</td><td>0.03865</td></tr><tr><td>Y_11_NRMSE</td><td>0.03346</td></tr><tr><td>Y_12_NRMSE</td><td>0.02392</td></tr><tr><td>Y_13_NRMSE</td><td>0.0239</td></tr><tr><td>Y_14_NRMSE</td><td>0.02394</td></tr></table><br/></div></div>"
      ],
      "text/plain": [
       "<IPython.core.display.HTML object>"
      ]
     },
     "metadata": {},
     "output_type": "display_data"
    },
    {
     "data": {
      "text/html": [
       "Synced <strong style=\"color:#cdcd00\">splendid-sweep-26</strong>: <a href=\"https://wandb.ai/zbooster/Antenna_Outlier-1/runs/w3ra332c\" target=\"_blank\">https://wandb.ai/zbooster/Antenna_Outlier-1/runs/w3ra332c</a><br/>Synced 5 W&B file(s), 0 media file(s), 0 artifact file(s) and 0 other file(s)"
      ],
      "text/plain": [
       "<IPython.core.display.HTML object>"
      ]
     },
     "metadata": {},
     "output_type": "display_data"
    },
    {
     "data": {
      "text/html": [
       "Find logs at: <code>./wandb/run-20220817_064023-w3ra332c/logs</code>"
      ],
      "text/plain": [
       "<IPython.core.display.HTML object>"
      ]
     },
     "metadata": {},
     "output_type": "display_data"
    },
    {
     "name": "stderr",
     "output_type": "stream",
     "text": [
      "\u001b[34m\u001b[1mwandb\u001b[0m: Agent Starting Run: y96fbwzb with config:\n",
      "\u001b[34m\u001b[1mwandb\u001b[0m: \tdrop_index: [70, 280, 6213, 13585, 37911]\n",
      "\u001b[34m\u001b[1mwandb\u001b[0m: \toutlier: 2362\n"
     ]
    },
    {
     "data": {
      "text/html": [
       "Tracking run with wandb version 0.13.1"
      ],
      "text/plain": [
       "<IPython.core.display.HTML object>"
      ]
     },
     "metadata": {},
     "output_type": "display_data"
    },
    {
     "data": {
      "text/html": [
       "Run data is saved locally in <code>/content/Antenna-Performance-Prediction/wandb/run-20220817_064110-y96fbwzb</code>"
      ],
      "text/plain": [
       "<IPython.core.display.HTML object>"
      ]
     },
     "metadata": {},
     "output_type": "display_data"
    },
    {
     "data": {
      "text/html": [
       "Syncing run <strong><a href=\"https://wandb.ai/zbooster/Antenna_Outlier-1/runs/y96fbwzb\" target=\"_blank\">expert-sweep-27</a></strong> to <a href=\"https://wandb.ai/zbooster/Antenna_Outlier-1\" target=\"_blank\">Weights & Biases</a> (<a href=\"https://wandb.me/run\" target=\"_blank\">docs</a>)<br/>Sweep page:  <a href=\"https://wandb.ai/zbooster/Antenna_Outlier-1/sweeps/nj4jorxe\" target=\"_blank\">https://wandb.ai/zbooster/Antenna_Outlier-1/sweeps/nj4jorxe</a>"
      ],
      "text/plain": [
       "<IPython.core.display.HTML object>"
      ]
     },
     "metadata": {},
     "output_type": "display_data"
    },
    {
     "data": {
      "text/html": [
       "Waiting for W&B process to finish... <strong style=\"color:green\">(success).</strong>"
      ],
      "text/plain": [
       "<IPython.core.display.HTML object>"
      ]
     },
     "metadata": {},
     "output_type": "display_data"
    },
    {
     "data": {
      "application/vnd.jupyter.widget-view+json": {
       "model_id": "de7805a62e6b4a85a9b55ff64c25282e",
       "version_major": 2,
       "version_minor": 0
      },
      "text/plain": [
       "VBox(children=(Label(value='0.001 MB of 0.001 MB uploaded (0.000 MB deduped)\\r'), FloatProgress(value=1.0, max…"
      ]
     },
     "metadata": {},
     "output_type": "display_data"
    },
    {
     "data": {
      "text/html": [
       "<style>\n",
       "    table.wandb td:nth-child(1) { padding: 0 10px; text-align: left ; width: auto;} td:nth-child(2) {text-align: left ; width: 100%}\n",
       "    .wandb-row { display: flex; flex-direction: row; flex-wrap: wrap; justify-content: flex-start; width: 100% }\n",
       "    .wandb-col { display: flex; flex-direction: column; flex-basis: 100%; flex: 1; padding: 10px; }\n",
       "    </style>\n",
       "<div class=\"wandb-row\"><div class=\"wandb-col\"><h3>Run history:</h3><br/><table class=\"wandb\"><tr><td>LG_NRMSE_BEST</td><td>▁</td></tr><tr><td>LG_NRMSE_MEAN</td><td>▁</td></tr><tr><td>Y_01_NRMSE</td><td>▁</td></tr><tr><td>Y_02_NRMSE</td><td>▁</td></tr><tr><td>Y_03_NRMSE</td><td>▁</td></tr><tr><td>Y_04_NRMSE</td><td>▁</td></tr><tr><td>Y_05_NRMSE</td><td>▁</td></tr><tr><td>Y_06_NRMSE</td><td>▁</td></tr><tr><td>Y_07_NRMSE</td><td>▁</td></tr><tr><td>Y_08_NRMSE</td><td>▁</td></tr><tr><td>Y_09_NRMSE</td><td>▁</td></tr><tr><td>Y_10_NRMSE</td><td>▁</td></tr><tr><td>Y_11_NRMSE</td><td>▁</td></tr><tr><td>Y_12_NRMSE</td><td>▁</td></tr><tr><td>Y_13_NRMSE</td><td>▁</td></tr><tr><td>Y_14_NRMSE</td><td>▁</td></tr></table><br/></div><div class=\"wandb-col\"><h3>Run summary:</h3><br/><table class=\"wandb\"><tr><td>LG_NRMSE_BEST</td><td>1.9409</td></tr><tr><td>LG_NRMSE_MEAN</td><td>1.9409</td></tr><tr><td>Y_01_NRMSE</td><td>0.2527</td></tr><tr><td>Y_02_NRMSE</td><td>0.35137</td></tr><tr><td>Y_03_NRMSE</td><td>0.3442</td></tr><tr><td>Y_04_NRMSE</td><td>0.18626</td></tr><tr><td>Y_05_NRMSE</td><td>0.0792</td></tr><tr><td>Y_06_NRMSE</td><td>0.10819</td></tr><tr><td>Y_07_NRMSE</td><td>0.13159</td></tr><tr><td>Y_08_NRMSE</td><td>0.02413</td></tr><tr><td>Y_09_NRMSE</td><td>0.02387</td></tr><tr><td>Y_10_NRMSE</td><td>0.03865</td></tr><tr><td>Y_11_NRMSE</td><td>0.03346</td></tr><tr><td>Y_12_NRMSE</td><td>0.02392</td></tr><tr><td>Y_13_NRMSE</td><td>0.0239</td></tr><tr><td>Y_14_NRMSE</td><td>0.02394</td></tr></table><br/></div></div>"
      ],
      "text/plain": [
       "<IPython.core.display.HTML object>"
      ]
     },
     "metadata": {},
     "output_type": "display_data"
    },
    {
     "data": {
      "text/html": [
       "Synced <strong style=\"color:#cdcd00\">expert-sweep-27</strong>: <a href=\"https://wandb.ai/zbooster/Antenna_Outlier-1/runs/y96fbwzb\" target=\"_blank\">https://wandb.ai/zbooster/Antenna_Outlier-1/runs/y96fbwzb</a><br/>Synced 5 W&B file(s), 0 media file(s), 0 artifact file(s) and 0 other file(s)"
      ],
      "text/plain": [
       "<IPython.core.display.HTML object>"
      ]
     },
     "metadata": {},
     "output_type": "display_data"
    },
    {
     "data": {
      "text/html": [
       "Find logs at: <code>./wandb/run-20220817_064110-y96fbwzb/logs</code>"
      ],
      "text/plain": [
       "<IPython.core.display.HTML object>"
      ]
     },
     "metadata": {},
     "output_type": "display_data"
    },
    {
     "name": "stderr",
     "output_type": "stream",
     "text": [
      "\u001b[34m\u001b[1mwandb\u001b[0m: Agent Starting Run: vgrpvf8z with config:\n",
      "\u001b[34m\u001b[1mwandb\u001b[0m: \tdrop_index: [70, 280, 6213, 13585, 37911]\n",
      "\u001b[34m\u001b[1mwandb\u001b[0m: \toutlier: 2402\n"
     ]
    },
    {
     "data": {
      "text/html": [
       "Tracking run with wandb version 0.13.1"
      ],
      "text/plain": [
       "<IPython.core.display.HTML object>"
      ]
     },
     "metadata": {},
     "output_type": "display_data"
    },
    {
     "data": {
      "text/html": [
       "Run data is saved locally in <code>/content/Antenna-Performance-Prediction/wandb/run-20220817_064157-vgrpvf8z</code>"
      ],
      "text/plain": [
       "<IPython.core.display.HTML object>"
      ]
     },
     "metadata": {},
     "output_type": "display_data"
    },
    {
     "data": {
      "text/html": [
       "Syncing run <strong><a href=\"https://wandb.ai/zbooster/Antenna_Outlier-1/runs/vgrpvf8z\" target=\"_blank\">vivid-sweep-28</a></strong> to <a href=\"https://wandb.ai/zbooster/Antenna_Outlier-1\" target=\"_blank\">Weights & Biases</a> (<a href=\"https://wandb.me/run\" target=\"_blank\">docs</a>)<br/>Sweep page:  <a href=\"https://wandb.ai/zbooster/Antenna_Outlier-1/sweeps/nj4jorxe\" target=\"_blank\">https://wandb.ai/zbooster/Antenna_Outlier-1/sweeps/nj4jorxe</a>"
      ],
      "text/plain": [
       "<IPython.core.display.HTML object>"
      ]
     },
     "metadata": {},
     "output_type": "display_data"
    },
    {
     "data": {
      "text/html": [
       "Waiting for W&B process to finish... <strong style=\"color:green\">(success).</strong>"
      ],
      "text/plain": [
       "<IPython.core.display.HTML object>"
      ]
     },
     "metadata": {},
     "output_type": "display_data"
    },
    {
     "data": {
      "application/vnd.jupyter.widget-view+json": {
       "model_id": "cdf1fbbc32804a3c9f442135d0237941",
       "version_major": 2,
       "version_minor": 0
      },
      "text/plain": [
       "VBox(children=(Label(value='0.001 MB of 0.001 MB uploaded (0.000 MB deduped)\\r'), FloatProgress(value=1.0, max…"
      ]
     },
     "metadata": {},
     "output_type": "display_data"
    },
    {
     "data": {
      "text/html": [
       "<style>\n",
       "    table.wandb td:nth-child(1) { padding: 0 10px; text-align: left ; width: auto;} td:nth-child(2) {text-align: left ; width: 100%}\n",
       "    .wandb-row { display: flex; flex-direction: row; flex-wrap: wrap; justify-content: flex-start; width: 100% }\n",
       "    .wandb-col { display: flex; flex-direction: column; flex-basis: 100%; flex: 1; padding: 10px; }\n",
       "    </style>\n",
       "<div class=\"wandb-row\"><div class=\"wandb-col\"><h3>Run history:</h3><br/><table class=\"wandb\"><tr><td>LG_NRMSE_BEST</td><td>▁</td></tr><tr><td>LG_NRMSE_MEAN</td><td>▁</td></tr><tr><td>Y_01_NRMSE</td><td>▁</td></tr><tr><td>Y_02_NRMSE</td><td>▁</td></tr><tr><td>Y_03_NRMSE</td><td>▁</td></tr><tr><td>Y_04_NRMSE</td><td>▁</td></tr><tr><td>Y_05_NRMSE</td><td>▁</td></tr><tr><td>Y_06_NRMSE</td><td>▁</td></tr><tr><td>Y_07_NRMSE</td><td>▁</td></tr><tr><td>Y_08_NRMSE</td><td>▁</td></tr><tr><td>Y_09_NRMSE</td><td>▁</td></tr><tr><td>Y_10_NRMSE</td><td>▁</td></tr><tr><td>Y_11_NRMSE</td><td>▁</td></tr><tr><td>Y_12_NRMSE</td><td>▁</td></tr><tr><td>Y_13_NRMSE</td><td>▁</td></tr><tr><td>Y_14_NRMSE</td><td>▁</td></tr></table><br/></div><div class=\"wandb-col\"><h3>Run summary:</h3><br/><table class=\"wandb\"><tr><td>LG_NRMSE_BEST</td><td>1.9411</td></tr><tr><td>LG_NRMSE_MEAN</td><td>1.9411</td></tr><tr><td>Y_01_NRMSE</td><td>0.25279</td></tr><tr><td>Y_02_NRMSE</td><td>0.35121</td></tr><tr><td>Y_03_NRMSE</td><td>0.34433</td></tr><tr><td>Y_04_NRMSE</td><td>0.18629</td></tr><tr><td>Y_05_NRMSE</td><td>0.07922</td></tr><tr><td>Y_06_NRMSE</td><td>0.10819</td></tr><tr><td>Y_07_NRMSE</td><td>0.13153</td></tr><tr><td>Y_08_NRMSE</td><td>0.02415</td></tr><tr><td>Y_09_NRMSE</td><td>0.02388</td></tr><tr><td>Y_10_NRMSE</td><td>0.03866</td></tr><tr><td>Y_11_NRMSE</td><td>0.03348</td></tr><tr><td>Y_12_NRMSE</td><td>0.02394</td></tr><tr><td>Y_13_NRMSE</td><td>0.02392</td></tr><tr><td>Y_14_NRMSE</td><td>0.02396</td></tr></table><br/></div></div>"
      ],
      "text/plain": [
       "<IPython.core.display.HTML object>"
      ]
     },
     "metadata": {},
     "output_type": "display_data"
    },
    {
     "data": {
      "text/html": [
       "Synced <strong style=\"color:#cdcd00\">vivid-sweep-28</strong>: <a href=\"https://wandb.ai/zbooster/Antenna_Outlier-1/runs/vgrpvf8z\" target=\"_blank\">https://wandb.ai/zbooster/Antenna_Outlier-1/runs/vgrpvf8z</a><br/>Synced 5 W&B file(s), 0 media file(s), 0 artifact file(s) and 0 other file(s)"
      ],
      "text/plain": [
       "<IPython.core.display.HTML object>"
      ]
     },
     "metadata": {},
     "output_type": "display_data"
    },
    {
     "data": {
      "text/html": [
       "Find logs at: <code>./wandb/run-20220817_064157-vgrpvf8z/logs</code>"
      ],
      "text/plain": [
       "<IPython.core.display.HTML object>"
      ]
     },
     "metadata": {},
     "output_type": "display_data"
    },
    {
     "name": "stderr",
     "output_type": "stream",
     "text": [
      "\u001b[34m\u001b[1mwandb\u001b[0m: Agent Starting Run: 83l9hggc with config:\n",
      "\u001b[34m\u001b[1mwandb\u001b[0m: \tdrop_index: [70, 280, 6213, 13585, 37911]\n",
      "\u001b[34m\u001b[1mwandb\u001b[0m: \toutlier: 2416\n"
     ]
    },
    {
     "data": {
      "text/html": [
       "Tracking run with wandb version 0.13.1"
      ],
      "text/plain": [
       "<IPython.core.display.HTML object>"
      ]
     },
     "metadata": {},
     "output_type": "display_data"
    },
    {
     "data": {
      "text/html": [
       "Run data is saved locally in <code>/content/Antenna-Performance-Prediction/wandb/run-20220817_064244-83l9hggc</code>"
      ],
      "text/plain": [
       "<IPython.core.display.HTML object>"
      ]
     },
     "metadata": {},
     "output_type": "display_data"
    },
    {
     "data": {
      "text/html": [
       "Syncing run <strong><a href=\"https://wandb.ai/zbooster/Antenna_Outlier-1/runs/83l9hggc\" target=\"_blank\">trim-sweep-29</a></strong> to <a href=\"https://wandb.ai/zbooster/Antenna_Outlier-1\" target=\"_blank\">Weights & Biases</a> (<a href=\"https://wandb.me/run\" target=\"_blank\">docs</a>)<br/>Sweep page:  <a href=\"https://wandb.ai/zbooster/Antenna_Outlier-1/sweeps/nj4jorxe\" target=\"_blank\">https://wandb.ai/zbooster/Antenna_Outlier-1/sweeps/nj4jorxe</a>"
      ],
      "text/plain": [
       "<IPython.core.display.HTML object>"
      ]
     },
     "metadata": {},
     "output_type": "display_data"
    },
    {
     "data": {
      "text/html": [
       "Waiting for W&B process to finish... <strong style=\"color:green\">(success).</strong>"
      ],
      "text/plain": [
       "<IPython.core.display.HTML object>"
      ]
     },
     "metadata": {},
     "output_type": "display_data"
    },
    {
     "data": {
      "application/vnd.jupyter.widget-view+json": {
       "model_id": "342101680e1c4cf49386cfa3832f5172",
       "version_major": 2,
       "version_minor": 0
      },
      "text/plain": [
       "VBox(children=(Label(value='0.001 MB of 0.001 MB uploaded (0.000 MB deduped)\\r'), FloatProgress(value=1.0, max…"
      ]
     },
     "metadata": {},
     "output_type": "display_data"
    },
    {
     "data": {
      "text/html": [
       "<style>\n",
       "    table.wandb td:nth-child(1) { padding: 0 10px; text-align: left ; width: auto;} td:nth-child(2) {text-align: left ; width: 100%}\n",
       "    .wandb-row { display: flex; flex-direction: row; flex-wrap: wrap; justify-content: flex-start; width: 100% }\n",
       "    .wandb-col { display: flex; flex-direction: column; flex-basis: 100%; flex: 1; padding: 10px; }\n",
       "    </style>\n",
       "<div class=\"wandb-row\"><div class=\"wandb-col\"><h3>Run history:</h3><br/><table class=\"wandb\"><tr><td>LG_NRMSE_BEST</td><td>▁</td></tr><tr><td>LG_NRMSE_MEAN</td><td>▁</td></tr><tr><td>Y_01_NRMSE</td><td>▁</td></tr><tr><td>Y_02_NRMSE</td><td>▁</td></tr><tr><td>Y_03_NRMSE</td><td>▁</td></tr><tr><td>Y_04_NRMSE</td><td>▁</td></tr><tr><td>Y_05_NRMSE</td><td>▁</td></tr><tr><td>Y_06_NRMSE</td><td>▁</td></tr><tr><td>Y_07_NRMSE</td><td>▁</td></tr><tr><td>Y_08_NRMSE</td><td>▁</td></tr><tr><td>Y_09_NRMSE</td><td>▁</td></tr><tr><td>Y_10_NRMSE</td><td>▁</td></tr><tr><td>Y_11_NRMSE</td><td>▁</td></tr><tr><td>Y_12_NRMSE</td><td>▁</td></tr><tr><td>Y_13_NRMSE</td><td>▁</td></tr><tr><td>Y_14_NRMSE</td><td>▁</td></tr></table><br/></div><div class=\"wandb-col\"><h3>Run summary:</h3><br/><table class=\"wandb\"><tr><td>LG_NRMSE_BEST</td><td>1.94046</td></tr><tr><td>LG_NRMSE_MEAN</td><td>1.94046</td></tr><tr><td>Y_01_NRMSE</td><td>0.25267</td></tr><tr><td>Y_02_NRMSE</td><td>0.35104</td></tr><tr><td>Y_03_NRMSE</td><td>0.34413</td></tr><tr><td>Y_04_NRMSE</td><td>0.18631</td></tr><tr><td>Y_05_NRMSE</td><td>0.07924</td></tr><tr><td>Y_06_NRMSE</td><td>0.10816</td></tr><tr><td>Y_07_NRMSE</td><td>0.13149</td></tr><tr><td>Y_08_NRMSE</td><td>0.02414</td></tr><tr><td>Y_09_NRMSE</td><td>0.02388</td></tr><tr><td>Y_10_NRMSE</td><td>0.03867</td></tr><tr><td>Y_11_NRMSE</td><td>0.03348</td></tr><tr><td>Y_12_NRMSE</td><td>0.02394</td></tr><tr><td>Y_13_NRMSE</td><td>0.02392</td></tr><tr><td>Y_14_NRMSE</td><td>0.02396</td></tr></table><br/></div></div>"
      ],
      "text/plain": [
       "<IPython.core.display.HTML object>"
      ]
     },
     "metadata": {},
     "output_type": "display_data"
    },
    {
     "data": {
      "text/html": [
       "Synced <strong style=\"color:#cdcd00\">trim-sweep-29</strong>: <a href=\"https://wandb.ai/zbooster/Antenna_Outlier-1/runs/83l9hggc\" target=\"_blank\">https://wandb.ai/zbooster/Antenna_Outlier-1/runs/83l9hggc</a><br/>Synced 5 W&B file(s), 0 media file(s), 0 artifact file(s) and 0 other file(s)"
      ],
      "text/plain": [
       "<IPython.core.display.HTML object>"
      ]
     },
     "metadata": {},
     "output_type": "display_data"
    },
    {
     "data": {
      "text/html": [
       "Find logs at: <code>./wandb/run-20220817_064244-83l9hggc/logs</code>"
      ],
      "text/plain": [
       "<IPython.core.display.HTML object>"
      ]
     },
     "metadata": {},
     "output_type": "display_data"
    },
    {
     "name": "stderr",
     "output_type": "stream",
     "text": [
      "\u001b[34m\u001b[1mwandb\u001b[0m: Agent Starting Run: 7licq7pr with config:\n",
      "\u001b[34m\u001b[1mwandb\u001b[0m: \tdrop_index: [70, 280, 6213, 13585, 37911]\n",
      "\u001b[34m\u001b[1mwandb\u001b[0m: \toutlier: 2418\n"
     ]
    },
    {
     "data": {
      "text/html": [
       "Tracking run with wandb version 0.13.1"
      ],
      "text/plain": [
       "<IPython.core.display.HTML object>"
      ]
     },
     "metadata": {},
     "output_type": "display_data"
    },
    {
     "data": {
      "text/html": [
       "Run data is saved locally in <code>/content/Antenna-Performance-Prediction/wandb/run-20220817_064332-7licq7pr</code>"
      ],
      "text/plain": [
       "<IPython.core.display.HTML object>"
      ]
     },
     "metadata": {},
     "output_type": "display_data"
    },
    {
     "data": {
      "text/html": [
       "Syncing run <strong><a href=\"https://wandb.ai/zbooster/Antenna_Outlier-1/runs/7licq7pr\" target=\"_blank\">noble-sweep-30</a></strong> to <a href=\"https://wandb.ai/zbooster/Antenna_Outlier-1\" target=\"_blank\">Weights & Biases</a> (<a href=\"https://wandb.me/run\" target=\"_blank\">docs</a>)<br/>Sweep page:  <a href=\"https://wandb.ai/zbooster/Antenna_Outlier-1/sweeps/nj4jorxe\" target=\"_blank\">https://wandb.ai/zbooster/Antenna_Outlier-1/sweeps/nj4jorxe</a>"
      ],
      "text/plain": [
       "<IPython.core.display.HTML object>"
      ]
     },
     "metadata": {},
     "output_type": "display_data"
    },
    {
     "data": {
      "text/html": [
       "Waiting for W&B process to finish... <strong style=\"color:green\">(success).</strong>"
      ],
      "text/plain": [
       "<IPython.core.display.HTML object>"
      ]
     },
     "metadata": {},
     "output_type": "display_data"
    },
    {
     "data": {
      "application/vnd.jupyter.widget-view+json": {
       "model_id": "1e47e82ab41249fd8258391828552593",
       "version_major": 2,
       "version_minor": 0
      },
      "text/plain": [
       "VBox(children=(Label(value='0.001 MB of 0.001 MB uploaded (0.000 MB deduped)\\r'), FloatProgress(value=1.0, max…"
      ]
     },
     "metadata": {},
     "output_type": "display_data"
    },
    {
     "data": {
      "text/html": [
       "<style>\n",
       "    table.wandb td:nth-child(1) { padding: 0 10px; text-align: left ; width: auto;} td:nth-child(2) {text-align: left ; width: 100%}\n",
       "    .wandb-row { display: flex; flex-direction: row; flex-wrap: wrap; justify-content: flex-start; width: 100% }\n",
       "    .wandb-col { display: flex; flex-direction: column; flex-basis: 100%; flex: 1; padding: 10px; }\n",
       "    </style>\n",
       "<div class=\"wandb-row\"><div class=\"wandb-col\"><h3>Run history:</h3><br/><table class=\"wandb\"><tr><td>LG_NRMSE_BEST</td><td>▁</td></tr><tr><td>LG_NRMSE_MEAN</td><td>▁</td></tr><tr><td>Y_01_NRMSE</td><td>▁</td></tr><tr><td>Y_02_NRMSE</td><td>▁</td></tr><tr><td>Y_03_NRMSE</td><td>▁</td></tr><tr><td>Y_04_NRMSE</td><td>▁</td></tr><tr><td>Y_05_NRMSE</td><td>▁</td></tr><tr><td>Y_06_NRMSE</td><td>▁</td></tr><tr><td>Y_07_NRMSE</td><td>▁</td></tr><tr><td>Y_08_NRMSE</td><td>▁</td></tr><tr><td>Y_09_NRMSE</td><td>▁</td></tr><tr><td>Y_10_NRMSE</td><td>▁</td></tr><tr><td>Y_11_NRMSE</td><td>▁</td></tr><tr><td>Y_12_NRMSE</td><td>▁</td></tr><tr><td>Y_13_NRMSE</td><td>▁</td></tr><tr><td>Y_14_NRMSE</td><td>▁</td></tr></table><br/></div><div class=\"wandb-col\"><h3>Run summary:</h3><br/><table class=\"wandb\"><tr><td>LG_NRMSE_BEST</td><td>1.94029</td></tr><tr><td>LG_NRMSE_MEAN</td><td>1.94029</td></tr><tr><td>Y_01_NRMSE</td><td>0.25264</td></tr><tr><td>Y_02_NRMSE</td><td>0.35105</td></tr><tr><td>Y_03_NRMSE</td><td>0.34411</td></tr><tr><td>Y_04_NRMSE</td><td>0.18633</td></tr><tr><td>Y_05_NRMSE</td><td>0.07923</td></tr><tr><td>Y_06_NRMSE</td><td>0.1081</td></tr><tr><td>Y_07_NRMSE</td><td>0.13149</td></tr><tr><td>Y_08_NRMSE</td><td>0.02414</td></tr><tr><td>Y_09_NRMSE</td><td>0.02387</td></tr><tr><td>Y_10_NRMSE</td><td>0.03866</td></tr><tr><td>Y_11_NRMSE</td><td>0.03348</td></tr><tr><td>Y_12_NRMSE</td><td>0.02393</td></tr><tr><td>Y_13_NRMSE</td><td>0.02391</td></tr><tr><td>Y_14_NRMSE</td><td>0.02395</td></tr></table><br/></div></div>"
      ],
      "text/plain": [
       "<IPython.core.display.HTML object>"
      ]
     },
     "metadata": {},
     "output_type": "display_data"
    },
    {
     "data": {
      "text/html": [
       "Synced <strong style=\"color:#cdcd00\">noble-sweep-30</strong>: <a href=\"https://wandb.ai/zbooster/Antenna_Outlier-1/runs/7licq7pr\" target=\"_blank\">https://wandb.ai/zbooster/Antenna_Outlier-1/runs/7licq7pr</a><br/>Synced 5 W&B file(s), 0 media file(s), 0 artifact file(s) and 0 other file(s)"
      ],
      "text/plain": [
       "<IPython.core.display.HTML object>"
      ]
     },
     "metadata": {},
     "output_type": "display_data"
    },
    {
     "data": {
      "text/html": [
       "Find logs at: <code>./wandb/run-20220817_064332-7licq7pr/logs</code>"
      ],
      "text/plain": [
       "<IPython.core.display.HTML object>"
      ]
     },
     "metadata": {},
     "output_type": "display_data"
    },
    {
     "name": "stderr",
     "output_type": "stream",
     "text": [
      "\u001b[34m\u001b[1mwandb\u001b[0m: Agent Starting Run: wc0ojvi0 with config:\n",
      "\u001b[34m\u001b[1mwandb\u001b[0m: \tdrop_index: [70, 280, 6213, 13585, 37911]\n",
      "\u001b[34m\u001b[1mwandb\u001b[0m: \toutlier: 2449\n"
     ]
    },
    {
     "data": {
      "text/html": [
       "Tracking run with wandb version 0.13.1"
      ],
      "text/plain": [
       "<IPython.core.display.HTML object>"
      ]
     },
     "metadata": {},
     "output_type": "display_data"
    },
    {
     "data": {
      "text/html": [
       "Run data is saved locally in <code>/content/Antenna-Performance-Prediction/wandb/run-20220817_064419-wc0ojvi0</code>"
      ],
      "text/plain": [
       "<IPython.core.display.HTML object>"
      ]
     },
     "metadata": {},
     "output_type": "display_data"
    },
    {
     "data": {
      "text/html": [
       "Syncing run <strong><a href=\"https://wandb.ai/zbooster/Antenna_Outlier-1/runs/wc0ojvi0\" target=\"_blank\">sweepy-sweep-31</a></strong> to <a href=\"https://wandb.ai/zbooster/Antenna_Outlier-1\" target=\"_blank\">Weights & Biases</a> (<a href=\"https://wandb.me/run\" target=\"_blank\">docs</a>)<br/>Sweep page:  <a href=\"https://wandb.ai/zbooster/Antenna_Outlier-1/sweeps/nj4jorxe\" target=\"_blank\">https://wandb.ai/zbooster/Antenna_Outlier-1/sweeps/nj4jorxe</a>"
      ],
      "text/plain": [
       "<IPython.core.display.HTML object>"
      ]
     },
     "metadata": {},
     "output_type": "display_data"
    },
    {
     "data": {
      "text/html": [
       "Waiting for W&B process to finish... <strong style=\"color:green\">(success).</strong>"
      ],
      "text/plain": [
       "<IPython.core.display.HTML object>"
      ]
     },
     "metadata": {},
     "output_type": "display_data"
    },
    {
     "data": {
      "application/vnd.jupyter.widget-view+json": {
       "model_id": "005dd5ae6ef5427da4a001cf3a4c7203",
       "version_major": 2,
       "version_minor": 0
      },
      "text/plain": [
       "VBox(children=(Label(value='0.001 MB of 0.001 MB uploaded (0.000 MB deduped)\\r'), FloatProgress(value=1.0, max…"
      ]
     },
     "metadata": {},
     "output_type": "display_data"
    },
    {
     "data": {
      "text/html": [
       "<style>\n",
       "    table.wandb td:nth-child(1) { padding: 0 10px; text-align: left ; width: auto;} td:nth-child(2) {text-align: left ; width: 100%}\n",
       "    .wandb-row { display: flex; flex-direction: row; flex-wrap: wrap; justify-content: flex-start; width: 100% }\n",
       "    .wandb-col { display: flex; flex-direction: column; flex-basis: 100%; flex: 1; padding: 10px; }\n",
       "    </style>\n",
       "<div class=\"wandb-row\"><div class=\"wandb-col\"><h3>Run history:</h3><br/><table class=\"wandb\"><tr><td>LG_NRMSE_BEST</td><td>▁</td></tr><tr><td>LG_NRMSE_MEAN</td><td>▁</td></tr><tr><td>Y_01_NRMSE</td><td>▁</td></tr><tr><td>Y_02_NRMSE</td><td>▁</td></tr><tr><td>Y_03_NRMSE</td><td>▁</td></tr><tr><td>Y_04_NRMSE</td><td>▁</td></tr><tr><td>Y_05_NRMSE</td><td>▁</td></tr><tr><td>Y_06_NRMSE</td><td>▁</td></tr><tr><td>Y_07_NRMSE</td><td>▁</td></tr><tr><td>Y_08_NRMSE</td><td>▁</td></tr><tr><td>Y_09_NRMSE</td><td>▁</td></tr><tr><td>Y_10_NRMSE</td><td>▁</td></tr><tr><td>Y_11_NRMSE</td><td>▁</td></tr><tr><td>Y_12_NRMSE</td><td>▁</td></tr><tr><td>Y_13_NRMSE</td><td>▁</td></tr><tr><td>Y_14_NRMSE</td><td>▁</td></tr></table><br/></div><div class=\"wandb-col\"><h3>Run summary:</h3><br/><table class=\"wandb\"><tr><td>LG_NRMSE_BEST</td><td>1.94049</td></tr><tr><td>LG_NRMSE_MEAN</td><td>1.94049</td></tr><tr><td>Y_01_NRMSE</td><td>0.25266</td></tr><tr><td>Y_02_NRMSE</td><td>0.35115</td></tr><tr><td>Y_03_NRMSE</td><td>0.34403</td></tr><tr><td>Y_04_NRMSE</td><td>0.18634</td></tr><tr><td>Y_05_NRMSE</td><td>0.07927</td></tr><tr><td>Y_06_NRMSE</td><td>0.10813</td></tr><tr><td>Y_07_NRMSE</td><td>0.13155</td></tr><tr><td>Y_08_NRMSE</td><td>0.02413</td></tr><tr><td>Y_09_NRMSE</td><td>0.02387</td></tr><tr><td>Y_10_NRMSE</td><td>0.03866</td></tr><tr><td>Y_11_NRMSE</td><td>0.03348</td></tr><tr><td>Y_12_NRMSE</td><td>0.02393</td></tr><tr><td>Y_13_NRMSE</td><td>0.02391</td></tr><tr><td>Y_14_NRMSE</td><td>0.02395</td></tr></table><br/></div></div>"
      ],
      "text/plain": [
       "<IPython.core.display.HTML object>"
      ]
     },
     "metadata": {},
     "output_type": "display_data"
    },
    {
     "data": {
      "text/html": [
       "Synced <strong style=\"color:#cdcd00\">sweepy-sweep-31</strong>: <a href=\"https://wandb.ai/zbooster/Antenna_Outlier-1/runs/wc0ojvi0\" target=\"_blank\">https://wandb.ai/zbooster/Antenna_Outlier-1/runs/wc0ojvi0</a><br/>Synced 5 W&B file(s), 0 media file(s), 0 artifact file(s) and 0 other file(s)"
      ],
      "text/plain": [
       "<IPython.core.display.HTML object>"
      ]
     },
     "metadata": {},
     "output_type": "display_data"
    },
    {
     "data": {
      "text/html": [
       "Find logs at: <code>./wandb/run-20220817_064419-wc0ojvi0/logs</code>"
      ],
      "text/plain": [
       "<IPython.core.display.HTML object>"
      ]
     },
     "metadata": {},
     "output_type": "display_data"
    },
    {
     "name": "stderr",
     "output_type": "stream",
     "text": [
      "\u001b[34m\u001b[1mwandb\u001b[0m: Agent Starting Run: 6xlvcodg with config:\n",
      "\u001b[34m\u001b[1mwandb\u001b[0m: \tdrop_index: [70, 280, 6213, 13585, 37911]\n",
      "\u001b[34m\u001b[1mwandb\u001b[0m: \toutlier: 2452\n"
     ]
    },
    {
     "data": {
      "text/html": [
       "Tracking run with wandb version 0.13.1"
      ],
      "text/plain": [
       "<IPython.core.display.HTML object>"
      ]
     },
     "metadata": {},
     "output_type": "display_data"
    },
    {
     "data": {
      "text/html": [
       "Run data is saved locally in <code>/content/Antenna-Performance-Prediction/wandb/run-20220817_064507-6xlvcodg</code>"
      ],
      "text/plain": [
       "<IPython.core.display.HTML object>"
      ]
     },
     "metadata": {},
     "output_type": "display_data"
    },
    {
     "data": {
      "text/html": [
       "Syncing run <strong><a href=\"https://wandb.ai/zbooster/Antenna_Outlier-1/runs/6xlvcodg\" target=\"_blank\">sweet-sweep-32</a></strong> to <a href=\"https://wandb.ai/zbooster/Antenna_Outlier-1\" target=\"_blank\">Weights & Biases</a> (<a href=\"https://wandb.me/run\" target=\"_blank\">docs</a>)<br/>Sweep page:  <a href=\"https://wandb.ai/zbooster/Antenna_Outlier-1/sweeps/nj4jorxe\" target=\"_blank\">https://wandb.ai/zbooster/Antenna_Outlier-1/sweeps/nj4jorxe</a>"
      ],
      "text/plain": [
       "<IPython.core.display.HTML object>"
      ]
     },
     "metadata": {},
     "output_type": "display_data"
    },
    {
     "data": {
      "text/html": [
       "Waiting for W&B process to finish... <strong style=\"color:green\">(success).</strong>"
      ],
      "text/plain": [
       "<IPython.core.display.HTML object>"
      ]
     },
     "metadata": {},
     "output_type": "display_data"
    },
    {
     "data": {
      "application/vnd.jupyter.widget-view+json": {
       "model_id": "5894cba93a7d427f80eb63b9971c4289",
       "version_major": 2,
       "version_minor": 0
      },
      "text/plain": [
       "VBox(children=(Label(value='0.001 MB of 0.001 MB uploaded (0.000 MB deduped)\\r'), FloatProgress(value=1.0, max…"
      ]
     },
     "metadata": {},
     "output_type": "display_data"
    },
    {
     "data": {
      "text/html": [
       "<style>\n",
       "    table.wandb td:nth-child(1) { padding: 0 10px; text-align: left ; width: auto;} td:nth-child(2) {text-align: left ; width: 100%}\n",
       "    .wandb-row { display: flex; flex-direction: row; flex-wrap: wrap; justify-content: flex-start; width: 100% }\n",
       "    .wandb-col { display: flex; flex-direction: column; flex-basis: 100%; flex: 1; padding: 10px; }\n",
       "    </style>\n",
       "<div class=\"wandb-row\"><div class=\"wandb-col\"><h3>Run history:</h3><br/><table class=\"wandb\"><tr><td>LG_NRMSE_BEST</td><td>▁</td></tr><tr><td>LG_NRMSE_MEAN</td><td>▁</td></tr><tr><td>Y_01_NRMSE</td><td>▁</td></tr><tr><td>Y_02_NRMSE</td><td>▁</td></tr><tr><td>Y_03_NRMSE</td><td>▁</td></tr><tr><td>Y_04_NRMSE</td><td>▁</td></tr><tr><td>Y_05_NRMSE</td><td>▁</td></tr><tr><td>Y_06_NRMSE</td><td>▁</td></tr><tr><td>Y_07_NRMSE</td><td>▁</td></tr><tr><td>Y_08_NRMSE</td><td>▁</td></tr><tr><td>Y_09_NRMSE</td><td>▁</td></tr><tr><td>Y_10_NRMSE</td><td>▁</td></tr><tr><td>Y_11_NRMSE</td><td>▁</td></tr><tr><td>Y_12_NRMSE</td><td>▁</td></tr><tr><td>Y_13_NRMSE</td><td>▁</td></tr><tr><td>Y_14_NRMSE</td><td>▁</td></tr></table><br/></div><div class=\"wandb-col\"><h3>Run summary:</h3><br/><table class=\"wandb\"><tr><td>LG_NRMSE_BEST</td><td>1.94047</td></tr><tr><td>LG_NRMSE_MEAN</td><td>1.94047</td></tr><tr><td>Y_01_NRMSE</td><td>0.25264</td></tr><tr><td>Y_02_NRMSE</td><td>0.35116</td></tr><tr><td>Y_03_NRMSE</td><td>0.34402</td></tr><tr><td>Y_04_NRMSE</td><td>0.18636</td></tr><tr><td>Y_05_NRMSE</td><td>0.07926</td></tr><tr><td>Y_06_NRMSE</td><td>0.1081</td></tr><tr><td>Y_07_NRMSE</td><td>0.13156</td></tr><tr><td>Y_08_NRMSE</td><td>0.02413</td></tr><tr><td>Y_09_NRMSE</td><td>0.02387</td></tr><tr><td>Y_10_NRMSE</td><td>0.03866</td></tr><tr><td>Y_11_NRMSE</td><td>0.03348</td></tr><tr><td>Y_12_NRMSE</td><td>0.02393</td></tr><tr><td>Y_13_NRMSE</td><td>0.02391</td></tr><tr><td>Y_14_NRMSE</td><td>0.02395</td></tr></table><br/></div></div>"
      ],
      "text/plain": [
       "<IPython.core.display.HTML object>"
      ]
     },
     "metadata": {},
     "output_type": "display_data"
    },
    {
     "data": {
      "text/html": [
       "Synced <strong style=\"color:#cdcd00\">sweet-sweep-32</strong>: <a href=\"https://wandb.ai/zbooster/Antenna_Outlier-1/runs/6xlvcodg\" target=\"_blank\">https://wandb.ai/zbooster/Antenna_Outlier-1/runs/6xlvcodg</a><br/>Synced 5 W&B file(s), 0 media file(s), 0 artifact file(s) and 0 other file(s)"
      ],
      "text/plain": [
       "<IPython.core.display.HTML object>"
      ]
     },
     "metadata": {},
     "output_type": "display_data"
    },
    {
     "data": {
      "text/html": [
       "Find logs at: <code>./wandb/run-20220817_064507-6xlvcodg/logs</code>"
      ],
      "text/plain": [
       "<IPython.core.display.HTML object>"
      ]
     },
     "metadata": {},
     "output_type": "display_data"
    },
    {
     "name": "stderr",
     "output_type": "stream",
     "text": [
      "\u001b[34m\u001b[1mwandb\u001b[0m: Agent Starting Run: 8q47c8ws with config:\n",
      "\u001b[34m\u001b[1mwandb\u001b[0m: \tdrop_index: [70, 280, 6213, 13585, 37911]\n",
      "\u001b[34m\u001b[1mwandb\u001b[0m: \toutlier: 2467\n"
     ]
    },
    {
     "data": {
      "text/html": [
       "Tracking run with wandb version 0.13.1"
      ],
      "text/plain": [
       "<IPython.core.display.HTML object>"
      ]
     },
     "metadata": {},
     "output_type": "display_data"
    },
    {
     "data": {
      "text/html": [
       "Run data is saved locally in <code>/content/Antenna-Performance-Prediction/wandb/run-20220817_064554-8q47c8ws</code>"
      ],
      "text/plain": [
       "<IPython.core.display.HTML object>"
      ]
     },
     "metadata": {},
     "output_type": "display_data"
    },
    {
     "data": {
      "text/html": [
       "Syncing run <strong><a href=\"https://wandb.ai/zbooster/Antenna_Outlier-1/runs/8q47c8ws\" target=\"_blank\">curious-sweep-33</a></strong> to <a href=\"https://wandb.ai/zbooster/Antenna_Outlier-1\" target=\"_blank\">Weights & Biases</a> (<a href=\"https://wandb.me/run\" target=\"_blank\">docs</a>)<br/>Sweep page:  <a href=\"https://wandb.ai/zbooster/Antenna_Outlier-1/sweeps/nj4jorxe\" target=\"_blank\">https://wandb.ai/zbooster/Antenna_Outlier-1/sweeps/nj4jorxe</a>"
      ],
      "text/plain": [
       "<IPython.core.display.HTML object>"
      ]
     },
     "metadata": {},
     "output_type": "display_data"
    },
    {
     "data": {
      "text/html": [
       "Waiting for W&B process to finish... <strong style=\"color:green\">(success).</strong>"
      ],
      "text/plain": [
       "<IPython.core.display.HTML object>"
      ]
     },
     "metadata": {},
     "output_type": "display_data"
    },
    {
     "data": {
      "application/vnd.jupyter.widget-view+json": {
       "model_id": "378c47dcac274156987178476d40bba7",
       "version_major": 2,
       "version_minor": 0
      },
      "text/plain": [
       "VBox(children=(Label(value='0.001 MB of 0.001 MB uploaded (0.000 MB deduped)\\r'), FloatProgress(value=1.0, max…"
      ]
     },
     "metadata": {},
     "output_type": "display_data"
    },
    {
     "data": {
      "text/html": [
       "<style>\n",
       "    table.wandb td:nth-child(1) { padding: 0 10px; text-align: left ; width: auto;} td:nth-child(2) {text-align: left ; width: 100%}\n",
       "    .wandb-row { display: flex; flex-direction: row; flex-wrap: wrap; justify-content: flex-start; width: 100% }\n",
       "    .wandb-col { display: flex; flex-direction: column; flex-basis: 100%; flex: 1; padding: 10px; }\n",
       "    </style>\n",
       "<div class=\"wandb-row\"><div class=\"wandb-col\"><h3>Run history:</h3><br/><table class=\"wandb\"><tr><td>LG_NRMSE_BEST</td><td>▁</td></tr><tr><td>LG_NRMSE_MEAN</td><td>▁</td></tr><tr><td>Y_01_NRMSE</td><td>▁</td></tr><tr><td>Y_02_NRMSE</td><td>▁</td></tr><tr><td>Y_03_NRMSE</td><td>▁</td></tr><tr><td>Y_04_NRMSE</td><td>▁</td></tr><tr><td>Y_05_NRMSE</td><td>▁</td></tr><tr><td>Y_06_NRMSE</td><td>▁</td></tr><tr><td>Y_07_NRMSE</td><td>▁</td></tr><tr><td>Y_08_NRMSE</td><td>▁</td></tr><tr><td>Y_09_NRMSE</td><td>▁</td></tr><tr><td>Y_10_NRMSE</td><td>▁</td></tr><tr><td>Y_11_NRMSE</td><td>▁</td></tr><tr><td>Y_12_NRMSE</td><td>▁</td></tr><tr><td>Y_13_NRMSE</td><td>▁</td></tr><tr><td>Y_14_NRMSE</td><td>▁</td></tr></table><br/></div><div class=\"wandb-col\"><h3>Run summary:</h3><br/><table class=\"wandb\"><tr><td>LG_NRMSE_BEST</td><td>1.94047</td></tr><tr><td>LG_NRMSE_MEAN</td><td>1.94047</td></tr><tr><td>Y_01_NRMSE</td><td>0.25262</td></tr><tr><td>Y_02_NRMSE</td><td>0.35107</td></tr><tr><td>Y_03_NRMSE</td><td>0.344</td></tr><tr><td>Y_04_NRMSE</td><td>0.1864</td></tr><tr><td>Y_05_NRMSE</td><td>0.07928</td></tr><tr><td>Y_06_NRMSE</td><td>0.10814</td></tr><tr><td>Y_07_NRMSE</td><td>0.13158</td></tr><tr><td>Y_08_NRMSE</td><td>0.02414</td></tr><tr><td>Y_09_NRMSE</td><td>0.02387</td></tr><tr><td>Y_10_NRMSE</td><td>0.03866</td></tr><tr><td>Y_11_NRMSE</td><td>0.03348</td></tr><tr><td>Y_12_NRMSE</td><td>0.02393</td></tr><tr><td>Y_13_NRMSE</td><td>0.02392</td></tr><tr><td>Y_14_NRMSE</td><td>0.02395</td></tr></table><br/></div></div>"
      ],
      "text/plain": [
       "<IPython.core.display.HTML object>"
      ]
     },
     "metadata": {},
     "output_type": "display_data"
    },
    {
     "data": {
      "text/html": [
       "Synced <strong style=\"color:#cdcd00\">curious-sweep-33</strong>: <a href=\"https://wandb.ai/zbooster/Antenna_Outlier-1/runs/8q47c8ws\" target=\"_blank\">https://wandb.ai/zbooster/Antenna_Outlier-1/runs/8q47c8ws</a><br/>Synced 5 W&B file(s), 0 media file(s), 0 artifact file(s) and 0 other file(s)"
      ],
      "text/plain": [
       "<IPython.core.display.HTML object>"
      ]
     },
     "metadata": {},
     "output_type": "display_data"
    },
    {
     "data": {
      "text/html": [
       "Find logs at: <code>./wandb/run-20220817_064554-8q47c8ws/logs</code>"
      ],
      "text/plain": [
       "<IPython.core.display.HTML object>"
      ]
     },
     "metadata": {},
     "output_type": "display_data"
    },
    {
     "name": "stderr",
     "output_type": "stream",
     "text": [
      "\u001b[34m\u001b[1mwandb\u001b[0m: Agent Starting Run: wcrfrf1h with config:\n",
      "\u001b[34m\u001b[1mwandb\u001b[0m: \tdrop_index: [70, 280, 6213, 13585, 37911]\n",
      "\u001b[34m\u001b[1mwandb\u001b[0m: \toutlier: 2565\n"
     ]
    },
    {
     "data": {
      "text/html": [
       "Tracking run with wandb version 0.13.1"
      ],
      "text/plain": [
       "<IPython.core.display.HTML object>"
      ]
     },
     "metadata": {},
     "output_type": "display_data"
    },
    {
     "data": {
      "text/html": [
       "Run data is saved locally in <code>/content/Antenna-Performance-Prediction/wandb/run-20220817_064641-wcrfrf1h</code>"
      ],
      "text/plain": [
       "<IPython.core.display.HTML object>"
      ]
     },
     "metadata": {},
     "output_type": "display_data"
    },
    {
     "data": {
      "text/html": [
       "Syncing run <strong><a href=\"https://wandb.ai/zbooster/Antenna_Outlier-1/runs/wcrfrf1h\" target=\"_blank\">astral-sweep-34</a></strong> to <a href=\"https://wandb.ai/zbooster/Antenna_Outlier-1\" target=\"_blank\">Weights & Biases</a> (<a href=\"https://wandb.me/run\" target=\"_blank\">docs</a>)<br/>Sweep page:  <a href=\"https://wandb.ai/zbooster/Antenna_Outlier-1/sweeps/nj4jorxe\" target=\"_blank\">https://wandb.ai/zbooster/Antenna_Outlier-1/sweeps/nj4jorxe</a>"
      ],
      "text/plain": [
       "<IPython.core.display.HTML object>"
      ]
     },
     "metadata": {},
     "output_type": "display_data"
    },
    {
     "data": {
      "text/html": [
       "Waiting for W&B process to finish... <strong style=\"color:green\">(success).</strong>"
      ],
      "text/plain": [
       "<IPython.core.display.HTML object>"
      ]
     },
     "metadata": {},
     "output_type": "display_data"
    },
    {
     "data": {
      "application/vnd.jupyter.widget-view+json": {
       "model_id": "c21fb1a1f03f4797b7f8a0609932e3fa",
       "version_major": 2,
       "version_minor": 0
      },
      "text/plain": [
       "VBox(children=(Label(value='0.001 MB of 0.001 MB uploaded (0.000 MB deduped)\\r'), FloatProgress(value=1.0, max…"
      ]
     },
     "metadata": {},
     "output_type": "display_data"
    },
    {
     "data": {
      "text/html": [
       "<style>\n",
       "    table.wandb td:nth-child(1) { padding: 0 10px; text-align: left ; width: auto;} td:nth-child(2) {text-align: left ; width: 100%}\n",
       "    .wandb-row { display: flex; flex-direction: row; flex-wrap: wrap; justify-content: flex-start; width: 100% }\n",
       "    .wandb-col { display: flex; flex-direction: column; flex-basis: 100%; flex: 1; padding: 10px; }\n",
       "    </style>\n",
       "<div class=\"wandb-row\"><div class=\"wandb-col\"><h3>Run history:</h3><br/><table class=\"wandb\"><tr><td>LG_NRMSE_BEST</td><td>▁</td></tr><tr><td>LG_NRMSE_MEAN</td><td>▁</td></tr><tr><td>Y_01_NRMSE</td><td>▁</td></tr><tr><td>Y_02_NRMSE</td><td>▁</td></tr><tr><td>Y_03_NRMSE</td><td>▁</td></tr><tr><td>Y_04_NRMSE</td><td>▁</td></tr><tr><td>Y_05_NRMSE</td><td>▁</td></tr><tr><td>Y_06_NRMSE</td><td>▁</td></tr><tr><td>Y_07_NRMSE</td><td>▁</td></tr><tr><td>Y_08_NRMSE</td><td>▁</td></tr><tr><td>Y_09_NRMSE</td><td>▁</td></tr><tr><td>Y_10_NRMSE</td><td>▁</td></tr><tr><td>Y_11_NRMSE</td><td>▁</td></tr><tr><td>Y_12_NRMSE</td><td>▁</td></tr><tr><td>Y_13_NRMSE</td><td>▁</td></tr><tr><td>Y_14_NRMSE</td><td>▁</td></tr></table><br/></div><div class=\"wandb-col\"><h3>Run summary:</h3><br/><table class=\"wandb\"><tr><td>LG_NRMSE_BEST</td><td>1.94049</td></tr><tr><td>LG_NRMSE_MEAN</td><td>1.94049</td></tr><tr><td>Y_01_NRMSE</td><td>0.25273</td></tr><tr><td>Y_02_NRMSE</td><td>0.35125</td></tr><tr><td>Y_03_NRMSE</td><td>0.34415</td></tr><tr><td>Y_04_NRMSE</td><td>0.18641</td></tr><tr><td>Y_05_NRMSE</td><td>0.07924</td></tr><tr><td>Y_06_NRMSE</td><td>0.1077</td></tr><tr><td>Y_07_NRMSE</td><td>0.13157</td></tr><tr><td>Y_08_NRMSE</td><td>0.02414</td></tr><tr><td>Y_09_NRMSE</td><td>0.02388</td></tr><tr><td>Y_10_NRMSE</td><td>0.03865</td></tr><tr><td>Y_11_NRMSE</td><td>0.03349</td></tr><tr><td>Y_12_NRMSE</td><td>0.02394</td></tr><tr><td>Y_13_NRMSE</td><td>0.02392</td></tr><tr><td>Y_14_NRMSE</td><td>0.02397</td></tr></table><br/></div></div>"
      ],
      "text/plain": [
       "<IPython.core.display.HTML object>"
      ]
     },
     "metadata": {},
     "output_type": "display_data"
    },
    {
     "data": {
      "text/html": [
       "Synced <strong style=\"color:#cdcd00\">astral-sweep-34</strong>: <a href=\"https://wandb.ai/zbooster/Antenna_Outlier-1/runs/wcrfrf1h\" target=\"_blank\">https://wandb.ai/zbooster/Antenna_Outlier-1/runs/wcrfrf1h</a><br/>Synced 5 W&B file(s), 0 media file(s), 0 artifact file(s) and 0 other file(s)"
      ],
      "text/plain": [
       "<IPython.core.display.HTML object>"
      ]
     },
     "metadata": {},
     "output_type": "display_data"
    },
    {
     "data": {
      "text/html": [
       "Find logs at: <code>./wandb/run-20220817_064641-wcrfrf1h/logs</code>"
      ],
      "text/plain": [
       "<IPython.core.display.HTML object>"
      ]
     },
     "metadata": {},
     "output_type": "display_data"
    },
    {
     "name": "stderr",
     "output_type": "stream",
     "text": [
      "\u001b[34m\u001b[1mwandb\u001b[0m: Agent Starting Run: 9ijk8iv9 with config:\n",
      "\u001b[34m\u001b[1mwandb\u001b[0m: \tdrop_index: [70, 280, 6213, 13585, 37911]\n",
      "\u001b[34m\u001b[1mwandb\u001b[0m: \toutlier: 2569\n"
     ]
    },
    {
     "data": {
      "text/html": [
       "Tracking run with wandb version 0.13.1"
      ],
      "text/plain": [
       "<IPython.core.display.HTML object>"
      ]
     },
     "metadata": {},
     "output_type": "display_data"
    },
    {
     "data": {
      "text/html": [
       "Run data is saved locally in <code>/content/Antenna-Performance-Prediction/wandb/run-20220817_064728-9ijk8iv9</code>"
      ],
      "text/plain": [
       "<IPython.core.display.HTML object>"
      ]
     },
     "metadata": {},
     "output_type": "display_data"
    },
    {
     "data": {
      "text/html": [
       "Syncing run <strong><a href=\"https://wandb.ai/zbooster/Antenna_Outlier-1/runs/9ijk8iv9\" target=\"_blank\">crimson-sweep-35</a></strong> to <a href=\"https://wandb.ai/zbooster/Antenna_Outlier-1\" target=\"_blank\">Weights & Biases</a> (<a href=\"https://wandb.me/run\" target=\"_blank\">docs</a>)<br/>Sweep page:  <a href=\"https://wandb.ai/zbooster/Antenna_Outlier-1/sweeps/nj4jorxe\" target=\"_blank\">https://wandb.ai/zbooster/Antenna_Outlier-1/sweeps/nj4jorxe</a>"
      ],
      "text/plain": [
       "<IPython.core.display.HTML object>"
      ]
     },
     "metadata": {},
     "output_type": "display_data"
    },
    {
     "data": {
      "text/html": [
       "Waiting for W&B process to finish... <strong style=\"color:green\">(success).</strong>"
      ],
      "text/plain": [
       "<IPython.core.display.HTML object>"
      ]
     },
     "metadata": {},
     "output_type": "display_data"
    },
    {
     "data": {
      "application/vnd.jupyter.widget-view+json": {
       "model_id": "b50e57d9c966425f89f9cfd62a8fba40",
       "version_major": 2,
       "version_minor": 0
      },
      "text/plain": [
       "VBox(children=(Label(value='0.001 MB of 0.001 MB uploaded (0.000 MB deduped)\\r'), FloatProgress(value=1.0, max…"
      ]
     },
     "metadata": {},
     "output_type": "display_data"
    },
    {
     "data": {
      "text/html": [
       "<style>\n",
       "    table.wandb td:nth-child(1) { padding: 0 10px; text-align: left ; width: auto;} td:nth-child(2) {text-align: left ; width: 100%}\n",
       "    .wandb-row { display: flex; flex-direction: row; flex-wrap: wrap; justify-content: flex-start; width: 100% }\n",
       "    .wandb-col { display: flex; flex-direction: column; flex-basis: 100%; flex: 1; padding: 10px; }\n",
       "    </style>\n",
       "<div class=\"wandb-row\"><div class=\"wandb-col\"><h3>Run history:</h3><br/><table class=\"wandb\"><tr><td>LG_NRMSE_BEST</td><td>▁</td></tr><tr><td>LG_NRMSE_MEAN</td><td>▁</td></tr><tr><td>Y_01_NRMSE</td><td>▁</td></tr><tr><td>Y_02_NRMSE</td><td>▁</td></tr><tr><td>Y_03_NRMSE</td><td>▁</td></tr><tr><td>Y_04_NRMSE</td><td>▁</td></tr><tr><td>Y_05_NRMSE</td><td>▁</td></tr><tr><td>Y_06_NRMSE</td><td>▁</td></tr><tr><td>Y_07_NRMSE</td><td>▁</td></tr><tr><td>Y_08_NRMSE</td><td>▁</td></tr><tr><td>Y_09_NRMSE</td><td>▁</td></tr><tr><td>Y_10_NRMSE</td><td>▁</td></tr><tr><td>Y_11_NRMSE</td><td>▁</td></tr><tr><td>Y_12_NRMSE</td><td>▁</td></tr><tr><td>Y_13_NRMSE</td><td>▁</td></tr><tr><td>Y_14_NRMSE</td><td>▁</td></tr></table><br/></div><div class=\"wandb-col\"><h3>Run summary:</h3><br/><table class=\"wandb\"><tr><td>LG_NRMSE_BEST</td><td>1.94057</td></tr><tr><td>LG_NRMSE_MEAN</td><td>1.94057</td></tr><tr><td>Y_01_NRMSE</td><td>0.25277</td></tr><tr><td>Y_02_NRMSE</td><td>0.35127</td></tr><tr><td>Y_03_NRMSE</td><td>0.3442</td></tr><tr><td>Y_04_NRMSE</td><td>0.18641</td></tr><tr><td>Y_05_NRMSE</td><td>0.07923</td></tr><tr><td>Y_06_NRMSE</td><td>0.1077</td></tr><tr><td>Y_07_NRMSE</td><td>0.13155</td></tr><tr><td>Y_08_NRMSE</td><td>0.02414</td></tr><tr><td>Y_09_NRMSE</td><td>0.02388</td></tr><tr><td>Y_10_NRMSE</td><td>0.03864</td></tr><tr><td>Y_11_NRMSE</td><td>0.03349</td></tr><tr><td>Y_12_NRMSE</td><td>0.02394</td></tr><tr><td>Y_13_NRMSE</td><td>0.02392</td></tr><tr><td>Y_14_NRMSE</td><td>0.02397</td></tr></table><br/></div></div>"
      ],
      "text/plain": [
       "<IPython.core.display.HTML object>"
      ]
     },
     "metadata": {},
     "output_type": "display_data"
    },
    {
     "data": {
      "text/html": [
       "Synced <strong style=\"color:#cdcd00\">crimson-sweep-35</strong>: <a href=\"https://wandb.ai/zbooster/Antenna_Outlier-1/runs/9ijk8iv9\" target=\"_blank\">https://wandb.ai/zbooster/Antenna_Outlier-1/runs/9ijk8iv9</a><br/>Synced 5 W&B file(s), 0 media file(s), 0 artifact file(s) and 0 other file(s)"
      ],
      "text/plain": [
       "<IPython.core.display.HTML object>"
      ]
     },
     "metadata": {},
     "output_type": "display_data"
    },
    {
     "data": {
      "text/html": [
       "Find logs at: <code>./wandb/run-20220817_064728-9ijk8iv9/logs</code>"
      ],
      "text/plain": [
       "<IPython.core.display.HTML object>"
      ]
     },
     "metadata": {},
     "output_type": "display_data"
    },
    {
     "name": "stderr",
     "output_type": "stream",
     "text": [
      "\u001b[34m\u001b[1mwandb\u001b[0m: Sweep Agent: Waiting for job.\n",
      "\u001b[34m\u001b[1mwandb\u001b[0m: Job received.\n",
      "\u001b[34m\u001b[1mwandb\u001b[0m: Agent Starting Run: ask5ou5u with config:\n",
      "\u001b[34m\u001b[1mwandb\u001b[0m: \tdrop_index: [70, 280, 6213, 13585, 37911]\n",
      "\u001b[34m\u001b[1mwandb\u001b[0m: \toutlier: 3453\n"
     ]
    },
    {
     "data": {
      "text/html": [
       "Tracking run with wandb version 0.13.1"
      ],
      "text/plain": [
       "<IPython.core.display.HTML object>"
      ]
     },
     "metadata": {},
     "output_type": "display_data"
    },
    {
     "data": {
      "text/html": [
       "Run data is saved locally in <code>/content/Antenna-Performance-Prediction/wandb/run-20220817_064820-ask5ou5u</code>"
      ],
      "text/plain": [
       "<IPython.core.display.HTML object>"
      ]
     },
     "metadata": {},
     "output_type": "display_data"
    },
    {
     "data": {
      "text/html": [
       "Syncing run <strong><a href=\"https://wandb.ai/zbooster/Antenna_Outlier-1/runs/ask5ou5u\" target=\"_blank\">toasty-sweep-36</a></strong> to <a href=\"https://wandb.ai/zbooster/Antenna_Outlier-1\" target=\"_blank\">Weights & Biases</a> (<a href=\"https://wandb.me/run\" target=\"_blank\">docs</a>)<br/>Sweep page:  <a href=\"https://wandb.ai/zbooster/Antenna_Outlier-1/sweeps/nj4jorxe\" target=\"_blank\">https://wandb.ai/zbooster/Antenna_Outlier-1/sweeps/nj4jorxe</a>"
      ],
      "text/plain": [
       "<IPython.core.display.HTML object>"
      ]
     },
     "metadata": {},
     "output_type": "display_data"
    },
    {
     "data": {
      "text/html": [
       "Waiting for W&B process to finish... <strong style=\"color:green\">(success).</strong>"
      ],
      "text/plain": [
       "<IPython.core.display.HTML object>"
      ]
     },
     "metadata": {},
     "output_type": "display_data"
    },
    {
     "data": {
      "application/vnd.jupyter.widget-view+json": {
       "model_id": "6c6a3e7c3c9d4becbcc13682cd14fd0e",
       "version_major": 2,
       "version_minor": 0
      },
      "text/plain": [
       "VBox(children=(Label(value='0.001 MB of 0.001 MB uploaded (0.000 MB deduped)\\r'), FloatProgress(value=1.0, max…"
      ]
     },
     "metadata": {},
     "output_type": "display_data"
    },
    {
     "data": {
      "text/html": [
       "<style>\n",
       "    table.wandb td:nth-child(1) { padding: 0 10px; text-align: left ; width: auto;} td:nth-child(2) {text-align: left ; width: 100%}\n",
       "    .wandb-row { display: flex; flex-direction: row; flex-wrap: wrap; justify-content: flex-start; width: 100% }\n",
       "    .wandb-col { display: flex; flex-direction: column; flex-basis: 100%; flex: 1; padding: 10px; }\n",
       "    </style>\n",
       "<div class=\"wandb-row\"><div class=\"wandb-col\"><h3>Run history:</h3><br/><table class=\"wandb\"><tr><td>LG_NRMSE_BEST</td><td>▁</td></tr><tr><td>LG_NRMSE_MEAN</td><td>▁</td></tr><tr><td>Y_01_NRMSE</td><td>▁</td></tr><tr><td>Y_02_NRMSE</td><td>▁</td></tr><tr><td>Y_03_NRMSE</td><td>▁</td></tr><tr><td>Y_04_NRMSE</td><td>▁</td></tr><tr><td>Y_05_NRMSE</td><td>▁</td></tr><tr><td>Y_06_NRMSE</td><td>▁</td></tr><tr><td>Y_07_NRMSE</td><td>▁</td></tr><tr><td>Y_08_NRMSE</td><td>▁</td></tr><tr><td>Y_09_NRMSE</td><td>▁</td></tr><tr><td>Y_10_NRMSE</td><td>▁</td></tr><tr><td>Y_11_NRMSE</td><td>▁</td></tr><tr><td>Y_12_NRMSE</td><td>▁</td></tr><tr><td>Y_13_NRMSE</td><td>▁</td></tr><tr><td>Y_14_NRMSE</td><td>▁</td></tr></table><br/></div><div class=\"wandb-col\"><h3>Run summary:</h3><br/><table class=\"wandb\"><tr><td>LG_NRMSE_BEST</td><td>1.93975</td></tr><tr><td>LG_NRMSE_MEAN</td><td>1.93975</td></tr><tr><td>Y_01_NRMSE</td><td>0.25312</td></tr><tr><td>Y_02_NRMSE</td><td>0.35122</td></tr><tr><td>Y_03_NRMSE</td><td>0.34463</td></tr><tr><td>Y_04_NRMSE</td><td>0.18667</td></tr><tr><td>Y_05_NRMSE</td><td>0.07923</td></tr><tr><td>Y_06_NRMSE</td><td>0.10584</td></tr><tr><td>Y_07_NRMSE</td><td>0.13163</td></tr><tr><td>Y_08_NRMSE</td><td>0.02416</td></tr><tr><td>Y_09_NRMSE</td><td>0.02392</td></tr><tr><td>Y_10_NRMSE</td><td>0.03853</td></tr><tr><td>Y_11_NRMSE</td><td>0.03351</td></tr><tr><td>Y_12_NRMSE</td><td>0.024</td></tr><tr><td>Y_13_NRMSE</td><td>0.02398</td></tr><tr><td>Y_14_NRMSE</td><td>0.02401</td></tr></table><br/></div></div>"
      ],
      "text/plain": [
       "<IPython.core.display.HTML object>"
      ]
     },
     "metadata": {},
     "output_type": "display_data"
    },
    {
     "data": {
      "text/html": [
       "Synced <strong style=\"color:#cdcd00\">toasty-sweep-36</strong>: <a href=\"https://wandb.ai/zbooster/Antenna_Outlier-1/runs/ask5ou5u\" target=\"_blank\">https://wandb.ai/zbooster/Antenna_Outlier-1/runs/ask5ou5u</a><br/>Synced 5 W&B file(s), 0 media file(s), 0 artifact file(s) and 0 other file(s)"
      ],
      "text/plain": [
       "<IPython.core.display.HTML object>"
      ]
     },
     "metadata": {},
     "output_type": "display_data"
    },
    {
     "data": {
      "text/html": [
       "Find logs at: <code>./wandb/run-20220817_064820-ask5ou5u/logs</code>"
      ],
      "text/plain": [
       "<IPython.core.display.HTML object>"
      ]
     },
     "metadata": {},
     "output_type": "display_data"
    },
    {
     "name": "stderr",
     "output_type": "stream",
     "text": [
      "\u001b[34m\u001b[1mwandb\u001b[0m: Agent Starting Run: k97kot11 with config:\n",
      "\u001b[34m\u001b[1mwandb\u001b[0m: \tdrop_index: [70, 280, 6213, 13585, 37911]\n",
      "\u001b[34m\u001b[1mwandb\u001b[0m: \toutlier: 3454\n"
     ]
    },
    {
     "data": {
      "text/html": [
       "Tracking run with wandb version 0.13.1"
      ],
      "text/plain": [
       "<IPython.core.display.HTML object>"
      ]
     },
     "metadata": {},
     "output_type": "display_data"
    },
    {
     "data": {
      "text/html": [
       "Run data is saved locally in <code>/content/Antenna-Performance-Prediction/wandb/run-20220817_064903-k97kot11</code>"
      ],
      "text/plain": [
       "<IPython.core.display.HTML object>"
      ]
     },
     "metadata": {},
     "output_type": "display_data"
    },
    {
     "data": {
      "text/html": [
       "Syncing run <strong><a href=\"https://wandb.ai/zbooster/Antenna_Outlier-1/runs/k97kot11\" target=\"_blank\">eager-sweep-37</a></strong> to <a href=\"https://wandb.ai/zbooster/Antenna_Outlier-1\" target=\"_blank\">Weights & Biases</a> (<a href=\"https://wandb.me/run\" target=\"_blank\">docs</a>)<br/>Sweep page:  <a href=\"https://wandb.ai/zbooster/Antenna_Outlier-1/sweeps/nj4jorxe\" target=\"_blank\">https://wandb.ai/zbooster/Antenna_Outlier-1/sweeps/nj4jorxe</a>"
      ],
      "text/plain": [
       "<IPython.core.display.HTML object>"
      ]
     },
     "metadata": {},
     "output_type": "display_data"
    },
    {
     "data": {
      "text/html": [
       "Waiting for W&B process to finish... <strong style=\"color:green\">(success).</strong>"
      ],
      "text/plain": [
       "<IPython.core.display.HTML object>"
      ]
     },
     "metadata": {},
     "output_type": "display_data"
    },
    {
     "data": {
      "application/vnd.jupyter.widget-view+json": {
       "model_id": "fbf3c5f0151746b686c3a1c7df649428",
       "version_major": 2,
       "version_minor": 0
      },
      "text/plain": [
       "VBox(children=(Label(value='0.001 MB of 0.001 MB uploaded (0.000 MB deduped)\\r'), FloatProgress(value=1.0, max…"
      ]
     },
     "metadata": {},
     "output_type": "display_data"
    },
    {
     "data": {
      "text/html": [
       "<style>\n",
       "    table.wandb td:nth-child(1) { padding: 0 10px; text-align: left ; width: auto;} td:nth-child(2) {text-align: left ; width: 100%}\n",
       "    .wandb-row { display: flex; flex-direction: row; flex-wrap: wrap; justify-content: flex-start; width: 100% }\n",
       "    .wandb-col { display: flex; flex-direction: column; flex-basis: 100%; flex: 1; padding: 10px; }\n",
       "    </style>\n",
       "<div class=\"wandb-row\"><div class=\"wandb-col\"><h3>Run history:</h3><br/><table class=\"wandb\"><tr><td>LG_NRMSE_BEST</td><td>▁</td></tr><tr><td>LG_NRMSE_MEAN</td><td>▁</td></tr><tr><td>Y_01_NRMSE</td><td>▁</td></tr><tr><td>Y_02_NRMSE</td><td>▁</td></tr><tr><td>Y_03_NRMSE</td><td>▁</td></tr><tr><td>Y_04_NRMSE</td><td>▁</td></tr><tr><td>Y_05_NRMSE</td><td>▁</td></tr><tr><td>Y_06_NRMSE</td><td>▁</td></tr><tr><td>Y_07_NRMSE</td><td>▁</td></tr><tr><td>Y_08_NRMSE</td><td>▁</td></tr><tr><td>Y_09_NRMSE</td><td>▁</td></tr><tr><td>Y_10_NRMSE</td><td>▁</td></tr><tr><td>Y_11_NRMSE</td><td>▁</td></tr><tr><td>Y_12_NRMSE</td><td>▁</td></tr><tr><td>Y_13_NRMSE</td><td>▁</td></tr><tr><td>Y_14_NRMSE</td><td>▁</td></tr></table><br/></div><div class=\"wandb-col\"><h3>Run summary:</h3><br/><table class=\"wandb\"><tr><td>LG_NRMSE_BEST</td><td>1.94005</td></tr><tr><td>LG_NRMSE_MEAN</td><td>1.94005</td></tr><tr><td>Y_01_NRMSE</td><td>0.2531</td></tr><tr><td>Y_02_NRMSE</td><td>0.35123</td></tr><tr><td>Y_03_NRMSE</td><td>0.34458</td></tr><tr><td>Y_04_NRMSE</td><td>0.1867</td></tr><tr><td>Y_05_NRMSE</td><td>0.07922</td></tr><tr><td>Y_06_NRMSE</td><td>0.10603</td></tr><tr><td>Y_07_NRMSE</td><td>0.13171</td></tr><tr><td>Y_08_NRMSE</td><td>0.02416</td></tr><tr><td>Y_09_NRMSE</td><td>0.02392</td></tr><tr><td>Y_10_NRMSE</td><td>0.03854</td></tr><tr><td>Y_11_NRMSE</td><td>0.03352</td></tr><tr><td>Y_12_NRMSE</td><td>0.02401</td></tr><tr><td>Y_13_NRMSE</td><td>0.02398</td></tr><tr><td>Y_14_NRMSE</td><td>0.02401</td></tr></table><br/></div></div>"
      ],
      "text/plain": [
       "<IPython.core.display.HTML object>"
      ]
     },
     "metadata": {},
     "output_type": "display_data"
    },
    {
     "data": {
      "text/html": [
       "Synced <strong style=\"color:#cdcd00\">eager-sweep-37</strong>: <a href=\"https://wandb.ai/zbooster/Antenna_Outlier-1/runs/k97kot11\" target=\"_blank\">https://wandb.ai/zbooster/Antenna_Outlier-1/runs/k97kot11</a><br/>Synced 5 W&B file(s), 0 media file(s), 0 artifact file(s) and 0 other file(s)"
      ],
      "text/plain": [
       "<IPython.core.display.HTML object>"
      ]
     },
     "metadata": {},
     "output_type": "display_data"
    },
    {
     "data": {
      "text/html": [
       "Find logs at: <code>./wandb/run-20220817_064903-k97kot11/logs</code>"
      ],
      "text/plain": [
       "<IPython.core.display.HTML object>"
      ]
     },
     "metadata": {},
     "output_type": "display_data"
    },
    {
     "name": "stderr",
     "output_type": "stream",
     "text": [
      "\u001b[34m\u001b[1mwandb\u001b[0m: Sweep Agent: Waiting for job.\n",
      "\u001b[34m\u001b[1mwandb\u001b[0m: Job received.\n",
      "\u001b[34m\u001b[1mwandb\u001b[0m: Agent Starting Run: 6slwveud with config:\n",
      "\u001b[34m\u001b[1mwandb\u001b[0m: \tdrop_index: [70, 280, 6213, 13585, 37911]\n",
      "\u001b[34m\u001b[1mwandb\u001b[0m: \toutlier: 4035\n"
     ]
    },
    {
     "data": {
      "text/html": [
       "Tracking run with wandb version 0.13.1"
      ],
      "text/plain": [
       "<IPython.core.display.HTML object>"
      ]
     },
     "metadata": {},
     "output_type": "display_data"
    },
    {
     "data": {
      "text/html": [
       "Run data is saved locally in <code>/content/Antenna-Performance-Prediction/wandb/run-20220817_064955-6slwveud</code>"
      ],
      "text/plain": [
       "<IPython.core.display.HTML object>"
      ]
     },
     "metadata": {},
     "output_type": "display_data"
    },
    {
     "data": {
      "text/html": [
       "Syncing run <strong><a href=\"https://wandb.ai/zbooster/Antenna_Outlier-1/runs/6slwveud\" target=\"_blank\">fallen-sweep-38</a></strong> to <a href=\"https://wandb.ai/zbooster/Antenna_Outlier-1\" target=\"_blank\">Weights & Biases</a> (<a href=\"https://wandb.me/run\" target=\"_blank\">docs</a>)<br/>Sweep page:  <a href=\"https://wandb.ai/zbooster/Antenna_Outlier-1/sweeps/nj4jorxe\" target=\"_blank\">https://wandb.ai/zbooster/Antenna_Outlier-1/sweeps/nj4jorxe</a>"
      ],
      "text/plain": [
       "<IPython.core.display.HTML object>"
      ]
     },
     "metadata": {},
     "output_type": "display_data"
    },
    {
     "data": {
      "text/html": [
       "Waiting for W&B process to finish... <strong style=\"color:green\">(success).</strong>"
      ],
      "text/plain": [
       "<IPython.core.display.HTML object>"
      ]
     },
     "metadata": {},
     "output_type": "display_data"
    },
    {
     "data": {
      "application/vnd.jupyter.widget-view+json": {
       "model_id": "53195b09d9214a75a78d5dad8da41aa1",
       "version_major": 2,
       "version_minor": 0
      },
      "text/plain": [
       "VBox(children=(Label(value='0.001 MB of 0.001 MB uploaded (0.000 MB deduped)\\r'), FloatProgress(value=1.0, max…"
      ]
     },
     "metadata": {},
     "output_type": "display_data"
    },
    {
     "data": {
      "text/html": [
       "<style>\n",
       "    table.wandb td:nth-child(1) { padding: 0 10px; text-align: left ; width: auto;} td:nth-child(2) {text-align: left ; width: 100%}\n",
       "    .wandb-row { display: flex; flex-direction: row; flex-wrap: wrap; justify-content: flex-start; width: 100% }\n",
       "    .wandb-col { display: flex; flex-direction: column; flex-basis: 100%; flex: 1; padding: 10px; }\n",
       "    </style>\n",
       "<div class=\"wandb-row\"><div class=\"wandb-col\"><h3>Run history:</h3><br/><table class=\"wandb\"><tr><td>LG_NRMSE_BEST</td><td>▁</td></tr><tr><td>LG_NRMSE_MEAN</td><td>▁</td></tr><tr><td>Y_01_NRMSE</td><td>▁</td></tr><tr><td>Y_02_NRMSE</td><td>▁</td></tr><tr><td>Y_03_NRMSE</td><td>▁</td></tr><tr><td>Y_04_NRMSE</td><td>▁</td></tr><tr><td>Y_05_NRMSE</td><td>▁</td></tr><tr><td>Y_06_NRMSE</td><td>▁</td></tr><tr><td>Y_07_NRMSE</td><td>▁</td></tr><tr><td>Y_08_NRMSE</td><td>▁</td></tr><tr><td>Y_09_NRMSE</td><td>▁</td></tr><tr><td>Y_10_NRMSE</td><td>▁</td></tr><tr><td>Y_11_NRMSE</td><td>▁</td></tr><tr><td>Y_12_NRMSE</td><td>▁</td></tr><tr><td>Y_13_NRMSE</td><td>▁</td></tr><tr><td>Y_14_NRMSE</td><td>▁</td></tr></table><br/></div><div class=\"wandb-col\"><h3>Run summary:</h3><br/><table class=\"wandb\"><tr><td>LG_NRMSE_BEST</td><td>1.94094</td></tr><tr><td>LG_NRMSE_MEAN</td><td>1.94094</td></tr><tr><td>Y_01_NRMSE</td><td>0.25321</td></tr><tr><td>Y_02_NRMSE</td><td>0.35171</td></tr><tr><td>Y_03_NRMSE</td><td>0.34505</td></tr><tr><td>Y_04_NRMSE</td><td>0.18673</td></tr><tr><td>Y_05_NRMSE</td><td>0.07915</td></tr><tr><td>Y_06_NRMSE</td><td>0.10604</td></tr><tr><td>Y_07_NRMSE</td><td>0.1315</td></tr><tr><td>Y_08_NRMSE</td><td>0.02414</td></tr><tr><td>Y_09_NRMSE</td><td>0.0239</td></tr><tr><td>Y_10_NRMSE</td><td>0.03854</td></tr><tr><td>Y_11_NRMSE</td><td>0.03351</td></tr><tr><td>Y_12_NRMSE</td><td>0.02398</td></tr><tr><td>Y_13_NRMSE</td><td>0.02398</td></tr><tr><td>Y_14_NRMSE</td><td>0.02397</td></tr></table><br/></div></div>"
      ],
      "text/plain": [
       "<IPython.core.display.HTML object>"
      ]
     },
     "metadata": {},
     "output_type": "display_data"
    },
    {
     "data": {
      "text/html": [
       "Synced <strong style=\"color:#cdcd00\">fallen-sweep-38</strong>: <a href=\"https://wandb.ai/zbooster/Antenna_Outlier-1/runs/6slwveud\" target=\"_blank\">https://wandb.ai/zbooster/Antenna_Outlier-1/runs/6slwveud</a><br/>Synced 5 W&B file(s), 0 media file(s), 0 artifact file(s) and 0 other file(s)"
      ],
      "text/plain": [
       "<IPython.core.display.HTML object>"
      ]
     },
     "metadata": {},
     "output_type": "display_data"
    },
    {
     "data": {
      "text/html": [
       "Find logs at: <code>./wandb/run-20220817_064955-6slwveud/logs</code>"
      ],
      "text/plain": [
       "<IPython.core.display.HTML object>"
      ]
     },
     "metadata": {},
     "output_type": "display_data"
    },
    {
     "name": "stderr",
     "output_type": "stream",
     "text": [
      "\u001b[34m\u001b[1mwandb\u001b[0m: Agent Starting Run: raody6fl with config:\n",
      "\u001b[34m\u001b[1mwandb\u001b[0m: \tdrop_index: [70, 280, 6213, 13585, 37911]\n",
      "\u001b[34m\u001b[1mwandb\u001b[0m: \toutlier: 4479\n"
     ]
    },
    {
     "data": {
      "text/html": [
       "Tracking run with wandb version 0.13.1"
      ],
      "text/plain": [
       "<IPython.core.display.HTML object>"
      ]
     },
     "metadata": {},
     "output_type": "display_data"
    },
    {
     "data": {
      "text/html": [
       "Run data is saved locally in <code>/content/Antenna-Performance-Prediction/wandb/run-20220817_065038-raody6fl</code>"
      ],
      "text/plain": [
       "<IPython.core.display.HTML object>"
      ]
     },
     "metadata": {},
     "output_type": "display_data"
    },
    {
     "data": {
      "text/html": [
       "Syncing run <strong><a href=\"https://wandb.ai/zbooster/Antenna_Outlier-1/runs/raody6fl\" target=\"_blank\">brisk-sweep-39</a></strong> to <a href=\"https://wandb.ai/zbooster/Antenna_Outlier-1\" target=\"_blank\">Weights & Biases</a> (<a href=\"https://wandb.me/run\" target=\"_blank\">docs</a>)<br/>Sweep page:  <a href=\"https://wandb.ai/zbooster/Antenna_Outlier-1/sweeps/nj4jorxe\" target=\"_blank\">https://wandb.ai/zbooster/Antenna_Outlier-1/sweeps/nj4jorxe</a>"
      ],
      "text/plain": [
       "<IPython.core.display.HTML object>"
      ]
     },
     "metadata": {},
     "output_type": "display_data"
    },
    {
     "data": {
      "text/html": [
       "Waiting for W&B process to finish... <strong style=\"color:green\">(success).</strong>"
      ],
      "text/plain": [
       "<IPython.core.display.HTML object>"
      ]
     },
     "metadata": {},
     "output_type": "display_data"
    },
    {
     "data": {
      "application/vnd.jupyter.widget-view+json": {
       "model_id": "68a12e85e955413f9b10bd3403144b09",
       "version_major": 2,
       "version_minor": 0
      },
      "text/plain": [
       "VBox(children=(Label(value='0.001 MB of 0.001 MB uploaded (0.000 MB deduped)\\r'), FloatProgress(value=1.0, max…"
      ]
     },
     "metadata": {},
     "output_type": "display_data"
    },
    {
     "data": {
      "text/html": [
       "<style>\n",
       "    table.wandb td:nth-child(1) { padding: 0 10px; text-align: left ; width: auto;} td:nth-child(2) {text-align: left ; width: 100%}\n",
       "    .wandb-row { display: flex; flex-direction: row; flex-wrap: wrap; justify-content: flex-start; width: 100% }\n",
       "    .wandb-col { display: flex; flex-direction: column; flex-basis: 100%; flex: 1; padding: 10px; }\n",
       "    </style>\n",
       "<div class=\"wandb-row\"><div class=\"wandb-col\"><h3>Run history:</h3><br/><table class=\"wandb\"><tr><td>LG_NRMSE_BEST</td><td>▁</td></tr><tr><td>LG_NRMSE_MEAN</td><td>▁</td></tr><tr><td>Y_01_NRMSE</td><td>▁</td></tr><tr><td>Y_02_NRMSE</td><td>▁</td></tr><tr><td>Y_03_NRMSE</td><td>▁</td></tr><tr><td>Y_04_NRMSE</td><td>▁</td></tr><tr><td>Y_05_NRMSE</td><td>▁</td></tr><tr><td>Y_06_NRMSE</td><td>▁</td></tr><tr><td>Y_07_NRMSE</td><td>▁</td></tr><tr><td>Y_08_NRMSE</td><td>▁</td></tr><tr><td>Y_09_NRMSE</td><td>▁</td></tr><tr><td>Y_10_NRMSE</td><td>▁</td></tr><tr><td>Y_11_NRMSE</td><td>▁</td></tr><tr><td>Y_12_NRMSE</td><td>▁</td></tr><tr><td>Y_13_NRMSE</td><td>▁</td></tr><tr><td>Y_14_NRMSE</td><td>▁</td></tr></table><br/></div><div class=\"wandb-col\"><h3>Run summary:</h3><br/><table class=\"wandb\"><tr><td>LG_NRMSE_BEST</td><td>1.93903</td></tr><tr><td>LG_NRMSE_MEAN</td><td>1.93903</td></tr><tr><td>Y_01_NRMSE</td><td>0.25272</td></tr><tr><td>Y_02_NRMSE</td><td>0.35097</td></tr><tr><td>Y_03_NRMSE</td><td>0.34427</td></tr><tr><td>Y_04_NRMSE</td><td>0.1866</td></tr><tr><td>Y_05_NRMSE</td><td>0.07914</td></tr><tr><td>Y_06_NRMSE</td><td>0.10675</td></tr><tr><td>Y_07_NRMSE</td><td>0.1312</td></tr><tr><td>Y_08_NRMSE</td><td>0.02417</td></tr><tr><td>Y_09_NRMSE</td><td>0.02391</td></tr><tr><td>Y_10_NRMSE</td><td>0.03862</td></tr><tr><td>Y_11_NRMSE</td><td>0.0335</td></tr><tr><td>Y_12_NRMSE</td><td>0.02402</td></tr><tr><td>Y_13_NRMSE</td><td>0.024</td></tr><tr><td>Y_14_NRMSE</td><td>0.02399</td></tr></table><br/></div></div>"
      ],
      "text/plain": [
       "<IPython.core.display.HTML object>"
      ]
     },
     "metadata": {},
     "output_type": "display_data"
    },
    {
     "data": {
      "text/html": [
       "Synced <strong style=\"color:#cdcd00\">brisk-sweep-39</strong>: <a href=\"https://wandb.ai/zbooster/Antenna_Outlier-1/runs/raody6fl\" target=\"_blank\">https://wandb.ai/zbooster/Antenna_Outlier-1/runs/raody6fl</a><br/>Synced 5 W&B file(s), 0 media file(s), 0 artifact file(s) and 0 other file(s)"
      ],
      "text/plain": [
       "<IPython.core.display.HTML object>"
      ]
     },
     "metadata": {},
     "output_type": "display_data"
    },
    {
     "data": {
      "text/html": [
       "Find logs at: <code>./wandb/run-20220817_065038-raody6fl/logs</code>"
      ],
      "text/plain": [
       "<IPython.core.display.HTML object>"
      ]
     },
     "metadata": {},
     "output_type": "display_data"
    },
    {
     "name": "stderr",
     "output_type": "stream",
     "text": [
      "\u001b[34m\u001b[1mwandb\u001b[0m: Sweep Agent: Waiting for job.\n",
      "\u001b[34m\u001b[1mwandb\u001b[0m: Job received.\n",
      "\u001b[34m\u001b[1mwandb\u001b[0m: Agent Starting Run: nqkrwxhj with config:\n",
      "\u001b[34m\u001b[1mwandb\u001b[0m: \tdrop_index: [70, 280, 6213, 13585, 37911]\n",
      "\u001b[34m\u001b[1mwandb\u001b[0m: \toutlier: 4576\n"
     ]
    },
    {
     "data": {
      "text/html": [
       "Tracking run with wandb version 0.13.1"
      ],
      "text/plain": [
       "<IPython.core.display.HTML object>"
      ]
     },
     "metadata": {},
     "output_type": "display_data"
    },
    {
     "data": {
      "text/html": [
       "Run data is saved locally in <code>/content/Antenna-Performance-Prediction/wandb/run-20220817_065131-nqkrwxhj</code>"
      ],
      "text/plain": [
       "<IPython.core.display.HTML object>"
      ]
     },
     "metadata": {},
     "output_type": "display_data"
    },
    {
     "data": {
      "text/html": [
       "Syncing run <strong><a href=\"https://wandb.ai/zbooster/Antenna_Outlier-1/runs/nqkrwxhj\" target=\"_blank\">golden-sweep-40</a></strong> to <a href=\"https://wandb.ai/zbooster/Antenna_Outlier-1\" target=\"_blank\">Weights & Biases</a> (<a href=\"https://wandb.me/run\" target=\"_blank\">docs</a>)<br/>Sweep page:  <a href=\"https://wandb.ai/zbooster/Antenna_Outlier-1/sweeps/nj4jorxe\" target=\"_blank\">https://wandb.ai/zbooster/Antenna_Outlier-1/sweeps/nj4jorxe</a>"
      ],
      "text/plain": [
       "<IPython.core.display.HTML object>"
      ]
     },
     "metadata": {},
     "output_type": "display_data"
    },
    {
     "data": {
      "text/html": [
       "Waiting for W&B process to finish... <strong style=\"color:green\">(success).</strong>"
      ],
      "text/plain": [
       "<IPython.core.display.HTML object>"
      ]
     },
     "metadata": {},
     "output_type": "display_data"
    },
    {
     "data": {
      "application/vnd.jupyter.widget-view+json": {
       "model_id": "418f22272c7e4492ab8e2d35977796ed",
       "version_major": 2,
       "version_minor": 0
      },
      "text/plain": [
       "VBox(children=(Label(value='0.001 MB of 0.001 MB uploaded (0.000 MB deduped)\\r'), FloatProgress(value=1.0, max…"
      ]
     },
     "metadata": {},
     "output_type": "display_data"
    },
    {
     "data": {
      "text/html": [
       "<style>\n",
       "    table.wandb td:nth-child(1) { padding: 0 10px; text-align: left ; width: auto;} td:nth-child(2) {text-align: left ; width: 100%}\n",
       "    .wandb-row { display: flex; flex-direction: row; flex-wrap: wrap; justify-content: flex-start; width: 100% }\n",
       "    .wandb-col { display: flex; flex-direction: column; flex-basis: 100%; flex: 1; padding: 10px; }\n",
       "    </style>\n",
       "<div class=\"wandb-row\"><div class=\"wandb-col\"><h3>Run history:</h3><br/><table class=\"wandb\"><tr><td>LG_NRMSE_BEST</td><td>▁</td></tr><tr><td>LG_NRMSE_MEAN</td><td>▁</td></tr><tr><td>Y_01_NRMSE</td><td>▁</td></tr><tr><td>Y_02_NRMSE</td><td>▁</td></tr><tr><td>Y_03_NRMSE</td><td>▁</td></tr><tr><td>Y_04_NRMSE</td><td>▁</td></tr><tr><td>Y_05_NRMSE</td><td>▁</td></tr><tr><td>Y_06_NRMSE</td><td>▁</td></tr><tr><td>Y_07_NRMSE</td><td>▁</td></tr><tr><td>Y_08_NRMSE</td><td>▁</td></tr><tr><td>Y_09_NRMSE</td><td>▁</td></tr><tr><td>Y_10_NRMSE</td><td>▁</td></tr><tr><td>Y_11_NRMSE</td><td>▁</td></tr><tr><td>Y_12_NRMSE</td><td>▁</td></tr><tr><td>Y_13_NRMSE</td><td>▁</td></tr><tr><td>Y_14_NRMSE</td><td>▁</td></tr></table><br/></div><div class=\"wandb-col\"><h3>Run summary:</h3><br/><table class=\"wandb\"><tr><td>LG_NRMSE_BEST</td><td>1.93798</td></tr><tr><td>LG_NRMSE_MEAN</td><td>1.93798</td></tr><tr><td>Y_01_NRMSE</td><td>0.25282</td></tr><tr><td>Y_02_NRMSE</td><td>0.35094</td></tr><tr><td>Y_03_NRMSE</td><td>0.34416</td></tr><tr><td>Y_04_NRMSE</td><td>0.18664</td></tr><tr><td>Y_05_NRMSE</td><td>0.07912</td></tr><tr><td>Y_06_NRMSE</td><td>0.10598</td></tr><tr><td>Y_07_NRMSE</td><td>0.1312</td></tr><tr><td>Y_08_NRMSE</td><td>0.02416</td></tr><tr><td>Y_09_NRMSE</td><td>0.02391</td></tr><tr><td>Y_10_NRMSE</td><td>0.03856</td></tr><tr><td>Y_11_NRMSE</td><td>0.03349</td></tr><tr><td>Y_12_NRMSE</td><td>0.024</td></tr><tr><td>Y_13_NRMSE</td><td>0.02399</td></tr><tr><td>Y_14_NRMSE</td><td>0.02398</td></tr></table><br/></div></div>"
      ],
      "text/plain": [
       "<IPython.core.display.HTML object>"
      ]
     },
     "metadata": {},
     "output_type": "display_data"
    },
    {
     "data": {
      "text/html": [
       "Synced <strong style=\"color:#cdcd00\">golden-sweep-40</strong>: <a href=\"https://wandb.ai/zbooster/Antenna_Outlier-1/runs/nqkrwxhj\" target=\"_blank\">https://wandb.ai/zbooster/Antenna_Outlier-1/runs/nqkrwxhj</a><br/>Synced 5 W&B file(s), 0 media file(s), 0 artifact file(s) and 0 other file(s)"
      ],
      "text/plain": [
       "<IPython.core.display.HTML object>"
      ]
     },
     "metadata": {},
     "output_type": "display_data"
    },
    {
     "data": {
      "text/html": [
       "Find logs at: <code>./wandb/run-20220817_065131-nqkrwxhj/logs</code>"
      ],
      "text/plain": [
       "<IPython.core.display.HTML object>"
      ]
     },
     "metadata": {},
     "output_type": "display_data"
    },
    {
     "name": "stderr",
     "output_type": "stream",
     "text": [
      "\u001b[34m\u001b[1mwandb\u001b[0m: Agent Starting Run: 1okb82tc with config:\n",
      "\u001b[34m\u001b[1mwandb\u001b[0m: \tdrop_index: [70, 280, 6213, 13585, 37911]\n",
      "\u001b[34m\u001b[1mwandb\u001b[0m: \toutlier: 4599\n"
     ]
    },
    {
     "data": {
      "text/html": [
       "Tracking run with wandb version 0.13.1"
      ],
      "text/plain": [
       "<IPython.core.display.HTML object>"
      ]
     },
     "metadata": {},
     "output_type": "display_data"
    },
    {
     "data": {
      "text/html": [
       "Run data is saved locally in <code>/content/Antenna-Performance-Prediction/wandb/run-20220817_065214-1okb82tc</code>"
      ],
      "text/plain": [
       "<IPython.core.display.HTML object>"
      ]
     },
     "metadata": {},
     "output_type": "display_data"
    },
    {
     "data": {
      "text/html": [
       "Syncing run <strong><a href=\"https://wandb.ai/zbooster/Antenna_Outlier-1/runs/1okb82tc\" target=\"_blank\">classic-sweep-41</a></strong> to <a href=\"https://wandb.ai/zbooster/Antenna_Outlier-1\" target=\"_blank\">Weights & Biases</a> (<a href=\"https://wandb.me/run\" target=\"_blank\">docs</a>)<br/>Sweep page:  <a href=\"https://wandb.ai/zbooster/Antenna_Outlier-1/sweeps/nj4jorxe\" target=\"_blank\">https://wandb.ai/zbooster/Antenna_Outlier-1/sweeps/nj4jorxe</a>"
      ],
      "text/plain": [
       "<IPython.core.display.HTML object>"
      ]
     },
     "metadata": {},
     "output_type": "display_data"
    },
    {
     "data": {
      "text/html": [
       "Waiting for W&B process to finish... <strong style=\"color:green\">(success).</strong>"
      ],
      "text/plain": [
       "<IPython.core.display.HTML object>"
      ]
     },
     "metadata": {},
     "output_type": "display_data"
    },
    {
     "data": {
      "application/vnd.jupyter.widget-view+json": {
       "model_id": "414ad458c2cd4eb097aa01ceb1877288",
       "version_major": 2,
       "version_minor": 0
      },
      "text/plain": [
       "VBox(children=(Label(value='0.001 MB of 0.001 MB uploaded (0.000 MB deduped)\\r'), FloatProgress(value=1.0, max…"
      ]
     },
     "metadata": {},
     "output_type": "display_data"
    },
    {
     "data": {
      "text/html": [
       "<style>\n",
       "    table.wandb td:nth-child(1) { padding: 0 10px; text-align: left ; width: auto;} td:nth-child(2) {text-align: left ; width: 100%}\n",
       "    .wandb-row { display: flex; flex-direction: row; flex-wrap: wrap; justify-content: flex-start; width: 100% }\n",
       "    .wandb-col { display: flex; flex-direction: column; flex-basis: 100%; flex: 1; padding: 10px; }\n",
       "    </style>\n",
       "<div class=\"wandb-row\"><div class=\"wandb-col\"><h3>Run history:</h3><br/><table class=\"wandb\"><tr><td>LG_NRMSE_BEST</td><td>▁</td></tr><tr><td>LG_NRMSE_MEAN</td><td>▁</td></tr><tr><td>Y_01_NRMSE</td><td>▁</td></tr><tr><td>Y_02_NRMSE</td><td>▁</td></tr><tr><td>Y_03_NRMSE</td><td>▁</td></tr><tr><td>Y_04_NRMSE</td><td>▁</td></tr><tr><td>Y_05_NRMSE</td><td>▁</td></tr><tr><td>Y_06_NRMSE</td><td>▁</td></tr><tr><td>Y_07_NRMSE</td><td>▁</td></tr><tr><td>Y_08_NRMSE</td><td>▁</td></tr><tr><td>Y_09_NRMSE</td><td>▁</td></tr><tr><td>Y_10_NRMSE</td><td>▁</td></tr><tr><td>Y_11_NRMSE</td><td>▁</td></tr><tr><td>Y_12_NRMSE</td><td>▁</td></tr><tr><td>Y_13_NRMSE</td><td>▁</td></tr><tr><td>Y_14_NRMSE</td><td>▁</td></tr></table><br/></div><div class=\"wandb-col\"><h3>Run summary:</h3><br/><table class=\"wandb\"><tr><td>LG_NRMSE_BEST</td><td>1.93822</td></tr><tr><td>LG_NRMSE_MEAN</td><td>1.93822</td></tr><tr><td>Y_01_NRMSE</td><td>0.2528</td></tr><tr><td>Y_02_NRMSE</td><td>0.3509</td></tr><tr><td>Y_03_NRMSE</td><td>0.34417</td></tr><tr><td>Y_04_NRMSE</td><td>0.18679</td></tr><tr><td>Y_05_NRMSE</td><td>0.07912</td></tr><tr><td>Y_06_NRMSE</td><td>0.10601</td></tr><tr><td>Y_07_NRMSE</td><td>0.13125</td></tr><tr><td>Y_08_NRMSE</td><td>0.02417</td></tr><tr><td>Y_09_NRMSE</td><td>0.02391</td></tr><tr><td>Y_10_NRMSE</td><td>0.03857</td></tr><tr><td>Y_11_NRMSE</td><td>0.03349</td></tr><tr><td>Y_12_NRMSE</td><td>0.02401</td></tr><tr><td>Y_13_NRMSE</td><td>0.024</td></tr><tr><td>Y_14_NRMSE</td><td>0.02399</td></tr></table><br/></div></div>"
      ],
      "text/plain": [
       "<IPython.core.display.HTML object>"
      ]
     },
     "metadata": {},
     "output_type": "display_data"
    },
    {
     "data": {
      "text/html": [
       "Synced <strong style=\"color:#cdcd00\">classic-sweep-41</strong>: <a href=\"https://wandb.ai/zbooster/Antenna_Outlier-1/runs/1okb82tc\" target=\"_blank\">https://wandb.ai/zbooster/Antenna_Outlier-1/runs/1okb82tc</a><br/>Synced 5 W&B file(s), 0 media file(s), 0 artifact file(s) and 0 other file(s)"
      ],
      "text/plain": [
       "<IPython.core.display.HTML object>"
      ]
     },
     "metadata": {},
     "output_type": "display_data"
    },
    {
     "data": {
      "text/html": [
       "Find logs at: <code>./wandb/run-20220817_065214-1okb82tc/logs</code>"
      ],
      "text/plain": [
       "<IPython.core.display.HTML object>"
      ]
     },
     "metadata": {},
     "output_type": "display_data"
    },
    {
     "name": "stderr",
     "output_type": "stream",
     "text": [
      "\u001b[34m\u001b[1mwandb\u001b[0m: Sweep Agent: Waiting for job.\n",
      "\u001b[34m\u001b[1mwandb\u001b[0m: Job received.\n",
      "\u001b[34m\u001b[1mwandb\u001b[0m: Agent Starting Run: p18kespe with config:\n",
      "\u001b[34m\u001b[1mwandb\u001b[0m: \tdrop_index: [70, 280, 6213, 13585, 37911]\n",
      "\u001b[34m\u001b[1mwandb\u001b[0m: \toutlier: 4606\n"
     ]
    },
    {
     "data": {
      "text/html": [
       "Tracking run with wandb version 0.13.1"
      ],
      "text/plain": [
       "<IPython.core.display.HTML object>"
      ]
     },
     "metadata": {},
     "output_type": "display_data"
    },
    {
     "data": {
      "text/html": [
       "Run data is saved locally in <code>/content/Antenna-Performance-Prediction/wandb/run-20220817_065306-p18kespe</code>"
      ],
      "text/plain": [
       "<IPython.core.display.HTML object>"
      ]
     },
     "metadata": {},
     "output_type": "display_data"
    },
    {
     "data": {
      "text/html": [
       "Syncing run <strong><a href=\"https://wandb.ai/zbooster/Antenna_Outlier-1/runs/p18kespe\" target=\"_blank\">peach-sweep-42</a></strong> to <a href=\"https://wandb.ai/zbooster/Antenna_Outlier-1\" target=\"_blank\">Weights & Biases</a> (<a href=\"https://wandb.me/run\" target=\"_blank\">docs</a>)<br/>Sweep page:  <a href=\"https://wandb.ai/zbooster/Antenna_Outlier-1/sweeps/nj4jorxe\" target=\"_blank\">https://wandb.ai/zbooster/Antenna_Outlier-1/sweeps/nj4jorxe</a>"
      ],
      "text/plain": [
       "<IPython.core.display.HTML object>"
      ]
     },
     "metadata": {},
     "output_type": "display_data"
    },
    {
     "data": {
      "text/html": [
       "Waiting for W&B process to finish... <strong style=\"color:green\">(success).</strong>"
      ],
      "text/plain": [
       "<IPython.core.display.HTML object>"
      ]
     },
     "metadata": {},
     "output_type": "display_data"
    },
    {
     "data": {
      "application/vnd.jupyter.widget-view+json": {
       "model_id": "5dfb7b6c6e8546c79dede87ab2892851",
       "version_major": 2,
       "version_minor": 0
      },
      "text/plain": [
       "VBox(children=(Label(value='0.001 MB of 0.001 MB uploaded (0.000 MB deduped)\\r'), FloatProgress(value=1.0, max…"
      ]
     },
     "metadata": {},
     "output_type": "display_data"
    },
    {
     "data": {
      "text/html": [
       "<style>\n",
       "    table.wandb td:nth-child(1) { padding: 0 10px; text-align: left ; width: auto;} td:nth-child(2) {text-align: left ; width: 100%}\n",
       "    .wandb-row { display: flex; flex-direction: row; flex-wrap: wrap; justify-content: flex-start; width: 100% }\n",
       "    .wandb-col { display: flex; flex-direction: column; flex-basis: 100%; flex: 1; padding: 10px; }\n",
       "    </style>\n",
       "<div class=\"wandb-row\"><div class=\"wandb-col\"><h3>Run history:</h3><br/><table class=\"wandb\"><tr><td>LG_NRMSE_BEST</td><td>▁</td></tr><tr><td>LG_NRMSE_MEAN</td><td>▁</td></tr><tr><td>Y_01_NRMSE</td><td>▁</td></tr><tr><td>Y_02_NRMSE</td><td>▁</td></tr><tr><td>Y_03_NRMSE</td><td>▁</td></tr><tr><td>Y_04_NRMSE</td><td>▁</td></tr><tr><td>Y_05_NRMSE</td><td>▁</td></tr><tr><td>Y_06_NRMSE</td><td>▁</td></tr><tr><td>Y_07_NRMSE</td><td>▁</td></tr><tr><td>Y_08_NRMSE</td><td>▁</td></tr><tr><td>Y_09_NRMSE</td><td>▁</td></tr><tr><td>Y_10_NRMSE</td><td>▁</td></tr><tr><td>Y_11_NRMSE</td><td>▁</td></tr><tr><td>Y_12_NRMSE</td><td>▁</td></tr><tr><td>Y_13_NRMSE</td><td>▁</td></tr><tr><td>Y_14_NRMSE</td><td>▁</td></tr></table><br/></div><div class=\"wandb-col\"><h3>Run summary:</h3><br/><table class=\"wandb\"><tr><td>LG_NRMSE_BEST</td><td>1.93819</td></tr><tr><td>LG_NRMSE_MEAN</td><td>1.93819</td></tr><tr><td>Y_01_NRMSE</td><td>0.25276</td></tr><tr><td>Y_02_NRMSE</td><td>0.35091</td></tr><tr><td>Y_03_NRMSE</td><td>0.34411</td></tr><tr><td>Y_04_NRMSE</td><td>0.1868</td></tr><tr><td>Y_05_NRMSE</td><td>0.0791</td></tr><tr><td>Y_06_NRMSE</td><td>0.10596</td></tr><tr><td>Y_07_NRMSE</td><td>0.13137</td></tr><tr><td>Y_08_NRMSE</td><td>0.02417</td></tr><tr><td>Y_09_NRMSE</td><td>0.02391</td></tr><tr><td>Y_10_NRMSE</td><td>0.03857</td></tr><tr><td>Y_11_NRMSE</td><td>0.03349</td></tr><tr><td>Y_12_NRMSE</td><td>0.02401</td></tr><tr><td>Y_13_NRMSE</td><td>0.024</td></tr><tr><td>Y_14_NRMSE</td><td>0.02399</td></tr></table><br/></div></div>"
      ],
      "text/plain": [
       "<IPython.core.display.HTML object>"
      ]
     },
     "metadata": {},
     "output_type": "display_data"
    },
    {
     "data": {
      "text/html": [
       "Synced <strong style=\"color:#cdcd00\">peach-sweep-42</strong>: <a href=\"https://wandb.ai/zbooster/Antenna_Outlier-1/runs/p18kespe\" target=\"_blank\">https://wandb.ai/zbooster/Antenna_Outlier-1/runs/p18kespe</a><br/>Synced 5 W&B file(s), 0 media file(s), 0 artifact file(s) and 0 other file(s)"
      ],
      "text/plain": [
       "<IPython.core.display.HTML object>"
      ]
     },
     "metadata": {},
     "output_type": "display_data"
    },
    {
     "data": {
      "text/html": [
       "Find logs at: <code>./wandb/run-20220817_065306-p18kespe/logs</code>"
      ],
      "text/plain": [
       "<IPython.core.display.HTML object>"
      ]
     },
     "metadata": {},
     "output_type": "display_data"
    },
    {
     "name": "stderr",
     "output_type": "stream",
     "text": [
      "\u001b[34m\u001b[1mwandb\u001b[0m: Agent Starting Run: a4tfzqdr with config:\n",
      "\u001b[34m\u001b[1mwandb\u001b[0m: \tdrop_index: [70, 280, 6213, 13585, 37911]\n",
      "\u001b[34m\u001b[1mwandb\u001b[0m: \toutlier: 4645\n"
     ]
    },
    {
     "data": {
      "text/html": [
       "Tracking run with wandb version 0.13.1"
      ],
      "text/plain": [
       "<IPython.core.display.HTML object>"
      ]
     },
     "metadata": {},
     "output_type": "display_data"
    },
    {
     "data": {
      "text/html": [
       "Run data is saved locally in <code>/content/Antenna-Performance-Prediction/wandb/run-20220817_065349-a4tfzqdr</code>"
      ],
      "text/plain": [
       "<IPython.core.display.HTML object>"
      ]
     },
     "metadata": {},
     "output_type": "display_data"
    },
    {
     "data": {
      "text/html": [
       "Syncing run <strong><a href=\"https://wandb.ai/zbooster/Antenna_Outlier-1/runs/a4tfzqdr\" target=\"_blank\">drawn-sweep-43</a></strong> to <a href=\"https://wandb.ai/zbooster/Antenna_Outlier-1\" target=\"_blank\">Weights & Biases</a> (<a href=\"https://wandb.me/run\" target=\"_blank\">docs</a>)<br/>Sweep page:  <a href=\"https://wandb.ai/zbooster/Antenna_Outlier-1/sweeps/nj4jorxe\" target=\"_blank\">https://wandb.ai/zbooster/Antenna_Outlier-1/sweeps/nj4jorxe</a>"
      ],
      "text/plain": [
       "<IPython.core.display.HTML object>"
      ]
     },
     "metadata": {},
     "output_type": "display_data"
    },
    {
     "data": {
      "text/html": [
       "Waiting for W&B process to finish... <strong style=\"color:green\">(success).</strong>"
      ],
      "text/plain": [
       "<IPython.core.display.HTML object>"
      ]
     },
     "metadata": {},
     "output_type": "display_data"
    },
    {
     "data": {
      "application/vnd.jupyter.widget-view+json": {
       "model_id": "41b6b73b1de441c8bc026f20c51f0321",
       "version_major": 2,
       "version_minor": 0
      },
      "text/plain": [
       "VBox(children=(Label(value='0.001 MB of 0.001 MB uploaded (0.000 MB deduped)\\r'), FloatProgress(value=1.0, max…"
      ]
     },
     "metadata": {},
     "output_type": "display_data"
    },
    {
     "data": {
      "text/html": [
       "<style>\n",
       "    table.wandb td:nth-child(1) { padding: 0 10px; text-align: left ; width: auto;} td:nth-child(2) {text-align: left ; width: 100%}\n",
       "    .wandb-row { display: flex; flex-direction: row; flex-wrap: wrap; justify-content: flex-start; width: 100% }\n",
       "    .wandb-col { display: flex; flex-direction: column; flex-basis: 100%; flex: 1; padding: 10px; }\n",
       "    </style>\n",
       "<div class=\"wandb-row\"><div class=\"wandb-col\"><h3>Run history:</h3><br/><table class=\"wandb\"><tr><td>LG_NRMSE_BEST</td><td>▁</td></tr><tr><td>LG_NRMSE_MEAN</td><td>▁</td></tr><tr><td>Y_01_NRMSE</td><td>▁</td></tr><tr><td>Y_02_NRMSE</td><td>▁</td></tr><tr><td>Y_03_NRMSE</td><td>▁</td></tr><tr><td>Y_04_NRMSE</td><td>▁</td></tr><tr><td>Y_05_NRMSE</td><td>▁</td></tr><tr><td>Y_06_NRMSE</td><td>▁</td></tr><tr><td>Y_07_NRMSE</td><td>▁</td></tr><tr><td>Y_08_NRMSE</td><td>▁</td></tr><tr><td>Y_09_NRMSE</td><td>▁</td></tr><tr><td>Y_10_NRMSE</td><td>▁</td></tr><tr><td>Y_11_NRMSE</td><td>▁</td></tr><tr><td>Y_12_NRMSE</td><td>▁</td></tr><tr><td>Y_13_NRMSE</td><td>▁</td></tr><tr><td>Y_14_NRMSE</td><td>▁</td></tr></table><br/></div><div class=\"wandb-col\"><h3>Run summary:</h3><br/><table class=\"wandb\"><tr><td>LG_NRMSE_BEST</td><td>1.93854</td></tr><tr><td>LG_NRMSE_MEAN</td><td>1.93854</td></tr><tr><td>Y_01_NRMSE</td><td>0.25289</td></tr><tr><td>Y_02_NRMSE</td><td>0.35093</td></tr><tr><td>Y_03_NRMSE</td><td>0.34419</td></tr><tr><td>Y_04_NRMSE</td><td>0.18683</td></tr><tr><td>Y_05_NRMSE</td><td>0.07913</td></tr><tr><td>Y_06_NRMSE</td><td>0.10598</td></tr><tr><td>Y_07_NRMSE</td><td>0.13134</td></tr><tr><td>Y_08_NRMSE</td><td>0.02417</td></tr><tr><td>Y_09_NRMSE</td><td>0.02392</td></tr><tr><td>Y_10_NRMSE</td><td>0.03857</td></tr><tr><td>Y_11_NRMSE</td><td>0.03349</td></tr><tr><td>Y_12_NRMSE</td><td>0.02401</td></tr><tr><td>Y_13_NRMSE</td><td>0.024</td></tr><tr><td>Y_14_NRMSE</td><td>0.024</td></tr></table><br/></div></div>"
      ],
      "text/plain": [
       "<IPython.core.display.HTML object>"
      ]
     },
     "metadata": {},
     "output_type": "display_data"
    },
    {
     "data": {
      "text/html": [
       "Synced <strong style=\"color:#cdcd00\">drawn-sweep-43</strong>: <a href=\"https://wandb.ai/zbooster/Antenna_Outlier-1/runs/a4tfzqdr\" target=\"_blank\">https://wandb.ai/zbooster/Antenna_Outlier-1/runs/a4tfzqdr</a><br/>Synced 5 W&B file(s), 0 media file(s), 0 artifact file(s) and 0 other file(s)"
      ],
      "text/plain": [
       "<IPython.core.display.HTML object>"
      ]
     },
     "metadata": {},
     "output_type": "display_data"
    },
    {
     "data": {
      "text/html": [
       "Find logs at: <code>./wandb/run-20220817_065349-a4tfzqdr/logs</code>"
      ],
      "text/plain": [
       "<IPython.core.display.HTML object>"
      ]
     },
     "metadata": {},
     "output_type": "display_data"
    },
    {
     "name": "stderr",
     "output_type": "stream",
     "text": [
      "\u001b[34m\u001b[1mwandb\u001b[0m: Sweep Agent: Waiting for job.\n",
      "\u001b[34m\u001b[1mwandb\u001b[0m: Job received.\n",
      "\u001b[34m\u001b[1mwandb\u001b[0m: Agent Starting Run: w2tmpw21 with config:\n",
      "\u001b[34m\u001b[1mwandb\u001b[0m: \tdrop_index: [70, 280, 6213, 13585, 37911]\n",
      "\u001b[34m\u001b[1mwandb\u001b[0m: \toutlier: 4670\n"
     ]
    },
    {
     "data": {
      "text/html": [
       "Tracking run with wandb version 0.13.1"
      ],
      "text/plain": [
       "<IPython.core.display.HTML object>"
      ]
     },
     "metadata": {},
     "output_type": "display_data"
    },
    {
     "data": {
      "text/html": [
       "Run data is saved locally in <code>/content/Antenna-Performance-Prediction/wandb/run-20220817_065440-w2tmpw21</code>"
      ],
      "text/plain": [
       "<IPython.core.display.HTML object>"
      ]
     },
     "metadata": {},
     "output_type": "display_data"
    },
    {
     "data": {
      "text/html": [
       "Syncing run <strong><a href=\"https://wandb.ai/zbooster/Antenna_Outlier-1/runs/w2tmpw21\" target=\"_blank\">misty-sweep-44</a></strong> to <a href=\"https://wandb.ai/zbooster/Antenna_Outlier-1\" target=\"_blank\">Weights & Biases</a> (<a href=\"https://wandb.me/run\" target=\"_blank\">docs</a>)<br/>Sweep page:  <a href=\"https://wandb.ai/zbooster/Antenna_Outlier-1/sweeps/nj4jorxe\" target=\"_blank\">https://wandb.ai/zbooster/Antenna_Outlier-1/sweeps/nj4jorxe</a>"
      ],
      "text/plain": [
       "<IPython.core.display.HTML object>"
      ]
     },
     "metadata": {},
     "output_type": "display_data"
    },
    {
     "data": {
      "text/html": [
       "Waiting for W&B process to finish... <strong style=\"color:green\">(success).</strong>"
      ],
      "text/plain": [
       "<IPython.core.display.HTML object>"
      ]
     },
     "metadata": {},
     "output_type": "display_data"
    },
    {
     "data": {
      "application/vnd.jupyter.widget-view+json": {
       "model_id": "3e3e7cf70efe462abda9309a542efb68",
       "version_major": 2,
       "version_minor": 0
      },
      "text/plain": [
       "VBox(children=(Label(value='0.001 MB of 0.001 MB uploaded (0.000 MB deduped)\\r'), FloatProgress(value=1.0, max…"
      ]
     },
     "metadata": {},
     "output_type": "display_data"
    },
    {
     "data": {
      "text/html": [
       "<style>\n",
       "    table.wandb td:nth-child(1) { padding: 0 10px; text-align: left ; width: auto;} td:nth-child(2) {text-align: left ; width: 100%}\n",
       "    .wandb-row { display: flex; flex-direction: row; flex-wrap: wrap; justify-content: flex-start; width: 100% }\n",
       "    .wandb-col { display: flex; flex-direction: column; flex-basis: 100%; flex: 1; padding: 10px; }\n",
       "    </style>\n",
       "<div class=\"wandb-row\"><div class=\"wandb-col\"><h3>Run history:</h3><br/><table class=\"wandb\"><tr><td>LG_NRMSE_BEST</td><td>▁</td></tr><tr><td>LG_NRMSE_MEAN</td><td>▁</td></tr><tr><td>Y_01_NRMSE</td><td>▁</td></tr><tr><td>Y_02_NRMSE</td><td>▁</td></tr><tr><td>Y_03_NRMSE</td><td>▁</td></tr><tr><td>Y_04_NRMSE</td><td>▁</td></tr><tr><td>Y_05_NRMSE</td><td>▁</td></tr><tr><td>Y_06_NRMSE</td><td>▁</td></tr><tr><td>Y_07_NRMSE</td><td>▁</td></tr><tr><td>Y_08_NRMSE</td><td>▁</td></tr><tr><td>Y_09_NRMSE</td><td>▁</td></tr><tr><td>Y_10_NRMSE</td><td>▁</td></tr><tr><td>Y_11_NRMSE</td><td>▁</td></tr><tr><td>Y_12_NRMSE</td><td>▁</td></tr><tr><td>Y_13_NRMSE</td><td>▁</td></tr><tr><td>Y_14_NRMSE</td><td>▁</td></tr></table><br/></div><div class=\"wandb-col\"><h3>Run summary:</h3><br/><table class=\"wandb\"><tr><td>LG_NRMSE_BEST</td><td>1.93825</td></tr><tr><td>LG_NRMSE_MEAN</td><td>1.93825</td></tr><tr><td>Y_01_NRMSE</td><td>0.25284</td></tr><tr><td>Y_02_NRMSE</td><td>0.35091</td></tr><tr><td>Y_03_NRMSE</td><td>0.34422</td></tr><tr><td>Y_04_NRMSE</td><td>0.18676</td></tr><tr><td>Y_05_NRMSE</td><td>0.0791</td></tr><tr><td>Y_06_NRMSE</td><td>0.10597</td></tr><tr><td>Y_07_NRMSE</td><td>0.13129</td></tr><tr><td>Y_08_NRMSE</td><td>0.02416</td></tr><tr><td>Y_09_NRMSE</td><td>0.02391</td></tr><tr><td>Y_10_NRMSE</td><td>0.03856</td></tr><tr><td>Y_11_NRMSE</td><td>0.03348</td></tr><tr><td>Y_12_NRMSE</td><td>0.02401</td></tr><tr><td>Y_13_NRMSE</td><td>0.024</td></tr><tr><td>Y_14_NRMSE</td><td>0.02399</td></tr></table><br/></div></div>"
      ],
      "text/plain": [
       "<IPython.core.display.HTML object>"
      ]
     },
     "metadata": {},
     "output_type": "display_data"
    },
    {
     "data": {
      "text/html": [
       "Synced <strong style=\"color:#cdcd00\">misty-sweep-44</strong>: <a href=\"https://wandb.ai/zbooster/Antenna_Outlier-1/runs/w2tmpw21\" target=\"_blank\">https://wandb.ai/zbooster/Antenna_Outlier-1/runs/w2tmpw21</a><br/>Synced 5 W&B file(s), 0 media file(s), 0 artifact file(s) and 0 other file(s)"
      ],
      "text/plain": [
       "<IPython.core.display.HTML object>"
      ]
     },
     "metadata": {},
     "output_type": "display_data"
    },
    {
     "data": {
      "text/html": [
       "Find logs at: <code>./wandb/run-20220817_065440-w2tmpw21/logs</code>"
      ],
      "text/plain": [
       "<IPython.core.display.HTML object>"
      ]
     },
     "metadata": {},
     "output_type": "display_data"
    },
    {
     "name": "stderr",
     "output_type": "stream",
     "text": [
      "\u001b[34m\u001b[1mwandb\u001b[0m: Agent Starting Run: o0mnzcgh with config:\n",
      "\u001b[34m\u001b[1mwandb\u001b[0m: \tdrop_index: [70, 280, 6213, 13585, 37911]\n",
      "\u001b[34m\u001b[1mwandb\u001b[0m: \toutlier: 4691\n"
     ]
    },
    {
     "data": {
      "text/html": [
       "Tracking run with wandb version 0.13.1"
      ],
      "text/plain": [
       "<IPython.core.display.HTML object>"
      ]
     },
     "metadata": {},
     "output_type": "display_data"
    },
    {
     "data": {
      "text/html": [
       "Run data is saved locally in <code>/content/Antenna-Performance-Prediction/wandb/run-20220817_065523-o0mnzcgh</code>"
      ],
      "text/plain": [
       "<IPython.core.display.HTML object>"
      ]
     },
     "metadata": {},
     "output_type": "display_data"
    },
    {
     "data": {
      "text/html": [
       "Syncing run <strong><a href=\"https://wandb.ai/zbooster/Antenna_Outlier-1/runs/o0mnzcgh\" target=\"_blank\">cosmic-sweep-45</a></strong> to <a href=\"https://wandb.ai/zbooster/Antenna_Outlier-1\" target=\"_blank\">Weights & Biases</a> (<a href=\"https://wandb.me/run\" target=\"_blank\">docs</a>)<br/>Sweep page:  <a href=\"https://wandb.ai/zbooster/Antenna_Outlier-1/sweeps/nj4jorxe\" target=\"_blank\">https://wandb.ai/zbooster/Antenna_Outlier-1/sweeps/nj4jorxe</a>"
      ],
      "text/plain": [
       "<IPython.core.display.HTML object>"
      ]
     },
     "metadata": {},
     "output_type": "display_data"
    },
    {
     "data": {
      "text/html": [
       "Waiting for W&B process to finish... <strong style=\"color:green\">(success).</strong>"
      ],
      "text/plain": [
       "<IPython.core.display.HTML object>"
      ]
     },
     "metadata": {},
     "output_type": "display_data"
    },
    {
     "data": {
      "application/vnd.jupyter.widget-view+json": {
       "model_id": "2323717af2f6402db2e852d4ad91b2f9",
       "version_major": 2,
       "version_minor": 0
      },
      "text/plain": [
       "VBox(children=(Label(value='0.001 MB of 0.001 MB uploaded (0.000 MB deduped)\\r'), FloatProgress(value=1.0, max…"
      ]
     },
     "metadata": {},
     "output_type": "display_data"
    },
    {
     "data": {
      "text/html": [
       "<style>\n",
       "    table.wandb td:nth-child(1) { padding: 0 10px; text-align: left ; width: auto;} td:nth-child(2) {text-align: left ; width: 100%}\n",
       "    .wandb-row { display: flex; flex-direction: row; flex-wrap: wrap; justify-content: flex-start; width: 100% }\n",
       "    .wandb-col { display: flex; flex-direction: column; flex-basis: 100%; flex: 1; padding: 10px; }\n",
       "    </style>\n",
       "<div class=\"wandb-row\"><div class=\"wandb-col\"><h3>Run history:</h3><br/><table class=\"wandb\"><tr><td>LG_NRMSE_BEST</td><td>▁</td></tr><tr><td>LG_NRMSE_MEAN</td><td>▁</td></tr><tr><td>Y_01_NRMSE</td><td>▁</td></tr><tr><td>Y_02_NRMSE</td><td>▁</td></tr><tr><td>Y_03_NRMSE</td><td>▁</td></tr><tr><td>Y_04_NRMSE</td><td>▁</td></tr><tr><td>Y_05_NRMSE</td><td>▁</td></tr><tr><td>Y_06_NRMSE</td><td>▁</td></tr><tr><td>Y_07_NRMSE</td><td>▁</td></tr><tr><td>Y_08_NRMSE</td><td>▁</td></tr><tr><td>Y_09_NRMSE</td><td>▁</td></tr><tr><td>Y_10_NRMSE</td><td>▁</td></tr><tr><td>Y_11_NRMSE</td><td>▁</td></tr><tr><td>Y_12_NRMSE</td><td>▁</td></tr><tr><td>Y_13_NRMSE</td><td>▁</td></tr><tr><td>Y_14_NRMSE</td><td>▁</td></tr></table><br/></div><div class=\"wandb-col\"><h3>Run summary:</h3><br/><table class=\"wandb\"><tr><td>LG_NRMSE_BEST</td><td>1.93872</td></tr><tr><td>LG_NRMSE_MEAN</td><td>1.93872</td></tr><tr><td>Y_01_NRMSE</td><td>0.25293</td></tr><tr><td>Y_02_NRMSE</td><td>0.35099</td></tr><tr><td>Y_03_NRMSE</td><td>0.34432</td></tr><tr><td>Y_04_NRMSE</td><td>0.18674</td></tr><tr><td>Y_05_NRMSE</td><td>0.07912</td></tr><tr><td>Y_06_NRMSE</td><td>0.1061</td></tr><tr><td>Y_07_NRMSE</td><td>0.13124</td></tr><tr><td>Y_08_NRMSE</td><td>0.02417</td></tr><tr><td>Y_09_NRMSE</td><td>0.02392</td></tr><tr><td>Y_10_NRMSE</td><td>0.03858</td></tr><tr><td>Y_11_NRMSE</td><td>0.03348</td></tr><tr><td>Y_12_NRMSE</td><td>0.02401</td></tr><tr><td>Y_13_NRMSE</td><td>0.024</td></tr><tr><td>Y_14_NRMSE</td><td>0.02399</td></tr></table><br/></div></div>"
      ],
      "text/plain": [
       "<IPython.core.display.HTML object>"
      ]
     },
     "metadata": {},
     "output_type": "display_data"
    },
    {
     "data": {
      "text/html": [
       "Synced <strong style=\"color:#cdcd00\">cosmic-sweep-45</strong>: <a href=\"https://wandb.ai/zbooster/Antenna_Outlier-1/runs/o0mnzcgh\" target=\"_blank\">https://wandb.ai/zbooster/Antenna_Outlier-1/runs/o0mnzcgh</a><br/>Synced 5 W&B file(s), 0 media file(s), 0 artifact file(s) and 0 other file(s)"
      ],
      "text/plain": [
       "<IPython.core.display.HTML object>"
      ]
     },
     "metadata": {},
     "output_type": "display_data"
    },
    {
     "data": {
      "text/html": [
       "Find logs at: <code>./wandb/run-20220817_065523-o0mnzcgh/logs</code>"
      ],
      "text/plain": [
       "<IPython.core.display.HTML object>"
      ]
     },
     "metadata": {},
     "output_type": "display_data"
    },
    {
     "name": "stderr",
     "output_type": "stream",
     "text": [
      "\u001b[34m\u001b[1mwandb\u001b[0m: Agent Starting Run: fh2vy747 with config:\n",
      "\u001b[34m\u001b[1mwandb\u001b[0m: \tdrop_index: [70, 280, 6213, 13585, 37911]\n",
      "\u001b[34m\u001b[1mwandb\u001b[0m: \toutlier: 4703\n"
     ]
    },
    {
     "data": {
      "text/html": [
       "Tracking run with wandb version 0.13.1"
      ],
      "text/plain": [
       "<IPython.core.display.HTML object>"
      ]
     },
     "metadata": {},
     "output_type": "display_data"
    },
    {
     "data": {
      "text/html": [
       "Run data is saved locally in <code>/content/Antenna-Performance-Prediction/wandb/run-20220817_065621-fh2vy747</code>"
      ],
      "text/plain": [
       "<IPython.core.display.HTML object>"
      ]
     },
     "metadata": {},
     "output_type": "display_data"
    },
    {
     "data": {
      "text/html": [
       "Syncing run <strong><a href=\"https://wandb.ai/zbooster/Antenna_Outlier-1/runs/fh2vy747\" target=\"_blank\">treasured-sweep-46</a></strong> to <a href=\"https://wandb.ai/zbooster/Antenna_Outlier-1\" target=\"_blank\">Weights & Biases</a> (<a href=\"https://wandb.me/run\" target=\"_blank\">docs</a>)<br/>Sweep page:  <a href=\"https://wandb.ai/zbooster/Antenna_Outlier-1/sweeps/nj4jorxe\" target=\"_blank\">https://wandb.ai/zbooster/Antenna_Outlier-1/sweeps/nj4jorxe</a>"
      ],
      "text/plain": [
       "<IPython.core.display.HTML object>"
      ]
     },
     "metadata": {},
     "output_type": "display_data"
    },
    {
     "data": {
      "text/html": [
       "Waiting for W&B process to finish... <strong style=\"color:green\">(success).</strong>"
      ],
      "text/plain": [
       "<IPython.core.display.HTML object>"
      ]
     },
     "metadata": {},
     "output_type": "display_data"
    },
    {
     "data": {
      "application/vnd.jupyter.widget-view+json": {
       "model_id": "9bb3b46861184184adfdd9c6d1aedd2b",
       "version_major": 2,
       "version_minor": 0
      },
      "text/plain": [
       "VBox(children=(Label(value='0.001 MB of 0.001 MB uploaded (0.000 MB deduped)\\r'), FloatProgress(value=1.0, max…"
      ]
     },
     "metadata": {},
     "output_type": "display_data"
    },
    {
     "data": {
      "text/html": [
       "<style>\n",
       "    table.wandb td:nth-child(1) { padding: 0 10px; text-align: left ; width: auto;} td:nth-child(2) {text-align: left ; width: 100%}\n",
       "    .wandb-row { display: flex; flex-direction: row; flex-wrap: wrap; justify-content: flex-start; width: 100% }\n",
       "    .wandb-col { display: flex; flex-direction: column; flex-basis: 100%; flex: 1; padding: 10px; }\n",
       "    </style>\n",
       "<div class=\"wandb-row\"><div class=\"wandb-col\"><h3>Run history:</h3><br/><table class=\"wandb\"><tr><td>LG_NRMSE_BEST</td><td>▁</td></tr><tr><td>LG_NRMSE_MEAN</td><td>▁</td></tr><tr><td>Y_01_NRMSE</td><td>▁</td></tr><tr><td>Y_02_NRMSE</td><td>▁</td></tr><tr><td>Y_03_NRMSE</td><td>▁</td></tr><tr><td>Y_04_NRMSE</td><td>▁</td></tr><tr><td>Y_05_NRMSE</td><td>▁</td></tr><tr><td>Y_06_NRMSE</td><td>▁</td></tr><tr><td>Y_07_NRMSE</td><td>▁</td></tr><tr><td>Y_08_NRMSE</td><td>▁</td></tr><tr><td>Y_09_NRMSE</td><td>▁</td></tr><tr><td>Y_10_NRMSE</td><td>▁</td></tr><tr><td>Y_11_NRMSE</td><td>▁</td></tr><tr><td>Y_12_NRMSE</td><td>▁</td></tr><tr><td>Y_13_NRMSE</td><td>▁</td></tr><tr><td>Y_14_NRMSE</td><td>▁</td></tr></table><br/></div><div class=\"wandb-col\"><h3>Run summary:</h3><br/><table class=\"wandb\"><tr><td>LG_NRMSE_BEST</td><td>1.93898</td></tr><tr><td>LG_NRMSE_MEAN</td><td>1.93898</td></tr><tr><td>Y_01_NRMSE</td><td>0.25294</td></tr><tr><td>Y_02_NRMSE</td><td>0.35107</td></tr><tr><td>Y_03_NRMSE</td><td>0.34437</td></tr><tr><td>Y_04_NRMSE</td><td>0.18672</td></tr><tr><td>Y_05_NRMSE</td><td>0.07911</td></tr><tr><td>Y_06_NRMSE</td><td>0.1061</td></tr><tr><td>Y_07_NRMSE</td><td>0.13129</td></tr><tr><td>Y_08_NRMSE</td><td>0.02418</td></tr><tr><td>Y_09_NRMSE</td><td>0.02393</td></tr><tr><td>Y_10_NRMSE</td><td>0.03859</td></tr><tr><td>Y_11_NRMSE</td><td>0.03349</td></tr><tr><td>Y_12_NRMSE</td><td>0.02402</td></tr><tr><td>Y_13_NRMSE</td><td>0.02401</td></tr><tr><td>Y_14_NRMSE</td><td>0.02401</td></tr></table><br/></div></div>"
      ],
      "text/plain": [
       "<IPython.core.display.HTML object>"
      ]
     },
     "metadata": {},
     "output_type": "display_data"
    },
    {
     "data": {
      "text/html": [
       "Synced <strong style=\"color:#cdcd00\">treasured-sweep-46</strong>: <a href=\"https://wandb.ai/zbooster/Antenna_Outlier-1/runs/fh2vy747\" target=\"_blank\">https://wandb.ai/zbooster/Antenna_Outlier-1/runs/fh2vy747</a><br/>Synced 5 W&B file(s), 0 media file(s), 0 artifact file(s) and 0 other file(s)"
      ],
      "text/plain": [
       "<IPython.core.display.HTML object>"
      ]
     },
     "metadata": {},
     "output_type": "display_data"
    },
    {
     "data": {
      "text/html": [
       "Find logs at: <code>./wandb/run-20220817_065621-fh2vy747/logs</code>"
      ],
      "text/plain": [
       "<IPython.core.display.HTML object>"
      ]
     },
     "metadata": {},
     "output_type": "display_data"
    },
    {
     "name": "stderr",
     "output_type": "stream",
     "text": [
      "\u001b[34m\u001b[1mwandb\u001b[0m: Agent Starting Run: t0fxei4r with config:\n",
      "\u001b[34m\u001b[1mwandb\u001b[0m: \tdrop_index: [70, 280, 6213, 13585, 37911]\n",
      "\u001b[34m\u001b[1mwandb\u001b[0m: \toutlier: 4710\n"
     ]
    },
    {
     "data": {
      "text/html": [
       "Tracking run with wandb version 0.13.1"
      ],
      "text/plain": [
       "<IPython.core.display.HTML object>"
      ]
     },
     "metadata": {},
     "output_type": "display_data"
    },
    {
     "data": {
      "text/html": [
       "Run data is saved locally in <code>/content/Antenna-Performance-Prediction/wandb/run-20220817_065709-t0fxei4r</code>"
      ],
      "text/plain": [
       "<IPython.core.display.HTML object>"
      ]
     },
     "metadata": {},
     "output_type": "display_data"
    },
    {
     "data": {
      "text/html": [
       "Syncing run <strong><a href=\"https://wandb.ai/zbooster/Antenna_Outlier-1/runs/t0fxei4r\" target=\"_blank\">grateful-sweep-47</a></strong> to <a href=\"https://wandb.ai/zbooster/Antenna_Outlier-1\" target=\"_blank\">Weights & Biases</a> (<a href=\"https://wandb.me/run\" target=\"_blank\">docs</a>)<br/>Sweep page:  <a href=\"https://wandb.ai/zbooster/Antenna_Outlier-1/sweeps/nj4jorxe\" target=\"_blank\">https://wandb.ai/zbooster/Antenna_Outlier-1/sweeps/nj4jorxe</a>"
      ],
      "text/plain": [
       "<IPython.core.display.HTML object>"
      ]
     },
     "metadata": {},
     "output_type": "display_data"
    },
    {
     "data": {
      "text/html": [
       "Waiting for W&B process to finish... <strong style=\"color:green\">(success).</strong>"
      ],
      "text/plain": [
       "<IPython.core.display.HTML object>"
      ]
     },
     "metadata": {},
     "output_type": "display_data"
    },
    {
     "data": {
      "application/vnd.jupyter.widget-view+json": {
       "model_id": "dddc0df773f0488fb4dbdaa5aa98e62a",
       "version_major": 2,
       "version_minor": 0
      },
      "text/plain": [
       "VBox(children=(Label(value='0.001 MB of 0.001 MB uploaded (0.000 MB deduped)\\r'), FloatProgress(value=1.0, max…"
      ]
     },
     "metadata": {},
     "output_type": "display_data"
    },
    {
     "data": {
      "text/html": [
       "<style>\n",
       "    table.wandb td:nth-child(1) { padding: 0 10px; text-align: left ; width: auto;} td:nth-child(2) {text-align: left ; width: 100%}\n",
       "    .wandb-row { display: flex; flex-direction: row; flex-wrap: wrap; justify-content: flex-start; width: 100% }\n",
       "    .wandb-col { display: flex; flex-direction: column; flex-basis: 100%; flex: 1; padding: 10px; }\n",
       "    </style>\n",
       "<div class=\"wandb-row\"><div class=\"wandb-col\"><h3>Run history:</h3><br/><table class=\"wandb\"><tr><td>LG_NRMSE_BEST</td><td>▁</td></tr><tr><td>LG_NRMSE_MEAN</td><td>▁</td></tr><tr><td>Y_01_NRMSE</td><td>▁</td></tr><tr><td>Y_02_NRMSE</td><td>▁</td></tr><tr><td>Y_03_NRMSE</td><td>▁</td></tr><tr><td>Y_04_NRMSE</td><td>▁</td></tr><tr><td>Y_05_NRMSE</td><td>▁</td></tr><tr><td>Y_06_NRMSE</td><td>▁</td></tr><tr><td>Y_07_NRMSE</td><td>▁</td></tr><tr><td>Y_08_NRMSE</td><td>▁</td></tr><tr><td>Y_09_NRMSE</td><td>▁</td></tr><tr><td>Y_10_NRMSE</td><td>▁</td></tr><tr><td>Y_11_NRMSE</td><td>▁</td></tr><tr><td>Y_12_NRMSE</td><td>▁</td></tr><tr><td>Y_13_NRMSE</td><td>▁</td></tr><tr><td>Y_14_NRMSE</td><td>▁</td></tr></table><br/></div><div class=\"wandb-col\"><h3>Run summary:</h3><br/><table class=\"wandb\"><tr><td>LG_NRMSE_BEST</td><td>1.9389</td></tr><tr><td>LG_NRMSE_MEAN</td><td>1.9389</td></tr><tr><td>Y_01_NRMSE</td><td>0.25297</td></tr><tr><td>Y_02_NRMSE</td><td>0.35105</td></tr><tr><td>Y_03_NRMSE</td><td>0.3444</td></tr><tr><td>Y_04_NRMSE</td><td>0.1867</td></tr><tr><td>Y_05_NRMSE</td><td>0.07911</td></tr><tr><td>Y_06_NRMSE</td><td>0.10608</td></tr><tr><td>Y_07_NRMSE</td><td>0.13127</td></tr><tr><td>Y_08_NRMSE</td><td>0.02417</td></tr><tr><td>Y_09_NRMSE</td><td>0.02392</td></tr><tr><td>Y_10_NRMSE</td><td>0.03858</td></tr><tr><td>Y_11_NRMSE</td><td>0.03348</td></tr><tr><td>Y_12_NRMSE</td><td>0.02402</td></tr><tr><td>Y_13_NRMSE</td><td>0.024</td></tr><tr><td>Y_14_NRMSE</td><td>0.024</td></tr></table><br/></div></div>"
      ],
      "text/plain": [
       "<IPython.core.display.HTML object>"
      ]
     },
     "metadata": {},
     "output_type": "display_data"
    },
    {
     "data": {
      "text/html": [
       "Synced <strong style=\"color:#cdcd00\">grateful-sweep-47</strong>: <a href=\"https://wandb.ai/zbooster/Antenna_Outlier-1/runs/t0fxei4r\" target=\"_blank\">https://wandb.ai/zbooster/Antenna_Outlier-1/runs/t0fxei4r</a><br/>Synced 5 W&B file(s), 0 media file(s), 0 artifact file(s) and 0 other file(s)"
      ],
      "text/plain": [
       "<IPython.core.display.HTML object>"
      ]
     },
     "metadata": {},
     "output_type": "display_data"
    },
    {
     "data": {
      "text/html": [
       "Find logs at: <code>./wandb/run-20220817_065709-t0fxei4r/logs</code>"
      ],
      "text/plain": [
       "<IPython.core.display.HTML object>"
      ]
     },
     "metadata": {},
     "output_type": "display_data"
    },
    {
     "name": "stderr",
     "output_type": "stream",
     "text": [
      "\u001b[34m\u001b[1mwandb\u001b[0m: Agent Starting Run: 7k3uqdh8 with config:\n",
      "\u001b[34m\u001b[1mwandb\u001b[0m: \tdrop_index: [70, 280, 6213, 13585, 37911]\n",
      "\u001b[34m\u001b[1mwandb\u001b[0m: \toutlier: 4768\n"
     ]
    },
    {
     "data": {
      "text/html": [
       "Tracking run with wandb version 0.13.1"
      ],
      "text/plain": [
       "<IPython.core.display.HTML object>"
      ]
     },
     "metadata": {},
     "output_type": "display_data"
    },
    {
     "data": {
      "text/html": [
       "Run data is saved locally in <code>/content/Antenna-Performance-Prediction/wandb/run-20220817_065751-7k3uqdh8</code>"
      ],
      "text/plain": [
       "<IPython.core.display.HTML object>"
      ]
     },
     "metadata": {},
     "output_type": "display_data"
    },
    {
     "data": {
      "text/html": [
       "Syncing run <strong><a href=\"https://wandb.ai/zbooster/Antenna_Outlier-1/runs/7k3uqdh8\" target=\"_blank\">divine-sweep-48</a></strong> to <a href=\"https://wandb.ai/zbooster/Antenna_Outlier-1\" target=\"_blank\">Weights & Biases</a> (<a href=\"https://wandb.me/run\" target=\"_blank\">docs</a>)<br/>Sweep page:  <a href=\"https://wandb.ai/zbooster/Antenna_Outlier-1/sweeps/nj4jorxe\" target=\"_blank\">https://wandb.ai/zbooster/Antenna_Outlier-1/sweeps/nj4jorxe</a>"
      ],
      "text/plain": [
       "<IPython.core.display.HTML object>"
      ]
     },
     "metadata": {},
     "output_type": "display_data"
    },
    {
     "data": {
      "text/html": [
       "Waiting for W&B process to finish... <strong style=\"color:green\">(success).</strong>"
      ],
      "text/plain": [
       "<IPython.core.display.HTML object>"
      ]
     },
     "metadata": {},
     "output_type": "display_data"
    },
    {
     "data": {
      "application/vnd.jupyter.widget-view+json": {
       "model_id": "685ed2522b2d4125a8bb7c04841de50b",
       "version_major": 2,
       "version_minor": 0
      },
      "text/plain": [
       "VBox(children=(Label(value='0.001 MB of 0.001 MB uploaded (0.000 MB deduped)\\r'), FloatProgress(value=1.0, max…"
      ]
     },
     "metadata": {},
     "output_type": "display_data"
    },
    {
     "data": {
      "text/html": [
       "<style>\n",
       "    table.wandb td:nth-child(1) { padding: 0 10px; text-align: left ; width: auto;} td:nth-child(2) {text-align: left ; width: 100%}\n",
       "    .wandb-row { display: flex; flex-direction: row; flex-wrap: wrap; justify-content: flex-start; width: 100% }\n",
       "    .wandb-col { display: flex; flex-direction: column; flex-basis: 100%; flex: 1; padding: 10px; }\n",
       "    </style>\n",
       "<div class=\"wandb-row\"><div class=\"wandb-col\"><h3>Run history:</h3><br/><table class=\"wandb\"><tr><td>LG_NRMSE_BEST</td><td>▁</td></tr><tr><td>LG_NRMSE_MEAN</td><td>▁</td></tr><tr><td>Y_01_NRMSE</td><td>▁</td></tr><tr><td>Y_02_NRMSE</td><td>▁</td></tr><tr><td>Y_03_NRMSE</td><td>▁</td></tr><tr><td>Y_04_NRMSE</td><td>▁</td></tr><tr><td>Y_05_NRMSE</td><td>▁</td></tr><tr><td>Y_06_NRMSE</td><td>▁</td></tr><tr><td>Y_07_NRMSE</td><td>▁</td></tr><tr><td>Y_08_NRMSE</td><td>▁</td></tr><tr><td>Y_09_NRMSE</td><td>▁</td></tr><tr><td>Y_10_NRMSE</td><td>▁</td></tr><tr><td>Y_11_NRMSE</td><td>▁</td></tr><tr><td>Y_12_NRMSE</td><td>▁</td></tr><tr><td>Y_13_NRMSE</td><td>▁</td></tr><tr><td>Y_14_NRMSE</td><td>▁</td></tr></table><br/></div><div class=\"wandb-col\"><h3>Run summary:</h3><br/><table class=\"wandb\"><tr><td>LG_NRMSE_BEST</td><td>1.93874</td></tr><tr><td>LG_NRMSE_MEAN</td><td>1.93874</td></tr><tr><td>Y_01_NRMSE</td><td>0.25297</td></tr><tr><td>Y_02_NRMSE</td><td>0.35112</td></tr><tr><td>Y_03_NRMSE</td><td>0.34445</td></tr><tr><td>Y_04_NRMSE</td><td>0.18664</td></tr><tr><td>Y_05_NRMSE</td><td>0.07906</td></tr><tr><td>Y_06_NRMSE</td><td>0.1061</td></tr><tr><td>Y_07_NRMSE</td><td>0.13113</td></tr><tr><td>Y_08_NRMSE</td><td>0.02417</td></tr><tr><td>Y_09_NRMSE</td><td>0.02392</td></tr><tr><td>Y_10_NRMSE</td><td>0.03858</td></tr><tr><td>Y_11_NRMSE</td><td>0.03348</td></tr><tr><td>Y_12_NRMSE</td><td>0.02401</td></tr><tr><td>Y_13_NRMSE</td><td>0.02399</td></tr><tr><td>Y_14_NRMSE</td><td>0.024</td></tr></table><br/></div></div>"
      ],
      "text/plain": [
       "<IPython.core.display.HTML object>"
      ]
     },
     "metadata": {},
     "output_type": "display_data"
    },
    {
     "data": {
      "text/html": [
       "Synced <strong style=\"color:#cdcd00\">divine-sweep-48</strong>: <a href=\"https://wandb.ai/zbooster/Antenna_Outlier-1/runs/7k3uqdh8\" target=\"_blank\">https://wandb.ai/zbooster/Antenna_Outlier-1/runs/7k3uqdh8</a><br/>Synced 5 W&B file(s), 0 media file(s), 0 artifact file(s) and 0 other file(s)"
      ],
      "text/plain": [
       "<IPython.core.display.HTML object>"
      ]
     },
     "metadata": {},
     "output_type": "display_data"
    },
    {
     "data": {
      "text/html": [
       "Find logs at: <code>./wandb/run-20220817_065751-7k3uqdh8/logs</code>"
      ],
      "text/plain": [
       "<IPython.core.display.HTML object>"
      ]
     },
     "metadata": {},
     "output_type": "display_data"
    },
    {
     "name": "stderr",
     "output_type": "stream",
     "text": [
      "\u001b[34m\u001b[1mwandb\u001b[0m: Sweep Agent: Waiting for job.\n",
      "\u001b[34m\u001b[1mwandb\u001b[0m: Job received.\n",
      "\u001b[34m\u001b[1mwandb\u001b[0m: Agent Starting Run: szj0njjv with config:\n",
      "\u001b[34m\u001b[1mwandb\u001b[0m: \tdrop_index: [70, 280, 6213, 13585, 37911]\n",
      "\u001b[34m\u001b[1mwandb\u001b[0m: \toutlier: 4769\n"
     ]
    },
    {
     "data": {
      "text/html": [
       "Tracking run with wandb version 0.13.1"
      ],
      "text/plain": [
       "<IPython.core.display.HTML object>"
      ]
     },
     "metadata": {},
     "output_type": "display_data"
    },
    {
     "data": {
      "text/html": [
       "Run data is saved locally in <code>/content/Antenna-Performance-Prediction/wandb/run-20220817_065843-szj0njjv</code>"
      ],
      "text/plain": [
       "<IPython.core.display.HTML object>"
      ]
     },
     "metadata": {},
     "output_type": "display_data"
    },
    {
     "data": {
      "text/html": [
       "Syncing run <strong><a href=\"https://wandb.ai/zbooster/Antenna_Outlier-1/runs/szj0njjv\" target=\"_blank\">leafy-sweep-49</a></strong> to <a href=\"https://wandb.ai/zbooster/Antenna_Outlier-1\" target=\"_blank\">Weights & Biases</a> (<a href=\"https://wandb.me/run\" target=\"_blank\">docs</a>)<br/>Sweep page:  <a href=\"https://wandb.ai/zbooster/Antenna_Outlier-1/sweeps/nj4jorxe\" target=\"_blank\">https://wandb.ai/zbooster/Antenna_Outlier-1/sweeps/nj4jorxe</a>"
      ],
      "text/plain": [
       "<IPython.core.display.HTML object>"
      ]
     },
     "metadata": {},
     "output_type": "display_data"
    },
    {
     "data": {
      "text/html": [
       "Waiting for W&B process to finish... <strong style=\"color:green\">(success).</strong>"
      ],
      "text/plain": [
       "<IPython.core.display.HTML object>"
      ]
     },
     "metadata": {},
     "output_type": "display_data"
    },
    {
     "data": {
      "application/vnd.jupyter.widget-view+json": {
       "model_id": "2e34f7dd70964a7d93a6a77cdeb9a3ef",
       "version_major": 2,
       "version_minor": 0
      },
      "text/plain": [
       "VBox(children=(Label(value='0.001 MB of 0.001 MB uploaded (0.000 MB deduped)\\r'), FloatProgress(value=1.0, max…"
      ]
     },
     "metadata": {},
     "output_type": "display_data"
    },
    {
     "data": {
      "text/html": [
       "<style>\n",
       "    table.wandb td:nth-child(1) { padding: 0 10px; text-align: left ; width: auto;} td:nth-child(2) {text-align: left ; width: 100%}\n",
       "    .wandb-row { display: flex; flex-direction: row; flex-wrap: wrap; justify-content: flex-start; width: 100% }\n",
       "    .wandb-col { display: flex; flex-direction: column; flex-basis: 100%; flex: 1; padding: 10px; }\n",
       "    </style>\n",
       "<div class=\"wandb-row\"><div class=\"wandb-col\"><h3>Run history:</h3><br/><table class=\"wandb\"><tr><td>LG_NRMSE_BEST</td><td>▁</td></tr><tr><td>LG_NRMSE_MEAN</td><td>▁</td></tr><tr><td>Y_01_NRMSE</td><td>▁</td></tr><tr><td>Y_02_NRMSE</td><td>▁</td></tr><tr><td>Y_03_NRMSE</td><td>▁</td></tr><tr><td>Y_04_NRMSE</td><td>▁</td></tr><tr><td>Y_05_NRMSE</td><td>▁</td></tr><tr><td>Y_06_NRMSE</td><td>▁</td></tr><tr><td>Y_07_NRMSE</td><td>▁</td></tr><tr><td>Y_08_NRMSE</td><td>▁</td></tr><tr><td>Y_09_NRMSE</td><td>▁</td></tr><tr><td>Y_10_NRMSE</td><td>▁</td></tr><tr><td>Y_11_NRMSE</td><td>▁</td></tr><tr><td>Y_12_NRMSE</td><td>▁</td></tr><tr><td>Y_13_NRMSE</td><td>▁</td></tr><tr><td>Y_14_NRMSE</td><td>▁</td></tr></table><br/></div><div class=\"wandb-col\"><h3>Run summary:</h3><br/><table class=\"wandb\"><tr><td>LG_NRMSE_BEST</td><td>1.93871</td></tr><tr><td>LG_NRMSE_MEAN</td><td>1.93871</td></tr><tr><td>Y_01_NRMSE</td><td>0.25296</td></tr><tr><td>Y_02_NRMSE</td><td>0.35111</td></tr><tr><td>Y_03_NRMSE</td><td>0.34444</td></tr><tr><td>Y_04_NRMSE</td><td>0.18662</td></tr><tr><td>Y_05_NRMSE</td><td>0.07907</td></tr><tr><td>Y_06_NRMSE</td><td>0.1061</td></tr><tr><td>Y_07_NRMSE</td><td>0.13114</td></tr><tr><td>Y_08_NRMSE</td><td>0.02417</td></tr><tr><td>Y_09_NRMSE</td><td>0.02392</td></tr><tr><td>Y_10_NRMSE</td><td>0.03858</td></tr><tr><td>Y_11_NRMSE</td><td>0.03347</td></tr><tr><td>Y_12_NRMSE</td><td>0.02401</td></tr><tr><td>Y_13_NRMSE</td><td>0.02399</td></tr><tr><td>Y_14_NRMSE</td><td>0.024</td></tr></table><br/></div></div>"
      ],
      "text/plain": [
       "<IPython.core.display.HTML object>"
      ]
     },
     "metadata": {},
     "output_type": "display_data"
    },
    {
     "data": {
      "text/html": [
       "Synced <strong style=\"color:#cdcd00\">leafy-sweep-49</strong>: <a href=\"https://wandb.ai/zbooster/Antenna_Outlier-1/runs/szj0njjv\" target=\"_blank\">https://wandb.ai/zbooster/Antenna_Outlier-1/runs/szj0njjv</a><br/>Synced 5 W&B file(s), 0 media file(s), 0 artifact file(s) and 0 other file(s)"
      ],
      "text/plain": [
       "<IPython.core.display.HTML object>"
      ]
     },
     "metadata": {},
     "output_type": "display_data"
    },
    {
     "data": {
      "text/html": [
       "Find logs at: <code>./wandb/run-20220817_065843-szj0njjv/logs</code>"
      ],
      "text/plain": [
       "<IPython.core.display.HTML object>"
      ]
     },
     "metadata": {},
     "output_type": "display_data"
    },
    {
     "name": "stderr",
     "output_type": "stream",
     "text": [
      "\u001b[34m\u001b[1mwandb\u001b[0m: Agent Starting Run: 7rzrin34 with config:\n",
      "\u001b[34m\u001b[1mwandb\u001b[0m: \tdrop_index: [70, 280, 6213, 13585, 37911]\n",
      "\u001b[34m\u001b[1mwandb\u001b[0m: \toutlier: 4783\n"
     ]
    },
    {
     "data": {
      "text/html": [
       "Tracking run with wandb version 0.13.1"
      ],
      "text/plain": [
       "<IPython.core.display.HTML object>"
      ]
     },
     "metadata": {},
     "output_type": "display_data"
    },
    {
     "data": {
      "text/html": [
       "Run data is saved locally in <code>/content/Antenna-Performance-Prediction/wandb/run-20220817_065925-7rzrin34</code>"
      ],
      "text/plain": [
       "<IPython.core.display.HTML object>"
      ]
     },
     "metadata": {},
     "output_type": "display_data"
    },
    {
     "data": {
      "text/html": [
       "Syncing run <strong><a href=\"https://wandb.ai/zbooster/Antenna_Outlier-1/runs/7rzrin34\" target=\"_blank\">curious-sweep-50</a></strong> to <a href=\"https://wandb.ai/zbooster/Antenna_Outlier-1\" target=\"_blank\">Weights & Biases</a> (<a href=\"https://wandb.me/run\" target=\"_blank\">docs</a>)<br/>Sweep page:  <a href=\"https://wandb.ai/zbooster/Antenna_Outlier-1/sweeps/nj4jorxe\" target=\"_blank\">https://wandb.ai/zbooster/Antenna_Outlier-1/sweeps/nj4jorxe</a>"
      ],
      "text/plain": [
       "<IPython.core.display.HTML object>"
      ]
     },
     "metadata": {},
     "output_type": "display_data"
    },
    {
     "data": {
      "text/html": [
       "Waiting for W&B process to finish... <strong style=\"color:green\">(success).</strong>"
      ],
      "text/plain": [
       "<IPython.core.display.HTML object>"
      ]
     },
     "metadata": {},
     "output_type": "display_data"
    },
    {
     "data": {
      "application/vnd.jupyter.widget-view+json": {
       "model_id": "8ffa4371bd86456d8d4d3aed23ba1856",
       "version_major": 2,
       "version_minor": 0
      },
      "text/plain": [
       "VBox(children=(Label(value='0.001 MB of 0.001 MB uploaded (0.000 MB deduped)\\r'), FloatProgress(value=1.0, max…"
      ]
     },
     "metadata": {},
     "output_type": "display_data"
    },
    {
     "data": {
      "text/html": [
       "<style>\n",
       "    table.wandb td:nth-child(1) { padding: 0 10px; text-align: left ; width: auto;} td:nth-child(2) {text-align: left ; width: 100%}\n",
       "    .wandb-row { display: flex; flex-direction: row; flex-wrap: wrap; justify-content: flex-start; width: 100% }\n",
       "    .wandb-col { display: flex; flex-direction: column; flex-basis: 100%; flex: 1; padding: 10px; }\n",
       "    </style>\n",
       "<div class=\"wandb-row\"><div class=\"wandb-col\"><h3>Run history:</h3><br/><table class=\"wandb\"><tr><td>LG_NRMSE_BEST</td><td>▁</td></tr><tr><td>LG_NRMSE_MEAN</td><td>▁</td></tr><tr><td>Y_01_NRMSE</td><td>▁</td></tr><tr><td>Y_02_NRMSE</td><td>▁</td></tr><tr><td>Y_03_NRMSE</td><td>▁</td></tr><tr><td>Y_04_NRMSE</td><td>▁</td></tr><tr><td>Y_05_NRMSE</td><td>▁</td></tr><tr><td>Y_06_NRMSE</td><td>▁</td></tr><tr><td>Y_07_NRMSE</td><td>▁</td></tr><tr><td>Y_08_NRMSE</td><td>▁</td></tr><tr><td>Y_09_NRMSE</td><td>▁</td></tr><tr><td>Y_10_NRMSE</td><td>▁</td></tr><tr><td>Y_11_NRMSE</td><td>▁</td></tr><tr><td>Y_12_NRMSE</td><td>▁</td></tr><tr><td>Y_13_NRMSE</td><td>▁</td></tr><tr><td>Y_14_NRMSE</td><td>▁</td></tr></table><br/></div><div class=\"wandb-col\"><h3>Run summary:</h3><br/><table class=\"wandb\"><tr><td>LG_NRMSE_BEST</td><td>1.93893</td></tr><tr><td>LG_NRMSE_MEAN</td><td>1.93893</td></tr><tr><td>Y_01_NRMSE</td><td>0.25301</td></tr><tr><td>Y_02_NRMSE</td><td>0.35121</td></tr><tr><td>Y_03_NRMSE</td><td>0.34447</td></tr><tr><td>Y_04_NRMSE</td><td>0.18662</td></tr><tr><td>Y_05_NRMSE</td><td>0.07908</td></tr><tr><td>Y_06_NRMSE</td><td>0.1061</td></tr><tr><td>Y_07_NRMSE</td><td>0.13117</td></tr><tr><td>Y_08_NRMSE</td><td>0.02417</td></tr><tr><td>Y_09_NRMSE</td><td>0.02392</td></tr><tr><td>Y_10_NRMSE</td><td>0.03858</td></tr><tr><td>Y_11_NRMSE</td><td>0.03347</td></tr><tr><td>Y_12_NRMSE</td><td>0.024</td></tr><tr><td>Y_13_NRMSE</td><td>0.02399</td></tr><tr><td>Y_14_NRMSE</td><td>0.024</td></tr></table><br/></div></div>"
      ],
      "text/plain": [
       "<IPython.core.display.HTML object>"
      ]
     },
     "metadata": {},
     "output_type": "display_data"
    },
    {
     "data": {
      "text/html": [
       "Synced <strong style=\"color:#cdcd00\">curious-sweep-50</strong>: <a href=\"https://wandb.ai/zbooster/Antenna_Outlier-1/runs/7rzrin34\" target=\"_blank\">https://wandb.ai/zbooster/Antenna_Outlier-1/runs/7rzrin34</a><br/>Synced 5 W&B file(s), 0 media file(s), 0 artifact file(s) and 0 other file(s)"
      ],
      "text/plain": [
       "<IPython.core.display.HTML object>"
      ]
     },
     "metadata": {},
     "output_type": "display_data"
    },
    {
     "data": {
      "text/html": [
       "Find logs at: <code>./wandb/run-20220817_065925-7rzrin34/logs</code>"
      ],
      "text/plain": [
       "<IPython.core.display.HTML object>"
      ]
     },
     "metadata": {},
     "output_type": "display_data"
    },
    {
     "name": "stderr",
     "output_type": "stream",
     "text": [
      "\u001b[34m\u001b[1mwandb\u001b[0m: Sweep Agent: Waiting for job.\n",
      "\u001b[34m\u001b[1mwandb\u001b[0m: Job received.\n",
      "\u001b[34m\u001b[1mwandb\u001b[0m: Agent Starting Run: 0o9bcqro with config:\n",
      "\u001b[34m\u001b[1mwandb\u001b[0m: \tdrop_index: [70, 280, 6213, 13585, 37911]\n",
      "\u001b[34m\u001b[1mwandb\u001b[0m: \toutlier: 4787\n"
     ]
    },
    {
     "data": {
      "text/html": [
       "Tracking run with wandb version 0.13.1"
      ],
      "text/plain": [
       "<IPython.core.display.HTML object>"
      ]
     },
     "metadata": {},
     "output_type": "display_data"
    },
    {
     "data": {
      "text/html": [
       "Run data is saved locally in <code>/content/Antenna-Performance-Prediction/wandb/run-20220817_070017-0o9bcqro</code>"
      ],
      "text/plain": [
       "<IPython.core.display.HTML object>"
      ]
     },
     "metadata": {},
     "output_type": "display_data"
    },
    {
     "data": {
      "text/html": [
       "Syncing run <strong><a href=\"https://wandb.ai/zbooster/Antenna_Outlier-1/runs/0o9bcqro\" target=\"_blank\">lucky-sweep-51</a></strong> to <a href=\"https://wandb.ai/zbooster/Antenna_Outlier-1\" target=\"_blank\">Weights & Biases</a> (<a href=\"https://wandb.me/run\" target=\"_blank\">docs</a>)<br/>Sweep page:  <a href=\"https://wandb.ai/zbooster/Antenna_Outlier-1/sweeps/nj4jorxe\" target=\"_blank\">https://wandb.ai/zbooster/Antenna_Outlier-1/sweeps/nj4jorxe</a>"
      ],
      "text/plain": [
       "<IPython.core.display.HTML object>"
      ]
     },
     "metadata": {},
     "output_type": "display_data"
    },
    {
     "data": {
      "text/html": [
       "Waiting for W&B process to finish... <strong style=\"color:green\">(success).</strong>"
      ],
      "text/plain": [
       "<IPython.core.display.HTML object>"
      ]
     },
     "metadata": {},
     "output_type": "display_data"
    },
    {
     "data": {
      "application/vnd.jupyter.widget-view+json": {
       "model_id": "1926b053cf7c4e3b84b90240c810fe80",
       "version_major": 2,
       "version_minor": 0
      },
      "text/plain": [
       "VBox(children=(Label(value='0.001 MB of 0.001 MB uploaded (0.000 MB deduped)\\r'), FloatProgress(value=1.0, max…"
      ]
     },
     "metadata": {},
     "output_type": "display_data"
    },
    {
     "data": {
      "text/html": [
       "<style>\n",
       "    table.wandb td:nth-child(1) { padding: 0 10px; text-align: left ; width: auto;} td:nth-child(2) {text-align: left ; width: 100%}\n",
       "    .wandb-row { display: flex; flex-direction: row; flex-wrap: wrap; justify-content: flex-start; width: 100% }\n",
       "    .wandb-col { display: flex; flex-direction: column; flex-basis: 100%; flex: 1; padding: 10px; }\n",
       "    </style>\n",
       "<div class=\"wandb-row\"><div class=\"wandb-col\"><h3>Run history:</h3><br/><table class=\"wandb\"><tr><td>LG_NRMSE_BEST</td><td>▁</td></tr><tr><td>LG_NRMSE_MEAN</td><td>▁</td></tr><tr><td>Y_01_NRMSE</td><td>▁</td></tr><tr><td>Y_02_NRMSE</td><td>▁</td></tr><tr><td>Y_03_NRMSE</td><td>▁</td></tr><tr><td>Y_04_NRMSE</td><td>▁</td></tr><tr><td>Y_05_NRMSE</td><td>▁</td></tr><tr><td>Y_06_NRMSE</td><td>▁</td></tr><tr><td>Y_07_NRMSE</td><td>▁</td></tr><tr><td>Y_08_NRMSE</td><td>▁</td></tr><tr><td>Y_09_NRMSE</td><td>▁</td></tr><tr><td>Y_10_NRMSE</td><td>▁</td></tr><tr><td>Y_11_NRMSE</td><td>▁</td></tr><tr><td>Y_12_NRMSE</td><td>▁</td></tr><tr><td>Y_13_NRMSE</td><td>▁</td></tr><tr><td>Y_14_NRMSE</td><td>▁</td></tr></table><br/></div><div class=\"wandb-col\"><h3>Run summary:</h3><br/><table class=\"wandb\"><tr><td>LG_NRMSE_BEST</td><td>1.93897</td></tr><tr><td>LG_NRMSE_MEAN</td><td>1.93897</td></tr><tr><td>Y_01_NRMSE</td><td>0.253</td></tr><tr><td>Y_02_NRMSE</td><td>0.35119</td></tr><tr><td>Y_03_NRMSE</td><td>0.34448</td></tr><tr><td>Y_04_NRMSE</td><td>0.18665</td></tr><tr><td>Y_05_NRMSE</td><td>0.07908</td></tr><tr><td>Y_06_NRMSE</td><td>0.10608</td></tr><tr><td>Y_07_NRMSE</td><td>0.13118</td></tr><tr><td>Y_08_NRMSE</td><td>0.02417</td></tr><tr><td>Y_09_NRMSE</td><td>0.02392</td></tr><tr><td>Y_10_NRMSE</td><td>0.03858</td></tr><tr><td>Y_11_NRMSE</td><td>0.03348</td></tr><tr><td>Y_12_NRMSE</td><td>0.02401</td></tr><tr><td>Y_13_NRMSE</td><td>0.02399</td></tr><tr><td>Y_14_NRMSE</td><td>0.024</td></tr></table><br/></div></div>"
      ],
      "text/plain": [
       "<IPython.core.display.HTML object>"
      ]
     },
     "metadata": {},
     "output_type": "display_data"
    },
    {
     "data": {
      "text/html": [
       "Synced <strong style=\"color:#cdcd00\">lucky-sweep-51</strong>: <a href=\"https://wandb.ai/zbooster/Antenna_Outlier-1/runs/0o9bcqro\" target=\"_blank\">https://wandb.ai/zbooster/Antenna_Outlier-1/runs/0o9bcqro</a><br/>Synced 5 W&B file(s), 0 media file(s), 0 artifact file(s) and 0 other file(s)"
      ],
      "text/plain": [
       "<IPython.core.display.HTML object>"
      ]
     },
     "metadata": {},
     "output_type": "display_data"
    },
    {
     "data": {
      "text/html": [
       "Find logs at: <code>./wandb/run-20220817_070017-0o9bcqro/logs</code>"
      ],
      "text/plain": [
       "<IPython.core.display.HTML object>"
      ]
     },
     "metadata": {},
     "output_type": "display_data"
    },
    {
     "name": "stderr",
     "output_type": "stream",
     "text": [
      "\u001b[34m\u001b[1mwandb\u001b[0m: Agent Starting Run: yeqjpol3 with config:\n",
      "\u001b[34m\u001b[1mwandb\u001b[0m: \tdrop_index: [70, 280, 6213, 13585, 37911]\n",
      "\u001b[34m\u001b[1mwandb\u001b[0m: \toutlier: 5817\n"
     ]
    },
    {
     "data": {
      "text/html": [
       "Tracking run with wandb version 0.13.1"
      ],
      "text/plain": [
       "<IPython.core.display.HTML object>"
      ]
     },
     "metadata": {},
     "output_type": "display_data"
    },
    {
     "data": {
      "text/html": [
       "Run data is saved locally in <code>/content/Antenna-Performance-Prediction/wandb/run-20220817_070100-yeqjpol3</code>"
      ],
      "text/plain": [
       "<IPython.core.display.HTML object>"
      ]
     },
     "metadata": {},
     "output_type": "display_data"
    },
    {
     "data": {
      "text/html": [
       "Syncing run <strong><a href=\"https://wandb.ai/zbooster/Antenna_Outlier-1/runs/yeqjpol3\" target=\"_blank\">divine-sweep-52</a></strong> to <a href=\"https://wandb.ai/zbooster/Antenna_Outlier-1\" target=\"_blank\">Weights & Biases</a> (<a href=\"https://wandb.me/run\" target=\"_blank\">docs</a>)<br/>Sweep page:  <a href=\"https://wandb.ai/zbooster/Antenna_Outlier-1/sweeps/nj4jorxe\" target=\"_blank\">https://wandb.ai/zbooster/Antenna_Outlier-1/sweeps/nj4jorxe</a>"
      ],
      "text/plain": [
       "<IPython.core.display.HTML object>"
      ]
     },
     "metadata": {},
     "output_type": "display_data"
    },
    {
     "data": {
      "text/html": [
       "Waiting for W&B process to finish... <strong style=\"color:green\">(success).</strong>"
      ],
      "text/plain": [
       "<IPython.core.display.HTML object>"
      ]
     },
     "metadata": {},
     "output_type": "display_data"
    },
    {
     "data": {
      "application/vnd.jupyter.widget-view+json": {
       "model_id": "b0f1f5b54dd8423a8413109a3a9c3c46",
       "version_major": 2,
       "version_minor": 0
      },
      "text/plain": [
       "VBox(children=(Label(value='0.001 MB of 0.001 MB uploaded (0.000 MB deduped)\\r'), FloatProgress(value=1.0, max…"
      ]
     },
     "metadata": {},
     "output_type": "display_data"
    },
    {
     "data": {
      "text/html": [
       "<style>\n",
       "    table.wandb td:nth-child(1) { padding: 0 10px; text-align: left ; width: auto;} td:nth-child(2) {text-align: left ; width: 100%}\n",
       "    .wandb-row { display: flex; flex-direction: row; flex-wrap: wrap; justify-content: flex-start; width: 100% }\n",
       "    .wandb-col { display: flex; flex-direction: column; flex-basis: 100%; flex: 1; padding: 10px; }\n",
       "    </style>\n",
       "<div class=\"wandb-row\"><div class=\"wandb-col\"><h3>Run history:</h3><br/><table class=\"wandb\"><tr><td>LG_NRMSE_BEST</td><td>▁</td></tr><tr><td>LG_NRMSE_MEAN</td><td>▁</td></tr><tr><td>Y_01_NRMSE</td><td>▁</td></tr><tr><td>Y_02_NRMSE</td><td>▁</td></tr><tr><td>Y_03_NRMSE</td><td>▁</td></tr><tr><td>Y_04_NRMSE</td><td>▁</td></tr><tr><td>Y_05_NRMSE</td><td>▁</td></tr><tr><td>Y_06_NRMSE</td><td>▁</td></tr><tr><td>Y_07_NRMSE</td><td>▁</td></tr><tr><td>Y_08_NRMSE</td><td>▁</td></tr><tr><td>Y_09_NRMSE</td><td>▁</td></tr><tr><td>Y_10_NRMSE</td><td>▁</td></tr><tr><td>Y_11_NRMSE</td><td>▁</td></tr><tr><td>Y_12_NRMSE</td><td>▁</td></tr><tr><td>Y_13_NRMSE</td><td>▁</td></tr><tr><td>Y_14_NRMSE</td><td>▁</td></tr></table><br/></div><div class=\"wandb-col\"><h3>Run summary:</h3><br/><table class=\"wandb\"><tr><td>LG_NRMSE_BEST</td><td>1.93193</td></tr><tr><td>LG_NRMSE_MEAN</td><td>1.93193</td></tr><tr><td>Y_01_NRMSE</td><td>0.25246</td></tr><tr><td>Y_02_NRMSE</td><td>0.35094</td></tr><tr><td>Y_03_NRMSE</td><td>0.34436</td></tr><tr><td>Y_04_NRMSE</td><td>0.18709</td></tr><tr><td>Y_05_NRMSE</td><td>0.07885</td></tr><tr><td>Y_06_NRMSE</td><td>0.10171</td></tr><tr><td>Y_07_NRMSE</td><td>0.13078</td></tr><tr><td>Y_08_NRMSE</td><td>0.02414</td></tr><tr><td>Y_09_NRMSE</td><td>0.02386</td></tr><tr><td>Y_10_NRMSE</td><td>0.03825</td></tr><tr><td>Y_11_NRMSE</td><td>0.03351</td></tr><tr><td>Y_12_NRMSE</td><td>0.02399</td></tr><tr><td>Y_13_NRMSE</td><td>0.02396</td></tr><tr><td>Y_14_NRMSE</td><td>0.02396</td></tr></table><br/></div></div>"
      ],
      "text/plain": [
       "<IPython.core.display.HTML object>"
      ]
     },
     "metadata": {},
     "output_type": "display_data"
    },
    {
     "data": {
      "text/html": [
       "Synced <strong style=\"color:#cdcd00\">divine-sweep-52</strong>: <a href=\"https://wandb.ai/zbooster/Antenna_Outlier-1/runs/yeqjpol3\" target=\"_blank\">https://wandb.ai/zbooster/Antenna_Outlier-1/runs/yeqjpol3</a><br/>Synced 5 W&B file(s), 0 media file(s), 0 artifact file(s) and 0 other file(s)"
      ],
      "text/plain": [
       "<IPython.core.display.HTML object>"
      ]
     },
     "metadata": {},
     "output_type": "display_data"
    },
    {
     "data": {
      "text/html": [
       "Find logs at: <code>./wandb/run-20220817_070100-yeqjpol3/logs</code>"
      ],
      "text/plain": [
       "<IPython.core.display.HTML object>"
      ]
     },
     "metadata": {},
     "output_type": "display_data"
    },
    {
     "name": "stderr",
     "output_type": "stream",
     "text": [
      "\u001b[34m\u001b[1mwandb\u001b[0m: Sweep Agent: Waiting for job.\n",
      "\u001b[34m\u001b[1mwandb\u001b[0m: Job received.\n",
      "\u001b[34m\u001b[1mwandb\u001b[0m: Agent Starting Run: vykubfvn with config:\n",
      "\u001b[34m\u001b[1mwandb\u001b[0m: \tdrop_index: [70, 280, 6213, 13585, 37911]\n",
      "\u001b[34m\u001b[1mwandb\u001b[0m: \toutlier: 6186\n"
     ]
    },
    {
     "data": {
      "text/html": [
       "Tracking run with wandb version 0.13.1"
      ],
      "text/plain": [
       "<IPython.core.display.HTML object>"
      ]
     },
     "metadata": {},
     "output_type": "display_data"
    },
    {
     "data": {
      "text/html": [
       "Run data is saved locally in <code>/content/Antenna-Performance-Prediction/wandb/run-20220817_070152-vykubfvn</code>"
      ],
      "text/plain": [
       "<IPython.core.display.HTML object>"
      ]
     },
     "metadata": {},
     "output_type": "display_data"
    },
    {
     "data": {
      "text/html": [
       "Syncing run <strong><a href=\"https://wandb.ai/zbooster/Antenna_Outlier-1/runs/vykubfvn\" target=\"_blank\">sweet-sweep-53</a></strong> to <a href=\"https://wandb.ai/zbooster/Antenna_Outlier-1\" target=\"_blank\">Weights & Biases</a> (<a href=\"https://wandb.me/run\" target=\"_blank\">docs</a>)<br/>Sweep page:  <a href=\"https://wandb.ai/zbooster/Antenna_Outlier-1/sweeps/nj4jorxe\" target=\"_blank\">https://wandb.ai/zbooster/Antenna_Outlier-1/sweeps/nj4jorxe</a>"
      ],
      "text/plain": [
       "<IPython.core.display.HTML object>"
      ]
     },
     "metadata": {},
     "output_type": "display_data"
    },
    {
     "data": {
      "text/html": [
       "Waiting for W&B process to finish... <strong style=\"color:green\">(success).</strong>"
      ],
      "text/plain": [
       "<IPython.core.display.HTML object>"
      ]
     },
     "metadata": {},
     "output_type": "display_data"
    },
    {
     "data": {
      "application/vnd.jupyter.widget-view+json": {
       "model_id": "a38a62ffb56243e7ac3de580602eb539",
       "version_major": 2,
       "version_minor": 0
      },
      "text/plain": [
       "VBox(children=(Label(value='0.001 MB of 0.001 MB uploaded (0.000 MB deduped)\\r'), FloatProgress(value=1.0, max…"
      ]
     },
     "metadata": {},
     "output_type": "display_data"
    },
    {
     "data": {
      "text/html": [
       "<style>\n",
       "    table.wandb td:nth-child(1) { padding: 0 10px; text-align: left ; width: auto;} td:nth-child(2) {text-align: left ; width: 100%}\n",
       "    .wandb-row { display: flex; flex-direction: row; flex-wrap: wrap; justify-content: flex-start; width: 100% }\n",
       "    .wandb-col { display: flex; flex-direction: column; flex-basis: 100%; flex: 1; padding: 10px; }\n",
       "    </style>\n",
       "<div class=\"wandb-row\"><div class=\"wandb-col\"><h3>Run history:</h3><br/><table class=\"wandb\"><tr><td>LG_NRMSE_BEST</td><td>▁</td></tr><tr><td>LG_NRMSE_MEAN</td><td>▁</td></tr><tr><td>Y_01_NRMSE</td><td>▁</td></tr><tr><td>Y_02_NRMSE</td><td>▁</td></tr><tr><td>Y_03_NRMSE</td><td>▁</td></tr><tr><td>Y_04_NRMSE</td><td>▁</td></tr><tr><td>Y_05_NRMSE</td><td>▁</td></tr><tr><td>Y_06_NRMSE</td><td>▁</td></tr><tr><td>Y_07_NRMSE</td><td>▁</td></tr><tr><td>Y_08_NRMSE</td><td>▁</td></tr><tr><td>Y_09_NRMSE</td><td>▁</td></tr><tr><td>Y_10_NRMSE</td><td>▁</td></tr><tr><td>Y_11_NRMSE</td><td>▁</td></tr><tr><td>Y_12_NRMSE</td><td>▁</td></tr><tr><td>Y_13_NRMSE</td><td>▁</td></tr><tr><td>Y_14_NRMSE</td><td>▁</td></tr></table><br/></div><div class=\"wandb-col\"><h3>Run summary:</h3><br/><table class=\"wandb\"><tr><td>LG_NRMSE_BEST</td><td>1.93133</td></tr><tr><td>LG_NRMSE_MEAN</td><td>1.93133</td></tr><tr><td>Y_01_NRMSE</td><td>0.25219</td></tr><tr><td>Y_02_NRMSE</td><td>0.3506</td></tr><tr><td>Y_03_NRMSE</td><td>0.34444</td></tr><tr><td>Y_04_NRMSE</td><td>0.18722</td></tr><tr><td>Y_05_NRMSE</td><td>0.07904</td></tr><tr><td>Y_06_NRMSE</td><td>0.10142</td></tr><tr><td>Y_07_NRMSE</td><td>0.13073</td></tr><tr><td>Y_08_NRMSE</td><td>0.02415</td></tr><tr><td>Y_09_NRMSE</td><td>0.02388</td></tr><tr><td>Y_10_NRMSE</td><td>0.03822</td></tr><tr><td>Y_11_NRMSE</td><td>0.0335</td></tr><tr><td>Y_12_NRMSE</td><td>0.02402</td></tr><tr><td>Y_13_NRMSE</td><td>0.02398</td></tr><tr><td>Y_14_NRMSE</td><td>0.02398</td></tr></table><br/></div></div>"
      ],
      "text/plain": [
       "<IPython.core.display.HTML object>"
      ]
     },
     "metadata": {},
     "output_type": "display_data"
    },
    {
     "data": {
      "text/html": [
       "Synced <strong style=\"color:#cdcd00\">sweet-sweep-53</strong>: <a href=\"https://wandb.ai/zbooster/Antenna_Outlier-1/runs/vykubfvn\" target=\"_blank\">https://wandb.ai/zbooster/Antenna_Outlier-1/runs/vykubfvn</a><br/>Synced 5 W&B file(s), 0 media file(s), 0 artifact file(s) and 0 other file(s)"
      ],
      "text/plain": [
       "<IPython.core.display.HTML object>"
      ]
     },
     "metadata": {},
     "output_type": "display_data"
    },
    {
     "data": {
      "text/html": [
       "Find logs at: <code>./wandb/run-20220817_070152-vykubfvn/logs</code>"
      ],
      "text/plain": [
       "<IPython.core.display.HTML object>"
      ]
     },
     "metadata": {},
     "output_type": "display_data"
    },
    {
     "name": "stderr",
     "output_type": "stream",
     "text": [
      "\u001b[34m\u001b[1mwandb\u001b[0m: Agent Starting Run: jud3jlep with config:\n",
      "\u001b[34m\u001b[1mwandb\u001b[0m: \tdrop_index: [70, 280, 6213, 13585, 37911]\n",
      "\u001b[34m\u001b[1mwandb\u001b[0m: \toutlier: 7155\n"
     ]
    },
    {
     "data": {
      "text/html": [
       "Tracking run with wandb version 0.13.1"
      ],
      "text/plain": [
       "<IPython.core.display.HTML object>"
      ]
     },
     "metadata": {},
     "output_type": "display_data"
    },
    {
     "data": {
      "text/html": [
       "Run data is saved locally in <code>/content/Antenna-Performance-Prediction/wandb/run-20220817_070235-jud3jlep</code>"
      ],
      "text/plain": [
       "<IPython.core.display.HTML object>"
      ]
     },
     "metadata": {},
     "output_type": "display_data"
    },
    {
     "data": {
      "text/html": [
       "Syncing run <strong><a href=\"https://wandb.ai/zbooster/Antenna_Outlier-1/runs/jud3jlep\" target=\"_blank\">firm-sweep-54</a></strong> to <a href=\"https://wandb.ai/zbooster/Antenna_Outlier-1\" target=\"_blank\">Weights & Biases</a> (<a href=\"https://wandb.me/run\" target=\"_blank\">docs</a>)<br/>Sweep page:  <a href=\"https://wandb.ai/zbooster/Antenna_Outlier-1/sweeps/nj4jorxe\" target=\"_blank\">https://wandb.ai/zbooster/Antenna_Outlier-1/sweeps/nj4jorxe</a>"
      ],
      "text/plain": [
       "<IPython.core.display.HTML object>"
      ]
     },
     "metadata": {},
     "output_type": "display_data"
    },
    {
     "data": {
      "text/html": [
       "Waiting for W&B process to finish... <strong style=\"color:green\">(success).</strong>"
      ],
      "text/plain": [
       "<IPython.core.display.HTML object>"
      ]
     },
     "metadata": {},
     "output_type": "display_data"
    },
    {
     "data": {
      "application/vnd.jupyter.widget-view+json": {
       "model_id": "b87121ebb439454ba81d3fdc9bbb0fe5",
       "version_major": 2,
       "version_minor": 0
      },
      "text/plain": [
       "VBox(children=(Label(value='0.001 MB of 0.001 MB uploaded (0.000 MB deduped)\\r'), FloatProgress(value=1.0, max…"
      ]
     },
     "metadata": {},
     "output_type": "display_data"
    },
    {
     "data": {
      "text/html": [
       "<style>\n",
       "    table.wandb td:nth-child(1) { padding: 0 10px; text-align: left ; width: auto;} td:nth-child(2) {text-align: left ; width: 100%}\n",
       "    .wandb-row { display: flex; flex-direction: row; flex-wrap: wrap; justify-content: flex-start; width: 100% }\n",
       "    .wandb-col { display: flex; flex-direction: column; flex-basis: 100%; flex: 1; padding: 10px; }\n",
       "    </style>\n",
       "<div class=\"wandb-row\"><div class=\"wandb-col\"><h3>Run history:</h3><br/><table class=\"wandb\"><tr><td>LG_NRMSE_BEST</td><td>▁</td></tr><tr><td>LG_NRMSE_MEAN</td><td>▁</td></tr><tr><td>Y_01_NRMSE</td><td>▁</td></tr><tr><td>Y_02_NRMSE</td><td>▁</td></tr><tr><td>Y_03_NRMSE</td><td>▁</td></tr><tr><td>Y_04_NRMSE</td><td>▁</td></tr><tr><td>Y_05_NRMSE</td><td>▁</td></tr><tr><td>Y_06_NRMSE</td><td>▁</td></tr><tr><td>Y_07_NRMSE</td><td>▁</td></tr><tr><td>Y_08_NRMSE</td><td>▁</td></tr><tr><td>Y_09_NRMSE</td><td>▁</td></tr><tr><td>Y_10_NRMSE</td><td>▁</td></tr><tr><td>Y_11_NRMSE</td><td>▁</td></tr><tr><td>Y_12_NRMSE</td><td>▁</td></tr><tr><td>Y_13_NRMSE</td><td>▁</td></tr><tr><td>Y_14_NRMSE</td><td>▁</td></tr></table><br/></div><div class=\"wandb-col\"><h3>Run summary:</h3><br/><table class=\"wandb\"><tr><td>LG_NRMSE_BEST</td><td>1.92817</td></tr><tr><td>LG_NRMSE_MEAN</td><td>1.92817</td></tr><tr><td>Y_01_NRMSE</td><td>0.25235</td></tr><tr><td>Y_02_NRMSE</td><td>0.35116</td></tr><tr><td>Y_03_NRMSE</td><td>0.34514</td></tr><tr><td>Y_04_NRMSE</td><td>0.18742</td></tr><tr><td>Y_05_NRMSE</td><td>0.07907</td></tr><tr><td>Y_06_NRMSE</td><td>0.0979</td></tr><tr><td>Y_07_NRMSE</td><td>0.13017</td></tr><tr><td>Y_08_NRMSE</td><td>0.02416</td></tr><tr><td>Y_09_NRMSE</td><td>0.02386</td></tr><tr><td>Y_10_NRMSE</td><td>0.038</td></tr><tr><td>Y_11_NRMSE</td><td>0.03354</td></tr><tr><td>Y_12_NRMSE</td><td>0.024</td></tr><tr><td>Y_13_NRMSE</td><td>0.02396</td></tr><tr><td>Y_14_NRMSE</td><td>0.02396</td></tr></table><br/></div></div>"
      ],
      "text/plain": [
       "<IPython.core.display.HTML object>"
      ]
     },
     "metadata": {},
     "output_type": "display_data"
    },
    {
     "data": {
      "text/html": [
       "Synced <strong style=\"color:#cdcd00\">firm-sweep-54</strong>: <a href=\"https://wandb.ai/zbooster/Antenna_Outlier-1/runs/jud3jlep\" target=\"_blank\">https://wandb.ai/zbooster/Antenna_Outlier-1/runs/jud3jlep</a><br/>Synced 5 W&B file(s), 0 media file(s), 0 artifact file(s) and 0 other file(s)"
      ],
      "text/plain": [
       "<IPython.core.display.HTML object>"
      ]
     },
     "metadata": {},
     "output_type": "display_data"
    },
    {
     "data": {
      "text/html": [
       "Find logs at: <code>./wandb/run-20220817_070235-jud3jlep/logs</code>"
      ],
      "text/plain": [
       "<IPython.core.display.HTML object>"
      ]
     },
     "metadata": {},
     "output_type": "display_data"
    },
    {
     "name": "stderr",
     "output_type": "stream",
     "text": [
      "\u001b[34m\u001b[1mwandb\u001b[0m: Sweep Agent: Waiting for job.\n",
      "\u001b[34m\u001b[1mwandb\u001b[0m: Job received.\n",
      "\u001b[34m\u001b[1mwandb\u001b[0m: Agent Starting Run: uzkq53vw with config:\n",
      "\u001b[34m\u001b[1mwandb\u001b[0m: \tdrop_index: [70, 280, 6213, 13585, 37911]\n",
      "\u001b[34m\u001b[1mwandb\u001b[0m: \toutlier: 7174\n"
     ]
    },
    {
     "data": {
      "text/html": [
       "Tracking run with wandb version 0.13.1"
      ],
      "text/plain": [
       "<IPython.core.display.HTML object>"
      ]
     },
     "metadata": {},
     "output_type": "display_data"
    },
    {
     "data": {
      "text/html": [
       "Run data is saved locally in <code>/content/Antenna-Performance-Prediction/wandb/run-20220817_070326-uzkq53vw</code>"
      ],
      "text/plain": [
       "<IPython.core.display.HTML object>"
      ]
     },
     "metadata": {},
     "output_type": "display_data"
    },
    {
     "data": {
      "text/html": [
       "Syncing run <strong><a href=\"https://wandb.ai/zbooster/Antenna_Outlier-1/runs/uzkq53vw\" target=\"_blank\">eager-sweep-55</a></strong> to <a href=\"https://wandb.ai/zbooster/Antenna_Outlier-1\" target=\"_blank\">Weights & Biases</a> (<a href=\"https://wandb.me/run\" target=\"_blank\">docs</a>)<br/>Sweep page:  <a href=\"https://wandb.ai/zbooster/Antenna_Outlier-1/sweeps/nj4jorxe\" target=\"_blank\">https://wandb.ai/zbooster/Antenna_Outlier-1/sweeps/nj4jorxe</a>"
      ],
      "text/plain": [
       "<IPython.core.display.HTML object>"
      ]
     },
     "metadata": {},
     "output_type": "display_data"
    },
    {
     "data": {
      "text/html": [
       "Waiting for W&B process to finish... <strong style=\"color:green\">(success).</strong>"
      ],
      "text/plain": [
       "<IPython.core.display.HTML object>"
      ]
     },
     "metadata": {},
     "output_type": "display_data"
    },
    {
     "data": {
      "application/vnd.jupyter.widget-view+json": {
       "model_id": "1e6b96a01fc646f092e3136e1a83f9e3",
       "version_major": 2,
       "version_minor": 0
      },
      "text/plain": [
       "VBox(children=(Label(value='0.001 MB of 0.001 MB uploaded (0.000 MB deduped)\\r'), FloatProgress(value=1.0, max…"
      ]
     },
     "metadata": {},
     "output_type": "display_data"
    },
    {
     "data": {
      "text/html": [
       "<style>\n",
       "    table.wandb td:nth-child(1) { padding: 0 10px; text-align: left ; width: auto;} td:nth-child(2) {text-align: left ; width: 100%}\n",
       "    .wandb-row { display: flex; flex-direction: row; flex-wrap: wrap; justify-content: flex-start; width: 100% }\n",
       "    .wandb-col { display: flex; flex-direction: column; flex-basis: 100%; flex: 1; padding: 10px; }\n",
       "    </style>\n",
       "<div class=\"wandb-row\"><div class=\"wandb-col\"><h3>Run history:</h3><br/><table class=\"wandb\"><tr><td>LG_NRMSE_BEST</td><td>▁</td></tr><tr><td>LG_NRMSE_MEAN</td><td>▁</td></tr><tr><td>Y_01_NRMSE</td><td>▁</td></tr><tr><td>Y_02_NRMSE</td><td>▁</td></tr><tr><td>Y_03_NRMSE</td><td>▁</td></tr><tr><td>Y_04_NRMSE</td><td>▁</td></tr><tr><td>Y_05_NRMSE</td><td>▁</td></tr><tr><td>Y_06_NRMSE</td><td>▁</td></tr><tr><td>Y_07_NRMSE</td><td>▁</td></tr><tr><td>Y_08_NRMSE</td><td>▁</td></tr><tr><td>Y_09_NRMSE</td><td>▁</td></tr><tr><td>Y_10_NRMSE</td><td>▁</td></tr><tr><td>Y_11_NRMSE</td><td>▁</td></tr><tr><td>Y_12_NRMSE</td><td>▁</td></tr><tr><td>Y_13_NRMSE</td><td>▁</td></tr><tr><td>Y_14_NRMSE</td><td>▁</td></tr></table><br/></div><div class=\"wandb-col\"><h3>Run summary:</h3><br/><table class=\"wandb\"><tr><td>LG_NRMSE_BEST</td><td>1.9286</td></tr><tr><td>LG_NRMSE_MEAN</td><td>1.9286</td></tr><tr><td>Y_01_NRMSE</td><td>0.25251</td></tr><tr><td>Y_02_NRMSE</td><td>0.35101</td></tr><tr><td>Y_03_NRMSE</td><td>0.34527</td></tr><tr><td>Y_04_NRMSE</td><td>0.18746</td></tr><tr><td>Y_05_NRMSE</td><td>0.07908</td></tr><tr><td>Y_06_NRMSE</td><td>0.09791</td></tr><tr><td>Y_07_NRMSE</td><td>0.13025</td></tr><tr><td>Y_08_NRMSE</td><td>0.02416</td></tr><tr><td>Y_09_NRMSE</td><td>0.02388</td></tr><tr><td>Y_10_NRMSE</td><td>0.03801</td></tr><tr><td>Y_11_NRMSE</td><td>0.03357</td></tr><tr><td>Y_12_NRMSE</td><td>0.02401</td></tr><tr><td>Y_13_NRMSE</td><td>0.02398</td></tr><tr><td>Y_14_NRMSE</td><td>0.02397</td></tr></table><br/></div></div>"
      ],
      "text/plain": [
       "<IPython.core.display.HTML object>"
      ]
     },
     "metadata": {},
     "output_type": "display_data"
    },
    {
     "data": {
      "text/html": [
       "Synced <strong style=\"color:#cdcd00\">eager-sweep-55</strong>: <a href=\"https://wandb.ai/zbooster/Antenna_Outlier-1/runs/uzkq53vw\" target=\"_blank\">https://wandb.ai/zbooster/Antenna_Outlier-1/runs/uzkq53vw</a><br/>Synced 5 W&B file(s), 0 media file(s), 0 artifact file(s) and 0 other file(s)"
      ],
      "text/plain": [
       "<IPython.core.display.HTML object>"
      ]
     },
     "metadata": {},
     "output_type": "display_data"
    },
    {
     "data": {
      "text/html": [
       "Find logs at: <code>./wandb/run-20220817_070326-uzkq53vw/logs</code>"
      ],
      "text/plain": [
       "<IPython.core.display.HTML object>"
      ]
     },
     "metadata": {},
     "output_type": "display_data"
    },
    {
     "name": "stderr",
     "output_type": "stream",
     "text": [
      "\u001b[34m\u001b[1mwandb\u001b[0m: Agent Starting Run: vns2nk1r with config:\n",
      "\u001b[34m\u001b[1mwandb\u001b[0m: \tdrop_index: [70, 280, 6213, 13585, 37911]\n",
      "\u001b[34m\u001b[1mwandb\u001b[0m: \toutlier: 7837\n"
     ]
    },
    {
     "data": {
      "text/html": [
       "Tracking run with wandb version 0.13.1"
      ],
      "text/plain": [
       "<IPython.core.display.HTML object>"
      ]
     },
     "metadata": {},
     "output_type": "display_data"
    },
    {
     "data": {
      "text/html": [
       "Run data is saved locally in <code>/content/Antenna-Performance-Prediction/wandb/run-20220817_070409-vns2nk1r</code>"
      ],
      "text/plain": [
       "<IPython.core.display.HTML object>"
      ]
     },
     "metadata": {},
     "output_type": "display_data"
    },
    {
     "data": {
      "text/html": [
       "Syncing run <strong><a href=\"https://wandb.ai/zbooster/Antenna_Outlier-1/runs/vns2nk1r\" target=\"_blank\">upbeat-sweep-56</a></strong> to <a href=\"https://wandb.ai/zbooster/Antenna_Outlier-1\" target=\"_blank\">Weights & Biases</a> (<a href=\"https://wandb.me/run\" target=\"_blank\">docs</a>)<br/>Sweep page:  <a href=\"https://wandb.ai/zbooster/Antenna_Outlier-1/sweeps/nj4jorxe\" target=\"_blank\">https://wandb.ai/zbooster/Antenna_Outlier-1/sweeps/nj4jorxe</a>"
      ],
      "text/plain": [
       "<IPython.core.display.HTML object>"
      ]
     },
     "metadata": {},
     "output_type": "display_data"
    },
    {
     "data": {
      "text/html": [
       "Waiting for W&B process to finish... <strong style=\"color:green\">(success).</strong>"
      ],
      "text/plain": [
       "<IPython.core.display.HTML object>"
      ]
     },
     "metadata": {},
     "output_type": "display_data"
    },
    {
     "data": {
      "application/vnd.jupyter.widget-view+json": {
       "model_id": "52f35a4a6dc047abac32993a6760afb8",
       "version_major": 2,
       "version_minor": 0
      },
      "text/plain": [
       "VBox(children=(Label(value='0.001 MB of 0.001 MB uploaded (0.000 MB deduped)\\r'), FloatProgress(value=1.0, max…"
      ]
     },
     "metadata": {},
     "output_type": "display_data"
    },
    {
     "data": {
      "text/html": [
       "<style>\n",
       "    table.wandb td:nth-child(1) { padding: 0 10px; text-align: left ; width: auto;} td:nth-child(2) {text-align: left ; width: 100%}\n",
       "    .wandb-row { display: flex; flex-direction: row; flex-wrap: wrap; justify-content: flex-start; width: 100% }\n",
       "    .wandb-col { display: flex; flex-direction: column; flex-basis: 100%; flex: 1; padding: 10px; }\n",
       "    </style>\n",
       "<div class=\"wandb-row\"><div class=\"wandb-col\"><h3>Run history:</h3><br/><table class=\"wandb\"><tr><td>LG_NRMSE_BEST</td><td>▁</td></tr><tr><td>LG_NRMSE_MEAN</td><td>▁</td></tr><tr><td>Y_01_NRMSE</td><td>▁</td></tr><tr><td>Y_02_NRMSE</td><td>▁</td></tr><tr><td>Y_03_NRMSE</td><td>▁</td></tr><tr><td>Y_04_NRMSE</td><td>▁</td></tr><tr><td>Y_05_NRMSE</td><td>▁</td></tr><tr><td>Y_06_NRMSE</td><td>▁</td></tr><tr><td>Y_07_NRMSE</td><td>▁</td></tr><tr><td>Y_08_NRMSE</td><td>▁</td></tr><tr><td>Y_09_NRMSE</td><td>▁</td></tr><tr><td>Y_10_NRMSE</td><td>▁</td></tr><tr><td>Y_11_NRMSE</td><td>▁</td></tr><tr><td>Y_12_NRMSE</td><td>▁</td></tr><tr><td>Y_13_NRMSE</td><td>▁</td></tr><tr><td>Y_14_NRMSE</td><td>▁</td></tr></table><br/></div><div class=\"wandb-col\"><h3>Run summary:</h3><br/><table class=\"wandb\"><tr><td>LG_NRMSE_BEST</td><td>1.93691</td></tr><tr><td>LG_NRMSE_MEAN</td><td>1.93691</td></tr><tr><td>Y_01_NRMSE</td><td>0.25409</td></tr><tr><td>Y_02_NRMSE</td><td>0.35328</td></tr><tr><td>Y_03_NRMSE</td><td>0.34717</td></tr><tr><td>Y_04_NRMSE</td><td>0.18819</td></tr><tr><td>Y_05_NRMSE</td><td>0.07919</td></tr><tr><td>Y_06_NRMSE</td><td>0.09799</td></tr><tr><td>Y_07_NRMSE</td><td>0.13029</td></tr><tr><td>Y_08_NRMSE</td><td>0.02421</td></tr><tr><td>Y_09_NRMSE</td><td>0.02391</td></tr><tr><td>Y_10_NRMSE</td><td>0.03803</td></tr><tr><td>Y_11_NRMSE</td><td>0.03359</td></tr><tr><td>Y_12_NRMSE</td><td>0.02407</td></tr><tr><td>Y_13_NRMSE</td><td>0.024</td></tr><tr><td>Y_14_NRMSE</td><td>0.02402</td></tr></table><br/></div></div>"
      ],
      "text/plain": [
       "<IPython.core.display.HTML object>"
      ]
     },
     "metadata": {},
     "output_type": "display_data"
    },
    {
     "data": {
      "text/html": [
       "Synced <strong style=\"color:#cdcd00\">upbeat-sweep-56</strong>: <a href=\"https://wandb.ai/zbooster/Antenna_Outlier-1/runs/vns2nk1r\" target=\"_blank\">https://wandb.ai/zbooster/Antenna_Outlier-1/runs/vns2nk1r</a><br/>Synced 5 W&B file(s), 0 media file(s), 0 artifact file(s) and 0 other file(s)"
      ],
      "text/plain": [
       "<IPython.core.display.HTML object>"
      ]
     },
     "metadata": {},
     "output_type": "display_data"
    },
    {
     "data": {
      "text/html": [
       "Find logs at: <code>./wandb/run-20220817_070409-vns2nk1r/logs</code>"
      ],
      "text/plain": [
       "<IPython.core.display.HTML object>"
      ]
     },
     "metadata": {},
     "output_type": "display_data"
    },
    {
     "name": "stderr",
     "output_type": "stream",
     "text": [
      "\u001b[34m\u001b[1mwandb\u001b[0m: Sweep Agent: Waiting for job.\n",
      "\u001b[34m\u001b[1mwandb\u001b[0m: Job received.\n",
      "\u001b[34m\u001b[1mwandb\u001b[0m: Agent Starting Run: un6vjw0e with config:\n",
      "\u001b[34m\u001b[1mwandb\u001b[0m: \tdrop_index: [70, 280, 6213, 13585, 37911]\n",
      "\u001b[34m\u001b[1mwandb\u001b[0m: \toutlier: 8211\n"
     ]
    },
    {
     "data": {
      "text/html": [
       "Tracking run with wandb version 0.13.1"
      ],
      "text/plain": [
       "<IPython.core.display.HTML object>"
      ]
     },
     "metadata": {},
     "output_type": "display_data"
    },
    {
     "data": {
      "text/html": [
       "Run data is saved locally in <code>/content/Antenna-Performance-Prediction/wandb/run-20220817_070501-un6vjw0e</code>"
      ],
      "text/plain": [
       "<IPython.core.display.HTML object>"
      ]
     },
     "metadata": {},
     "output_type": "display_data"
    },
    {
     "data": {
      "text/html": [
       "Syncing run <strong><a href=\"https://wandb.ai/zbooster/Antenna_Outlier-1/runs/un6vjw0e\" target=\"_blank\">curious-sweep-57</a></strong> to <a href=\"https://wandb.ai/zbooster/Antenna_Outlier-1\" target=\"_blank\">Weights & Biases</a> (<a href=\"https://wandb.me/run\" target=\"_blank\">docs</a>)<br/>Sweep page:  <a href=\"https://wandb.ai/zbooster/Antenna_Outlier-1/sweeps/nj4jorxe\" target=\"_blank\">https://wandb.ai/zbooster/Antenna_Outlier-1/sweeps/nj4jorxe</a>"
      ],
      "text/plain": [
       "<IPython.core.display.HTML object>"
      ]
     },
     "metadata": {},
     "output_type": "display_data"
    },
    {
     "data": {
      "text/html": [
       "Waiting for W&B process to finish... <strong style=\"color:green\">(success).</strong>"
      ],
      "text/plain": [
       "<IPython.core.display.HTML object>"
      ]
     },
     "metadata": {},
     "output_type": "display_data"
    },
    {
     "data": {
      "application/vnd.jupyter.widget-view+json": {
       "model_id": "5a5b9a6f3ccd4dd187224582d824fa94",
       "version_major": 2,
       "version_minor": 0
      },
      "text/plain": [
       "VBox(children=(Label(value='0.001 MB of 0.001 MB uploaded (0.000 MB deduped)\\r'), FloatProgress(value=1.0, max…"
      ]
     },
     "metadata": {},
     "output_type": "display_data"
    },
    {
     "data": {
      "text/html": [
       "<style>\n",
       "    table.wandb td:nth-child(1) { padding: 0 10px; text-align: left ; width: auto;} td:nth-child(2) {text-align: left ; width: 100%}\n",
       "    .wandb-row { display: flex; flex-direction: row; flex-wrap: wrap; justify-content: flex-start; width: 100% }\n",
       "    .wandb-col { display: flex; flex-direction: column; flex-basis: 100%; flex: 1; padding: 10px; }\n",
       "    </style>\n",
       "<div class=\"wandb-row\"><div class=\"wandb-col\"><h3>Run history:</h3><br/><table class=\"wandb\"><tr><td>LG_NRMSE_BEST</td><td>▁</td></tr><tr><td>LG_NRMSE_MEAN</td><td>▁</td></tr><tr><td>Y_01_NRMSE</td><td>▁</td></tr><tr><td>Y_02_NRMSE</td><td>▁</td></tr><tr><td>Y_03_NRMSE</td><td>▁</td></tr><tr><td>Y_04_NRMSE</td><td>▁</td></tr><tr><td>Y_05_NRMSE</td><td>▁</td></tr><tr><td>Y_06_NRMSE</td><td>▁</td></tr><tr><td>Y_07_NRMSE</td><td>▁</td></tr><tr><td>Y_08_NRMSE</td><td>▁</td></tr><tr><td>Y_09_NRMSE</td><td>▁</td></tr><tr><td>Y_10_NRMSE</td><td>▁</td></tr><tr><td>Y_11_NRMSE</td><td>▁</td></tr><tr><td>Y_12_NRMSE</td><td>▁</td></tr><tr><td>Y_13_NRMSE</td><td>▁</td></tr><tr><td>Y_14_NRMSE</td><td>▁</td></tr></table><br/></div><div class=\"wandb-col\"><h3>Run summary:</h3><br/><table class=\"wandb\"><tr><td>LG_NRMSE_BEST</td><td>1.93522</td></tr><tr><td>LG_NRMSE_MEAN</td><td>1.93522</td></tr><tr><td>Y_01_NRMSE</td><td>0.25422</td></tr><tr><td>Y_02_NRMSE</td><td>0.35296</td></tr><tr><td>Y_03_NRMSE</td><td>0.34696</td></tr><tr><td>Y_04_NRMSE</td><td>0.18798</td></tr><tr><td>Y_05_NRMSE</td><td>0.07913</td></tr><tr><td>Y_06_NRMSE</td><td>0.09749</td></tr><tr><td>Y_07_NRMSE</td><td>0.13005</td></tr><tr><td>Y_08_NRMSE</td><td>0.02422</td></tr><tr><td>Y_09_NRMSE</td><td>0.02393</td></tr><tr><td>Y_10_NRMSE</td><td>0.03798</td></tr><tr><td>Y_11_NRMSE</td><td>0.03357</td></tr><tr><td>Y_12_NRMSE</td><td>0.02408</td></tr><tr><td>Y_13_NRMSE</td><td>0.02403</td></tr><tr><td>Y_14_NRMSE</td><td>0.02403</td></tr></table><br/></div></div>"
      ],
      "text/plain": [
       "<IPython.core.display.HTML object>"
      ]
     },
     "metadata": {},
     "output_type": "display_data"
    },
    {
     "data": {
      "text/html": [
       "Synced <strong style=\"color:#cdcd00\">curious-sweep-57</strong>: <a href=\"https://wandb.ai/zbooster/Antenna_Outlier-1/runs/un6vjw0e\" target=\"_blank\">https://wandb.ai/zbooster/Antenna_Outlier-1/runs/un6vjw0e</a><br/>Synced 5 W&B file(s), 0 media file(s), 0 artifact file(s) and 0 other file(s)"
      ],
      "text/plain": [
       "<IPython.core.display.HTML object>"
      ]
     },
     "metadata": {},
     "output_type": "display_data"
    },
    {
     "data": {
      "text/html": [
       "Find logs at: <code>./wandb/run-20220817_070501-un6vjw0e/logs</code>"
      ],
      "text/plain": [
       "<IPython.core.display.HTML object>"
      ]
     },
     "metadata": {},
     "output_type": "display_data"
    },
    {
     "name": "stderr",
     "output_type": "stream",
     "text": [
      "\u001b[34m\u001b[1mwandb\u001b[0m: Agent Starting Run: skmt5dr5 with config:\n",
      "\u001b[34m\u001b[1mwandb\u001b[0m: \tdrop_index: [70, 280, 6213, 13585, 37911]\n",
      "\u001b[34m\u001b[1mwandb\u001b[0m: \toutlier: 8212\n"
     ]
    },
    {
     "data": {
      "text/html": [
       "Tracking run with wandb version 0.13.1"
      ],
      "text/plain": [
       "<IPython.core.display.HTML object>"
      ]
     },
     "metadata": {},
     "output_type": "display_data"
    },
    {
     "data": {
      "text/html": [
       "Run data is saved locally in <code>/content/Antenna-Performance-Prediction/wandb/run-20220817_070544-skmt5dr5</code>"
      ],
      "text/plain": [
       "<IPython.core.display.HTML object>"
      ]
     },
     "metadata": {},
     "output_type": "display_data"
    },
    {
     "data": {
      "text/html": [
       "Syncing run <strong><a href=\"https://wandb.ai/zbooster/Antenna_Outlier-1/runs/skmt5dr5\" target=\"_blank\">peach-sweep-58</a></strong> to <a href=\"https://wandb.ai/zbooster/Antenna_Outlier-1\" target=\"_blank\">Weights & Biases</a> (<a href=\"https://wandb.me/run\" target=\"_blank\">docs</a>)<br/>Sweep page:  <a href=\"https://wandb.ai/zbooster/Antenna_Outlier-1/sweeps/nj4jorxe\" target=\"_blank\">https://wandb.ai/zbooster/Antenna_Outlier-1/sweeps/nj4jorxe</a>"
      ],
      "text/plain": [
       "<IPython.core.display.HTML object>"
      ]
     },
     "metadata": {},
     "output_type": "display_data"
    },
    {
     "data": {
      "text/html": [
       "Waiting for W&B process to finish... <strong style=\"color:green\">(success).</strong>"
      ],
      "text/plain": [
       "<IPython.core.display.HTML object>"
      ]
     },
     "metadata": {},
     "output_type": "display_data"
    },
    {
     "data": {
      "application/vnd.jupyter.widget-view+json": {
       "model_id": "c3c0914c5fce4cdb9ee9db479cf7ff5a",
       "version_major": 2,
       "version_minor": 0
      },
      "text/plain": [
       "VBox(children=(Label(value='0.001 MB of 0.001 MB uploaded (0.000 MB deduped)\\r'), FloatProgress(value=1.0, max…"
      ]
     },
     "metadata": {},
     "output_type": "display_data"
    },
    {
     "data": {
      "text/html": [
       "<style>\n",
       "    table.wandb td:nth-child(1) { padding: 0 10px; text-align: left ; width: auto;} td:nth-child(2) {text-align: left ; width: 100%}\n",
       "    .wandb-row { display: flex; flex-direction: row; flex-wrap: wrap; justify-content: flex-start; width: 100% }\n",
       "    .wandb-col { display: flex; flex-direction: column; flex-basis: 100%; flex: 1; padding: 10px; }\n",
       "    </style>\n",
       "<div class=\"wandb-row\"><div class=\"wandb-col\"><h3>Run history:</h3><br/><table class=\"wandb\"><tr><td>LG_NRMSE_BEST</td><td>▁</td></tr><tr><td>LG_NRMSE_MEAN</td><td>▁</td></tr><tr><td>Y_01_NRMSE</td><td>▁</td></tr><tr><td>Y_02_NRMSE</td><td>▁</td></tr><tr><td>Y_03_NRMSE</td><td>▁</td></tr><tr><td>Y_04_NRMSE</td><td>▁</td></tr><tr><td>Y_05_NRMSE</td><td>▁</td></tr><tr><td>Y_06_NRMSE</td><td>▁</td></tr><tr><td>Y_07_NRMSE</td><td>▁</td></tr><tr><td>Y_08_NRMSE</td><td>▁</td></tr><tr><td>Y_09_NRMSE</td><td>▁</td></tr><tr><td>Y_10_NRMSE</td><td>▁</td></tr><tr><td>Y_11_NRMSE</td><td>▁</td></tr><tr><td>Y_12_NRMSE</td><td>▁</td></tr><tr><td>Y_13_NRMSE</td><td>▁</td></tr><tr><td>Y_14_NRMSE</td><td>▁</td></tr></table><br/></div><div class=\"wandb-col\"><h3>Run summary:</h3><br/><table class=\"wandb\"><tr><td>LG_NRMSE_BEST</td><td>1.93555</td></tr><tr><td>LG_NRMSE_MEAN</td><td>1.93555</td></tr><tr><td>Y_01_NRMSE</td><td>0.25423</td></tr><tr><td>Y_02_NRMSE</td><td>0.35312</td></tr><tr><td>Y_03_NRMSE</td><td>0.34705</td></tr><tr><td>Y_04_NRMSE</td><td>0.188</td></tr><tr><td>Y_05_NRMSE</td><td>0.07913</td></tr><tr><td>Y_06_NRMSE</td><td>0.09743</td></tr><tr><td>Y_07_NRMSE</td><td>0.13008</td></tr><tr><td>Y_08_NRMSE</td><td>0.02422</td></tr><tr><td>Y_09_NRMSE</td><td>0.02393</td></tr><tr><td>Y_10_NRMSE</td><td>0.03798</td></tr><tr><td>Y_11_NRMSE</td><td>0.03357</td></tr><tr><td>Y_12_NRMSE</td><td>0.02408</td></tr><tr><td>Y_13_NRMSE</td><td>0.02404</td></tr><tr><td>Y_14_NRMSE</td><td>0.02403</td></tr></table><br/></div></div>"
      ],
      "text/plain": [
       "<IPython.core.display.HTML object>"
      ]
     },
     "metadata": {},
     "output_type": "display_data"
    },
    {
     "data": {
      "text/html": [
       "Synced <strong style=\"color:#cdcd00\">peach-sweep-58</strong>: <a href=\"https://wandb.ai/zbooster/Antenna_Outlier-1/runs/skmt5dr5\" target=\"_blank\">https://wandb.ai/zbooster/Antenna_Outlier-1/runs/skmt5dr5</a><br/>Synced 5 W&B file(s), 0 media file(s), 0 artifact file(s) and 0 other file(s)"
      ],
      "text/plain": [
       "<IPython.core.display.HTML object>"
      ]
     },
     "metadata": {},
     "output_type": "display_data"
    },
    {
     "data": {
      "text/html": [
       "Find logs at: <code>./wandb/run-20220817_070544-skmt5dr5/logs</code>"
      ],
      "text/plain": [
       "<IPython.core.display.HTML object>"
      ]
     },
     "metadata": {},
     "output_type": "display_data"
    },
    {
     "name": "stderr",
     "output_type": "stream",
     "text": [
      "\u001b[34m\u001b[1mwandb\u001b[0m: Agent Starting Run: bv8vzpeq with config:\n",
      "\u001b[34m\u001b[1mwandb\u001b[0m: \tdrop_index: [70, 280, 6213, 13585, 37911]\n",
      "\u001b[34m\u001b[1mwandb\u001b[0m: \toutlier: 8412\n"
     ]
    },
    {
     "data": {
      "text/html": [
       "Tracking run with wandb version 0.13.1"
      ],
      "text/plain": [
       "<IPython.core.display.HTML object>"
      ]
     },
     "metadata": {},
     "output_type": "display_data"
    },
    {
     "data": {
      "text/html": [
       "Run data is saved locally in <code>/content/Antenna-Performance-Prediction/wandb/run-20220817_070626-bv8vzpeq</code>"
      ],
      "text/plain": [
       "<IPython.core.display.HTML object>"
      ]
     },
     "metadata": {},
     "output_type": "display_data"
    },
    {
     "data": {
      "text/html": [
       "Syncing run <strong><a href=\"https://wandb.ai/zbooster/Antenna_Outlier-1/runs/bv8vzpeq\" target=\"_blank\">colorful-sweep-59</a></strong> to <a href=\"https://wandb.ai/zbooster/Antenna_Outlier-1\" target=\"_blank\">Weights & Biases</a> (<a href=\"https://wandb.me/run\" target=\"_blank\">docs</a>)<br/>Sweep page:  <a href=\"https://wandb.ai/zbooster/Antenna_Outlier-1/sweeps/nj4jorxe\" target=\"_blank\">https://wandb.ai/zbooster/Antenna_Outlier-1/sweeps/nj4jorxe</a>"
      ],
      "text/plain": [
       "<IPython.core.display.HTML object>"
      ]
     },
     "metadata": {},
     "output_type": "display_data"
    },
    {
     "data": {
      "text/html": [
       "Waiting for W&B process to finish... <strong style=\"color:green\">(success).</strong>"
      ],
      "text/plain": [
       "<IPython.core.display.HTML object>"
      ]
     },
     "metadata": {},
     "output_type": "display_data"
    },
    {
     "data": {
      "application/vnd.jupyter.widget-view+json": {
       "model_id": "48c65ad8c4c04bdeb3bc006b97c8a651",
       "version_major": 2,
       "version_minor": 0
      },
      "text/plain": [
       "VBox(children=(Label(value='0.001 MB of 0.001 MB uploaded (0.000 MB deduped)\\r'), FloatProgress(value=1.0, max…"
      ]
     },
     "metadata": {},
     "output_type": "display_data"
    },
    {
     "data": {
      "text/html": [
       "<style>\n",
       "    table.wandb td:nth-child(1) { padding: 0 10px; text-align: left ; width: auto;} td:nth-child(2) {text-align: left ; width: 100%}\n",
       "    .wandb-row { display: flex; flex-direction: row; flex-wrap: wrap; justify-content: flex-start; width: 100% }\n",
       "    .wandb-col { display: flex; flex-direction: column; flex-basis: 100%; flex: 1; padding: 10px; }\n",
       "    </style>\n",
       "<div class=\"wandb-row\"><div class=\"wandb-col\"><h3>Run history:</h3><br/><table class=\"wandb\"><tr><td>LG_NRMSE_BEST</td><td>▁</td></tr><tr><td>LG_NRMSE_MEAN</td><td>▁</td></tr><tr><td>Y_01_NRMSE</td><td>▁</td></tr><tr><td>Y_02_NRMSE</td><td>▁</td></tr><tr><td>Y_03_NRMSE</td><td>▁</td></tr><tr><td>Y_04_NRMSE</td><td>▁</td></tr><tr><td>Y_05_NRMSE</td><td>▁</td></tr><tr><td>Y_06_NRMSE</td><td>▁</td></tr><tr><td>Y_07_NRMSE</td><td>▁</td></tr><tr><td>Y_08_NRMSE</td><td>▁</td></tr><tr><td>Y_09_NRMSE</td><td>▁</td></tr><tr><td>Y_10_NRMSE</td><td>▁</td></tr><tr><td>Y_11_NRMSE</td><td>▁</td></tr><tr><td>Y_12_NRMSE</td><td>▁</td></tr><tr><td>Y_13_NRMSE</td><td>▁</td></tr><tr><td>Y_14_NRMSE</td><td>▁</td></tr></table><br/></div><div class=\"wandb-col\"><h3>Run summary:</h3><br/><table class=\"wandb\"><tr><td>LG_NRMSE_BEST</td><td>1.93644</td></tr><tr><td>LG_NRMSE_MEAN</td><td>1.93644</td></tr><tr><td>Y_01_NRMSE</td><td>0.2542</td></tr><tr><td>Y_02_NRMSE</td><td>0.35264</td></tr><tr><td>Y_03_NRMSE</td><td>0.34658</td></tr><tr><td>Y_04_NRMSE</td><td>0.1884</td></tr><tr><td>Y_05_NRMSE</td><td>0.0793</td></tr><tr><td>Y_06_NRMSE</td><td>0.09778</td></tr><tr><td>Y_07_NRMSE</td><td>0.13026</td></tr><tr><td>Y_08_NRMSE</td><td>0.02431</td></tr><tr><td>Y_09_NRMSE</td><td>0.02403</td></tr><tr><td>Y_10_NRMSE</td><td>0.03809</td></tr><tr><td>Y_11_NRMSE</td><td>0.03372</td></tr><tr><td>Y_12_NRMSE</td><td>0.02417</td></tr><tr><td>Y_13_NRMSE</td><td>0.02413</td></tr><tr><td>Y_14_NRMSE</td><td>0.02413</td></tr></table><br/></div></div>"
      ],
      "text/plain": [
       "<IPython.core.display.HTML object>"
      ]
     },
     "metadata": {},
     "output_type": "display_data"
    },
    {
     "data": {
      "text/html": [
       "Synced <strong style=\"color:#cdcd00\">colorful-sweep-59</strong>: <a href=\"https://wandb.ai/zbooster/Antenna_Outlier-1/runs/bv8vzpeq\" target=\"_blank\">https://wandb.ai/zbooster/Antenna_Outlier-1/runs/bv8vzpeq</a><br/>Synced 5 W&B file(s), 0 media file(s), 0 artifact file(s) and 0 other file(s)"
      ],
      "text/plain": [
       "<IPython.core.display.HTML object>"
      ]
     },
     "metadata": {},
     "output_type": "display_data"
    },
    {
     "data": {
      "text/html": [
       "Find logs at: <code>./wandb/run-20220817_070626-bv8vzpeq/logs</code>"
      ],
      "text/plain": [
       "<IPython.core.display.HTML object>"
      ]
     },
     "metadata": {},
     "output_type": "display_data"
    },
    {
     "name": "stderr",
     "output_type": "stream",
     "text": [
      "\u001b[34m\u001b[1mwandb\u001b[0m: Agent Starting Run: 1w3n498k with config:\n",
      "\u001b[34m\u001b[1mwandb\u001b[0m: \tdrop_index: [70, 280, 6213, 13585, 37911]\n",
      "\u001b[34m\u001b[1mwandb\u001b[0m: \toutlier: 8463\n"
     ]
    },
    {
     "data": {
      "text/html": [
       "Tracking run with wandb version 0.13.1"
      ],
      "text/plain": [
       "<IPython.core.display.HTML object>"
      ]
     },
     "metadata": {},
     "output_type": "display_data"
    },
    {
     "data": {
      "text/html": [
       "Run data is saved locally in <code>/content/Antenna-Performance-Prediction/wandb/run-20220817_070713-1w3n498k</code>"
      ],
      "text/plain": [
       "<IPython.core.display.HTML object>"
      ]
     },
     "metadata": {},
     "output_type": "display_data"
    },
    {
     "data": {
      "text/html": [
       "Syncing run <strong><a href=\"https://wandb.ai/zbooster/Antenna_Outlier-1/runs/1w3n498k\" target=\"_blank\">fiery-sweep-60</a></strong> to <a href=\"https://wandb.ai/zbooster/Antenna_Outlier-1\" target=\"_blank\">Weights & Biases</a> (<a href=\"https://wandb.me/run\" target=\"_blank\">docs</a>)<br/>Sweep page:  <a href=\"https://wandb.ai/zbooster/Antenna_Outlier-1/sweeps/nj4jorxe\" target=\"_blank\">https://wandb.ai/zbooster/Antenna_Outlier-1/sweeps/nj4jorxe</a>"
      ],
      "text/plain": [
       "<IPython.core.display.HTML object>"
      ]
     },
     "metadata": {},
     "output_type": "display_data"
    },
    {
     "data": {
      "text/html": [
       "Waiting for W&B process to finish... <strong style=\"color:green\">(success).</strong>"
      ],
      "text/plain": [
       "<IPython.core.display.HTML object>"
      ]
     },
     "metadata": {},
     "output_type": "display_data"
    },
    {
     "data": {
      "application/vnd.jupyter.widget-view+json": {
       "model_id": "fc28588baec24523b7cd1678f996bd2d",
       "version_major": 2,
       "version_minor": 0
      },
      "text/plain": [
       "VBox(children=(Label(value='0.001 MB of 0.001 MB uploaded (0.000 MB deduped)\\r'), FloatProgress(value=1.0, max…"
      ]
     },
     "metadata": {},
     "output_type": "display_data"
    },
    {
     "data": {
      "text/html": [
       "<style>\n",
       "    table.wandb td:nth-child(1) { padding: 0 10px; text-align: left ; width: auto;} td:nth-child(2) {text-align: left ; width: 100%}\n",
       "    .wandb-row { display: flex; flex-direction: row; flex-wrap: wrap; justify-content: flex-start; width: 100% }\n",
       "    .wandb-col { display: flex; flex-direction: column; flex-basis: 100%; flex: 1; padding: 10px; }\n",
       "    </style>\n",
       "<div class=\"wandb-row\"><div class=\"wandb-col\"><h3>Run history:</h3><br/><table class=\"wandb\"><tr><td>LG_NRMSE_BEST</td><td>▁</td></tr><tr><td>LG_NRMSE_MEAN</td><td>▁</td></tr><tr><td>Y_01_NRMSE</td><td>▁</td></tr><tr><td>Y_02_NRMSE</td><td>▁</td></tr><tr><td>Y_03_NRMSE</td><td>▁</td></tr><tr><td>Y_04_NRMSE</td><td>▁</td></tr><tr><td>Y_05_NRMSE</td><td>▁</td></tr><tr><td>Y_06_NRMSE</td><td>▁</td></tr><tr><td>Y_07_NRMSE</td><td>▁</td></tr><tr><td>Y_08_NRMSE</td><td>▁</td></tr><tr><td>Y_09_NRMSE</td><td>▁</td></tr><tr><td>Y_10_NRMSE</td><td>▁</td></tr><tr><td>Y_11_NRMSE</td><td>▁</td></tr><tr><td>Y_12_NRMSE</td><td>▁</td></tr><tr><td>Y_13_NRMSE</td><td>▁</td></tr><tr><td>Y_14_NRMSE</td><td>▁</td></tr></table><br/></div><div class=\"wandb-col\"><h3>Run summary:</h3><br/><table class=\"wandb\"><tr><td>LG_NRMSE_BEST</td><td>1.93756</td></tr><tr><td>LG_NRMSE_MEAN</td><td>1.93756</td></tr><tr><td>Y_01_NRMSE</td><td>0.25443</td></tr><tr><td>Y_02_NRMSE</td><td>0.35294</td></tr><tr><td>Y_03_NRMSE</td><td>0.34691</td></tr><tr><td>Y_04_NRMSE</td><td>0.18847</td></tr><tr><td>Y_05_NRMSE</td><td>0.07933</td></tr><tr><td>Y_06_NRMSE</td><td>0.09785</td></tr><tr><td>Y_07_NRMSE</td><td>0.13015</td></tr><tr><td>Y_08_NRMSE</td><td>0.02431</td></tr><tr><td>Y_09_NRMSE</td><td>0.02404</td></tr><tr><td>Y_10_NRMSE</td><td>0.03812</td></tr><tr><td>Y_11_NRMSE</td><td>0.03373</td></tr><tr><td>Y_12_NRMSE</td><td>0.02417</td></tr><tr><td>Y_13_NRMSE</td><td>0.02412</td></tr><tr><td>Y_14_NRMSE</td><td>0.02413</td></tr></table><br/></div></div>"
      ],
      "text/plain": [
       "<IPython.core.display.HTML object>"
      ]
     },
     "metadata": {},
     "output_type": "display_data"
    },
    {
     "data": {
      "text/html": [
       "Synced <strong style=\"color:#cdcd00\">fiery-sweep-60</strong>: <a href=\"https://wandb.ai/zbooster/Antenna_Outlier-1/runs/1w3n498k\" target=\"_blank\">https://wandb.ai/zbooster/Antenna_Outlier-1/runs/1w3n498k</a><br/>Synced 5 W&B file(s), 0 media file(s), 0 artifact file(s) and 0 other file(s)"
      ],
      "text/plain": [
       "<IPython.core.display.HTML object>"
      ]
     },
     "metadata": {},
     "output_type": "display_data"
    },
    {
     "data": {
      "text/html": [
       "Find logs at: <code>./wandb/run-20220817_070713-1w3n498k/logs</code>"
      ],
      "text/plain": [
       "<IPython.core.display.HTML object>"
      ]
     },
     "metadata": {},
     "output_type": "display_data"
    },
    {
     "name": "stderr",
     "output_type": "stream",
     "text": [
      "\u001b[34m\u001b[1mwandb\u001b[0m: Sweep Agent: Waiting for job.\n",
      "\u001b[34m\u001b[1mwandb\u001b[0m: Job received.\n",
      "\u001b[34m\u001b[1mwandb\u001b[0m: Agent Starting Run: l96w3elf with config:\n",
      "\u001b[34m\u001b[1mwandb\u001b[0m: \tdrop_index: [70, 280, 6213, 13585, 37911]\n",
      "\u001b[34m\u001b[1mwandb\u001b[0m: \toutlier: 9276\n"
     ]
    },
    {
     "data": {
      "text/html": [
       "Tracking run with wandb version 0.13.1"
      ],
      "text/plain": [
       "<IPython.core.display.HTML object>"
      ]
     },
     "metadata": {},
     "output_type": "display_data"
    },
    {
     "data": {
      "text/html": [
       "Run data is saved locally in <code>/content/Antenna-Performance-Prediction/wandb/run-20220817_070805-l96w3elf</code>"
      ],
      "text/plain": [
       "<IPython.core.display.HTML object>"
      ]
     },
     "metadata": {},
     "output_type": "display_data"
    },
    {
     "data": {
      "text/html": [
       "Syncing run <strong><a href=\"https://wandb.ai/zbooster/Antenna_Outlier-1/runs/l96w3elf\" target=\"_blank\">fanciful-sweep-61</a></strong> to <a href=\"https://wandb.ai/zbooster/Antenna_Outlier-1\" target=\"_blank\">Weights & Biases</a> (<a href=\"https://wandb.me/run\" target=\"_blank\">docs</a>)<br/>Sweep page:  <a href=\"https://wandb.ai/zbooster/Antenna_Outlier-1/sweeps/nj4jorxe\" target=\"_blank\">https://wandb.ai/zbooster/Antenna_Outlier-1/sweeps/nj4jorxe</a>"
      ],
      "text/plain": [
       "<IPython.core.display.HTML object>"
      ]
     },
     "metadata": {},
     "output_type": "display_data"
    },
    {
     "data": {
      "text/html": [
       "Waiting for W&B process to finish... <strong style=\"color:green\">(success).</strong>"
      ],
      "text/plain": [
       "<IPython.core.display.HTML object>"
      ]
     },
     "metadata": {},
     "output_type": "display_data"
    },
    {
     "data": {
      "application/vnd.jupyter.widget-view+json": {
       "model_id": "03aeff9c564f482498d9f68f747a8f48",
       "version_major": 2,
       "version_minor": 0
      },
      "text/plain": [
       "VBox(children=(Label(value='0.001 MB of 0.001 MB uploaded (0.000 MB deduped)\\r'), FloatProgress(value=1.0, max…"
      ]
     },
     "metadata": {},
     "output_type": "display_data"
    },
    {
     "data": {
      "text/html": [
       "<style>\n",
       "    table.wandb td:nth-child(1) { padding: 0 10px; text-align: left ; width: auto;} td:nth-child(2) {text-align: left ; width: 100%}\n",
       "    .wandb-row { display: flex; flex-direction: row; flex-wrap: wrap; justify-content: flex-start; width: 100% }\n",
       "    .wandb-col { display: flex; flex-direction: column; flex-basis: 100%; flex: 1; padding: 10px; }\n",
       "    </style>\n",
       "<div class=\"wandb-row\"><div class=\"wandb-col\"><h3>Run history:</h3><br/><table class=\"wandb\"><tr><td>LG_NRMSE_BEST</td><td>▁</td></tr><tr><td>LG_NRMSE_MEAN</td><td>▁</td></tr><tr><td>Y_01_NRMSE</td><td>▁</td></tr><tr><td>Y_02_NRMSE</td><td>▁</td></tr><tr><td>Y_03_NRMSE</td><td>▁</td></tr><tr><td>Y_04_NRMSE</td><td>▁</td></tr><tr><td>Y_05_NRMSE</td><td>▁</td></tr><tr><td>Y_06_NRMSE</td><td>▁</td></tr><tr><td>Y_07_NRMSE</td><td>▁</td></tr><tr><td>Y_08_NRMSE</td><td>▁</td></tr><tr><td>Y_09_NRMSE</td><td>▁</td></tr><tr><td>Y_10_NRMSE</td><td>▁</td></tr><tr><td>Y_11_NRMSE</td><td>▁</td></tr><tr><td>Y_12_NRMSE</td><td>▁</td></tr><tr><td>Y_13_NRMSE</td><td>▁</td></tr><tr><td>Y_14_NRMSE</td><td>▁</td></tr></table><br/></div><div class=\"wandb-col\"><h3>Run summary:</h3><br/><table class=\"wandb\"><tr><td>LG_NRMSE_BEST</td><td>1.93206</td></tr><tr><td>LG_NRMSE_MEAN</td><td>1.93206</td></tr><tr><td>Y_01_NRMSE</td><td>0.25413</td></tr><tr><td>Y_02_NRMSE</td><td>0.35247</td></tr><tr><td>Y_03_NRMSE</td><td>0.34573</td></tr><tr><td>Y_04_NRMSE</td><td>0.18842</td></tr><tr><td>Y_05_NRMSE</td><td>0.07916</td></tr><tr><td>Y_06_NRMSE</td><td>0.09525</td></tr><tr><td>Y_07_NRMSE</td><td>0.13009</td></tr><tr><td>Y_08_NRMSE</td><td>0.02438</td></tr><tr><td>Y_09_NRMSE</td><td>0.02409</td></tr><tr><td>Y_10_NRMSE</td><td>0.03803</td></tr><tr><td>Y_11_NRMSE</td><td>0.03373</td></tr><tr><td>Y_12_NRMSE</td><td>0.02425</td></tr><tr><td>Y_13_NRMSE</td><td>0.0242</td></tr><tr><td>Y_14_NRMSE</td><td>0.0242</td></tr></table><br/></div></div>"
      ],
      "text/plain": [
       "<IPython.core.display.HTML object>"
      ]
     },
     "metadata": {},
     "output_type": "display_data"
    },
    {
     "data": {
      "text/html": [
       "Synced <strong style=\"color:#cdcd00\">fanciful-sweep-61</strong>: <a href=\"https://wandb.ai/zbooster/Antenna_Outlier-1/runs/l96w3elf\" target=\"_blank\">https://wandb.ai/zbooster/Antenna_Outlier-1/runs/l96w3elf</a><br/>Synced 5 W&B file(s), 0 media file(s), 0 artifact file(s) and 0 other file(s)"
      ],
      "text/plain": [
       "<IPython.core.display.HTML object>"
      ]
     },
     "metadata": {},
     "output_type": "display_data"
    },
    {
     "data": {
      "text/html": [
       "Find logs at: <code>./wandb/run-20220817_070805-l96w3elf/logs</code>"
      ],
      "text/plain": [
       "<IPython.core.display.HTML object>"
      ]
     },
     "metadata": {},
     "output_type": "display_data"
    },
    {
     "name": "stderr",
     "output_type": "stream",
     "text": [
      "\u001b[34m\u001b[1mwandb\u001b[0m: Agent Starting Run: iq5szj86 with config:\n",
      "\u001b[34m\u001b[1mwandb\u001b[0m: \tdrop_index: [70, 280, 6213, 13585, 37911]\n",
      "\u001b[34m\u001b[1mwandb\u001b[0m: \toutlier: 9279\n"
     ]
    },
    {
     "data": {
      "text/html": [
       "Tracking run with wandb version 0.13.1"
      ],
      "text/plain": [
       "<IPython.core.display.HTML object>"
      ]
     },
     "metadata": {},
     "output_type": "display_data"
    },
    {
     "data": {
      "text/html": [
       "Run data is saved locally in <code>/content/Antenna-Performance-Prediction/wandb/run-20220817_070849-iq5szj86</code>"
      ],
      "text/plain": [
       "<IPython.core.display.HTML object>"
      ]
     },
     "metadata": {},
     "output_type": "display_data"
    },
    {
     "data": {
      "text/html": [
       "Syncing run <strong><a href=\"https://wandb.ai/zbooster/Antenna_Outlier-1/runs/iq5szj86\" target=\"_blank\">peachy-sweep-62</a></strong> to <a href=\"https://wandb.ai/zbooster/Antenna_Outlier-1\" target=\"_blank\">Weights & Biases</a> (<a href=\"https://wandb.me/run\" target=\"_blank\">docs</a>)<br/>Sweep page:  <a href=\"https://wandb.ai/zbooster/Antenna_Outlier-1/sweeps/nj4jorxe\" target=\"_blank\">https://wandb.ai/zbooster/Antenna_Outlier-1/sweeps/nj4jorxe</a>"
      ],
      "text/plain": [
       "<IPython.core.display.HTML object>"
      ]
     },
     "metadata": {},
     "output_type": "display_data"
    },
    {
     "data": {
      "text/html": [
       "Waiting for W&B process to finish... <strong style=\"color:green\">(success).</strong>"
      ],
      "text/plain": [
       "<IPython.core.display.HTML object>"
      ]
     },
     "metadata": {},
     "output_type": "display_data"
    },
    {
     "data": {
      "application/vnd.jupyter.widget-view+json": {
       "model_id": "192759a9d3284240a8bbe27cefdc958a",
       "version_major": 2,
       "version_minor": 0
      },
      "text/plain": [
       "VBox(children=(Label(value='0.001 MB of 0.001 MB uploaded (0.000 MB deduped)\\r'), FloatProgress(value=1.0, max…"
      ]
     },
     "metadata": {},
     "output_type": "display_data"
    },
    {
     "data": {
      "text/html": [
       "<style>\n",
       "    table.wandb td:nth-child(1) { padding: 0 10px; text-align: left ; width: auto;} td:nth-child(2) {text-align: left ; width: 100%}\n",
       "    .wandb-row { display: flex; flex-direction: row; flex-wrap: wrap; justify-content: flex-start; width: 100% }\n",
       "    .wandb-col { display: flex; flex-direction: column; flex-basis: 100%; flex: 1; padding: 10px; }\n",
       "    </style>\n",
       "<div class=\"wandb-row\"><div class=\"wandb-col\"><h3>Run history:</h3><br/><table class=\"wandb\"><tr><td>LG_NRMSE_BEST</td><td>▁</td></tr><tr><td>LG_NRMSE_MEAN</td><td>▁</td></tr><tr><td>Y_01_NRMSE</td><td>▁</td></tr><tr><td>Y_02_NRMSE</td><td>▁</td></tr><tr><td>Y_03_NRMSE</td><td>▁</td></tr><tr><td>Y_04_NRMSE</td><td>▁</td></tr><tr><td>Y_05_NRMSE</td><td>▁</td></tr><tr><td>Y_06_NRMSE</td><td>▁</td></tr><tr><td>Y_07_NRMSE</td><td>▁</td></tr><tr><td>Y_08_NRMSE</td><td>▁</td></tr><tr><td>Y_09_NRMSE</td><td>▁</td></tr><tr><td>Y_10_NRMSE</td><td>▁</td></tr><tr><td>Y_11_NRMSE</td><td>▁</td></tr><tr><td>Y_12_NRMSE</td><td>▁</td></tr><tr><td>Y_13_NRMSE</td><td>▁</td></tr><tr><td>Y_14_NRMSE</td><td>▁</td></tr></table><br/></div><div class=\"wandb-col\"><h3>Run summary:</h3><br/><table class=\"wandb\"><tr><td>LG_NRMSE_BEST</td><td>1.93183</td></tr><tr><td>LG_NRMSE_MEAN</td><td>1.93183</td></tr><tr><td>Y_01_NRMSE</td><td>0.25409</td></tr><tr><td>Y_02_NRMSE</td><td>0.35245</td></tr><tr><td>Y_03_NRMSE</td><td>0.34563</td></tr><tr><td>Y_04_NRMSE</td><td>0.18844</td></tr><tr><td>Y_05_NRMSE</td><td>0.07916</td></tr><tr><td>Y_06_NRMSE</td><td>0.09525</td></tr><tr><td>Y_07_NRMSE</td><td>0.13008</td></tr><tr><td>Y_08_NRMSE</td><td>0.02437</td></tr><tr><td>Y_09_NRMSE</td><td>0.02409</td></tr><tr><td>Y_10_NRMSE</td><td>0.03803</td></tr><tr><td>Y_11_NRMSE</td><td>0.03372</td></tr><tr><td>Y_12_NRMSE</td><td>0.02424</td></tr><tr><td>Y_13_NRMSE</td><td>0.02419</td></tr><tr><td>Y_14_NRMSE</td><td>0.02419</td></tr></table><br/></div></div>"
      ],
      "text/plain": [
       "<IPython.core.display.HTML object>"
      ]
     },
     "metadata": {},
     "output_type": "display_data"
    },
    {
     "data": {
      "text/html": [
       "Synced <strong style=\"color:#cdcd00\">peachy-sweep-62</strong>: <a href=\"https://wandb.ai/zbooster/Antenna_Outlier-1/runs/iq5szj86\" target=\"_blank\">https://wandb.ai/zbooster/Antenna_Outlier-1/runs/iq5szj86</a><br/>Synced 5 W&B file(s), 0 media file(s), 0 artifact file(s) and 0 other file(s)"
      ],
      "text/plain": [
       "<IPython.core.display.HTML object>"
      ]
     },
     "metadata": {},
     "output_type": "display_data"
    },
    {
     "data": {
      "text/html": [
       "Find logs at: <code>./wandb/run-20220817_070849-iq5szj86/logs</code>"
      ],
      "text/plain": [
       "<IPython.core.display.HTML object>"
      ]
     },
     "metadata": {},
     "output_type": "display_data"
    },
    {
     "name": "stderr",
     "output_type": "stream",
     "text": [
      "\u001b[34m\u001b[1mwandb\u001b[0m: Sweep Agent: Waiting for job.\n",
      "\u001b[34m\u001b[1mwandb\u001b[0m: Job received.\n",
      "\u001b[34m\u001b[1mwandb\u001b[0m: Agent Starting Run: x5pzsg5e with config:\n",
      "\u001b[34m\u001b[1mwandb\u001b[0m: \tdrop_index: [70, 280, 6213, 13585, 37911]\n",
      "\u001b[34m\u001b[1mwandb\u001b[0m: \toutlier: 9283\n"
     ]
    },
    {
     "data": {
      "text/html": [
       "Tracking run with wandb version 0.13.1"
      ],
      "text/plain": [
       "<IPython.core.display.HTML object>"
      ]
     },
     "metadata": {},
     "output_type": "display_data"
    },
    {
     "data": {
      "text/html": [
       "Run data is saved locally in <code>/content/Antenna-Performance-Prediction/wandb/run-20220817_070941-x5pzsg5e</code>"
      ],
      "text/plain": [
       "<IPython.core.display.HTML object>"
      ]
     },
     "metadata": {},
     "output_type": "display_data"
    },
    {
     "data": {
      "text/html": [
       "Syncing run <strong><a href=\"https://wandb.ai/zbooster/Antenna_Outlier-1/runs/x5pzsg5e\" target=\"_blank\">comic-sweep-63</a></strong> to <a href=\"https://wandb.ai/zbooster/Antenna_Outlier-1\" target=\"_blank\">Weights & Biases</a> (<a href=\"https://wandb.me/run\" target=\"_blank\">docs</a>)<br/>Sweep page:  <a href=\"https://wandb.ai/zbooster/Antenna_Outlier-1/sweeps/nj4jorxe\" target=\"_blank\">https://wandb.ai/zbooster/Antenna_Outlier-1/sweeps/nj4jorxe</a>"
      ],
      "text/plain": [
       "<IPython.core.display.HTML object>"
      ]
     },
     "metadata": {},
     "output_type": "display_data"
    },
    {
     "data": {
      "text/html": [
       "Waiting for W&B process to finish... <strong style=\"color:green\">(success).</strong>"
      ],
      "text/plain": [
       "<IPython.core.display.HTML object>"
      ]
     },
     "metadata": {},
     "output_type": "display_data"
    },
    {
     "data": {
      "application/vnd.jupyter.widget-view+json": {
       "model_id": "0c4f756a220d45c3b112208f2daf5d4f",
       "version_major": 2,
       "version_minor": 0
      },
      "text/plain": [
       "VBox(children=(Label(value='0.001 MB of 0.001 MB uploaded (0.000 MB deduped)\\r'), FloatProgress(value=1.0, max…"
      ]
     },
     "metadata": {},
     "output_type": "display_data"
    },
    {
     "data": {
      "text/html": [
       "<style>\n",
       "    table.wandb td:nth-child(1) { padding: 0 10px; text-align: left ; width: auto;} td:nth-child(2) {text-align: left ; width: 100%}\n",
       "    .wandb-row { display: flex; flex-direction: row; flex-wrap: wrap; justify-content: flex-start; width: 100% }\n",
       "    .wandb-col { display: flex; flex-direction: column; flex-basis: 100%; flex: 1; padding: 10px; }\n",
       "    </style>\n",
       "<div class=\"wandb-row\"><div class=\"wandb-col\"><h3>Run history:</h3><br/><table class=\"wandb\"><tr><td>LG_NRMSE_BEST</td><td>▁</td></tr><tr><td>LG_NRMSE_MEAN</td><td>▁</td></tr><tr><td>Y_01_NRMSE</td><td>▁</td></tr><tr><td>Y_02_NRMSE</td><td>▁</td></tr><tr><td>Y_03_NRMSE</td><td>▁</td></tr><tr><td>Y_04_NRMSE</td><td>▁</td></tr><tr><td>Y_05_NRMSE</td><td>▁</td></tr><tr><td>Y_06_NRMSE</td><td>▁</td></tr><tr><td>Y_07_NRMSE</td><td>▁</td></tr><tr><td>Y_08_NRMSE</td><td>▁</td></tr><tr><td>Y_09_NRMSE</td><td>▁</td></tr><tr><td>Y_10_NRMSE</td><td>▁</td></tr><tr><td>Y_11_NRMSE</td><td>▁</td></tr><tr><td>Y_12_NRMSE</td><td>▁</td></tr><tr><td>Y_13_NRMSE</td><td>▁</td></tr><tr><td>Y_14_NRMSE</td><td>▁</td></tr></table><br/></div><div class=\"wandb-col\"><h3>Run summary:</h3><br/><table class=\"wandb\"><tr><td>LG_NRMSE_BEST</td><td>1.9318</td></tr><tr><td>LG_NRMSE_MEAN</td><td>1.9318</td></tr><tr><td>Y_01_NRMSE</td><td>0.25409</td></tr><tr><td>Y_02_NRMSE</td><td>0.35242</td></tr><tr><td>Y_03_NRMSE</td><td>0.34565</td></tr><tr><td>Y_04_NRMSE</td><td>0.18844</td></tr><tr><td>Y_05_NRMSE</td><td>0.07915</td></tr><tr><td>Y_06_NRMSE</td><td>0.09523</td></tr><tr><td>Y_07_NRMSE</td><td>0.13008</td></tr><tr><td>Y_08_NRMSE</td><td>0.02437</td></tr><tr><td>Y_09_NRMSE</td><td>0.02409</td></tr><tr><td>Y_10_NRMSE</td><td>0.03803</td></tr><tr><td>Y_11_NRMSE</td><td>0.03372</td></tr><tr><td>Y_12_NRMSE</td><td>0.02425</td></tr><tr><td>Y_13_NRMSE</td><td>0.0242</td></tr><tr><td>Y_14_NRMSE</td><td>0.02419</td></tr></table><br/></div></div>"
      ],
      "text/plain": [
       "<IPython.core.display.HTML object>"
      ]
     },
     "metadata": {},
     "output_type": "display_data"
    },
    {
     "data": {
      "text/html": [
       "Synced <strong style=\"color:#cdcd00\">comic-sweep-63</strong>: <a href=\"https://wandb.ai/zbooster/Antenna_Outlier-1/runs/x5pzsg5e\" target=\"_blank\">https://wandb.ai/zbooster/Antenna_Outlier-1/runs/x5pzsg5e</a><br/>Synced 5 W&B file(s), 0 media file(s), 0 artifact file(s) and 0 other file(s)"
      ],
      "text/plain": [
       "<IPython.core.display.HTML object>"
      ]
     },
     "metadata": {},
     "output_type": "display_data"
    },
    {
     "data": {
      "text/html": [
       "Find logs at: <code>./wandb/run-20220817_070941-x5pzsg5e/logs</code>"
      ],
      "text/plain": [
       "<IPython.core.display.HTML object>"
      ]
     },
     "metadata": {},
     "output_type": "display_data"
    },
    {
     "name": "stderr",
     "output_type": "stream",
     "text": [
      "\u001b[34m\u001b[1mwandb\u001b[0m: Agent Starting Run: d0358gb7 with config:\n",
      "\u001b[34m\u001b[1mwandb\u001b[0m: \tdrop_index: [70, 280, 6213, 13585, 37911]\n",
      "\u001b[34m\u001b[1mwandb\u001b[0m: \toutlier: 9289\n"
     ]
    },
    {
     "data": {
      "text/html": [
       "Tracking run with wandb version 0.13.1"
      ],
      "text/plain": [
       "<IPython.core.display.HTML object>"
      ]
     },
     "metadata": {},
     "output_type": "display_data"
    },
    {
     "data": {
      "text/html": [
       "Run data is saved locally in <code>/content/Antenna-Performance-Prediction/wandb/run-20220817_071024-d0358gb7</code>"
      ],
      "text/plain": [
       "<IPython.core.display.HTML object>"
      ]
     },
     "metadata": {},
     "output_type": "display_data"
    },
    {
     "data": {
      "text/html": [
       "Syncing run <strong><a href=\"https://wandb.ai/zbooster/Antenna_Outlier-1/runs/d0358gb7\" target=\"_blank\">stellar-sweep-64</a></strong> to <a href=\"https://wandb.ai/zbooster/Antenna_Outlier-1\" target=\"_blank\">Weights & Biases</a> (<a href=\"https://wandb.me/run\" target=\"_blank\">docs</a>)<br/>Sweep page:  <a href=\"https://wandb.ai/zbooster/Antenna_Outlier-1/sweeps/nj4jorxe\" target=\"_blank\">https://wandb.ai/zbooster/Antenna_Outlier-1/sweeps/nj4jorxe</a>"
      ],
      "text/plain": [
       "<IPython.core.display.HTML object>"
      ]
     },
     "metadata": {},
     "output_type": "display_data"
    },
    {
     "data": {
      "text/html": [
       "Waiting for W&B process to finish... <strong style=\"color:green\">(success).</strong>"
      ],
      "text/plain": [
       "<IPython.core.display.HTML object>"
      ]
     },
     "metadata": {},
     "output_type": "display_data"
    },
    {
     "data": {
      "application/vnd.jupyter.widget-view+json": {
       "model_id": "0be06fd4c60c42aa82fa6f503d3b21c9",
       "version_major": 2,
       "version_minor": 0
      },
      "text/plain": [
       "VBox(children=(Label(value='0.001 MB of 0.001 MB uploaded (0.000 MB deduped)\\r'), FloatProgress(value=1.0, max…"
      ]
     },
     "metadata": {},
     "output_type": "display_data"
    },
    {
     "data": {
      "text/html": [
       "<style>\n",
       "    table.wandb td:nth-child(1) { padding: 0 10px; text-align: left ; width: auto;} td:nth-child(2) {text-align: left ; width: 100%}\n",
       "    .wandb-row { display: flex; flex-direction: row; flex-wrap: wrap; justify-content: flex-start; width: 100% }\n",
       "    .wandb-col { display: flex; flex-direction: column; flex-basis: 100%; flex: 1; padding: 10px; }\n",
       "    </style>\n",
       "<div class=\"wandb-row\"><div class=\"wandb-col\"><h3>Run history:</h3><br/><table class=\"wandb\"><tr><td>LG_NRMSE_BEST</td><td>▁</td></tr><tr><td>LG_NRMSE_MEAN</td><td>▁</td></tr><tr><td>Y_01_NRMSE</td><td>▁</td></tr><tr><td>Y_02_NRMSE</td><td>▁</td></tr><tr><td>Y_03_NRMSE</td><td>▁</td></tr><tr><td>Y_04_NRMSE</td><td>▁</td></tr><tr><td>Y_05_NRMSE</td><td>▁</td></tr><tr><td>Y_06_NRMSE</td><td>▁</td></tr><tr><td>Y_07_NRMSE</td><td>▁</td></tr><tr><td>Y_08_NRMSE</td><td>▁</td></tr><tr><td>Y_09_NRMSE</td><td>▁</td></tr><tr><td>Y_10_NRMSE</td><td>▁</td></tr><tr><td>Y_11_NRMSE</td><td>▁</td></tr><tr><td>Y_12_NRMSE</td><td>▁</td></tr><tr><td>Y_13_NRMSE</td><td>▁</td></tr><tr><td>Y_14_NRMSE</td><td>▁</td></tr></table><br/></div><div class=\"wandb-col\"><h3>Run summary:</h3><br/><table class=\"wandb\"><tr><td>LG_NRMSE_BEST</td><td>1.932</td></tr><tr><td>LG_NRMSE_MEAN</td><td>1.932</td></tr><tr><td>Y_01_NRMSE</td><td>0.25415</td></tr><tr><td>Y_02_NRMSE</td><td>0.35244</td></tr><tr><td>Y_03_NRMSE</td><td>0.34575</td></tr><tr><td>Y_04_NRMSE</td><td>0.18843</td></tr><tr><td>Y_05_NRMSE</td><td>0.07916</td></tr><tr><td>Y_06_NRMSE</td><td>0.0952</td></tr><tr><td>Y_07_NRMSE</td><td>0.13009</td></tr><tr><td>Y_08_NRMSE</td><td>0.02438</td></tr><tr><td>Y_09_NRMSE</td><td>0.02409</td></tr><tr><td>Y_10_NRMSE</td><td>0.03803</td></tr><tr><td>Y_11_NRMSE</td><td>0.03372</td></tr><tr><td>Y_12_NRMSE</td><td>0.02425</td></tr><tr><td>Y_13_NRMSE</td><td>0.0242</td></tr><tr><td>Y_14_NRMSE</td><td>0.02419</td></tr></table><br/></div></div>"
      ],
      "text/plain": [
       "<IPython.core.display.HTML object>"
      ]
     },
     "metadata": {},
     "output_type": "display_data"
    },
    {
     "data": {
      "text/html": [
       "Synced <strong style=\"color:#cdcd00\">stellar-sweep-64</strong>: <a href=\"https://wandb.ai/zbooster/Antenna_Outlier-1/runs/d0358gb7\" target=\"_blank\">https://wandb.ai/zbooster/Antenna_Outlier-1/runs/d0358gb7</a><br/>Synced 5 W&B file(s), 0 media file(s), 0 artifact file(s) and 0 other file(s)"
      ],
      "text/plain": [
       "<IPython.core.display.HTML object>"
      ]
     },
     "metadata": {},
     "output_type": "display_data"
    },
    {
     "data": {
      "text/html": [
       "Find logs at: <code>./wandb/run-20220817_071024-d0358gb7/logs</code>"
      ],
      "text/plain": [
       "<IPython.core.display.HTML object>"
      ]
     },
     "metadata": {},
     "output_type": "display_data"
    },
    {
     "name": "stderr",
     "output_type": "stream",
     "text": [
      "\u001b[34m\u001b[1mwandb\u001b[0m: Agent Starting Run: hqg3glny with config:\n",
      "\u001b[34m\u001b[1mwandb\u001b[0m: \tdrop_index: [70, 280, 6213, 13585, 37911]\n",
      "\u001b[34m\u001b[1mwandb\u001b[0m: \toutlier: 9299\n"
     ]
    },
    {
     "data": {
      "text/html": [
       "Tracking run with wandb version 0.13.1"
      ],
      "text/plain": [
       "<IPython.core.display.HTML object>"
      ]
     },
     "metadata": {},
     "output_type": "display_data"
    },
    {
     "data": {
      "text/html": [
       "Run data is saved locally in <code>/content/Antenna-Performance-Prediction/wandb/run-20220817_071106-hqg3glny</code>"
      ],
      "text/plain": [
       "<IPython.core.display.HTML object>"
      ]
     },
     "metadata": {},
     "output_type": "display_data"
    },
    {
     "data": {
      "text/html": [
       "Syncing run <strong><a href=\"https://wandb.ai/zbooster/Antenna_Outlier-1/runs/hqg3glny\" target=\"_blank\">chocolate-sweep-65</a></strong> to <a href=\"https://wandb.ai/zbooster/Antenna_Outlier-1\" target=\"_blank\">Weights & Biases</a> (<a href=\"https://wandb.me/run\" target=\"_blank\">docs</a>)<br/>Sweep page:  <a href=\"https://wandb.ai/zbooster/Antenna_Outlier-1/sweeps/nj4jorxe\" target=\"_blank\">https://wandb.ai/zbooster/Antenna_Outlier-1/sweeps/nj4jorxe</a>"
      ],
      "text/plain": [
       "<IPython.core.display.HTML object>"
      ]
     },
     "metadata": {},
     "output_type": "display_data"
    },
    {
     "data": {
      "text/html": [
       "Waiting for W&B process to finish... <strong style=\"color:green\">(success).</strong>"
      ],
      "text/plain": [
       "<IPython.core.display.HTML object>"
      ]
     },
     "metadata": {},
     "output_type": "display_data"
    },
    {
     "data": {
      "application/vnd.jupyter.widget-view+json": {
       "model_id": "ee2690b65068414db6614f573c49cd07",
       "version_major": 2,
       "version_minor": 0
      },
      "text/plain": [
       "VBox(children=(Label(value='0.001 MB of 0.001 MB uploaded (0.000 MB deduped)\\r'), FloatProgress(value=1.0, max…"
      ]
     },
     "metadata": {},
     "output_type": "display_data"
    },
    {
     "data": {
      "text/html": [
       "<style>\n",
       "    table.wandb td:nth-child(1) { padding: 0 10px; text-align: left ; width: auto;} td:nth-child(2) {text-align: left ; width: 100%}\n",
       "    .wandb-row { display: flex; flex-direction: row; flex-wrap: wrap; justify-content: flex-start; width: 100% }\n",
       "    .wandb-col { display: flex; flex-direction: column; flex-basis: 100%; flex: 1; padding: 10px; }\n",
       "    </style>\n",
       "<div class=\"wandb-row\"><div class=\"wandb-col\"><h3>Run history:</h3><br/><table class=\"wandb\"><tr><td>LG_NRMSE_BEST</td><td>▁</td></tr><tr><td>LG_NRMSE_MEAN</td><td>▁</td></tr><tr><td>Y_01_NRMSE</td><td>▁</td></tr><tr><td>Y_02_NRMSE</td><td>▁</td></tr><tr><td>Y_03_NRMSE</td><td>▁</td></tr><tr><td>Y_04_NRMSE</td><td>▁</td></tr><tr><td>Y_05_NRMSE</td><td>▁</td></tr><tr><td>Y_06_NRMSE</td><td>▁</td></tr><tr><td>Y_07_NRMSE</td><td>▁</td></tr><tr><td>Y_08_NRMSE</td><td>▁</td></tr><tr><td>Y_09_NRMSE</td><td>▁</td></tr><tr><td>Y_10_NRMSE</td><td>▁</td></tr><tr><td>Y_11_NRMSE</td><td>▁</td></tr><tr><td>Y_12_NRMSE</td><td>▁</td></tr><tr><td>Y_13_NRMSE</td><td>▁</td></tr><tr><td>Y_14_NRMSE</td><td>▁</td></tr></table><br/></div><div class=\"wandb-col\"><h3>Run summary:</h3><br/><table class=\"wandb\"><tr><td>LG_NRMSE_BEST</td><td>1.93204</td></tr><tr><td>LG_NRMSE_MEAN</td><td>1.93204</td></tr><tr><td>Y_01_NRMSE</td><td>0.25413</td></tr><tr><td>Y_02_NRMSE</td><td>0.35245</td></tr><tr><td>Y_03_NRMSE</td><td>0.34564</td></tr><tr><td>Y_04_NRMSE</td><td>0.18844</td></tr><tr><td>Y_05_NRMSE</td><td>0.07917</td></tr><tr><td>Y_06_NRMSE</td><td>0.09523</td></tr><tr><td>Y_07_NRMSE</td><td>0.1302</td></tr><tr><td>Y_08_NRMSE</td><td>0.02437</td></tr><tr><td>Y_09_NRMSE</td><td>0.02409</td></tr><tr><td>Y_10_NRMSE</td><td>0.03803</td></tr><tr><td>Y_11_NRMSE</td><td>0.03372</td></tr><tr><td>Y_12_NRMSE</td><td>0.02425</td></tr><tr><td>Y_13_NRMSE</td><td>0.0242</td></tr><tr><td>Y_14_NRMSE</td><td>0.02419</td></tr></table><br/></div></div>"
      ],
      "text/plain": [
       "<IPython.core.display.HTML object>"
      ]
     },
     "metadata": {},
     "output_type": "display_data"
    },
    {
     "data": {
      "text/html": [
       "Synced <strong style=\"color:#cdcd00\">chocolate-sweep-65</strong>: <a href=\"https://wandb.ai/zbooster/Antenna_Outlier-1/runs/hqg3glny\" target=\"_blank\">https://wandb.ai/zbooster/Antenna_Outlier-1/runs/hqg3glny</a><br/>Synced 5 W&B file(s), 0 media file(s), 0 artifact file(s) and 0 other file(s)"
      ],
      "text/plain": [
       "<IPython.core.display.HTML object>"
      ]
     },
     "metadata": {},
     "output_type": "display_data"
    },
    {
     "data": {
      "text/html": [
       "Find logs at: <code>./wandb/run-20220817_071106-hqg3glny/logs</code>"
      ],
      "text/plain": [
       "<IPython.core.display.HTML object>"
      ]
     },
     "metadata": {},
     "output_type": "display_data"
    },
    {
     "name": "stderr",
     "output_type": "stream",
     "text": [
      "\u001b[34m\u001b[1mwandb\u001b[0m: Agent Starting Run: gx3avs4s with config:\n",
      "\u001b[34m\u001b[1mwandb\u001b[0m: \tdrop_index: [70, 280, 6213, 13585, 37911]\n",
      "\u001b[34m\u001b[1mwandb\u001b[0m: \toutlier: 9321\n"
     ]
    },
    {
     "data": {
      "text/html": [
       "Tracking run with wandb version 0.13.1"
      ],
      "text/plain": [
       "<IPython.core.display.HTML object>"
      ]
     },
     "metadata": {},
     "output_type": "display_data"
    },
    {
     "data": {
      "text/html": [
       "Run data is saved locally in <code>/content/Antenna-Performance-Prediction/wandb/run-20220817_071153-gx3avs4s</code>"
      ],
      "text/plain": [
       "<IPython.core.display.HTML object>"
      ]
     },
     "metadata": {},
     "output_type": "display_data"
    },
    {
     "data": {
      "text/html": [
       "Syncing run <strong><a href=\"https://wandb.ai/zbooster/Antenna_Outlier-1/runs/gx3avs4s\" target=\"_blank\">desert-sweep-66</a></strong> to <a href=\"https://wandb.ai/zbooster/Antenna_Outlier-1\" target=\"_blank\">Weights & Biases</a> (<a href=\"https://wandb.me/run\" target=\"_blank\">docs</a>)<br/>Sweep page:  <a href=\"https://wandb.ai/zbooster/Antenna_Outlier-1/sweeps/nj4jorxe\" target=\"_blank\">https://wandb.ai/zbooster/Antenna_Outlier-1/sweeps/nj4jorxe</a>"
      ],
      "text/plain": [
       "<IPython.core.display.HTML object>"
      ]
     },
     "metadata": {},
     "output_type": "display_data"
    },
    {
     "data": {
      "text/html": [
       "Waiting for W&B process to finish... <strong style=\"color:green\">(success).</strong>"
      ],
      "text/plain": [
       "<IPython.core.display.HTML object>"
      ]
     },
     "metadata": {},
     "output_type": "display_data"
    },
    {
     "data": {
      "application/vnd.jupyter.widget-view+json": {
       "model_id": "d61d12b77e734f4592db7fca3d7193b4",
       "version_major": 2,
       "version_minor": 0
      },
      "text/plain": [
       "VBox(children=(Label(value='0.001 MB of 0.001 MB uploaded (0.000 MB deduped)\\r'), FloatProgress(value=1.0, max…"
      ]
     },
     "metadata": {},
     "output_type": "display_data"
    },
    {
     "data": {
      "text/html": [
       "<style>\n",
       "    table.wandb td:nth-child(1) { padding: 0 10px; text-align: left ; width: auto;} td:nth-child(2) {text-align: left ; width: 100%}\n",
       "    .wandb-row { display: flex; flex-direction: row; flex-wrap: wrap; justify-content: flex-start; width: 100% }\n",
       "    .wandb-col { display: flex; flex-direction: column; flex-basis: 100%; flex: 1; padding: 10px; }\n",
       "    </style>\n",
       "<div class=\"wandb-row\"><div class=\"wandb-col\"><h3>Run history:</h3><br/><table class=\"wandb\"><tr><td>LG_NRMSE_BEST</td><td>▁</td></tr><tr><td>LG_NRMSE_MEAN</td><td>▁</td></tr><tr><td>Y_01_NRMSE</td><td>▁</td></tr><tr><td>Y_02_NRMSE</td><td>▁</td></tr><tr><td>Y_03_NRMSE</td><td>▁</td></tr><tr><td>Y_04_NRMSE</td><td>▁</td></tr><tr><td>Y_05_NRMSE</td><td>▁</td></tr><tr><td>Y_06_NRMSE</td><td>▁</td></tr><tr><td>Y_07_NRMSE</td><td>▁</td></tr><tr><td>Y_08_NRMSE</td><td>▁</td></tr><tr><td>Y_09_NRMSE</td><td>▁</td></tr><tr><td>Y_10_NRMSE</td><td>▁</td></tr><tr><td>Y_11_NRMSE</td><td>▁</td></tr><tr><td>Y_12_NRMSE</td><td>▁</td></tr><tr><td>Y_13_NRMSE</td><td>▁</td></tr><tr><td>Y_14_NRMSE</td><td>▁</td></tr></table><br/></div><div class=\"wandb-col\"><h3>Run summary:</h3><br/><table class=\"wandb\"><tr><td>LG_NRMSE_BEST</td><td>1.93205</td></tr><tr><td>LG_NRMSE_MEAN</td><td>1.93205</td></tr><tr><td>Y_01_NRMSE</td><td>0.25405</td></tr><tr><td>Y_02_NRMSE</td><td>0.3525</td></tr><tr><td>Y_03_NRMSE</td><td>0.34561</td></tr><tr><td>Y_04_NRMSE</td><td>0.18844</td></tr><tr><td>Y_05_NRMSE</td><td>0.07918</td></tr><tr><td>Y_06_NRMSE</td><td>0.09524</td></tr><tr><td>Y_07_NRMSE</td><td>0.13023</td></tr><tr><td>Y_08_NRMSE</td><td>0.02438</td></tr><tr><td>Y_09_NRMSE</td><td>0.02409</td></tr><tr><td>Y_10_NRMSE</td><td>0.03804</td></tr><tr><td>Y_11_NRMSE</td><td>0.03373</td></tr><tr><td>Y_12_NRMSE</td><td>0.02425</td></tr><tr><td>Y_13_NRMSE</td><td>0.0242</td></tr><tr><td>Y_14_NRMSE</td><td>0.02419</td></tr></table><br/></div></div>"
      ],
      "text/plain": [
       "<IPython.core.display.HTML object>"
      ]
     },
     "metadata": {},
     "output_type": "display_data"
    },
    {
     "data": {
      "text/html": [
       "Synced <strong style=\"color:#cdcd00\">desert-sweep-66</strong>: <a href=\"https://wandb.ai/zbooster/Antenna_Outlier-1/runs/gx3avs4s\" target=\"_blank\">https://wandb.ai/zbooster/Antenna_Outlier-1/runs/gx3avs4s</a><br/>Synced 5 W&B file(s), 0 media file(s), 0 artifact file(s) and 0 other file(s)"
      ],
      "text/plain": [
       "<IPython.core.display.HTML object>"
      ]
     },
     "metadata": {},
     "output_type": "display_data"
    },
    {
     "data": {
      "text/html": [
       "Find logs at: <code>./wandb/run-20220817_071153-gx3avs4s/logs</code>"
      ],
      "text/plain": [
       "<IPython.core.display.HTML object>"
      ]
     },
     "metadata": {},
     "output_type": "display_data"
    },
    {
     "name": "stderr",
     "output_type": "stream",
     "text": [
      "\u001b[34m\u001b[1mwandb\u001b[0m: Agent Starting Run: 2vzsex1s with config:\n",
      "\u001b[34m\u001b[1mwandb\u001b[0m: \tdrop_index: [70, 280, 6213, 13585, 37911]\n",
      "\u001b[34m\u001b[1mwandb\u001b[0m: \toutlier: 9345\n"
     ]
    },
    {
     "data": {
      "text/html": [
       "Tracking run with wandb version 0.13.1"
      ],
      "text/plain": [
       "<IPython.core.display.HTML object>"
      ]
     },
     "metadata": {},
     "output_type": "display_data"
    },
    {
     "data": {
      "text/html": [
       "Run data is saved locally in <code>/content/Antenna-Performance-Prediction/wandb/run-20220817_071236-2vzsex1s</code>"
      ],
      "text/plain": [
       "<IPython.core.display.HTML object>"
      ]
     },
     "metadata": {},
     "output_type": "display_data"
    },
    {
     "data": {
      "text/html": [
       "Syncing run <strong><a href=\"https://wandb.ai/zbooster/Antenna_Outlier-1/runs/2vzsex1s\" target=\"_blank\">classic-sweep-67</a></strong> to <a href=\"https://wandb.ai/zbooster/Antenna_Outlier-1\" target=\"_blank\">Weights & Biases</a> (<a href=\"https://wandb.me/run\" target=\"_blank\">docs</a>)<br/>Sweep page:  <a href=\"https://wandb.ai/zbooster/Antenna_Outlier-1/sweeps/nj4jorxe\" target=\"_blank\">https://wandb.ai/zbooster/Antenna_Outlier-1/sweeps/nj4jorxe</a>"
      ],
      "text/plain": [
       "<IPython.core.display.HTML object>"
      ]
     },
     "metadata": {},
     "output_type": "display_data"
    },
    {
     "data": {
      "text/html": [
       "Waiting for W&B process to finish... <strong style=\"color:green\">(success).</strong>"
      ],
      "text/plain": [
       "<IPython.core.display.HTML object>"
      ]
     },
     "metadata": {},
     "output_type": "display_data"
    },
    {
     "data": {
      "application/vnd.jupyter.widget-view+json": {
       "model_id": "85d3dbe038ae42c3b64bc6f0e5646f62",
       "version_major": 2,
       "version_minor": 0
      },
      "text/plain": [
       "VBox(children=(Label(value='0.001 MB of 0.001 MB uploaded (0.000 MB deduped)\\r'), FloatProgress(value=1.0, max…"
      ]
     },
     "metadata": {},
     "output_type": "display_data"
    },
    {
     "data": {
      "text/html": [
       "<style>\n",
       "    table.wandb td:nth-child(1) { padding: 0 10px; text-align: left ; width: auto;} td:nth-child(2) {text-align: left ; width: 100%}\n",
       "    .wandb-row { display: flex; flex-direction: row; flex-wrap: wrap; justify-content: flex-start; width: 100% }\n",
       "    .wandb-col { display: flex; flex-direction: column; flex-basis: 100%; flex: 1; padding: 10px; }\n",
       "    </style>\n",
       "<div class=\"wandb-row\"><div class=\"wandb-col\"><h3>Run history:</h3><br/><table class=\"wandb\"><tr><td>LG_NRMSE_BEST</td><td>▁</td></tr><tr><td>LG_NRMSE_MEAN</td><td>▁</td></tr><tr><td>Y_01_NRMSE</td><td>▁</td></tr><tr><td>Y_02_NRMSE</td><td>▁</td></tr><tr><td>Y_03_NRMSE</td><td>▁</td></tr><tr><td>Y_04_NRMSE</td><td>▁</td></tr><tr><td>Y_05_NRMSE</td><td>▁</td></tr><tr><td>Y_06_NRMSE</td><td>▁</td></tr><tr><td>Y_07_NRMSE</td><td>▁</td></tr><tr><td>Y_08_NRMSE</td><td>▁</td></tr><tr><td>Y_09_NRMSE</td><td>▁</td></tr><tr><td>Y_10_NRMSE</td><td>▁</td></tr><tr><td>Y_11_NRMSE</td><td>▁</td></tr><tr><td>Y_12_NRMSE</td><td>▁</td></tr><tr><td>Y_13_NRMSE</td><td>▁</td></tr><tr><td>Y_14_NRMSE</td><td>▁</td></tr></table><br/></div><div class=\"wandb-col\"><h3>Run summary:</h3><br/><table class=\"wandb\"><tr><td>LG_NRMSE_BEST</td><td>1.93142</td></tr><tr><td>LG_NRMSE_MEAN</td><td>1.93142</td></tr><tr><td>Y_01_NRMSE</td><td>0.25392</td></tr><tr><td>Y_02_NRMSE</td><td>0.3522</td></tr><tr><td>Y_03_NRMSE</td><td>0.34555</td></tr><tr><td>Y_04_NRMSE</td><td>0.18842</td></tr><tr><td>Y_05_NRMSE</td><td>0.07919</td></tr><tr><td>Y_06_NRMSE</td><td>0.09522</td></tr><tr><td>Y_07_NRMSE</td><td>0.13028</td></tr><tr><td>Y_08_NRMSE</td><td>0.02437</td></tr><tr><td>Y_09_NRMSE</td><td>0.02408</td></tr><tr><td>Y_10_NRMSE</td><td>0.03803</td></tr><tr><td>Y_11_NRMSE</td><td>0.03372</td></tr><tr><td>Y_12_NRMSE</td><td>0.02424</td></tr><tr><td>Y_13_NRMSE</td><td>0.02419</td></tr><tr><td>Y_14_NRMSE</td><td>0.02418</td></tr></table><br/></div></div>"
      ],
      "text/plain": [
       "<IPython.core.display.HTML object>"
      ]
     },
     "metadata": {},
     "output_type": "display_data"
    },
    {
     "data": {
      "text/html": [
       "Synced <strong style=\"color:#cdcd00\">classic-sweep-67</strong>: <a href=\"https://wandb.ai/zbooster/Antenna_Outlier-1/runs/2vzsex1s\" target=\"_blank\">https://wandb.ai/zbooster/Antenna_Outlier-1/runs/2vzsex1s</a><br/>Synced 5 W&B file(s), 0 media file(s), 0 artifact file(s) and 0 other file(s)"
      ],
      "text/plain": [
       "<IPython.core.display.HTML object>"
      ]
     },
     "metadata": {},
     "output_type": "display_data"
    },
    {
     "data": {
      "text/html": [
       "Find logs at: <code>./wandb/run-20220817_071236-2vzsex1s/logs</code>"
      ],
      "text/plain": [
       "<IPython.core.display.HTML object>"
      ]
     },
     "metadata": {},
     "output_type": "display_data"
    },
    {
     "name": "stderr",
     "output_type": "stream",
     "text": [
      "\u001b[34m\u001b[1mwandb\u001b[0m: Agent Starting Run: t05wt1cw with config:\n",
      "\u001b[34m\u001b[1mwandb\u001b[0m: \tdrop_index: [70, 280, 6213, 13585, 37911]\n",
      "\u001b[34m\u001b[1mwandb\u001b[0m: \toutlier: 9377\n"
     ]
    },
    {
     "data": {
      "text/html": [
       "Tracking run with wandb version 0.13.1"
      ],
      "text/plain": [
       "<IPython.core.display.HTML object>"
      ]
     },
     "metadata": {},
     "output_type": "display_data"
    },
    {
     "data": {
      "text/html": [
       "Run data is saved locally in <code>/content/Antenna-Performance-Prediction/wandb/run-20220817_071324-t05wt1cw</code>"
      ],
      "text/plain": [
       "<IPython.core.display.HTML object>"
      ]
     },
     "metadata": {},
     "output_type": "display_data"
    },
    {
     "data": {
      "text/html": [
       "Syncing run <strong><a href=\"https://wandb.ai/zbooster/Antenna_Outlier-1/runs/t05wt1cw\" target=\"_blank\">neat-sweep-68</a></strong> to <a href=\"https://wandb.ai/zbooster/Antenna_Outlier-1\" target=\"_blank\">Weights & Biases</a> (<a href=\"https://wandb.me/run\" target=\"_blank\">docs</a>)<br/>Sweep page:  <a href=\"https://wandb.ai/zbooster/Antenna_Outlier-1/sweeps/nj4jorxe\" target=\"_blank\">https://wandb.ai/zbooster/Antenna_Outlier-1/sweeps/nj4jorxe</a>"
      ],
      "text/plain": [
       "<IPython.core.display.HTML object>"
      ]
     },
     "metadata": {},
     "output_type": "display_data"
    },
    {
     "data": {
      "text/html": [
       "Waiting for W&B process to finish... <strong style=\"color:green\">(success).</strong>"
      ],
      "text/plain": [
       "<IPython.core.display.HTML object>"
      ]
     },
     "metadata": {},
     "output_type": "display_data"
    },
    {
     "data": {
      "application/vnd.jupyter.widget-view+json": {
       "model_id": "50886146eb1f4e13b07427e0fefb41e2",
       "version_major": 2,
       "version_minor": 0
      },
      "text/plain": [
       "VBox(children=(Label(value='0.001 MB of 0.001 MB uploaded (0.000 MB deduped)\\r'), FloatProgress(value=1.0, max…"
      ]
     },
     "metadata": {},
     "output_type": "display_data"
    },
    {
     "data": {
      "text/html": [
       "<style>\n",
       "    table.wandb td:nth-child(1) { padding: 0 10px; text-align: left ; width: auto;} td:nth-child(2) {text-align: left ; width: 100%}\n",
       "    .wandb-row { display: flex; flex-direction: row; flex-wrap: wrap; justify-content: flex-start; width: 100% }\n",
       "    .wandb-col { display: flex; flex-direction: column; flex-basis: 100%; flex: 1; padding: 10px; }\n",
       "    </style>\n",
       "<div class=\"wandb-row\"><div class=\"wandb-col\"><h3>Run history:</h3><br/><table class=\"wandb\"><tr><td>LG_NRMSE_BEST</td><td>▁</td></tr><tr><td>LG_NRMSE_MEAN</td><td>▁</td></tr><tr><td>Y_01_NRMSE</td><td>▁</td></tr><tr><td>Y_02_NRMSE</td><td>▁</td></tr><tr><td>Y_03_NRMSE</td><td>▁</td></tr><tr><td>Y_04_NRMSE</td><td>▁</td></tr><tr><td>Y_05_NRMSE</td><td>▁</td></tr><tr><td>Y_06_NRMSE</td><td>▁</td></tr><tr><td>Y_07_NRMSE</td><td>▁</td></tr><tr><td>Y_08_NRMSE</td><td>▁</td></tr><tr><td>Y_09_NRMSE</td><td>▁</td></tr><tr><td>Y_10_NRMSE</td><td>▁</td></tr><tr><td>Y_11_NRMSE</td><td>▁</td></tr><tr><td>Y_12_NRMSE</td><td>▁</td></tr><tr><td>Y_13_NRMSE</td><td>▁</td></tr><tr><td>Y_14_NRMSE</td><td>▁</td></tr></table><br/></div><div class=\"wandb-col\"><h3>Run summary:</h3><br/><table class=\"wandb\"><tr><td>LG_NRMSE_BEST</td><td>1.9316</td></tr><tr><td>LG_NRMSE_MEAN</td><td>1.9316</td></tr><tr><td>Y_01_NRMSE</td><td>0.25394</td></tr><tr><td>Y_02_NRMSE</td><td>0.35228</td></tr><tr><td>Y_03_NRMSE</td><td>0.34558</td></tr><tr><td>Y_04_NRMSE</td><td>0.18846</td></tr><tr><td>Y_05_NRMSE</td><td>0.07915</td></tr><tr><td>Y_06_NRMSE</td><td>0.09521</td></tr><tr><td>Y_07_NRMSE</td><td>0.13025</td></tr><tr><td>Y_08_NRMSE</td><td>0.02437</td></tr><tr><td>Y_09_NRMSE</td><td>0.02409</td></tr><tr><td>Y_10_NRMSE</td><td>0.03803</td></tr><tr><td>Y_11_NRMSE</td><td>0.03374</td></tr><tr><td>Y_12_NRMSE</td><td>0.02425</td></tr><tr><td>Y_13_NRMSE</td><td>0.0242</td></tr><tr><td>Y_14_NRMSE</td><td>0.02419</td></tr></table><br/></div></div>"
      ],
      "text/plain": [
       "<IPython.core.display.HTML object>"
      ]
     },
     "metadata": {},
     "output_type": "display_data"
    },
    {
     "data": {
      "text/html": [
       "Synced <strong style=\"color:#cdcd00\">neat-sweep-68</strong>: <a href=\"https://wandb.ai/zbooster/Antenna_Outlier-1/runs/t05wt1cw\" target=\"_blank\">https://wandb.ai/zbooster/Antenna_Outlier-1/runs/t05wt1cw</a><br/>Synced 5 W&B file(s), 0 media file(s), 0 artifact file(s) and 0 other file(s)"
      ],
      "text/plain": [
       "<IPython.core.display.HTML object>"
      ]
     },
     "metadata": {},
     "output_type": "display_data"
    },
    {
     "data": {
      "text/html": [
       "Find logs at: <code>./wandb/run-20220817_071324-t05wt1cw/logs</code>"
      ],
      "text/plain": [
       "<IPython.core.display.HTML object>"
      ]
     },
     "metadata": {},
     "output_type": "display_data"
    },
    {
     "name": "stderr",
     "output_type": "stream",
     "text": [
      "\u001b[34m\u001b[1mwandb\u001b[0m: Sweep Agent: Waiting for job.\n",
      "\u001b[34m\u001b[1mwandb\u001b[0m: Job received.\n",
      "\u001b[34m\u001b[1mwandb\u001b[0m: Agent Starting Run: 7t4qi72h with config:\n",
      "\u001b[34m\u001b[1mwandb\u001b[0m: \tdrop_index: [70, 280, 6213, 13585, 37911]\n",
      "\u001b[34m\u001b[1mwandb\u001b[0m: \toutlier: 9427\n"
     ]
    },
    {
     "data": {
      "text/html": [
       "Tracking run with wandb version 0.13.1"
      ],
      "text/plain": [
       "<IPython.core.display.HTML object>"
      ]
     },
     "metadata": {},
     "output_type": "display_data"
    },
    {
     "data": {
      "text/html": [
       "Run data is saved locally in <code>/content/Antenna-Performance-Prediction/wandb/run-20220817_071416-7t4qi72h</code>"
      ],
      "text/plain": [
       "<IPython.core.display.HTML object>"
      ]
     },
     "metadata": {},
     "output_type": "display_data"
    },
    {
     "data": {
      "text/html": [
       "Syncing run <strong><a href=\"https://wandb.ai/zbooster/Antenna_Outlier-1/runs/7t4qi72h\" target=\"_blank\">magic-sweep-69</a></strong> to <a href=\"https://wandb.ai/zbooster/Antenna_Outlier-1\" target=\"_blank\">Weights & Biases</a> (<a href=\"https://wandb.me/run\" target=\"_blank\">docs</a>)<br/>Sweep page:  <a href=\"https://wandb.ai/zbooster/Antenna_Outlier-1/sweeps/nj4jorxe\" target=\"_blank\">https://wandb.ai/zbooster/Antenna_Outlier-1/sweeps/nj4jorxe</a>"
      ],
      "text/plain": [
       "<IPython.core.display.HTML object>"
      ]
     },
     "metadata": {},
     "output_type": "display_data"
    },
    {
     "data": {
      "text/html": [
       "Waiting for W&B process to finish... <strong style=\"color:green\">(success).</strong>"
      ],
      "text/plain": [
       "<IPython.core.display.HTML object>"
      ]
     },
     "metadata": {},
     "output_type": "display_data"
    },
    {
     "data": {
      "application/vnd.jupyter.widget-view+json": {
       "model_id": "61c962364349413ab3397a39f5686103",
       "version_major": 2,
       "version_minor": 0
      },
      "text/plain": [
       "VBox(children=(Label(value='0.001 MB of 0.001 MB uploaded (0.000 MB deduped)\\r'), FloatProgress(value=1.0, max…"
      ]
     },
     "metadata": {},
     "output_type": "display_data"
    },
    {
     "data": {
      "text/html": [
       "<style>\n",
       "    table.wandb td:nth-child(1) { padding: 0 10px; text-align: left ; width: auto;} td:nth-child(2) {text-align: left ; width: 100%}\n",
       "    .wandb-row { display: flex; flex-direction: row; flex-wrap: wrap; justify-content: flex-start; width: 100% }\n",
       "    .wandb-col { display: flex; flex-direction: column; flex-basis: 100%; flex: 1; padding: 10px; }\n",
       "    </style>\n",
       "<div class=\"wandb-row\"><div class=\"wandb-col\"><h3>Run history:</h3><br/><table class=\"wandb\"><tr><td>LG_NRMSE_BEST</td><td>▁</td></tr><tr><td>LG_NRMSE_MEAN</td><td>▁</td></tr><tr><td>Y_01_NRMSE</td><td>▁</td></tr><tr><td>Y_02_NRMSE</td><td>▁</td></tr><tr><td>Y_03_NRMSE</td><td>▁</td></tr><tr><td>Y_04_NRMSE</td><td>▁</td></tr><tr><td>Y_05_NRMSE</td><td>▁</td></tr><tr><td>Y_06_NRMSE</td><td>▁</td></tr><tr><td>Y_07_NRMSE</td><td>▁</td></tr><tr><td>Y_08_NRMSE</td><td>▁</td></tr><tr><td>Y_09_NRMSE</td><td>▁</td></tr><tr><td>Y_10_NRMSE</td><td>▁</td></tr><tr><td>Y_11_NRMSE</td><td>▁</td></tr><tr><td>Y_12_NRMSE</td><td>▁</td></tr><tr><td>Y_13_NRMSE</td><td>▁</td></tr><tr><td>Y_14_NRMSE</td><td>▁</td></tr></table><br/></div><div class=\"wandb-col\"><h3>Run summary:</h3><br/><table class=\"wandb\"><tr><td>LG_NRMSE_BEST</td><td>1.93233</td></tr><tr><td>LG_NRMSE_MEAN</td><td>1.93233</td></tr><tr><td>Y_01_NRMSE</td><td>0.25401</td></tr><tr><td>Y_02_NRMSE</td><td>0.35238</td></tr><tr><td>Y_03_NRMSE</td><td>0.34566</td></tr><tr><td>Y_04_NRMSE</td><td>0.18851</td></tr><tr><td>Y_05_NRMSE</td><td>0.07917</td></tr><tr><td>Y_06_NRMSE</td><td>0.09533</td></tr><tr><td>Y_07_NRMSE</td><td>0.13031</td></tr><tr><td>Y_08_NRMSE</td><td>0.0244</td></tr><tr><td>Y_09_NRMSE</td><td>0.02411</td></tr><tr><td>Y_10_NRMSE</td><td>0.03807</td></tr><tr><td>Y_11_NRMSE</td><td>0.03375</td></tr><tr><td>Y_12_NRMSE</td><td>0.02426</td></tr><tr><td>Y_13_NRMSE</td><td>0.02421</td></tr><tr><td>Y_14_NRMSE</td><td>0.0242</td></tr></table><br/></div></div>"
      ],
      "text/plain": [
       "<IPython.core.display.HTML object>"
      ]
     },
     "metadata": {},
     "output_type": "display_data"
    },
    {
     "data": {
      "text/html": [
       "Synced <strong style=\"color:#cdcd00\">magic-sweep-69</strong>: <a href=\"https://wandb.ai/zbooster/Antenna_Outlier-1/runs/7t4qi72h\" target=\"_blank\">https://wandb.ai/zbooster/Antenna_Outlier-1/runs/7t4qi72h</a><br/>Synced 5 W&B file(s), 0 media file(s), 0 artifact file(s) and 0 other file(s)"
      ],
      "text/plain": [
       "<IPython.core.display.HTML object>"
      ]
     },
     "metadata": {},
     "output_type": "display_data"
    },
    {
     "data": {
      "text/html": [
       "Find logs at: <code>./wandb/run-20220817_071416-7t4qi72h/logs</code>"
      ],
      "text/plain": [
       "<IPython.core.display.HTML object>"
      ]
     },
     "metadata": {},
     "output_type": "display_data"
    },
    {
     "name": "stderr",
     "output_type": "stream",
     "text": [
      "\u001b[34m\u001b[1mwandb\u001b[0m: Agent Starting Run: f52x13fk with config:\n",
      "\u001b[34m\u001b[1mwandb\u001b[0m: \tdrop_index: [70, 280, 6213, 13585, 37911]\n",
      "\u001b[34m\u001b[1mwandb\u001b[0m: \toutlier: 9584\n"
     ]
    },
    {
     "data": {
      "text/html": [
       "Tracking run with wandb version 0.13.1"
      ],
      "text/plain": [
       "<IPython.core.display.HTML object>"
      ]
     },
     "metadata": {},
     "output_type": "display_data"
    },
    {
     "data": {
      "text/html": [
       "Run data is saved locally in <code>/content/Antenna-Performance-Prediction/wandb/run-20220817_071500-f52x13fk</code>"
      ],
      "text/plain": [
       "<IPython.core.display.HTML object>"
      ]
     },
     "metadata": {},
     "output_type": "display_data"
    },
    {
     "data": {
      "text/html": [
       "Syncing run <strong><a href=\"https://wandb.ai/zbooster/Antenna_Outlier-1/runs/f52x13fk\" target=\"_blank\">silver-sweep-70</a></strong> to <a href=\"https://wandb.ai/zbooster/Antenna_Outlier-1\" target=\"_blank\">Weights & Biases</a> (<a href=\"https://wandb.me/run\" target=\"_blank\">docs</a>)<br/>Sweep page:  <a href=\"https://wandb.ai/zbooster/Antenna_Outlier-1/sweeps/nj4jorxe\" target=\"_blank\">https://wandb.ai/zbooster/Antenna_Outlier-1/sweeps/nj4jorxe</a>"
      ],
      "text/plain": [
       "<IPython.core.display.HTML object>"
      ]
     },
     "metadata": {},
     "output_type": "display_data"
    },
    {
     "data": {
      "text/html": [
       "Waiting for W&B process to finish... <strong style=\"color:green\">(success).</strong>"
      ],
      "text/plain": [
       "<IPython.core.display.HTML object>"
      ]
     },
     "metadata": {},
     "output_type": "display_data"
    },
    {
     "data": {
      "application/vnd.jupyter.widget-view+json": {
       "model_id": "f33706b42bd54681abb3fbcd46bcf607",
       "version_major": 2,
       "version_minor": 0
      },
      "text/plain": [
       "VBox(children=(Label(value='0.001 MB of 0.001 MB uploaded (0.000 MB deduped)\\r'), FloatProgress(value=1.0, max…"
      ]
     },
     "metadata": {},
     "output_type": "display_data"
    },
    {
     "data": {
      "text/html": [
       "<style>\n",
       "    table.wandb td:nth-child(1) { padding: 0 10px; text-align: left ; width: auto;} td:nth-child(2) {text-align: left ; width: 100%}\n",
       "    .wandb-row { display: flex; flex-direction: row; flex-wrap: wrap; justify-content: flex-start; width: 100% }\n",
       "    .wandb-col { display: flex; flex-direction: column; flex-basis: 100%; flex: 1; padding: 10px; }\n",
       "    </style>\n",
       "<div class=\"wandb-row\"><div class=\"wandb-col\"><h3>Run history:</h3><br/><table class=\"wandb\"><tr><td>LG_NRMSE_BEST</td><td>▁</td></tr><tr><td>LG_NRMSE_MEAN</td><td>▁</td></tr><tr><td>Y_01_NRMSE</td><td>▁</td></tr><tr><td>Y_02_NRMSE</td><td>▁</td></tr><tr><td>Y_03_NRMSE</td><td>▁</td></tr><tr><td>Y_04_NRMSE</td><td>▁</td></tr><tr><td>Y_05_NRMSE</td><td>▁</td></tr><tr><td>Y_06_NRMSE</td><td>▁</td></tr><tr><td>Y_07_NRMSE</td><td>▁</td></tr><tr><td>Y_08_NRMSE</td><td>▁</td></tr><tr><td>Y_09_NRMSE</td><td>▁</td></tr><tr><td>Y_10_NRMSE</td><td>▁</td></tr><tr><td>Y_11_NRMSE</td><td>▁</td></tr><tr><td>Y_12_NRMSE</td><td>▁</td></tr><tr><td>Y_13_NRMSE</td><td>▁</td></tr><tr><td>Y_14_NRMSE</td><td>▁</td></tr></table><br/></div><div class=\"wandb-col\"><h3>Run summary:</h3><br/><table class=\"wandb\"><tr><td>LG_NRMSE_BEST</td><td>1.93217</td></tr><tr><td>LG_NRMSE_MEAN</td><td>1.93217</td></tr><tr><td>Y_01_NRMSE</td><td>0.25401</td></tr><tr><td>Y_02_NRMSE</td><td>0.35258</td></tr><tr><td>Y_03_NRMSE</td><td>0.34562</td></tr><tr><td>Y_04_NRMSE</td><td>0.1886</td></tr><tr><td>Y_05_NRMSE</td><td>0.07918</td></tr><tr><td>Y_06_NRMSE</td><td>0.09514</td></tr><tr><td>Y_07_NRMSE</td><td>0.1302</td></tr><tr><td>Y_08_NRMSE</td><td>0.02438</td></tr><tr><td>Y_09_NRMSE</td><td>0.02408</td></tr><tr><td>Y_10_NRMSE</td><td>0.03808</td></tr><tr><td>Y_11_NRMSE</td><td>0.03377</td></tr><tr><td>Y_12_NRMSE</td><td>0.02424</td></tr><tr><td>Y_13_NRMSE</td><td>0.02419</td></tr><tr><td>Y_14_NRMSE</td><td>0.02418</td></tr></table><br/></div></div>"
      ],
      "text/plain": [
       "<IPython.core.display.HTML object>"
      ]
     },
     "metadata": {},
     "output_type": "display_data"
    },
    {
     "data": {
      "text/html": [
       "Synced <strong style=\"color:#cdcd00\">silver-sweep-70</strong>: <a href=\"https://wandb.ai/zbooster/Antenna_Outlier-1/runs/f52x13fk\" target=\"_blank\">https://wandb.ai/zbooster/Antenna_Outlier-1/runs/f52x13fk</a><br/>Synced 5 W&B file(s), 0 media file(s), 0 artifact file(s) and 0 other file(s)"
      ],
      "text/plain": [
       "<IPython.core.display.HTML object>"
      ]
     },
     "metadata": {},
     "output_type": "display_data"
    },
    {
     "data": {
      "text/html": [
       "Find logs at: <code>./wandb/run-20220817_071500-f52x13fk/logs</code>"
      ],
      "text/plain": [
       "<IPython.core.display.HTML object>"
      ]
     },
     "metadata": {},
     "output_type": "display_data"
    },
    {
     "name": "stderr",
     "output_type": "stream",
     "text": [
      "\u001b[34m\u001b[1mwandb\u001b[0m: Agent Starting Run: xzs2os80 with config:\n",
      "\u001b[34m\u001b[1mwandb\u001b[0m: \tdrop_index: [70, 280, 6213, 13585, 37911]\n",
      "\u001b[34m\u001b[1mwandb\u001b[0m: \toutlier: 9749\n"
     ]
    },
    {
     "data": {
      "text/html": [
       "Tracking run with wandb version 0.13.1"
      ],
      "text/plain": [
       "<IPython.core.display.HTML object>"
      ]
     },
     "metadata": {},
     "output_type": "display_data"
    },
    {
     "data": {
      "text/html": [
       "Run data is saved locally in <code>/content/Antenna-Performance-Prediction/wandb/run-20220817_071542-xzs2os80</code>"
      ],
      "text/plain": [
       "<IPython.core.display.HTML object>"
      ]
     },
     "metadata": {},
     "output_type": "display_data"
    },
    {
     "data": {
      "text/html": [
       "Syncing run <strong><a href=\"https://wandb.ai/zbooster/Antenna_Outlier-1/runs/xzs2os80\" target=\"_blank\">dazzling-sweep-71</a></strong> to <a href=\"https://wandb.ai/zbooster/Antenna_Outlier-1\" target=\"_blank\">Weights & Biases</a> (<a href=\"https://wandb.me/run\" target=\"_blank\">docs</a>)<br/>Sweep page:  <a href=\"https://wandb.ai/zbooster/Antenna_Outlier-1/sweeps/nj4jorxe\" target=\"_blank\">https://wandb.ai/zbooster/Antenna_Outlier-1/sweeps/nj4jorxe</a>"
      ],
      "text/plain": [
       "<IPython.core.display.HTML object>"
      ]
     },
     "metadata": {},
     "output_type": "display_data"
    },
    {
     "data": {
      "text/html": [
       "Waiting for W&B process to finish... <strong style=\"color:green\">(success).</strong>"
      ],
      "text/plain": [
       "<IPython.core.display.HTML object>"
      ]
     },
     "metadata": {},
     "output_type": "display_data"
    },
    {
     "data": {
      "application/vnd.jupyter.widget-view+json": {
       "model_id": "3aa9000c74dd45ddbbea03e656f8e897",
       "version_major": 2,
       "version_minor": 0
      },
      "text/plain": [
       "VBox(children=(Label(value='0.001 MB of 0.001 MB uploaded (0.000 MB deduped)\\r'), FloatProgress(value=1.0, max…"
      ]
     },
     "metadata": {},
     "output_type": "display_data"
    },
    {
     "data": {
      "text/html": [
       "<style>\n",
       "    table.wandb td:nth-child(1) { padding: 0 10px; text-align: left ; width: auto;} td:nth-child(2) {text-align: left ; width: 100%}\n",
       "    .wandb-row { display: flex; flex-direction: row; flex-wrap: wrap; justify-content: flex-start; width: 100% }\n",
       "    .wandb-col { display: flex; flex-direction: column; flex-basis: 100%; flex: 1; padding: 10px; }\n",
       "    </style>\n",
       "<div class=\"wandb-row\"><div class=\"wandb-col\"><h3>Run history:</h3><br/><table class=\"wandb\"><tr><td>LG_NRMSE_BEST</td><td>▁</td></tr><tr><td>LG_NRMSE_MEAN</td><td>▁</td></tr><tr><td>Y_01_NRMSE</td><td>▁</td></tr><tr><td>Y_02_NRMSE</td><td>▁</td></tr><tr><td>Y_03_NRMSE</td><td>▁</td></tr><tr><td>Y_04_NRMSE</td><td>▁</td></tr><tr><td>Y_05_NRMSE</td><td>▁</td></tr><tr><td>Y_06_NRMSE</td><td>▁</td></tr><tr><td>Y_07_NRMSE</td><td>▁</td></tr><tr><td>Y_08_NRMSE</td><td>▁</td></tr><tr><td>Y_09_NRMSE</td><td>▁</td></tr><tr><td>Y_10_NRMSE</td><td>▁</td></tr><tr><td>Y_11_NRMSE</td><td>▁</td></tr><tr><td>Y_12_NRMSE</td><td>▁</td></tr><tr><td>Y_13_NRMSE</td><td>▁</td></tr><tr><td>Y_14_NRMSE</td><td>▁</td></tr></table><br/></div><div class=\"wandb-col\"><h3>Run summary:</h3><br/><table class=\"wandb\"><tr><td>LG_NRMSE_BEST</td><td>1.93258</td></tr><tr><td>LG_NRMSE_MEAN</td><td>1.93258</td></tr><tr><td>Y_01_NRMSE</td><td>0.25422</td></tr><tr><td>Y_02_NRMSE</td><td>0.35271</td></tr><tr><td>Y_03_NRMSE</td><td>0.34589</td></tr><tr><td>Y_04_NRMSE</td><td>0.18876</td></tr><tr><td>Y_05_NRMSE</td><td>0.07926</td></tr><tr><td>Y_06_NRMSE</td><td>0.09476</td></tr><tr><td>Y_07_NRMSE</td><td>0.13022</td></tr><tr><td>Y_08_NRMSE</td><td>0.02436</td></tr><tr><td>Y_09_NRMSE</td><td>0.02406</td></tr><tr><td>Y_10_NRMSE</td><td>0.03801</td></tr><tr><td>Y_11_NRMSE</td><td>0.03376</td></tr><tr><td>Y_12_NRMSE</td><td>0.02422</td></tr><tr><td>Y_13_NRMSE</td><td>0.02418</td></tr><tr><td>Y_14_NRMSE</td><td>0.02415</td></tr></table><br/></div></div>"
      ],
      "text/plain": [
       "<IPython.core.display.HTML object>"
      ]
     },
     "metadata": {},
     "output_type": "display_data"
    },
    {
     "data": {
      "text/html": [
       "Synced <strong style=\"color:#cdcd00\">dazzling-sweep-71</strong>: <a href=\"https://wandb.ai/zbooster/Antenna_Outlier-1/runs/xzs2os80\" target=\"_blank\">https://wandb.ai/zbooster/Antenna_Outlier-1/runs/xzs2os80</a><br/>Synced 5 W&B file(s), 0 media file(s), 0 artifact file(s) and 0 other file(s)"
      ],
      "text/plain": [
       "<IPython.core.display.HTML object>"
      ]
     },
     "metadata": {},
     "output_type": "display_data"
    },
    {
     "data": {
      "text/html": [
       "Find logs at: <code>./wandb/run-20220817_071542-xzs2os80/logs</code>"
      ],
      "text/plain": [
       "<IPython.core.display.HTML object>"
      ]
     },
     "metadata": {},
     "output_type": "display_data"
    },
    {
     "name": "stderr",
     "output_type": "stream",
     "text": [
      "\u001b[34m\u001b[1mwandb\u001b[0m: Sweep Agent: Waiting for job.\n",
      "\u001b[34m\u001b[1mwandb\u001b[0m: Job received.\n",
      "\u001b[34m\u001b[1mwandb\u001b[0m: Agent Starting Run: rdpz9w3d with config:\n",
      "\u001b[34m\u001b[1mwandb\u001b[0m: \tdrop_index: [70, 280, 6213, 13585, 37911]\n",
      "\u001b[34m\u001b[1mwandb\u001b[0m: \toutlier: 9775\n"
     ]
    },
    {
     "data": {
      "text/html": [
       "Tracking run with wandb version 0.13.1"
      ],
      "text/plain": [
       "<IPython.core.display.HTML object>"
      ]
     },
     "metadata": {},
     "output_type": "display_data"
    },
    {
     "data": {
      "text/html": [
       "Run data is saved locally in <code>/content/Antenna-Performance-Prediction/wandb/run-20220817_071634-rdpz9w3d</code>"
      ],
      "text/plain": [
       "<IPython.core.display.HTML object>"
      ]
     },
     "metadata": {},
     "output_type": "display_data"
    },
    {
     "data": {
      "text/html": [
       "Syncing run <strong><a href=\"https://wandb.ai/zbooster/Antenna_Outlier-1/runs/rdpz9w3d\" target=\"_blank\">eternal-sweep-72</a></strong> to <a href=\"https://wandb.ai/zbooster/Antenna_Outlier-1\" target=\"_blank\">Weights & Biases</a> (<a href=\"https://wandb.me/run\" target=\"_blank\">docs</a>)<br/>Sweep page:  <a href=\"https://wandb.ai/zbooster/Antenna_Outlier-1/sweeps/nj4jorxe\" target=\"_blank\">https://wandb.ai/zbooster/Antenna_Outlier-1/sweeps/nj4jorxe</a>"
      ],
      "text/plain": [
       "<IPython.core.display.HTML object>"
      ]
     },
     "metadata": {},
     "output_type": "display_data"
    },
    {
     "data": {
      "text/html": [
       "Waiting for W&B process to finish... <strong style=\"color:green\">(success).</strong>"
      ],
      "text/plain": [
       "<IPython.core.display.HTML object>"
      ]
     },
     "metadata": {},
     "output_type": "display_data"
    },
    {
     "data": {
      "application/vnd.jupyter.widget-view+json": {
       "model_id": "094e56033e7a4d479544d2f988234948",
       "version_major": 2,
       "version_minor": 0
      },
      "text/plain": [
       "VBox(children=(Label(value='0.001 MB of 0.001 MB uploaded (0.000 MB deduped)\\r'), FloatProgress(value=1.0, max…"
      ]
     },
     "metadata": {},
     "output_type": "display_data"
    },
    {
     "data": {
      "text/html": [
       "<style>\n",
       "    table.wandb td:nth-child(1) { padding: 0 10px; text-align: left ; width: auto;} td:nth-child(2) {text-align: left ; width: 100%}\n",
       "    .wandb-row { display: flex; flex-direction: row; flex-wrap: wrap; justify-content: flex-start; width: 100% }\n",
       "    .wandb-col { display: flex; flex-direction: column; flex-basis: 100%; flex: 1; padding: 10px; }\n",
       "    </style>\n",
       "<div class=\"wandb-row\"><div class=\"wandb-col\"><h3>Run history:</h3><br/><table class=\"wandb\"><tr><td>LG_NRMSE_BEST</td><td>▁</td></tr><tr><td>LG_NRMSE_MEAN</td><td>▁</td></tr><tr><td>Y_01_NRMSE</td><td>▁</td></tr><tr><td>Y_02_NRMSE</td><td>▁</td></tr><tr><td>Y_03_NRMSE</td><td>▁</td></tr><tr><td>Y_04_NRMSE</td><td>▁</td></tr><tr><td>Y_05_NRMSE</td><td>▁</td></tr><tr><td>Y_06_NRMSE</td><td>▁</td></tr><tr><td>Y_07_NRMSE</td><td>▁</td></tr><tr><td>Y_08_NRMSE</td><td>▁</td></tr><tr><td>Y_09_NRMSE</td><td>▁</td></tr><tr><td>Y_10_NRMSE</td><td>▁</td></tr><tr><td>Y_11_NRMSE</td><td>▁</td></tr><tr><td>Y_12_NRMSE</td><td>▁</td></tr><tr><td>Y_13_NRMSE</td><td>▁</td></tr><tr><td>Y_14_NRMSE</td><td>▁</td></tr></table><br/></div><div class=\"wandb-col\"><h3>Run summary:</h3><br/><table class=\"wandb\"><tr><td>LG_NRMSE_BEST</td><td>1.93249</td></tr><tr><td>LG_NRMSE_MEAN</td><td>1.93249</td></tr><tr><td>Y_01_NRMSE</td><td>0.25423</td></tr><tr><td>Y_02_NRMSE</td><td>0.35254</td></tr><tr><td>Y_03_NRMSE</td><td>0.34591</td></tr><tr><td>Y_04_NRMSE</td><td>0.18871</td></tr><tr><td>Y_05_NRMSE</td><td>0.0792</td></tr><tr><td>Y_06_NRMSE</td><td>0.09504</td></tr><tr><td>Y_07_NRMSE</td><td>0.1301</td></tr><tr><td>Y_08_NRMSE</td><td>0.02437</td></tr><tr><td>Y_09_NRMSE</td><td>0.02406</td></tr><tr><td>Y_10_NRMSE</td><td>0.03802</td></tr><tr><td>Y_11_NRMSE</td><td>0.03373</td></tr><tr><td>Y_12_NRMSE</td><td>0.02423</td></tr><tr><td>Y_13_NRMSE</td><td>0.02418</td></tr><tr><td>Y_14_NRMSE</td><td>0.02416</td></tr></table><br/></div></div>"
      ],
      "text/plain": [
       "<IPython.core.display.HTML object>"
      ]
     },
     "metadata": {},
     "output_type": "display_data"
    },
    {
     "data": {
      "text/html": [
       "Synced <strong style=\"color:#cdcd00\">eternal-sweep-72</strong>: <a href=\"https://wandb.ai/zbooster/Antenna_Outlier-1/runs/rdpz9w3d\" target=\"_blank\">https://wandb.ai/zbooster/Antenna_Outlier-1/runs/rdpz9w3d</a><br/>Synced 5 W&B file(s), 0 media file(s), 0 artifact file(s) and 0 other file(s)"
      ],
      "text/plain": [
       "<IPython.core.display.HTML object>"
      ]
     },
     "metadata": {},
     "output_type": "display_data"
    },
    {
     "data": {
      "text/html": [
       "Find logs at: <code>./wandb/run-20220817_071634-rdpz9w3d/logs</code>"
      ],
      "text/plain": [
       "<IPython.core.display.HTML object>"
      ]
     },
     "metadata": {},
     "output_type": "display_data"
    },
    {
     "name": "stderr",
     "output_type": "stream",
     "text": [
      "\u001b[34m\u001b[1mwandb\u001b[0m: Agent Starting Run: 1pelft2u with config:\n",
      "\u001b[34m\u001b[1mwandb\u001b[0m: \tdrop_index: [70, 280, 6213, 13585, 37911]\n",
      "\u001b[34m\u001b[1mwandb\u001b[0m: \toutlier: 10615\n"
     ]
    },
    {
     "data": {
      "text/html": [
       "Tracking run with wandb version 0.13.1"
      ],
      "text/plain": [
       "<IPython.core.display.HTML object>"
      ]
     },
     "metadata": {},
     "output_type": "display_data"
    },
    {
     "data": {
      "text/html": [
       "Run data is saved locally in <code>/content/Antenna-Performance-Prediction/wandb/run-20220817_071717-1pelft2u</code>"
      ],
      "text/plain": [
       "<IPython.core.display.HTML object>"
      ]
     },
     "metadata": {},
     "output_type": "display_data"
    },
    {
     "data": {
      "text/html": [
       "Syncing run <strong><a href=\"https://wandb.ai/zbooster/Antenna_Outlier-1/runs/1pelft2u\" target=\"_blank\">wise-sweep-73</a></strong> to <a href=\"https://wandb.ai/zbooster/Antenna_Outlier-1\" target=\"_blank\">Weights & Biases</a> (<a href=\"https://wandb.me/run\" target=\"_blank\">docs</a>)<br/>Sweep page:  <a href=\"https://wandb.ai/zbooster/Antenna_Outlier-1/sweeps/nj4jorxe\" target=\"_blank\">https://wandb.ai/zbooster/Antenna_Outlier-1/sweeps/nj4jorxe</a>"
      ],
      "text/plain": [
       "<IPython.core.display.HTML object>"
      ]
     },
     "metadata": {},
     "output_type": "display_data"
    },
    {
     "data": {
      "text/html": [
       "Waiting for W&B process to finish... <strong style=\"color:green\">(success).</strong>"
      ],
      "text/plain": [
       "<IPython.core.display.HTML object>"
      ]
     },
     "metadata": {},
     "output_type": "display_data"
    },
    {
     "data": {
      "application/vnd.jupyter.widget-view+json": {
       "model_id": "6b059c44adfa45d585f89699e49bd92a",
       "version_major": 2,
       "version_minor": 0
      },
      "text/plain": [
       "VBox(children=(Label(value='0.001 MB of 0.001 MB uploaded (0.000 MB deduped)\\r'), FloatProgress(value=1.0, max…"
      ]
     },
     "metadata": {},
     "output_type": "display_data"
    },
    {
     "data": {
      "text/html": [
       "<style>\n",
       "    table.wandb td:nth-child(1) { padding: 0 10px; text-align: left ; width: auto;} td:nth-child(2) {text-align: left ; width: 100%}\n",
       "    .wandb-row { display: flex; flex-direction: row; flex-wrap: wrap; justify-content: flex-start; width: 100% }\n",
       "    .wandb-col { display: flex; flex-direction: column; flex-basis: 100%; flex: 1; padding: 10px; }\n",
       "    </style>\n",
       "<div class=\"wandb-row\"><div class=\"wandb-col\"><h3>Run history:</h3><br/><table class=\"wandb\"><tr><td>LG_NRMSE_BEST</td><td>▁</td></tr><tr><td>LG_NRMSE_MEAN</td><td>▁</td></tr><tr><td>Y_01_NRMSE</td><td>▁</td></tr><tr><td>Y_02_NRMSE</td><td>▁</td></tr><tr><td>Y_03_NRMSE</td><td>▁</td></tr><tr><td>Y_04_NRMSE</td><td>▁</td></tr><tr><td>Y_05_NRMSE</td><td>▁</td></tr><tr><td>Y_06_NRMSE</td><td>▁</td></tr><tr><td>Y_07_NRMSE</td><td>▁</td></tr><tr><td>Y_08_NRMSE</td><td>▁</td></tr><tr><td>Y_09_NRMSE</td><td>▁</td></tr><tr><td>Y_10_NRMSE</td><td>▁</td></tr><tr><td>Y_11_NRMSE</td><td>▁</td></tr><tr><td>Y_12_NRMSE</td><td>▁</td></tr><tr><td>Y_13_NRMSE</td><td>▁</td></tr><tr><td>Y_14_NRMSE</td><td>▁</td></tr></table><br/></div><div class=\"wandb-col\"><h3>Run summary:</h3><br/><table class=\"wandb\"><tr><td>LG_NRMSE_BEST</td><td>1.93345</td></tr><tr><td>LG_NRMSE_MEAN</td><td>1.93345</td></tr><tr><td>Y_01_NRMSE</td><td>0.2546</td></tr><tr><td>Y_02_NRMSE</td><td>0.35253</td></tr><tr><td>Y_03_NRMSE</td><td>0.34598</td></tr><tr><td>Y_04_NRMSE</td><td>0.18904</td></tr><tr><td>Y_05_NRMSE</td><td>0.07917</td></tr><tr><td>Y_06_NRMSE</td><td>0.09472</td></tr><tr><td>Y_07_NRMSE</td><td>0.1305</td></tr><tr><td>Y_08_NRMSE</td><td>0.02437</td></tr><tr><td>Y_09_NRMSE</td><td>0.02408</td></tr><tr><td>Y_10_NRMSE</td><td>0.038</td></tr><tr><td>Y_11_NRMSE</td><td>0.03372</td></tr><tr><td>Y_12_NRMSE</td><td>0.02422</td></tr><tr><td>Y_13_NRMSE</td><td>0.02416</td></tr><tr><td>Y_14_NRMSE</td><td>0.02417</td></tr></table><br/></div></div>"
      ],
      "text/plain": [
       "<IPython.core.display.HTML object>"
      ]
     },
     "metadata": {},
     "output_type": "display_data"
    },
    {
     "data": {
      "text/html": [
       "Synced <strong style=\"color:#cdcd00\">wise-sweep-73</strong>: <a href=\"https://wandb.ai/zbooster/Antenna_Outlier-1/runs/1pelft2u\" target=\"_blank\">https://wandb.ai/zbooster/Antenna_Outlier-1/runs/1pelft2u</a><br/>Synced 5 W&B file(s), 0 media file(s), 0 artifact file(s) and 0 other file(s)"
      ],
      "text/plain": [
       "<IPython.core.display.HTML object>"
      ]
     },
     "metadata": {},
     "output_type": "display_data"
    },
    {
     "data": {
      "text/html": [
       "Find logs at: <code>./wandb/run-20220817_071717-1pelft2u/logs</code>"
      ],
      "text/plain": [
       "<IPython.core.display.HTML object>"
      ]
     },
     "metadata": {},
     "output_type": "display_data"
    },
    {
     "name": "stderr",
     "output_type": "stream",
     "text": [
      "\u001b[34m\u001b[1mwandb\u001b[0m: Agent Starting Run: 4hgsi2wl with config:\n",
      "\u001b[34m\u001b[1mwandb\u001b[0m: \tdrop_index: [70, 280, 6213, 13585, 37911]\n",
      "\u001b[34m\u001b[1mwandb\u001b[0m: \toutlier: 11617\n"
     ]
    },
    {
     "data": {
      "text/html": [
       "Tracking run with wandb version 0.13.1"
      ],
      "text/plain": [
       "<IPython.core.display.HTML object>"
      ]
     },
     "metadata": {},
     "output_type": "display_data"
    },
    {
     "data": {
      "text/html": [
       "Run data is saved locally in <code>/content/Antenna-Performance-Prediction/wandb/run-20220817_071804-4hgsi2wl</code>"
      ],
      "text/plain": [
       "<IPython.core.display.HTML object>"
      ]
     },
     "metadata": {},
     "output_type": "display_data"
    },
    {
     "data": {
      "text/html": [
       "Syncing run <strong><a href=\"https://wandb.ai/zbooster/Antenna_Outlier-1/runs/4hgsi2wl\" target=\"_blank\">exalted-sweep-74</a></strong> to <a href=\"https://wandb.ai/zbooster/Antenna_Outlier-1\" target=\"_blank\">Weights & Biases</a> (<a href=\"https://wandb.me/run\" target=\"_blank\">docs</a>)<br/>Sweep page:  <a href=\"https://wandb.ai/zbooster/Antenna_Outlier-1/sweeps/nj4jorxe\" target=\"_blank\">https://wandb.ai/zbooster/Antenna_Outlier-1/sweeps/nj4jorxe</a>"
      ],
      "text/plain": [
       "<IPython.core.display.HTML object>"
      ]
     },
     "metadata": {},
     "output_type": "display_data"
    },
    {
     "data": {
      "text/html": [
       "Waiting for W&B process to finish... <strong style=\"color:green\">(success).</strong>"
      ],
      "text/plain": [
       "<IPython.core.display.HTML object>"
      ]
     },
     "metadata": {},
     "output_type": "display_data"
    },
    {
     "data": {
      "application/vnd.jupyter.widget-view+json": {
       "model_id": "d7d8727b4fc6454c8438061d6ce4efc3",
       "version_major": 2,
       "version_minor": 0
      },
      "text/plain": [
       "VBox(children=(Label(value='0.001 MB of 0.001 MB uploaded (0.000 MB deduped)\\r'), FloatProgress(value=1.0, max…"
      ]
     },
     "metadata": {},
     "output_type": "display_data"
    },
    {
     "data": {
      "text/html": [
       "<style>\n",
       "    table.wandb td:nth-child(1) { padding: 0 10px; text-align: left ; width: auto;} td:nth-child(2) {text-align: left ; width: 100%}\n",
       "    .wandb-row { display: flex; flex-direction: row; flex-wrap: wrap; justify-content: flex-start; width: 100% }\n",
       "    .wandb-col { display: flex; flex-direction: column; flex-basis: 100%; flex: 1; padding: 10px; }\n",
       "    </style>\n",
       "<div class=\"wandb-row\"><div class=\"wandb-col\"><h3>Run history:</h3><br/><table class=\"wandb\"><tr><td>LG_NRMSE_BEST</td><td>▁</td></tr><tr><td>LG_NRMSE_MEAN</td><td>▁</td></tr><tr><td>Y_01_NRMSE</td><td>▁</td></tr><tr><td>Y_02_NRMSE</td><td>▁</td></tr><tr><td>Y_03_NRMSE</td><td>▁</td></tr><tr><td>Y_04_NRMSE</td><td>▁</td></tr><tr><td>Y_05_NRMSE</td><td>▁</td></tr><tr><td>Y_06_NRMSE</td><td>▁</td></tr><tr><td>Y_07_NRMSE</td><td>▁</td></tr><tr><td>Y_08_NRMSE</td><td>▁</td></tr><tr><td>Y_09_NRMSE</td><td>▁</td></tr><tr><td>Y_10_NRMSE</td><td>▁</td></tr><tr><td>Y_11_NRMSE</td><td>▁</td></tr><tr><td>Y_12_NRMSE</td><td>▁</td></tr><tr><td>Y_13_NRMSE</td><td>▁</td></tr><tr><td>Y_14_NRMSE</td><td>▁</td></tr></table><br/></div><div class=\"wandb-col\"><h3>Run summary:</h3><br/><table class=\"wandb\"><tr><td>LG_NRMSE_BEST</td><td>1.93608</td></tr><tr><td>LG_NRMSE_MEAN</td><td>1.93608</td></tr><tr><td>Y_01_NRMSE</td><td>0.25481</td></tr><tr><td>Y_02_NRMSE</td><td>0.35231</td></tr><tr><td>Y_03_NRMSE</td><td>0.34585</td></tr><tr><td>Y_04_NRMSE</td><td>0.18862</td></tr><tr><td>Y_05_NRMSE</td><td>0.07915</td></tr><tr><td>Y_06_NRMSE</td><td>0.09795</td></tr><tr><td>Y_07_NRMSE</td><td>0.13012</td></tr><tr><td>Y_08_NRMSE</td><td>0.02431</td></tr><tr><td>Y_09_NRMSE</td><td>0.02405</td></tr><tr><td>Y_10_NRMSE</td><td>0.03817</td></tr><tr><td>Y_11_NRMSE</td><td>0.03367</td></tr><tr><td>Y_12_NRMSE</td><td>0.02418</td></tr><tr><td>Y_13_NRMSE</td><td>0.02415</td></tr><tr><td>Y_14_NRMSE</td><td>0.02413</td></tr></table><br/></div></div>"
      ],
      "text/plain": [
       "<IPython.core.display.HTML object>"
      ]
     },
     "metadata": {},
     "output_type": "display_data"
    },
    {
     "data": {
      "text/html": [
       "Synced <strong style=\"color:#cdcd00\">exalted-sweep-74</strong>: <a href=\"https://wandb.ai/zbooster/Antenna_Outlier-1/runs/4hgsi2wl\" target=\"_blank\">https://wandb.ai/zbooster/Antenna_Outlier-1/runs/4hgsi2wl</a><br/>Synced 5 W&B file(s), 0 media file(s), 0 artifact file(s) and 0 other file(s)"
      ],
      "text/plain": [
       "<IPython.core.display.HTML object>"
      ]
     },
     "metadata": {},
     "output_type": "display_data"
    },
    {
     "data": {
      "text/html": [
       "Find logs at: <code>./wandb/run-20220817_071804-4hgsi2wl/logs</code>"
      ],
      "text/plain": [
       "<IPython.core.display.HTML object>"
      ]
     },
     "metadata": {},
     "output_type": "display_data"
    },
    {
     "name": "stderr",
     "output_type": "stream",
     "text": [
      "\u001b[34m\u001b[1mwandb\u001b[0m: Agent Starting Run: kku1ygcn with config:\n",
      "\u001b[34m\u001b[1mwandb\u001b[0m: \tdrop_index: [70, 280, 6213, 13585, 37911]\n",
      "\u001b[34m\u001b[1mwandb\u001b[0m: \toutlier: 11622\n"
     ]
    },
    {
     "data": {
      "text/html": [
       "Tracking run with wandb version 0.13.1"
      ],
      "text/plain": [
       "<IPython.core.display.HTML object>"
      ]
     },
     "metadata": {},
     "output_type": "display_data"
    },
    {
     "data": {
      "text/html": [
       "Run data is saved locally in <code>/content/Antenna-Performance-Prediction/wandb/run-20220817_071847-kku1ygcn</code>"
      ],
      "text/plain": [
       "<IPython.core.display.HTML object>"
      ]
     },
     "metadata": {},
     "output_type": "display_data"
    },
    {
     "data": {
      "text/html": [
       "Syncing run <strong><a href=\"https://wandb.ai/zbooster/Antenna_Outlier-1/runs/kku1ygcn\" target=\"_blank\">treasured-sweep-75</a></strong> to <a href=\"https://wandb.ai/zbooster/Antenna_Outlier-1\" target=\"_blank\">Weights & Biases</a> (<a href=\"https://wandb.me/run\" target=\"_blank\">docs</a>)<br/>Sweep page:  <a href=\"https://wandb.ai/zbooster/Antenna_Outlier-1/sweeps/nj4jorxe\" target=\"_blank\">https://wandb.ai/zbooster/Antenna_Outlier-1/sweeps/nj4jorxe</a>"
      ],
      "text/plain": [
       "<IPython.core.display.HTML object>"
      ]
     },
     "metadata": {},
     "output_type": "display_data"
    },
    {
     "data": {
      "text/html": [
       "Waiting for W&B process to finish... <strong style=\"color:green\">(success).</strong>"
      ],
      "text/plain": [
       "<IPython.core.display.HTML object>"
      ]
     },
     "metadata": {},
     "output_type": "display_data"
    },
    {
     "data": {
      "application/vnd.jupyter.widget-view+json": {
       "model_id": "3481afc6a7d6402baae6bc9f57c1c015",
       "version_major": 2,
       "version_minor": 0
      },
      "text/plain": [
       "VBox(children=(Label(value='0.001 MB of 0.001 MB uploaded (0.000 MB deduped)\\r'), FloatProgress(value=1.0, max…"
      ]
     },
     "metadata": {},
     "output_type": "display_data"
    },
    {
     "data": {
      "text/html": [
       "<style>\n",
       "    table.wandb td:nth-child(1) { padding: 0 10px; text-align: left ; width: auto;} td:nth-child(2) {text-align: left ; width: 100%}\n",
       "    .wandb-row { display: flex; flex-direction: row; flex-wrap: wrap; justify-content: flex-start; width: 100% }\n",
       "    .wandb-col { display: flex; flex-direction: column; flex-basis: 100%; flex: 1; padding: 10px; }\n",
       "    </style>\n",
       "<div class=\"wandb-row\"><div class=\"wandb-col\"><h3>Run history:</h3><br/><table class=\"wandb\"><tr><td>LG_NRMSE_BEST</td><td>▁</td></tr><tr><td>LG_NRMSE_MEAN</td><td>▁</td></tr><tr><td>Y_01_NRMSE</td><td>▁</td></tr><tr><td>Y_02_NRMSE</td><td>▁</td></tr><tr><td>Y_03_NRMSE</td><td>▁</td></tr><tr><td>Y_04_NRMSE</td><td>▁</td></tr><tr><td>Y_05_NRMSE</td><td>▁</td></tr><tr><td>Y_06_NRMSE</td><td>▁</td></tr><tr><td>Y_07_NRMSE</td><td>▁</td></tr><tr><td>Y_08_NRMSE</td><td>▁</td></tr><tr><td>Y_09_NRMSE</td><td>▁</td></tr><tr><td>Y_10_NRMSE</td><td>▁</td></tr><tr><td>Y_11_NRMSE</td><td>▁</td></tr><tr><td>Y_12_NRMSE</td><td>▁</td></tr><tr><td>Y_13_NRMSE</td><td>▁</td></tr><tr><td>Y_14_NRMSE</td><td>▁</td></tr></table><br/></div><div class=\"wandb-col\"><h3>Run summary:</h3><br/><table class=\"wandb\"><tr><td>LG_NRMSE_BEST</td><td>1.93618</td></tr><tr><td>LG_NRMSE_MEAN</td><td>1.93618</td></tr><tr><td>Y_01_NRMSE</td><td>0.25481</td></tr><tr><td>Y_02_NRMSE</td><td>0.35234</td></tr><tr><td>Y_03_NRMSE</td><td>0.34591</td></tr><tr><td>Y_04_NRMSE</td><td>0.18857</td></tr><tr><td>Y_05_NRMSE</td><td>0.07916</td></tr><tr><td>Y_06_NRMSE</td><td>0.09797</td></tr><tr><td>Y_07_NRMSE</td><td>0.13012</td></tr><tr><td>Y_08_NRMSE</td><td>0.02431</td></tr><tr><td>Y_09_NRMSE</td><td>0.02405</td></tr><tr><td>Y_10_NRMSE</td><td>0.03817</td></tr><tr><td>Y_11_NRMSE</td><td>0.03367</td></tr><tr><td>Y_12_NRMSE</td><td>0.02419</td></tr><tr><td>Y_13_NRMSE</td><td>0.02415</td></tr><tr><td>Y_14_NRMSE</td><td>0.02413</td></tr></table><br/></div></div>"
      ],
      "text/plain": [
       "<IPython.core.display.HTML object>"
      ]
     },
     "metadata": {},
     "output_type": "display_data"
    },
    {
     "data": {
      "text/html": [
       "Synced <strong style=\"color:#cdcd00\">treasured-sweep-75</strong>: <a href=\"https://wandb.ai/zbooster/Antenna_Outlier-1/runs/kku1ygcn\" target=\"_blank\">https://wandb.ai/zbooster/Antenna_Outlier-1/runs/kku1ygcn</a><br/>Synced 5 W&B file(s), 0 media file(s), 0 artifact file(s) and 0 other file(s)"
      ],
      "text/plain": [
       "<IPython.core.display.HTML object>"
      ]
     },
     "metadata": {},
     "output_type": "display_data"
    },
    {
     "data": {
      "text/html": [
       "Find logs at: <code>./wandb/run-20220817_071847-kku1ygcn/logs</code>"
      ],
      "text/plain": [
       "<IPython.core.display.HTML object>"
      ]
     },
     "metadata": {},
     "output_type": "display_data"
    },
    {
     "name": "stderr",
     "output_type": "stream",
     "text": [
      "\u001b[34m\u001b[1mwandb\u001b[0m: Agent Starting Run: vyzlpbpj with config:\n",
      "\u001b[34m\u001b[1mwandb\u001b[0m: \tdrop_index: [70, 280, 6213, 13585, 37911]\n",
      "\u001b[34m\u001b[1mwandb\u001b[0m: \toutlier: 11711\n"
     ]
    },
    {
     "data": {
      "text/html": [
       "Tracking run with wandb version 0.13.1"
      ],
      "text/plain": [
       "<IPython.core.display.HTML object>"
      ]
     },
     "metadata": {},
     "output_type": "display_data"
    },
    {
     "data": {
      "text/html": [
       "Run data is saved locally in <code>/content/Antenna-Performance-Prediction/wandb/run-20220817_071929-vyzlpbpj</code>"
      ],
      "text/plain": [
       "<IPython.core.display.HTML object>"
      ]
     },
     "metadata": {},
     "output_type": "display_data"
    },
    {
     "data": {
      "text/html": [
       "Syncing run <strong><a href=\"https://wandb.ai/zbooster/Antenna_Outlier-1/runs/vyzlpbpj\" target=\"_blank\">peachy-sweep-76</a></strong> to <a href=\"https://wandb.ai/zbooster/Antenna_Outlier-1\" target=\"_blank\">Weights & Biases</a> (<a href=\"https://wandb.me/run\" target=\"_blank\">docs</a>)<br/>Sweep page:  <a href=\"https://wandb.ai/zbooster/Antenna_Outlier-1/sweeps/nj4jorxe\" target=\"_blank\">https://wandb.ai/zbooster/Antenna_Outlier-1/sweeps/nj4jorxe</a>"
      ],
      "text/plain": [
       "<IPython.core.display.HTML object>"
      ]
     },
     "metadata": {},
     "output_type": "display_data"
    },
    {
     "data": {
      "text/html": [
       "Waiting for W&B process to finish... <strong style=\"color:green\">(success).</strong>"
      ],
      "text/plain": [
       "<IPython.core.display.HTML object>"
      ]
     },
     "metadata": {},
     "output_type": "display_data"
    },
    {
     "data": {
      "application/vnd.jupyter.widget-view+json": {
       "model_id": "f6d60324a3b047a59ddc82f0d62fbca6",
       "version_major": 2,
       "version_minor": 0
      },
      "text/plain": [
       "VBox(children=(Label(value='0.001 MB of 0.001 MB uploaded (0.000 MB deduped)\\r'), FloatProgress(value=1.0, max…"
      ]
     },
     "metadata": {},
     "output_type": "display_data"
    },
    {
     "data": {
      "text/html": [
       "<style>\n",
       "    table.wandb td:nth-child(1) { padding: 0 10px; text-align: left ; width: auto;} td:nth-child(2) {text-align: left ; width: 100%}\n",
       "    .wandb-row { display: flex; flex-direction: row; flex-wrap: wrap; justify-content: flex-start; width: 100% }\n",
       "    .wandb-col { display: flex; flex-direction: column; flex-basis: 100%; flex: 1; padding: 10px; }\n",
       "    </style>\n",
       "<div class=\"wandb-row\"><div class=\"wandb-col\"><h3>Run history:</h3><br/><table class=\"wandb\"><tr><td>LG_NRMSE_BEST</td><td>▁</td></tr><tr><td>LG_NRMSE_MEAN</td><td>▁</td></tr><tr><td>Y_01_NRMSE</td><td>▁</td></tr><tr><td>Y_02_NRMSE</td><td>▁</td></tr><tr><td>Y_03_NRMSE</td><td>▁</td></tr><tr><td>Y_04_NRMSE</td><td>▁</td></tr><tr><td>Y_05_NRMSE</td><td>▁</td></tr><tr><td>Y_06_NRMSE</td><td>▁</td></tr><tr><td>Y_07_NRMSE</td><td>▁</td></tr><tr><td>Y_08_NRMSE</td><td>▁</td></tr><tr><td>Y_09_NRMSE</td><td>▁</td></tr><tr><td>Y_10_NRMSE</td><td>▁</td></tr><tr><td>Y_11_NRMSE</td><td>▁</td></tr><tr><td>Y_12_NRMSE</td><td>▁</td></tr><tr><td>Y_13_NRMSE</td><td>▁</td></tr><tr><td>Y_14_NRMSE</td><td>▁</td></tr></table><br/></div><div class=\"wandb-col\"><h3>Run summary:</h3><br/><table class=\"wandb\"><tr><td>LG_NRMSE_BEST</td><td>1.93533</td></tr><tr><td>LG_NRMSE_MEAN</td><td>1.93533</td></tr><tr><td>Y_01_NRMSE</td><td>0.25471</td></tr><tr><td>Y_02_NRMSE</td><td>0.35212</td></tr><tr><td>Y_03_NRMSE</td><td>0.34564</td></tr><tr><td>Y_04_NRMSE</td><td>0.1885</td></tr><tr><td>Y_05_NRMSE</td><td>0.07913</td></tr><tr><td>Y_06_NRMSE</td><td>0.09804</td></tr><tr><td>Y_07_NRMSE</td><td>0.13013</td></tr><tr><td>Y_08_NRMSE</td><td>0.0243</td></tr><tr><td>Y_09_NRMSE</td><td>0.02403</td></tr><tr><td>Y_10_NRMSE</td><td>0.03817</td></tr><tr><td>Y_11_NRMSE</td><td>0.03364</td></tr><tr><td>Y_12_NRMSE</td><td>0.02417</td></tr><tr><td>Y_13_NRMSE</td><td>0.02413</td></tr><tr><td>Y_14_NRMSE</td><td>0.02412</td></tr></table><br/></div></div>"
      ],
      "text/plain": [
       "<IPython.core.display.HTML object>"
      ]
     },
     "metadata": {},
     "output_type": "display_data"
    },
    {
     "data": {
      "text/html": [
       "Synced <strong style=\"color:#cdcd00\">peachy-sweep-76</strong>: <a href=\"https://wandb.ai/zbooster/Antenna_Outlier-1/runs/vyzlpbpj\" target=\"_blank\">https://wandb.ai/zbooster/Antenna_Outlier-1/runs/vyzlpbpj</a><br/>Synced 5 W&B file(s), 0 media file(s), 0 artifact file(s) and 0 other file(s)"
      ],
      "text/plain": [
       "<IPython.core.display.HTML object>"
      ]
     },
     "metadata": {},
     "output_type": "display_data"
    },
    {
     "data": {
      "text/html": [
       "Find logs at: <code>./wandb/run-20220817_071929-vyzlpbpj/logs</code>"
      ],
      "text/plain": [
       "<IPython.core.display.HTML object>"
      ]
     },
     "metadata": {},
     "output_type": "display_data"
    },
    {
     "name": "stderr",
     "output_type": "stream",
     "text": [
      "\u001b[34m\u001b[1mwandb\u001b[0m: Agent Starting Run: wrf5tphp with config:\n",
      "\u001b[34m\u001b[1mwandb\u001b[0m: \tdrop_index: [70, 280, 6213, 13585, 37911]\n",
      "\u001b[34m\u001b[1mwandb\u001b[0m: \toutlier: 11784\n"
     ]
    },
    {
     "data": {
      "text/html": [
       "Tracking run with wandb version 0.13.1"
      ],
      "text/plain": [
       "<IPython.core.display.HTML object>"
      ]
     },
     "metadata": {},
     "output_type": "display_data"
    },
    {
     "data": {
      "text/html": [
       "Run data is saved locally in <code>/content/Antenna-Performance-Prediction/wandb/run-20220817_072013-wrf5tphp</code>"
      ],
      "text/plain": [
       "<IPython.core.display.HTML object>"
      ]
     },
     "metadata": {},
     "output_type": "display_data"
    },
    {
     "data": {
      "text/html": [
       "Syncing run <strong><a href=\"https://wandb.ai/zbooster/Antenna_Outlier-1/runs/wrf5tphp\" target=\"_blank\">sandy-sweep-77</a></strong> to <a href=\"https://wandb.ai/zbooster/Antenna_Outlier-1\" target=\"_blank\">Weights & Biases</a> (<a href=\"https://wandb.me/run\" target=\"_blank\">docs</a>)<br/>Sweep page:  <a href=\"https://wandb.ai/zbooster/Antenna_Outlier-1/sweeps/nj4jorxe\" target=\"_blank\">https://wandb.ai/zbooster/Antenna_Outlier-1/sweeps/nj4jorxe</a>"
      ],
      "text/plain": [
       "<IPython.core.display.HTML object>"
      ]
     },
     "metadata": {},
     "output_type": "display_data"
    },
    {
     "data": {
      "text/html": [
       "Waiting for W&B process to finish... <strong style=\"color:green\">(success).</strong>"
      ],
      "text/plain": [
       "<IPython.core.display.HTML object>"
      ]
     },
     "metadata": {},
     "output_type": "display_data"
    },
    {
     "data": {
      "application/vnd.jupyter.widget-view+json": {
       "model_id": "99a588c1a6dd4ea28af0fd43f64fd6ab",
       "version_major": 2,
       "version_minor": 0
      },
      "text/plain": [
       "VBox(children=(Label(value='0.001 MB of 0.001 MB uploaded (0.000 MB deduped)\\r'), FloatProgress(value=1.0, max…"
      ]
     },
     "metadata": {},
     "output_type": "display_data"
    },
    {
     "data": {
      "text/html": [
       "<style>\n",
       "    table.wandb td:nth-child(1) { padding: 0 10px; text-align: left ; width: auto;} td:nth-child(2) {text-align: left ; width: 100%}\n",
       "    .wandb-row { display: flex; flex-direction: row; flex-wrap: wrap; justify-content: flex-start; width: 100% }\n",
       "    .wandb-col { display: flex; flex-direction: column; flex-basis: 100%; flex: 1; padding: 10px; }\n",
       "    </style>\n",
       "<div class=\"wandb-row\"><div class=\"wandb-col\"><h3>Run history:</h3><br/><table class=\"wandb\"><tr><td>LG_NRMSE_BEST</td><td>▁</td></tr><tr><td>LG_NRMSE_MEAN</td><td>▁</td></tr><tr><td>Y_01_NRMSE</td><td>▁</td></tr><tr><td>Y_02_NRMSE</td><td>▁</td></tr><tr><td>Y_03_NRMSE</td><td>▁</td></tr><tr><td>Y_04_NRMSE</td><td>▁</td></tr><tr><td>Y_05_NRMSE</td><td>▁</td></tr><tr><td>Y_06_NRMSE</td><td>▁</td></tr><tr><td>Y_07_NRMSE</td><td>▁</td></tr><tr><td>Y_08_NRMSE</td><td>▁</td></tr><tr><td>Y_09_NRMSE</td><td>▁</td></tr><tr><td>Y_10_NRMSE</td><td>▁</td></tr><tr><td>Y_11_NRMSE</td><td>▁</td></tr><tr><td>Y_12_NRMSE</td><td>▁</td></tr><tr><td>Y_13_NRMSE</td><td>▁</td></tr><tr><td>Y_14_NRMSE</td><td>▁</td></tr></table><br/></div><div class=\"wandb-col\"><h3>Run summary:</h3><br/><table class=\"wandb\"><tr><td>LG_NRMSE_BEST</td><td>1.93547</td></tr><tr><td>LG_NRMSE_MEAN</td><td>1.93547</td></tr><tr><td>Y_01_NRMSE</td><td>0.25471</td></tr><tr><td>Y_02_NRMSE</td><td>0.35247</td></tr><tr><td>Y_03_NRMSE</td><td>0.34578</td></tr><tr><td>Y_04_NRMSE</td><td>0.18841</td></tr><tr><td>Y_05_NRMSE</td><td>0.07913</td></tr><tr><td>Y_06_NRMSE</td><td>0.09792</td></tr><tr><td>Y_07_NRMSE</td><td>0.13004</td></tr><tr><td>Y_08_NRMSE</td><td>0.02429</td></tr><tr><td>Y_09_NRMSE</td><td>0.02402</td></tr><tr><td>Y_10_NRMSE</td><td>0.03814</td></tr><tr><td>Y_11_NRMSE</td><td>0.03361</td></tr><tr><td>Y_12_NRMSE</td><td>0.02416</td></tr><tr><td>Y_13_NRMSE</td><td>0.02412</td></tr><tr><td>Y_14_NRMSE</td><td>0.02411</td></tr></table><br/></div></div>"
      ],
      "text/plain": [
       "<IPython.core.display.HTML object>"
      ]
     },
     "metadata": {},
     "output_type": "display_data"
    },
    {
     "data": {
      "text/html": [
       "Synced <strong style=\"color:#cdcd00\">sandy-sweep-77</strong>: <a href=\"https://wandb.ai/zbooster/Antenna_Outlier-1/runs/wrf5tphp\" target=\"_blank\">https://wandb.ai/zbooster/Antenna_Outlier-1/runs/wrf5tphp</a><br/>Synced 5 W&B file(s), 0 media file(s), 0 artifact file(s) and 0 other file(s)"
      ],
      "text/plain": [
       "<IPython.core.display.HTML object>"
      ]
     },
     "metadata": {},
     "output_type": "display_data"
    },
    {
     "data": {
      "text/html": [
       "Find logs at: <code>./wandb/run-20220817_072013-wrf5tphp/logs</code>"
      ],
      "text/plain": [
       "<IPython.core.display.HTML object>"
      ]
     },
     "metadata": {},
     "output_type": "display_data"
    },
    {
     "name": "stderr",
     "output_type": "stream",
     "text": [
      "\u001b[34m\u001b[1mwandb\u001b[0m: Agent Starting Run: qpl2x3h6 with config:\n",
      "\u001b[34m\u001b[1mwandb\u001b[0m: \tdrop_index: [70, 280, 6213, 13585, 37911]\n",
      "\u001b[34m\u001b[1mwandb\u001b[0m: \toutlier: 11808\n"
     ]
    },
    {
     "data": {
      "text/html": [
       "Tracking run with wandb version 0.13.1"
      ],
      "text/plain": [
       "<IPython.core.display.HTML object>"
      ]
     },
     "metadata": {},
     "output_type": "display_data"
    },
    {
     "data": {
      "text/html": [
       "Run data is saved locally in <code>/content/Antenna-Performance-Prediction/wandb/run-20220817_072056-qpl2x3h6</code>"
      ],
      "text/plain": [
       "<IPython.core.display.HTML object>"
      ]
     },
     "metadata": {},
     "output_type": "display_data"
    },
    {
     "data": {
      "text/html": [
       "Syncing run <strong><a href=\"https://wandb.ai/zbooster/Antenna_Outlier-1/runs/qpl2x3h6\" target=\"_blank\">gentle-sweep-78</a></strong> to <a href=\"https://wandb.ai/zbooster/Antenna_Outlier-1\" target=\"_blank\">Weights & Biases</a> (<a href=\"https://wandb.me/run\" target=\"_blank\">docs</a>)<br/>Sweep page:  <a href=\"https://wandb.ai/zbooster/Antenna_Outlier-1/sweeps/nj4jorxe\" target=\"_blank\">https://wandb.ai/zbooster/Antenna_Outlier-1/sweeps/nj4jorxe</a>"
      ],
      "text/plain": [
       "<IPython.core.display.HTML object>"
      ]
     },
     "metadata": {},
     "output_type": "display_data"
    },
    {
     "data": {
      "text/html": [
       "Waiting for W&B process to finish... <strong style=\"color:green\">(success).</strong>"
      ],
      "text/plain": [
       "<IPython.core.display.HTML object>"
      ]
     },
     "metadata": {},
     "output_type": "display_data"
    },
    {
     "data": {
      "application/vnd.jupyter.widget-view+json": {
       "model_id": "15e20b6986424607b7ab11da6f54dad8",
       "version_major": 2,
       "version_minor": 0
      },
      "text/plain": [
       "VBox(children=(Label(value='0.001 MB of 0.001 MB uploaded (0.000 MB deduped)\\r'), FloatProgress(value=1.0, max…"
      ]
     },
     "metadata": {},
     "output_type": "display_data"
    },
    {
     "data": {
      "text/html": [
       "<style>\n",
       "    table.wandb td:nth-child(1) { padding: 0 10px; text-align: left ; width: auto;} td:nth-child(2) {text-align: left ; width: 100%}\n",
       "    .wandb-row { display: flex; flex-direction: row; flex-wrap: wrap; justify-content: flex-start; width: 100% }\n",
       "    .wandb-col { display: flex; flex-direction: column; flex-basis: 100%; flex: 1; padding: 10px; }\n",
       "    </style>\n",
       "<div class=\"wandb-row\"><div class=\"wandb-col\"><h3>Run history:</h3><br/><table class=\"wandb\"><tr><td>LG_NRMSE_BEST</td><td>▁</td></tr><tr><td>LG_NRMSE_MEAN</td><td>▁</td></tr><tr><td>Y_01_NRMSE</td><td>▁</td></tr><tr><td>Y_02_NRMSE</td><td>▁</td></tr><tr><td>Y_03_NRMSE</td><td>▁</td></tr><tr><td>Y_04_NRMSE</td><td>▁</td></tr><tr><td>Y_05_NRMSE</td><td>▁</td></tr><tr><td>Y_06_NRMSE</td><td>▁</td></tr><tr><td>Y_07_NRMSE</td><td>▁</td></tr><tr><td>Y_08_NRMSE</td><td>▁</td></tr><tr><td>Y_09_NRMSE</td><td>▁</td></tr><tr><td>Y_10_NRMSE</td><td>▁</td></tr><tr><td>Y_11_NRMSE</td><td>▁</td></tr><tr><td>Y_12_NRMSE</td><td>▁</td></tr><tr><td>Y_13_NRMSE</td><td>▁</td></tr><tr><td>Y_14_NRMSE</td><td>▁</td></tr></table><br/></div><div class=\"wandb-col\"><h3>Run summary:</h3><br/><table class=\"wandb\"><tr><td>LG_NRMSE_BEST</td><td>1.93518</td></tr><tr><td>LG_NRMSE_MEAN</td><td>1.93518</td></tr><tr><td>Y_01_NRMSE</td><td>0.25468</td></tr><tr><td>Y_02_NRMSE</td><td>0.3524</td></tr><tr><td>Y_03_NRMSE</td><td>0.34568</td></tr><tr><td>Y_04_NRMSE</td><td>0.18836</td></tr><tr><td>Y_05_NRMSE</td><td>0.07912</td></tr><tr><td>Y_06_NRMSE</td><td>0.09793</td></tr><tr><td>Y_07_NRMSE</td><td>0.1301</td></tr><tr><td>Y_08_NRMSE</td><td>0.02427</td></tr><tr><td>Y_09_NRMSE</td><td>0.02402</td></tr><tr><td>Y_10_NRMSE</td><td>0.03812</td></tr><tr><td>Y_11_NRMSE</td><td>0.0336</td></tr><tr><td>Y_12_NRMSE</td><td>0.02414</td></tr><tr><td>Y_13_NRMSE</td><td>0.02411</td></tr><tr><td>Y_14_NRMSE</td><td>0.02411</td></tr></table><br/></div></div>"
      ],
      "text/plain": [
       "<IPython.core.display.HTML object>"
      ]
     },
     "metadata": {},
     "output_type": "display_data"
    },
    {
     "data": {
      "text/html": [
       "Synced <strong style=\"color:#cdcd00\">gentle-sweep-78</strong>: <a href=\"https://wandb.ai/zbooster/Antenna_Outlier-1/runs/qpl2x3h6\" target=\"_blank\">https://wandb.ai/zbooster/Antenna_Outlier-1/runs/qpl2x3h6</a><br/>Synced 5 W&B file(s), 0 media file(s), 0 artifact file(s) and 0 other file(s)"
      ],
      "text/plain": [
       "<IPython.core.display.HTML object>"
      ]
     },
     "metadata": {},
     "output_type": "display_data"
    },
    {
     "data": {
      "text/html": [
       "Find logs at: <code>./wandb/run-20220817_072056-qpl2x3h6/logs</code>"
      ],
      "text/plain": [
       "<IPython.core.display.HTML object>"
      ]
     },
     "metadata": {},
     "output_type": "display_data"
    },
    {
     "name": "stderr",
     "output_type": "stream",
     "text": [
      "\u001b[34m\u001b[1mwandb\u001b[0m: Agent Starting Run: qsilayky with config:\n",
      "\u001b[34m\u001b[1mwandb\u001b[0m: \tdrop_index: [70, 280, 6213, 13585, 37911]\n",
      "\u001b[34m\u001b[1mwandb\u001b[0m: \toutlier: 11812\n"
     ]
    },
    {
     "data": {
      "text/html": [
       "Tracking run with wandb version 0.13.1"
      ],
      "text/plain": [
       "<IPython.core.display.HTML object>"
      ]
     },
     "metadata": {},
     "output_type": "display_data"
    },
    {
     "data": {
      "text/html": [
       "Run data is saved locally in <code>/content/Antenna-Performance-Prediction/wandb/run-20220817_072143-qsilayky</code>"
      ],
      "text/plain": [
       "<IPython.core.display.HTML object>"
      ]
     },
     "metadata": {},
     "output_type": "display_data"
    },
    {
     "data": {
      "text/html": [
       "Syncing run <strong><a href=\"https://wandb.ai/zbooster/Antenna_Outlier-1/runs/qsilayky\" target=\"_blank\">crimson-sweep-79</a></strong> to <a href=\"https://wandb.ai/zbooster/Antenna_Outlier-1\" target=\"_blank\">Weights & Biases</a> (<a href=\"https://wandb.me/run\" target=\"_blank\">docs</a>)<br/>Sweep page:  <a href=\"https://wandb.ai/zbooster/Antenna_Outlier-1/sweeps/nj4jorxe\" target=\"_blank\">https://wandb.ai/zbooster/Antenna_Outlier-1/sweeps/nj4jorxe</a>"
      ],
      "text/plain": [
       "<IPython.core.display.HTML object>"
      ]
     },
     "metadata": {},
     "output_type": "display_data"
    },
    {
     "data": {
      "text/html": [
       "Waiting for W&B process to finish... <strong style=\"color:green\">(success).</strong>"
      ],
      "text/plain": [
       "<IPython.core.display.HTML object>"
      ]
     },
     "metadata": {},
     "output_type": "display_data"
    },
    {
     "data": {
      "application/vnd.jupyter.widget-view+json": {
       "model_id": "d97acde391264946ab5e7145ec548a26",
       "version_major": 2,
       "version_minor": 0
      },
      "text/plain": [
       "VBox(children=(Label(value='0.001 MB of 0.001 MB uploaded (0.000 MB deduped)\\r'), FloatProgress(value=1.0, max…"
      ]
     },
     "metadata": {},
     "output_type": "display_data"
    },
    {
     "data": {
      "text/html": [
       "<style>\n",
       "    table.wandb td:nth-child(1) { padding: 0 10px; text-align: left ; width: auto;} td:nth-child(2) {text-align: left ; width: 100%}\n",
       "    .wandb-row { display: flex; flex-direction: row; flex-wrap: wrap; justify-content: flex-start; width: 100% }\n",
       "    .wandb-col { display: flex; flex-direction: column; flex-basis: 100%; flex: 1; padding: 10px; }\n",
       "    </style>\n",
       "<div class=\"wandb-row\"><div class=\"wandb-col\"><h3>Run history:</h3><br/><table class=\"wandb\"><tr><td>LG_NRMSE_BEST</td><td>▁</td></tr><tr><td>LG_NRMSE_MEAN</td><td>▁</td></tr><tr><td>Y_01_NRMSE</td><td>▁</td></tr><tr><td>Y_02_NRMSE</td><td>▁</td></tr><tr><td>Y_03_NRMSE</td><td>▁</td></tr><tr><td>Y_04_NRMSE</td><td>▁</td></tr><tr><td>Y_05_NRMSE</td><td>▁</td></tr><tr><td>Y_06_NRMSE</td><td>▁</td></tr><tr><td>Y_07_NRMSE</td><td>▁</td></tr><tr><td>Y_08_NRMSE</td><td>▁</td></tr><tr><td>Y_09_NRMSE</td><td>▁</td></tr><tr><td>Y_10_NRMSE</td><td>▁</td></tr><tr><td>Y_11_NRMSE</td><td>▁</td></tr><tr><td>Y_12_NRMSE</td><td>▁</td></tr><tr><td>Y_13_NRMSE</td><td>▁</td></tr><tr><td>Y_14_NRMSE</td><td>▁</td></tr></table><br/></div><div class=\"wandb-col\"><h3>Run summary:</h3><br/><table class=\"wandb\"><tr><td>LG_NRMSE_BEST</td><td>1.93515</td></tr><tr><td>LG_NRMSE_MEAN</td><td>1.93515</td></tr><tr><td>Y_01_NRMSE</td><td>0.2547</td></tr><tr><td>Y_02_NRMSE</td><td>0.35238</td></tr><tr><td>Y_03_NRMSE</td><td>0.34569</td></tr><tr><td>Y_04_NRMSE</td><td>0.18835</td></tr><tr><td>Y_05_NRMSE</td><td>0.07912</td></tr><tr><td>Y_06_NRMSE</td><td>0.09793</td></tr><tr><td>Y_07_NRMSE</td><td>0.13011</td></tr><tr><td>Y_08_NRMSE</td><td>0.02427</td></tr><tr><td>Y_09_NRMSE</td><td>0.02401</td></tr><tr><td>Y_10_NRMSE</td><td>0.03812</td></tr><tr><td>Y_11_NRMSE</td><td>0.0336</td></tr><tr><td>Y_12_NRMSE</td><td>0.02414</td></tr><tr><td>Y_13_NRMSE</td><td>0.02411</td></tr><tr><td>Y_14_NRMSE</td><td>0.02411</td></tr></table><br/></div></div>"
      ],
      "text/plain": [
       "<IPython.core.display.HTML object>"
      ]
     },
     "metadata": {},
     "output_type": "display_data"
    },
    {
     "data": {
      "text/html": [
       "Synced <strong style=\"color:#cdcd00\">crimson-sweep-79</strong>: <a href=\"https://wandb.ai/zbooster/Antenna_Outlier-1/runs/qsilayky\" target=\"_blank\">https://wandb.ai/zbooster/Antenna_Outlier-1/runs/qsilayky</a><br/>Synced 5 W&B file(s), 0 media file(s), 0 artifact file(s) and 0 other file(s)"
      ],
      "text/plain": [
       "<IPython.core.display.HTML object>"
      ]
     },
     "metadata": {},
     "output_type": "display_data"
    },
    {
     "data": {
      "text/html": [
       "Find logs at: <code>./wandb/run-20220817_072143-qsilayky/logs</code>"
      ],
      "text/plain": [
       "<IPython.core.display.HTML object>"
      ]
     },
     "metadata": {},
     "output_type": "display_data"
    },
    {
     "name": "stderr",
     "output_type": "stream",
     "text": [
      "\u001b[34m\u001b[1mwandb\u001b[0m: Agent Starting Run: aox4fal0 with config:\n",
      "\u001b[34m\u001b[1mwandb\u001b[0m: \tdrop_index: [70, 280, 6213, 13585, 37911]\n",
      "\u001b[34m\u001b[1mwandb\u001b[0m: \toutlier: 11922\n"
     ]
    },
    {
     "data": {
      "text/html": [
       "Tracking run with wandb version 0.13.1"
      ],
      "text/plain": [
       "<IPython.core.display.HTML object>"
      ]
     },
     "metadata": {},
     "output_type": "display_data"
    },
    {
     "data": {
      "text/html": [
       "Run data is saved locally in <code>/content/Antenna-Performance-Prediction/wandb/run-20220817_072225-aox4fal0</code>"
      ],
      "text/plain": [
       "<IPython.core.display.HTML object>"
      ]
     },
     "metadata": {},
     "output_type": "display_data"
    },
    {
     "data": {
      "text/html": [
       "Syncing run <strong><a href=\"https://wandb.ai/zbooster/Antenna_Outlier-1/runs/aox4fal0\" target=\"_blank\">faithful-sweep-80</a></strong> to <a href=\"https://wandb.ai/zbooster/Antenna_Outlier-1\" target=\"_blank\">Weights & Biases</a> (<a href=\"https://wandb.me/run\" target=\"_blank\">docs</a>)<br/>Sweep page:  <a href=\"https://wandb.ai/zbooster/Antenna_Outlier-1/sweeps/nj4jorxe\" target=\"_blank\">https://wandb.ai/zbooster/Antenna_Outlier-1/sweeps/nj4jorxe</a>"
      ],
      "text/plain": [
       "<IPython.core.display.HTML object>"
      ]
     },
     "metadata": {},
     "output_type": "display_data"
    },
    {
     "data": {
      "text/html": [
       "Waiting for W&B process to finish... <strong style=\"color:green\">(success).</strong>"
      ],
      "text/plain": [
       "<IPython.core.display.HTML object>"
      ]
     },
     "metadata": {},
     "output_type": "display_data"
    },
    {
     "data": {
      "application/vnd.jupyter.widget-view+json": {
       "model_id": "883896d655c142f195b4917f0bcafc4d",
       "version_major": 2,
       "version_minor": 0
      },
      "text/plain": [
       "VBox(children=(Label(value='0.001 MB of 0.001 MB uploaded (0.000 MB deduped)\\r'), FloatProgress(value=1.0, max…"
      ]
     },
     "metadata": {},
     "output_type": "display_data"
    },
    {
     "data": {
      "text/html": [
       "<style>\n",
       "    table.wandb td:nth-child(1) { padding: 0 10px; text-align: left ; width: auto;} td:nth-child(2) {text-align: left ; width: 100%}\n",
       "    .wandb-row { display: flex; flex-direction: row; flex-wrap: wrap; justify-content: flex-start; width: 100% }\n",
       "    .wandb-col { display: flex; flex-direction: column; flex-basis: 100%; flex: 1; padding: 10px; }\n",
       "    </style>\n",
       "<div class=\"wandb-row\"><div class=\"wandb-col\"><h3>Run history:</h3><br/><table class=\"wandb\"><tr><td>LG_NRMSE_BEST</td><td>▁</td></tr><tr><td>LG_NRMSE_MEAN</td><td>▁</td></tr><tr><td>Y_01_NRMSE</td><td>▁</td></tr><tr><td>Y_02_NRMSE</td><td>▁</td></tr><tr><td>Y_03_NRMSE</td><td>▁</td></tr><tr><td>Y_04_NRMSE</td><td>▁</td></tr><tr><td>Y_05_NRMSE</td><td>▁</td></tr><tr><td>Y_06_NRMSE</td><td>▁</td></tr><tr><td>Y_07_NRMSE</td><td>▁</td></tr><tr><td>Y_08_NRMSE</td><td>▁</td></tr><tr><td>Y_09_NRMSE</td><td>▁</td></tr><tr><td>Y_10_NRMSE</td><td>▁</td></tr><tr><td>Y_11_NRMSE</td><td>▁</td></tr><tr><td>Y_12_NRMSE</td><td>▁</td></tr><tr><td>Y_13_NRMSE</td><td>▁</td></tr><tr><td>Y_14_NRMSE</td><td>▁</td></tr></table><br/></div><div class=\"wandb-col\"><h3>Run summary:</h3><br/><table class=\"wandb\"><tr><td>LG_NRMSE_BEST</td><td>1.9346</td></tr><tr><td>LG_NRMSE_MEAN</td><td>1.9346</td></tr><tr><td>Y_01_NRMSE</td><td>0.25458</td></tr><tr><td>Y_02_NRMSE</td><td>0.35231</td></tr><tr><td>Y_03_NRMSE</td><td>0.3456</td></tr><tr><td>Y_04_NRMSE</td><td>0.18837</td></tr><tr><td>Y_05_NRMSE</td><td>0.07903</td></tr><tr><td>Y_06_NRMSE</td><td>0.09799</td></tr><tr><td>Y_07_NRMSE</td><td>0.13016</td></tr><tr><td>Y_08_NRMSE</td><td>0.02423</td></tr><tr><td>Y_09_NRMSE</td><td>0.02397</td></tr><tr><td>Y_10_NRMSE</td><td>0.03809</td></tr><tr><td>Y_11_NRMSE</td><td>0.03358</td></tr><tr><td>Y_12_NRMSE</td><td>0.0241</td></tr><tr><td>Y_13_NRMSE</td><td>0.02407</td></tr><tr><td>Y_14_NRMSE</td><td>0.02406</td></tr></table><br/></div></div>"
      ],
      "text/plain": [
       "<IPython.core.display.HTML object>"
      ]
     },
     "metadata": {},
     "output_type": "display_data"
    },
    {
     "data": {
      "text/html": [
       "Synced <strong style=\"color:#cdcd00\">faithful-sweep-80</strong>: <a href=\"https://wandb.ai/zbooster/Antenna_Outlier-1/runs/aox4fal0\" target=\"_blank\">https://wandb.ai/zbooster/Antenna_Outlier-1/runs/aox4fal0</a><br/>Synced 5 W&B file(s), 0 media file(s), 0 artifact file(s) and 0 other file(s)"
      ],
      "text/plain": [
       "<IPython.core.display.HTML object>"
      ]
     },
     "metadata": {},
     "output_type": "display_data"
    },
    {
     "data": {
      "text/html": [
       "Find logs at: <code>./wandb/run-20220817_072225-aox4fal0/logs</code>"
      ],
      "text/plain": [
       "<IPython.core.display.HTML object>"
      ]
     },
     "metadata": {},
     "output_type": "display_data"
    },
    {
     "name": "stderr",
     "output_type": "stream",
     "text": [
      "\u001b[34m\u001b[1mwandb\u001b[0m: Sweep Agent: Waiting for job.\n",
      "\u001b[34m\u001b[1mwandb\u001b[0m: Job received.\n",
      "\u001b[34m\u001b[1mwandb\u001b[0m: Agent Starting Run: 3d4xhp3e with config:\n",
      "\u001b[34m\u001b[1mwandb\u001b[0m: \tdrop_index: [70, 280, 6213, 13585, 37911]\n",
      "\u001b[34m\u001b[1mwandb\u001b[0m: \toutlier: 13123\n"
     ]
    },
    {
     "data": {
      "text/html": [
       "Tracking run with wandb version 0.13.1"
      ],
      "text/plain": [
       "<IPython.core.display.HTML object>"
      ]
     },
     "metadata": {},
     "output_type": "display_data"
    },
    {
     "data": {
      "text/html": [
       "Run data is saved locally in <code>/content/Antenna-Performance-Prediction/wandb/run-20220817_072318-3d4xhp3e</code>"
      ],
      "text/plain": [
       "<IPython.core.display.HTML object>"
      ]
     },
     "metadata": {},
     "output_type": "display_data"
    },
    {
     "data": {
      "text/html": [
       "Syncing run <strong><a href=\"https://wandb.ai/zbooster/Antenna_Outlier-1/runs/3d4xhp3e\" target=\"_blank\">fragrant-sweep-81</a></strong> to <a href=\"https://wandb.ai/zbooster/Antenna_Outlier-1\" target=\"_blank\">Weights & Biases</a> (<a href=\"https://wandb.me/run\" target=\"_blank\">docs</a>)<br/>Sweep page:  <a href=\"https://wandb.ai/zbooster/Antenna_Outlier-1/sweeps/nj4jorxe\" target=\"_blank\">https://wandb.ai/zbooster/Antenna_Outlier-1/sweeps/nj4jorxe</a>"
      ],
      "text/plain": [
       "<IPython.core.display.HTML object>"
      ]
     },
     "metadata": {},
     "output_type": "display_data"
    },
    {
     "data": {
      "text/html": [
       "Waiting for W&B process to finish... <strong style=\"color:green\">(success).</strong>"
      ],
      "text/plain": [
       "<IPython.core.display.HTML object>"
      ]
     },
     "metadata": {},
     "output_type": "display_data"
    },
    {
     "data": {
      "application/vnd.jupyter.widget-view+json": {
       "model_id": "c593aeded77344fe87bb3c3166f9577f",
       "version_major": 2,
       "version_minor": 0
      },
      "text/plain": [
       "VBox(children=(Label(value='0.001 MB of 0.001 MB uploaded (0.000 MB deduped)\\r'), FloatProgress(value=1.0, max…"
      ]
     },
     "metadata": {},
     "output_type": "display_data"
    },
    {
     "data": {
      "text/html": [
       "<style>\n",
       "    table.wandb td:nth-child(1) { padding: 0 10px; text-align: left ; width: auto;} td:nth-child(2) {text-align: left ; width: 100%}\n",
       "    .wandb-row { display: flex; flex-direction: row; flex-wrap: wrap; justify-content: flex-start; width: 100% }\n",
       "    .wandb-col { display: flex; flex-direction: column; flex-basis: 100%; flex: 1; padding: 10px; }\n",
       "    </style>\n",
       "<div class=\"wandb-row\"><div class=\"wandb-col\"><h3>Run history:</h3><br/><table class=\"wandb\"><tr><td>LG_NRMSE_BEST</td><td>▁</td></tr><tr><td>LG_NRMSE_MEAN</td><td>▁</td></tr><tr><td>Y_01_NRMSE</td><td>▁</td></tr><tr><td>Y_02_NRMSE</td><td>▁</td></tr><tr><td>Y_03_NRMSE</td><td>▁</td></tr><tr><td>Y_04_NRMSE</td><td>▁</td></tr><tr><td>Y_05_NRMSE</td><td>▁</td></tr><tr><td>Y_06_NRMSE</td><td>▁</td></tr><tr><td>Y_07_NRMSE</td><td>▁</td></tr><tr><td>Y_08_NRMSE</td><td>▁</td></tr><tr><td>Y_09_NRMSE</td><td>▁</td></tr><tr><td>Y_10_NRMSE</td><td>▁</td></tr><tr><td>Y_11_NRMSE</td><td>▁</td></tr><tr><td>Y_12_NRMSE</td><td>▁</td></tr><tr><td>Y_13_NRMSE</td><td>▁</td></tr><tr><td>Y_14_NRMSE</td><td>▁</td></tr></table><br/></div><div class=\"wandb-col\"><h3>Run summary:</h3><br/><table class=\"wandb\"><tr><td>LG_NRMSE_BEST</td><td>1.9244</td></tr><tr><td>LG_NRMSE_MEAN</td><td>1.9244</td></tr><tr><td>Y_01_NRMSE</td><td>0.2538</td></tr><tr><td>Y_02_NRMSE</td><td>0.35142</td></tr><tr><td>Y_03_NRMSE</td><td>0.34493</td></tr><tr><td>Y_04_NRMSE</td><td>0.18831</td></tr><tr><td>Y_05_NRMSE</td><td>0.0791</td></tr><tr><td>Y_06_NRMSE</td><td>0.09232</td></tr><tr><td>Y_07_NRMSE</td><td>0.12978</td></tr><tr><td>Y_08_NRMSE</td><td>0.02424</td></tr><tr><td>Y_09_NRMSE</td><td>0.02401</td></tr><tr><td>Y_10_NRMSE</td><td>0.03776</td></tr><tr><td>Y_11_NRMSE</td><td>0.03367</td></tr><tr><td>Y_12_NRMSE</td><td>0.02413</td></tr><tr><td>Y_13_NRMSE</td><td>0.02408</td></tr><tr><td>Y_14_NRMSE</td><td>0.02409</td></tr></table><br/></div></div>"
      ],
      "text/plain": [
       "<IPython.core.display.HTML object>"
      ]
     },
     "metadata": {},
     "output_type": "display_data"
    },
    {
     "data": {
      "text/html": [
       "Synced <strong style=\"color:#cdcd00\">fragrant-sweep-81</strong>: <a href=\"https://wandb.ai/zbooster/Antenna_Outlier-1/runs/3d4xhp3e\" target=\"_blank\">https://wandb.ai/zbooster/Antenna_Outlier-1/runs/3d4xhp3e</a><br/>Synced 5 W&B file(s), 0 media file(s), 0 artifact file(s) and 0 other file(s)"
      ],
      "text/plain": [
       "<IPython.core.display.HTML object>"
      ]
     },
     "metadata": {},
     "output_type": "display_data"
    },
    {
     "data": {
      "text/html": [
       "Find logs at: <code>./wandb/run-20220817_072318-3d4xhp3e/logs</code>"
      ],
      "text/plain": [
       "<IPython.core.display.HTML object>"
      ]
     },
     "metadata": {},
     "output_type": "display_data"
    },
    {
     "name": "stderr",
     "output_type": "stream",
     "text": [
      "\u001b[34m\u001b[1mwandb\u001b[0m: Agent Starting Run: fgesj1dc with config:\n",
      "\u001b[34m\u001b[1mwandb\u001b[0m: \tdrop_index: [70, 280, 6213, 13585, 37911]\n",
      "\u001b[34m\u001b[1mwandb\u001b[0m: \toutlier: 13225\n"
     ]
    },
    {
     "data": {
      "text/html": [
       "Tracking run with wandb version 0.13.1"
      ],
      "text/plain": [
       "<IPython.core.display.HTML object>"
      ]
     },
     "metadata": {},
     "output_type": "display_data"
    },
    {
     "data": {
      "text/html": [
       "Run data is saved locally in <code>/content/Antenna-Performance-Prediction/wandb/run-20220817_072406-fgesj1dc</code>"
      ],
      "text/plain": [
       "<IPython.core.display.HTML object>"
      ]
     },
     "metadata": {},
     "output_type": "display_data"
    },
    {
     "data": {
      "text/html": [
       "Syncing run <strong><a href=\"https://wandb.ai/zbooster/Antenna_Outlier-1/runs/fgesj1dc\" target=\"_blank\">amber-sweep-82</a></strong> to <a href=\"https://wandb.ai/zbooster/Antenna_Outlier-1\" target=\"_blank\">Weights & Biases</a> (<a href=\"https://wandb.me/run\" target=\"_blank\">docs</a>)<br/>Sweep page:  <a href=\"https://wandb.ai/zbooster/Antenna_Outlier-1/sweeps/nj4jorxe\" target=\"_blank\">https://wandb.ai/zbooster/Antenna_Outlier-1/sweeps/nj4jorxe</a>"
      ],
      "text/plain": [
       "<IPython.core.display.HTML object>"
      ]
     },
     "metadata": {},
     "output_type": "display_data"
    },
    {
     "data": {
      "text/html": [
       "Waiting for W&B process to finish... <strong style=\"color:green\">(success).</strong>"
      ],
      "text/plain": [
       "<IPython.core.display.HTML object>"
      ]
     },
     "metadata": {},
     "output_type": "display_data"
    },
    {
     "data": {
      "application/vnd.jupyter.widget-view+json": {
       "model_id": "bc1c1ee746704492900658c170750f00",
       "version_major": 2,
       "version_minor": 0
      },
      "text/plain": [
       "VBox(children=(Label(value='0.001 MB of 0.001 MB uploaded (0.000 MB deduped)\\r'), FloatProgress(value=1.0, max…"
      ]
     },
     "metadata": {},
     "output_type": "display_data"
    },
    {
     "data": {
      "text/html": [
       "<style>\n",
       "    table.wandb td:nth-child(1) { padding: 0 10px; text-align: left ; width: auto;} td:nth-child(2) {text-align: left ; width: 100%}\n",
       "    .wandb-row { display: flex; flex-direction: row; flex-wrap: wrap; justify-content: flex-start; width: 100% }\n",
       "    .wandb-col { display: flex; flex-direction: column; flex-basis: 100%; flex: 1; padding: 10px; }\n",
       "    </style>\n",
       "<div class=\"wandb-row\"><div class=\"wandb-col\"><h3>Run history:</h3><br/><table class=\"wandb\"><tr><td>LG_NRMSE_BEST</td><td>▁</td></tr><tr><td>LG_NRMSE_MEAN</td><td>▁</td></tr><tr><td>Y_01_NRMSE</td><td>▁</td></tr><tr><td>Y_02_NRMSE</td><td>▁</td></tr><tr><td>Y_03_NRMSE</td><td>▁</td></tr><tr><td>Y_04_NRMSE</td><td>▁</td></tr><tr><td>Y_05_NRMSE</td><td>▁</td></tr><tr><td>Y_06_NRMSE</td><td>▁</td></tr><tr><td>Y_07_NRMSE</td><td>▁</td></tr><tr><td>Y_08_NRMSE</td><td>▁</td></tr><tr><td>Y_09_NRMSE</td><td>▁</td></tr><tr><td>Y_10_NRMSE</td><td>▁</td></tr><tr><td>Y_11_NRMSE</td><td>▁</td></tr><tr><td>Y_12_NRMSE</td><td>▁</td></tr><tr><td>Y_13_NRMSE</td><td>▁</td></tr><tr><td>Y_14_NRMSE</td><td>▁</td></tr></table><br/></div><div class=\"wandb-col\"><h3>Run summary:</h3><br/><table class=\"wandb\"><tr><td>LG_NRMSE_BEST</td><td>1.92519</td></tr><tr><td>LG_NRMSE_MEAN</td><td>1.92519</td></tr><tr><td>Y_01_NRMSE</td><td>0.25398</td></tr><tr><td>Y_02_NRMSE</td><td>0.35189</td></tr><tr><td>Y_03_NRMSE</td><td>0.3452</td></tr><tr><td>Y_04_NRMSE</td><td>0.1883</td></tr><tr><td>Y_05_NRMSE</td><td>0.07909</td></tr><tr><td>Y_06_NRMSE</td><td>0.09206</td></tr><tr><td>Y_07_NRMSE</td><td>0.12977</td></tr><tr><td>Y_08_NRMSE</td><td>0.02424</td></tr><tr><td>Y_09_NRMSE</td><td>0.02402</td></tr><tr><td>Y_10_NRMSE</td><td>0.03774</td></tr><tr><td>Y_11_NRMSE</td><td>0.03367</td></tr><tr><td>Y_12_NRMSE</td><td>0.02413</td></tr><tr><td>Y_13_NRMSE</td><td>0.02409</td></tr><tr><td>Y_14_NRMSE</td><td>0.02409</td></tr></table><br/></div></div>"
      ],
      "text/plain": [
       "<IPython.core.display.HTML object>"
      ]
     },
     "metadata": {},
     "output_type": "display_data"
    },
    {
     "data": {
      "text/html": [
       "Synced <strong style=\"color:#cdcd00\">amber-sweep-82</strong>: <a href=\"https://wandb.ai/zbooster/Antenna_Outlier-1/runs/fgesj1dc\" target=\"_blank\">https://wandb.ai/zbooster/Antenna_Outlier-1/runs/fgesj1dc</a><br/>Synced 5 W&B file(s), 0 media file(s), 0 artifact file(s) and 0 other file(s)"
      ],
      "text/plain": [
       "<IPython.core.display.HTML object>"
      ]
     },
     "metadata": {},
     "output_type": "display_data"
    },
    {
     "data": {
      "text/html": [
       "Find logs at: <code>./wandb/run-20220817_072406-fgesj1dc/logs</code>"
      ],
      "text/plain": [
       "<IPython.core.display.HTML object>"
      ]
     },
     "metadata": {},
     "output_type": "display_data"
    },
    {
     "name": "stderr",
     "output_type": "stream",
     "text": [
      "\u001b[34m\u001b[1mwandb\u001b[0m: Sweep Agent: Waiting for job.\n",
      "\u001b[34m\u001b[1mwandb\u001b[0m: Job received.\n",
      "\u001b[34m\u001b[1mwandb\u001b[0m: Agent Starting Run: hgihb786 with config:\n",
      "\u001b[34m\u001b[1mwandb\u001b[0m: \tdrop_index: [70, 280, 6213, 13585, 37911]\n",
      "\u001b[34m\u001b[1mwandb\u001b[0m: \toutlier: 13819\n"
     ]
    },
    {
     "data": {
      "text/html": [
       "Tracking run with wandb version 0.13.1"
      ],
      "text/plain": [
       "<IPython.core.display.HTML object>"
      ]
     },
     "metadata": {},
     "output_type": "display_data"
    },
    {
     "data": {
      "text/html": [
       "Run data is saved locally in <code>/content/Antenna-Performance-Prediction/wandb/run-20220817_072458-hgihb786</code>"
      ],
      "text/plain": [
       "<IPython.core.display.HTML object>"
      ]
     },
     "metadata": {},
     "output_type": "display_data"
    },
    {
     "data": {
      "text/html": [
       "Syncing run <strong><a href=\"https://wandb.ai/zbooster/Antenna_Outlier-1/runs/hgihb786\" target=\"_blank\">fanciful-sweep-83</a></strong> to <a href=\"https://wandb.ai/zbooster/Antenna_Outlier-1\" target=\"_blank\">Weights & Biases</a> (<a href=\"https://wandb.me/run\" target=\"_blank\">docs</a>)<br/>Sweep page:  <a href=\"https://wandb.ai/zbooster/Antenna_Outlier-1/sweeps/nj4jorxe\" target=\"_blank\">https://wandb.ai/zbooster/Antenna_Outlier-1/sweeps/nj4jorxe</a>"
      ],
      "text/plain": [
       "<IPython.core.display.HTML object>"
      ]
     },
     "metadata": {},
     "output_type": "display_data"
    },
    {
     "data": {
      "text/html": [
       "Waiting for W&B process to finish... <strong style=\"color:green\">(success).</strong>"
      ],
      "text/plain": [
       "<IPython.core.display.HTML object>"
      ]
     },
     "metadata": {},
     "output_type": "display_data"
    },
    {
     "data": {
      "application/vnd.jupyter.widget-view+json": {
       "model_id": "1b99f5565d8c483694f51b27cc08f50c",
       "version_major": 2,
       "version_minor": 0
      },
      "text/plain": [
       "VBox(children=(Label(value='0.001 MB of 0.001 MB uploaded (0.000 MB deduped)\\r'), FloatProgress(value=1.0, max…"
      ]
     },
     "metadata": {},
     "output_type": "display_data"
    },
    {
     "data": {
      "text/html": [
       "<style>\n",
       "    table.wandb td:nth-child(1) { padding: 0 10px; text-align: left ; width: auto;} td:nth-child(2) {text-align: left ; width: 100%}\n",
       "    .wandb-row { display: flex; flex-direction: row; flex-wrap: wrap; justify-content: flex-start; width: 100% }\n",
       "    .wandb-col { display: flex; flex-direction: column; flex-basis: 100%; flex: 1; padding: 10px; }\n",
       "    </style>\n",
       "<div class=\"wandb-row\"><div class=\"wandb-col\"><h3>Run history:</h3><br/><table class=\"wandb\"><tr><td>LG_NRMSE_BEST</td><td>▁</td></tr><tr><td>LG_NRMSE_MEAN</td><td>▁</td></tr><tr><td>Y_01_NRMSE</td><td>▁</td></tr><tr><td>Y_02_NRMSE</td><td>▁</td></tr><tr><td>Y_03_NRMSE</td><td>▁</td></tr><tr><td>Y_04_NRMSE</td><td>▁</td></tr><tr><td>Y_05_NRMSE</td><td>▁</td></tr><tr><td>Y_06_NRMSE</td><td>▁</td></tr><tr><td>Y_07_NRMSE</td><td>▁</td></tr><tr><td>Y_08_NRMSE</td><td>▁</td></tr><tr><td>Y_09_NRMSE</td><td>▁</td></tr><tr><td>Y_10_NRMSE</td><td>▁</td></tr><tr><td>Y_11_NRMSE</td><td>▁</td></tr><tr><td>Y_12_NRMSE</td><td>▁</td></tr><tr><td>Y_13_NRMSE</td><td>▁</td></tr><tr><td>Y_14_NRMSE</td><td>▁</td></tr></table><br/></div><div class=\"wandb-col\"><h3>Run summary:</h3><br/><table class=\"wandb\"><tr><td>LG_NRMSE_BEST</td><td>1.92247</td></tr><tr><td>LG_NRMSE_MEAN</td><td>1.92247</td></tr><tr><td>Y_01_NRMSE</td><td>0.25352</td></tr><tr><td>Y_02_NRMSE</td><td>0.35109</td></tr><tr><td>Y_03_NRMSE</td><td>0.34475</td></tr><tr><td>Y_04_NRMSE</td><td>0.1881</td></tr><tr><td>Y_05_NRMSE</td><td>0.07904</td></tr><tr><td>Y_06_NRMSE</td><td>0.09182</td></tr><tr><td>Y_07_NRMSE</td><td>0.12977</td></tr><tr><td>Y_08_NRMSE</td><td>0.02425</td></tr><tr><td>Y_09_NRMSE</td><td>0.02403</td></tr><tr><td>Y_10_NRMSE</td><td>0.0377</td></tr><tr><td>Y_11_NRMSE</td><td>0.03362</td></tr><tr><td>Y_12_NRMSE</td><td>0.02415</td></tr><tr><td>Y_13_NRMSE</td><td>0.0241</td></tr><tr><td>Y_14_NRMSE</td><td>0.02409</td></tr></table><br/></div></div>"
      ],
      "text/plain": [
       "<IPython.core.display.HTML object>"
      ]
     },
     "metadata": {},
     "output_type": "display_data"
    },
    {
     "data": {
      "text/html": [
       "Synced <strong style=\"color:#cdcd00\">fanciful-sweep-83</strong>: <a href=\"https://wandb.ai/zbooster/Antenna_Outlier-1/runs/hgihb786\" target=\"_blank\">https://wandb.ai/zbooster/Antenna_Outlier-1/runs/hgihb786</a><br/>Synced 5 W&B file(s), 0 media file(s), 0 artifact file(s) and 0 other file(s)"
      ],
      "text/plain": [
       "<IPython.core.display.HTML object>"
      ]
     },
     "metadata": {},
     "output_type": "display_data"
    },
    {
     "data": {
      "text/html": [
       "Find logs at: <code>./wandb/run-20220817_072458-hgihb786/logs</code>"
      ],
      "text/plain": [
       "<IPython.core.display.HTML object>"
      ]
     },
     "metadata": {},
     "output_type": "display_data"
    },
    {
     "name": "stderr",
     "output_type": "stream",
     "text": [
      "\u001b[34m\u001b[1mwandb\u001b[0m: Agent Starting Run: eii5mvze with config:\n",
      "\u001b[34m\u001b[1mwandb\u001b[0m: \tdrop_index: [70, 280, 6213, 13585, 37911]\n",
      "\u001b[34m\u001b[1mwandb\u001b[0m: \toutlier: 15315\n"
     ]
    },
    {
     "data": {
      "text/html": [
       "Tracking run with wandb version 0.13.1"
      ],
      "text/plain": [
       "<IPython.core.display.HTML object>"
      ]
     },
     "metadata": {},
     "output_type": "display_data"
    },
    {
     "data": {
      "text/html": [
       "Run data is saved locally in <code>/content/Antenna-Performance-Prediction/wandb/run-20220817_072608-eii5mvze</code>"
      ],
      "text/plain": [
       "<IPython.core.display.HTML object>"
      ]
     },
     "metadata": {},
     "output_type": "display_data"
    },
    {
     "data": {
      "text/html": [
       "Syncing run <strong><a href=\"https://wandb.ai/zbooster/Antenna_Outlier-1/runs/eii5mvze\" target=\"_blank\">fine-sweep-84</a></strong> to <a href=\"https://wandb.ai/zbooster/Antenna_Outlier-1\" target=\"_blank\">Weights & Biases</a> (<a href=\"https://wandb.me/run\" target=\"_blank\">docs</a>)<br/>Sweep page:  <a href=\"https://wandb.ai/zbooster/Antenna_Outlier-1/sweeps/nj4jorxe\" target=\"_blank\">https://wandb.ai/zbooster/Antenna_Outlier-1/sweeps/nj4jorxe</a>"
      ],
      "text/plain": [
       "<IPython.core.display.HTML object>"
      ]
     },
     "metadata": {},
     "output_type": "display_data"
    },
    {
     "data": {
      "text/html": [
       "Waiting for W&B process to finish... <strong style=\"color:green\">(success).</strong>"
      ],
      "text/plain": [
       "<IPython.core.display.HTML object>"
      ]
     },
     "metadata": {},
     "output_type": "display_data"
    },
    {
     "data": {
      "application/vnd.jupyter.widget-view+json": {
       "model_id": "c5712de5ff8a49bdbe78138297c42855",
       "version_major": 2,
       "version_minor": 0
      },
      "text/plain": [
       "VBox(children=(Label(value='0.001 MB of 0.001 MB uploaded (0.000 MB deduped)\\r'), FloatProgress(value=1.0, max…"
      ]
     },
     "metadata": {},
     "output_type": "display_data"
    },
    {
     "data": {
      "text/html": [
       "<style>\n",
       "    table.wandb td:nth-child(1) { padding: 0 10px; text-align: left ; width: auto;} td:nth-child(2) {text-align: left ; width: 100%}\n",
       "    .wandb-row { display: flex; flex-direction: row; flex-wrap: wrap; justify-content: flex-start; width: 100% }\n",
       "    .wandb-col { display: flex; flex-direction: column; flex-basis: 100%; flex: 1; padding: 10px; }\n",
       "    </style>\n",
       "<div class=\"wandb-row\"><div class=\"wandb-col\"><h3>Run history:</h3><br/><table class=\"wandb\"><tr><td>LG_NRMSE_BEST</td><td>▁</td></tr><tr><td>LG_NRMSE_MEAN</td><td>▁</td></tr><tr><td>Y_01_NRMSE</td><td>▁</td></tr><tr><td>Y_02_NRMSE</td><td>▁</td></tr><tr><td>Y_03_NRMSE</td><td>▁</td></tr><tr><td>Y_04_NRMSE</td><td>▁</td></tr><tr><td>Y_05_NRMSE</td><td>▁</td></tr><tr><td>Y_06_NRMSE</td><td>▁</td></tr><tr><td>Y_07_NRMSE</td><td>▁</td></tr><tr><td>Y_08_NRMSE</td><td>▁</td></tr><tr><td>Y_09_NRMSE</td><td>▁</td></tr><tr><td>Y_10_NRMSE</td><td>▁</td></tr><tr><td>Y_11_NRMSE</td><td>▁</td></tr><tr><td>Y_12_NRMSE</td><td>▁</td></tr><tr><td>Y_13_NRMSE</td><td>▁</td></tr><tr><td>Y_14_NRMSE</td><td>▁</td></tr></table><br/></div><div class=\"wandb-col\"><h3>Run summary:</h3><br/><table class=\"wandb\"><tr><td>LG_NRMSE_BEST</td><td>1.91659</td></tr><tr><td>LG_NRMSE_MEAN</td><td>1.91659</td></tr><tr><td>Y_01_NRMSE</td><td>0.25292</td></tr><tr><td>Y_02_NRMSE</td><td>0.35024</td></tr><tr><td>Y_03_NRMSE</td><td>0.34417</td></tr><tr><td>Y_04_NRMSE</td><td>0.18738</td></tr><tr><td>Y_05_NRMSE</td><td>0.07867</td></tr><tr><td>Y_06_NRMSE</td><td>0.09115</td></tr><tr><td>Y_07_NRMSE</td><td>0.12938</td></tr><tr><td>Y_08_NRMSE</td><td>0.02411</td></tr><tr><td>Y_09_NRMSE</td><td>0.02392</td></tr><tr><td>Y_10_NRMSE</td><td>0.03755</td></tr><tr><td>Y_11_NRMSE</td><td>0.03347</td></tr><tr><td>Y_12_NRMSE</td><td>0.02404</td></tr><tr><td>Y_13_NRMSE</td><td>0.02398</td></tr><tr><td>Y_14_NRMSE</td><td>0.024</td></tr></table><br/></div></div>"
      ],
      "text/plain": [
       "<IPython.core.display.HTML object>"
      ]
     },
     "metadata": {},
     "output_type": "display_data"
    },
    {
     "data": {
      "text/html": [
       "Synced <strong style=\"color:#cdcd00\">fine-sweep-84</strong>: <a href=\"https://wandb.ai/zbooster/Antenna_Outlier-1/runs/eii5mvze\" target=\"_blank\">https://wandb.ai/zbooster/Antenna_Outlier-1/runs/eii5mvze</a><br/>Synced 5 W&B file(s), 0 media file(s), 0 artifact file(s) and 0 other file(s)"
      ],
      "text/plain": [
       "<IPython.core.display.HTML object>"
      ]
     },
     "metadata": {},
     "output_type": "display_data"
    },
    {
     "data": {
      "text/html": [
       "Find logs at: <code>./wandb/run-20220817_072608-eii5mvze/logs</code>"
      ],
      "text/plain": [
       "<IPython.core.display.HTML object>"
      ]
     },
     "metadata": {},
     "output_type": "display_data"
    },
    {
     "name": "stderr",
     "output_type": "stream",
     "text": [
      "\u001b[34m\u001b[1mwandb\u001b[0m: Agent Starting Run: p70pp8om with config:\n",
      "\u001b[34m\u001b[1mwandb\u001b[0m: \tdrop_index: [70, 280, 6213, 13585, 37911]\n",
      "\u001b[34m\u001b[1mwandb\u001b[0m: \toutlier: 15486\n"
     ]
    },
    {
     "data": {
      "text/html": [
       "Tracking run with wandb version 0.13.1"
      ],
      "text/plain": [
       "<IPython.core.display.HTML object>"
      ]
     },
     "metadata": {},
     "output_type": "display_data"
    },
    {
     "data": {
      "text/html": [
       "Run data is saved locally in <code>/content/Antenna-Performance-Prediction/wandb/run-20220817_072655-p70pp8om</code>"
      ],
      "text/plain": [
       "<IPython.core.display.HTML object>"
      ]
     },
     "metadata": {},
     "output_type": "display_data"
    },
    {
     "data": {
      "text/html": [
       "Syncing run <strong><a href=\"https://wandb.ai/zbooster/Antenna_Outlier-1/runs/p70pp8om\" target=\"_blank\">hardy-sweep-85</a></strong> to <a href=\"https://wandb.ai/zbooster/Antenna_Outlier-1\" target=\"_blank\">Weights & Biases</a> (<a href=\"https://wandb.me/run\" target=\"_blank\">docs</a>)<br/>Sweep page:  <a href=\"https://wandb.ai/zbooster/Antenna_Outlier-1/sweeps/nj4jorxe\" target=\"_blank\">https://wandb.ai/zbooster/Antenna_Outlier-1/sweeps/nj4jorxe</a>"
      ],
      "text/plain": [
       "<IPython.core.display.HTML object>"
      ]
     },
     "metadata": {},
     "output_type": "display_data"
    },
    {
     "data": {
      "text/html": [
       "Waiting for W&B process to finish... <strong style=\"color:green\">(success).</strong>"
      ],
      "text/plain": [
       "<IPython.core.display.HTML object>"
      ]
     },
     "metadata": {},
     "output_type": "display_data"
    },
    {
     "data": {
      "application/vnd.jupyter.widget-view+json": {
       "model_id": "368a88b9b9284bdfae79d756c1fba0cc",
       "version_major": 2,
       "version_minor": 0
      },
      "text/plain": [
       "VBox(children=(Label(value='0.001 MB of 0.001 MB uploaded (0.000 MB deduped)\\r'), FloatProgress(value=1.0, max…"
      ]
     },
     "metadata": {},
     "output_type": "display_data"
    },
    {
     "data": {
      "text/html": [
       "<style>\n",
       "    table.wandb td:nth-child(1) { padding: 0 10px; text-align: left ; width: auto;} td:nth-child(2) {text-align: left ; width: 100%}\n",
       "    .wandb-row { display: flex; flex-direction: row; flex-wrap: wrap; justify-content: flex-start; width: 100% }\n",
       "    .wandb-col { display: flex; flex-direction: column; flex-basis: 100%; flex: 1; padding: 10px; }\n",
       "    </style>\n",
       "<div class=\"wandb-row\"><div class=\"wandb-col\"><h3>Run history:</h3><br/><table class=\"wandb\"><tr><td>LG_NRMSE_BEST</td><td>▁</td></tr><tr><td>LG_NRMSE_MEAN</td><td>▁</td></tr><tr><td>Y_01_NRMSE</td><td>▁</td></tr><tr><td>Y_02_NRMSE</td><td>▁</td></tr><tr><td>Y_03_NRMSE</td><td>▁</td></tr><tr><td>Y_04_NRMSE</td><td>▁</td></tr><tr><td>Y_05_NRMSE</td><td>▁</td></tr><tr><td>Y_06_NRMSE</td><td>▁</td></tr><tr><td>Y_07_NRMSE</td><td>▁</td></tr><tr><td>Y_08_NRMSE</td><td>▁</td></tr><tr><td>Y_09_NRMSE</td><td>▁</td></tr><tr><td>Y_10_NRMSE</td><td>▁</td></tr><tr><td>Y_11_NRMSE</td><td>▁</td></tr><tr><td>Y_12_NRMSE</td><td>▁</td></tr><tr><td>Y_13_NRMSE</td><td>▁</td></tr><tr><td>Y_14_NRMSE</td><td>▁</td></tr></table><br/></div><div class=\"wandb-col\"><h3>Run summary:</h3><br/><table class=\"wandb\"><tr><td>LG_NRMSE_BEST</td><td>1.9162</td></tr><tr><td>LG_NRMSE_MEAN</td><td>1.9162</td></tr><tr><td>Y_01_NRMSE</td><td>0.25318</td></tr><tr><td>Y_02_NRMSE</td><td>0.34979</td></tr><tr><td>Y_03_NRMSE</td><td>0.34361</td></tr><tr><td>Y_04_NRMSE</td><td>0.1875</td></tr><tr><td>Y_05_NRMSE</td><td>0.07874</td></tr><tr><td>Y_06_NRMSE</td><td>0.09141</td></tr><tr><td>Y_07_NRMSE</td><td>0.12934</td></tr><tr><td>Y_08_NRMSE</td><td>0.02411</td></tr><tr><td>Y_09_NRMSE</td><td>0.02391</td></tr><tr><td>Y_10_NRMSE</td><td>0.03757</td></tr><tr><td>Y_11_NRMSE</td><td>0.03347</td></tr><tr><td>Y_12_NRMSE</td><td>0.02404</td></tr><tr><td>Y_13_NRMSE</td><td>0.02398</td></tr><tr><td>Y_14_NRMSE</td><td>0.02399</td></tr></table><br/></div></div>"
      ],
      "text/plain": [
       "<IPython.core.display.HTML object>"
      ]
     },
     "metadata": {},
     "output_type": "display_data"
    },
    {
     "data": {
      "text/html": [
       "Synced <strong style=\"color:#cdcd00\">hardy-sweep-85</strong>: <a href=\"https://wandb.ai/zbooster/Antenna_Outlier-1/runs/p70pp8om\" target=\"_blank\">https://wandb.ai/zbooster/Antenna_Outlier-1/runs/p70pp8om</a><br/>Synced 5 W&B file(s), 0 media file(s), 0 artifact file(s) and 0 other file(s)"
      ],
      "text/plain": [
       "<IPython.core.display.HTML object>"
      ]
     },
     "metadata": {},
     "output_type": "display_data"
    },
    {
     "data": {
      "text/html": [
       "Find logs at: <code>./wandb/run-20220817_072655-p70pp8om/logs</code>"
      ],
      "text/plain": [
       "<IPython.core.display.HTML object>"
      ]
     },
     "metadata": {},
     "output_type": "display_data"
    },
    {
     "name": "stderr",
     "output_type": "stream",
     "text": [
      "\u001b[34m\u001b[1mwandb\u001b[0m: Sweep Agent: Waiting for job.\n",
      "\u001b[34m\u001b[1mwandb\u001b[0m: Job received.\n",
      "\u001b[34m\u001b[1mwandb\u001b[0m: Agent Starting Run: txn5e001 with config:\n",
      "\u001b[34m\u001b[1mwandb\u001b[0m: \tdrop_index: [70, 280, 6213, 13585, 37911]\n",
      "\u001b[34m\u001b[1mwandb\u001b[0m: \toutlier: 16681\n"
     ]
    },
    {
     "data": {
      "text/html": [
       "Tracking run with wandb version 0.13.1"
      ],
      "text/plain": [
       "<IPython.core.display.HTML object>"
      ]
     },
     "metadata": {},
     "output_type": "display_data"
    },
    {
     "data": {
      "text/html": [
       "Run data is saved locally in <code>/content/Antenna-Performance-Prediction/wandb/run-20220817_072836-txn5e001</code>"
      ],
      "text/plain": [
       "<IPython.core.display.HTML object>"
      ]
     },
     "metadata": {},
     "output_type": "display_data"
    },
    {
     "data": {
      "text/html": [
       "Syncing run <strong><a href=\"https://wandb.ai/zbooster/Antenna_Outlier-1/runs/txn5e001\" target=\"_blank\">worldly-sweep-86</a></strong> to <a href=\"https://wandb.ai/zbooster/Antenna_Outlier-1\" target=\"_blank\">Weights & Biases</a> (<a href=\"https://wandb.me/run\" target=\"_blank\">docs</a>)<br/>Sweep page:  <a href=\"https://wandb.ai/zbooster/Antenna_Outlier-1/sweeps/nj4jorxe\" target=\"_blank\">https://wandb.ai/zbooster/Antenna_Outlier-1/sweeps/nj4jorxe</a>"
      ],
      "text/plain": [
       "<IPython.core.display.HTML object>"
      ]
     },
     "metadata": {},
     "output_type": "display_data"
    },
    {
     "data": {
      "text/html": [
       "Waiting for W&B process to finish... <strong style=\"color:green\">(success).</strong>"
      ],
      "text/plain": [
       "<IPython.core.display.HTML object>"
      ]
     },
     "metadata": {},
     "output_type": "display_data"
    },
    {
     "data": {
      "application/vnd.jupyter.widget-view+json": {
       "model_id": "9b7d4efb54d740868219f9d5c0570cc3",
       "version_major": 2,
       "version_minor": 0
      },
      "text/plain": [
       "VBox(children=(Label(value='0.001 MB of 0.001 MB uploaded (0.000 MB deduped)\\r'), FloatProgress(value=1.0, max…"
      ]
     },
     "metadata": {},
     "output_type": "display_data"
    },
    {
     "data": {
      "text/html": [
       "<style>\n",
       "    table.wandb td:nth-child(1) { padding: 0 10px; text-align: left ; width: auto;} td:nth-child(2) {text-align: left ; width: 100%}\n",
       "    .wandb-row { display: flex; flex-direction: row; flex-wrap: wrap; justify-content: flex-start; width: 100% }\n",
       "    .wandb-col { display: flex; flex-direction: column; flex-basis: 100%; flex: 1; padding: 10px; }\n",
       "    </style>\n",
       "<div class=\"wandb-row\"><div class=\"wandb-col\"><h3>Run history:</h3><br/><table class=\"wandb\"><tr><td>LG_NRMSE_BEST</td><td>▁</td></tr><tr><td>LG_NRMSE_MEAN</td><td>▁</td></tr><tr><td>Y_01_NRMSE</td><td>▁</td></tr><tr><td>Y_02_NRMSE</td><td>▁</td></tr><tr><td>Y_03_NRMSE</td><td>▁</td></tr><tr><td>Y_04_NRMSE</td><td>▁</td></tr><tr><td>Y_05_NRMSE</td><td>▁</td></tr><tr><td>Y_06_NRMSE</td><td>▁</td></tr><tr><td>Y_07_NRMSE</td><td>▁</td></tr><tr><td>Y_08_NRMSE</td><td>▁</td></tr><tr><td>Y_09_NRMSE</td><td>▁</td></tr><tr><td>Y_10_NRMSE</td><td>▁</td></tr><tr><td>Y_11_NRMSE</td><td>▁</td></tr><tr><td>Y_12_NRMSE</td><td>▁</td></tr><tr><td>Y_13_NRMSE</td><td>▁</td></tr><tr><td>Y_14_NRMSE</td><td>▁</td></tr></table><br/></div><div class=\"wandb-col\"><h3>Run summary:</h3><br/><table class=\"wandb\"><tr><td>LG_NRMSE_BEST</td><td>1.92168</td></tr><tr><td>LG_NRMSE_MEAN</td><td>1.92168</td></tr><tr><td>Y_01_NRMSE</td><td>0.25379</td></tr><tr><td>Y_02_NRMSE</td><td>0.35122</td></tr><tr><td>Y_03_NRMSE</td><td>0.34515</td></tr><tr><td>Y_04_NRMSE</td><td>0.18792</td></tr><tr><td>Y_05_NRMSE</td><td>0.0787</td></tr><tr><td>Y_06_NRMSE</td><td>0.09209</td></tr><tr><td>Y_07_NRMSE</td><td>0.12912</td></tr><tr><td>Y_08_NRMSE</td><td>0.02414</td></tr><tr><td>Y_09_NRMSE</td><td>0.02393</td></tr><tr><td>Y_10_NRMSE</td><td>0.03763</td></tr><tr><td>Y_11_NRMSE</td><td>0.03346</td></tr><tr><td>Y_12_NRMSE</td><td>0.02406</td></tr><tr><td>Y_13_NRMSE</td><td>0.024</td></tr><tr><td>Y_14_NRMSE</td><td>0.02402</td></tr></table><br/></div></div>"
      ],
      "text/plain": [
       "<IPython.core.display.HTML object>"
      ]
     },
     "metadata": {},
     "output_type": "display_data"
    },
    {
     "data": {
      "text/html": [
       "Synced <strong style=\"color:#cdcd00\">worldly-sweep-86</strong>: <a href=\"https://wandb.ai/zbooster/Antenna_Outlier-1/runs/txn5e001\" target=\"_blank\">https://wandb.ai/zbooster/Antenna_Outlier-1/runs/txn5e001</a><br/>Synced 5 W&B file(s), 0 media file(s), 0 artifact file(s) and 0 other file(s)"
      ],
      "text/plain": [
       "<IPython.core.display.HTML object>"
      ]
     },
     "metadata": {},
     "output_type": "display_data"
    },
    {
     "data": {
      "text/html": [
       "Find logs at: <code>./wandb/run-20220817_072836-txn5e001/logs</code>"
      ],
      "text/plain": [
       "<IPython.core.display.HTML object>"
      ]
     },
     "metadata": {},
     "output_type": "display_data"
    },
    {
     "name": "stderr",
     "output_type": "stream",
     "text": [
      "\u001b[34m\u001b[1mwandb\u001b[0m: Sweep Agent: Waiting for job.\n",
      "\u001b[34m\u001b[1mwandb\u001b[0m: Job received.\n",
      "\u001b[34m\u001b[1mwandb\u001b[0m: Agent Starting Run: b7g2udd9 with config:\n",
      "\u001b[34m\u001b[1mwandb\u001b[0m: \tdrop_index: [70, 280, 6213, 13585, 37911]\n",
      "\u001b[34m\u001b[1mwandb\u001b[0m: \toutlier: 18100\n"
     ]
    },
    {
     "data": {
      "text/html": [
       "Tracking run with wandb version 0.13.1"
      ],
      "text/plain": [
       "<IPython.core.display.HTML object>"
      ]
     },
     "metadata": {},
     "output_type": "display_data"
    },
    {
     "data": {
      "text/html": [
       "Run data is saved locally in <code>/content/Antenna-Performance-Prediction/wandb/run-20220817_072938-b7g2udd9</code>"
      ],
      "text/plain": [
       "<IPython.core.display.HTML object>"
      ]
     },
     "metadata": {},
     "output_type": "display_data"
    },
    {
     "data": {
      "text/html": [
       "Syncing run <strong><a href=\"https://wandb.ai/zbooster/Antenna_Outlier-1/runs/b7g2udd9\" target=\"_blank\">visionary-sweep-87</a></strong> to <a href=\"https://wandb.ai/zbooster/Antenna_Outlier-1\" target=\"_blank\">Weights & Biases</a> (<a href=\"https://wandb.me/run\" target=\"_blank\">docs</a>)<br/>Sweep page:  <a href=\"https://wandb.ai/zbooster/Antenna_Outlier-1/sweeps/nj4jorxe\" target=\"_blank\">https://wandb.ai/zbooster/Antenna_Outlier-1/sweeps/nj4jorxe</a>"
      ],
      "text/plain": [
       "<IPython.core.display.HTML object>"
      ]
     },
     "metadata": {},
     "output_type": "display_data"
    },
    {
     "data": {
      "text/html": [
       "Waiting for W&B process to finish... <strong style=\"color:green\">(success).</strong>"
      ],
      "text/plain": [
       "<IPython.core.display.HTML object>"
      ]
     },
     "metadata": {},
     "output_type": "display_data"
    },
    {
     "data": {
      "application/vnd.jupyter.widget-view+json": {
       "model_id": "69070285d80b43e3bdd2a4d4e5e9c2b8",
       "version_major": 2,
       "version_minor": 0
      },
      "text/plain": [
       "VBox(children=(Label(value='0.001 MB of 0.001 MB uploaded (0.000 MB deduped)\\r'), FloatProgress(value=1.0, max…"
      ]
     },
     "metadata": {},
     "output_type": "display_data"
    },
    {
     "data": {
      "text/html": [
       "<style>\n",
       "    table.wandb td:nth-child(1) { padding: 0 10px; text-align: left ; width: auto;} td:nth-child(2) {text-align: left ; width: 100%}\n",
       "    .wandb-row { display: flex; flex-direction: row; flex-wrap: wrap; justify-content: flex-start; width: 100% }\n",
       "    .wandb-col { display: flex; flex-direction: column; flex-basis: 100%; flex: 1; padding: 10px; }\n",
       "    </style>\n",
       "<div class=\"wandb-row\"><div class=\"wandb-col\"><h3>Run history:</h3><br/><table class=\"wandb\"><tr><td>LG_NRMSE_BEST</td><td>▁</td></tr><tr><td>LG_NRMSE_MEAN</td><td>▁</td></tr><tr><td>Y_01_NRMSE</td><td>▁</td></tr><tr><td>Y_02_NRMSE</td><td>▁</td></tr><tr><td>Y_03_NRMSE</td><td>▁</td></tr><tr><td>Y_04_NRMSE</td><td>▁</td></tr><tr><td>Y_05_NRMSE</td><td>▁</td></tr><tr><td>Y_06_NRMSE</td><td>▁</td></tr><tr><td>Y_07_NRMSE</td><td>▁</td></tr><tr><td>Y_08_NRMSE</td><td>▁</td></tr><tr><td>Y_09_NRMSE</td><td>▁</td></tr><tr><td>Y_10_NRMSE</td><td>▁</td></tr><tr><td>Y_11_NRMSE</td><td>▁</td></tr><tr><td>Y_12_NRMSE</td><td>▁</td></tr><tr><td>Y_13_NRMSE</td><td>▁</td></tr><tr><td>Y_14_NRMSE</td><td>▁</td></tr></table><br/></div><div class=\"wandb-col\"><h3>Run summary:</h3><br/><table class=\"wandb\"><tr><td>LG_NRMSE_BEST</td><td>1.91882</td></tr><tr><td>LG_NRMSE_MEAN</td><td>1.91882</td></tr><tr><td>Y_01_NRMSE</td><td>0.25326</td></tr><tr><td>Y_02_NRMSE</td><td>0.35067</td></tr><tr><td>Y_03_NRMSE</td><td>0.34466</td></tr><tr><td>Y_04_NRMSE</td><td>0.18781</td></tr><tr><td>Y_05_NRMSE</td><td>0.07876</td></tr><tr><td>Y_06_NRMSE</td><td>0.09184</td></tr><tr><td>Y_07_NRMSE</td><td>0.1289</td></tr><tr><td>Y_08_NRMSE</td><td>0.0241</td></tr><tr><td>Y_09_NRMSE</td><td>0.02391</td></tr><tr><td>Y_10_NRMSE</td><td>0.0375</td></tr><tr><td>Y_11_NRMSE</td><td>0.0334</td></tr><tr><td>Y_12_NRMSE</td><td>0.02402</td></tr><tr><td>Y_13_NRMSE</td><td>0.02398</td></tr><tr><td>Y_14_NRMSE</td><td>0.02401</td></tr></table><br/></div></div>"
      ],
      "text/plain": [
       "<IPython.core.display.HTML object>"
      ]
     },
     "metadata": {},
     "output_type": "display_data"
    },
    {
     "data": {
      "text/html": [
       "Synced <strong style=\"color:#cdcd00\">visionary-sweep-87</strong>: <a href=\"https://wandb.ai/zbooster/Antenna_Outlier-1/runs/b7g2udd9\" target=\"_blank\">https://wandb.ai/zbooster/Antenna_Outlier-1/runs/b7g2udd9</a><br/>Synced 5 W&B file(s), 0 media file(s), 0 artifact file(s) and 0 other file(s)"
      ],
      "text/plain": [
       "<IPython.core.display.HTML object>"
      ]
     },
     "metadata": {},
     "output_type": "display_data"
    },
    {
     "data": {
      "text/html": [
       "Find logs at: <code>./wandb/run-20220817_072938-b7g2udd9/logs</code>"
      ],
      "text/plain": [
       "<IPython.core.display.HTML object>"
      ]
     },
     "metadata": {},
     "output_type": "display_data"
    },
    {
     "name": "stderr",
     "output_type": "stream",
     "text": [
      "\u001b[34m\u001b[1mwandb\u001b[0m: Agent Starting Run: 7ac4hfah with config:\n",
      "\u001b[34m\u001b[1mwandb\u001b[0m: \tdrop_index: [70, 280, 6213, 13585, 37911]\n",
      "\u001b[34m\u001b[1mwandb\u001b[0m: \toutlier: 19870\n"
     ]
    },
    {
     "data": {
      "text/html": [
       "Tracking run with wandb version 0.13.1"
      ],
      "text/plain": [
       "<IPython.core.display.HTML object>"
      ]
     },
     "metadata": {},
     "output_type": "display_data"
    },
    {
     "data": {
      "text/html": [
       "Run data is saved locally in <code>/content/Antenna-Performance-Prediction/wandb/run-20220817_073043-7ac4hfah</code>"
      ],
      "text/plain": [
       "<IPython.core.display.HTML object>"
      ]
     },
     "metadata": {},
     "output_type": "display_data"
    },
    {
     "data": {
      "text/html": [
       "Syncing run <strong><a href=\"https://wandb.ai/zbooster/Antenna_Outlier-1/runs/7ac4hfah\" target=\"_blank\">glorious-sweep-88</a></strong> to <a href=\"https://wandb.ai/zbooster/Antenna_Outlier-1\" target=\"_blank\">Weights & Biases</a> (<a href=\"https://wandb.me/run\" target=\"_blank\">docs</a>)<br/>Sweep page:  <a href=\"https://wandb.ai/zbooster/Antenna_Outlier-1/sweeps/nj4jorxe\" target=\"_blank\">https://wandb.ai/zbooster/Antenna_Outlier-1/sweeps/nj4jorxe</a>"
      ],
      "text/plain": [
       "<IPython.core.display.HTML object>"
      ]
     },
     "metadata": {},
     "output_type": "display_data"
    },
    {
     "data": {
      "text/html": [
       "Waiting for W&B process to finish... <strong style=\"color:green\">(success).</strong>"
      ],
      "text/plain": [
       "<IPython.core.display.HTML object>"
      ]
     },
     "metadata": {},
     "output_type": "display_data"
    },
    {
     "data": {
      "application/vnd.jupyter.widget-view+json": {
       "model_id": "297f6dcbe0e64193a36de05f8ee47eee",
       "version_major": 2,
       "version_minor": 0
      },
      "text/plain": [
       "VBox(children=(Label(value='0.001 MB of 0.001 MB uploaded (0.000 MB deduped)\\r'), FloatProgress(value=1.0, max…"
      ]
     },
     "metadata": {},
     "output_type": "display_data"
    },
    {
     "data": {
      "text/html": [
       "<style>\n",
       "    table.wandb td:nth-child(1) { padding: 0 10px; text-align: left ; width: auto;} td:nth-child(2) {text-align: left ; width: 100%}\n",
       "    .wandb-row { display: flex; flex-direction: row; flex-wrap: wrap; justify-content: flex-start; width: 100% }\n",
       "    .wandb-col { display: flex; flex-direction: column; flex-basis: 100%; flex: 1; padding: 10px; }\n",
       "    </style>\n",
       "<div class=\"wandb-row\"><div class=\"wandb-col\"><h3>Run history:</h3><br/><table class=\"wandb\"><tr><td>LG_NRMSE_BEST</td><td>▁</td></tr><tr><td>LG_NRMSE_MEAN</td><td>▁</td></tr><tr><td>Y_01_NRMSE</td><td>▁</td></tr><tr><td>Y_02_NRMSE</td><td>▁</td></tr><tr><td>Y_03_NRMSE</td><td>▁</td></tr><tr><td>Y_04_NRMSE</td><td>▁</td></tr><tr><td>Y_05_NRMSE</td><td>▁</td></tr><tr><td>Y_06_NRMSE</td><td>▁</td></tr><tr><td>Y_07_NRMSE</td><td>▁</td></tr><tr><td>Y_08_NRMSE</td><td>▁</td></tr><tr><td>Y_09_NRMSE</td><td>▁</td></tr><tr><td>Y_10_NRMSE</td><td>▁</td></tr><tr><td>Y_11_NRMSE</td><td>▁</td></tr><tr><td>Y_12_NRMSE</td><td>▁</td></tr><tr><td>Y_13_NRMSE</td><td>▁</td></tr><tr><td>Y_14_NRMSE</td><td>▁</td></tr></table><br/></div><div class=\"wandb-col\"><h3>Run summary:</h3><br/><table class=\"wandb\"><tr><td>LG_NRMSE_BEST</td><td>1.91655</td></tr><tr><td>LG_NRMSE_MEAN</td><td>1.91655</td></tr><tr><td>Y_01_NRMSE</td><td>0.25348</td></tr><tr><td>Y_02_NRMSE</td><td>0.3501</td></tr><tr><td>Y_03_NRMSE</td><td>0.3443</td></tr><tr><td>Y_04_NRMSE</td><td>0.18784</td></tr><tr><td>Y_05_NRMSE</td><td>0.07882</td></tr><tr><td>Y_06_NRMSE</td><td>0.09105</td></tr><tr><td>Y_07_NRMSE</td><td>0.12876</td></tr><tr><td>Y_08_NRMSE</td><td>0.02406</td></tr><tr><td>Y_09_NRMSE</td><td>0.02387</td></tr><tr><td>Y_10_NRMSE</td><td>0.03736</td></tr><tr><td>Y_11_NRMSE</td><td>0.03331</td></tr><tr><td>Y_12_NRMSE</td><td>0.02399</td></tr><tr><td>Y_13_NRMSE</td><td>0.02395</td></tr><tr><td>Y_14_NRMSE</td><td>0.02399</td></tr></table><br/></div></div>"
      ],
      "text/plain": [
       "<IPython.core.display.HTML object>"
      ]
     },
     "metadata": {},
     "output_type": "display_data"
    },
    {
     "data": {
      "text/html": [
       "Synced <strong style=\"color:#cdcd00\">glorious-sweep-88</strong>: <a href=\"https://wandb.ai/zbooster/Antenna_Outlier-1/runs/7ac4hfah\" target=\"_blank\">https://wandb.ai/zbooster/Antenna_Outlier-1/runs/7ac4hfah</a><br/>Synced 5 W&B file(s), 0 media file(s), 0 artifact file(s) and 0 other file(s)"
      ],
      "text/plain": [
       "<IPython.core.display.HTML object>"
      ]
     },
     "metadata": {},
     "output_type": "display_data"
    },
    {
     "data": {
      "text/html": [
       "Find logs at: <code>./wandb/run-20220817_073043-7ac4hfah/logs</code>"
      ],
      "text/plain": [
       "<IPython.core.display.HTML object>"
      ]
     },
     "metadata": {},
     "output_type": "display_data"
    },
    {
     "name": "stderr",
     "output_type": "stream",
     "text": [
      "\u001b[34m\u001b[1mwandb\u001b[0m: Sweep Agent: Waiting for job.\n",
      "\u001b[34m\u001b[1mwandb\u001b[0m: Job received.\n",
      "\u001b[34m\u001b[1mwandb\u001b[0m: Agent Starting Run: cut0z94t with config:\n",
      "\u001b[34m\u001b[1mwandb\u001b[0m: \tdrop_index: [70, 280, 6213, 13585, 37911]\n",
      "\u001b[34m\u001b[1mwandb\u001b[0m: \toutlier: 20597\n"
     ]
    },
    {
     "data": {
      "text/html": [
       "Tracking run with wandb version 0.13.1"
      ],
      "text/plain": [
       "<IPython.core.display.HTML object>"
      ]
     },
     "metadata": {},
     "output_type": "display_data"
    },
    {
     "data": {
      "text/html": [
       "Run data is saved locally in <code>/content/Antenna-Performance-Prediction/wandb/run-20220817_073156-cut0z94t</code>"
      ],
      "text/plain": [
       "<IPython.core.display.HTML object>"
      ]
     },
     "metadata": {},
     "output_type": "display_data"
    },
    {
     "data": {
      "text/html": [
       "Syncing run <strong><a href=\"https://wandb.ai/zbooster/Antenna_Outlier-1/runs/cut0z94t\" target=\"_blank\">glamorous-sweep-89</a></strong> to <a href=\"https://wandb.ai/zbooster/Antenna_Outlier-1\" target=\"_blank\">Weights & Biases</a> (<a href=\"https://wandb.me/run\" target=\"_blank\">docs</a>)<br/>Sweep page:  <a href=\"https://wandb.ai/zbooster/Antenna_Outlier-1/sweeps/nj4jorxe\" target=\"_blank\">https://wandb.ai/zbooster/Antenna_Outlier-1/sweeps/nj4jorxe</a>"
      ],
      "text/plain": [
       "<IPython.core.display.HTML object>"
      ]
     },
     "metadata": {},
     "output_type": "display_data"
    },
    {
     "data": {
      "text/html": [
       "Waiting for W&B process to finish... <strong style=\"color:green\">(success).</strong>"
      ],
      "text/plain": [
       "<IPython.core.display.HTML object>"
      ]
     },
     "metadata": {},
     "output_type": "display_data"
    },
    {
     "data": {
      "application/vnd.jupyter.widget-view+json": {
       "model_id": "692d6c7581074d98ab162e609aaf7bf1",
       "version_major": 2,
       "version_minor": 0
      },
      "text/plain": [
       "VBox(children=(Label(value='0.001 MB of 0.001 MB uploaded (0.000 MB deduped)\\r'), FloatProgress(value=1.0, max…"
      ]
     },
     "metadata": {},
     "output_type": "display_data"
    },
    {
     "data": {
      "text/html": [
       "<style>\n",
       "    table.wandb td:nth-child(1) { padding: 0 10px; text-align: left ; width: auto;} td:nth-child(2) {text-align: left ; width: 100%}\n",
       "    .wandb-row { display: flex; flex-direction: row; flex-wrap: wrap; justify-content: flex-start; width: 100% }\n",
       "    .wandb-col { display: flex; flex-direction: column; flex-basis: 100%; flex: 1; padding: 10px; }\n",
       "    </style>\n",
       "<div class=\"wandb-row\"><div class=\"wandb-col\"><h3>Run history:</h3><br/><table class=\"wandb\"><tr><td>LG_NRMSE_BEST</td><td>▁</td></tr><tr><td>LG_NRMSE_MEAN</td><td>▁</td></tr><tr><td>Y_01_NRMSE</td><td>▁</td></tr><tr><td>Y_02_NRMSE</td><td>▁</td></tr><tr><td>Y_03_NRMSE</td><td>▁</td></tr><tr><td>Y_04_NRMSE</td><td>▁</td></tr><tr><td>Y_05_NRMSE</td><td>▁</td></tr><tr><td>Y_06_NRMSE</td><td>▁</td></tr><tr><td>Y_07_NRMSE</td><td>▁</td></tr><tr><td>Y_08_NRMSE</td><td>▁</td></tr><tr><td>Y_09_NRMSE</td><td>▁</td></tr><tr><td>Y_10_NRMSE</td><td>▁</td></tr><tr><td>Y_11_NRMSE</td><td>▁</td></tr><tr><td>Y_12_NRMSE</td><td>▁</td></tr><tr><td>Y_13_NRMSE</td><td>▁</td></tr><tr><td>Y_14_NRMSE</td><td>▁</td></tr></table><br/></div><div class=\"wandb-col\"><h3>Run summary:</h3><br/><table class=\"wandb\"><tr><td>LG_NRMSE_BEST</td><td>1.91701</td></tr><tr><td>LG_NRMSE_MEAN</td><td>1.91701</td></tr><tr><td>Y_01_NRMSE</td><td>0.2535</td></tr><tr><td>Y_02_NRMSE</td><td>0.35012</td></tr><tr><td>Y_03_NRMSE</td><td>0.34461</td></tr><tr><td>Y_04_NRMSE</td><td>0.18743</td></tr><tr><td>Y_05_NRMSE</td><td>0.07873</td></tr><tr><td>Y_06_NRMSE</td><td>0.09169</td></tr><tr><td>Y_07_NRMSE</td><td>0.1288</td></tr><tr><td>Y_08_NRMSE</td><td>0.02403</td></tr><tr><td>Y_09_NRMSE</td><td>0.02384</td></tr><tr><td>Y_10_NRMSE</td><td>0.03735</td></tr><tr><td>Y_11_NRMSE</td><td>0.03326</td></tr><tr><td>Y_12_NRMSE</td><td>0.02398</td></tr><tr><td>Y_13_NRMSE</td><td>0.02393</td></tr><tr><td>Y_14_NRMSE</td><td>0.02397</td></tr></table><br/></div></div>"
      ],
      "text/plain": [
       "<IPython.core.display.HTML object>"
      ]
     },
     "metadata": {},
     "output_type": "display_data"
    },
    {
     "data": {
      "text/html": [
       "Synced <strong style=\"color:#cdcd00\">glamorous-sweep-89</strong>: <a href=\"https://wandb.ai/zbooster/Antenna_Outlier-1/runs/cut0z94t\" target=\"_blank\">https://wandb.ai/zbooster/Antenna_Outlier-1/runs/cut0z94t</a><br/>Synced 5 W&B file(s), 0 media file(s), 0 artifact file(s) and 0 other file(s)"
      ],
      "text/plain": [
       "<IPython.core.display.HTML object>"
      ]
     },
     "metadata": {},
     "output_type": "display_data"
    },
    {
     "data": {
      "text/html": [
       "Find logs at: <code>./wandb/run-20220817_073156-cut0z94t/logs</code>"
      ],
      "text/plain": [
       "<IPython.core.display.HTML object>"
      ]
     },
     "metadata": {},
     "output_type": "display_data"
    },
    {
     "name": "stderr",
     "output_type": "stream",
     "text": [
      "\u001b[34m\u001b[1mwandb\u001b[0m: Agent Starting Run: jxv02eb0 with config:\n",
      "\u001b[34m\u001b[1mwandb\u001b[0m: \tdrop_index: [70, 280, 6213, 13585, 37911]\n",
      "\u001b[34m\u001b[1mwandb\u001b[0m: \toutlier: 21269\n"
     ]
    },
    {
     "data": {
      "text/html": [
       "Tracking run with wandb version 0.13.1"
      ],
      "text/plain": [
       "<IPython.core.display.HTML object>"
      ]
     },
     "metadata": {},
     "output_type": "display_data"
    },
    {
     "data": {
      "text/html": [
       "Run data is saved locally in <code>/content/Antenna-Performance-Prediction/wandb/run-20220817_073241-jxv02eb0</code>"
      ],
      "text/plain": [
       "<IPython.core.display.HTML object>"
      ]
     },
     "metadata": {},
     "output_type": "display_data"
    },
    {
     "data": {
      "text/html": [
       "Syncing run <strong><a href=\"https://wandb.ai/zbooster/Antenna_Outlier-1/runs/jxv02eb0\" target=\"_blank\">flowing-sweep-90</a></strong> to <a href=\"https://wandb.ai/zbooster/Antenna_Outlier-1\" target=\"_blank\">Weights & Biases</a> (<a href=\"https://wandb.me/run\" target=\"_blank\">docs</a>)<br/>Sweep page:  <a href=\"https://wandb.ai/zbooster/Antenna_Outlier-1/sweeps/nj4jorxe\" target=\"_blank\">https://wandb.ai/zbooster/Antenna_Outlier-1/sweeps/nj4jorxe</a>"
      ],
      "text/plain": [
       "<IPython.core.display.HTML object>"
      ]
     },
     "metadata": {},
     "output_type": "display_data"
    },
    {
     "data": {
      "text/html": [
       "Waiting for W&B process to finish... <strong style=\"color:green\">(success).</strong>"
      ],
      "text/plain": [
       "<IPython.core.display.HTML object>"
      ]
     },
     "metadata": {},
     "output_type": "display_data"
    },
    {
     "data": {
      "application/vnd.jupyter.widget-view+json": {
       "model_id": "4d82b3990272445cb508fe4243f64868",
       "version_major": 2,
       "version_minor": 0
      },
      "text/plain": [
       "VBox(children=(Label(value='0.001 MB of 0.001 MB uploaded (0.000 MB deduped)\\r'), FloatProgress(value=1.0, max…"
      ]
     },
     "metadata": {},
     "output_type": "display_data"
    },
    {
     "data": {
      "text/html": [
       "<style>\n",
       "    table.wandb td:nth-child(1) { padding: 0 10px; text-align: left ; width: auto;} td:nth-child(2) {text-align: left ; width: 100%}\n",
       "    .wandb-row { display: flex; flex-direction: row; flex-wrap: wrap; justify-content: flex-start; width: 100% }\n",
       "    .wandb-col { display: flex; flex-direction: column; flex-basis: 100%; flex: 1; padding: 10px; }\n",
       "    </style>\n",
       "<div class=\"wandb-row\"><div class=\"wandb-col\"><h3>Run history:</h3><br/><table class=\"wandb\"><tr><td>LG_NRMSE_BEST</td><td>▁</td></tr><tr><td>LG_NRMSE_MEAN</td><td>▁</td></tr><tr><td>Y_01_NRMSE</td><td>▁</td></tr><tr><td>Y_02_NRMSE</td><td>▁</td></tr><tr><td>Y_03_NRMSE</td><td>▁</td></tr><tr><td>Y_04_NRMSE</td><td>▁</td></tr><tr><td>Y_05_NRMSE</td><td>▁</td></tr><tr><td>Y_06_NRMSE</td><td>▁</td></tr><tr><td>Y_07_NRMSE</td><td>▁</td></tr><tr><td>Y_08_NRMSE</td><td>▁</td></tr><tr><td>Y_09_NRMSE</td><td>▁</td></tr><tr><td>Y_10_NRMSE</td><td>▁</td></tr><tr><td>Y_11_NRMSE</td><td>▁</td></tr><tr><td>Y_12_NRMSE</td><td>▁</td></tr><tr><td>Y_13_NRMSE</td><td>▁</td></tr><tr><td>Y_14_NRMSE</td><td>▁</td></tr></table><br/></div><div class=\"wandb-col\"><h3>Run summary:</h3><br/><table class=\"wandb\"><tr><td>LG_NRMSE_BEST</td><td>1.91673</td></tr><tr><td>LG_NRMSE_MEAN</td><td>1.91673</td></tr><tr><td>Y_01_NRMSE</td><td>0.25365</td></tr><tr><td>Y_02_NRMSE</td><td>0.35049</td></tr><tr><td>Y_03_NRMSE</td><td>0.34482</td></tr><tr><td>Y_04_NRMSE</td><td>0.18717</td></tr><tr><td>Y_05_NRMSE</td><td>0.07873</td></tr><tr><td>Y_06_NRMSE</td><td>0.09147</td></tr><tr><td>Y_07_NRMSE</td><td>0.12869</td></tr><tr><td>Y_08_NRMSE</td><td>0.02399</td></tr><tr><td>Y_09_NRMSE</td><td>0.02378</td></tr><tr><td>Y_10_NRMSE</td><td>0.03728</td></tr><tr><td>Y_11_NRMSE</td><td>0.03316</td></tr><tr><td>Y_12_NRMSE</td><td>0.02392</td></tr><tr><td>Y_13_NRMSE</td><td>0.02386</td></tr><tr><td>Y_14_NRMSE</td><td>0.02391</td></tr></table><br/></div></div>"
      ],
      "text/plain": [
       "<IPython.core.display.HTML object>"
      ]
     },
     "metadata": {},
     "output_type": "display_data"
    },
    {
     "data": {
      "text/html": [
       "Synced <strong style=\"color:#cdcd00\">flowing-sweep-90</strong>: <a href=\"https://wandb.ai/zbooster/Antenna_Outlier-1/runs/jxv02eb0\" target=\"_blank\">https://wandb.ai/zbooster/Antenna_Outlier-1/runs/jxv02eb0</a><br/>Synced 5 W&B file(s), 0 media file(s), 0 artifact file(s) and 0 other file(s)"
      ],
      "text/plain": [
       "<IPython.core.display.HTML object>"
      ]
     },
     "metadata": {},
     "output_type": "display_data"
    },
    {
     "data": {
      "text/html": [
       "Find logs at: <code>./wandb/run-20220817_073241-jxv02eb0/logs</code>"
      ],
      "text/plain": [
       "<IPython.core.display.HTML object>"
      ]
     },
     "metadata": {},
     "output_type": "display_data"
    },
    {
     "name": "stderr",
     "output_type": "stream",
     "text": [
      "\u001b[34m\u001b[1mwandb\u001b[0m: Agent Starting Run: 4gg2konm with config:\n",
      "\u001b[34m\u001b[1mwandb\u001b[0m: \tdrop_index: [70, 280, 6213, 13585, 37911]\n",
      "\u001b[34m\u001b[1mwandb\u001b[0m: \toutlier: 23040\n"
     ]
    },
    {
     "data": {
      "text/html": [
       "Tracking run with wandb version 0.13.1"
      ],
      "text/plain": [
       "<IPython.core.display.HTML object>"
      ]
     },
     "metadata": {},
     "output_type": "display_data"
    },
    {
     "data": {
      "text/html": [
       "Run data is saved locally in <code>/content/Antenna-Performance-Prediction/wandb/run-20220817_073340-4gg2konm</code>"
      ],
      "text/plain": [
       "<IPython.core.display.HTML object>"
      ]
     },
     "metadata": {},
     "output_type": "display_data"
    },
    {
     "data": {
      "text/html": [
       "Syncing run <strong><a href=\"https://wandb.ai/zbooster/Antenna_Outlier-1/runs/4gg2konm\" target=\"_blank\">serene-sweep-91</a></strong> to <a href=\"https://wandb.ai/zbooster/Antenna_Outlier-1\" target=\"_blank\">Weights & Biases</a> (<a href=\"https://wandb.me/run\" target=\"_blank\">docs</a>)<br/>Sweep page:  <a href=\"https://wandb.ai/zbooster/Antenna_Outlier-1/sweeps/nj4jorxe\" target=\"_blank\">https://wandb.ai/zbooster/Antenna_Outlier-1/sweeps/nj4jorxe</a>"
      ],
      "text/plain": [
       "<IPython.core.display.HTML object>"
      ]
     },
     "metadata": {},
     "output_type": "display_data"
    },
    {
     "data": {
      "text/html": [
       "Waiting for W&B process to finish... <strong style=\"color:green\">(success).</strong>"
      ],
      "text/plain": [
       "<IPython.core.display.HTML object>"
      ]
     },
     "metadata": {},
     "output_type": "display_data"
    },
    {
     "data": {
      "application/vnd.jupyter.widget-view+json": {
       "model_id": "98fc04c88c134d7facb72dcdf32c3862",
       "version_major": 2,
       "version_minor": 0
      },
      "text/plain": [
       "VBox(children=(Label(value='0.001 MB of 0.001 MB uploaded (0.000 MB deduped)\\r'), FloatProgress(value=1.0, max…"
      ]
     },
     "metadata": {},
     "output_type": "display_data"
    },
    {
     "data": {
      "text/html": [
       "<style>\n",
       "    table.wandb td:nth-child(1) { padding: 0 10px; text-align: left ; width: auto;} td:nth-child(2) {text-align: left ; width: 100%}\n",
       "    .wandb-row { display: flex; flex-direction: row; flex-wrap: wrap; justify-content: flex-start; width: 100% }\n",
       "    .wandb-col { display: flex; flex-direction: column; flex-basis: 100%; flex: 1; padding: 10px; }\n",
       "    </style>\n",
       "<div class=\"wandb-row\"><div class=\"wandb-col\"><h3>Run history:</h3><br/><table class=\"wandb\"><tr><td>LG_NRMSE_BEST</td><td>▁</td></tr><tr><td>LG_NRMSE_MEAN</td><td>▁</td></tr><tr><td>Y_01_NRMSE</td><td>▁</td></tr><tr><td>Y_02_NRMSE</td><td>▁</td></tr><tr><td>Y_03_NRMSE</td><td>▁</td></tr><tr><td>Y_04_NRMSE</td><td>▁</td></tr><tr><td>Y_05_NRMSE</td><td>▁</td></tr><tr><td>Y_06_NRMSE</td><td>▁</td></tr><tr><td>Y_07_NRMSE</td><td>▁</td></tr><tr><td>Y_08_NRMSE</td><td>▁</td></tr><tr><td>Y_09_NRMSE</td><td>▁</td></tr><tr><td>Y_10_NRMSE</td><td>▁</td></tr><tr><td>Y_11_NRMSE</td><td>▁</td></tr><tr><td>Y_12_NRMSE</td><td>▁</td></tr><tr><td>Y_13_NRMSE</td><td>▁</td></tr><tr><td>Y_14_NRMSE</td><td>▁</td></tr></table><br/></div><div class=\"wandb-col\"><h3>Run summary:</h3><br/><table class=\"wandb\"><tr><td>LG_NRMSE_BEST</td><td>1.91536</td></tr><tr><td>LG_NRMSE_MEAN</td><td>1.91536</td></tr><tr><td>Y_01_NRMSE</td><td>0.25321</td></tr><tr><td>Y_02_NRMSE</td><td>0.35065</td></tr><tr><td>Y_03_NRMSE</td><td>0.34571</td></tr><tr><td>Y_04_NRMSE</td><td>0.18656</td></tr><tr><td>Y_05_NRMSE</td><td>0.07868</td></tr><tr><td>Y_06_NRMSE</td><td>0.09093</td></tr><tr><td>Y_07_NRMSE</td><td>0.12854</td></tr><tr><td>Y_08_NRMSE</td><td>0.02391</td></tr><tr><td>Y_09_NRMSE</td><td>0.02371</td></tr><tr><td>Y_10_NRMSE</td><td>0.03716</td></tr><tr><td>Y_11_NRMSE</td><td>0.03313</td></tr><tr><td>Y_12_NRMSE</td><td>0.02384</td></tr><tr><td>Y_13_NRMSE</td><td>0.02381</td></tr><tr><td>Y_14_NRMSE</td><td>0.02388</td></tr></table><br/></div></div>"
      ],
      "text/plain": [
       "<IPython.core.display.HTML object>"
      ]
     },
     "metadata": {},
     "output_type": "display_data"
    },
    {
     "data": {
      "text/html": [
       "Synced <strong style=\"color:#cdcd00\">serene-sweep-91</strong>: <a href=\"https://wandb.ai/zbooster/Antenna_Outlier-1/runs/4gg2konm\" target=\"_blank\">https://wandb.ai/zbooster/Antenna_Outlier-1/runs/4gg2konm</a><br/>Synced 5 W&B file(s), 0 media file(s), 0 artifact file(s) and 0 other file(s)"
      ],
      "text/plain": [
       "<IPython.core.display.HTML object>"
      ]
     },
     "metadata": {},
     "output_type": "display_data"
    },
    {
     "data": {
      "text/html": [
       "Find logs at: <code>./wandb/run-20220817_073340-4gg2konm/logs</code>"
      ],
      "text/plain": [
       "<IPython.core.display.HTML object>"
      ]
     },
     "metadata": {},
     "output_type": "display_data"
    },
    {
     "name": "stderr",
     "output_type": "stream",
     "text": [
      "\u001b[34m\u001b[1mwandb\u001b[0m: Sweep Agent: Waiting for job.\n",
      "\u001b[34m\u001b[1mwandb\u001b[0m: Job received.\n",
      "\u001b[34m\u001b[1mwandb\u001b[0m: Agent Starting Run: g8fqgcej with config:\n",
      "\u001b[34m\u001b[1mwandb\u001b[0m: \tdrop_index: [70, 280, 6213, 13585, 37911]\n",
      "\u001b[34m\u001b[1mwandb\u001b[0m: \toutlier: 23196\n"
     ]
    },
    {
     "data": {
      "text/html": [
       "Tracking run with wandb version 0.13.1"
      ],
      "text/plain": [
       "<IPython.core.display.HTML object>"
      ]
     },
     "metadata": {},
     "output_type": "display_data"
    },
    {
     "data": {
      "text/html": [
       "Run data is saved locally in <code>/content/Antenna-Performance-Prediction/wandb/run-20220817_073502-g8fqgcej</code>"
      ],
      "text/plain": [
       "<IPython.core.display.HTML object>"
      ]
     },
     "metadata": {},
     "output_type": "display_data"
    },
    {
     "data": {
      "text/html": [
       "Syncing run <strong><a href=\"https://wandb.ai/zbooster/Antenna_Outlier-1/runs/g8fqgcej\" target=\"_blank\">sparkling-sweep-92</a></strong> to <a href=\"https://wandb.ai/zbooster/Antenna_Outlier-1\" target=\"_blank\">Weights & Biases</a> (<a href=\"https://wandb.me/run\" target=\"_blank\">docs</a>)<br/>Sweep page:  <a href=\"https://wandb.ai/zbooster/Antenna_Outlier-1/sweeps/nj4jorxe\" target=\"_blank\">https://wandb.ai/zbooster/Antenna_Outlier-1/sweeps/nj4jorxe</a>"
      ],
      "text/plain": [
       "<IPython.core.display.HTML object>"
      ]
     },
     "metadata": {},
     "output_type": "display_data"
    },
    {
     "data": {
      "text/html": [
       "Waiting for W&B process to finish... <strong style=\"color:green\">(success).</strong>"
      ],
      "text/plain": [
       "<IPython.core.display.HTML object>"
      ]
     },
     "metadata": {},
     "output_type": "display_data"
    },
    {
     "data": {
      "application/vnd.jupyter.widget-view+json": {
       "model_id": "d2e455cb9ea44d37b723b300a48eaec1",
       "version_major": 2,
       "version_minor": 0
      },
      "text/plain": [
       "VBox(children=(Label(value='0.001 MB of 0.001 MB uploaded (0.000 MB deduped)\\r'), FloatProgress(value=1.0, max…"
      ]
     },
     "metadata": {},
     "output_type": "display_data"
    },
    {
     "data": {
      "text/html": [
       "<style>\n",
       "    table.wandb td:nth-child(1) { padding: 0 10px; text-align: left ; width: auto;} td:nth-child(2) {text-align: left ; width: 100%}\n",
       "    .wandb-row { display: flex; flex-direction: row; flex-wrap: wrap; justify-content: flex-start; width: 100% }\n",
       "    .wandb-col { display: flex; flex-direction: column; flex-basis: 100%; flex: 1; padding: 10px; }\n",
       "    </style>\n",
       "<div class=\"wandb-row\"><div class=\"wandb-col\"><h3>Run history:</h3><br/><table class=\"wandb\"><tr><td>LG_NRMSE_BEST</td><td>▁</td></tr><tr><td>LG_NRMSE_MEAN</td><td>▁</td></tr><tr><td>Y_01_NRMSE</td><td>▁</td></tr><tr><td>Y_02_NRMSE</td><td>▁</td></tr><tr><td>Y_03_NRMSE</td><td>▁</td></tr><tr><td>Y_04_NRMSE</td><td>▁</td></tr><tr><td>Y_05_NRMSE</td><td>▁</td></tr><tr><td>Y_06_NRMSE</td><td>▁</td></tr><tr><td>Y_07_NRMSE</td><td>▁</td></tr><tr><td>Y_08_NRMSE</td><td>▁</td></tr><tr><td>Y_09_NRMSE</td><td>▁</td></tr><tr><td>Y_10_NRMSE</td><td>▁</td></tr><tr><td>Y_11_NRMSE</td><td>▁</td></tr><tr><td>Y_12_NRMSE</td><td>▁</td></tr><tr><td>Y_13_NRMSE</td><td>▁</td></tr><tr><td>Y_14_NRMSE</td><td>▁</td></tr></table><br/></div><div class=\"wandb-col\"><h3>Run summary:</h3><br/><table class=\"wandb\"><tr><td>LG_NRMSE_BEST</td><td>1.91483</td></tr><tr><td>LG_NRMSE_MEAN</td><td>1.91483</td></tr><tr><td>Y_01_NRMSE</td><td>0.25316</td></tr><tr><td>Y_02_NRMSE</td><td>0.35042</td></tr><tr><td>Y_03_NRMSE</td><td>0.34553</td></tr><tr><td>Y_04_NRMSE</td><td>0.18643</td></tr><tr><td>Y_05_NRMSE</td><td>0.07854</td></tr><tr><td>Y_06_NRMSE</td><td>0.09153</td></tr><tr><td>Y_07_NRMSE</td><td>0.12837</td></tr><tr><td>Y_08_NRMSE</td><td>0.02388</td></tr><tr><td>Y_09_NRMSE</td><td>0.0237</td></tr><tr><td>Y_10_NRMSE</td><td>0.03717</td></tr><tr><td>Y_11_NRMSE</td><td>0.03308</td></tr><tr><td>Y_12_NRMSE</td><td>0.02382</td></tr><tr><td>Y_13_NRMSE</td><td>0.02378</td></tr><tr><td>Y_14_NRMSE</td><td>0.02385</td></tr></table><br/></div></div>"
      ],
      "text/plain": [
       "<IPython.core.display.HTML object>"
      ]
     },
     "metadata": {},
     "output_type": "display_data"
    },
    {
     "data": {
      "text/html": [
       "Synced <strong style=\"color:#cdcd00\">sparkling-sweep-92</strong>: <a href=\"https://wandb.ai/zbooster/Antenna_Outlier-1/runs/g8fqgcej\" target=\"_blank\">https://wandb.ai/zbooster/Antenna_Outlier-1/runs/g8fqgcej</a><br/>Synced 5 W&B file(s), 0 media file(s), 0 artifact file(s) and 0 other file(s)"
      ],
      "text/plain": [
       "<IPython.core.display.HTML object>"
      ]
     },
     "metadata": {},
     "output_type": "display_data"
    },
    {
     "data": {
      "text/html": [
       "Find logs at: <code>./wandb/run-20220817_073502-g8fqgcej/logs</code>"
      ],
      "text/plain": [
       "<IPython.core.display.HTML object>"
      ]
     },
     "metadata": {},
     "output_type": "display_data"
    },
    {
     "name": "stderr",
     "output_type": "stream",
     "text": [
      "\u001b[34m\u001b[1mwandb\u001b[0m: Agent Starting Run: u5texb5l with config:\n",
      "\u001b[34m\u001b[1mwandb\u001b[0m: \tdrop_index: [70, 280, 6213, 13585, 37911]\n",
      "\u001b[34m\u001b[1mwandb\u001b[0m: \toutlier: 25097\n"
     ]
    },
    {
     "data": {
      "text/html": [
       "Tracking run with wandb version 0.13.1"
      ],
      "text/plain": [
       "<IPython.core.display.HTML object>"
      ]
     },
     "metadata": {},
     "output_type": "display_data"
    },
    {
     "data": {
      "text/html": [
       "Run data is saved locally in <code>/content/Antenna-Performance-Prediction/wandb/run-20220817_073601-u5texb5l</code>"
      ],
      "text/plain": [
       "<IPython.core.display.HTML object>"
      ]
     },
     "metadata": {},
     "output_type": "display_data"
    },
    {
     "data": {
      "text/html": [
       "Syncing run <strong><a href=\"https://wandb.ai/zbooster/Antenna_Outlier-1/runs/u5texb5l\" target=\"_blank\">glamorous-sweep-93</a></strong> to <a href=\"https://wandb.ai/zbooster/Antenna_Outlier-1\" target=\"_blank\">Weights & Biases</a> (<a href=\"https://wandb.me/run\" target=\"_blank\">docs</a>)<br/>Sweep page:  <a href=\"https://wandb.ai/zbooster/Antenna_Outlier-1/sweeps/nj4jorxe\" target=\"_blank\">https://wandb.ai/zbooster/Antenna_Outlier-1/sweeps/nj4jorxe</a>"
      ],
      "text/plain": [
       "<IPython.core.display.HTML object>"
      ]
     },
     "metadata": {},
     "output_type": "display_data"
    },
    {
     "data": {
      "text/html": [
       "Waiting for W&B process to finish... <strong style=\"color:green\">(success).</strong>"
      ],
      "text/plain": [
       "<IPython.core.display.HTML object>"
      ]
     },
     "metadata": {},
     "output_type": "display_data"
    },
    {
     "data": {
      "application/vnd.jupyter.widget-view+json": {
       "model_id": "7d1defe7c60e47feb6837dd56a39c1f9",
       "version_major": 2,
       "version_minor": 0
      },
      "text/plain": [
       "VBox(children=(Label(value='0.001 MB of 0.001 MB uploaded (0.000 MB deduped)\\r'), FloatProgress(value=1.0, max…"
      ]
     },
     "metadata": {},
     "output_type": "display_data"
    },
    {
     "data": {
      "text/html": [
       "<style>\n",
       "    table.wandb td:nth-child(1) { padding: 0 10px; text-align: left ; width: auto;} td:nth-child(2) {text-align: left ; width: 100%}\n",
       "    .wandb-row { display: flex; flex-direction: row; flex-wrap: wrap; justify-content: flex-start; width: 100% }\n",
       "    .wandb-col { display: flex; flex-direction: column; flex-basis: 100%; flex: 1; padding: 10px; }\n",
       "    </style>\n",
       "<div class=\"wandb-row\"><div class=\"wandb-col\"><h3>Run history:</h3><br/><table class=\"wandb\"><tr><td>LG_NRMSE_BEST</td><td>▁</td></tr><tr><td>LG_NRMSE_MEAN</td><td>▁</td></tr><tr><td>Y_01_NRMSE</td><td>▁</td></tr><tr><td>Y_02_NRMSE</td><td>▁</td></tr><tr><td>Y_03_NRMSE</td><td>▁</td></tr><tr><td>Y_04_NRMSE</td><td>▁</td></tr><tr><td>Y_05_NRMSE</td><td>▁</td></tr><tr><td>Y_06_NRMSE</td><td>▁</td></tr><tr><td>Y_07_NRMSE</td><td>▁</td></tr><tr><td>Y_08_NRMSE</td><td>▁</td></tr><tr><td>Y_09_NRMSE</td><td>▁</td></tr><tr><td>Y_10_NRMSE</td><td>▁</td></tr><tr><td>Y_11_NRMSE</td><td>▁</td></tr><tr><td>Y_12_NRMSE</td><td>▁</td></tr><tr><td>Y_13_NRMSE</td><td>▁</td></tr><tr><td>Y_14_NRMSE</td><td>▁</td></tr></table><br/></div><div class=\"wandb-col\"><h3>Run summary:</h3><br/><table class=\"wandb\"><tr><td>LG_NRMSE_BEST</td><td>1.92002</td></tr><tr><td>LG_NRMSE_MEAN</td><td>1.92002</td></tr><tr><td>Y_01_NRMSE</td><td>0.25365</td></tr><tr><td>Y_02_NRMSE</td><td>0.35202</td></tr><tr><td>Y_03_NRMSE</td><td>0.34648</td></tr><tr><td>Y_04_NRMSE</td><td>0.18707</td></tr><tr><td>Y_05_NRMSE</td><td>0.07866</td></tr><tr><td>Y_06_NRMSE</td><td>0.09113</td></tr><tr><td>Y_07_NRMSE</td><td>0.12839</td></tr><tr><td>Y_08_NRMSE</td><td>0.02402</td></tr><tr><td>Y_09_NRMSE</td><td>0.02384</td></tr><tr><td>Y_10_NRMSE</td><td>0.03732</td></tr><tr><td>Y_11_NRMSE</td><td>0.0333</td></tr><tr><td>Y_12_NRMSE</td><td>0.02394</td></tr><tr><td>Y_13_NRMSE</td><td>0.02392</td></tr><tr><td>Y_14_NRMSE</td><td>0.02399</td></tr></table><br/></div></div>"
      ],
      "text/plain": [
       "<IPython.core.display.HTML object>"
      ]
     },
     "metadata": {},
     "output_type": "display_data"
    },
    {
     "data": {
      "text/html": [
       "Synced <strong style=\"color:#cdcd00\">glamorous-sweep-93</strong>: <a href=\"https://wandb.ai/zbooster/Antenna_Outlier-1/runs/u5texb5l\" target=\"_blank\">https://wandb.ai/zbooster/Antenna_Outlier-1/runs/u5texb5l</a><br/>Synced 5 W&B file(s), 0 media file(s), 0 artifact file(s) and 0 other file(s)"
      ],
      "text/plain": [
       "<IPython.core.display.HTML object>"
      ]
     },
     "metadata": {},
     "output_type": "display_data"
    },
    {
     "data": {
      "text/html": [
       "Find logs at: <code>./wandb/run-20220817_073601-u5texb5l/logs</code>"
      ],
      "text/plain": [
       "<IPython.core.display.HTML object>"
      ]
     },
     "metadata": {},
     "output_type": "display_data"
    },
    {
     "name": "stderr",
     "output_type": "stream",
     "text": [
      "\u001b[34m\u001b[1mwandb\u001b[0m: Sweep Agent: Waiting for job.\n",
      "\u001b[34m\u001b[1mwandb\u001b[0m: Job received.\n",
      "\u001b[34m\u001b[1mwandb\u001b[0m: Agent Starting Run: 81u5r6il with config:\n",
      "\u001b[34m\u001b[1mwandb\u001b[0m: \tdrop_index: [70, 280, 6213, 13585, 37911]\n",
      "\u001b[34m\u001b[1mwandb\u001b[0m: \toutlier: 25167\n"
     ]
    },
    {
     "data": {
      "text/html": [
       "Tracking run with wandb version 0.13.1"
      ],
      "text/plain": [
       "<IPython.core.display.HTML object>"
      ]
     },
     "metadata": {},
     "output_type": "display_data"
    },
    {
     "data": {
      "text/html": [
       "Run data is saved locally in <code>/content/Antenna-Performance-Prediction/wandb/run-20220817_073726-81u5r6il</code>"
      ],
      "text/plain": [
       "<IPython.core.display.HTML object>"
      ]
     },
     "metadata": {},
     "output_type": "display_data"
    },
    {
     "data": {
      "text/html": [
       "Syncing run <strong><a href=\"https://wandb.ai/zbooster/Antenna_Outlier-1/runs/81u5r6il\" target=\"_blank\">fine-sweep-94</a></strong> to <a href=\"https://wandb.ai/zbooster/Antenna_Outlier-1\" target=\"_blank\">Weights & Biases</a> (<a href=\"https://wandb.me/run\" target=\"_blank\">docs</a>)<br/>Sweep page:  <a href=\"https://wandb.ai/zbooster/Antenna_Outlier-1/sweeps/nj4jorxe\" target=\"_blank\">https://wandb.ai/zbooster/Antenna_Outlier-1/sweeps/nj4jorxe</a>"
      ],
      "text/plain": [
       "<IPython.core.display.HTML object>"
      ]
     },
     "metadata": {},
     "output_type": "display_data"
    },
    {
     "data": {
      "text/html": [
       "Waiting for W&B process to finish... <strong style=\"color:green\">(success).</strong>"
      ],
      "text/plain": [
       "<IPython.core.display.HTML object>"
      ]
     },
     "metadata": {},
     "output_type": "display_data"
    },
    {
     "data": {
      "application/vnd.jupyter.widget-view+json": {
       "model_id": "d641616e171e4c2ebdef3faaefaacd99",
       "version_major": 2,
       "version_minor": 0
      },
      "text/plain": [
       "VBox(children=(Label(value='0.001 MB of 0.001 MB uploaded (0.000 MB deduped)\\r'), FloatProgress(value=1.0, max…"
      ]
     },
     "metadata": {},
     "output_type": "display_data"
    },
    {
     "data": {
      "text/html": [
       "<style>\n",
       "    table.wandb td:nth-child(1) { padding: 0 10px; text-align: left ; width: auto;} td:nth-child(2) {text-align: left ; width: 100%}\n",
       "    .wandb-row { display: flex; flex-direction: row; flex-wrap: wrap; justify-content: flex-start; width: 100% }\n",
       "    .wandb-col { display: flex; flex-direction: column; flex-basis: 100%; flex: 1; padding: 10px; }\n",
       "    </style>\n",
       "<div class=\"wandb-row\"><div class=\"wandb-col\"><h3>Run history:</h3><br/><table class=\"wandb\"><tr><td>LG_NRMSE_BEST</td><td>▁</td></tr><tr><td>LG_NRMSE_MEAN</td><td>▁</td></tr><tr><td>Y_01_NRMSE</td><td>▁</td></tr><tr><td>Y_02_NRMSE</td><td>▁</td></tr><tr><td>Y_03_NRMSE</td><td>▁</td></tr><tr><td>Y_04_NRMSE</td><td>▁</td></tr><tr><td>Y_05_NRMSE</td><td>▁</td></tr><tr><td>Y_06_NRMSE</td><td>▁</td></tr><tr><td>Y_07_NRMSE</td><td>▁</td></tr><tr><td>Y_08_NRMSE</td><td>▁</td></tr><tr><td>Y_09_NRMSE</td><td>▁</td></tr><tr><td>Y_10_NRMSE</td><td>▁</td></tr><tr><td>Y_11_NRMSE</td><td>▁</td></tr><tr><td>Y_12_NRMSE</td><td>▁</td></tr><tr><td>Y_13_NRMSE</td><td>▁</td></tr><tr><td>Y_14_NRMSE</td><td>▁</td></tr></table><br/></div><div class=\"wandb-col\"><h3>Run summary:</h3><br/><table class=\"wandb\"><tr><td>LG_NRMSE_BEST</td><td>1.92037</td></tr><tr><td>LG_NRMSE_MEAN</td><td>1.92037</td></tr><tr><td>Y_01_NRMSE</td><td>0.25354</td></tr><tr><td>Y_02_NRMSE</td><td>0.35149</td></tr><tr><td>Y_03_NRMSE</td><td>0.3465</td></tr><tr><td>Y_04_NRMSE</td><td>0.18732</td></tr><tr><td>Y_05_NRMSE</td><td>0.07864</td></tr><tr><td>Y_06_NRMSE</td><td>0.09141</td></tr><tr><td>Y_07_NRMSE</td><td>0.12849</td></tr><tr><td>Y_08_NRMSE</td><td>0.02406</td></tr><tr><td>Y_09_NRMSE</td><td>0.02388</td></tr><tr><td>Y_10_NRMSE</td><td>0.03739</td></tr><tr><td>Y_11_NRMSE</td><td>0.03336</td></tr><tr><td>Y_12_NRMSE</td><td>0.02399</td></tr><tr><td>Y_13_NRMSE</td><td>0.02397</td></tr><tr><td>Y_14_NRMSE</td><td>0.02404</td></tr></table><br/></div></div>"
      ],
      "text/plain": [
       "<IPython.core.display.HTML object>"
      ]
     },
     "metadata": {},
     "output_type": "display_data"
    },
    {
     "data": {
      "text/html": [
       "Synced <strong style=\"color:#cdcd00\">fine-sweep-94</strong>: <a href=\"https://wandb.ai/zbooster/Antenna_Outlier-1/runs/81u5r6il\" target=\"_blank\">https://wandb.ai/zbooster/Antenna_Outlier-1/runs/81u5r6il</a><br/>Synced 5 W&B file(s), 0 media file(s), 0 artifact file(s) and 0 other file(s)"
      ],
      "text/plain": [
       "<IPython.core.display.HTML object>"
      ]
     },
     "metadata": {},
     "output_type": "display_data"
    },
    {
     "data": {
      "text/html": [
       "Find logs at: <code>./wandb/run-20220817_073726-81u5r6il/logs</code>"
      ],
      "text/plain": [
       "<IPython.core.display.HTML object>"
      ]
     },
     "metadata": {},
     "output_type": "display_data"
    },
    {
     "name": "stderr",
     "output_type": "stream",
     "text": [
      "\u001b[34m\u001b[1mwandb\u001b[0m: Agent Starting Run: gl2gmooy with config:\n",
      "\u001b[34m\u001b[1mwandb\u001b[0m: \tdrop_index: [70, 280, 6213, 13585, 37911]\n",
      "\u001b[34m\u001b[1mwandb\u001b[0m: \toutlier: 25769\n"
     ]
    },
    {
     "data": {
      "text/html": [
       "Tracking run with wandb version 0.13.1"
      ],
      "text/plain": [
       "<IPython.core.display.HTML object>"
      ]
     },
     "metadata": {},
     "output_type": "display_data"
    },
    {
     "data": {
      "text/html": [
       "Run data is saved locally in <code>/content/Antenna-Performance-Prediction/wandb/run-20220817_073810-gl2gmooy</code>"
      ],
      "text/plain": [
       "<IPython.core.display.HTML object>"
      ]
     },
     "metadata": {},
     "output_type": "display_data"
    },
    {
     "data": {
      "text/html": [
       "Syncing run <strong><a href=\"https://wandb.ai/zbooster/Antenna_Outlier-1/runs/gl2gmooy\" target=\"_blank\">fallen-sweep-95</a></strong> to <a href=\"https://wandb.ai/zbooster/Antenna_Outlier-1\" target=\"_blank\">Weights & Biases</a> (<a href=\"https://wandb.me/run\" target=\"_blank\">docs</a>)<br/>Sweep page:  <a href=\"https://wandb.ai/zbooster/Antenna_Outlier-1/sweeps/nj4jorxe\" target=\"_blank\">https://wandb.ai/zbooster/Antenna_Outlier-1/sweeps/nj4jorxe</a>"
      ],
      "text/plain": [
       "<IPython.core.display.HTML object>"
      ]
     },
     "metadata": {},
     "output_type": "display_data"
    },
    {
     "data": {
      "text/html": [
       "Waiting for W&B process to finish... <strong style=\"color:green\">(success).</strong>"
      ],
      "text/plain": [
       "<IPython.core.display.HTML object>"
      ]
     },
     "metadata": {},
     "output_type": "display_data"
    },
    {
     "data": {
      "application/vnd.jupyter.widget-view+json": {
       "model_id": "852a1ea019fd40a48709028b7fb5ffa1",
       "version_major": 2,
       "version_minor": 0
      },
      "text/plain": [
       "VBox(children=(Label(value='0.001 MB of 0.001 MB uploaded (0.000 MB deduped)\\r'), FloatProgress(value=1.0, max…"
      ]
     },
     "metadata": {},
     "output_type": "display_data"
    },
    {
     "data": {
      "text/html": [
       "<style>\n",
       "    table.wandb td:nth-child(1) { padding: 0 10px; text-align: left ; width: auto;} td:nth-child(2) {text-align: left ; width: 100%}\n",
       "    .wandb-row { display: flex; flex-direction: row; flex-wrap: wrap; justify-content: flex-start; width: 100% }\n",
       "    .wandb-col { display: flex; flex-direction: column; flex-basis: 100%; flex: 1; padding: 10px; }\n",
       "    </style>\n",
       "<div class=\"wandb-row\"><div class=\"wandb-col\"><h3>Run history:</h3><br/><table class=\"wandb\"><tr><td>LG_NRMSE_BEST</td><td>▁</td></tr><tr><td>LG_NRMSE_MEAN</td><td>▁</td></tr><tr><td>Y_01_NRMSE</td><td>▁</td></tr><tr><td>Y_02_NRMSE</td><td>▁</td></tr><tr><td>Y_03_NRMSE</td><td>▁</td></tr><tr><td>Y_04_NRMSE</td><td>▁</td></tr><tr><td>Y_05_NRMSE</td><td>▁</td></tr><tr><td>Y_06_NRMSE</td><td>▁</td></tr><tr><td>Y_07_NRMSE</td><td>▁</td></tr><tr><td>Y_08_NRMSE</td><td>▁</td></tr><tr><td>Y_09_NRMSE</td><td>▁</td></tr><tr><td>Y_10_NRMSE</td><td>▁</td></tr><tr><td>Y_11_NRMSE</td><td>▁</td></tr><tr><td>Y_12_NRMSE</td><td>▁</td></tr><tr><td>Y_13_NRMSE</td><td>▁</td></tr><tr><td>Y_14_NRMSE</td><td>▁</td></tr></table><br/></div><div class=\"wandb-col\"><h3>Run summary:</h3><br/><table class=\"wandb\"><tr><td>LG_NRMSE_BEST</td><td>1.91934</td></tr><tr><td>LG_NRMSE_MEAN</td><td>1.91934</td></tr><tr><td>Y_01_NRMSE</td><td>0.25315</td></tr><tr><td>Y_02_NRMSE</td><td>0.35198</td></tr><tr><td>Y_03_NRMSE</td><td>0.34596</td></tr><tr><td>Y_04_NRMSE</td><td>0.18713</td></tr><tr><td>Y_05_NRMSE</td><td>0.0786</td></tr><tr><td>Y_06_NRMSE</td><td>0.09114</td></tr><tr><td>Y_07_NRMSE</td><td>0.12852</td></tr><tr><td>Y_08_NRMSE</td><td>0.02408</td></tr><tr><td>Y_09_NRMSE</td><td>0.02389</td></tr><tr><td>Y_10_NRMSE</td><td>0.03739</td></tr><tr><td>Y_11_NRMSE</td><td>0.03339</td></tr><tr><td>Y_12_NRMSE</td><td>0.024</td></tr><tr><td>Y_13_NRMSE</td><td>0.02398</td></tr><tr><td>Y_14_NRMSE</td><td>0.02404</td></tr></table><br/></div></div>"
      ],
      "text/plain": [
       "<IPython.core.display.HTML object>"
      ]
     },
     "metadata": {},
     "output_type": "display_data"
    },
    {
     "data": {
      "text/html": [
       "Synced <strong style=\"color:#cdcd00\">fallen-sweep-95</strong>: <a href=\"https://wandb.ai/zbooster/Antenna_Outlier-1/runs/gl2gmooy\" target=\"_blank\">https://wandb.ai/zbooster/Antenna_Outlier-1/runs/gl2gmooy</a><br/>Synced 5 W&B file(s), 0 media file(s), 0 artifact file(s) and 0 other file(s)"
      ],
      "text/plain": [
       "<IPython.core.display.HTML object>"
      ]
     },
     "metadata": {},
     "output_type": "display_data"
    },
    {
     "data": {
      "text/html": [
       "Find logs at: <code>./wandb/run-20220817_073810-gl2gmooy/logs</code>"
      ],
      "text/plain": [
       "<IPython.core.display.HTML object>"
      ]
     },
     "metadata": {},
     "output_type": "display_data"
    },
    {
     "name": "stderr",
     "output_type": "stream",
     "text": [
      "\u001b[34m\u001b[1mwandb\u001b[0m: Sweep Agent: Waiting for job.\n",
      "\u001b[34m\u001b[1mwandb\u001b[0m: Job received.\n",
      "\u001b[34m\u001b[1mwandb\u001b[0m: Agent Starting Run: yu8eegdl with config:\n",
      "\u001b[34m\u001b[1mwandb\u001b[0m: \tdrop_index: [70, 280, 6213, 13585, 37911]\n",
      "\u001b[34m\u001b[1mwandb\u001b[0m: \toutlier: 27304\n"
     ]
    },
    {
     "data": {
      "text/html": [
       "Tracking run with wandb version 0.13.1"
      ],
      "text/plain": [
       "<IPython.core.display.HTML object>"
      ]
     },
     "metadata": {},
     "output_type": "display_data"
    },
    {
     "data": {
      "text/html": [
       "Run data is saved locally in <code>/content/Antenna-Performance-Prediction/wandb/run-20220817_073921-yu8eegdl</code>"
      ],
      "text/plain": [
       "<IPython.core.display.HTML object>"
      ]
     },
     "metadata": {},
     "output_type": "display_data"
    },
    {
     "data": {
      "text/html": [
       "Syncing run <strong><a href=\"https://wandb.ai/zbooster/Antenna_Outlier-1/runs/yu8eegdl\" target=\"_blank\">toasty-sweep-96</a></strong> to <a href=\"https://wandb.ai/zbooster/Antenna_Outlier-1\" target=\"_blank\">Weights & Biases</a> (<a href=\"https://wandb.me/run\" target=\"_blank\">docs</a>)<br/>Sweep page:  <a href=\"https://wandb.ai/zbooster/Antenna_Outlier-1/sweeps/nj4jorxe\" target=\"_blank\">https://wandb.ai/zbooster/Antenna_Outlier-1/sweeps/nj4jorxe</a>"
      ],
      "text/plain": [
       "<IPython.core.display.HTML object>"
      ]
     },
     "metadata": {},
     "output_type": "display_data"
    },
    {
     "data": {
      "text/html": [
       "Waiting for W&B process to finish... <strong style=\"color:green\">(success).</strong>"
      ],
      "text/plain": [
       "<IPython.core.display.HTML object>"
      ]
     },
     "metadata": {},
     "output_type": "display_data"
    },
    {
     "data": {
      "application/vnd.jupyter.widget-view+json": {
       "model_id": "2bfdf57bbdd448f480141b0c45dc18e2",
       "version_major": 2,
       "version_minor": 0
      },
      "text/plain": [
       "VBox(children=(Label(value='0.001 MB of 0.001 MB uploaded (0.000 MB deduped)\\r'), FloatProgress(value=1.0, max…"
      ]
     },
     "metadata": {},
     "output_type": "display_data"
    },
    {
     "data": {
      "text/html": [
       "<style>\n",
       "    table.wandb td:nth-child(1) { padding: 0 10px; text-align: left ; width: auto;} td:nth-child(2) {text-align: left ; width: 100%}\n",
       "    .wandb-row { display: flex; flex-direction: row; flex-wrap: wrap; justify-content: flex-start; width: 100% }\n",
       "    .wandb-col { display: flex; flex-direction: column; flex-basis: 100%; flex: 1; padding: 10px; }\n",
       "    </style>\n",
       "<div class=\"wandb-row\"><div class=\"wandb-col\"><h3>Run history:</h3><br/><table class=\"wandb\"><tr><td>LG_NRMSE_BEST</td><td>▁</td></tr><tr><td>LG_NRMSE_MEAN</td><td>▁</td></tr><tr><td>Y_01_NRMSE</td><td>▁</td></tr><tr><td>Y_02_NRMSE</td><td>▁</td></tr><tr><td>Y_03_NRMSE</td><td>▁</td></tr><tr><td>Y_04_NRMSE</td><td>▁</td></tr><tr><td>Y_05_NRMSE</td><td>▁</td></tr><tr><td>Y_06_NRMSE</td><td>▁</td></tr><tr><td>Y_07_NRMSE</td><td>▁</td></tr><tr><td>Y_08_NRMSE</td><td>▁</td></tr><tr><td>Y_09_NRMSE</td><td>▁</td></tr><tr><td>Y_10_NRMSE</td><td>▁</td></tr><tr><td>Y_11_NRMSE</td><td>▁</td></tr><tr><td>Y_12_NRMSE</td><td>▁</td></tr><tr><td>Y_13_NRMSE</td><td>▁</td></tr><tr><td>Y_14_NRMSE</td><td>▁</td></tr></table><br/></div><div class=\"wandb-col\"><h3>Run summary:</h3><br/><table class=\"wandb\"><tr><td>LG_NRMSE_BEST</td><td>1.92216</td></tr><tr><td>LG_NRMSE_MEAN</td><td>1.92216</td></tr><tr><td>Y_01_NRMSE</td><td>0.25422</td></tr><tr><td>Y_02_NRMSE</td><td>0.35337</td></tr><tr><td>Y_03_NRMSE</td><td>0.34809</td></tr><tr><td>Y_04_NRMSE</td><td>0.1865</td></tr><tr><td>Y_05_NRMSE</td><td>0.0786</td></tr><tr><td>Y_06_NRMSE</td><td>0.09059</td></tr><tr><td>Y_07_NRMSE</td><td>0.12829</td></tr><tr><td>Y_08_NRMSE</td><td>0.02398</td></tr><tr><td>Y_09_NRMSE</td><td>0.02377</td></tr><tr><td>Y_10_NRMSE</td><td>0.03714</td></tr><tr><td>Y_11_NRMSE</td><td>0.03315</td></tr><tr><td>Y_12_NRMSE</td><td>0.02392</td></tr><tr><td>Y_13_NRMSE</td><td>0.02389</td></tr><tr><td>Y_14_NRMSE</td><td>0.02393</td></tr></table><br/></div></div>"
      ],
      "text/plain": [
       "<IPython.core.display.HTML object>"
      ]
     },
     "metadata": {},
     "output_type": "display_data"
    },
    {
     "data": {
      "text/html": [
       "Synced <strong style=\"color:#cdcd00\">toasty-sweep-96</strong>: <a href=\"https://wandb.ai/zbooster/Antenna_Outlier-1/runs/yu8eegdl\" target=\"_blank\">https://wandb.ai/zbooster/Antenna_Outlier-1/runs/yu8eegdl</a><br/>Synced 5 W&B file(s), 0 media file(s), 0 artifact file(s) and 0 other file(s)"
      ],
      "text/plain": [
       "<IPython.core.display.HTML object>"
      ]
     },
     "metadata": {},
     "output_type": "display_data"
    },
    {
     "data": {
      "text/html": [
       "Find logs at: <code>./wandb/run-20220817_073921-yu8eegdl/logs</code>"
      ],
      "text/plain": [
       "<IPython.core.display.HTML object>"
      ]
     },
     "metadata": {},
     "output_type": "display_data"
    },
    {
     "name": "stderr",
     "output_type": "stream",
     "text": [
      "\u001b[34m\u001b[1mwandb\u001b[0m: Sweep Agent: Waiting for job.\n",
      "\u001b[34m\u001b[1mwandb\u001b[0m: Job received.\n",
      "\u001b[34m\u001b[1mwandb\u001b[0m: Agent Starting Run: 1gs0afde with config:\n",
      "\u001b[34m\u001b[1mwandb\u001b[0m: \tdrop_index: [70, 280, 6213, 13585, 37911]\n",
      "\u001b[34m\u001b[1mwandb\u001b[0m: \toutlier: 32745\n"
     ]
    },
    {
     "data": {
      "text/html": [
       "Tracking run with wandb version 0.13.1"
      ],
      "text/plain": [
       "<IPython.core.display.HTML object>"
      ]
     },
     "metadata": {},
     "output_type": "display_data"
    },
    {
     "data": {
      "text/html": [
       "Run data is saved locally in <code>/content/Antenna-Performance-Prediction/wandb/run-20220817_074112-1gs0afde</code>"
      ],
      "text/plain": [
       "<IPython.core.display.HTML object>"
      ]
     },
     "metadata": {},
     "output_type": "display_data"
    },
    {
     "data": {
      "text/html": [
       "Syncing run <strong><a href=\"https://wandb.ai/zbooster/Antenna_Outlier-1/runs/1gs0afde\" target=\"_blank\">stoic-sweep-97</a></strong> to <a href=\"https://wandb.ai/zbooster/Antenna_Outlier-1\" target=\"_blank\">Weights & Biases</a> (<a href=\"https://wandb.me/run\" target=\"_blank\">docs</a>)<br/>Sweep page:  <a href=\"https://wandb.ai/zbooster/Antenna_Outlier-1/sweeps/nj4jorxe\" target=\"_blank\">https://wandb.ai/zbooster/Antenna_Outlier-1/sweeps/nj4jorxe</a>"
      ],
      "text/plain": [
       "<IPython.core.display.HTML object>"
      ]
     },
     "metadata": {},
     "output_type": "display_data"
    },
    {
     "data": {
      "text/html": [
       "Waiting for W&B process to finish... <strong style=\"color:green\">(success).</strong>"
      ],
      "text/plain": [
       "<IPython.core.display.HTML object>"
      ]
     },
     "metadata": {},
     "output_type": "display_data"
    },
    {
     "data": {
      "application/vnd.jupyter.widget-view+json": {
       "model_id": "51ea7ab234bc42aea580503f015e587a",
       "version_major": 2,
       "version_minor": 0
      },
      "text/plain": [
       "VBox(children=(Label(value='0.001 MB of 0.001 MB uploaded (0.000 MB deduped)\\r'), FloatProgress(value=1.0, max…"
      ]
     },
     "metadata": {},
     "output_type": "display_data"
    },
    {
     "data": {
      "text/html": [
       "<style>\n",
       "    table.wandb td:nth-child(1) { padding: 0 10px; text-align: left ; width: auto;} td:nth-child(2) {text-align: left ; width: 100%}\n",
       "    .wandb-row { display: flex; flex-direction: row; flex-wrap: wrap; justify-content: flex-start; width: 100% }\n",
       "    .wandb-col { display: flex; flex-direction: column; flex-basis: 100%; flex: 1; padding: 10px; }\n",
       "    </style>\n",
       "<div class=\"wandb-row\"><div class=\"wandb-col\"><h3>Run history:</h3><br/><table class=\"wandb\"><tr><td>LG_NRMSE_BEST</td><td>▁</td></tr><tr><td>LG_NRMSE_MEAN</td><td>▁</td></tr><tr><td>Y_01_NRMSE</td><td>▁</td></tr><tr><td>Y_02_NRMSE</td><td>▁</td></tr><tr><td>Y_03_NRMSE</td><td>▁</td></tr><tr><td>Y_04_NRMSE</td><td>▁</td></tr><tr><td>Y_05_NRMSE</td><td>▁</td></tr><tr><td>Y_06_NRMSE</td><td>▁</td></tr><tr><td>Y_07_NRMSE</td><td>▁</td></tr><tr><td>Y_08_NRMSE</td><td>▁</td></tr><tr><td>Y_09_NRMSE</td><td>▁</td></tr><tr><td>Y_10_NRMSE</td><td>▁</td></tr><tr><td>Y_11_NRMSE</td><td>▁</td></tr><tr><td>Y_12_NRMSE</td><td>▁</td></tr><tr><td>Y_13_NRMSE</td><td>▁</td></tr><tr><td>Y_14_NRMSE</td><td>▁</td></tr></table><br/></div><div class=\"wandb-col\"><h3>Run summary:</h3><br/><table class=\"wandb\"><tr><td>LG_NRMSE_BEST</td><td>1.91526</td></tr><tr><td>LG_NRMSE_MEAN</td><td>1.91526</td></tr><tr><td>Y_01_NRMSE</td><td>0.25311</td></tr><tr><td>Y_02_NRMSE</td><td>0.35193</td></tr><tr><td>Y_03_NRMSE</td><td>0.34603</td></tr><tr><td>Y_04_NRMSE</td><td>0.18618</td></tr><tr><td>Y_05_NRMSE</td><td>0.07847</td></tr><tr><td>Y_06_NRMSE</td><td>0.09082</td></tr><tr><td>Y_07_NRMSE</td><td>0.12761</td></tr><tr><td>Y_08_NRMSE</td><td>0.02394</td></tr><tr><td>Y_09_NRMSE</td><td>0.02379</td></tr><tr><td>Y_10_NRMSE</td><td>0.03709</td></tr><tr><td>Y_11_NRMSE</td><td>0.03306</td></tr><tr><td>Y_12_NRMSE</td><td>0.02388</td></tr><tr><td>Y_13_NRMSE</td><td>0.02383</td></tr><tr><td>Y_14_NRMSE</td><td>0.0239</td></tr></table><br/></div></div>"
      ],
      "text/plain": [
       "<IPython.core.display.HTML object>"
      ]
     },
     "metadata": {},
     "output_type": "display_data"
    },
    {
     "data": {
      "text/html": [
       "Synced <strong style=\"color:#cdcd00\">stoic-sweep-97</strong>: <a href=\"https://wandb.ai/zbooster/Antenna_Outlier-1/runs/1gs0afde\" target=\"_blank\">https://wandb.ai/zbooster/Antenna_Outlier-1/runs/1gs0afde</a><br/>Synced 5 W&B file(s), 0 media file(s), 0 artifact file(s) and 0 other file(s)"
      ],
      "text/plain": [
       "<IPython.core.display.HTML object>"
      ]
     },
     "metadata": {},
     "output_type": "display_data"
    },
    {
     "data": {
      "text/html": [
       "Find logs at: <code>./wandb/run-20220817_074112-1gs0afde/logs</code>"
      ],
      "text/plain": [
       "<IPython.core.display.HTML object>"
      ]
     },
     "metadata": {},
     "output_type": "display_data"
    },
    {
     "name": "stderr",
     "output_type": "stream",
     "text": [
      "\u001b[34m\u001b[1mwandb\u001b[0m: Agent Starting Run: dne81kir with config:\n",
      "\u001b[34m\u001b[1mwandb\u001b[0m: \tdrop_index: [70, 280, 6213, 13585, 37911]\n",
      "\u001b[34m\u001b[1mwandb\u001b[0m: \toutlier: 34632\n"
     ]
    },
    {
     "data": {
      "text/html": [
       "Tracking run with wandb version 0.13.1"
      ],
      "text/plain": [
       "<IPython.core.display.HTML object>"
      ]
     },
     "metadata": {},
     "output_type": "display_data"
    },
    {
     "data": {
      "text/html": [
       "Run data is saved locally in <code>/content/Antenna-Performance-Prediction/wandb/run-20220817_074200-dne81kir</code>"
      ],
      "text/plain": [
       "<IPython.core.display.HTML object>"
      ]
     },
     "metadata": {},
     "output_type": "display_data"
    },
    {
     "data": {
      "text/html": [
       "Syncing run <strong><a href=\"https://wandb.ai/zbooster/Antenna_Outlier-1/runs/dne81kir\" target=\"_blank\">swept-sweep-98</a></strong> to <a href=\"https://wandb.ai/zbooster/Antenna_Outlier-1\" target=\"_blank\">Weights & Biases</a> (<a href=\"https://wandb.me/run\" target=\"_blank\">docs</a>)<br/>Sweep page:  <a href=\"https://wandb.ai/zbooster/Antenna_Outlier-1/sweeps/nj4jorxe\" target=\"_blank\">https://wandb.ai/zbooster/Antenna_Outlier-1/sweeps/nj4jorxe</a>"
      ],
      "text/plain": [
       "<IPython.core.display.HTML object>"
      ]
     },
     "metadata": {},
     "output_type": "display_data"
    },
    {
     "data": {
      "text/html": [
       "Waiting for W&B process to finish... <strong style=\"color:green\">(success).</strong>"
      ],
      "text/plain": [
       "<IPython.core.display.HTML object>"
      ]
     },
     "metadata": {},
     "output_type": "display_data"
    },
    {
     "data": {
      "application/vnd.jupyter.widget-view+json": {
       "model_id": "110fe9416f714710a8632742041d8993",
       "version_major": 2,
       "version_minor": 0
      },
      "text/plain": [
       "VBox(children=(Label(value='0.001 MB of 0.001 MB uploaded (0.000 MB deduped)\\r'), FloatProgress(value=1.0, max…"
      ]
     },
     "metadata": {},
     "output_type": "display_data"
    },
    {
     "data": {
      "text/html": [
       "<style>\n",
       "    table.wandb td:nth-child(1) { padding: 0 10px; text-align: left ; width: auto;} td:nth-child(2) {text-align: left ; width: 100%}\n",
       "    .wandb-row { display: flex; flex-direction: row; flex-wrap: wrap; justify-content: flex-start; width: 100% }\n",
       "    .wandb-col { display: flex; flex-direction: column; flex-basis: 100%; flex: 1; padding: 10px; }\n",
       "    </style>\n",
       "<div class=\"wandb-row\"><div class=\"wandb-col\"><h3>Run history:</h3><br/><table class=\"wandb\"><tr><td>LG_NRMSE_BEST</td><td>▁</td></tr><tr><td>LG_NRMSE_MEAN</td><td>▁</td></tr><tr><td>Y_01_NRMSE</td><td>▁</td></tr><tr><td>Y_02_NRMSE</td><td>▁</td></tr><tr><td>Y_03_NRMSE</td><td>▁</td></tr><tr><td>Y_04_NRMSE</td><td>▁</td></tr><tr><td>Y_05_NRMSE</td><td>▁</td></tr><tr><td>Y_06_NRMSE</td><td>▁</td></tr><tr><td>Y_07_NRMSE</td><td>▁</td></tr><tr><td>Y_08_NRMSE</td><td>▁</td></tr><tr><td>Y_09_NRMSE</td><td>▁</td></tr><tr><td>Y_10_NRMSE</td><td>▁</td></tr><tr><td>Y_11_NRMSE</td><td>▁</td></tr><tr><td>Y_12_NRMSE</td><td>▁</td></tr><tr><td>Y_13_NRMSE</td><td>▁</td></tr><tr><td>Y_14_NRMSE</td><td>▁</td></tr></table><br/></div><div class=\"wandb-col\"><h3>Run summary:</h3><br/><table class=\"wandb\"><tr><td>LG_NRMSE_BEST</td><td>1.91437</td></tr><tr><td>LG_NRMSE_MEAN</td><td>1.91437</td></tr><tr><td>Y_01_NRMSE</td><td>0.25312</td></tr><tr><td>Y_02_NRMSE</td><td>0.35184</td></tr><tr><td>Y_03_NRMSE</td><td>0.34643</td></tr><tr><td>Y_04_NRMSE</td><td>0.18584</td></tr><tr><td>Y_05_NRMSE</td><td>0.07841</td></tr><tr><td>Y_06_NRMSE</td><td>0.09103</td></tr><tr><td>Y_07_NRMSE</td><td>0.12729</td></tr><tr><td>Y_08_NRMSE</td><td>0.02384</td></tr><tr><td>Y_09_NRMSE</td><td>0.02369</td></tr><tr><td>Y_10_NRMSE</td><td>0.03701</td></tr><tr><td>Y_11_NRMSE</td><td>0.03294</td></tr><tr><td>Y_12_NRMSE</td><td>0.0238</td></tr><tr><td>Y_13_NRMSE</td><td>0.02376</td></tr><tr><td>Y_14_NRMSE</td><td>0.0238</td></tr></table><br/></div></div>"
      ],
      "text/plain": [
       "<IPython.core.display.HTML object>"
      ]
     },
     "metadata": {},
     "output_type": "display_data"
    },
    {
     "data": {
      "text/html": [
       "Synced <strong style=\"color:#cdcd00\">swept-sweep-98</strong>: <a href=\"https://wandb.ai/zbooster/Antenna_Outlier-1/runs/dne81kir\" target=\"_blank\">https://wandb.ai/zbooster/Antenna_Outlier-1/runs/dne81kir</a><br/>Synced 5 W&B file(s), 0 media file(s), 0 artifact file(s) and 0 other file(s)"
      ],
      "text/plain": [
       "<IPython.core.display.HTML object>"
      ]
     },
     "metadata": {},
     "output_type": "display_data"
    },
    {
     "data": {
      "text/html": [
       "Find logs at: <code>./wandb/run-20220817_074200-dne81kir/logs</code>"
      ],
      "text/plain": [
       "<IPython.core.display.HTML object>"
      ]
     },
     "metadata": {},
     "output_type": "display_data"
    },
    {
     "name": "stderr",
     "output_type": "stream",
     "text": [
      "\u001b[34m\u001b[1mwandb\u001b[0m: Agent Starting Run: 54nw2t6c with config:\n",
      "\u001b[34m\u001b[1mwandb\u001b[0m: \tdrop_index: [70, 280, 6213, 13585, 37911]\n",
      "\u001b[34m\u001b[1mwandb\u001b[0m: \toutlier: 35912\n"
     ]
    },
    {
     "data": {
      "text/html": [
       "Tracking run with wandb version 0.13.1"
      ],
      "text/plain": [
       "<IPython.core.display.HTML object>"
      ]
     },
     "metadata": {},
     "output_type": "display_data"
    },
    {
     "data": {
      "text/html": [
       "Run data is saved locally in <code>/content/Antenna-Performance-Prediction/wandb/run-20220817_074318-54nw2t6c</code>"
      ],
      "text/plain": [
       "<IPython.core.display.HTML object>"
      ]
     },
     "metadata": {},
     "output_type": "display_data"
    },
    {
     "data": {
      "text/html": [
       "Syncing run <strong><a href=\"https://wandb.ai/zbooster/Antenna_Outlier-1/runs/54nw2t6c\" target=\"_blank\">youthful-sweep-99</a></strong> to <a href=\"https://wandb.ai/zbooster/Antenna_Outlier-1\" target=\"_blank\">Weights & Biases</a> (<a href=\"https://wandb.me/run\" target=\"_blank\">docs</a>)<br/>Sweep page:  <a href=\"https://wandb.ai/zbooster/Antenna_Outlier-1/sweeps/nj4jorxe\" target=\"_blank\">https://wandb.ai/zbooster/Antenna_Outlier-1/sweeps/nj4jorxe</a>"
      ],
      "text/plain": [
       "<IPython.core.display.HTML object>"
      ]
     },
     "metadata": {},
     "output_type": "display_data"
    },
    {
     "data": {
      "text/html": [
       "Waiting for W&B process to finish... <strong style=\"color:green\">(success).</strong>"
      ],
      "text/plain": [
       "<IPython.core.display.HTML object>"
      ]
     },
     "metadata": {},
     "output_type": "display_data"
    },
    {
     "data": {
      "application/vnd.jupyter.widget-view+json": {
       "model_id": "626ac938f33146789715b70c867076f2",
       "version_major": 2,
       "version_minor": 0
      },
      "text/plain": [
       "VBox(children=(Label(value='0.001 MB of 0.001 MB uploaded (0.000 MB deduped)\\r'), FloatProgress(value=1.0, max…"
      ]
     },
     "metadata": {},
     "output_type": "display_data"
    },
    {
     "data": {
      "text/html": [
       "<style>\n",
       "    table.wandb td:nth-child(1) { padding: 0 10px; text-align: left ; width: auto;} td:nth-child(2) {text-align: left ; width: 100%}\n",
       "    .wandb-row { display: flex; flex-direction: row; flex-wrap: wrap; justify-content: flex-start; width: 100% }\n",
       "    .wandb-col { display: flex; flex-direction: column; flex-basis: 100%; flex: 1; padding: 10px; }\n",
       "    </style>\n",
       "<div class=\"wandb-row\"><div class=\"wandb-col\"><h3>Run history:</h3><br/><table class=\"wandb\"><tr><td>LG_NRMSE_BEST</td><td>▁</td></tr><tr><td>LG_NRMSE_MEAN</td><td>▁</td></tr><tr><td>Y_01_NRMSE</td><td>▁</td></tr><tr><td>Y_02_NRMSE</td><td>▁</td></tr><tr><td>Y_03_NRMSE</td><td>▁</td></tr><tr><td>Y_04_NRMSE</td><td>▁</td></tr><tr><td>Y_05_NRMSE</td><td>▁</td></tr><tr><td>Y_06_NRMSE</td><td>▁</td></tr><tr><td>Y_07_NRMSE</td><td>▁</td></tr><tr><td>Y_08_NRMSE</td><td>▁</td></tr><tr><td>Y_09_NRMSE</td><td>▁</td></tr><tr><td>Y_10_NRMSE</td><td>▁</td></tr><tr><td>Y_11_NRMSE</td><td>▁</td></tr><tr><td>Y_12_NRMSE</td><td>▁</td></tr><tr><td>Y_13_NRMSE</td><td>▁</td></tr><tr><td>Y_14_NRMSE</td><td>▁</td></tr></table><br/></div><div class=\"wandb-col\"><h3>Run summary:</h3><br/><table class=\"wandb\"><tr><td>LG_NRMSE_BEST</td><td>1.90655</td></tr><tr><td>LG_NRMSE_MEAN</td><td>1.90655</td></tr><tr><td>Y_01_NRMSE</td><td>0.2512</td></tr><tr><td>Y_02_NRMSE</td><td>0.35098</td></tr><tr><td>Y_03_NRMSE</td><td>0.34424</td></tr><tr><td>Y_04_NRMSE</td><td>0.18533</td></tr><tr><td>Y_05_NRMSE</td><td>0.07823</td></tr><tr><td>Y_06_NRMSE</td><td>0.09087</td></tr><tr><td>Y_07_NRMSE</td><td>0.1271</td></tr><tr><td>Y_08_NRMSE</td><td>0.02377</td></tr><tr><td>Y_09_NRMSE</td><td>0.02359</td></tr><tr><td>Y_10_NRMSE</td><td>0.03687</td></tr><tr><td>Y_11_NRMSE</td><td>0.0329</td></tr><tr><td>Y_12_NRMSE</td><td>0.02373</td></tr><tr><td>Y_13_NRMSE</td><td>0.02367</td></tr><tr><td>Y_14_NRMSE</td><td>0.02372</td></tr></table><br/></div></div>"
      ],
      "text/plain": [
       "<IPython.core.display.HTML object>"
      ]
     },
     "metadata": {},
     "output_type": "display_data"
    },
    {
     "data": {
      "text/html": [
       "Synced <strong style=\"color:#cdcd00\">youthful-sweep-99</strong>: <a href=\"https://wandb.ai/zbooster/Antenna_Outlier-1/runs/54nw2t6c\" target=\"_blank\">https://wandb.ai/zbooster/Antenna_Outlier-1/runs/54nw2t6c</a><br/>Synced 5 W&B file(s), 0 media file(s), 0 artifact file(s) and 0 other file(s)"
      ],
      "text/plain": [
       "<IPython.core.display.HTML object>"
      ]
     },
     "metadata": {},
     "output_type": "display_data"
    },
    {
     "data": {
      "text/html": [
       "Find logs at: <code>./wandb/run-20220817_074318-54nw2t6c/logs</code>"
      ],
      "text/plain": [
       "<IPython.core.display.HTML object>"
      ]
     },
     "metadata": {},
     "output_type": "display_data"
    },
    {
     "name": "stderr",
     "output_type": "stream",
     "text": [
      "\u001b[34m\u001b[1mwandb\u001b[0m: Sweep Agent: Waiting for job.\n",
      "\u001b[34m\u001b[1mwandb\u001b[0m: Sweep Agent: Exiting.\n"
     ]
    },
    {
     "name": "stdout",
     "output_type": "stream",
     "text": [
      "Error in callback <function _WandbInit._pause_backend at 0x7efd7c6ee1f0> (for post_run_cell):\n"
     ]
    },
    {
     "ename": "BrokenPipeError",
     "evalue": "[Errno 32] Broken pipe",
     "output_type": "error",
     "traceback": [
      "\u001b[0;31m---------------------------------------------------------------------------\u001b[0m",
      "\u001b[0;31mBrokenPipeError\u001b[0m                           Traceback (most recent call last)",
      "File \u001b[0;32m/opt/conda/lib/python3.9/site-packages/backcall/backcall.py:104\u001b[0m, in \u001b[0;36mcallback_prototype.<locals>.adapt.<locals>.adapted\u001b[0;34m(*args, **kwargs)\u001b[0m\n\u001b[1;32m    102\u001b[0m                 kwargs\u001b[39m.\u001b[39mpop(name)\n\u001b[1;32m    103\u001b[0m \u001b[39m#            print(args, kwargs, unmatched_pos, cut_positional, unmatched_kw)\u001b[39;00m\n\u001b[0;32m--> 104\u001b[0m             \u001b[39mreturn\u001b[39;00m callback(\u001b[39m*\u001b[39;49margs, \u001b[39m*\u001b[39;49m\u001b[39m*\u001b[39;49mkwargs)\n",
      "File \u001b[0;32m/opt/conda/lib/python3.9/site-packages/wandb/sdk/wandb_init.py:379\u001b[0m, in \u001b[0;36m_WandbInit._pause_backend\u001b[0;34m(self)\u001b[0m\n\u001b[1;32m    377\u001b[0m     res \u001b[39m=\u001b[39m \u001b[39mself\u001b[39m\u001b[39m.\u001b[39mrun\u001b[39m.\u001b[39mlog_code(root\u001b[39m=\u001b[39m\u001b[39mNone\u001b[39;00m)\n\u001b[1;32m    378\u001b[0m     logger\u001b[39m.\u001b[39minfo(\u001b[39m\"\u001b[39m\u001b[39msaved code: \u001b[39m\u001b[39m%s\u001b[39;00m\u001b[39m\"\u001b[39m, res)\n\u001b[0;32m--> 379\u001b[0m \u001b[39mself\u001b[39;49m\u001b[39m.\u001b[39;49mbackend\u001b[39m.\u001b[39;49minterface\u001b[39m.\u001b[39;49mpublish_pause()\n",
      "File \u001b[0;32m/opt/conda/lib/python3.9/site-packages/wandb/sdk/interface/interface.py:629\u001b[0m, in \u001b[0;36mInterfaceBase.publish_pause\u001b[0;34m(self)\u001b[0m\n\u001b[1;32m    627\u001b[0m \u001b[39mdef\u001b[39;00m \u001b[39mpublish_pause\u001b[39m(\u001b[39mself\u001b[39m) \u001b[39m-\u001b[39m\u001b[39m>\u001b[39m \u001b[39mNone\u001b[39;00m:\n\u001b[1;32m    628\u001b[0m     pause \u001b[39m=\u001b[39m pb\u001b[39m.\u001b[39mPauseRequest()\n\u001b[0;32m--> 629\u001b[0m     \u001b[39mself\u001b[39;49m\u001b[39m.\u001b[39;49m_publish_pause(pause)\n",
      "File \u001b[0;32m/opt/conda/lib/python3.9/site-packages/wandb/sdk/interface/interface_shared.py:284\u001b[0m, in \u001b[0;36mInterfaceShared._publish_pause\u001b[0;34m(self, pause)\u001b[0m\n\u001b[1;32m    282\u001b[0m \u001b[39mdef\u001b[39;00m \u001b[39m_publish_pause\u001b[39m(\u001b[39mself\u001b[39m, pause: pb\u001b[39m.\u001b[39mPauseRequest) \u001b[39m-\u001b[39m\u001b[39m>\u001b[39m \u001b[39mNone\u001b[39;00m:\n\u001b[1;32m    283\u001b[0m     rec \u001b[39m=\u001b[39m \u001b[39mself\u001b[39m\u001b[39m.\u001b[39m_make_request(pause\u001b[39m=\u001b[39mpause)\n\u001b[0;32m--> 284\u001b[0m     \u001b[39mself\u001b[39;49m\u001b[39m.\u001b[39;49m_publish(rec)\n",
      "File \u001b[0;32m/opt/conda/lib/python3.9/site-packages/wandb/sdk/interface/interface_sock.py:51\u001b[0m, in \u001b[0;36mInterfaceSock._publish\u001b[0;34m(self, record, local)\u001b[0m\n\u001b[1;32m     49\u001b[0m \u001b[39mdef\u001b[39;00m \u001b[39m_publish\u001b[39m(\u001b[39mself\u001b[39m, record: \u001b[39m\"\u001b[39m\u001b[39mpb.Record\u001b[39m\u001b[39m\"\u001b[39m, local: \u001b[39mbool\u001b[39m \u001b[39m=\u001b[39m \u001b[39mNone\u001b[39;00m) \u001b[39m-\u001b[39m\u001b[39m>\u001b[39m \u001b[39mNone\u001b[39;00m:\n\u001b[1;32m     50\u001b[0m     \u001b[39mself\u001b[39m\u001b[39m.\u001b[39m_assign(record)\n\u001b[0;32m---> 51\u001b[0m     \u001b[39mself\u001b[39;49m\u001b[39m.\u001b[39;49m_sock_client\u001b[39m.\u001b[39;49msend_record_publish(record)\n",
      "File \u001b[0;32m/opt/conda/lib/python3.9/site-packages/wandb/sdk/lib/sock_client.py:150\u001b[0m, in \u001b[0;36mSockClient.send_record_publish\u001b[0;34m(self, record)\u001b[0m\n\u001b[1;32m    148\u001b[0m server_req \u001b[39m=\u001b[39m spb\u001b[39m.\u001b[39mServerRequest()\n\u001b[1;32m    149\u001b[0m server_req\u001b[39m.\u001b[39mrecord_publish\u001b[39m.\u001b[39mCopyFrom(record)\n\u001b[0;32m--> 150\u001b[0m \u001b[39mself\u001b[39;49m\u001b[39m.\u001b[39;49msend_server_request(server_req)\n",
      "File \u001b[0;32m/opt/conda/lib/python3.9/site-packages/wandb/sdk/lib/sock_client.py:84\u001b[0m, in \u001b[0;36mSockClient.send_server_request\u001b[0;34m(self, msg)\u001b[0m\n\u001b[1;32m     83\u001b[0m \u001b[39mdef\u001b[39;00m \u001b[39msend_server_request\u001b[39m(\u001b[39mself\u001b[39m, msg: Any) \u001b[39m-\u001b[39m\u001b[39m>\u001b[39m \u001b[39mNone\u001b[39;00m:\n\u001b[0;32m---> 84\u001b[0m     \u001b[39mself\u001b[39;49m\u001b[39m.\u001b[39;49m_send_message(msg)\n",
      "File \u001b[0;32m/opt/conda/lib/python3.9/site-packages/wandb/sdk/lib/sock_client.py:81\u001b[0m, in \u001b[0;36mSockClient._send_message\u001b[0;34m(self, msg)\u001b[0m\n\u001b[1;32m     79\u001b[0m header \u001b[39m=\u001b[39m struct\u001b[39m.\u001b[39mpack(\u001b[39m\"\u001b[39m\u001b[39m<BI\u001b[39m\u001b[39m\"\u001b[39m, \u001b[39mord\u001b[39m(\u001b[39m\"\u001b[39m\u001b[39mW\u001b[39m\u001b[39m\"\u001b[39m), raw_size)\n\u001b[1;32m     80\u001b[0m \u001b[39mwith\u001b[39;00m \u001b[39mself\u001b[39m\u001b[39m.\u001b[39m_lock:\n\u001b[0;32m---> 81\u001b[0m     \u001b[39mself\u001b[39;49m\u001b[39m.\u001b[39;49m_sendall_with_error_handle(header \u001b[39m+\u001b[39;49m data)\n",
      "File \u001b[0;32m/opt/conda/lib/python3.9/site-packages/wandb/sdk/lib/sock_client.py:61\u001b[0m, in \u001b[0;36mSockClient._sendall_with_error_handle\u001b[0;34m(self, data)\u001b[0m\n\u001b[1;32m     59\u001b[0m start_time \u001b[39m=\u001b[39m time\u001b[39m.\u001b[39mmonotonic()\n\u001b[1;32m     60\u001b[0m \u001b[39mtry\u001b[39;00m:\n\u001b[0;32m---> 61\u001b[0m     sent \u001b[39m=\u001b[39m \u001b[39mself\u001b[39;49m\u001b[39m.\u001b[39;49m_sock\u001b[39m.\u001b[39;49msend(data[total_sent:])\n\u001b[1;32m     62\u001b[0m     \u001b[39m# sent equal to 0 indicates a closed socket\u001b[39;00m\n\u001b[1;32m     63\u001b[0m     \u001b[39mif\u001b[39;00m sent \u001b[39m==\u001b[39m \u001b[39m0\u001b[39m:\n",
      "\u001b[0;31mBrokenPipeError\u001b[0m: [Errno 32] Broken pipe"
     ]
    }
   ],
   "source": [
    "wandb.agent(sweep_id, run_train)"
   ]
  }
 ],
 "metadata": {
  "kernelspec": {
   "display_name": "Python 3.9.12 ('base')",
   "language": "python",
   "name": "python3"
  },
  "language_info": {
   "codemirror_mode": {
    "name": "ipython",
    "version": 3
   },
   "file_extension": ".py",
   "mimetype": "text/x-python",
   "name": "python",
   "nbconvert_exporter": "python",
   "pygments_lexer": "ipython3",
   "version": "3.9.12"
  },
  "orig_nbformat": 4,
  "vscode": {
   "interpreter": {
    "hash": "d4d1e4263499bec80672ea0156c357c1ee493ec2b1c70f0acce89fc37c4a6abe"
   }
  }
 },
 "nbformat": 4,
 "nbformat_minor": 2
}
