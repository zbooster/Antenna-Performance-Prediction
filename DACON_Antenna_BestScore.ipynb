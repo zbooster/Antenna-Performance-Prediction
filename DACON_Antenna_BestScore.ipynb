{
  "cells": [
    {
      "cell_type": "markdown",
      "metadata": {
        "id": "2Yj2VJ2Ch-DB"
      },
      "source": [
        "## 기본설정"
      ]
    },
    {
      "cell_type": "markdown",
      "source": [
        "### 한글설정"
      ],
      "metadata": {
        "id": "S3MFcNuHkfom"
      }
    },
    {
      "cell_type": "code",
      "execution_count": null,
      "metadata": {
        "id": "tivAw3TqDkRW"
      },
      "outputs": [],
      "source": [
        "!apt-get install fonts-nanum* > /dev/null 2>&1\n",
        "!fc-cache -fv > /dev/null 2>&1"
      ]
    },
    {
      "cell_type": "code",
      "execution_count": null,
      "metadata": {
        "id": "koLXbN7wDkRX"
      },
      "outputs": [],
      "source": [
        "import os\n",
        "import matplotlib as mpl\n",
        "\n",
        "file_dir = os.path.split(mpl.__file__)[0]\n",
        "font_dir = os.path.join(file_dir, 'mpl-data/fonts/ttf')\n",
        "!cp /usr/share/fonts/truetype/nanum/Nanum* {font_dir}\n",
        "!rm -rf ~/.cache/matplotlib/*"
      ]
    },
    {
      "cell_type": "code",
      "source": [
        "!pip install statsmodels --upgrade"
      ],
      "metadata": {
        "colab": {
          "base_uri": "https://localhost:8080/"
        },
        "id": "MHarbagq-QnW",
        "outputId": "5ecc8a9e-7359-42be-82ed-709045c914d8"
      },
      "execution_count": null,
      "outputs": [
        {
          "output_type": "stream",
          "name": "stdout",
          "text": [
            "Looking in indexes: https://pypi.org/simple, https://us-python.pkg.dev/colab-wheels/public/simple/\n",
            "Requirement already satisfied: statsmodels in /usr/local/lib/python3.7/dist-packages (0.13.2)\n",
            "Requirement already satisfied: numpy>=1.17 in /usr/local/lib/python3.7/dist-packages (from statsmodels) (1.21.6)\n",
            "Requirement already satisfied: packaging>=21.3 in /usr/local/lib/python3.7/dist-packages (from statsmodels) (21.3)\n",
            "Requirement already satisfied: patsy>=0.5.2 in /usr/local/lib/python3.7/dist-packages (from statsmodels) (0.5.2)\n",
            "Requirement already satisfied: pandas>=0.25 in /usr/local/lib/python3.7/dist-packages (from statsmodels) (1.3.5)\n",
            "Requirement already satisfied: scipy>=1.3 in /usr/local/lib/python3.7/dist-packages (from statsmodels) (1.7.3)\n",
            "Requirement already satisfied: pyparsing!=3.0.5,>=2.0.2 in /usr/local/lib/python3.7/dist-packages (from packaging>=21.3->statsmodels) (3.0.9)\n",
            "Requirement already satisfied: python-dateutil>=2.7.3 in /usr/local/lib/python3.7/dist-packages (from pandas>=0.25->statsmodels) (2.8.2)\n",
            "Requirement already satisfied: pytz>=2017.3 in /usr/local/lib/python3.7/dist-packages (from pandas>=0.25->statsmodels) (2022.2.1)\n",
            "Requirement already satisfied: six in /usr/local/lib/python3.7/dist-packages (from patsy>=0.5.2->statsmodels) (1.15.0)\n"
          ]
        }
      ]
    },
    {
      "cell_type": "code",
      "source": [
        "from google.colab import drive\n",
        "drive.mount('/content/drive')"
      ],
      "metadata": {
        "id": "1z8HxGPjKXvT",
        "outputId": "8b51d1fd-a265-4a4f-f57e-55d560c667d1",
        "colab": {
          "base_uri": "https://localhost:8080/"
        }
      },
      "execution_count": null,
      "outputs": [
        {
          "output_type": "stream",
          "name": "stdout",
          "text": [
            "Drive already mounted at /content/drive; to attempt to forcibly remount, call drive.mount(\"/content/drive\", force_remount=True).\n"
          ]
        }
      ]
    },
    {
      "cell_type": "markdown",
      "metadata": {
        "id": "hGBl9pnTDkRX"
      },
      "source": [
        "> Runtime Restart"
      ]
    },
    {
      "cell_type": "code",
      "execution_count": null,
      "metadata": {
        "id": "EIKctpM3DkRX"
      },
      "outputs": [],
      "source": [
        "import matplotlib.pyplot as plt\n",
        "\n",
        "import matplotlib as mpl\n",
        "mpl.rcParams['axes.unicode_minus'] = False\n",
        "plt.rc('font', family='NanumGothicCoding')"
      ]
    },
    {
      "cell_type": "markdown",
      "metadata": {
        "id": "gswNx8Dph-DF"
      },
      "source": [
        "### 데이터 가져오기"
      ]
    },
    {
      "cell_type": "code",
      "execution_count": null,
      "metadata": {
        "id": "MOESg3nph-DF"
      },
      "outputs": [],
      "source": [
        "import os\n",
        "import gdown\n",
        "import glob\n",
        "import pandas as pd\n",
        "from collections import defaultdict\n",
        "\n",
        "id = \"10Hpa4YM0KX_Ig0W9w7DbTdq62nF2UThA\"\n",
        "output = \"./open.zip\"\n",
        "\n",
        "if not os.path.isdir('./datasets'):\n",
        "  gdown.download(id=id, output=output)\n",
        "  gdown.extractall(path=output, to='./datasets')\n",
        "\n",
        "raw_data = defaultdict(pd.DataFrame)\n",
        "\n",
        "for fname in glob.glob('/content/datasets/**/*.csv', recursive=True):\n",
        "    df_name = os.path.splitext(os.path.basename(fname))[0]\n",
        "    raw_data[df_name] = pd.read_csv(fname)"
      ]
    },
    {
      "cell_type": "markdown",
      "metadata": {
        "id": "_9s7pWhBh-DI"
      },
      "source": [
        "### 라이브러리 불러오기"
      ]
    },
    {
      "cell_type": "code",
      "execution_count": null,
      "metadata": {
        "id": "f_KSm4mth-DK"
      },
      "outputs": [],
      "source": [
        "import seaborn as sns\n",
        "import numpy as np\n",
        "\n",
        "from collections import defaultdict\n",
        "\n",
        "from sklearn import metrics\n",
        "from sklearn.pipeline import Pipeline\n",
        "from sklearn.ensemble import RandomForestRegressor\n",
        "from sklearn.feature_selection import SelectFromModel\n",
        "from sklearn.model_selection import KFold\n",
        "from sklearn.metrics import make_scorer\n",
        "from sklearn.preprocessing import FunctionTransformer\n",
        "from sklearn.preprocessing import StandardScaler\n",
        "from sklearn.preprocessing import MinMaxScaler\n",
        "from sklearn.compose import ColumnTransformer\n",
        "from sklearn.model_selection import cross_val_score\n",
        "\n",
        "from statsmodels.tsa.holtwinters import ExponentialSmoothing"
      ]
    },
    {
      "cell_type": "markdown",
      "metadata": {
        "id": "I6mMsBnLh-DN"
      },
      "source": [
        "## 함수 선언"
      ]
    },
    {
      "cell_type": "code",
      "execution_count": null,
      "metadata": {
        "id": "qNsUoyzyh-DN"
      },
      "outputs": [],
      "source": [
        "# 데이콘에서 제공한 평가함수\n",
        "def lg_nrmse(gt, preds):\n",
        "    # 각 Y Feature별 NRMSE 총합\n",
        "    # Y_01 ~ Y_08 까지 20% 가중치 부여\n",
        "    all_nrmse = []\n",
        "    for idx in range(0,14): # ignore 'ID'\n",
        "        rmse = metrics.mean_squared_error(gt[:,idx], preds[:,idx], squared=False)\n",
        "        nrmse = rmse/np.mean(np.abs(gt[:,idx]))\n",
        "        all_nrmse.append(nrmse)\n",
        "    score = 1.2 * np.sum(all_nrmse[:8]) + 1.0 * np.sum(all_nrmse[8:14])\n",
        "    return score\n",
        "\n",
        "# 변경한 함수\n",
        "def single_nrmse(gt, preds):\n",
        "    rmse = metrics.mean_squared_error(gt, preds, squared=False)\n",
        "    nrmse = rmse/np.mean(np.abs(gt))\n",
        "    return nrmse\n",
        "\n",
        "def split_patten(data):\n",
        "  start_idx, data_size = 0, len(data)\n",
        "  result = []\n",
        "  for i in range(data_size):\n",
        "    if i < 10 or i > data_size - 10:\n",
        "      pass\n",
        "    elif (data['X_30'][i-5:i] < 1.425).all() and (data['X_30'][i:i+5] > 1.425).all():\n",
        "      result.append(i-start_idx)\n",
        "      start_idx = i\n",
        "    elif (data['X_26'][i:i+5] == 2.03).all() and (data['X_27'][i:i+5] == 2.07).all() \\\n",
        "        and len(result) >= 5 and (i - start_idx > 1000):\n",
        "      result.append(i-start_idx)\n",
        "      start_idx = i\n",
        "  else:\n",
        "    result.append(data_size-start_idx)\n",
        "  return result\n",
        "\n",
        "def time_data(data):\n",
        "  T_dict = {'T_SIN':[], 'T_COS':[]}\n",
        "\n",
        "  for size in split_patten(data):\n",
        "    T_dict['T_SIN'].extend([ np.sin(2 * np.pi * i/size) for i in range(size) ])\n",
        "    T_dict['T_COS'].extend([ np.cos(2 * np.pi * i/size) for i in range(size) ])\n",
        "\n",
        "  return pd.DataFrame(T_dict).copy()\n",
        "\n",
        "def outlier_index(data, sigma=3):\n",
        "  data = data.abs().copy()\n",
        "  min_index = data.index[0]\n",
        "  SF = data.values.std() * sigma\n",
        "\n",
        "  model = ExponentialSmoothing(data, \n",
        "                               trend='additive', \n",
        "                               seasonal_periods=len(data)//6,\n",
        "                               initialization_method=None)\n",
        "  model = model.fit()\n",
        "\n",
        "  prediction = model.predict(\n",
        "      start=data.index[0], end=data.index[-1]\n",
        "  )\n",
        "\n",
        "  result = []\n",
        "  for idx, (actual, predicted) in enumerate(zip(data.values, prediction)):\n",
        "    if predicted - SF < actual < predicted + SF:\n",
        "      pass\n",
        "    else:\n",
        "      result.append(min_index + idx)\n",
        "\n",
        "  return result"
      ]
    },
    {
      "cell_type": "markdown",
      "source": [
        "## 데이터 전처리"
      ],
      "metadata": {
        "id": "pmib66_utSvn"
      }
    },
    {
      "cell_type": "code",
      "source": [
        "def preprocessing_raw(data_type):\n",
        "  # CSV 데이터 불러오기\n",
        "  data = raw_data[data_type].copy()\n",
        "\n",
        "  # 불필요한 컬럼 제거\n",
        "  data = data.drop(columns=['ID', 'X_04', 'X_23', 'X_47', 'X_48']).copy()\n",
        "  data = data.drop(columns=['X_50', 'X_51', 'X_52', 'X_53', 'X_54', 'X_55', 'X_56']).copy()\n",
        "\n",
        "  # 주기성을 대표할 수 있는 Feature 추가\n",
        "  Ts = time_data(data)\n",
        "  data = data.join(Ts).copy()\n",
        "\n",
        "  # 주기에 따라 데이터 분할\n",
        "  result = []\n",
        "  start_idx = data[data['T_SIN']==0].index.to_list()\n",
        "  for i in range(len(start_idx)-1):\n",
        "    result.append(data.iloc[start_idx[i]:start_idx[i+1]])\n",
        "  else:\n",
        "    result.append(data.iloc[start_idx[i+1]:])\n",
        "\n",
        "  return result.copy()"
      ],
      "metadata": {
        "id": "80qS6lIetXsg"
      },
      "execution_count": null,
      "outputs": []
    },
    {
      "cell_type": "code",
      "source": [
        "selected_columns = []\n",
        "selected_columns.append({\n",
        "    'Y_01' :['X_07', 'X_08', 'X_09', 'X_49', 'T_COS', 'T_SIN', 'X_03', 'X_05', 'X_13', 'X_19', 'X_20', 'X_21', 'X_22', 'X_35', 'X_36', 'X_43'],\n",
        "    'Y_02' :['X_07', 'X_08', 'X_09', 'X_49', 'T_COS', 'T_SIN', 'X_03', 'X_05', 'X_13', 'X_19', 'X_20', 'X_21', 'X_22', 'X_29', 'X_36', 'X_43'],\n",
        "    'Y_03' :['X_07', 'X_08', 'X_09', 'X_49', 'T_COS', 'T_SIN', 'X_03', 'X_05', 'X_13', 'X_19', 'X_21', 'X_22', 'X_35', 'X_36', 'X_43'],\n",
        "    'Y_04' :['X_07', 'X_09', 'X_49', 'T_COS', 'T_SIN', 'X_03', 'X_05', 'X_31'],\n",
        "    'Y_05' :['X_07', 'X_08', 'X_09', 'X_49', 'T_COS', 'T_SIN', 'X_03', 'X_05', 'X_13'],\n",
        "    'Y_06' :['X_07', 'X_08', 'X_09', 'X_49', 'T_COS', 'T_SIN', 'X_03', 'X_05'],\n",
        "    'Y_07' :['X_07', 'X_08', 'X_09', 'X_49', 'T_COS', 'T_SIN', 'X_03', 'X_05', 'X_13', 'X_21'],\n",
        "    'Y_08' :['X_07', 'X_08', 'X_09', 'X_49', 'T_COS', 'T_SIN', 'X_03', 'X_05', 'X_19'],\n",
        "    'Y_09' :['X_07', 'X_08', 'X_09', 'X_49', 'T_COS', 'T_SIN', 'X_03', 'X_05', 'X_19'],\n",
        "    'Y_10' :['X_07', 'X_08', 'X_09', 'X_49', 'T_COS', 'T_SIN', 'X_01', 'X_03', 'X_05', 'X_20'],\n",
        "    'Y_11' :['X_07', 'X_08', 'X_09', 'X_49', 'T_COS', 'T_SIN', 'X_01', 'X_03', 'X_05'],\n",
        "    'Y_12' :['X_07', 'X_08', 'X_09', 'X_49', 'T_COS', 'T_SIN', 'X_03', 'X_05', 'X_19'],\n",
        "    'Y_13' :['X_07', 'X_08', 'X_09', 'X_49', 'T_COS', 'T_SIN', 'X_03', 'X_05'],\n",
        "    'Y_14' :['X_07', 'X_08', 'X_09', 'X_49', 'T_COS', 'T_SIN', 'X_03', 'X_05', 'X_19'],\n",
        "})\n",
        "selected_columns.append({\n",
        "    'Y_01' :['X_07', 'X_08', 'X_09', 'X_49', 'T_COS', 'T_SIN', 'X_03', 'X_05', 'X_19', 'X_21', 'X_22'],\n",
        "    'Y_02' :['X_07', 'X_08', 'X_09', 'X_49', 'T_COS', 'T_SIN', 'X_03', 'X_05', 'X_19', 'X_22', 'X_43'],\n",
        "    'Y_03' :['X_07', 'X_08', 'X_09', 'X_49', 'T_COS', 'T_SIN', 'X_03', 'X_05', 'X_19', 'X_20', 'X_22'],\n",
        "    'Y_04' :['X_07', 'X_08', 'X_09', 'X_49', 'T_COS', 'T_SIN', 'X_03', 'X_05', 'X_26'],\n",
        "    'Y_05' :['X_07', 'X_08', 'X_09', 'X_49', 'T_COS', 'T_SIN', 'X_03', 'X_05', 'X_19'],\n",
        "    'Y_06' :['X_07', 'X_08', 'X_09', 'X_49', 'T_COS', 'T_SIN', 'X_03', 'X_05', 'X_22'],\n",
        "    'Y_07' :['X_07', 'X_08', 'X_09', 'X_49', 'T_COS', 'T_SIN', 'X_03', 'X_05', 'X_13', 'X_19', 'X_22'],\n",
        "    'Y_08' :['X_07', 'X_08', 'X_09', 'X_49', 'T_COS', 'T_SIN', 'X_03', 'X_05'], \n",
        "    'Y_09' :['X_07', 'X_08', 'X_09', 'X_49', 'T_COS', 'T_SIN', 'X_03', 'X_05'], \n",
        "    'Y_10' :['X_07', 'X_08', 'X_49', 'T_COS', 'T_SIN', 'X_03', 'X_05'], \n",
        "    'Y_11' :['X_07', 'X_08', 'X_09', 'X_49', 'T_COS', 'T_SIN', 'X_03', 'X_05'], \n",
        "    'Y_12' :['X_07', 'X_08', 'X_09', 'X_49', 'T_COS', 'T_SIN', 'X_03', 'X_05'], \n",
        "    'Y_13' :['X_07', 'X_08', 'X_09', 'X_49', 'T_COS', 'T_SIN', 'X_03', 'X_05'], \n",
        "    'Y_14' :['X_07', 'X_08', 'X_09', 'X_49', 'T_COS', 'T_SIN', 'X_03', 'X_05'], \n",
        "})"
      ],
      "metadata": {
        "id": "5rBzWFKgl0qp"
      },
      "execution_count": null,
      "outputs": []
    },
    {
      "cell_type": "markdown",
      "source": [
        "#### Outlier"
      ],
      "metadata": {
        "id": "wPqUNdI_l8Wm"
      }
    },
    {
      "cell_type": "code",
      "source": [
        "outlier_weight = []\n",
        "outlier_weight.append({\n",
        "    'Y_01' : 2.1, 'Y_02' : 3.1, 'Y_03' : 2.1, 'Y_04' : 4.0, 'Y_05' : 4.0, \n",
        "    'Y_06' : 2.7, 'Y_07' : 3.9, 'Y_08' : 4.0, 'Y_09' : 4.0, 'Y_10' : 3.6,\n",
        "    'Y_11' : 4.0, 'Y_12' : 4.0, 'Y_13' : 4.0, 'Y_14' : 4.0\n",
        "})\n",
        "outlier_weight.append({\n",
        "    'Y_01' : 2.7, 'Y_02' : 2.5, 'Y_03' : 2.2, 'Y_04' : 4.0, 'Y_05' : 4.0, \n",
        "    'Y_06' : 4.0, 'Y_07' : 3.3, 'Y_08' : 4.0, 'Y_09' : 4.0, 'Y_10' : 4.0,\n",
        "    'Y_11' : 4.0, 'Y_12' : 4.0, 'Y_13' : 4.0, 'Y_14' : 4.0\n",
        "})"
      ],
      "metadata": {
        "id": "YCm7JiB9l7xf"
      },
      "execution_count": null,
      "outputs": []
    },
    {
      "cell_type": "code",
      "source": [
        "train_raw_list = preprocessing_raw('train')\n",
        "test_raw_list = preprocessing_raw('test')"
      ],
      "metadata": {
        "id": "SC6aCq5il2vh"
      },
      "execution_count": null,
      "outputs": []
    },
    {
      "cell_type": "code",
      "source": [
        "len(pd.concat(train_raw_list)), len(pd.concat(test_raw_list))"
      ],
      "metadata": {
        "colab": {
          "base_uri": "https://localhost:8080/"
        },
        "id": "nqVozyeSFYOi",
        "outputId": "b3f89733-71bb-45db-e841-13ab498e2876"
      },
      "execution_count": null,
      "outputs": [
        {
          "output_type": "execute_result",
          "data": {
            "text/plain": [
              "(39607, 39608)"
            ]
          },
          "metadata": {},
          "execution_count": 9
        }
      ]
    },
    {
      "cell_type": "markdown",
      "source": [
        "## 학습 및 예측(평가)"
      ],
      "metadata": {
        "id": "NCaLw04dPNm1"
      }
    },
    {
      "cell_type": "code",
      "source": [
        "result_list = []\n",
        "\n",
        "# 데이터의 주기적 성격에 따라 2개로 분할하여 예측수행.\n",
        "for patten_i in range(2):\n",
        "  print('Part{} Start...'.format(patten_i+1))\n",
        "  # 결과를 저장할 리스트 defaultdict 선언\n",
        "  result = defaultdict(list)\n",
        "\n",
        "  # 각 컬럼마다 Outlier를 제거하고 수행\n",
        "  for cname in ['Y_%02d' % (i+1) for i in range(14)]: \n",
        "    print('\\t{} Preprocess...'.format(cname), end='')\n",
        "    # 전처리된 Train RAW 데이터 준비\n",
        "    train = pd.concat(train_raw_list[6*patten_i:6*(patten_i+1)]).copy()\n",
        "    train = train.reset_index(drop=True).copy()\n",
        "\n",
        "    # Outlier 제거\n",
        "    filter_data = train.drop(\n",
        "        index=outlier_index(data=train[cname], sigma=outlier_weight[patten_i][cname])\n",
        "        ).copy()\n",
        "\n",
        "    # 학습용 X, y 선언\n",
        "    X_train = filter_data.filter(items=selected_columns[patten_i][cname]).copy()\n",
        "    y_train = filter_data[[cname]].values.ravel().copy()\n",
        "\n",
        "    # log1p 함수를 적용하여 스케이링 할 컬럼 분리\n",
        "    lst_cols = [ c for c in ['X_07', 'X_08', 'X_09', 'X_49'] if c in selected_columns[patten_i][cname]]\n",
        "    std_cols = sorted(list(set(X_train.columns) - set(lst_cols)))\n",
        "\n",
        "    # Scaler Pipe 선언\n",
        "    log_transformer = Pipeline(steps=[\n",
        "        (\"log1p\", FunctionTransformer(np.log1p))\n",
        "    ])\n",
        "\n",
        "    splitrans = ColumnTransformer(transformers=[\n",
        "          (\"lst\", log_transformer, lst_cols),\n",
        "          (\"none\", 'passthrough', std_cols)\n",
        "    ])\n",
        "\n",
        "    preprocessing = Pipeline(steps=[    \n",
        "          (\"split\", splitrans),\n",
        "          ('minmax', MinMaxScaler())\n",
        "    ])\n",
        "\n",
        "    Xt = preprocessing.fit_transform(X_train)\n",
        "    Xt = pd.DataFrame(data=Xt, columns=lst_cols + std_cols).copy()\n",
        "    \n",
        "    # Estimater Pipe 선언\n",
        "    pipe = Pipeline(steps=[\n",
        "        # ('preprocessing', preprocessing),\n",
        "        ('rf_reg', RandomForestRegressor(criterion=\"squared_error\"\n",
        "                        , random_state=13, n_jobs=4\n",
        "                        , n_estimators=600\n",
        "                        , max_depth=80\n",
        "                        , min_samples_leaf=32\n",
        "                        , min_samples_split=16\n",
        "                        )\n",
        "        )\n",
        "    ])\n",
        "    print(' Training...'.format(cname), end='')\n",
        "    # Train 데이터 학습\n",
        "    pipe.fit(Xt, y_train)\n",
        "\n",
        "    # 전처리된 Test RAW 데이터 준비\n",
        "    test = pd.concat(test_raw_list[6*patten_i:6*(patten_i+1)]).copy()\n",
        "    X_test = test.filter(items=selected_columns[patten_i][cname]).copy()\n",
        "\n",
        "    # 테스트 데이터 Scaler 적용\n",
        "    Xt = preprocessing.fit_transform(X_test)\n",
        "    Xt = pd.DataFrame(data=Xt, columns=lst_cols + std_cols).copy()\n",
        "\n",
        "    # 예측수행\n",
        "    print(' Predict...'.format(cname))\n",
        "    y_pred = pipe.predict(Xt)\n",
        "\n",
        "    # 결과 저장.\n",
        "    result[cname] = y_pred\n",
        "\n",
        "  # 결과 취합\n",
        "  result_list.append(pd.DataFrame(result, index=test.index))\n",
        "\n",
        "preds = pd.concat(result_list)\n",
        "preds.head()"
      ],
      "metadata": {
        "colab": {
          "base_uri": "https://localhost:8080/",
          "height": 826
        },
        "id": "EoPzcA9MmTIe",
        "outputId": "267ff9d5-535e-429c-cc92-5b4d45dda7a1"
      },
      "execution_count": null,
      "outputs": [
        {
          "output_type": "stream",
          "name": "stdout",
          "text": [
            "Part1 Start...\n",
            "\tY_01 Preprocess... Training... Predict...\n",
            "\tY_02 Preprocess... Training... Predict...\n",
            "\tY_03 Preprocess... Training... Predict...\n",
            "\tY_04 Preprocess... Training... Predict...\n",
            "\tY_05 Preprocess... Training... Predict...\n",
            "\tY_06 Preprocess... Training... Predict...\n",
            "\tY_07 Preprocess... Training... Predict...\n",
            "\tY_08 Preprocess... Training... Predict...\n",
            "\tY_09 Preprocess... Training... Predict...\n",
            "\tY_10 Preprocess... Training... Predict...\n",
            "\tY_11 Preprocess... Training... Predict...\n",
            "\tY_12 Preprocess... Training... Predict...\n",
            "\tY_13 Preprocess... Training... Predict...\n",
            "\tY_14 Preprocess... Training... Predict...\n",
            "Part2 Start...\n",
            "\tY_01 Preprocess... Training... Predict...\n",
            "\tY_02 Preprocess... Training... Predict...\n",
            "\tY_03 Preprocess... Training... Predict...\n",
            "\tY_04 Preprocess... Training... Predict...\n",
            "\tY_05 Preprocess... Training... Predict...\n",
            "\tY_06 Preprocess... Training... Predict...\n",
            "\tY_07 Preprocess... Training... Predict...\n",
            "\tY_08 Preprocess... Training... Predict...\n",
            "\tY_09 Preprocess... Training... Predict...\n",
            "\tY_10 Preprocess... Training... Predict...\n",
            "\tY_11 Preprocess... Training... Predict...\n",
            "\tY_12 Preprocess... Training... Predict...\n",
            "\tY_13 Preprocess... Training... Predict...\n",
            "\tY_14 Preprocess... Training... Predict...\n"
          ]
        },
        {
          "output_type": "execute_result",
          "data": {
            "text/plain": [
              "       Y_01      Y_02      Y_03       Y_04       Y_05       Y_06      Y_07  \\\n",
              "0  1.382240  1.112253  0.985119  14.816871  31.765264  17.003042  3.132570   \n",
              "1  1.408119  1.119884  0.974271  14.612658  31.915018  17.064136  3.119649   \n",
              "2  1.368801  1.138783  1.005271  14.819768  32.312165  17.113146  3.027712   \n",
              "3  1.348750  1.067340  0.946480  14.394441  32.266371  17.131393  3.016165   \n",
              "4  1.413176  1.032844  1.049042  14.903065  31.998501  17.086030  3.098095   \n",
              "\n",
              "        Y_08       Y_09       Y_10       Y_11       Y_12       Y_13       Y_14  \n",
              "0 -25.653803 -25.683031 -21.921966  24.807331 -25.595499 -25.626921 -25.640482  \n",
              "1 -25.561284 -25.588819 -21.967932  24.861635 -25.527432 -25.529373 -25.542042  \n",
              "2 -25.555625 -25.581001 -21.873327  24.887025 -25.511718 -25.521607 -25.523868  \n",
              "3 -25.576281 -25.610179 -21.889642  24.884955 -25.524547 -25.552493 -25.554324  \n",
              "4 -25.726926 -25.766438 -22.050342  24.797460 -25.672172 -25.718561 -25.678442  "
            ],
            "text/html": [
              "\n",
              "  <div id=\"df-241aea62-8131-4e50-99cc-d29986998492\">\n",
              "    <div class=\"colab-df-container\">\n",
              "      <div>\n",
              "<style scoped>\n",
              "    .dataframe tbody tr th:only-of-type {\n",
              "        vertical-align: middle;\n",
              "    }\n",
              "\n",
              "    .dataframe tbody tr th {\n",
              "        vertical-align: top;\n",
              "    }\n",
              "\n",
              "    .dataframe thead th {\n",
              "        text-align: right;\n",
              "    }\n",
              "</style>\n",
              "<table border=\"1\" class=\"dataframe\">\n",
              "  <thead>\n",
              "    <tr style=\"text-align: right;\">\n",
              "      <th></th>\n",
              "      <th>Y_01</th>\n",
              "      <th>Y_02</th>\n",
              "      <th>Y_03</th>\n",
              "      <th>Y_04</th>\n",
              "      <th>Y_05</th>\n",
              "      <th>Y_06</th>\n",
              "      <th>Y_07</th>\n",
              "      <th>Y_08</th>\n",
              "      <th>Y_09</th>\n",
              "      <th>Y_10</th>\n",
              "      <th>Y_11</th>\n",
              "      <th>Y_12</th>\n",
              "      <th>Y_13</th>\n",
              "      <th>Y_14</th>\n",
              "    </tr>\n",
              "  </thead>\n",
              "  <tbody>\n",
              "    <tr>\n",
              "      <th>0</th>\n",
              "      <td>1.382240</td>\n",
              "      <td>1.112253</td>\n",
              "      <td>0.985119</td>\n",
              "      <td>14.816871</td>\n",
              "      <td>31.765264</td>\n",
              "      <td>17.003042</td>\n",
              "      <td>3.132570</td>\n",
              "      <td>-25.653803</td>\n",
              "      <td>-25.683031</td>\n",
              "      <td>-21.921966</td>\n",
              "      <td>24.807331</td>\n",
              "      <td>-25.595499</td>\n",
              "      <td>-25.626921</td>\n",
              "      <td>-25.640482</td>\n",
              "    </tr>\n",
              "    <tr>\n",
              "      <th>1</th>\n",
              "      <td>1.408119</td>\n",
              "      <td>1.119884</td>\n",
              "      <td>0.974271</td>\n",
              "      <td>14.612658</td>\n",
              "      <td>31.915018</td>\n",
              "      <td>17.064136</td>\n",
              "      <td>3.119649</td>\n",
              "      <td>-25.561284</td>\n",
              "      <td>-25.588819</td>\n",
              "      <td>-21.967932</td>\n",
              "      <td>24.861635</td>\n",
              "      <td>-25.527432</td>\n",
              "      <td>-25.529373</td>\n",
              "      <td>-25.542042</td>\n",
              "    </tr>\n",
              "    <tr>\n",
              "      <th>2</th>\n",
              "      <td>1.368801</td>\n",
              "      <td>1.138783</td>\n",
              "      <td>1.005271</td>\n",
              "      <td>14.819768</td>\n",
              "      <td>32.312165</td>\n",
              "      <td>17.113146</td>\n",
              "      <td>3.027712</td>\n",
              "      <td>-25.555625</td>\n",
              "      <td>-25.581001</td>\n",
              "      <td>-21.873327</td>\n",
              "      <td>24.887025</td>\n",
              "      <td>-25.511718</td>\n",
              "      <td>-25.521607</td>\n",
              "      <td>-25.523868</td>\n",
              "    </tr>\n",
              "    <tr>\n",
              "      <th>3</th>\n",
              "      <td>1.348750</td>\n",
              "      <td>1.067340</td>\n",
              "      <td>0.946480</td>\n",
              "      <td>14.394441</td>\n",
              "      <td>32.266371</td>\n",
              "      <td>17.131393</td>\n",
              "      <td>3.016165</td>\n",
              "      <td>-25.576281</td>\n",
              "      <td>-25.610179</td>\n",
              "      <td>-21.889642</td>\n",
              "      <td>24.884955</td>\n",
              "      <td>-25.524547</td>\n",
              "      <td>-25.552493</td>\n",
              "      <td>-25.554324</td>\n",
              "    </tr>\n",
              "    <tr>\n",
              "      <th>4</th>\n",
              "      <td>1.413176</td>\n",
              "      <td>1.032844</td>\n",
              "      <td>1.049042</td>\n",
              "      <td>14.903065</td>\n",
              "      <td>31.998501</td>\n",
              "      <td>17.086030</td>\n",
              "      <td>3.098095</td>\n",
              "      <td>-25.726926</td>\n",
              "      <td>-25.766438</td>\n",
              "      <td>-22.050342</td>\n",
              "      <td>24.797460</td>\n",
              "      <td>-25.672172</td>\n",
              "      <td>-25.718561</td>\n",
              "      <td>-25.678442</td>\n",
              "    </tr>\n",
              "  </tbody>\n",
              "</table>\n",
              "</div>\n",
              "      <button class=\"colab-df-convert\" onclick=\"convertToInteractive('df-241aea62-8131-4e50-99cc-d29986998492')\"\n",
              "              title=\"Convert this dataframe to an interactive table.\"\n",
              "              style=\"display:none;\">\n",
              "        \n",
              "  <svg xmlns=\"http://www.w3.org/2000/svg\" height=\"24px\"viewBox=\"0 0 24 24\"\n",
              "       width=\"24px\">\n",
              "    <path d=\"M0 0h24v24H0V0z\" fill=\"none\"/>\n",
              "    <path d=\"M18.56 5.44l.94 2.06.94-2.06 2.06-.94-2.06-.94-.94-2.06-.94 2.06-2.06.94zm-11 1L8.5 8.5l.94-2.06 2.06-.94-2.06-.94L8.5 2.5l-.94 2.06-2.06.94zm10 10l.94 2.06.94-2.06 2.06-.94-2.06-.94-.94-2.06-.94 2.06-2.06.94z\"/><path d=\"M17.41 7.96l-1.37-1.37c-.4-.4-.92-.59-1.43-.59-.52 0-1.04.2-1.43.59L10.3 9.45l-7.72 7.72c-.78.78-.78 2.05 0 2.83L4 21.41c.39.39.9.59 1.41.59.51 0 1.02-.2 1.41-.59l7.78-7.78 2.81-2.81c.8-.78.8-2.07 0-2.86zM5.41 20L4 18.59l7.72-7.72 1.47 1.35L5.41 20z\"/>\n",
              "  </svg>\n",
              "      </button>\n",
              "      \n",
              "  <style>\n",
              "    .colab-df-container {\n",
              "      display:flex;\n",
              "      flex-wrap:wrap;\n",
              "      gap: 12px;\n",
              "    }\n",
              "\n",
              "    .colab-df-convert {\n",
              "      background-color: #E8F0FE;\n",
              "      border: none;\n",
              "      border-radius: 50%;\n",
              "      cursor: pointer;\n",
              "      display: none;\n",
              "      fill: #1967D2;\n",
              "      height: 32px;\n",
              "      padding: 0 0 0 0;\n",
              "      width: 32px;\n",
              "    }\n",
              "\n",
              "    .colab-df-convert:hover {\n",
              "      background-color: #E2EBFA;\n",
              "      box-shadow: 0px 1px 2px rgba(60, 64, 67, 0.3), 0px 1px 3px 1px rgba(60, 64, 67, 0.15);\n",
              "      fill: #174EA6;\n",
              "    }\n",
              "\n",
              "    [theme=dark] .colab-df-convert {\n",
              "      background-color: #3B4455;\n",
              "      fill: #D2E3FC;\n",
              "    }\n",
              "\n",
              "    [theme=dark] .colab-df-convert:hover {\n",
              "      background-color: #434B5C;\n",
              "      box-shadow: 0px 1px 3px 1px rgba(0, 0, 0, 0.15);\n",
              "      filter: drop-shadow(0px 1px 2px rgba(0, 0, 0, 0.3));\n",
              "      fill: #FFFFFF;\n",
              "    }\n",
              "  </style>\n",
              "\n",
              "      <script>\n",
              "        const buttonEl =\n",
              "          document.querySelector('#df-241aea62-8131-4e50-99cc-d29986998492 button.colab-df-convert');\n",
              "        buttonEl.style.display =\n",
              "          google.colab.kernel.accessAllowed ? 'block' : 'none';\n",
              "\n",
              "        async function convertToInteractive(key) {\n",
              "          const element = document.querySelector('#df-241aea62-8131-4e50-99cc-d29986998492');\n",
              "          const dataTable =\n",
              "            await google.colab.kernel.invokeFunction('convertToInteractive',\n",
              "                                                     [key], {});\n",
              "          if (!dataTable) return;\n",
              "\n",
              "          const docLinkHtml = 'Like what you see? Visit the ' +\n",
              "            '<a target=\"_blank\" href=https://colab.research.google.com/notebooks/data_table.ipynb>data table notebook</a>'\n",
              "            + ' to learn more about interactive tables.';\n",
              "          element.innerHTML = '';\n",
              "          dataTable['output_type'] = 'display_data';\n",
              "          await google.colab.output.renderOutput(dataTable, element);\n",
              "          const docLink = document.createElement('div');\n",
              "          docLink.innerHTML = docLinkHtml;\n",
              "          element.appendChild(docLink);\n",
              "        }\n",
              "      </script>\n",
              "    </div>\n",
              "  </div>\n",
              "  "
            ]
          },
          "metadata": {},
          "execution_count": 10
        }
      ]
    },
    {
      "cell_type": "code",
      "source": [
        "preds.tail()"
      ],
      "metadata": {
        "colab": {
          "base_uri": "https://localhost:8080/",
          "height": 206
        },
        "id": "buYTw3tvE4Rm",
        "outputId": "c62e0da6-8a2e-42a3-92ba-78c2f22077f9"
      },
      "execution_count": null,
      "outputs": [
        {
          "output_type": "execute_result",
          "data": {
            "text/plain": [
              "           Y_01      Y_02      Y_03       Y_04       Y_05       Y_06  \\\n",
              "39603  1.314425  0.933360  0.963305  13.520705  31.234867  16.837297   \n",
              "39604  1.317228  0.905539  0.954004  13.735586  31.281218  16.777101   \n",
              "39605  1.318415  0.916672  0.961393  13.308986  31.326077  16.784266   \n",
              "39606  1.373663  0.955382  1.019963  13.652659  31.346164  16.652528   \n",
              "39607  1.346809  0.966905  1.006946  13.634912  31.382102  16.682922   \n",
              "\n",
              "           Y_07       Y_08       Y_09       Y_10       Y_11       Y_12  \\\n",
              "39603  3.200632 -26.374732 -26.387753 -22.803560  24.481768 -26.335311   \n",
              "39604  3.189037 -26.417349 -26.407353 -22.840761  24.471309 -26.373097   \n",
              "39605  3.170473 -26.346376 -26.374380 -22.791332  24.456257 -26.321734   \n",
              "39606  3.150442 -26.419875 -26.404452 -22.876050  24.422659 -26.358192   \n",
              "39607  3.125317 -26.413346 -26.384548 -22.745575  24.445120 -26.349678   \n",
              "\n",
              "            Y_13       Y_14  \n",
              "39603 -26.336796 -26.326300  \n",
              "39604 -26.355808 -26.343030  \n",
              "39605 -26.312061 -26.317203  \n",
              "39606 -26.336591 -26.333521  \n",
              "39607 -26.322606 -26.323570  "
            ],
            "text/html": [
              "\n",
              "  <div id=\"df-6dc79369-1953-488d-9589-9e40ad10ef12\">\n",
              "    <div class=\"colab-df-container\">\n",
              "      <div>\n",
              "<style scoped>\n",
              "    .dataframe tbody tr th:only-of-type {\n",
              "        vertical-align: middle;\n",
              "    }\n",
              "\n",
              "    .dataframe tbody tr th {\n",
              "        vertical-align: top;\n",
              "    }\n",
              "\n",
              "    .dataframe thead th {\n",
              "        text-align: right;\n",
              "    }\n",
              "</style>\n",
              "<table border=\"1\" class=\"dataframe\">\n",
              "  <thead>\n",
              "    <tr style=\"text-align: right;\">\n",
              "      <th></th>\n",
              "      <th>Y_01</th>\n",
              "      <th>Y_02</th>\n",
              "      <th>Y_03</th>\n",
              "      <th>Y_04</th>\n",
              "      <th>Y_05</th>\n",
              "      <th>Y_06</th>\n",
              "      <th>Y_07</th>\n",
              "      <th>Y_08</th>\n",
              "      <th>Y_09</th>\n",
              "      <th>Y_10</th>\n",
              "      <th>Y_11</th>\n",
              "      <th>Y_12</th>\n",
              "      <th>Y_13</th>\n",
              "      <th>Y_14</th>\n",
              "    </tr>\n",
              "  </thead>\n",
              "  <tbody>\n",
              "    <tr>\n",
              "      <th>39603</th>\n",
              "      <td>1.314425</td>\n",
              "      <td>0.933360</td>\n",
              "      <td>0.963305</td>\n",
              "      <td>13.520705</td>\n",
              "      <td>31.234867</td>\n",
              "      <td>16.837297</td>\n",
              "      <td>3.200632</td>\n",
              "      <td>-26.374732</td>\n",
              "      <td>-26.387753</td>\n",
              "      <td>-22.803560</td>\n",
              "      <td>24.481768</td>\n",
              "      <td>-26.335311</td>\n",
              "      <td>-26.336796</td>\n",
              "      <td>-26.326300</td>\n",
              "    </tr>\n",
              "    <tr>\n",
              "      <th>39604</th>\n",
              "      <td>1.317228</td>\n",
              "      <td>0.905539</td>\n",
              "      <td>0.954004</td>\n",
              "      <td>13.735586</td>\n",
              "      <td>31.281218</td>\n",
              "      <td>16.777101</td>\n",
              "      <td>3.189037</td>\n",
              "      <td>-26.417349</td>\n",
              "      <td>-26.407353</td>\n",
              "      <td>-22.840761</td>\n",
              "      <td>24.471309</td>\n",
              "      <td>-26.373097</td>\n",
              "      <td>-26.355808</td>\n",
              "      <td>-26.343030</td>\n",
              "    </tr>\n",
              "    <tr>\n",
              "      <th>39605</th>\n",
              "      <td>1.318415</td>\n",
              "      <td>0.916672</td>\n",
              "      <td>0.961393</td>\n",
              "      <td>13.308986</td>\n",
              "      <td>31.326077</td>\n",
              "      <td>16.784266</td>\n",
              "      <td>3.170473</td>\n",
              "      <td>-26.346376</td>\n",
              "      <td>-26.374380</td>\n",
              "      <td>-22.791332</td>\n",
              "      <td>24.456257</td>\n",
              "      <td>-26.321734</td>\n",
              "      <td>-26.312061</td>\n",
              "      <td>-26.317203</td>\n",
              "    </tr>\n",
              "    <tr>\n",
              "      <th>39606</th>\n",
              "      <td>1.373663</td>\n",
              "      <td>0.955382</td>\n",
              "      <td>1.019963</td>\n",
              "      <td>13.652659</td>\n",
              "      <td>31.346164</td>\n",
              "      <td>16.652528</td>\n",
              "      <td>3.150442</td>\n",
              "      <td>-26.419875</td>\n",
              "      <td>-26.404452</td>\n",
              "      <td>-22.876050</td>\n",
              "      <td>24.422659</td>\n",
              "      <td>-26.358192</td>\n",
              "      <td>-26.336591</td>\n",
              "      <td>-26.333521</td>\n",
              "    </tr>\n",
              "    <tr>\n",
              "      <th>39607</th>\n",
              "      <td>1.346809</td>\n",
              "      <td>0.966905</td>\n",
              "      <td>1.006946</td>\n",
              "      <td>13.634912</td>\n",
              "      <td>31.382102</td>\n",
              "      <td>16.682922</td>\n",
              "      <td>3.125317</td>\n",
              "      <td>-26.413346</td>\n",
              "      <td>-26.384548</td>\n",
              "      <td>-22.745575</td>\n",
              "      <td>24.445120</td>\n",
              "      <td>-26.349678</td>\n",
              "      <td>-26.322606</td>\n",
              "      <td>-26.323570</td>\n",
              "    </tr>\n",
              "  </tbody>\n",
              "</table>\n",
              "</div>\n",
              "      <button class=\"colab-df-convert\" onclick=\"convertToInteractive('df-6dc79369-1953-488d-9589-9e40ad10ef12')\"\n",
              "              title=\"Convert this dataframe to an interactive table.\"\n",
              "              style=\"display:none;\">\n",
              "        \n",
              "  <svg xmlns=\"http://www.w3.org/2000/svg\" height=\"24px\"viewBox=\"0 0 24 24\"\n",
              "       width=\"24px\">\n",
              "    <path d=\"M0 0h24v24H0V0z\" fill=\"none\"/>\n",
              "    <path d=\"M18.56 5.44l.94 2.06.94-2.06 2.06-.94-2.06-.94-.94-2.06-.94 2.06-2.06.94zm-11 1L8.5 8.5l.94-2.06 2.06-.94-2.06-.94L8.5 2.5l-.94 2.06-2.06.94zm10 10l.94 2.06.94-2.06 2.06-.94-2.06-.94-.94-2.06-.94 2.06-2.06.94z\"/><path d=\"M17.41 7.96l-1.37-1.37c-.4-.4-.92-.59-1.43-.59-.52 0-1.04.2-1.43.59L10.3 9.45l-7.72 7.72c-.78.78-.78 2.05 0 2.83L4 21.41c.39.39.9.59 1.41.59.51 0 1.02-.2 1.41-.59l7.78-7.78 2.81-2.81c.8-.78.8-2.07 0-2.86zM5.41 20L4 18.59l7.72-7.72 1.47 1.35L5.41 20z\"/>\n",
              "  </svg>\n",
              "      </button>\n",
              "      \n",
              "  <style>\n",
              "    .colab-df-container {\n",
              "      display:flex;\n",
              "      flex-wrap:wrap;\n",
              "      gap: 12px;\n",
              "    }\n",
              "\n",
              "    .colab-df-convert {\n",
              "      background-color: #E8F0FE;\n",
              "      border: none;\n",
              "      border-radius: 50%;\n",
              "      cursor: pointer;\n",
              "      display: none;\n",
              "      fill: #1967D2;\n",
              "      height: 32px;\n",
              "      padding: 0 0 0 0;\n",
              "      width: 32px;\n",
              "    }\n",
              "\n",
              "    .colab-df-convert:hover {\n",
              "      background-color: #E2EBFA;\n",
              "      box-shadow: 0px 1px 2px rgba(60, 64, 67, 0.3), 0px 1px 3px 1px rgba(60, 64, 67, 0.15);\n",
              "      fill: #174EA6;\n",
              "    }\n",
              "\n",
              "    [theme=dark] .colab-df-convert {\n",
              "      background-color: #3B4455;\n",
              "      fill: #D2E3FC;\n",
              "    }\n",
              "\n",
              "    [theme=dark] .colab-df-convert:hover {\n",
              "      background-color: #434B5C;\n",
              "      box-shadow: 0px 1px 3px 1px rgba(0, 0, 0, 0.15);\n",
              "      filter: drop-shadow(0px 1px 2px rgba(0, 0, 0, 0.3));\n",
              "      fill: #FFFFFF;\n",
              "    }\n",
              "  </style>\n",
              "\n",
              "      <script>\n",
              "        const buttonEl =\n",
              "          document.querySelector('#df-6dc79369-1953-488d-9589-9e40ad10ef12 button.colab-df-convert');\n",
              "        buttonEl.style.display =\n",
              "          google.colab.kernel.accessAllowed ? 'block' : 'none';\n",
              "\n",
              "        async function convertToInteractive(key) {\n",
              "          const element = document.querySelector('#df-6dc79369-1953-488d-9589-9e40ad10ef12');\n",
              "          const dataTable =\n",
              "            await google.colab.kernel.invokeFunction('convertToInteractive',\n",
              "                                                     [key], {});\n",
              "          if (!dataTable) return;\n",
              "\n",
              "          const docLinkHtml = 'Like what you see? Visit the ' +\n",
              "            '<a target=\"_blank\" href=https://colab.research.google.com/notebooks/data_table.ipynb>data table notebook</a>'\n",
              "            + ' to learn more about interactive tables.';\n",
              "          element.innerHTML = '';\n",
              "          dataTable['output_type'] = 'display_data';\n",
              "          await google.colab.output.renderOutput(dataTable, element);\n",
              "          const docLink = document.createElement('div');\n",
              "          docLink.innerHTML = docLinkHtml;\n",
              "          element.appendChild(docLink);\n",
              "        }\n",
              "      </script>\n",
              "    </div>\n",
              "  </div>\n",
              "  "
            ]
          },
          "metadata": {},
          "execution_count": 11
        }
      ]
    },
    {
      "cell_type": "code",
      "source": [
        "preds.info()"
      ],
      "metadata": {
        "colab": {
          "base_uri": "https://localhost:8080/"
        },
        "id": "Lnp2QpQOFn_-",
        "outputId": "e9b16101-fe59-4db6-8082-206aeca8145c"
      },
      "execution_count": null,
      "outputs": [
        {
          "output_type": "stream",
          "name": "stdout",
          "text": [
            "<class 'pandas.core.frame.DataFrame'>\n",
            "RangeIndex: 39608 entries, 0 to 39607\n",
            "Data columns (total 14 columns):\n",
            " #   Column  Non-Null Count  Dtype  \n",
            "---  ------  --------------  -----  \n",
            " 0   Y_01    39608 non-null  float64\n",
            " 1   Y_02    39608 non-null  float64\n",
            " 2   Y_03    39608 non-null  float64\n",
            " 3   Y_04    39608 non-null  float64\n",
            " 4   Y_05    39608 non-null  float64\n",
            " 5   Y_06    39608 non-null  float64\n",
            " 6   Y_07    39608 non-null  float64\n",
            " 7   Y_08    39608 non-null  float64\n",
            " 8   Y_09    39608 non-null  float64\n",
            " 9   Y_10    39608 non-null  float64\n",
            " 10  Y_11    39608 non-null  float64\n",
            " 11  Y_12    39608 non-null  float64\n",
            " 12  Y_13    39608 non-null  float64\n",
            " 13  Y_14    39608 non-null  float64\n",
            "dtypes: float64(14)\n",
            "memory usage: 4.2 MB\n"
          ]
        }
      ]
    },
    {
      "cell_type": "code",
      "source": [
        "len(preds)"
      ],
      "metadata": {
        "colab": {
          "base_uri": "https://localhost:8080/"
        },
        "id": "Lv1UPe63FDoi",
        "outputId": "4ab8801e-86d8-4a33-9958-6df1c842dd22"
      },
      "execution_count": null,
      "outputs": [
        {
          "output_type": "execute_result",
          "data": {
            "text/plain": [
              "39608"
            ]
          },
          "metadata": {},
          "execution_count": 13
        }
      ]
    },
    {
      "cell_type": "markdown",
      "source": [
        "## 결과파일 작성"
      ],
      "metadata": {
        "id": "Saq5km26COXN"
      }
    },
    {
      "cell_type": "code",
      "source": [
        "preds = preds.values\n",
        "\n",
        "submit = raw_data['sample_submission'].copy()\n",
        "for idx, col in enumerate(submit.columns):\n",
        "  if col=='ID':\n",
        "      continue\n",
        "  submit[col] = preds[:,idx-1]\n",
        "print('Done.')\n",
        "\n",
        "submit.to_csv('/content/submit.csv', index=False)\n",
        "print('Done.')"
      ],
      "metadata": {
        "colab": {
          "base_uri": "https://localhost:8080/"
        },
        "id": "fvyVCrYlCN23",
        "outputId": "1ef400ee-98e8-4b34-cd5f-8ef2fd6d7d6c"
      },
      "execution_count": null,
      "outputs": [
        {
          "output_type": "stream",
          "name": "stdout",
          "text": [
            "Done.\n",
            "Done.\n"
          ]
        }
      ]
    },
    {
      "cell_type": "code",
      "source": [
        "!cp './submit.csv' '/content/drive/MyDrive/DeepLearning_Datas'"
      ],
      "metadata": {
        "id": "7DE_u_2tSFWo"
      },
      "execution_count": null,
      "outputs": []
    }
  ],
  "metadata": {
    "colab": {
      "collapsed_sections": [],
      "machine_shape": "hm",
      "provenance": []
    },
    "gpuClass": "standard",
    "kernelspec": {
      "display_name": "Python 3.9.12 ('base')",
      "language": "python",
      "name": "python3"
    },
    "language_info": {
      "codemirror_mode": {
        "name": "ipython",
        "version": 3
      },
      "file_extension": ".py",
      "mimetype": "text/x-python",
      "name": "python",
      "nbconvert_exporter": "python",
      "pygments_lexer": "ipython3",
      "version": "3.9.12"
    },
    "vscode": {
      "interpreter": {
        "hash": "d4d1e4263499bec80672ea0156c357c1ee493ec2b1c70f0acce89fc37c4a6abe"
      }
    }
  },
  "nbformat": 4,
  "nbformat_minor": 0
}