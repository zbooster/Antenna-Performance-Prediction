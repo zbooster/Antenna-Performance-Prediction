{
 "cells": [
  {
   "cell_type": "markdown",
   "metadata": {},
   "source": [
    "# 한글설정"
   ]
  },
  {
   "cell_type": "code",
   "execution_count": 1,
   "metadata": {},
   "outputs": [],
   "source": [
    "import matplotlib.pyplot as plt\n",
    "import matplotlib as mpl\n",
    "mpl.rcParams['axes.unicode_minus'] = False\n",
    "plt.rc('font', family='NanumGothicCoding')"
   ]
  },
  {
   "cell_type": "markdown",
   "metadata": {},
   "source": [
    "# 데이터 가져오기"
   ]
  },
  {
   "cell_type": "code",
   "execution_count": 2,
   "metadata": {},
   "outputs": [],
   "source": [
    "import os\n",
    "import gdown\n",
    "\n",
    "id = \"10Hpa4YM0KX_Ig0W9w7DbTdq62nF2UThA\"\n",
    "output = \"./open.zip\"\n",
    "\n",
    "if not os.path.isdir('./datasets'):\n",
    "  gdown.download(id=id, output=output)\n",
    "  gdown.extractall(path=output, to='./datasets')"
   ]
  },
  {
   "cell_type": "markdown",
   "metadata": {},
   "source": [
    "# 데이터프레임 만들기"
   ]
  },
  {
   "cell_type": "code",
   "execution_count": 3,
   "metadata": {},
   "outputs": [],
   "source": [
    "import os\n",
    "import glob\n",
    "import pandas as pd\n",
    "from collections import defaultdict\n",
    "\n",
    "raw_data = defaultdict(pd.DataFrame)\n",
    "\n",
    "for fname in glob.glob('./**/*.csv', recursive=True):\n",
    "    df_name = os.path.splitext(os.path.basename(fname))[0]\n",
    "    raw_data[df_name] = pd.read_csv(fname)"
   ]
  },
  {
   "cell_type": "markdown",
   "metadata": {},
   "source": [
    "# Feature Selection\n",
    "* SelectFromModel을 이용하여 Feature 갯수를 줄여나가야함.\n",
    "* 1개부터 cross_val_score로 검증\n",
    "* 그래프도 그려보자"
   ]
  },
  {
   "cell_type": "code",
   "execution_count": 5,
   "metadata": {},
   "outputs": [],
   "source": [
    "# train 데이터\n",
    "train = raw_data['train'].copy()"
   ]
  },
  {
   "cell_type": "code",
   "execution_count": 6,
   "metadata": {},
   "outputs": [],
   "source": [
    "# X_04, X_23, X_47, X_48 은 값이 1개라서 제외\n",
    "train = train.drop(columns=['X_04', 'X_23', 'X_47', 'X_48']).copy()"
   ]
  },
  {
   "cell_type": "markdown",
   "metadata": {},
   "source": [
    "## SelectFromModel 파이프라인\n",
    "* https://scikit-learn.org/stable/modules/feature_selection.html#feature-selection-using-selectfrommodel\n",
    "* 가중치 때문에 2개의 파이프라인이 필요함."
   ]
  },
  {
   "cell_type": "code",
   "execution_count": 4,
   "metadata": {},
   "outputs": [],
   "source": [
    "from sklearn.pipeline import Pipeline\n",
    "from sklearn.feature_selection import SelectFromModel\n",
    "from sklearn.ensemble import RandomForestRegressor\n"
   ]
  },
  {
   "cell_type": "code",
   "execution_count": null,
   "metadata": {},
   "outputs": [],
   "source": [
    "\n",
    "pipe = Pipeline([\n",
    "  ('feature_selection', SelectFromModel(estimator=RandomForestRegressor(n_estimators=200, n_jobs=-1))),\n",
    "  ('classification', RandomForestRegressor(n_estimators=200, n_jobs=-1))\n",
    "])\n"
   ]
  },
  {
   "cell_type": "code",
   "execution_count": 8,
   "metadata": {},
   "outputs": [
    {
     "data": {
      "text/plain": [
       "dict_keys(['memory', 'steps', 'verbose', 'feature_selection', 'classification', 'feature_selection__estimator__bootstrap', 'feature_selection__estimator__ccp_alpha', 'feature_selection__estimator__criterion', 'feature_selection__estimator__max_depth', 'feature_selection__estimator__max_features', 'feature_selection__estimator__max_leaf_nodes', 'feature_selection__estimator__max_samples', 'feature_selection__estimator__min_impurity_decrease', 'feature_selection__estimator__min_samples_leaf', 'feature_selection__estimator__min_samples_split', 'feature_selection__estimator__min_weight_fraction_leaf', 'feature_selection__estimator__n_estimators', 'feature_selection__estimator__n_jobs', 'feature_selection__estimator__oob_score', 'feature_selection__estimator__random_state', 'feature_selection__estimator__verbose', 'feature_selection__estimator__warm_start', 'feature_selection__estimator', 'feature_selection__importance_getter', 'feature_selection__max_features', 'feature_selection__norm_order', 'feature_selection__prefit', 'feature_selection__threshold', 'classification__bootstrap', 'classification__ccp_alpha', 'classification__criterion', 'classification__max_depth', 'classification__max_features', 'classification__max_leaf_nodes', 'classification__max_samples', 'classification__min_impurity_decrease', 'classification__min_samples_leaf', 'classification__min_samples_split', 'classification__min_weight_fraction_leaf', 'classification__n_estimators', 'classification__n_jobs', 'classification__oob_score', 'classification__random_state', 'classification__verbose', 'classification__warm_start'])"
      ]
     },
     "execution_count": 8,
     "metadata": {},
     "output_type": "execute_result"
    }
   ],
   "source": [
    "pipe.get_params().keys()"
   ]
  },
  {
   "cell_type": "markdown",
   "metadata": {},
   "source": [
    "## 커스텀 스코어 함수 생성\n",
    "* 데이콘에서 제공한 스코어 함수 사용"
   ]
  },
  {
   "cell_type": "code",
   "execution_count": 5,
   "metadata": {},
   "outputs": [],
   "source": [
    "import numpy as np\n",
    "from sklearn import metrics\n",
    "\n",
    "# 데이콘에서 제공한 평가함수\n",
    "def lg_nrmse(gt, preds):\n",
    "    # 각 Y Feature별 NRMSE 총합\n",
    "    # Y_01 ~ Y_08 까지 20% 가중치 부여\n",
    "    all_nrmse = []\n",
    "    for idx in range(0,14): # ignore 'ID'\n",
    "        rmse = metrics.mean_squared_error(gt[:,idx], preds[:,idx], squared=False)\n",
    "        nrmse = rmse/np.mean(np.abs(gt[:,idx]))\n",
    "        all_nrmse.append(nrmse)\n",
    "    score = 1.2 * np.sum(all_nrmse[:8]) + 1.0 * np.sum(all_nrmse[8:14])\n",
    "    return score"
   ]
  },
  {
   "cell_type": "markdown",
   "metadata": {},
   "source": [
    "## Kfold 객체 생성"
   ]
  },
  {
   "cell_type": "code",
   "execution_count": 6,
   "metadata": {},
   "outputs": [],
   "source": [
    "from sklearn.model_selection import KFold\n",
    "\n",
    "kfold = KFold(n_splits=5, shuffle=True, random_state=13)"
   ]
  },
  {
   "cell_type": "markdown",
   "metadata": {},
   "source": [
    "## 데이터 분리"
   ]
  },
  {
   "cell_type": "code",
   "execution_count": 11,
   "metadata": {},
   "outputs": [],
   "source": [
    "X = train.filter(regex='X')\n",
    "y = train.filter(regex='Y')"
   ]
  },
  {
   "cell_type": "markdown",
   "metadata": {},
   "source": [
    "## GridSearchCV 수행\n",
    "* https://gijopeter.medium.com/cross-validation-for-ml-feature-selection-ffdb71e5a68f"
   ]
  },
  {
   "cell_type": "code",
   "execution_count": 7,
   "metadata": {},
   "outputs": [],
   "source": [
    "from sklearn.model_selection import GridSearchCV\n",
    "from sklearn.metrics import make_scorer\n"
   ]
  },
  {
   "cell_type": "code",
   "execution_count": null,
   "metadata": {},
   "outputs": [],
   "source": [
    "\n",
    "hyper_params = [{'feature_selection__max_features': list(range(5, 30))}]\n",
    "\n",
    "model_cv = GridSearchCV(pipe, hyper_params, cv=kfold, scoring=make_scorer(lg_nrmse, greater_is_better=False), verbose=3)\n",
    "model_cv.fit(X.values, y.values)"
   ]
  },
  {
   "cell_type": "markdown",
   "metadata": {},
   "source": [
    "# 결과분석 1"
   ]
  },
  {
   "cell_type": "markdown",
   "metadata": {},
   "source": [
    "- 최적의 Feature 갯수는 16 \n",
    "- 컬럼 리스트 : ['X_03', 'X_05', 'X_07', 'X_08', 'X_09', 'X_19', 'X_21', 'X_22', 'X_49', 'X_50', 'X_51', 'X_52', 'X_53', 'X_54', 'X_55', 'X_56']"
   ]
  },
  {
   "cell_type": "code",
   "execution_count": 31,
   "metadata": {},
   "outputs": [
    {
     "data": {
      "text/html": [
       "<div>\n",
       "<style scoped>\n",
       "    .dataframe tbody tr th:only-of-type {\n",
       "        vertical-align: middle;\n",
       "    }\n",
       "\n",
       "    .dataframe tbody tr th {\n",
       "        vertical-align: top;\n",
       "    }\n",
       "\n",
       "    .dataframe thead th {\n",
       "        text-align: right;\n",
       "    }\n",
       "</style>\n",
       "<table border=\"1\" class=\"dataframe\">\n",
       "  <thead>\n",
       "    <tr style=\"text-align: right;\">\n",
       "      <th></th>\n",
       "      <th>mean_fit_time</th>\n",
       "      <th>std_fit_time</th>\n",
       "      <th>mean_score_time</th>\n",
       "      <th>std_score_time</th>\n",
       "      <th>param_feature_selection__max_features</th>\n",
       "      <th>params</th>\n",
       "      <th>split0_test_score</th>\n",
       "      <th>split1_test_score</th>\n",
       "      <th>split2_test_score</th>\n",
       "      <th>split3_test_score</th>\n",
       "      <th>split4_test_score</th>\n",
       "      <th>mean_test_score</th>\n",
       "      <th>std_test_score</th>\n",
       "      <th>rank_test_score</th>\n",
       "    </tr>\n",
       "  </thead>\n",
       "  <tbody>\n",
       "    <tr>\n",
       "      <th>0</th>\n",
       "      <td>89.005584</td>\n",
       "      <td>0.696025</td>\n",
       "      <td>3.982254</td>\n",
       "      <td>0.100392</td>\n",
       "      <td>5</td>\n",
       "      <td>{'feature_selection__max_features': 5}</td>\n",
       "      <td>-2.011415</td>\n",
       "      <td>-2.002772</td>\n",
       "      <td>-2.011416</td>\n",
       "      <td>-1.979278</td>\n",
       "      <td>-1.980358</td>\n",
       "      <td>-1.997048</td>\n",
       "      <td>0.014422</td>\n",
       "      <td>25</td>\n",
       "    </tr>\n",
       "    <tr>\n",
       "      <th>1</th>\n",
       "      <td>91.760918</td>\n",
       "      <td>0.809481</td>\n",
       "      <td>4.121449</td>\n",
       "      <td>0.062774</td>\n",
       "      <td>6</td>\n",
       "      <td>{'feature_selection__max_features': 6}</td>\n",
       "      <td>-2.006728</td>\n",
       "      <td>-1.993520</td>\n",
       "      <td>-2.009130</td>\n",
       "      <td>-1.962979</td>\n",
       "      <td>-1.978608</td>\n",
       "      <td>-1.990193</td>\n",
       "      <td>0.017424</td>\n",
       "      <td>24</td>\n",
       "    </tr>\n",
       "    <tr>\n",
       "      <th>2</th>\n",
       "      <td>93.872671</td>\n",
       "      <td>0.862336</td>\n",
       "      <td>4.299526</td>\n",
       "      <td>0.060731</td>\n",
       "      <td>7</td>\n",
       "      <td>{'feature_selection__max_features': 7}</td>\n",
       "      <td>-1.999100</td>\n",
       "      <td>-1.994815</td>\n",
       "      <td>-2.007776</td>\n",
       "      <td>-1.961504</td>\n",
       "      <td>-1.975900</td>\n",
       "      <td>-1.987819</td>\n",
       "      <td>0.016787</td>\n",
       "      <td>23</td>\n",
       "    </tr>\n",
       "    <tr>\n",
       "      <th>3</th>\n",
       "      <td>95.273341</td>\n",
       "      <td>0.294701</td>\n",
       "      <td>4.288559</td>\n",
       "      <td>0.064370</td>\n",
       "      <td>8</td>\n",
       "      <td>{'feature_selection__max_features': 8}</td>\n",
       "      <td>-1.974724</td>\n",
       "      <td>-1.976523</td>\n",
       "      <td>-2.000368</td>\n",
       "      <td>-1.954130</td>\n",
       "      <td>-1.962363</td>\n",
       "      <td>-1.973621</td>\n",
       "      <td>0.015695</td>\n",
       "      <td>20</td>\n",
       "    </tr>\n",
       "    <tr>\n",
       "      <th>4</th>\n",
       "      <td>98.119632</td>\n",
       "      <td>1.079937</td>\n",
       "      <td>4.379281</td>\n",
       "      <td>0.045690</td>\n",
       "      <td>9</td>\n",
       "      <td>{'feature_selection__max_features': 9}</td>\n",
       "      <td>-1.996165</td>\n",
       "      <td>-1.975475</td>\n",
       "      <td>-1.998012</td>\n",
       "      <td>-1.963874</td>\n",
       "      <td>-1.978739</td>\n",
       "      <td>-1.982453</td>\n",
       "      <td>0.012944</td>\n",
       "      <td>22</td>\n",
       "    </tr>\n",
       "  </tbody>\n",
       "</table>\n",
       "</div>"
      ],
      "text/plain": [
       "   mean_fit_time  std_fit_time  mean_score_time  std_score_time  \\\n",
       "0      89.005584      0.696025         3.982254        0.100392   \n",
       "1      91.760918      0.809481         4.121449        0.062774   \n",
       "2      93.872671      0.862336         4.299526        0.060731   \n",
       "3      95.273341      0.294701         4.288559        0.064370   \n",
       "4      98.119632      1.079937         4.379281        0.045690   \n",
       "\n",
       "  param_feature_selection__max_features  \\\n",
       "0                                     5   \n",
       "1                                     6   \n",
       "2                                     7   \n",
       "3                                     8   \n",
       "4                                     9   \n",
       "\n",
       "                                   params  split0_test_score  \\\n",
       "0  {'feature_selection__max_features': 5}          -2.011415   \n",
       "1  {'feature_selection__max_features': 6}          -2.006728   \n",
       "2  {'feature_selection__max_features': 7}          -1.999100   \n",
       "3  {'feature_selection__max_features': 8}          -1.974724   \n",
       "4  {'feature_selection__max_features': 9}          -1.996165   \n",
       "\n",
       "   split1_test_score  split2_test_score  split3_test_score  split4_test_score  \\\n",
       "0          -2.002772          -2.011416          -1.979278          -1.980358   \n",
       "1          -1.993520          -2.009130          -1.962979          -1.978608   \n",
       "2          -1.994815          -2.007776          -1.961504          -1.975900   \n",
       "3          -1.976523          -2.000368          -1.954130          -1.962363   \n",
       "4          -1.975475          -1.998012          -1.963874          -1.978739   \n",
       "\n",
       "   mean_test_score  std_test_score  rank_test_score  \n",
       "0        -1.997048        0.014422               25  \n",
       "1        -1.990193        0.017424               24  \n",
       "2        -1.987819        0.016787               23  \n",
       "3        -1.973621        0.015695               20  \n",
       "4        -1.982453        0.012944               22  "
      ]
     },
     "execution_count": 31,
     "metadata": {},
     "output_type": "execute_result"
    }
   ],
   "source": [
    "cv_results = pd.DataFrame(model_cv.cv_results_)\n",
    "cv_results.head()"
   ]
  },
  {
   "cell_type": "code",
   "execution_count": 34,
   "metadata": {},
   "outputs": [
    {
     "data": {
      "text/plain": [
       "Index(['mean_fit_time', 'std_fit_time', 'mean_score_time', 'std_score_time',\n",
       "       'param_feature_selection__max_features', 'params', 'split0_test_score',\n",
       "       'split1_test_score', 'split2_test_score', 'split3_test_score',\n",
       "       'split4_test_score', 'mean_test_score', 'std_test_score',\n",
       "       'rank_test_score'],\n",
       "      dtype='object')"
      ]
     },
     "execution_count": 34,
     "metadata": {},
     "output_type": "execute_result"
    }
   ],
   "source": [
    "cv_results.columns"
   ]
  },
  {
   "cell_type": "code",
   "execution_count": 46,
   "metadata": {},
   "outputs": [
    {
     "data": {
      "image/png": "[encoded data removed]",
      "text/plain": [
       "<Figure size 864x432 with 1 Axes>"
      ]
     },
     "metadata": {
      "needs_background": "light"
     },
     "output_type": "display_data"
    }
   ],
   "source": [
    "plt.figure(figsize=(12,6))\n",
    "plt.plot(cv_results['param_feature_selection__max_features'], cv_results['mean_test_score'])\n",
    "# plt.plot(cv_results['param_feature_selection__max_features'], cv_results['mean_train_score'])\n",
    "plt.xlabel('number of features')\n",
    "plt.ylabel('lg_nrmse')\n",
    "plt.title('Optimal Number of Features')\n",
    "plt.legend(['test score', 'train score'], loc='upper left')\n",
    "plt.show()"
   ]
  },
  {
   "cell_type": "code",
   "execution_count": 36,
   "metadata": {},
   "outputs": [
    {
     "name": "stdout",
     "output_type": "stream",
     "text": [
      "{'feature_selection__max_features': 16}\n"
     ]
    }
   ],
   "source": [
    "print(model_cv.best_params_)"
   ]
  },
  {
   "cell_type": "code",
   "execution_count": 42,
   "metadata": {},
   "outputs": [
    {
     "data": {
      "text/plain": [
       "Index(['X_03', 'X_05', 'X_07', 'X_08', 'X_09', 'X_19', 'X_21', 'X_22', 'X_49',\n",
       "       'X_50', 'X_51', 'X_52', 'X_53', 'X_54', 'X_55', 'X_56'],\n",
       "      dtype='object')"
      ]
     },
     "execution_count": 42,
     "metadata": {},
     "output_type": "execute_result"
    }
   ],
   "source": [
    "selector = model_cv.best_estimator_['feature_selection']\n",
    "\n",
    "selected_columns = X.columns\n",
    "selected_columns[selector.get_support()]"
   ]
  },
  {
   "cell_type": "code",
   "execution_count": 45,
   "metadata": {},
   "outputs": [
    {
     "data": {
      "image/png": "[encoded data removed]",
      "text/plain": [
       "<Figure size 864x432 with 1 Axes>"
      ]
     },
     "metadata": {
      "needs_background": "light"
     },
     "output_type": "display_data"
    }
   ],
   "source": [
    "model = model_cv.best_estimator_['classification']\n",
    "\n",
    "importances = model.feature_importances_\n",
    "std = np.std([tree.feature_importances_ for tree in model.estimators_], axis=0)\n",
    "\n",
    "forest_importances = pd.Series(importances, index=selected_columns[selector.get_support()])\n",
    "\n",
    "fig, ax = plt.subplots(figsize=(12,6))\n",
    "forest_importances.plot.bar(yerr=std, ax=ax)\n",
    "ax.set_title(\"Feature importances using MDI\")\n",
    "ax.set_ylabel(\"Mean decrease in impurity\")\n",
    "fig.tight_layout()\n",
    "\n"
   ]
  },
  {
   "cell_type": "markdown",
   "metadata": {},
   "source": [
    "- 'X_49'가 중요한 Feature라고 확인됨.\n",
    "- 값을 확인해보니 값이 크고 히스토그램상 왼쪽으로 치우친 모습을 보임.\n",
    "- log1p -> StandardScaler 적용하기로 함"
   ]
  },
  {
   "cell_type": "code",
   "execution_count": 17,
   "metadata": {},
   "outputs": [
    {
     "data": {
      "image/png": "[encoded data removed]",
      "text/plain": [
       "<Figure size 864x720 with 4 Axes>"
      ]
     },
     "metadata": {
      "needs_background": "light"
     },
     "output_type": "display_data"
    }
   ],
   "source": [
    "import seaborn as sns\n",
    "from sklearn.preprocessing import FunctionTransformer\n",
    "from sklearn.preprocessing import StandardScaler\n",
    "\n",
    "def display_scaler_plot(cname):\n",
    "  fig, ax = plt.subplots(2, 2, figsize=(12, 10))\n",
    "\n",
    "  data = train[[cname]].copy()\n",
    "\n",
    "  sns.histplot(x=cname, data=data, ax=ax[0][0])\n",
    "\n",
    "  ft = FunctionTransformer(np.log1p)\n",
    "  data[cname+'_log'] = ft.fit_transform(data[cname])\n",
    "\n",
    "  sns.histplot(x=cname+'_log', data=data, ax=ax[0][1])\n",
    "\n",
    "  ss = StandardScaler()\n",
    "  data[cname+'_log_std'] = ss.fit_transform(data[cname+'_log'].values.reshape(-1, 1))\n",
    "\n",
    "  sns.histplot(x=cname+'_log_std', data=data, ax=ax[1][0])\n",
    "  sns.boxplot(x=cname+'_log_std', data=data, ax=ax[1][1])\n",
    "\n",
    "  plt.show()\n",
    "\n",
    "display_scaler_plot('X_49')"
   ]
  },
  {
   "cell_type": "code",
   "execution_count": 15,
   "metadata": {},
   "outputs": [],
   "source": [
    "# log1p -> StandardScaler 파이프라인\n",
    "log_std_transformer = Pipeline(\n",
    "        steps=[\n",
    "            (\"log1p\", FunctionTransformer(np.log1p))\n",
    "          , (\"std\", StandardScaler())]\n",
    "    )"
   ]
  },
  {
   "cell_type": "code",
   "execution_count": 13,
   "metadata": {},
   "outputs": [
    {
     "data": {
      "text/plain": [
       "40"
      ]
     },
     "execution_count": 13,
     "metadata": {},
     "output_type": "execute_result"
    }
   ],
   "source": [
    "# 컬럼 인덱스 함수\n",
    "def column_index(X, column):\n",
    "    for i, v in enumerate(X.columns):\n",
    "        if v == column:\n",
    "            return i\n",
    "\n",
    "column_index(X, 'X_49')"
   ]
  },
  {
   "cell_type": "code",
   "execution_count": 31,
   "metadata": {},
   "outputs": [
    {
     "data": {
      "text/plain": [
       "52"
      ]
     },
     "execution_count": 31,
     "metadata": {},
     "output_type": "execute_result"
    }
   ],
   "source": [
    "len(X.columns)"
   ]
  },
  {
   "cell_type": "code",
   "execution_count": 39,
   "metadata": {},
   "outputs": [],
   "source": [
    "lst_cols = []\n",
    "lst_cols.append(column_index(X, 'X_49'))"
   ]
  },
  {
   "cell_type": "code",
   "execution_count": 40,
   "metadata": {},
   "outputs": [],
   "source": [
    "none_cols = set(X.columns) - set(['X_49'])"
   ]
  },
  {
   "cell_type": "code",
   "execution_count": 41,
   "metadata": {},
   "outputs": [
    {
     "data": {
      "text/plain": [
       "([0, 1], 51)"
      ]
     },
     "execution_count": 41,
     "metadata": {},
     "output_type": "execute_result"
    }
   ],
   "source": [
    "\n",
    "none_cols = [column_index(X, v) for v in sorted(none_cols)]\n",
    "none_cols[:2], len(none_cols)"
   ]
  },
  {
   "cell_type": "code",
   "execution_count": 16,
   "metadata": {},
   "outputs": [
    {
     "ename": "NameError",
     "evalue": "name 'log_std_transformer' is not defined",
     "output_type": "error",
     "traceback": [
      "\u001b[0;31m---------------------------------------------------------------------------\u001b[0m",
      "\u001b[0;31mNameError\u001b[0m                                 Traceback (most recent call last)",
      "\u001b[1;32m/content/Antenna-Performance-Prediction/FeatureSelection.ipynb Cell 39\u001b[0m in \u001b[0;36m<cell line: 4>\u001b[0;34m()\u001b[0m\n\u001b[1;32m      <a href='vscode-notebook-cell://attached-container%2B7b22636f6e7461696e65724e616d65223a222f616e74656e6e61222c2273657474696e6773223a7b22686f7374223a227373683a2f2f3139322e3136382e302e37227d7d/content/Antenna-Performance-Prediction/FeatureSelection.ipynb#X52sdnNjb2RlLXJlbW90ZQ%3D%3D?line=0'>1</a>\u001b[0m \u001b[39mfrom\u001b[39;00m \u001b[39msklearn\u001b[39;00m\u001b[39m.\u001b[39;00m\u001b[39mcompose\u001b[39;00m \u001b[39mimport\u001b[39;00m ColumnTransformer\n\u001b[1;32m      <a href='vscode-notebook-cell://attached-container%2B7b22636f6e7461696e65724e616d65223a222f616e74656e6e61222c2273657474696e6773223a7b22686f7374223a227373683a2f2f3139322e3136382e302e37227d7d/content/Antenna-Performance-Prediction/FeatureSelection.ipynb#X52sdnNjb2RlLXJlbW90ZQ%3D%3D?line=2'>3</a>\u001b[0m \u001b[39m# 컬럼별 전처리 분류기\u001b[39;00m\n\u001b[1;32m      <a href='vscode-notebook-cell://attached-container%2B7b22636f6e7461696e65724e616d65223a222f616e74656e6e61222c2273657474696e6773223a7b22686f7374223a227373683a2f2f3139322e3136382e302e37227d7d/content/Antenna-Performance-Prediction/FeatureSelection.ipynb#X52sdnNjb2RlLXJlbW90ZQ%3D%3D?line=3'>4</a>\u001b[0m preprocessor \u001b[39m=\u001b[39m ColumnTransformer(\n\u001b[1;32m      <a href='vscode-notebook-cell://attached-container%2B7b22636f6e7461696e65724e616d65223a222f616e74656e6e61222c2273657474696e6773223a7b22686f7374223a227373683a2f2f3139322e3136382e302e37227d7d/content/Antenna-Performance-Prediction/FeatureSelection.ipynb#X52sdnNjb2RlLXJlbW90ZQ%3D%3D?line=4'>5</a>\u001b[0m       transformers\u001b[39m=\u001b[39m[\n\u001b[0;32m----> <a href='vscode-notebook-cell://attached-container%2B7b22636f6e7461696e65724e616d65223a222f616e74656e6e61222c2273657474696e6773223a7b22686f7374223a227373683a2f2f3139322e3136382e302e37227d7d/content/Antenna-Performance-Prediction/FeatureSelection.ipynb#X52sdnNjb2RlLXJlbW90ZQ%3D%3D?line=5'>6</a>\u001b[0m           (\u001b[39m\"\u001b[39m\u001b[39mlst\u001b[39m\u001b[39m\"\u001b[39m, log_std_transformer, lst_cols),\n\u001b[1;32m      <a href='vscode-notebook-cell://attached-container%2B7b22636f6e7461696e65724e616d65223a222f616e74656e6e61222c2273657474696e6773223a7b22686f7374223a227373683a2f2f3139322e3136382e302e37227d7d/content/Antenna-Performance-Prediction/FeatureSelection.ipynb#X52sdnNjb2RlLXJlbW90ZQ%3D%3D?line=6'>7</a>\u001b[0m           (\u001b[39m\"\u001b[39m\u001b[39mnone\u001b[39m\u001b[39m\"\u001b[39m, \u001b[39m'\u001b[39m\u001b[39mpassthrough\u001b[39m\u001b[39m'\u001b[39m, none_cols)\n\u001b[1;32m      <a href='vscode-notebook-cell://attached-container%2B7b22636f6e7461696e65724e616d65223a222f616e74656e6e61222c2273657474696e6773223a7b22686f7374223a227373683a2f2f3139322e3136382e302e37227d7d/content/Antenna-Performance-Prediction/FeatureSelection.ipynb#X52sdnNjb2RlLXJlbW90ZQ%3D%3D?line=7'>8</a>\u001b[0m       ]\n\u001b[1;32m      <a href='vscode-notebook-cell://attached-container%2B7b22636f6e7461696e65724e616d65223a222f616e74656e6e61222c2273657474696e6773223a7b22686f7374223a227373683a2f2f3139322e3136382e302e37227d7d/content/Antenna-Performance-Prediction/FeatureSelection.ipynb#X52sdnNjb2RlLXJlbW90ZQ%3D%3D?line=8'>9</a>\u001b[0m     )\n",
      "\u001b[0;31mNameError\u001b[0m: name 'log_std_transformer' is not defined"
     ]
    }
   ],
   "source": [
    "from sklearn.compose import ColumnTransformer\n",
    "\n",
    "# 컬럼별 전처리 분류기\n",
    "preprocessor = ColumnTransformer(\n",
    "      transformers=[\n",
    "          (\"lst\", log_std_transformer, lst_cols),\n",
    "          (\"none\", 'passthrough', none_cols)\n",
    "      ]\n",
    "    )"
   ]
  },
  {
   "cell_type": "code",
   "execution_count": 38,
   "metadata": {},
   "outputs": [],
   "source": [
    "# 전처리를 파이프라인 앞에 위치시킴.\n",
    "pipe = Pipeline([\n",
    "    ('preprocessing', preprocessor),\n",
    "    ('feature_selection', SelectFromModel(estimator=RandomForestRegressor(n_estimators=200, n_jobs=-1))),\n",
    "    ('regression', RandomForestRegressor(n_estimators=200, n_jobs=-1))\n",
    "])"
   ]
  },
  {
   "cell_type": "code",
   "execution_count": 21,
   "metadata": {},
   "outputs": [
    {
     "data": {
      "text/plain": [
       "dict_keys(['memory', 'steps', 'verbose', 'preprocessing', 'feature_selection', 'regression', 'preprocessing__n_jobs', 'preprocessing__remainder', 'preprocessing__sparse_threshold', 'preprocessing__transformer_weights', 'preprocessing__transformers', 'preprocessing__verbose', 'preprocessing__verbose_feature_names_out', 'preprocessing__lst', 'preprocessing__none', 'preprocessing__lst__memory', 'preprocessing__lst__steps', 'preprocessing__lst__verbose', 'preprocessing__lst__log1p', 'preprocessing__lst__std', 'preprocessing__lst__log1p__accept_sparse', 'preprocessing__lst__log1p__check_inverse', 'preprocessing__lst__log1p__func', 'preprocessing__lst__log1p__inv_kw_args', 'preprocessing__lst__log1p__inverse_func', 'preprocessing__lst__log1p__kw_args', 'preprocessing__lst__log1p__validate', 'preprocessing__lst__std__copy', 'preprocessing__lst__std__with_mean', 'preprocessing__lst__std__with_std', 'feature_selection__estimator__bootstrap', 'feature_selection__estimator__ccp_alpha', 'feature_selection__estimator__criterion', 'feature_selection__estimator__max_depth', 'feature_selection__estimator__max_features', 'feature_selection__estimator__max_leaf_nodes', 'feature_selection__estimator__max_samples', 'feature_selection__estimator__min_impurity_decrease', 'feature_selection__estimator__min_samples_leaf', 'feature_selection__estimator__min_samples_split', 'feature_selection__estimator__min_weight_fraction_leaf', 'feature_selection__estimator__n_estimators', 'feature_selection__estimator__n_jobs', 'feature_selection__estimator__oob_score', 'feature_selection__estimator__random_state', 'feature_selection__estimator__verbose', 'feature_selection__estimator__warm_start', 'feature_selection__estimator', 'feature_selection__importance_getter', 'feature_selection__max_features', 'feature_selection__norm_order', 'feature_selection__prefit', 'feature_selection__threshold', 'regression__bootstrap', 'regression__ccp_alpha', 'regression__criterion', 'regression__max_depth', 'regression__max_features', 'regression__max_leaf_nodes', 'regression__max_samples', 'regression__min_impurity_decrease', 'regression__min_samples_leaf', 'regression__min_samples_split', 'regression__min_weight_fraction_leaf', 'regression__n_estimators', 'regression__n_jobs', 'regression__oob_score', 'regression__random_state', 'regression__verbose', 'regression__warm_start'])"
      ]
     },
     "execution_count": 21,
     "metadata": {},
     "output_type": "execute_result"
    }
   ],
   "source": [
    "pipe.get_params().keys()"
   ]
  },
  {
   "cell_type": "code",
   "execution_count": 37,
   "metadata": {},
   "outputs": [
    {
     "ename": "ValueError",
     "evalue": "Parameter grid for parameter (feature_selection__max_features) needs to be a list or numpy array, but got (<class 'int'>). Single values need to be wrapped in a list with one element.",
     "output_type": "error",
     "traceback": [
      "\u001b[0;31m---------------------------------------------------------------------------\u001b[0m",
      "\u001b[0;31mValueError\u001b[0m                                Traceback (most recent call last)",
      "\u001b[1;32m/content/Antenna-Performance-Prediction/FeatureSelection.ipynb Cell 41\u001b[0m in \u001b[0;36m<cell line: 9>\u001b[0;34m()\u001b[0m\n\u001b[1;32m      <a href='vscode-notebook-cell://attached-container%2B7b22636f6e7461696e65724e616d65223a222f616e74656e6e61222c2273657474696e6773223a7b22686f7374223a227373683a2f2f3139322e3136382e302e37227d7d/content/Antenna-Performance-Prediction/FeatureSelection.ipynb#Y115sdnNjb2RlLXJlbW90ZQ%3D%3D?line=0'>1</a>\u001b[0m \u001b[39m# 앞선 결과에서 16개 일때 가장 좋은 결과를 얻었으므로 테스트 범위는 16 +/-2\u001b[39;00m\n\u001b[1;32m      <a href='vscode-notebook-cell://attached-container%2B7b22636f6e7461696e65724e616d65223a222f616e74656e6e61222c2273657474696e6773223a7b22686f7374223a227373683a2f2f3139322e3136382e302e37227d7d/content/Antenna-Performance-Prediction/FeatureSelection.ipynb#Y115sdnNjb2RlLXJlbW90ZQ%3D%3D?line=1'>2</a>\u001b[0m \u001b[39m# max_depth도 변화를 주기로 함.\u001b[39;00m\n\u001b[1;32m      <a href='vscode-notebook-cell://attached-container%2B7b22636f6e7461696e65724e616d65223a222f616e74656e6e61222c2273657474696e6773223a7b22686f7374223a227373683a2f2f3139322e3136382e302e37227d7d/content/Antenna-Performance-Prediction/FeatureSelection.ipynb#Y115sdnNjb2RlLXJlbW90ZQ%3D%3D?line=3'>4</a>\u001b[0m hyper_params \u001b[39m=\u001b[39m [{\n\u001b[1;32m      <a href='vscode-notebook-cell://attached-container%2B7b22636f6e7461696e65724e616d65223a222f616e74656e6e61222c2273657474696e6773223a7b22686f7374223a227373683a2f2f3139322e3136382e302e37227d7d/content/Antenna-Performance-Prediction/FeatureSelection.ipynb#Y115sdnNjb2RlLXJlbW90ZQ%3D%3D?line=4'>5</a>\u001b[0m     \u001b[39m'\u001b[39m\u001b[39mfeature_selection__max_features\u001b[39m\u001b[39m'\u001b[39m: \u001b[39m20\u001b[39m\n\u001b[1;32m      <a href='vscode-notebook-cell://attached-container%2B7b22636f6e7461696e65724e616d65223a222f616e74656e6e61222c2273657474696e6773223a7b22686f7374223a227373683a2f2f3139322e3136382e302e37227d7d/content/Antenna-Performance-Prediction/FeatureSelection.ipynb#Y115sdnNjb2RlLXJlbW90ZQ%3D%3D?line=5'>6</a>\u001b[0m     , \u001b[39m'\u001b[39m\u001b[39mfeature_selection__estimator__max_depth\u001b[39m\u001b[39m'\u001b[39m: \u001b[39m30\u001b[39m\n\u001b[1;32m      <a href='vscode-notebook-cell://attached-container%2B7b22636f6e7461696e65724e616d65223a222f616e74656e6e61222c2273657474696e6773223a7b22686f7374223a227373683a2f2f3139322e3136382e302e37227d7d/content/Antenna-Performance-Prediction/FeatureSelection.ipynb#Y115sdnNjb2RlLXJlbW90ZQ%3D%3D?line=6'>7</a>\u001b[0m     }]\n\u001b[0;32m----> <a href='vscode-notebook-cell://attached-container%2B7b22636f6e7461696e65724e616d65223a222f616e74656e6e61222c2273657474696e6773223a7b22686f7374223a227373683a2f2f3139322e3136382e302e37227d7d/content/Antenna-Performance-Prediction/FeatureSelection.ipynb#Y115sdnNjb2RlLXJlbW90ZQ%3D%3D?line=8'>9</a>\u001b[0m model_cv \u001b[39m=\u001b[39m GridSearchCV(pipe, hyper_params, cv\u001b[39m=\u001b[39;49mkfold, scoring\u001b[39m=\u001b[39;49mmake_scorer(lg_nrmse, greater_is_better\u001b[39m=\u001b[39;49m\u001b[39mFalse\u001b[39;49;00m)\n\u001b[1;32m     <a href='vscode-notebook-cell://attached-container%2B7b22636f6e7461696e65724e616d65223a222f616e74656e6e61222c2273657474696e6773223a7b22686f7374223a227373683a2f2f3139322e3136382e302e37227d7d/content/Antenna-Performance-Prediction/FeatureSelection.ipynb#Y115sdnNjb2RlLXJlbW90ZQ%3D%3D?line=9'>10</a>\u001b[0m                         ,return_train_score\u001b[39m=\u001b[39;49m\u001b[39mTrue\u001b[39;49;00m, verbose\u001b[39m=\u001b[39;49m\u001b[39m3\u001b[39;49m, n_jobs\u001b[39m=\u001b[39;49m\u001b[39m2\u001b[39;49m)\n\u001b[1;32m     <a href='vscode-notebook-cell://attached-container%2B7b22636f6e7461696e65724e616d65223a222f616e74656e6e61222c2273657474696e6773223a7b22686f7374223a227373683a2f2f3139322e3136382e302e37227d7d/content/Antenna-Performance-Prediction/FeatureSelection.ipynb#Y115sdnNjb2RlLXJlbW90ZQ%3D%3D?line=10'>11</a>\u001b[0m model_cv\u001b[39m.\u001b[39mfit(X\u001b[39m.\u001b[39mvalues, y\u001b[39m.\u001b[39mvalues)\n",
      "File \u001b[0;32m/opt/conda/lib/python3.9/site-packages/sklearn/model_selection/_search.py:1388\u001b[0m, in \u001b[0;36mGridSearchCV.__init__\u001b[0;34m(self, estimator, param_grid, scoring, n_jobs, refit, cv, verbose, pre_dispatch, error_score, return_train_score)\u001b[0m\n\u001b[1;32m   1376\u001b[0m \u001b[39msuper\u001b[39m()\u001b[39m.\u001b[39m\u001b[39m__init__\u001b[39m(\n\u001b[1;32m   1377\u001b[0m     estimator\u001b[39m=\u001b[39mestimator,\n\u001b[1;32m   1378\u001b[0m     scoring\u001b[39m=\u001b[39mscoring,\n\u001b[0;32m   (...)\u001b[0m\n\u001b[1;32m   1385\u001b[0m     return_train_score\u001b[39m=\u001b[39mreturn_train_score,\n\u001b[1;32m   1386\u001b[0m )\n\u001b[1;32m   1387\u001b[0m \u001b[39mself\u001b[39m\u001b[39m.\u001b[39mparam_grid \u001b[39m=\u001b[39m param_grid\n\u001b[0;32m-> 1388\u001b[0m _check_param_grid(param_grid)\n",
      "File \u001b[0;32m/opt/conda/lib/python3.9/site-packages/sklearn/model_selection/_search.py:334\u001b[0m, in \u001b[0;36m_check_param_grid\u001b[0;34m(param_grid)\u001b[0m\n\u001b[1;32m    331\u001b[0m     \u001b[39mraise\u001b[39;00m \u001b[39mValueError\u001b[39;00m(\u001b[39m\"\u001b[39m\u001b[39mParameter array should be one-dimensional.\u001b[39m\u001b[39m\"\u001b[39m)\n\u001b[1;32m    333\u001b[0m \u001b[39mif\u001b[39;00m \u001b[39misinstance\u001b[39m(v, \u001b[39mstr\u001b[39m) \u001b[39mor\u001b[39;00m \u001b[39mnot\u001b[39;00m \u001b[39misinstance\u001b[39m(v, (np\u001b[39m.\u001b[39mndarray, Sequence)):\n\u001b[0;32m--> 334\u001b[0m     \u001b[39mraise\u001b[39;00m \u001b[39mValueError\u001b[39;00m(\n\u001b[1;32m    335\u001b[0m         \u001b[39m\"\u001b[39m\u001b[39mParameter grid for parameter (\u001b[39m\u001b[39m{0}\u001b[39;00m\u001b[39m) needs to\u001b[39m\u001b[39m\"\u001b[39m\n\u001b[1;32m    336\u001b[0m         \u001b[39m\"\u001b[39m\u001b[39m be a list or numpy array, but got (\u001b[39m\u001b[39m{1}\u001b[39;00m\u001b[39m).\u001b[39m\u001b[39m\"\u001b[39m\n\u001b[1;32m    337\u001b[0m         \u001b[39m\"\u001b[39m\u001b[39m Single values need to be wrapped in a list\u001b[39m\u001b[39m\"\u001b[39m\n\u001b[1;32m    338\u001b[0m         \u001b[39m\"\u001b[39m\u001b[39m with one element.\u001b[39m\u001b[39m\"\u001b[39m\u001b[39m.\u001b[39mformat(name, \u001b[39mtype\u001b[39m(v))\n\u001b[1;32m    339\u001b[0m     )\n\u001b[1;32m    341\u001b[0m \u001b[39mif\u001b[39;00m \u001b[39mlen\u001b[39m(v) \u001b[39m==\u001b[39m \u001b[39m0\u001b[39m:\n\u001b[1;32m    342\u001b[0m     \u001b[39mraise\u001b[39;00m \u001b[39mValueError\u001b[39;00m(\n\u001b[1;32m    343\u001b[0m         \u001b[39m\"\u001b[39m\u001b[39mParameter values for parameter (\u001b[39m\u001b[39m{0}\u001b[39;00m\u001b[39m) need \u001b[39m\u001b[39m\"\u001b[39m\n\u001b[1;32m    344\u001b[0m         \u001b[39m\"\u001b[39m\u001b[39mto be a non-empty sequence.\u001b[39m\u001b[39m\"\u001b[39m\u001b[39m.\u001b[39mformat(name)\n\u001b[1;32m    345\u001b[0m     )\n",
      "\u001b[0;31mValueError\u001b[0m: Parameter grid for parameter (feature_selection__max_features) needs to be a list or numpy array, but got (<class 'int'>). Single values need to be wrapped in a list with one element."
     ]
    }
   ],
   "source": [
    "# 앞선 결과에서 16개 일때 가장 좋은 결과를 얻었으므로 테스트 범위는 16 +/-2\n",
    "# max_depth도 변화를 주기로 함.\n",
    "\n",
    "hyper_params = [{\n",
    "    'feature_selection__max_features': [20]\n",
    "    , 'feature_selection__estimator__max_depth': [30]\n",
    "    }]\n",
    "\n",
    "model_cv = GridSearchCV(pipe, hyper_params, cv=kfold, scoring=make_scorer(lg_nrmse, greater_is_better=False)\n",
    "                        ,return_train_score=True, verbose=3, n_jobs=2)\n",
    "model_cv.fit(X.values, y.values)"
   ]
  },
  {
   "cell_type": "code",
   "execution_count": 29,
   "metadata": {},
   "outputs": [
    {
     "data": {
      "text/plain": [
       "-1.9626072848631568"
      ]
     },
     "execution_count": 29,
     "metadata": {},
     "output_type": "execute_result"
    }
   ],
   "source": [
    "model_cv.best_score_"
   ]
  },
  {
   "cell_type": "code",
   "execution_count": 30,
   "metadata": {},
   "outputs": [
    {
     "ename": "IndexError",
     "evalue": "boolean index did not match indexed array along dimension 0; dimension is 52 but corresponding boolean dimension is 53",
     "output_type": "error",
     "traceback": [
      "\u001b[0;31m---------------------------------------------------------------------------\u001b[0m",
      "\u001b[0;31mIndexError\u001b[0m                                Traceback (most recent call last)",
      "\u001b[1;32m/content/Antenna-Performance-Prediction/FeatureSelection.ipynb Cell 42\u001b[0m in \u001b[0;36m<cell line: 4>\u001b[0;34m()\u001b[0m\n\u001b[1;32m      <a href='vscode-notebook-cell://attached-container%2B7b22636f6e7461696e65724e616d65223a222f616e74656e6e61222c2273657474696e6773223a7b22686f7374223a227373683a2f2f3139322e3136382e302e37227d7d/content/Antenna-Performance-Prediction/FeatureSelection.ipynb#Y130sdnNjb2RlLXJlbW90ZQ%3D%3D?line=0'>1</a>\u001b[0m selector \u001b[39m=\u001b[39m model_cv\u001b[39m.\u001b[39mbest_estimator_[\u001b[39m'\u001b[39m\u001b[39mfeature_selection\u001b[39m\u001b[39m'\u001b[39m]\n\u001b[1;32m      <a href='vscode-notebook-cell://attached-container%2B7b22636f6e7461696e65724e616d65223a222f616e74656e6e61222c2273657474696e6773223a7b22686f7374223a227373683a2f2f3139322e3136382e302e37227d7d/content/Antenna-Performance-Prediction/FeatureSelection.ipynb#Y130sdnNjb2RlLXJlbW90ZQ%3D%3D?line=2'>3</a>\u001b[0m selected_columns \u001b[39m=\u001b[39m X\u001b[39m.\u001b[39mcolumns\n\u001b[0;32m----> <a href='vscode-notebook-cell://attached-container%2B7b22636f6e7461696e65724e616d65223a222f616e74656e6e61222c2273657474696e6773223a7b22686f7374223a227373683a2f2f3139322e3136382e302e37227d7d/content/Antenna-Performance-Prediction/FeatureSelection.ipynb#Y130sdnNjb2RlLXJlbW90ZQ%3D%3D?line=3'>4</a>\u001b[0m selected_columns[selector\u001b[39m.\u001b[39;49mget_support()]\n",
      "File \u001b[0;32m/opt/conda/lib/python3.9/site-packages/pandas/core/indexes/base.py:5055\u001b[0m, in \u001b[0;36mIndex.__getitem__\u001b[0;34m(self, key)\u001b[0m\n\u001b[1;32m   5048\u001b[0m \u001b[39mif\u001b[39;00m com\u001b[39m.\u001b[39mis_bool_indexer(key):\n\u001b[1;32m   5049\u001b[0m     \u001b[39m# if we have list[bools, length=1e5] then doing this check+convert\u001b[39;00m\n\u001b[1;32m   5050\u001b[0m     \u001b[39m#  takes 166 µs + 2.1 ms and cuts the ndarray.__getitem__\u001b[39;00m\n\u001b[1;32m   5051\u001b[0m     \u001b[39m#  time below from 3.8 ms to 496 µs\u001b[39;00m\n\u001b[1;32m   5052\u001b[0m     \u001b[39m# if we already have ndarray[bool], the overhead is 1.4 µs or .25%\u001b[39;00m\n\u001b[1;32m   5053\u001b[0m     key \u001b[39m=\u001b[39m np\u001b[39m.\u001b[39masarray(key, dtype\u001b[39m=\u001b[39m\u001b[39mbool\u001b[39m)\n\u001b[0;32m-> 5055\u001b[0m result \u001b[39m=\u001b[39m getitem(key)\n\u001b[1;32m   5056\u001b[0m \u001b[39m# Because we ruled out integer above, we always get an arraylike here\u001b[39;00m\n\u001b[1;32m   5057\u001b[0m \u001b[39mif\u001b[39;00m result\u001b[39m.\u001b[39mndim \u001b[39m>\u001b[39m \u001b[39m1\u001b[39m:\n",
      "\u001b[0;31mIndexError\u001b[0m: boolean index did not match indexed array along dimension 0; dimension is 52 but corresponding boolean dimension is 53"
     ]
    }
   ],
   "source": [
    "selector = model_cv.best_estimator_['feature_selection']\n",
    "\n",
    "selected_columns = X.columns\n",
    "selected_columns[selector.get_support()]"
   ]
  },
  {
   "cell_type": "markdown",
   "metadata": {},
   "source": [
    "* 컴퓨터 리소스가 부족해서 매번 GridSearchCV를 활용하기 어려움. 다음 테스트 부터는 방법을 전환하기로 함"
   ]
  },
  {
   "cell_type": "code",
   "execution_count": 44,
   "metadata": {},
   "outputs": [
    {
     "name": "stdout",
     "output_type": "stream",
     "text": [
      "Fitting 5 folds for each of 1 candidates, totalling 5 fits\n",
      "[CV 1/5] END feature_selection__estimator__max_depth=30, feature_selection__max_features=20;, score=(train=-0.728, test=-1.968) total time= 2.4min\n",
      "[CV 2/5] END feature_selection__estimator__max_depth=30, feature_selection__max_features=20;, score=(train=-0.727, test=-1.966) total time= 2.3min\n",
      "[CV 3/5] END feature_selection__estimator__max_depth=30, feature_selection__max_features=20;, score=(train=-0.726, test=-1.984) total time= 2.3min\n",
      "[CV 4/5] END feature_selection__estimator__max_depth=30, feature_selection__max_features=20;, score=(train=-0.729, test=-1.946) total time= 2.3min\n",
      "[CV 5/5] END feature_selection__estimator__max_depth=30, feature_selection__max_features=20;, score=(train=-0.729, test=-1.951) total time= 2.3min\n"
     ]
    },
    {
     "data": {
      "text/plain": [
       "GridSearchCV(cv=KFold(n_splits=5, random_state=13, shuffle=True),\n",
       "             estimator=Pipeline(steps=[('preprocessing',\n",
       "                                        ColumnTransformer(transformers=[('lst',\n",
       "                                                                         Pipeline(steps=[('log1p',\n",
       "                                                                                          FunctionTransformer(func=<ufunc 'log1p'>)),\n",
       "                                                                                         ('std',\n",
       "                                                                                          StandardScaler())]),\n",
       "                                                                         [44]),\n",
       "                                                                        ('std',\n",
       "                                                                         StandardScaler(),\n",
       "                                                                         [0, 1,\n",
       "                                                                          2, 3,\n",
       "                                                                          4, 5,\n",
       "                                                                          6, 7,\n",
       "                                                                          8, 9,\n",
       "                                                                          10,\n",
       "                                                                          11,\n",
       "                                                                          12,\n",
       "                                                                          13,\n",
       "                                                                          14,\n",
       "                                                                          15,\n",
       "                                                                          16,\n",
       "                                                                          17,\n",
       "                                                                          18,\n",
       "                                                                          19,\n",
       "                                                                          20,\n",
       "                                                                          21,\n",
       "                                                                          22,\n",
       "                                                                          23,\n",
       "                                                                          24,\n",
       "                                                                          25,\n",
       "                                                                          26,\n",
       "                                                                          27,\n",
       "                                                                          28,\n",
       "                                                                          29,...\n",
       "                                       ('feature_selection',\n",
       "                                        SelectFromModel(estimator=RandomForestRegressor(n_estimators=250,\n",
       "                                                                                        n_jobs=-1))),\n",
       "                                       ('regression',\n",
       "                                        RandomForestRegressor(n_estimators=250,\n",
       "                                                              n_jobs=-1))]),\n",
       "             param_grid=[{'feature_selection__estimator__max_depth': [30],\n",
       "                          'feature_selection__max_features': [20]}],\n",
       "             return_train_score=True,\n",
       "             scoring=make_scorer(lg_nrmse, greater_is_better=False), verbose=3)"
      ]
     },
     "execution_count": 44,
     "metadata": {},
     "output_type": "execute_result"
    }
   ],
   "source": [
    "lst_cols = []\n",
    "lst_cols.append(column_index(X, 'X_49'))\n",
    "\n",
    "std_cols = set(X.columns) - set(['X_49'])\n",
    "std_cols = [column_index(X, v) for v in sorted(std_cols)]\n",
    "\n",
    "preprocessor = ColumnTransformer(\n",
    "      transformers=[\n",
    "          (\"lst\", log_std_transformer, lst_cols),\n",
    "          (\"std\", StandardScaler(), std_cols)\n",
    "      ]\n",
    "    )\n",
    "\n",
    "pipe = Pipeline([\n",
    "    ('preprocessing', preprocessor),\n",
    "    ('feature_selection', SelectFromModel(estimator=RandomForestRegressor(n_estimators=250, n_jobs=-1))),\n",
    "    ('regression', RandomForestRegressor(n_estimators=250, max_depth=30 n_jobs=-1))\n",
    "])\n",
    "\n",
    "hyper_params = [{\n",
    "    'feature_selection__max_features': [20]\n",
    "    }]\n",
    "\n",
    "model_cv = GridSearchCV(pipe, hyper_params, cv=kfold, scoring=make_scorer(lg_nrmse, greater_is_better=False)\n",
    "                        ,return_train_score=True, verbose=3)\n",
    "model_cv.fit(X.values, y.values)                        "
   ]
  },
  {
   "cell_type": "code",
   "execution_count": 48,
   "metadata": {},
   "outputs": [
    {
     "data": {
      "text/plain": [
       "-1.9628628666621832"
      ]
     },
     "execution_count": 48,
     "metadata": {},
     "output_type": "execute_result"
    }
   ],
   "source": [
    "base_score = model_cv.best_score_\n",
    "base_score"
   ]
  },
  {
   "cell_type": "code",
   "execution_count": 47,
   "metadata": {},
   "outputs": [
    {
     "data": {
      "text/plain": [
       "(19,\n",
       " Index(['X_01', 'X_05', 'X_06', 'X_08', 'X_09', 'X_10', 'X_20', 'X_21', 'X_22',\n",
       "        'X_24', 'X_35', 'X_38', 'X_50', 'X_51', 'X_52', 'X_53', 'X_54', 'X_55',\n",
       "        'X_56'],\n",
       "       dtype='object'))"
      ]
     },
     "execution_count": 47,
     "metadata": {},
     "output_type": "execute_result"
    }
   ],
   "source": [
    "selector = model_cv.best_estimator_['feature_selection']\n",
    "\n",
    "selected_columns = X.columns\n",
    "selected_columns = selected_columns[selector.get_support()]\n",
    "len(selected_columns), selected_columns"
   ]
  },
  {
   "cell_type": "code",
   "execution_count": 53,
   "metadata": {},
   "outputs": [
    {
     "data": {
      "image/png": "[encoded data removed]",
      "text/plain": [
       "<Figure size 864x432 with 1 Axes>"
      ]
     },
     "metadata": {
      "needs_background": "light"
     },
     "output_type": "display_data"
    }
   ],
   "source": [
    "model = model_cv.best_estimator_['regression']\n",
    "\n",
    "importances = model.feature_importances_\n",
    "std = np.std([tree.feature_importances_ for tree in model.estimators_], axis=0)\n",
    "\n",
    "forest_importances = pd.Series(importances, index=selected_columns)\n",
    "\n",
    "fig, ax = plt.subplots(figsize=(12,6))\n",
    "forest_importances.plot.bar(yerr=std, ax=ax)\n",
    "ax.set_title(\"Feature importances using MDI\")\n",
    "ax.set_ylabel(\"Mean decrease in impurity\")\n",
    "fig.tight_layout()\n"
   ]
  },
  {
   "cell_type": "code",
   "execution_count": 54,
   "metadata": {},
   "outputs": [],
   "source": [
    "# 유니크 값이 적고 데이터가 치우친 일부 컬럼을 제외하기로 함.\n",
    "# X_02, X_10, X_11, X_46\n",
    "\n",
    "train = raw_data['train'].drop(columns=['X_04', 'X_23', 'X_47', 'X_48', 'X_02', 'X_10', 'X_11', 'X_46']).copy()\n",
    "\n",
    "X = train.filter(regex='X')\n",
    "y = train.filter(regex='Y')\n",
    "\n"
   ]
  },
  {
   "cell_type": "code",
   "execution_count": 56,
   "metadata": {},
   "outputs": [
    {
     "name": "stdout",
     "output_type": "stream",
     "text": [
      "Fitting 5 folds for each of 1 candidates, totalling 5 fits\n",
      "[CV 1/5] END feature_selection__max_features=20;, score=(train=-0.758, test=-1.967) total time= 2.4min\n",
      "[CV 2/5] END feature_selection__max_features=20;, score=(train=-0.759, test=-1.966) total time= 2.4min\n",
      "[CV 3/5] END feature_selection__max_features=20;, score=(train=-0.760, test=-1.986) total time= 2.4min\n",
      "[CV 4/5] END feature_selection__max_features=20;, score=(train=-0.760, test=-1.943) total time= 2.4min\n",
      "[CV 5/5] END feature_selection__max_features=20;, score=(train=-0.759, test=-1.949) total time= 2.4min\n"
     ]
    },
    {
     "data": {
      "text/plain": [
       "GridSearchCV(cv=KFold(n_splits=5, random_state=13, shuffle=True),\n",
       "             estimator=Pipeline(steps=[('preprocessing',\n",
       "                                        ColumnTransformer(transformers=[('lst',\n",
       "                                                                         Pipeline(steps=[('log1p',\n",
       "                                                                                          FunctionTransformer(func=<ufunc 'log1p'>)),\n",
       "                                                                                         ('std',\n",
       "                                                                                          StandardScaler())]),\n",
       "                                                                         [40]),\n",
       "                                                                        ('std',\n",
       "                                                                         StandardScaler(),\n",
       "                                                                         [0, 1,\n",
       "                                                                          2, 3,\n",
       "                                                                          4, 5,\n",
       "                                                                          6, 7,\n",
       "                                                                          8, 9,\n",
       "                                                                          10,\n",
       "                                                                          11,\n",
       "                                                                          12,\n",
       "                                                                          13,\n",
       "                                                                          14,\n",
       "                                                                          15,\n",
       "                                                                          16,\n",
       "                                                                          17,\n",
       "                                                                          18,\n",
       "                                                                          19,\n",
       "                                                                          20,\n",
       "                                                                          21,\n",
       "                                                                          22,\n",
       "                                                                          23,\n",
       "                                                                          24,\n",
       "                                                                          25,\n",
       "                                                                          26,\n",
       "                                                                          27,\n",
       "                                                                          28,\n",
       "                                                                          29, ...])])),\n",
       "                                       ('feature_selection',\n",
       "                                        SelectFromModel(estimator=RandomForestRegressor(n_estimators=250,\n",
       "                                                                                        n_jobs=-1))),\n",
       "                                       ('regression',\n",
       "                                        RandomForestRegressor(max_depth=30,\n",
       "                                                              n_estimators=250,\n",
       "                                                              n_jobs=-1))]),\n",
       "             param_grid=[{'feature_selection__max_features': [20]}],\n",
       "             return_train_score=True,\n",
       "             scoring=make_scorer(lg_nrmse, greater_is_better=False), verbose=3)"
      ]
     },
     "execution_count": 56,
     "metadata": {},
     "output_type": "execute_result"
    }
   ],
   "source": [
    "lst_cols = []\n",
    "lst_cols.append(column_index(X, 'X_49'))\n",
    "\n",
    "std_cols = set(X.columns) - set(['X_49'])\n",
    "std_cols = [column_index(X, v) for v in sorted(std_cols)]\n",
    "\n",
    "preprocessor = ColumnTransformer(\n",
    "      transformers=[\n",
    "          (\"lst\", log_std_transformer, lst_cols),\n",
    "          (\"std\", StandardScaler(), std_cols)\n",
    "      ]\n",
    "    )\n",
    "\n",
    "pipe = Pipeline([\n",
    "    ('preprocessing', preprocessor),\n",
    "    ('feature_selection', SelectFromModel(estimator=RandomForestRegressor(n_estimators=250, n_jobs=-1))),\n",
    "    ('regression', RandomForestRegressor(n_estimators=250, max_depth=30, n_jobs=-1))\n",
    "])\n",
    "\n",
    "hyper_params = [{\n",
    "    'feature_selection__max_features': [20]\n",
    "    }]\n",
    "\n",
    "model_cv = GridSearchCV(pipe, hyper_params, cv=kfold, scoring=make_scorer(lg_nrmse, greater_is_better=False)\n",
    "                        ,return_train_score=True, verbose=3)\n",
    "model_cv.fit(X.values, y.values)                        "
   ]
  },
  {
   "cell_type": "code",
   "execution_count": 57,
   "metadata": {},
   "outputs": [
    {
     "data": {
      "text/plain": [
       "-1.962142413297585"
      ]
     },
     "execution_count": 57,
     "metadata": {},
     "output_type": "execute_result"
    }
   ],
   "source": [
    "model_cv.best_score_"
   ]
  },
  {
   "cell_type": "code",
   "execution_count": 58,
   "metadata": {},
   "outputs": [
    {
     "name": "stdout",
     "output_type": "stream",
     "text": [
      "base_score changed: 0.0007204533645981392\n"
     ]
    }
   ],
   "source": [
    "if model_cv.best_score_ > base_score:\n",
    "    print('base_score changed: {}'.format(model_cv.best_score_ - base_score))\n",
    "    base_score = model_cv.best_score_"
   ]
  },
  {
   "cell_type": "code",
   "execution_count": 59,
   "metadata": {},
   "outputs": [
    {
     "data": {
      "text/plain": [
       "(17,\n",
       " Index(['X_01', 'X_05', 'X_06', 'X_08', 'X_09', 'X_12', 'X_20', 'X_21', 'X_22',\n",
       "        'X_24', 'X_50', 'X_51', 'X_52', 'X_53', 'X_54', 'X_55', 'X_56'],\n",
       "       dtype='object'))"
      ]
     },
     "execution_count": 59,
     "metadata": {},
     "output_type": "execute_result"
    }
   ],
   "source": [
    "selector = model_cv.best_estimator_['feature_selection']\n",
    "\n",
    "selected_columns = X.columns\n",
    "selected_columns = selected_columns[selector.get_support()]\n",
    "len(selected_columns), selected_columns"
   ]
  },
  {
   "cell_type": "code",
   "execution_count": 60,
   "metadata": {},
   "outputs": [
    {
     "data": {
      "image/png": "[encoded data removed]",
      "text/plain": [
       "<Figure size 864x432 with 1 Axes>"
      ]
     },
     "metadata": {
      "needs_background": "light"
     },
     "output_type": "display_data"
    }
   ],
   "source": [
    "model = model_cv.best_estimator_['regression']\n",
    "\n",
    "importances = model.feature_importances_\n",
    "std = np.std([tree.feature_importances_ for tree in model.estimators_], axis=0)\n",
    "\n",
    "forest_importances = pd.Series(importances, index=selected_columns)\n",
    "\n",
    "fig, ax = plt.subplots(figsize=(12,6))\n",
    "forest_importances.plot.bar(yerr=std, ax=ax)\n",
    "ax.set_title(\"Feature importances using MDI\")\n",
    "ax.set_ylabel(\"Mean decrease in impurity\")\n",
    "fig.tight_layout()\n"
   ]
  },
  {
   "cell_type": "markdown",
   "metadata": {},
   "source": [
    "## Feature X_38"
   ]
  },
  {
   "cell_type": "code",
   "execution_count": 35,
   "metadata": {},
   "outputs": [
    {
     "name": "stdout",
     "output_type": "stream",
     "text": [
      "Outlier count: 39189\n"
     ]
    },
    {
     "data": {
      "image/png": "[encoded data removed]",
      "text/plain": [
       "<Figure size 864x720 with 4 Axes>"
      ]
     },
     "metadata": {
      "needs_background": "light"
     },
     "output_type": "display_data"
    }
   ],
   "source": [
    "from sklearn.preprocessing import MinMaxScaler\n",
    "\n",
    "def display_x38_plot(cname):\n",
    "    data = train[[cname]].copy()\n",
    "    \n",
    "    fig, ax = plt.subplots(2, 2, figsize=(12, 10))\n",
    "    # 원본 히스토그램\n",
    "    sns.histplot(x=cname, data=data, ax=ax[0][0])\n",
    "\n",
    "    # MinMax 스케일러 적용\n",
    "    mms = MinMaxScaler()\n",
    "    data[cname+'_mms'] = mms.fit_transform(data[cname].values.reshape(-1, 1))\n",
    "    sns.histplot(x=cname+'_mms', data=data, ax=ax[0][1])\n",
    "    sns.boxplot(x=cname+'_mms', data=data, ax=ax[1][1])\n",
    "\n",
    "    # 이상치 삭제 후 log1p -> StandardScaler적용\n",
    "    split_line = 0.2\n",
    "    print('Outlier count: {}'.format(data[data[cname+'_mms'] > split_line][cname].count()))\n",
    "    data[cname+'_mms'] = data[data[cname+'_mms'] < split_line][cname+'_mms']\n",
    "    ft = FunctionTransformer(np.log1p)\n",
    "    ss = StandardScaler()\n",
    "    data[cname+'_final'] = ft.fit_transform(data[cname+'_mms'])\n",
    "    data[cname+'_final'] = ss.fit_transform(data[cname+'_final'].values.reshape(-1, 1))\n",
    "    sns.histplot(x=cname+'_final', data=data, ax=ax[1][0])\n",
    "\n",
    "    plt.show()\n",
    "\n",
    "display_x38_plot('X_38')"
   ]
  },
  {
   "cell_type": "code",
   "execution_count": 10,
   "metadata": {},
   "outputs": [
    {
     "data": {
      "text/plain": [
       "Int64Index([ 1752,  4044,  4140,  6072,  6141,  6519,  8029,  8347,  8548,\n",
       "             8734,  8831, 10584, 10709, 11596, 12995, 14471, 15392, 15503,\n",
       "            19663, 19789, 19795, 23006, 23768, 23812, 24026, 24093, 24097,\n",
       "            27813, 28278, 28388, 28468, 28618, 28662, 32272, 32397, 32547,\n",
       "            35922, 36385, 36506, 36982, 37042],\n",
       "           dtype='int64')"
      ]
     },
     "execution_count": 10,
     "metadata": {},
     "output_type": "execute_result"
    }
   ],
   "source": [
    "def minmax_outlier_index(cname, weight):\n",
    "    data = train[[cname]].copy()\n",
    "    mms = MinMaxScaler()\n",
    "    data[cname+'_mms'] = mms.fit_transform(data[cname].values.reshape(-1, 1))\n",
    "    return data[data[cname+'_mms'] > weight].index\n",
    "\n",
    "minmax_outlier_index(cname='X_38', weight=0.2)"
   ]
  },
  {
   "cell_type": "code",
   "execution_count": 11,
   "metadata": {},
   "outputs": [],
   "source": [
    "train = raw_data['train'].drop(columns=['X_04', 'X_23', 'X_47', 'X_48', 'X_02', 'X_10', 'X_11', 'X_46']).copy()\n",
    "\n",
    "outlier_index = minmax_outlier_index(cname='X_38', weight=0.2)\n",
    "train = train.drop(outlier_index, axis=0).copy()"
   ]
  },
  {
   "cell_type": "code",
   "execution_count": 14,
   "metadata": {},
   "outputs": [
    {
     "data": {
      "text/plain": [
       "(48, 46, 1, 1)"
      ]
     },
     "execution_count": 14,
     "metadata": {},
     "output_type": "execute_result"
    }
   ],
   "source": [
    "\n",
    "X = train.filter(regex='X')\n",
    "y = train.filter(regex='Y')\n",
    "\n",
    "lst_cols = []\n",
    "lst_cols.append(column_index(X, 'X_49'))\n",
    "\n",
    "mlt_cols = []\n",
    "mlt_cols.append(column_index(X, 'X_38'))\n",
    "\n",
    "std_cols = set(X.columns) - set(['X_49']) - set(['X_38'])\n",
    "std_cols = [column_index(X, v) for v in sorted(std_cols)]\n",
    "len(X.columns), len(std_cols), len(lst_cols), len(mlt_cols)"
   ]
  },
  {
   "cell_type": "code",
   "execution_count": 18,
   "metadata": {},
   "outputs": [
    {
     "name": "stdout",
     "output_type": "stream",
     "text": [
      "Fitting 5 folds for each of 1 candidates, totalling 5 fits\n",
      "[CV 1/5] END feature_selection__max_features=20;, score=(train=-1.134, test=-1.948) total time= 1.8min\n",
      "[CV 2/5] END feature_selection__max_features=20;, score=(train=-1.150, test=-1.936) total time= 1.7min\n",
      "[CV 3/5] END feature_selection__max_features=20;, score=(train=-1.152, test=-1.962) total time= 1.8min\n",
      "[CV 4/5] END feature_selection__max_features=20;, score=(train=-1.149, test=-1.977) total time= 1.8min\n",
      "[CV 5/5] END feature_selection__max_features=20;, score=(train=-1.138, test=-1.998) total time= 1.8min\n"
     ]
    },
    {
     "data": {
      "text/plain": [
       "GridSearchCV(cv=KFold(n_splits=5, random_state=13, shuffle=True),\n",
       "             estimator=Pipeline(steps=[('preprocessing',\n",
       "                                        ColumnTransformer(transformers=[('lst',\n",
       "                                                                         Pipeline(steps=[('log1p',\n",
       "                                                                                          FunctionTransformer(func=<ufunc 'log1p'>)),\n",
       "                                                                                         ('std',\n",
       "                                                                                          StandardScaler())]),\n",
       "                                                                         [40]),\n",
       "                                                                        ('mlt',\n",
       "                                                                         Pipeline(steps=[('minmax',\n",
       "                                                                                          MinMaxScaler()),\n",
       "                                                                                         ('log1p',\n",
       "                                                                                          FunctionTransformer(func=<ufunc 'log1p'>)),\n",
       "                                                                                         ('std...\n",
       "                                                                          23,\n",
       "                                                                          24,\n",
       "                                                                          25,\n",
       "                                                                          26,\n",
       "                                                                          27,\n",
       "                                                                          28,\n",
       "                                                                          29, ...])])),\n",
       "                                       ('feature_selection',\n",
       "                                        SelectFromModel(estimator=RandomForestRegressor(n_estimators=200,\n",
       "                                                                                        n_jobs=-1))),\n",
       "                                       ('regression',\n",
       "                                        RandomForestRegressor(max_depth=20,\n",
       "                                                              n_estimators=200,\n",
       "                                                              n_jobs=-1))]),\n",
       "             param_grid=[{'feature_selection__max_features': [20]}],\n",
       "             return_train_score=True,\n",
       "             scoring=make_scorer(lg_nrmse, greater_is_better=False), verbose=3)"
      ]
     },
     "execution_count": 18,
     "metadata": {},
     "output_type": "execute_result"
    }
   ],
   "source": [
    "\n",
    "# log1p -> StandardScaler 파이프라인\n",
    "log_std_transformer = Pipeline(\n",
    "        steps=[\n",
    "            (\"log1p\", FunctionTransformer(np.log1p))\n",
    "          , (\"std\", StandardScaler())]\n",
    "    )\n",
    "\n",
    "# MinMax -> log1p -> StandardScaler 파이프라인\n",
    "min_log_transformer = Pipeline(\n",
    "        steps=[(\"minmax\", MinMaxScaler())\n",
    "        , (\"log1p\", FunctionTransformer(np.log1p))\n",
    "        , (\"std\", StandardScaler())]\n",
    "    )\n",
    "    \n",
    "preprocessor = ColumnTransformer(\n",
    "      transformers=[\n",
    "          (\"lst\", log_std_transformer, lst_cols),\n",
    "          (\"mlt\", min_log_transformer, mlt_cols),\n",
    "          (\"std\", StandardScaler(), std_cols)\n",
    "      ]\n",
    "    )\n",
    "\n",
    "pipe = Pipeline([\n",
    "    ('preprocessing', preprocessor),\n",
    "    ('feature_selection', SelectFromModel(estimator=RandomForestRegressor(n_estimators=200, n_jobs=-1))),\n",
    "    ('regression', RandomForestRegressor(n_estimators=200, max_depth=20, n_jobs=-1))\n",
    "])\n",
    "\n",
    "hyper_params = [{\n",
    "    'feature_selection__max_features': [20]\n",
    "    }]\n",
    "\n",
    "model_cv = GridSearchCV(pipe, hyper_params, cv=kfold, scoring=make_scorer(lg_nrmse, greater_is_better=False)\n",
    "                        ,return_train_score=True, verbose=3)\n",
    "model_cv.fit(X.values, y.values)                        "
   ]
  },
  {
   "cell_type": "code",
   "execution_count": 22,
   "metadata": {},
   "outputs": [],
   "source": [
    "base_score = -1.962142413297585"
   ]
  },
  {
   "cell_type": "code",
   "execution_count": 20,
   "metadata": {},
   "outputs": [
    {
     "data": {
      "text/plain": [
       "-1.964203877017597"
      ]
     },
     "execution_count": 20,
     "metadata": {},
     "output_type": "execute_result"
    }
   ],
   "source": [
    "model_cv.best_score_"
   ]
  },
  {
   "cell_type": "code",
   "execution_count": 23,
   "metadata": {},
   "outputs": [],
   "source": [
    "if model_cv.best_score_ > base_score:\n",
    "    print('base_score changed: {}'.format(model_cv.best_score_ - base_score))\n",
    "    base_score = model_cv.best_score_"
   ]
  },
  {
   "cell_type": "code",
   "execution_count": 24,
   "metadata": {},
   "outputs": [
    {
     "data": {
      "text/plain": [
       "(17,\n",
       " Index(['X_01', 'X_06', 'X_07', 'X_09', 'X_12', 'X_13', 'X_21', 'X_22', 'X_24',\n",
       "        'X_25', 'X_50', 'X_51', 'X_52', 'X_53', 'X_54', 'X_55', 'X_56'],\n",
       "       dtype='object'))"
      ]
     },
     "execution_count": 24,
     "metadata": {},
     "output_type": "execute_result"
    }
   ],
   "source": [
    "selector = model_cv.best_estimator_['feature_selection']\n",
    "\n",
    "selected_columns = X.columns\n",
    "selected_columns = selected_columns[selector.get_support()]\n",
    "len(selected_columns), selected_columns"
   ]
  },
  {
   "cell_type": "code",
   "execution_count": 25,
   "metadata": {},
   "outputs": [
    {
     "data": {
      "image/png": "[encoded data removed]",
      "text/plain": [
       "<Figure size 864x432 with 1 Axes>"
      ]
     },
     "metadata": {
      "needs_background": "light"
     },
     "output_type": "display_data"
    }
   ],
   "source": [
    "model = model_cv.best_estimator_['regression']\n",
    "\n",
    "importances = model.feature_importances_\n",
    "std = np.std([tree.feature_importances_ for tree in model.estimators_], axis=0)\n",
    "\n",
    "forest_importances = pd.Series(importances, index=selected_columns)\n",
    "\n",
    "fig, ax = plt.subplots(figsize=(12,6))\n",
    "forest_importances.plot.bar(yerr=std, ax=ax)\n",
    "ax.set_title(\"Feature importances using MDI\")\n",
    "ax.set_ylabel(\"Mean decrease in impurity\")\n",
    "fig.tight_layout()\n"
   ]
  },
  {
   "cell_type": "markdown",
   "metadata": {},
   "source": [
    "## Feature: X_39"
   ]
  },
  {
   "cell_type": "code",
   "execution_count": 26,
   "metadata": {},
   "outputs": [
    {
     "name": "stdout",
     "output_type": "stream",
     "text": [
      "Outlier count: 60\n"
     ]
    },
    {
     "data": {
      "image/png": "[encoded data removed]",
      "text/plain": [
       "<Figure size 864x720 with 4 Axes>"
      ]
     },
     "metadata": {
      "needs_background": "light"
     },
     "output_type": "display_data"
    }
   ],
   "source": [
    "from sklearn.preprocessing import MinMaxScaler\n",
    "\n",
    "def display_x38_plot(cname):\n",
    "    data = train[[cname]].copy()\n",
    "    \n",
    "    fig, ax = plt.subplots(2, 2, figsize=(12, 10))\n",
    "    # 원본 히스토그램\n",
    "    sns.histplot(x=cname, data=data, ax=ax[0][0])\n",
    "\n",
    "    # MinMax 스케일러 적용\n",
    "    mms = MinMaxScaler()\n",
    "    data[cname+'_mms'] = mms.fit_transform(data[cname].values.reshape(-1, 1))\n",
    "    sns.histplot(x=cname+'_mms', data=data, ax=ax[0][1])\n",
    "    sns.boxplot(x=cname+'_mms', data=data, ax=ax[1][1])\n",
    "\n",
    "    # 이상치 삭제 후 log1p -> StandardScaler적용\n",
    "    split_line = 0.8\n",
    "    print('Outlier count: {}'.format(data[data[cname+'_mms'] > split_line][cname].count()))\n",
    "    data[cname+'_mms'] = data[data[cname+'_mms'] < split_line][cname+'_mms']\n",
    "    ft = FunctionTransformer(np.log1p)\n",
    "    ss = StandardScaler()\n",
    "    data[cname+'_final'] = ft.fit_transform(data[cname+'_mms'])\n",
    "    data[cname+'_final'] = ss.fit_transform(data[cname+'_final'].values.reshape(-1, 1))\n",
    "    sns.histplot(x=cname+'_final', data=data, ax=ax[1][0])\n",
    "\n",
    "    plt.show()\n",
    "\n",
    "display_x38_plot('X_39')"
   ]
  },
  {
   "cell_type": "code",
   "execution_count": 27,
   "metadata": {},
   "outputs": [],
   "source": [
    "train = raw_data['train'].drop(columns=['X_04', 'X_23', 'X_47', 'X_48', 'X_02', 'X_10', 'X_11', 'X_46']).copy()\n",
    "\n",
    "outlier_index = []\n",
    "outlier_index.extend(minmax_outlier_index(cname='X_38', weight=0.2))\n",
    "outlier_index.extend(minmax_outlier_index(cname='X_39', weight=0.8))\n",
    "train = train.drop(outlier_index, axis=0).copy()"
   ]
  },
  {
   "cell_type": "code",
   "execution_count": 29,
   "metadata": {},
   "outputs": [
    {
     "data": {
      "text/plain": [
       "(48, 45, 1, 2)"
      ]
     },
     "execution_count": 29,
     "metadata": {},
     "output_type": "execute_result"
    }
   ],
   "source": [
    "X = train.filter(regex='X')\n",
    "y = train.filter(regex='Y')\n",
    "\n",
    "lst_cols = []\n",
    "lst_cols.append(column_index(X, 'X_49'))\n",
    "\n",
    "mlt_cols = []\n",
    "mlt_cols.append(column_index(X, 'X_38'))\n",
    "mlt_cols.append(column_index(X, 'X_39'))\n",
    "\n",
    "std_cols = set(X.columns) - set(['X_49']) - set(['X_38', 'X_39'])\n",
    "std_cols = [column_index(X, v) for v in sorted(std_cols)]\n",
    "len(X.columns), len(std_cols), len(lst_cols), len(mlt_cols)"
   ]
  },
  {
   "cell_type": "code",
   "execution_count": 30,
   "metadata": {},
   "outputs": [
    {
     "name": "stdout",
     "output_type": "stream",
     "text": [
      "Fitting 5 folds for each of 1 candidates, totalling 5 fits\n",
      "[CV 1/5] END feature_selection__max_features=20;, score=(train=-0.754, test=-1.992) total time= 1.8min\n",
      "[CV 2/5] END feature_selection__max_features=20;, score=(train=-0.756, test=-1.996) total time= 1.8min\n",
      "[CV 3/5] END feature_selection__max_features=20;, score=(train=-0.765, test=-1.914) total time= 1.8min\n",
      "[CV 4/5] END feature_selection__max_features=20;, score=(train=-0.762, test=-1.951) total time= 1.8min\n",
      "[CV 5/5] END feature_selection__max_features=20;, score=(train=-0.761, test=-1.976) total time= 1.8min\n"
     ]
    },
    {
     "data": {
      "text/plain": [
       "GridSearchCV(cv=KFold(n_splits=5, random_state=13, shuffle=True),\n",
       "             estimator=Pipeline(steps=[('preprocessing',\n",
       "                                        ColumnTransformer(transformers=[('lst',\n",
       "                                                                         Pipeline(steps=[('log1p',\n",
       "                                                                                          FunctionTransformer(func=<ufunc 'log1p'>)),\n",
       "                                                                                         ('std',\n",
       "                                                                                          StandardScaler())]),\n",
       "                                                                         [40]),\n",
       "                                                                        ('mlt',\n",
       "                                                                         Pipeline(steps=[('minmax',\n",
       "                                                                                          MinMaxScaler()),\n",
       "                                                                                         ('log1p',\n",
       "                                                                                          FunctionTransformer(func=<ufunc 'log1p'>)),\n",
       "                                                                                         ('std...\n",
       "                                                                          23,\n",
       "                                                                          24,\n",
       "                                                                          25,\n",
       "                                                                          26,\n",
       "                                                                          27,\n",
       "                                                                          28,\n",
       "                                                                          29, ...])])),\n",
       "                                       ('feature_selection',\n",
       "                                        SelectFromModel(estimator=RandomForestRegressor(n_estimators=200,\n",
       "                                                                                        n_jobs=-1))),\n",
       "                                       ('regression',\n",
       "                                        RandomForestRegressor(max_depth=30,\n",
       "                                                              n_estimators=200,\n",
       "                                                              n_jobs=-1))]),\n",
       "             param_grid=[{'feature_selection__max_features': [20]}],\n",
       "             return_train_score=True,\n",
       "             scoring=make_scorer(lg_nrmse, greater_is_better=False), verbose=3)"
      ]
     },
     "execution_count": 30,
     "metadata": {},
     "output_type": "execute_result"
    }
   ],
   "source": [
    "# log1p -> StandardScaler 파이프라인\n",
    "log_std_transformer = Pipeline(\n",
    "        steps=[\n",
    "            (\"log1p\", FunctionTransformer(np.log1p))\n",
    "          , (\"std\", StandardScaler())]\n",
    "    )\n",
    "\n",
    "# MinMax -> log1p -> StandardScaler 파이프라인\n",
    "min_log_transformer = Pipeline(\n",
    "        steps=[(\"minmax\", MinMaxScaler())\n",
    "        , (\"log1p\", FunctionTransformer(np.log1p))\n",
    "        , (\"std\", StandardScaler())]\n",
    "    )\n",
    "    \n",
    "preprocessor = ColumnTransformer(\n",
    "      transformers=[\n",
    "          (\"lst\", log_std_transformer, lst_cols),\n",
    "          (\"mlt\", min_log_transformer, mlt_cols),\n",
    "          (\"std\", StandardScaler(), std_cols)\n",
    "      ]\n",
    "    )\n",
    "\n",
    "pipe = Pipeline([\n",
    "    ('preprocessing', preprocessor),\n",
    "    ('feature_selection', SelectFromModel(estimator=RandomForestRegressor(n_estimators=200, n_jobs=-1))),\n",
    "    ('regression', RandomForestRegressor(n_estimators=200, max_depth=30, n_jobs=-1))\n",
    "])\n",
    "\n",
    "hyper_params = [{\n",
    "    'feature_selection__max_features': [20]\n",
    "    }]\n",
    "\n",
    "model_cv = GridSearchCV(pipe, hyper_params, cv=kfold, scoring=make_scorer(lg_nrmse, greater_is_better=False)\n",
    "                        ,return_train_score=True, verbose=3)\n",
    "model_cv.fit(X.values, y.values)                        "
   ]
  },
  {
   "cell_type": "code",
   "execution_count": 31,
   "metadata": {},
   "outputs": [
    {
     "data": {
      "text/plain": [
       "-1.9658873645404438"
      ]
     },
     "execution_count": 31,
     "metadata": {},
     "output_type": "execute_result"
    }
   ],
   "source": [
    "model_cv.best_score_"
   ]
  },
  {
   "cell_type": "code",
   "execution_count": 32,
   "metadata": {},
   "outputs": [],
   "source": [
    "if model_cv.best_score_ > base_score:\n",
    "    print('base_score changed: {}'.format(model_cv.best_score_ - base_score))\n",
    "    base_score = model_cv.best_score_"
   ]
  },
  {
   "cell_type": "code",
   "execution_count": 33,
   "metadata": {},
   "outputs": [
    {
     "data": {
      "text/plain": [
       "(17,\n",
       " Index(['X_01', 'X_07', 'X_08', 'X_12', 'X_13', 'X_14', 'X_22', 'X_24', 'X_25',\n",
       "        'X_26', 'X_50', 'X_51', 'X_52', 'X_53', 'X_54', 'X_55', 'X_56'],\n",
       "       dtype='object'))"
      ]
     },
     "execution_count": 33,
     "metadata": {},
     "output_type": "execute_result"
    }
   ],
   "source": [
    "selector = model_cv.best_estimator_['feature_selection']\n",
    "\n",
    "selected_columns = X.columns\n",
    "selected_columns = selected_columns[selector.get_support()]\n",
    "len(selected_columns), selected_columns"
   ]
  },
  {
   "cell_type": "code",
   "execution_count": 34,
   "metadata": {},
   "outputs": [
    {
     "data": {
      "image/png": "[encoded data removed]",
      "text/plain": [
       "<Figure size 864x432 with 1 Axes>"
      ]
     },
     "metadata": {
      "needs_background": "light"
     },
     "output_type": "display_data"
    }
   ],
   "source": [
    "model = model_cv.best_estimator_['regression']\n",
    "\n",
    "importances = model.feature_importances_\n",
    "std = np.std([tree.feature_importances_ for tree in model.estimators_], axis=0)\n",
    "\n",
    "forest_importances = pd.Series(importances, index=selected_columns)\n",
    "\n",
    "fig, ax = plt.subplots(figsize=(12,6))\n",
    "forest_importances.plot.bar(yerr=std, ax=ax)\n",
    "ax.set_title(\"Feature importances using MDI\")\n",
    "ax.set_ylabel(\"Mean decrease in impurity\")\n",
    "fig.tight_layout()\n"
   ]
  },
  {
   "cell_type": "markdown",
   "metadata": {},
   "source": [
    "## Feature: X_08"
   ]
  },
  {
   "cell_type": "code",
   "execution_count": 38,
   "metadata": {},
   "outputs": [
    {
     "data": {
      "image/png": "[encoded data removed]",
      "text/plain": [
       "<Figure size 864x720 with 4 Axes>"
      ]
     },
     "metadata": {
      "needs_background": "light"
     },
     "output_type": "display_data"
    }
   ],
   "source": [
    "def display_x08_plot(cname):\n",
    "    data = train[[cname]].copy()\n",
    "    \n",
    "    fig, ax = plt.subplots(2, 2, figsize=(12, 10))\n",
    "    # 원본 히스토그램\n",
    "    ss = StandardScaler()\n",
    "    sns.histplot(x=cname, data=data, ax=ax[0][0])\n",
    "\n",
    "    # log1p 스케일러 적용\n",
    "    ft = FunctionTransformer(np.log1p)\n",
    "    data[cname+'_log'] = ft.fit_transform(data[cname])\n",
    "    sns.histplot(x=cname+'_log', data=data, ax=ax[0][1])\n",
    "    sns.boxplot(x=cname+'_log', data=data, ax=ax[1][1])\n",
    "\n",
    "    # 이상치 삭제 후 StandardScaler적용\n",
    "    # split_line = 0.95\n",
    "    # print('Outlier count: {}'.format(data[data[cname+'_log'] > split_line][cname].count()))\n",
    "    # data[cname+'_mms'] = data[data[cname+'_log'] < split_line][cname+'_log']\n",
    "    \n",
    "    data[cname+'_final'] = ft.fit_transform(data[cname+'_log'])\n",
    "    data[cname+'_final'] = ss.fit_transform(data[cname+'_final'].values.reshape(-1, 1))\n",
    "    sns.histplot(x=cname+'_final', data=data, ax=ax[1][0])\n",
    "\n",
    "    plt.show()\n",
    "\n",
    "display_x08_plot('X_08')"
   ]
  },
  {
   "cell_type": "code",
   "execution_count": null,
   "metadata": {},
   "outputs": [],
   "source": [
    "train = raw_data['train'].drop(columns=['X_04', 'X_23', 'X_47', 'X_48', 'X_02', 'X_10', 'X_11', 'X_46']).copy()\n",
    "\n",
    "outlier_index = []\n",
    "outlier_index.extend(minmax_outlier_index(cname='X_38', weight=0.2))\n",
    "outlier_index.extend(minmax_outlier_index(cname='X_39', weight=0.8))\n",
    "train = train.drop(outlier_index, axis=0).copy()"
   ]
  },
  {
   "cell_type": "code",
   "execution_count": 39,
   "metadata": {},
   "outputs": [
    {
     "data": {
      "text/plain": [
       "(48, 44, 2, 2)"
      ]
     },
     "execution_count": 39,
     "metadata": {},
     "output_type": "execute_result"
    }
   ],
   "source": [
    "X = train.filter(regex='X')\n",
    "y = train.filter(regex='Y')\n",
    "\n",
    "lst_cols = []\n",
    "lst_cols.append(column_index(X, 'X_08'))\n",
    "lst_cols.append(column_index(X, 'X_49'))\n",
    "\n",
    "mlt_cols = []\n",
    "mlt_cols.append(column_index(X, 'X_38'))\n",
    "mlt_cols.append(column_index(X, 'X_39'))\n",
    "\n",
    "std_cols = set(X.columns) - set(['X_08', 'X_49']) - set(['X_38', 'X_39'])\n",
    "std_cols = [column_index(X, v) for v in sorted(std_cols)]\n",
    "len(X.columns), len(std_cols), len(lst_cols), len(mlt_cols)"
   ]
  },
  {
   "cell_type": "code",
   "execution_count": 40,
   "metadata": {},
   "outputs": [
    {
     "name": "stdout",
     "output_type": "stream",
     "text": [
      "Fitting 5 folds for each of 1 candidates, totalling 5 fits\n",
      "[CV 1/5] END feature_selection__max_features=20;, score=(train=-0.757, test=-1.987) total time= 1.9min\n",
      "[CV 2/5] END feature_selection__max_features=20;, score=(train=-0.758, test=-1.996) total time= 1.8min\n",
      "[CV 3/5] END feature_selection__max_features=20;, score=(train=-0.764, test=-1.916) total time= 1.8min\n",
      "[CV 4/5] END feature_selection__max_features=20;, score=(train=-0.763, test=-1.951) total time= 1.8min\n",
      "[CV 5/5] END feature_selection__max_features=20;, score=(train=-0.761, test=-1.976) total time= 1.8min\n"
     ]
    },
    {
     "data": {
      "text/plain": [
       "GridSearchCV(cv=KFold(n_splits=5, random_state=13, shuffle=True),\n",
       "             estimator=Pipeline(steps=[('preprocessing',\n",
       "                                        ColumnTransformer(transformers=[('lst',\n",
       "                                                                         Pipeline(steps=[('log1p',\n",
       "                                                                                          FunctionTransformer(func=<ufunc 'log1p'>)),\n",
       "                                                                                         ('std',\n",
       "                                                                                          StandardScaler())]),\n",
       "                                                                         [5,\n",
       "                                                                          40]),\n",
       "                                                                        ('mlt',\n",
       "                                                                         Pipeline(steps=[('minmax',\n",
       "                                                                                          MinMaxScaler()),\n",
       "                                                                                         ('log1p',\n",
       "                                                                                          FunctionTransformer(func=<ufunc 'log1p'>)),\n",
       "                                                                                         ('s...\n",
       "                                                                          24,\n",
       "                                                                          25,\n",
       "                                                                          26,\n",
       "                                                                          27,\n",
       "                                                                          28,\n",
       "                                                                          29,\n",
       "                                                                          30, ...])])),\n",
       "                                       ('feature_selection',\n",
       "                                        SelectFromModel(estimator=RandomForestRegressor(n_estimators=200,\n",
       "                                                                                        n_jobs=-1))),\n",
       "                                       ('regression',\n",
       "                                        RandomForestRegressor(max_depth=30,\n",
       "                                                              n_estimators=200,\n",
       "                                                              n_jobs=-1))]),\n",
       "             param_grid=[{'feature_selection__max_features': [20]}],\n",
       "             return_train_score=True,\n",
       "             scoring=make_scorer(lg_nrmse, greater_is_better=False), verbose=3)"
      ]
     },
     "execution_count": 40,
     "metadata": {},
     "output_type": "execute_result"
    }
   ],
   "source": [
    "# log1p -> StandardScaler 파이프라인\n",
    "log_std_transformer = Pipeline(\n",
    "        steps=[\n",
    "            (\"log1p\", FunctionTransformer(np.log1p))\n",
    "          , (\"std\", StandardScaler())]\n",
    "    )\n",
    "\n",
    "# MinMax -> log1p -> StandardScaler 파이프라인\n",
    "min_log_transformer = Pipeline(\n",
    "        steps=[(\"minmax\", MinMaxScaler())\n",
    "        , (\"log1p\", FunctionTransformer(np.log1p))\n",
    "        , (\"std\", StandardScaler())]\n",
    "    )\n",
    "    \n",
    "preprocessor = ColumnTransformer(\n",
    "      transformers=[\n",
    "          (\"lst\", log_std_transformer, lst_cols),\n",
    "          (\"mlt\", min_log_transformer, mlt_cols),\n",
    "          (\"std\", StandardScaler(), std_cols)\n",
    "      ]\n",
    "    )\n",
    "\n",
    "pipe = Pipeline([\n",
    "    ('preprocessing', preprocessor),\n",
    "    ('feature_selection', SelectFromModel(estimator=RandomForestRegressor(n_estimators=200, n_jobs=-1))),\n",
    "    ('regression', RandomForestRegressor(n_estimators=200, max_depth=30, n_jobs=-1))\n",
    "])\n",
    "\n",
    "hyper_params = [{\n",
    "    'feature_selection__max_features': [20]\n",
    "    }]\n",
    "\n",
    "model_cv = GridSearchCV(pipe, hyper_params, cv=kfold, scoring=make_scorer(lg_nrmse, greater_is_better=False)\n",
    "                        , verbose=3)\n",
    "model_cv.fit(X.values, y.values)                        "
   ]
  },
  {
   "cell_type": "code",
   "execution_count": 41,
   "metadata": {},
   "outputs": [
    {
     "data": {
      "text/plain": [
       "-1.9651780402412726"
      ]
     },
     "execution_count": 41,
     "metadata": {},
     "output_type": "execute_result"
    }
   ],
   "source": [
    "model_cv.best_score_"
   ]
  },
  {
   "cell_type": "code",
   "execution_count": 42,
   "metadata": {},
   "outputs": [],
   "source": [
    "if model_cv.best_score_ > base_score:\n",
    "    print('base_score changed: {}'.format(model_cv.best_score_ - base_score))\n",
    "    base_score = model_cv.best_score_"
   ]
  },
  {
   "cell_type": "code",
   "execution_count": 43,
   "metadata": {},
   "outputs": [
    {
     "data": {
      "text/plain": [
       "(18,\n",
       " Index(['X_01', 'X_03', 'X_08', 'X_09', 'X_13', 'X_14', 'X_22', 'X_24', 'X_25',\n",
       "        'X_26', 'X_40', 'X_50', 'X_51', 'X_52', 'X_53', 'X_54', 'X_55', 'X_56'],\n",
       "       dtype='object'))"
      ]
     },
     "execution_count": 43,
     "metadata": {},
     "output_type": "execute_result"
    }
   ],
   "source": [
    "selector = model_cv.best_estimator_['feature_selection']\n",
    "\n",
    "selected_columns = X.columns\n",
    "selected_columns = selected_columns[selector.get_support()]\n",
    "len(selected_columns), selected_columns"
   ]
  },
  {
   "cell_type": "code",
   "execution_count": 44,
   "metadata": {},
   "outputs": [
    {
     "data": {
      "image/png": "[encoded data removed]",
      "text/plain": [
       "<Figure size 864x432 with 1 Axes>"
      ]
     },
     "metadata": {
      "needs_background": "light"
     },
     "output_type": "display_data"
    }
   ],
   "source": [
    "model = model_cv.best_estimator_['regression']\n",
    "\n",
    "importances = model.feature_importances_\n",
    "std = np.std([tree.feature_importances_ for tree in model.estimators_], axis=0)\n",
    "\n",
    "forest_importances = pd.Series(importances, index=selected_columns)\n",
    "\n",
    "fig, ax = plt.subplots(figsize=(12,6))\n",
    "forest_importances.plot.bar(yerr=std, ax=ax)\n",
    "ax.set_title(\"Feature importances using MDI\")\n",
    "ax.set_ylabel(\"Mean decrease in impurity\")\n",
    "fig.tight_layout()\n"
   ]
  },
  {
   "cell_type": "code",
   "execution_count": 27,
   "metadata": {},
   "outputs": [],
   "source": [
    "def get_outlier(df=None, column=None, weight=1.5, status='Error'):\n",
    "    fraud = df[df['Status'] == status][column]\n",
    "    quantile_25 = np.percentile(fraud.values, 25)\n",
    "    quantile_75 = np.percentile(fraud.values, 75)\n",
    "\n",
    "    iqr = quantile_75 - quantile_25\n",
    "    iqr_weight = iqr * weight\n",
    "    lowest_val = quantile_25 - iqr_weight\n",
    "    highest_val = quantile_75 + iqr_weight\n",
    "\n",
    "    outlier_index = fraud[(fraud < lowest_val) | (fraud > highest_val)].index\n",
    "\n",
    "    return outlier_index\n",
    "\n",
    "def remove_outlier(df, columns, status, weight, max_limit=40000):\n",
    "    outlier_list = []\n",
    "\n",
    "    for colname in columns: \n",
    "        outlier = get_outlier(df, colname, weight=weight, status=status)\n",
    "        if len(outlier) > max_limit:\n",
    "            continue\n",
    "        outlier_list.extend(outlier)\n",
    "\n",
    "    result = df.drop(outlier_list, axis=0).copy()\n",
    "\n",
    "    return result"
   ]
  },
  {
   "cell_type": "markdown",
   "metadata": {},
   "source": [
    "# 학습하기"
   ]
  },
  {
   "cell_type": "code",
   "execution_count": 82,
   "metadata": {},
   "outputs": [],
   "source": [
    "from sklearn.preprocessing import MinMaxScaler\n",
    "from sklearn.preprocessing import MaxAbsScaler\n",
    "from sklearn.preprocessing import StandardScaler\n",
    "from sklearn.preprocessing import RobustScaler\n",
    "from sklearn.preprocessing import Normalizer\n",
    "from sklearn.preprocessing import QuantileTransformer\n",
    "from sklearn.preprocessing import PowerTransformer\n",
    "\n",
    "scaler_list = [\n",
    "    ('Unscaled', None),\n",
    "    ('Standard', StandardScaler()),\n",
    "    ('Min-Max', MinMaxScaler()),\n",
    "    ('Min-Abs', MaxAbsScaler()),\n",
    "    ('Robust', RobustScaler(quantile_range=(25, 75))),\n",
    "    ('uniform pdf', QuantileTransformer(output_distribution=\"uniform\")),\n",
    "    ('gaussian pdf', QuantileTransformer(output_distribution=\"normal\")),\n",
    "    ('L2 normalizing', Normalizer())\n",
    "]"
   ]
  },
  {
   "cell_type": "code",
   "execution_count": 83,
   "metadata": {},
   "outputs": [],
   "source": [
    "import time\n",
    "from sklearn.model_selection import train_test_split\n",
    "from sklearn.pipeline import make_pipeline\n",
    "from sklearn.ensemble import RandomForestRegressor\n",
    "from sklearn.model_selection import KFold\n",
    "\n",
    "def run_train(scaler=None):\n",
    "\n",
    "  kf = KFold(shuffle=True, random_state=13)\n",
    "  loss = []\n",
    "  \n",
    "  # 데이터 나누기\n",
    "  X, y = train.filter(regex='X').values, train.filter(regex='Y').values\n",
    "  for train_index, test_index in kf.split(X):\n",
    "    since = time.time()\n",
    "    X_train, X_test = X[train_index], X[test_index]\n",
    "    y_train, y_test = y[train_index], y[test_index]\n",
    "\n",
    "    # 파이프라인 작성\n",
    "    pipe = make_pipeline( \n",
    "      scaler[1], \n",
    "      RandomForestRegressor(criterion=\"squared_error\", random_state=13, n_jobs=-1, n_estimators=200)\n",
    "    )\n",
    "\n",
    "    # 학습하기\n",
    "    pipe.fit(X_train, y_train)\n",
    "\n",
    "    # 검증하기\n",
    "    y_pred = pipe.predict(X_test)\n",
    "\n",
    "    # 평가 및 기록\n",
    "    elapsed = time.time() - since\n",
    "    result = lg_nrmse(y_test, y_pred)\n",
    "    print(\"Loss: {:.4f}, Elapsed Time: {:.2f}\".format(result, elapsed))\n",
    "    loss.append(result)\n",
    "  print(\"{}, Best: {:.4f}, Avg:{:.4f}\".format(scaler[0], min(loss), np.mean(loss)))\n",
    "\n",
    "  return pipe[1], result"
   ]
  },
  {
   "cell_type": "code",
   "execution_count": 86,
   "metadata": {},
   "outputs": [],
   "source": [
    "best_loss = 15\n",
    "\n",
    "for scaler in scaler_list:\n",
    "    model, result = run_train(scaler=scaler)\n",
    "    if result < best_loss:\n",
    "        best_loss = result\n",
    "        best_model = model"
   ]
  },
  {
   "cell_type": "markdown",
   "metadata": {},
   "source": [
    "# 결과파일 작성"
   ]
  },
  {
   "cell_type": "code",
   "execution_count": null,
   "metadata": {},
   "outputs": [
    {
     "name": "stdout",
     "output_type": "stream",
     "text": [
      "Done.\n",
      "Done.\n",
      "Done.\n"
     ]
    }
   ],
   "source": [
    "def make_summit(model):\n",
    "  test = raw_data['test'].drop(columns=['ID']).copy()\n",
    "\n",
    "  test = apply_scaler(test)\n",
    "\n",
    "  preds = model.predict(test)\n",
    "  print('Done.')\n",
    "\n",
    "  submit = raw_data['sample_submission'].copy()\n",
    "  for idx, col in enumerate(submit.columns):\n",
    "    if col=='ID':\n",
    "        continue\n",
    "    submit[col] = preds[:,idx-1]\n",
    "  print('Done.')\n",
    "\n",
    "  submit.to_csv('/content/submit.csv', index=False)\n",
    "  print('Done.')\n",
    "\n",
    "make_summit(best_model)"
   ]
  }
 ],
 "metadata": {
  "kernelspec": {
   "display_name": "Python 3.9.12 ('base')",
   "language": "python",
   "name": "python3"
  },
  "language_info": {
   "codemirror_mode": {
    "name": "ipython",
    "version": 3
   },
   "file_extension": ".py",
   "mimetype": "text/x-python",
   "name": "python",
   "nbconvert_exporter": "python",
   "pygments_lexer": "ipython3",
   "version": "3.9.12"
  },
  "orig_nbformat": 4,
  "vscode": {
   "interpreter": {
    "hash": "d4d1e4263499bec80672ea0156c357c1ee493ec2b1c70f0acce89fc37c4a6abe"
   }
  }
 },
 "nbformat": 4,
 "nbformat_minor": 2
}
